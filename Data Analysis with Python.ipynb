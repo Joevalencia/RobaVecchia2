{
 "cells": [
  {
   "cell_type": "code",
   "execution_count": null,
   "metadata": {},
   "outputs": [],
   "source": []
  },
  {
   "cell_type": "code",
   "execution_count": 2,
   "metadata": {},
   "outputs": [
    {
     "data": {
      "text/html": [
       "        <script type=\"text/javascript\">\n",
       "        window.PlotlyConfig = {MathJaxConfig: 'local'};\n",
       "        if (window.MathJax) {MathJax.Hub.Config({SVG: {font: \"STIX-Web\"}});}\n",
       "        if (typeof require !== 'undefined') {\n",
       "        require.undef(\"plotly\");\n",
       "        requirejs.config({\n",
       "            paths: {\n",
       "                'plotly': ['https://cdn.plot.ly/plotly-latest.min']\n",
       "            }\n",
       "        });\n",
       "        require(['plotly'], function(Plotly) {\n",
       "            window._Plotly = Plotly;\n",
       "        });\n",
       "        }\n",
       "        </script>\n",
       "        "
      ]
     },
     "metadata": {},
     "output_type": "display_data"
    }
   ],
   "source": [
    "import pandas as pd\n",
    "import numpy as np\n",
    "import matplotlib.pyplot as plt\n",
    "import plotly.express as px\n",
    "import plotly\n",
    "plotly.offline.init_notebook_mode(connected=True)"
   ]
  },
  {
   "cell_type": "code",
   "execution_count": 33,
   "metadata": {},
   "outputs": [],
   "source": [
    "\n",
    "file1 = r'C:\\Users\\Josè Valencia\\Desktop\\varie\\Barcelona Master\\life\\Catalunya\\barcelona2018.csv'\n",
    "\n",
    "file2 = r'C:\\Users\\Josè Valencia\\Desktop\\varie\\Barcelona Master\\life\\Catalunya\\bcn2018edad.csv'"
   ]
  },
  {
   "cell_type": "code",
   "execution_count": 34,
   "metadata": {},
   "outputs": [],
   "source": [
    "d1, d2 = pd.read_csv(file1), pd.read_csv(file2)\n"
   ]
  },
  {
   "cell_type": "code",
   "execution_count": 35,
   "metadata": {},
   "outputs": [
    {
     "data": {
      "text/html": [
       "<div>\n",
       "<style scoped>\n",
       "    .dataframe tbody tr th:only-of-type {\n",
       "        vertical-align: middle;\n",
       "    }\n",
       "\n",
       "    .dataframe tbody tr th {\n",
       "        vertical-align: top;\n",
       "    }\n",
       "\n",
       "    .dataframe thead th {\n",
       "        text-align: right;\n",
       "    }\n",
       "</style>\n",
       "<table border=\"1\" class=\"dataframe\">\n",
       "  <thead>\n",
       "    <tr style=\"text-align: right;\">\n",
       "      <th></th>\n",
       "      <th>Any</th>\n",
       "      <th>Codi_Districte</th>\n",
       "      <th>Nom_Districte</th>\n",
       "      <th>Codi_Barri</th>\n",
       "      <th>Nom_Barri</th>\n",
       "      <th>Moviment</th>\n",
       "      <th>Nacionalitat</th>\n",
       "      <th>Nombre</th>\n",
       "    </tr>\n",
       "  </thead>\n",
       "  <tbody>\n",
       "    <tr>\n",
       "      <th>0</th>\n",
       "      <td>2018</td>\n",
       "      <td>1</td>\n",
       "      <td>Ciutat Vella</td>\n",
       "      <td>1</td>\n",
       "      <td>el Raval</td>\n",
       "      <td>Alta</td>\n",
       "      <td>Espanyols</td>\n",
       "      <td>1223</td>\n",
       "    </tr>\n",
       "    <tr>\n",
       "      <th>1</th>\n",
       "      <td>2018</td>\n",
       "      <td>1</td>\n",
       "      <td>Ciutat Vella</td>\n",
       "      <td>2</td>\n",
       "      <td>el Barri Gòtic</td>\n",
       "      <td>Alta</td>\n",
       "      <td>Espanyols</td>\n",
       "      <td>407</td>\n",
       "    </tr>\n",
       "    <tr>\n",
       "      <th>2</th>\n",
       "      <td>2018</td>\n",
       "      <td>1</td>\n",
       "      <td>Ciutat Vella</td>\n",
       "      <td>3</td>\n",
       "      <td>la Barceloneta</td>\n",
       "      <td>Alta</td>\n",
       "      <td>Espanyols</td>\n",
       "      <td>440</td>\n",
       "    </tr>\n",
       "    <tr>\n",
       "      <th>3</th>\n",
       "      <td>2018</td>\n",
       "      <td>1</td>\n",
       "      <td>Ciutat Vella</td>\n",
       "      <td>4</td>\n",
       "      <td>Sant Pere, Santa Caterina i la Ribera</td>\n",
       "      <td>Alta</td>\n",
       "      <td>Espanyols</td>\n",
       "      <td>568</td>\n",
       "    </tr>\n",
       "    <tr>\n",
       "      <th>4</th>\n",
       "      <td>2018</td>\n",
       "      <td>2</td>\n",
       "      <td>Eixample</td>\n",
       "      <td>5</td>\n",
       "      <td>el Fort Pienc</td>\n",
       "      <td>Alta</td>\n",
       "      <td>Espanyols</td>\n",
       "      <td>850</td>\n",
       "    </tr>\n",
       "  </tbody>\n",
       "</table>\n",
       "</div>"
      ],
      "text/plain": [
       "    Any  Codi_Districte Nom_Districte  Codi_Barri  \\\n",
       "0  2018               1  Ciutat Vella           1   \n",
       "1  2018               1  Ciutat Vella           2   \n",
       "2  2018               1  Ciutat Vella           3   \n",
       "3  2018               1  Ciutat Vella           4   \n",
       "4  2018               2      Eixample           5   \n",
       "\n",
       "                               Nom_Barri Moviment Nacionalitat  Nombre  \n",
       "0                               el Raval     Alta    Espanyols    1223  \n",
       "1                         el Barri Gòtic     Alta    Espanyols     407  \n",
       "2                         la Barceloneta     Alta    Espanyols     440  \n",
       "3  Sant Pere, Santa Caterina i la Ribera     Alta    Espanyols     568  \n",
       "4                          el Fort Pienc     Alta    Espanyols     850  "
      ]
     },
     "execution_count": 35,
     "metadata": {},
     "output_type": "execute_result"
    }
   ],
   "source": [
    "d1.head()"
   ]
  },
  {
   "cell_type": "code",
   "execution_count": 37,
   "metadata": {},
   "outputs": [
    {
     "data": {
      "text/html": [
       "<div>\n",
       "<style scoped>\n",
       "    .dataframe tbody tr th:only-of-type {\n",
       "        vertical-align: middle;\n",
       "    }\n",
       "\n",
       "    .dataframe tbody tr th {\n",
       "        vertical-align: top;\n",
       "    }\n",
       "\n",
       "    .dataframe thead th {\n",
       "        text-align: right;\n",
       "    }\n",
       "</style>\n",
       "<table border=\"1\" class=\"dataframe\">\n",
       "  <thead>\n",
       "    <tr style=\"text-align: right;\">\n",
       "      <th></th>\n",
       "      <th>Any</th>\n",
       "      <th>Codi_Districte</th>\n",
       "      <th>Nom_Districte</th>\n",
       "      <th>Codi_Barri</th>\n",
       "      <th>Nom_Barri</th>\n",
       "      <th>Sexe</th>\n",
       "      <th>Barri</th>\n",
       "      <th>Edat_mitjana</th>\n",
       "    </tr>\n",
       "  </thead>\n",
       "  <tbody>\n",
       "    <tr>\n",
       "      <th>0</th>\n",
       "      <td>2018</td>\n",
       "      <td>1</td>\n",
       "      <td>Ciutat Vella</td>\n",
       "      <td>1</td>\n",
       "      <td>el Raval</td>\n",
       "      <td>Home</td>\n",
       "      <td>Barri d'alta</td>\n",
       "      <td>32.5</td>\n",
       "    </tr>\n",
       "    <tr>\n",
       "      <th>1</th>\n",
       "      <td>2018</td>\n",
       "      <td>1</td>\n",
       "      <td>Ciutat Vella</td>\n",
       "      <td>2</td>\n",
       "      <td>el Barri Gòtic</td>\n",
       "      <td>Home</td>\n",
       "      <td>Barri d'alta</td>\n",
       "      <td>33.7</td>\n",
       "    </tr>\n",
       "    <tr>\n",
       "      <th>2</th>\n",
       "      <td>2018</td>\n",
       "      <td>1</td>\n",
       "      <td>Ciutat Vella</td>\n",
       "      <td>3</td>\n",
       "      <td>la Barceloneta</td>\n",
       "      <td>Home</td>\n",
       "      <td>Barri d'alta</td>\n",
       "      <td>34.1</td>\n",
       "    </tr>\n",
       "    <tr>\n",
       "      <th>3</th>\n",
       "      <td>2018</td>\n",
       "      <td>1</td>\n",
       "      <td>Ciutat Vella</td>\n",
       "      <td>4</td>\n",
       "      <td>Sant Pere, Santa Caterina i la Ribera</td>\n",
       "      <td>Home</td>\n",
       "      <td>Barri d'alta</td>\n",
       "      <td>32.9</td>\n",
       "    </tr>\n",
       "    <tr>\n",
       "      <th>4</th>\n",
       "      <td>2018</td>\n",
       "      <td>2</td>\n",
       "      <td>Eixample</td>\n",
       "      <td>5</td>\n",
       "      <td>el Fort Pienc</td>\n",
       "      <td>Home</td>\n",
       "      <td>Barri d'alta</td>\n",
       "      <td>33.3</td>\n",
       "    </tr>\n",
       "  </tbody>\n",
       "</table>\n",
       "</div>"
      ],
      "text/plain": [
       "    Any  Codi_Districte Nom_Districte  Codi_Barri  \\\n",
       "0  2018               1  Ciutat Vella           1   \n",
       "1  2018               1  Ciutat Vella           2   \n",
       "2  2018               1  Ciutat Vella           3   \n",
       "3  2018               1  Ciutat Vella           4   \n",
       "4  2018               2      Eixample           5   \n",
       "\n",
       "                               Nom_Barri  Sexe         Barri  Edat_mitjana  \n",
       "0                               el Raval  Home  Barri d'alta          32.5  \n",
       "1                         el Barri Gòtic  Home  Barri d'alta          33.7  \n",
       "2                         la Barceloneta  Home  Barri d'alta          34.1  \n",
       "3  Sant Pere, Santa Caterina i la Ribera  Home  Barri d'alta          32.9  \n",
       "4                          el Fort Pienc  Home  Barri d'alta          33.3  "
      ]
     },
     "execution_count": 37,
     "metadata": {},
     "output_type": "execute_result"
    }
   ],
   "source": [
    "d2.head()"
   ]
  },
  {
   "cell_type": "code",
   "execution_count": 43,
   "metadata": {},
   "outputs": [],
   "source": [
    "df = d1.drop(['Moviment'], axis=1)"
   ]
  },
  {
   "cell_type": "code",
   "execution_count": 49,
   "metadata": {},
   "outputs": [
    {
     "data": {
      "text/html": [
       "<div>\n",
       "<style scoped>\n",
       "    .dataframe tbody tr th:only-of-type {\n",
       "        vertical-align: middle;\n",
       "    }\n",
       "\n",
       "    .dataframe tbody tr th {\n",
       "        vertical-align: top;\n",
       "    }\n",
       "\n",
       "    .dataframe thead th {\n",
       "        text-align: right;\n",
       "    }\n",
       "</style>\n",
       "<table border=\"1\" class=\"dataframe\">\n",
       "  <thead>\n",
       "    <tr style=\"text-align: right;\">\n",
       "      <th></th>\n",
       "      <th>Any</th>\n",
       "      <th>Codi_Districte</th>\n",
       "      <th>Nom_Districte</th>\n",
       "      <th>Codi_Barri</th>\n",
       "      <th>Nom_Barri</th>\n",
       "      <th>Nacionalitat</th>\n",
       "      <th>Nombre</th>\n",
       "      <th>Edad_mitjana</th>\n",
       "      <th>Sexe</th>\n",
       "    </tr>\n",
       "  </thead>\n",
       "  <tbody>\n",
       "    <tr>\n",
       "      <th>0</th>\n",
       "      <td>2018</td>\n",
       "      <td>1</td>\n",
       "      <td>Ciutat Vella</td>\n",
       "      <td>1</td>\n",
       "      <td>el Raval</td>\n",
       "      <td>Espanyols</td>\n",
       "      <td>1223</td>\n",
       "      <td>32.5</td>\n",
       "      <td>Home</td>\n",
       "    </tr>\n",
       "    <tr>\n",
       "      <th>1</th>\n",
       "      <td>2018</td>\n",
       "      <td>1</td>\n",
       "      <td>Ciutat Vella</td>\n",
       "      <td>2</td>\n",
       "      <td>el Barri Gòtic</td>\n",
       "      <td>Espanyols</td>\n",
       "      <td>407</td>\n",
       "      <td>33.7</td>\n",
       "      <td>Home</td>\n",
       "    </tr>\n",
       "    <tr>\n",
       "      <th>2</th>\n",
       "      <td>2018</td>\n",
       "      <td>1</td>\n",
       "      <td>Ciutat Vella</td>\n",
       "      <td>3</td>\n",
       "      <td>la Barceloneta</td>\n",
       "      <td>Espanyols</td>\n",
       "      <td>440</td>\n",
       "      <td>34.1</td>\n",
       "      <td>Home</td>\n",
       "    </tr>\n",
       "    <tr>\n",
       "      <th>3</th>\n",
       "      <td>2018</td>\n",
       "      <td>1</td>\n",
       "      <td>Ciutat Vella</td>\n",
       "      <td>4</td>\n",
       "      <td>Sant Pere, Santa Caterina i la Ribera</td>\n",
       "      <td>Espanyols</td>\n",
       "      <td>568</td>\n",
       "      <td>32.9</td>\n",
       "      <td>Home</td>\n",
       "    </tr>\n",
       "    <tr>\n",
       "      <th>4</th>\n",
       "      <td>2018</td>\n",
       "      <td>2</td>\n",
       "      <td>Eixample</td>\n",
       "      <td>5</td>\n",
       "      <td>el Fort Pienc</td>\n",
       "      <td>Espanyols</td>\n",
       "      <td>850</td>\n",
       "      <td>33.3</td>\n",
       "      <td>Home</td>\n",
       "    </tr>\n",
       "  </tbody>\n",
       "</table>\n",
       "</div>"
      ],
      "text/plain": [
       "    Any  Codi_Districte Nom_Districte  Codi_Barri  \\\n",
       "0  2018               1  Ciutat Vella           1   \n",
       "1  2018               1  Ciutat Vella           2   \n",
       "2  2018               1  Ciutat Vella           3   \n",
       "3  2018               1  Ciutat Vella           4   \n",
       "4  2018               2      Eixample           5   \n",
       "\n",
       "                               Nom_Barri Nacionalitat  Nombre  Edad_mitjana  \\\n",
       "0                               el Raval    Espanyols    1223          32.5   \n",
       "1                         el Barri Gòtic    Espanyols     407          33.7   \n",
       "2                         la Barceloneta    Espanyols     440          34.1   \n",
       "3  Sant Pere, Santa Caterina i la Ribera    Espanyols     568          32.9   \n",
       "4                          el Fort Pienc    Espanyols     850          33.3   \n",
       "\n",
       "   Sexe  \n",
       "0  Home  \n",
       "1  Home  \n",
       "2  Home  \n",
       "3  Home  \n",
       "4  Home  "
      ]
     },
     "execution_count": 49,
     "metadata": {},
     "output_type": "execute_result"
    }
   ],
   "source": [
    "df.head()"
   ]
  },
  {
   "cell_type": "code",
   "execution_count": null,
   "metadata": {},
   "outputs": [],
   "source": []
  },
  {
   "cell_type": "code",
   "execution_count": 62,
   "metadata": {},
   "outputs": [],
   "source": [
    "file3 = r'C:\\Users\\Josè Valencia\\Desktop\\varie\\Barcelona Master\\life\\Catalunya\\barcelona2017.csv'\n",
    "file4 = r'C:\\Users\\Josè Valencia\\Desktop\\varie\\Barcelona Master\\life\\Catalunya\\bcn2017rent.csv'\n",
    "file5 = r'C:\\Users\\Josè Valencia\\Desktop\\varie\\Barcelona Master\\life\\Catalunya\\bcn2018rent.csv'"
   ]
  },
  {
   "cell_type": "code",
   "execution_count": 63,
   "metadata": {},
   "outputs": [],
   "source": [
    "d3, d4, d5 = pd.read_csv(file3), pd.read_csv(file4), pd.read_csv(file5)"
   ]
  },
  {
   "cell_type": "code",
   "execution_count": 65,
   "metadata": {},
   "outputs": [
    {
     "data": {
      "text/html": [
       "<div>\n",
       "<style scoped>\n",
       "    .dataframe tbody tr th:only-of-type {\n",
       "        vertical-align: middle;\n",
       "    }\n",
       "\n",
       "    .dataframe tbody tr th {\n",
       "        vertical-align: top;\n",
       "    }\n",
       "\n",
       "    .dataframe thead th {\n",
       "        text-align: right;\n",
       "    }\n",
       "</style>\n",
       "<table border=\"1\" class=\"dataframe\">\n",
       "  <thead>\n",
       "    <tr style=\"text-align: right;\">\n",
       "      <th></th>\n",
       "      <th>Any</th>\n",
       "      <th>Trimestre</th>\n",
       "      <th>Codi_Districte</th>\n",
       "      <th>Nom_Districte</th>\n",
       "      <th>Codi_Barri</th>\n",
       "      <th>Nom_Barri</th>\n",
       "      <th>Lloguer_mitja</th>\n",
       "      <th>Preu</th>\n",
       "    </tr>\n",
       "  </thead>\n",
       "  <tbody>\n",
       "    <tr>\n",
       "      <th>0</th>\n",
       "      <td>2018</td>\n",
       "      <td>1</td>\n",
       "      <td>1</td>\n",
       "      <td>Ciutat Vella</td>\n",
       "      <td>1</td>\n",
       "      <td>el Raval</td>\n",
       "      <td>Lloguer mitjà mensual (Euros/mes)</td>\n",
       "      <td>792.74</td>\n",
       "    </tr>\n",
       "    <tr>\n",
       "      <th>1</th>\n",
       "      <td>2018</td>\n",
       "      <td>1</td>\n",
       "      <td>1</td>\n",
       "      <td>Ciutat Vella</td>\n",
       "      <td>2</td>\n",
       "      <td>el Barri Gòtic</td>\n",
       "      <td>Lloguer mitjà mensual (Euros/mes)</td>\n",
       "      <td>998.40</td>\n",
       "    </tr>\n",
       "    <tr>\n",
       "      <th>2</th>\n",
       "      <td>2018</td>\n",
       "      <td>1</td>\n",
       "      <td>1</td>\n",
       "      <td>Ciutat Vella</td>\n",
       "      <td>3</td>\n",
       "      <td>la Barceloneta</td>\n",
       "      <td>Lloguer mitjà mensual (Euros/mes)</td>\n",
       "      <td>870.84</td>\n",
       "    </tr>\n",
       "    <tr>\n",
       "      <th>3</th>\n",
       "      <td>2018</td>\n",
       "      <td>1</td>\n",
       "      <td>1</td>\n",
       "      <td>Ciutat Vella</td>\n",
       "      <td>4</td>\n",
       "      <td>Sant Pere, Santa Caterina i la Ribera</td>\n",
       "      <td>Lloguer mitjà mensual (Euros/mes)</td>\n",
       "      <td>923.44</td>\n",
       "    </tr>\n",
       "    <tr>\n",
       "      <th>4</th>\n",
       "      <td>2018</td>\n",
       "      <td>1</td>\n",
       "      <td>2</td>\n",
       "      <td>Eixample</td>\n",
       "      <td>5</td>\n",
       "      <td>el Fort Pienc</td>\n",
       "      <td>Lloguer mitjà mensual (Euros/mes)</td>\n",
       "      <td>910.53</td>\n",
       "    </tr>\n",
       "  </tbody>\n",
       "</table>\n",
       "</div>"
      ],
      "text/plain": [
       "    Any  Trimestre  Codi_Districte Nom_Districte  Codi_Barri  \\\n",
       "0  2018          1               1  Ciutat Vella           1   \n",
       "1  2018          1               1  Ciutat Vella           2   \n",
       "2  2018          1               1  Ciutat Vella           3   \n",
       "3  2018          1               1  Ciutat Vella           4   \n",
       "4  2018          1               2      Eixample           5   \n",
       "\n",
       "                               Nom_Barri                      Lloguer_mitja  \\\n",
       "0                               el Raval  Lloguer mitjà mensual (Euros/mes)   \n",
       "1                         el Barri Gòtic  Lloguer mitjà mensual (Euros/mes)   \n",
       "2                         la Barceloneta  Lloguer mitjà mensual (Euros/mes)   \n",
       "3  Sant Pere, Santa Caterina i la Ribera  Lloguer mitjà mensual (Euros/mes)   \n",
       "4                          el Fort Pienc  Lloguer mitjà mensual (Euros/mes)   \n",
       "\n",
       "     Preu  \n",
       "0  792.74  \n",
       "1  998.40  \n",
       "2  870.84  \n",
       "3  923.44  \n",
       "4  910.53  "
      ]
     },
     "execution_count": 65,
     "metadata": {},
     "output_type": "execute_result"
    }
   ],
   "source": [
    "d5.head()"
   ]
  },
  {
   "cell_type": "code",
   "execution_count": 60,
   "metadata": {},
   "outputs": [
    {
     "data": {
      "text/plain": [
       "Lloguer mitjà per superfície (Euros/m2 mes)    292\n",
       "Lloguer mitjà mensual (Euros/mes)              292\n",
       "Name: Lloguer_mitja, dtype: int64"
      ]
     },
     "execution_count": 60,
     "metadata": {},
     "output_type": "execute_result"
    }
   ],
   "source": [
    "d4.Lloguer_mitja.value_counts()"
   ]
  },
  {
   "cell_type": "code",
   "execution_count": 68,
   "metadata": {},
   "outputs": [],
   "source": [
    "df['LLoguer_mitja'] = d5.Lloguer_mitja"
   ]
  },
  {
   "cell_type": "code",
   "execution_count": 75,
   "metadata": {},
   "outputs": [],
   "source": [
    "df =df.drop('Nacionalitat', axis=1)"
   ]
  },
  {
   "cell_type": "code",
   "execution_count": 76,
   "metadata": {},
   "outputs": [
    {
     "data": {
      "text/html": [
       "<div>\n",
       "<style scoped>\n",
       "    .dataframe tbody tr th:only-of-type {\n",
       "        vertical-align: middle;\n",
       "    }\n",
       "\n",
       "    .dataframe tbody tr th {\n",
       "        vertical-align: top;\n",
       "    }\n",
       "\n",
       "    .dataframe thead th {\n",
       "        text-align: right;\n",
       "    }\n",
       "</style>\n",
       "<table border=\"1\" class=\"dataframe\">\n",
       "  <thead>\n",
       "    <tr style=\"text-align: right;\">\n",
       "      <th></th>\n",
       "      <th>Any</th>\n",
       "      <th>Codi_Districte</th>\n",
       "      <th>Nom_Districte</th>\n",
       "      <th>Codi_Barri</th>\n",
       "      <th>Nom_Barri</th>\n",
       "      <th>Nombre</th>\n",
       "      <th>Edad_mitjana</th>\n",
       "      <th>Sexe</th>\n",
       "      <th>Preu</th>\n",
       "      <th>LLoguer_mitja</th>\n",
       "    </tr>\n",
       "  </thead>\n",
       "  <tbody>\n",
       "    <tr>\n",
       "      <th>0</th>\n",
       "      <td>2018</td>\n",
       "      <td>1</td>\n",
       "      <td>Ciutat Vella</td>\n",
       "      <td>1</td>\n",
       "      <td>el Raval</td>\n",
       "      <td>1223</td>\n",
       "      <td>32.5</td>\n",
       "      <td>Home</td>\n",
       "      <td>792.74</td>\n",
       "      <td>Lloguer mitjà mensual (Euros/mes)</td>\n",
       "    </tr>\n",
       "    <tr>\n",
       "      <th>1</th>\n",
       "      <td>2018</td>\n",
       "      <td>1</td>\n",
       "      <td>Ciutat Vella</td>\n",
       "      <td>2</td>\n",
       "      <td>el Barri Gòtic</td>\n",
       "      <td>407</td>\n",
       "      <td>33.7</td>\n",
       "      <td>Home</td>\n",
       "      <td>998.40</td>\n",
       "      <td>Lloguer mitjà mensual (Euros/mes)</td>\n",
       "    </tr>\n",
       "    <tr>\n",
       "      <th>2</th>\n",
       "      <td>2018</td>\n",
       "      <td>1</td>\n",
       "      <td>Ciutat Vella</td>\n",
       "      <td>3</td>\n",
       "      <td>la Barceloneta</td>\n",
       "      <td>440</td>\n",
       "      <td>34.1</td>\n",
       "      <td>Home</td>\n",
       "      <td>870.84</td>\n",
       "      <td>Lloguer mitjà mensual (Euros/mes)</td>\n",
       "    </tr>\n",
       "    <tr>\n",
       "      <th>3</th>\n",
       "      <td>2018</td>\n",
       "      <td>1</td>\n",
       "      <td>Ciutat Vella</td>\n",
       "      <td>4</td>\n",
       "      <td>Sant Pere, Santa Caterina i la Ribera</td>\n",
       "      <td>568</td>\n",
       "      <td>32.9</td>\n",
       "      <td>Home</td>\n",
       "      <td>923.44</td>\n",
       "      <td>Lloguer mitjà mensual (Euros/mes)</td>\n",
       "    </tr>\n",
       "    <tr>\n",
       "      <th>4</th>\n",
       "      <td>2018</td>\n",
       "      <td>2</td>\n",
       "      <td>Eixample</td>\n",
       "      <td>5</td>\n",
       "      <td>el Fort Pienc</td>\n",
       "      <td>850</td>\n",
       "      <td>33.3</td>\n",
       "      <td>Home</td>\n",
       "      <td>910.53</td>\n",
       "      <td>Lloguer mitjà mensual (Euros/mes)</td>\n",
       "    </tr>\n",
       "  </tbody>\n",
       "</table>\n",
       "</div>"
      ],
      "text/plain": [
       "    Any  Codi_Districte Nom_Districte  Codi_Barri  \\\n",
       "0  2018               1  Ciutat Vella           1   \n",
       "1  2018               1  Ciutat Vella           2   \n",
       "2  2018               1  Ciutat Vella           3   \n",
       "3  2018               1  Ciutat Vella           4   \n",
       "4  2018               2      Eixample           5   \n",
       "\n",
       "                               Nom_Barri  Nombre  Edad_mitjana  Sexe    Preu  \\\n",
       "0                               el Raval    1223          32.5  Home  792.74   \n",
       "1                         el Barri Gòtic     407          33.7  Home  998.40   \n",
       "2                         la Barceloneta     440          34.1  Home  870.84   \n",
       "3  Sant Pere, Santa Caterina i la Ribera     568          32.9  Home  923.44   \n",
       "4                          el Fort Pienc     850          33.3  Home  910.53   \n",
       "\n",
       "                       LLoguer_mitja  \n",
       "0  Lloguer mitjà mensual (Euros/mes)  \n",
       "1  Lloguer mitjà mensual (Euros/mes)  \n",
       "2  Lloguer mitjà mensual (Euros/mes)  \n",
       "3  Lloguer mitjà mensual (Euros/mes)  \n",
       "4  Lloguer mitjà mensual (Euros/mes)  "
      ]
     },
     "execution_count": 76,
     "metadata": {},
     "output_type": "execute_result"
    }
   ],
   "source": [
    "df.head()"
   ]
  },
  {
   "cell_type": "code",
   "execution_count": 82,
   "metadata": {},
   "outputs": [
    {
     "data": {
      "text/html": [
       "<div>\n",
       "<style scoped>\n",
       "    .dataframe tbody tr th:only-of-type {\n",
       "        vertical-align: middle;\n",
       "    }\n",
       "\n",
       "    .dataframe tbody tr th {\n",
       "        vertical-align: top;\n",
       "    }\n",
       "\n",
       "    .dataframe thead th {\n",
       "        text-align: right;\n",
       "    }\n",
       "</style>\n",
       "<table border=\"1\" class=\"dataframe\">\n",
       "  <thead>\n",
       "    <tr style=\"text-align: right;\">\n",
       "      <th></th>\n",
       "      <th>Any</th>\n",
       "      <th>Codi_Districte</th>\n",
       "      <th>Nom_Districte</th>\n",
       "      <th>Codi_Barri</th>\n",
       "      <th>Nom_Barri</th>\n",
       "      <th>Moviment</th>\n",
       "      <th>Nacionalitat</th>\n",
       "      <th>Nombre</th>\n",
       "    </tr>\n",
       "  </thead>\n",
       "  <tbody>\n",
       "    <tr>\n",
       "      <th>0</th>\n",
       "      <td>2017</td>\n",
       "      <td>1</td>\n",
       "      <td>Ciutat Vella</td>\n",
       "      <td>1</td>\n",
       "      <td>el Raval</td>\n",
       "      <td>alta</td>\n",
       "      <td>Espanyols</td>\n",
       "      <td>1320</td>\n",
       "    </tr>\n",
       "    <tr>\n",
       "      <th>1</th>\n",
       "      <td>2017</td>\n",
       "      <td>1</td>\n",
       "      <td>Ciutat Vella</td>\n",
       "      <td>2</td>\n",
       "      <td>el Barri Gòtic</td>\n",
       "      <td>alta</td>\n",
       "      <td>Espanyols</td>\n",
       "      <td>376</td>\n",
       "    </tr>\n",
       "    <tr>\n",
       "      <th>2</th>\n",
       "      <td>2017</td>\n",
       "      <td>1</td>\n",
       "      <td>Ciutat Vella</td>\n",
       "      <td>3</td>\n",
       "      <td>la Barceloneta</td>\n",
       "      <td>alta</td>\n",
       "      <td>Espanyols</td>\n",
       "      <td>461</td>\n",
       "    </tr>\n",
       "    <tr>\n",
       "      <th>3</th>\n",
       "      <td>2017</td>\n",
       "      <td>1</td>\n",
       "      <td>Ciutat Vella</td>\n",
       "      <td>4</td>\n",
       "      <td>Sant Pere, Santa Caterina i la Ribera</td>\n",
       "      <td>alta</td>\n",
       "      <td>Espanyols</td>\n",
       "      <td>608</td>\n",
       "    </tr>\n",
       "    <tr>\n",
       "      <th>4</th>\n",
       "      <td>2017</td>\n",
       "      <td>2</td>\n",
       "      <td>Eixample</td>\n",
       "      <td>5</td>\n",
       "      <td>el Fort Pienc</td>\n",
       "      <td>alta</td>\n",
       "      <td>Espanyols</td>\n",
       "      <td>883</td>\n",
       "    </tr>\n",
       "  </tbody>\n",
       "</table>\n",
       "</div>"
      ],
      "text/plain": [
       "    Any  Codi_Districte Nom_Districte  Codi_Barri  \\\n",
       "0  2017               1  Ciutat Vella           1   \n",
       "1  2017               1  Ciutat Vella           2   \n",
       "2  2017               1  Ciutat Vella           3   \n",
       "3  2017               1  Ciutat Vella           4   \n",
       "4  2017               2      Eixample           5   \n",
       "\n",
       "                               Nom_Barri Moviment Nacionalitat  Nombre  \n",
       "0                               el Raval     alta    Espanyols    1320  \n",
       "1                         el Barri Gòtic     alta    Espanyols     376  \n",
       "2                         la Barceloneta     alta    Espanyols     461  \n",
       "3  Sant Pere, Santa Caterina i la Ribera     alta    Espanyols     608  \n",
       "4                          el Fort Pienc     alta    Espanyols     883  "
      ]
     },
     "execution_count": 82,
     "metadata": {},
     "output_type": "execute_result"
    }
   ],
   "source": [
    "d3.head()"
   ]
  },
  {
   "cell_type": "code",
   "execution_count": 83,
   "metadata": {},
   "outputs": [
    {
     "data": {
      "text/html": [
       "<div>\n",
       "<style scoped>\n",
       "    .dataframe tbody tr th:only-of-type {\n",
       "        vertical-align: middle;\n",
       "    }\n",
       "\n",
       "    .dataframe tbody tr th {\n",
       "        vertical-align: top;\n",
       "    }\n",
       "\n",
       "    .dataframe thead th {\n",
       "        text-align: right;\n",
       "    }\n",
       "</style>\n",
       "<table border=\"1\" class=\"dataframe\">\n",
       "  <thead>\n",
       "    <tr style=\"text-align: right;\">\n",
       "      <th></th>\n",
       "      <th>Any</th>\n",
       "      <th>Codi_Districte_alta</th>\n",
       "      <th>Nom_Districte_alta</th>\n",
       "      <th>Codi_Barri_alta</th>\n",
       "      <th>Nom_Barri_alta</th>\n",
       "      <th>Sexe_alta</th>\n",
       "      <th>Edat _mitjana_alta</th>\n",
       "      <th>Codi_Districte_baixa</th>\n",
       "      <th>Nom_Districte_baixa</th>\n",
       "      <th>Codi_Barri_baixa</th>\n",
       "      <th>Nom_Barri_baixa</th>\n",
       "      <th>Sexe_baixa</th>\n",
       "      <th>Edat_mitjana_baixa</th>\n",
       "    </tr>\n",
       "  </thead>\n",
       "  <tbody>\n",
       "    <tr>\n",
       "      <th>0</th>\n",
       "      <td>2017</td>\n",
       "      <td>1</td>\n",
       "      <td>Ciutat Vella</td>\n",
       "      <td>1</td>\n",
       "      <td>el Raval</td>\n",
       "      <td>Homes</td>\n",
       "      <td>32.4</td>\n",
       "      <td>1</td>\n",
       "      <td>Ciutat Vella</td>\n",
       "      <td>1</td>\n",
       "      <td>el Raval</td>\n",
       "      <td>Homes</td>\n",
       "      <td>32.7</td>\n",
       "    </tr>\n",
       "    <tr>\n",
       "      <th>1</th>\n",
       "      <td>2017</td>\n",
       "      <td>1</td>\n",
       "      <td>Ciutat Vella</td>\n",
       "      <td>2</td>\n",
       "      <td>el Barri Gòtic</td>\n",
       "      <td>Homes</td>\n",
       "      <td>33.8</td>\n",
       "      <td>1</td>\n",
       "      <td>Ciutat Vella</td>\n",
       "      <td>2</td>\n",
       "      <td>el Barri Gòtic</td>\n",
       "      <td>Homes</td>\n",
       "      <td>33.8</td>\n",
       "    </tr>\n",
       "    <tr>\n",
       "      <th>2</th>\n",
       "      <td>2017</td>\n",
       "      <td>1</td>\n",
       "      <td>Ciutat Vella</td>\n",
       "      <td>3</td>\n",
       "      <td>la Barceloneta</td>\n",
       "      <td>Homes</td>\n",
       "      <td>33.2</td>\n",
       "      <td>1</td>\n",
       "      <td>Ciutat Vella</td>\n",
       "      <td>3</td>\n",
       "      <td>la Barceloneta</td>\n",
       "      <td>Homes</td>\n",
       "      <td>34.3</td>\n",
       "    </tr>\n",
       "    <tr>\n",
       "      <th>3</th>\n",
       "      <td>2017</td>\n",
       "      <td>1</td>\n",
       "      <td>Ciutat Vella</td>\n",
       "      <td>4</td>\n",
       "      <td>Sant Pere, Santa Caterina i la Ribera</td>\n",
       "      <td>Homes</td>\n",
       "      <td>32.4</td>\n",
       "      <td>1</td>\n",
       "      <td>Ciutat Vella</td>\n",
       "      <td>4</td>\n",
       "      <td>Sant Pere, Santa Caterina i la Ribera</td>\n",
       "      <td>Homes</td>\n",
       "      <td>32.8</td>\n",
       "    </tr>\n",
       "    <tr>\n",
       "      <th>4</th>\n",
       "      <td>2017</td>\n",
       "      <td>2</td>\n",
       "      <td>Eixample</td>\n",
       "      <td>5</td>\n",
       "      <td>el Fort Pienc</td>\n",
       "      <td>Homes</td>\n",
       "      <td>33.5</td>\n",
       "      <td>2</td>\n",
       "      <td>Eixample</td>\n",
       "      <td>5</td>\n",
       "      <td>el Fort Pienc</td>\n",
       "      <td>Homes</td>\n",
       "      <td>33.3</td>\n",
       "    </tr>\n",
       "  </tbody>\n",
       "</table>\n",
       "</div>"
      ],
      "text/plain": [
       "    Any  Codi_Districte_alta Nom_Districte_alta  Codi_Barri_alta  \\\n",
       "0  2017                    1       Ciutat Vella                1   \n",
       "1  2017                    1       Ciutat Vella                2   \n",
       "2  2017                    1       Ciutat Vella                3   \n",
       "3  2017                    1       Ciutat Vella                4   \n",
       "4  2017                    2           Eixample                5   \n",
       "\n",
       "                          Nom_Barri_alta Sexe_alta  Edat _mitjana_alta  \\\n",
       "0                               el Raval     Homes                32.4   \n",
       "1                         el Barri Gòtic     Homes                33.8   \n",
       "2                         la Barceloneta     Homes                33.2   \n",
       "3  Sant Pere, Santa Caterina i la Ribera     Homes                32.4   \n",
       "4                          el Fort Pienc     Homes                33.5   \n",
       "\n",
       "   Codi_Districte_baixa Nom_Districte_baixa  Codi_Barri_baixa  \\\n",
       "0                     1        Ciutat Vella                 1   \n",
       "1                     1        Ciutat Vella                 2   \n",
       "2                     1        Ciutat Vella                 3   \n",
       "3                     1        Ciutat Vella                 4   \n",
       "4                     2            Eixample                 5   \n",
       "\n",
       "                         Nom_Barri_baixa Sexe_baixa  Edat_mitjana_baixa  \n",
       "0                               el Raval      Homes                32.7  \n",
       "1                         el Barri Gòtic      Homes                33.8  \n",
       "2                         la Barceloneta      Homes                34.3  \n",
       "3  Sant Pere, Santa Caterina i la Ribera      Homes                32.8  \n",
       "4                          el Fort Pienc      Homes                33.3  "
      ]
     },
     "execution_count": 83,
     "metadata": {},
     "output_type": "execute_result"
    }
   ],
   "source": [
    "file77 = r'C:\\Users\\Josè Valencia\\Desktop\\varie\\Barcelona Master\\life\\Catalunya\\bcn2017edad.csv'\n",
    "edad = pd.read_csv(file77)\n",
    "edad.head()"
   ]
  },
  {
   "cell_type": "code",
   "execution_count": null,
   "metadata": {},
   "outputs": [],
   "source": []
  },
  {
   "cell_type": "code",
   "execution_count": 102,
   "metadata": {},
   "outputs": [
    {
     "data": {
      "application/vnd.plotly.v1+json": {
       "config": {
        "plotlyServerURL": "https://plot.ly"
       },
       "data": [
        {
         "hovertemplate": "Sexe=Home<br>Edad_mitjana=%{x}<br>Preu=%{y}<br>Nombre=%{marker.size}<extra></extra>",
         "legendgroup": "Home",
         "marker": {
          "color": "#636efa",
          "size": [
           1223,
           407,
           440,
           568,
           850,
           1352,
           1289,
           1072,
           1605,
           1117,
           1124,
           31,
           813,
           281,
           551,
           797,
           715,
           1378,
           1548,
           647,
           411,
           180,
           1077,
           705,
           1100,
           1712,
           1133,
           586,
           231,
           477,
           1693,
           978,
           1023,
           342,
           1324,
           351,
           1069,
           387,
           250,
           243,
           163,
           25,
           1032,
           871,
           950,
           644,
           61,
           477,
           166,
           612,
           407,
           928,
           333,
           89,
           332,
           38,
           313,
           90,
           507,
           2204,
           868,
           578,
           629,
           1256,
           796,
           447,
           247,
           991,
           410,
           631,
           719,
           714,
           727,
           3493,
           1376,
           802,
           1102,
           865,
           1319,
           1024,
           1015,
           1396,
           1037,
           1778,
           16,
           559,
           259,
           518,
           357,
           529,
           1020,
           626,
           336,
           146,
           74,
           332,
           169,
           369,
           584,
           460,
           265,
           161,
           263,
           1183,
           731,
           487,
           225,
           748,
           81,
           765,
           251,
           161,
           100,
           56,
           11,
           522,
           553,
           720,
           510,
           30,
           274,
           45,
           543,
           430,
           542,
           234,
           62,
           541,
           27,
           434,
           51,
           312,
           555,
           504,
           323,
           440,
           944,
           467,
           349,
           133,
           771,
           233,
           1103,
           409,
           471,
           494
          ],
          "sizemode": "area",
          "sizeref": 10.945,
          "symbol": "circle"
         },
         "mode": "markers",
         "name": "Home",
         "orientation": "v",
         "showlegend": true,
         "type": "scatter",
         "x": [
          32.5,
          33.7,
          34.1,
          32.9,
          33.3,
          33.2,
          35.9,
          34.4,
          33.2,
          32.9,
          32.9,
          34.9,
          33,
          34.6,
          33.8,
          34,
          32.7,
          33.1,
          34.1,
          33.1,
          31.7,
          36.4,
          32.8,
          32.5,
          33.5,
          32.1,
          33,
          32.2,
          33.4,
          30.2,
          33.7,
          32.4,
          33.7,
          33.1,
          34.3,
          31.2,
          31.6,
          31.1,
          32.8,
          37,
          37.3,
          30.8,
          32.8,
          33.4,
          33.7,
          31.4,
          26.5,
          33.1,
          37.8,
          29.9,
          31,
          32.8,
          31.9,
          29.7,
          28.5,
          36.8,
          31.1,
          30.3,
          32.9,
          32.9,
          32.6,
          33.6,
          33.3,
          34.2,
          32.8,
          35.7,
          33.7,
          33.8,
          34.2,
          31.2,
          32.2,
          35.1,
          30.6,
          32.4,
          35,
          33.9,
          33.4,
          33.6,
          33.3,
          34.3,
          34,
          33.6,
          33.8,
          33,
          32.2,
          31.3,
          32.6,
          32.5,
          34.1,
          33.6,
          33,
          34,
          32.7,
          33.9,
          33,
          31.1,
          32.3,
          32.6,
          33.5,
          32.8,
          32.3,
          32,
          31.7,
          33.8,
          32.9,
          32.4,
          35.7,
          33.3,
          33.4,
          31.4,
          31.8,
          32,
          38,
          32.7,
          35.1,
          33,
          31.8,
          31.8,
          31.4,
          28.3,
          33.1,
          36.7,
          30.6,
          31.9,
          32.8,
          33.8,
          31,
          28.8,
          31.4,
          30.6,
          26.2,
          32.5,
          33,
          33.9,
          34,
          34.6,
          34.3,
          34.7,
          31.2,
          31.6,
          34.8,
          31,
          31.5,
          33.3,
          35.9,
          30.1
         ],
         "xaxis": "x",
         "y": [
          792.74,
          998.4,
          870.84,
          923.44,
          910.53,
          883.75,
          1191.43,
          1069.16,
          947.92,
          899.98,
          783.5,
          null,
          751.65,
          842.32,
          754.83,
          785.79,
          764.41,
          802.64,
          1002.34,
          948.77,
          1799.91,
          895.7,
          1249.23,
          1613.41,
          1247.7,
          1310.42,
          946.65,
          886.27,
          741.23,
          815.62,
          899.65,
          884.55,
          832.63,
          721.46,
          736.8,
          824.12,
          634.75,
          690.81,
          648.1,
          717.78,
          874.2,
          null,
          748.19,
          720.9,
          675.08,
          665.36,
          null,
          685.05,
          714.68,
          605.41,
          624.71,
          634.3,
          592.73,
          null,
          507.16,
          null,
          589.02,
          null,
          658.63,
          744.82,
          734.45,
          754.09,
          790.2,
          785.88,
          774.32,
          916.31,
          1272.26,
          913.29,
          1164.84,
          682.32,
          957.02,
          751.48,
          715.37,
          820.88,
          1024.29,
          923.45,
          991.39,
          942.96,
          893.43,
          1263.08,
          1078.13,
          975.53,
          907.42,
          788.23,
          null,
          719.33,
          834.68,
          801.37,
          757.26,
          755.29,
          811.74,
          1038.73,
          959.26,
          1563.31,
          860.13,
          1332.33,
          1467.07,
          1288.82,
          1328.14,
          972.89,
          939.03,
          716.25,
          883.52,
          913.34,
          885.4,
          817.38,
          737.38,
          758.61,
          756.72,
          637.17,
          682.44,
          646.83,
          716.18,
          864.72,
          null,
          742.51,
          726.89,
          713.94,
          668.16,
          null,
          724.25,
          661.88,
          575.71,
          628.8,
          657.43,
          574.15,
          434.52,
          491.84,
          null,
          598.29,
          null,
          687.55,
          752.66,
          798.39,
          751.16,
          797.8,
          806.97,
          815.82,
          1198.77,
          1288.91,
          960.99,
          1371.14,
          649.17,
          913.66,
          797.54,
          719.55
         ],
         "yaxis": "y"
        },
        {
         "hovertemplate": "Sexe=Dona<br>Edad_mitjana=%{x}<br>Preu=%{y}<br>Nombre=%{marker.size}<extra></extra>",
         "legendgroup": "Dona",
         "marker": {
          "color": "#EF553B",
          "size": [
           1617,
           574,
           538,
           754,
           916,
           1700,
           1586,
           1398,
           1848,
           1245,
           1216,
           26,
           760,
           305,
           574,
           503,
           637,
           1373,
           1442,
           606,
           425,
           172,
           1098,
           670,
           1042,
           1772,
           1168,
           514,
           238,
           445,
           1901,
           1078,
           845,
           286,
           1300,
           320,
           1029,
           370,
           190,
           167,
           130,
           17,
           865,
           835,
           884,
           547,
           68,
           422,
           168,
           550,
           409,
           827,
           246,
           60,
           307,
           39,
           294,
           59,
           496,
           1967,
           877,
           438,
           555,
           1202,
           763,
           390,
           312,
           998,
           383,
           624,
           511,
           713,
           731,
           4378,
           1217,
           854,
           1304,
           939,
           1460,
           1223,
           1204,
           1442,
           1186,
           1843,
           12,
           513,
           245,
           526,
           252,
           461,
           906,
           589,
           354,
           197,
           35,
           302,
           153,
           347,
           622,
           462,
           230,
           144,
           266,
           1302,
           748,
           511,
           166,
           667,
           85,
           656,
           202,
           114,
           75,
           64,
           13,
           449,
           555,
           627,
           480,
           10,
           200,
           26,
           488,
           381,
           627,
           195,
           44,
           472,
           18,
           379,
           21,
           188,
           573,
           449,
           250,
           419,
           984,
           545,
           362,
           151,
           689,
           230,
           887,
           298,
           364,
           445
          ],
          "sizemode": "area",
          "sizeref": 10.945,
          "symbol": "circle"
         },
         "mode": "markers",
         "name": "Dona",
         "orientation": "v",
         "showlegend": true,
         "type": "scatter",
         "x": [
          31.6,
          32.7,
          33.2,
          32.3,
          35.4,
          33.7,
          37.5,
          36,
          34.1,
          35.2,
          32.8,
          32.6,
          34.9,
          38.1,
          33.9,
          34.7,
          34.6,
          34,
          35,
          34.3,
          34.3,
          36.4,
          37.3,
          35.8,
          37.2,
          35,
          34.6,
          35.3,
          34.5,
          35.2,
          34.6,
          33.8,
          38.5,
          32.6,
          34.4,
          35.1,
          32.4,
          31.3,
          35.2,
          41.2,
          43.9,
          43.7,
          35.9,
          34.6,
          33.7,
          33.5,
          29.4,
          34.8,
          39.9,
          31.6,
          32.3,
          34.3,
          33.6,
          33,
          29.7,
          36.7,
          30.5,
          34.3,
          34,
          34.4,
          34.2,
          35,
          33.9,
          36.6,
          36.2,
          36.8,
          36.1,
          35.9,
          35.5,
          30.7,
          35.8,
          34.4,
          32.8,
          32.4,
          33.7,
          33,
          34,
          33.9,
          34.4,
          34.8,
          35.1,
          34.4,
          34.9,
          33.9,
          31.2,
          33.8,
          37,
          34.1,
          37,
          35.6,
          34.3,
          34.8,
          34.9,
          34.8,
          36.2,
          33.6,
          35.3,
          36.2,
          36.2,
          35,
          35.6,
          35.3,
          35.7,
          34.9,
          36.6,
          34.9,
          32.8,
          34.3,
          34.3,
          33,
          34,
          36.3,
          43.3,
          34.7,
          36,
          35.8,
          34.7,
          33.6,
          33.5,
          28,
          36.7,
          42.7,
          32.5,
          34.7,
          34.1,
          31.6,
          28.8,
          30.5,
          30.3,
          31.8,
          35,
          33.6,
          34,
          35.1,
          36.7,
          34.8,
          35.2,
          36,
          34.9,
          33.5,
          35.9,
          31,
          32.1,
          34.7,
          35.2,
          34.1
         ],
         "xaxis": "x",
         "y": [
          849.32,
          1012.49,
          889.24,
          970.97,
          968.85,
          934.89,
          1216.7,
          1136.21,
          1003.89,
          970.26,
          822.04,
          null,
          755.18,
          871.41,
          814.55,
          830.32,
          786.8,
          856.57,
          1077.99,
          1013.28,
          1849.52,
          1102.29,
          1443.71,
          1746.01,
          1322.61,
          1374.32,
          1021.27,
          905.82,
          756.36,
          870.31,
          923.39,
          924.81,
          839.47,
          766.82,
          797.84,
          876.58,
          654.77,
          705.6,
          660.93,
          763.82,
          822.31,
          null,
          754.53,
          742.82,
          712.12,
          682.67,
          null,
          732.86,
          715.45,
          638.14,
          618.91,
          667.72,
          584.73,
          null,
          514.34,
          null,
          597.93,
          null,
          693.69,
          777.06,
          783.09,
          787.78,
          823.74,
          827.45,
          815.1,
          897.67,
          1284.3,
          1006.81,
          818.55,
          699.06,
          928.02,
          803.49,
          767.1,
          827.27,
          1057.26,
          913.2,
          1000.52,
          983.1,
          930.02,
          1340.38,
          1164.32,
          1017.56,
          960.3,
          813.74,
          null,
          778.52,
          810.24,
          811,
          825.36,
          831.19,
          834.64,
          1031.46,
          960.03,
          1615.31,
          898.33,
          1422.8,
          1567.91,
          1283.24,
          1374.82,
          1031.54,
          971.51,
          748.9,
          930.09,
          927.06,
          945.81,
          827.04,
          727.05,
          796.35,
          840.52,
          653.21,
          721.23,
          666.91,
          750.95,
          876.65,
          null,
          745.35,
          782.95,
          723.34,
          692.05,
          null,
          708.41,
          774.38,
          595.81,
          649.22,
          698.08,
          575.38,
          null,
          514.52,
          null,
          564.56,
          673.69,
          696.06,
          782.15,
          798.32,
          804.74,
          840.01,
          851.58,
          835.55,
          938.59,
          1292.23,
          970.64,
          1307.79,
          711.67,
          999.63,
          823.46,
          756.1
         ],
         "yaxis": "y"
        }
       ],
       "layout": {
        "legend": {
         "itemsizing": "constant",
         "title": {
          "text": "Sexe"
         },
         "tracegroupgap": 0
        },
        "margin": {
         "t": 60
        },
        "template": {
         "data": {
          "bar": [
           {
            "error_x": {
             "color": "#2a3f5f"
            },
            "error_y": {
             "color": "#2a3f5f"
            },
            "marker": {
             "line": {
              "color": "#E5ECF6",
              "width": 0.5
             }
            },
            "type": "bar"
           }
          ],
          "barpolar": [
           {
            "marker": {
             "line": {
              "color": "#E5ECF6",
              "width": 0.5
             }
            },
            "type": "barpolar"
           }
          ],
          "carpet": [
           {
            "aaxis": {
             "endlinecolor": "#2a3f5f",
             "gridcolor": "white",
             "linecolor": "white",
             "minorgridcolor": "white",
             "startlinecolor": "#2a3f5f"
            },
            "baxis": {
             "endlinecolor": "#2a3f5f",
             "gridcolor": "white",
             "linecolor": "white",
             "minorgridcolor": "white",
             "startlinecolor": "#2a3f5f"
            },
            "type": "carpet"
           }
          ],
          "choropleth": [
           {
            "colorbar": {
             "outlinewidth": 0,
             "ticks": ""
            },
            "type": "choropleth"
           }
          ],
          "contour": [
           {
            "colorbar": {
             "outlinewidth": 0,
             "ticks": ""
            },
            "colorscale": [
             [
              0,
              "#0d0887"
             ],
             [
              0.1111111111111111,
              "#46039f"
             ],
             [
              0.2222222222222222,
              "#7201a8"
             ],
             [
              0.3333333333333333,
              "#9c179e"
             ],
             [
              0.4444444444444444,
              "#bd3786"
             ],
             [
              0.5555555555555556,
              "#d8576b"
             ],
             [
              0.6666666666666666,
              "#ed7953"
             ],
             [
              0.7777777777777778,
              "#fb9f3a"
             ],
             [
              0.8888888888888888,
              "#fdca26"
             ],
             [
              1,
              "#f0f921"
             ]
            ],
            "type": "contour"
           }
          ],
          "contourcarpet": [
           {
            "colorbar": {
             "outlinewidth": 0,
             "ticks": ""
            },
            "type": "contourcarpet"
           }
          ],
          "heatmap": [
           {
            "colorbar": {
             "outlinewidth": 0,
             "ticks": ""
            },
            "colorscale": [
             [
              0,
              "#0d0887"
             ],
             [
              0.1111111111111111,
              "#46039f"
             ],
             [
              0.2222222222222222,
              "#7201a8"
             ],
             [
              0.3333333333333333,
              "#9c179e"
             ],
             [
              0.4444444444444444,
              "#bd3786"
             ],
             [
              0.5555555555555556,
              "#d8576b"
             ],
             [
              0.6666666666666666,
              "#ed7953"
             ],
             [
              0.7777777777777778,
              "#fb9f3a"
             ],
             [
              0.8888888888888888,
              "#fdca26"
             ],
             [
              1,
              "#f0f921"
             ]
            ],
            "type": "heatmap"
           }
          ],
          "heatmapgl": [
           {
            "colorbar": {
             "outlinewidth": 0,
             "ticks": ""
            },
            "colorscale": [
             [
              0,
              "#0d0887"
             ],
             [
              0.1111111111111111,
              "#46039f"
             ],
             [
              0.2222222222222222,
              "#7201a8"
             ],
             [
              0.3333333333333333,
              "#9c179e"
             ],
             [
              0.4444444444444444,
              "#bd3786"
             ],
             [
              0.5555555555555556,
              "#d8576b"
             ],
             [
              0.6666666666666666,
              "#ed7953"
             ],
             [
              0.7777777777777778,
              "#fb9f3a"
             ],
             [
              0.8888888888888888,
              "#fdca26"
             ],
             [
              1,
              "#f0f921"
             ]
            ],
            "type": "heatmapgl"
           }
          ],
          "histogram": [
           {
            "marker": {
             "colorbar": {
              "outlinewidth": 0,
              "ticks": ""
             }
            },
            "type": "histogram"
           }
          ],
          "histogram2d": [
           {
            "colorbar": {
             "outlinewidth": 0,
             "ticks": ""
            },
            "colorscale": [
             [
              0,
              "#0d0887"
             ],
             [
              0.1111111111111111,
              "#46039f"
             ],
             [
              0.2222222222222222,
              "#7201a8"
             ],
             [
              0.3333333333333333,
              "#9c179e"
             ],
             [
              0.4444444444444444,
              "#bd3786"
             ],
             [
              0.5555555555555556,
              "#d8576b"
             ],
             [
              0.6666666666666666,
              "#ed7953"
             ],
             [
              0.7777777777777778,
              "#fb9f3a"
             ],
             [
              0.8888888888888888,
              "#fdca26"
             ],
             [
              1,
              "#f0f921"
             ]
            ],
            "type": "histogram2d"
           }
          ],
          "histogram2dcontour": [
           {
            "colorbar": {
             "outlinewidth": 0,
             "ticks": ""
            },
            "colorscale": [
             [
              0,
              "#0d0887"
             ],
             [
              0.1111111111111111,
              "#46039f"
             ],
             [
              0.2222222222222222,
              "#7201a8"
             ],
             [
              0.3333333333333333,
              "#9c179e"
             ],
             [
              0.4444444444444444,
              "#bd3786"
             ],
             [
              0.5555555555555556,
              "#d8576b"
             ],
             [
              0.6666666666666666,
              "#ed7953"
             ],
             [
              0.7777777777777778,
              "#fb9f3a"
             ],
             [
              0.8888888888888888,
              "#fdca26"
             ],
             [
              1,
              "#f0f921"
             ]
            ],
            "type": "histogram2dcontour"
           }
          ],
          "mesh3d": [
           {
            "colorbar": {
             "outlinewidth": 0,
             "ticks": ""
            },
            "type": "mesh3d"
           }
          ],
          "parcoords": [
           {
            "line": {
             "colorbar": {
              "outlinewidth": 0,
              "ticks": ""
             }
            },
            "type": "parcoords"
           }
          ],
          "pie": [
           {
            "automargin": true,
            "type": "pie"
           }
          ],
          "scatter": [
           {
            "marker": {
             "colorbar": {
              "outlinewidth": 0,
              "ticks": ""
             }
            },
            "type": "scatter"
           }
          ],
          "scatter3d": [
           {
            "line": {
             "colorbar": {
              "outlinewidth": 0,
              "ticks": ""
             }
            },
            "marker": {
             "colorbar": {
              "outlinewidth": 0,
              "ticks": ""
             }
            },
            "type": "scatter3d"
           }
          ],
          "scattercarpet": [
           {
            "marker": {
             "colorbar": {
              "outlinewidth": 0,
              "ticks": ""
             }
            },
            "type": "scattercarpet"
           }
          ],
          "scattergeo": [
           {
            "marker": {
             "colorbar": {
              "outlinewidth": 0,
              "ticks": ""
             }
            },
            "type": "scattergeo"
           }
          ],
          "scattergl": [
           {
            "marker": {
             "colorbar": {
              "outlinewidth": 0,
              "ticks": ""
             }
            },
            "type": "scattergl"
           }
          ],
          "scattermapbox": [
           {
            "marker": {
             "colorbar": {
              "outlinewidth": 0,
              "ticks": ""
             }
            },
            "type": "scattermapbox"
           }
          ],
          "scatterpolar": [
           {
            "marker": {
             "colorbar": {
              "outlinewidth": 0,
              "ticks": ""
             }
            },
            "type": "scatterpolar"
           }
          ],
          "scatterpolargl": [
           {
            "marker": {
             "colorbar": {
              "outlinewidth": 0,
              "ticks": ""
             }
            },
            "type": "scatterpolargl"
           }
          ],
          "scatterternary": [
           {
            "marker": {
             "colorbar": {
              "outlinewidth": 0,
              "ticks": ""
             }
            },
            "type": "scatterternary"
           }
          ],
          "surface": [
           {
            "colorbar": {
             "outlinewidth": 0,
             "ticks": ""
            },
            "colorscale": [
             [
              0,
              "#0d0887"
             ],
             [
              0.1111111111111111,
              "#46039f"
             ],
             [
              0.2222222222222222,
              "#7201a8"
             ],
             [
              0.3333333333333333,
              "#9c179e"
             ],
             [
              0.4444444444444444,
              "#bd3786"
             ],
             [
              0.5555555555555556,
              "#d8576b"
             ],
             [
              0.6666666666666666,
              "#ed7953"
             ],
             [
              0.7777777777777778,
              "#fb9f3a"
             ],
             [
              0.8888888888888888,
              "#fdca26"
             ],
             [
              1,
              "#f0f921"
             ]
            ],
            "type": "surface"
           }
          ],
          "table": [
           {
            "cells": {
             "fill": {
              "color": "#EBF0F8"
             },
             "line": {
              "color": "white"
             }
            },
            "header": {
             "fill": {
              "color": "#C8D4E3"
             },
             "line": {
              "color": "white"
             }
            },
            "type": "table"
           }
          ]
         },
         "layout": {
          "annotationdefaults": {
           "arrowcolor": "#2a3f5f",
           "arrowhead": 0,
           "arrowwidth": 1
          },
          "coloraxis": {
           "colorbar": {
            "outlinewidth": 0,
            "ticks": ""
           }
          },
          "colorscale": {
           "diverging": [
            [
             0,
             "#8e0152"
            ],
            [
             0.1,
             "#c51b7d"
            ],
            [
             0.2,
             "#de77ae"
            ],
            [
             0.3,
             "#f1b6da"
            ],
            [
             0.4,
             "#fde0ef"
            ],
            [
             0.5,
             "#f7f7f7"
            ],
            [
             0.6,
             "#e6f5d0"
            ],
            [
             0.7,
             "#b8e186"
            ],
            [
             0.8,
             "#7fbc41"
            ],
            [
             0.9,
             "#4d9221"
            ],
            [
             1,
             "#276419"
            ]
           ],
           "sequential": [
            [
             0,
             "#0d0887"
            ],
            [
             0.1111111111111111,
             "#46039f"
            ],
            [
             0.2222222222222222,
             "#7201a8"
            ],
            [
             0.3333333333333333,
             "#9c179e"
            ],
            [
             0.4444444444444444,
             "#bd3786"
            ],
            [
             0.5555555555555556,
             "#d8576b"
            ],
            [
             0.6666666666666666,
             "#ed7953"
            ],
            [
             0.7777777777777778,
             "#fb9f3a"
            ],
            [
             0.8888888888888888,
             "#fdca26"
            ],
            [
             1,
             "#f0f921"
            ]
           ],
           "sequentialminus": [
            [
             0,
             "#0d0887"
            ],
            [
             0.1111111111111111,
             "#46039f"
            ],
            [
             0.2222222222222222,
             "#7201a8"
            ],
            [
             0.3333333333333333,
             "#9c179e"
            ],
            [
             0.4444444444444444,
             "#bd3786"
            ],
            [
             0.5555555555555556,
             "#d8576b"
            ],
            [
             0.6666666666666666,
             "#ed7953"
            ],
            [
             0.7777777777777778,
             "#fb9f3a"
            ],
            [
             0.8888888888888888,
             "#fdca26"
            ],
            [
             1,
             "#f0f921"
            ]
           ]
          },
          "colorway": [
           "#636efa",
           "#EF553B",
           "#00cc96",
           "#ab63fa",
           "#FFA15A",
           "#19d3f3",
           "#FF6692",
           "#B6E880",
           "#FF97FF",
           "#FECB52"
          ],
          "font": {
           "color": "#2a3f5f"
          },
          "geo": {
           "bgcolor": "white",
           "lakecolor": "white",
           "landcolor": "#E5ECF6",
           "showlakes": true,
           "showland": true,
           "subunitcolor": "white"
          },
          "hoverlabel": {
           "align": "left"
          },
          "hovermode": "closest",
          "mapbox": {
           "style": "light"
          },
          "paper_bgcolor": "white",
          "plot_bgcolor": "#E5ECF6",
          "polar": {
           "angularaxis": {
            "gridcolor": "white",
            "linecolor": "white",
            "ticks": ""
           },
           "bgcolor": "#E5ECF6",
           "radialaxis": {
            "gridcolor": "white",
            "linecolor": "white",
            "ticks": ""
           }
          },
          "scene": {
           "xaxis": {
            "backgroundcolor": "#E5ECF6",
            "gridcolor": "white",
            "gridwidth": 2,
            "linecolor": "white",
            "showbackground": true,
            "ticks": "",
            "zerolinecolor": "white"
           },
           "yaxis": {
            "backgroundcolor": "#E5ECF6",
            "gridcolor": "white",
            "gridwidth": 2,
            "linecolor": "white",
            "showbackground": true,
            "ticks": "",
            "zerolinecolor": "white"
           },
           "zaxis": {
            "backgroundcolor": "#E5ECF6",
            "gridcolor": "white",
            "gridwidth": 2,
            "linecolor": "white",
            "showbackground": true,
            "ticks": "",
            "zerolinecolor": "white"
           }
          },
          "shapedefaults": {
           "line": {
            "color": "#2a3f5f"
           }
          },
          "ternary": {
           "aaxis": {
            "gridcolor": "white",
            "linecolor": "white",
            "ticks": ""
           },
           "baxis": {
            "gridcolor": "white",
            "linecolor": "white",
            "ticks": ""
           },
           "bgcolor": "#E5ECF6",
           "caxis": {
            "gridcolor": "white",
            "linecolor": "white",
            "ticks": ""
           }
          },
          "title": {
           "x": 0.05
          },
          "xaxis": {
           "automargin": true,
           "gridcolor": "white",
           "linecolor": "white",
           "ticks": "",
           "title": {
            "standoff": 15
           },
           "zerolinecolor": "white",
           "zerolinewidth": 2
          },
          "yaxis": {
           "automargin": true,
           "gridcolor": "white",
           "linecolor": "white",
           "ticks": "",
           "title": {
            "standoff": 15
           },
           "zerolinecolor": "white",
           "zerolinewidth": 2
          }
         }
        },
        "xaxis": {
         "anchor": "y",
         "domain": [
          0,
          1
         ],
         "title": {
          "text": "Edad_mitjana"
         }
        },
        "yaxis": {
         "anchor": "x",
         "domain": [
          0,
          1
         ],
         "title": {
          "text": "Preu"
         },
         "type": "log"
        }
       }
      },
      "text/html": [
       "<div>\n",
       "        \n",
       "        \n",
       "            <div id=\"1d25b666-9db7-4f99-a691-30ddcde69502\" class=\"plotly-graph-div\" style=\"height:525px; width:100%;\"></div>\n",
       "            <script type=\"text/javascript\">\n",
       "                require([\"plotly\"], function(Plotly) {\n",
       "                    window.PLOTLYENV=window.PLOTLYENV || {};\n",
       "                    \n",
       "                if (document.getElementById(\"1d25b666-9db7-4f99-a691-30ddcde69502\")) {\n",
       "                    Plotly.newPlot(\n",
       "                        '1d25b666-9db7-4f99-a691-30ddcde69502',\n",
       "                        [{\"hovertemplate\": \"Sexe=Home<br>Edad_mitjana=%{x}<br>Preu=%{y}<br>Nombre=%{marker.size}<extra></extra>\", \"legendgroup\": \"Home\", \"marker\": {\"color\": \"#636efa\", \"size\": [1223, 407, 440, 568, 850, 1352, 1289, 1072, 1605, 1117, 1124, 31, 813, 281, 551, 797, 715, 1378, 1548, 647, 411, 180, 1077, 705, 1100, 1712, 1133, 586, 231, 477, 1693, 978, 1023, 342, 1324, 351, 1069, 387, 250, 243, 163, 25, 1032, 871, 950, 644, 61, 477, 166, 612, 407, 928, 333, 89, 332, 38, 313, 90, 507, 2204, 868, 578, 629, 1256, 796, 447, 247, 991, 410, 631, 719, 714, 727, 3493, 1376, 802, 1102, 865, 1319, 1024, 1015, 1396, 1037, 1778, 16, 559, 259, 518, 357, 529, 1020, 626, 336, 146, 74, 332, 169, 369, 584, 460, 265, 161, 263, 1183, 731, 487, 225, 748, 81, 765, 251, 161, 100, 56, 11, 522, 553, 720, 510, 30, 274, 45, 543, 430, 542, 234, 62, 541, 27, 434, 51, 312, 555, 504, 323, 440, 944, 467, 349, 133, 771, 233, 1103, 409, 471, 494], \"sizemode\": \"area\", \"sizeref\": 10.945, \"symbol\": \"circle\"}, \"mode\": \"markers\", \"name\": \"Home\", \"orientation\": \"v\", \"showlegend\": true, \"type\": \"scatter\", \"x\": [32.5, 33.7, 34.1, 32.9, 33.3, 33.2, 35.9, 34.4, 33.2, 32.9, 32.9, 34.9, 33.0, 34.6, 33.8, 34.0, 32.7, 33.1, 34.1, 33.1, 31.7, 36.4, 32.8, 32.5, 33.5, 32.1, 33.0, 32.2, 33.4, 30.2, 33.7, 32.4, 33.7, 33.1, 34.3, 31.2, 31.6, 31.1, 32.8, 37.0, 37.3, 30.8, 32.8, 33.4, 33.7, 31.4, 26.5, 33.1, 37.8, 29.9, 31.0, 32.8, 31.9, 29.7, 28.5, 36.8, 31.1, 30.3, 32.9, 32.9, 32.6, 33.6, 33.3, 34.2, 32.8, 35.7, 33.7, 33.8, 34.2, 31.2, 32.2, 35.1, 30.6, 32.4, 35.0, 33.9, 33.4, 33.6, 33.3, 34.3, 34.0, 33.6, 33.8, 33.0, 32.2, 31.3, 32.6, 32.5, 34.1, 33.6, 33.0, 34.0, 32.7, 33.9, 33.0, 31.1, 32.3, 32.6, 33.5, 32.8, 32.3, 32.0, 31.7, 33.8, 32.9, 32.4, 35.7, 33.3, 33.4, 31.4, 31.8, 32.0, 38.0, 32.7, 35.1, 33.0, 31.8, 31.8, 31.4, 28.3, 33.1, 36.7, 30.6, 31.9, 32.8, 33.8, 31.0, 28.8, 31.4, 30.6, 26.2, 32.5, 33.0, 33.9, 34.0, 34.6, 34.3, 34.7, 31.2, 31.6, 34.8, 31.0, 31.5, 33.3, 35.9, 30.1], \"xaxis\": \"x\", \"y\": [792.74, 998.4, 870.84, 923.44, 910.53, 883.75, 1191.43, 1069.16, 947.92, 899.98, 783.5, null, 751.65, 842.32, 754.83, 785.79, 764.41, 802.64, 1002.34, 948.77, 1799.91, 895.7, 1249.23, 1613.41, 1247.7, 1310.42, 946.65, 886.27, 741.23, 815.62, 899.65, 884.55, 832.63, 721.46, 736.8, 824.12, 634.75, 690.81, 648.1, 717.78, 874.2, null, 748.19, 720.9, 675.08, 665.36, null, 685.05, 714.68, 605.41, 624.71, 634.3, 592.73, null, 507.16, null, 589.02, null, 658.63, 744.82, 734.45, 754.09, 790.2, 785.88, 774.32, 916.31, 1272.26, 913.29, 1164.84, 682.32, 957.02, 751.48, 715.37, 820.88, 1024.29, 923.45, 991.39, 942.96, 893.43, 1263.08, 1078.13, 975.53, 907.42, 788.23, null, 719.33, 834.68, 801.37, 757.26, 755.29, 811.74, 1038.73, 959.26, 1563.31, 860.13, 1332.33, 1467.07, 1288.82, 1328.14, 972.89, 939.03, 716.25, 883.52, 913.34, 885.4, 817.38, 737.38, 758.61, 756.72, 637.17, 682.44, 646.83, 716.18, 864.72, null, 742.51, 726.89, 713.94, 668.16, null, 724.25, 661.88, 575.71, 628.8, 657.43, 574.15, 434.52, 491.84, null, 598.29, null, 687.55, 752.66, 798.39, 751.16, 797.8, 806.97, 815.82, 1198.77, 1288.91, 960.99, 1371.14, 649.17, 913.66, 797.54, 719.55], \"yaxis\": \"y\"}, {\"hovertemplate\": \"Sexe=Dona<br>Edad_mitjana=%{x}<br>Preu=%{y}<br>Nombre=%{marker.size}<extra></extra>\", \"legendgroup\": \"Dona\", \"marker\": {\"color\": \"#EF553B\", \"size\": [1617, 574, 538, 754, 916, 1700, 1586, 1398, 1848, 1245, 1216, 26, 760, 305, 574, 503, 637, 1373, 1442, 606, 425, 172, 1098, 670, 1042, 1772, 1168, 514, 238, 445, 1901, 1078, 845, 286, 1300, 320, 1029, 370, 190, 167, 130, 17, 865, 835, 884, 547, 68, 422, 168, 550, 409, 827, 246, 60, 307, 39, 294, 59, 496, 1967, 877, 438, 555, 1202, 763, 390, 312, 998, 383, 624, 511, 713, 731, 4378, 1217, 854, 1304, 939, 1460, 1223, 1204, 1442, 1186, 1843, 12, 513, 245, 526, 252, 461, 906, 589, 354, 197, 35, 302, 153, 347, 622, 462, 230, 144, 266, 1302, 748, 511, 166, 667, 85, 656, 202, 114, 75, 64, 13, 449, 555, 627, 480, 10, 200, 26, 488, 381, 627, 195, 44, 472, 18, 379, 21, 188, 573, 449, 250, 419, 984, 545, 362, 151, 689, 230, 887, 298, 364, 445], \"sizemode\": \"area\", \"sizeref\": 10.945, \"symbol\": \"circle\"}, \"mode\": \"markers\", \"name\": \"Dona\", \"orientation\": \"v\", \"showlegend\": true, \"type\": \"scatter\", \"x\": [31.6, 32.7, 33.2, 32.3, 35.4, 33.7, 37.5, 36.0, 34.1, 35.2, 32.8, 32.6, 34.9, 38.1, 33.9, 34.7, 34.6, 34.0, 35.0, 34.3, 34.3, 36.4, 37.3, 35.8, 37.2, 35.0, 34.6, 35.3, 34.5, 35.2, 34.6, 33.8, 38.5, 32.6, 34.4, 35.1, 32.4, 31.3, 35.2, 41.2, 43.9, 43.7, 35.9, 34.6, 33.7, 33.5, 29.4, 34.8, 39.9, 31.6, 32.3, 34.3, 33.6, 33.0, 29.7, 36.7, 30.5, 34.3, 34.0, 34.4, 34.2, 35.0, 33.9, 36.6, 36.2, 36.8, 36.1, 35.9, 35.5, 30.7, 35.8, 34.4, 32.8, 32.4, 33.7, 33.0, 34.0, 33.9, 34.4, 34.8, 35.1, 34.4, 34.9, 33.9, 31.2, 33.8, 37.0, 34.1, 37.0, 35.6, 34.3, 34.8, 34.9, 34.8, 36.2, 33.6, 35.3, 36.2, 36.2, 35.0, 35.6, 35.3, 35.7, 34.9, 36.6, 34.9, 32.8, 34.3, 34.3, 33.0, 34.0, 36.3, 43.3, 34.7, 36.0, 35.8, 34.7, 33.6, 33.5, 28.0, 36.7, 42.7, 32.5, 34.7, 34.1, 31.6, 28.8, 30.5, 30.3, 31.8, 35.0, 33.6, 34.0, 35.1, 36.7, 34.8, 35.2, 36.0, 34.9, 33.5, 35.9, 31.0, 32.1, 34.7, 35.2, 34.1], \"xaxis\": \"x\", \"y\": [849.32, 1012.49, 889.24, 970.97, 968.85, 934.89, 1216.7, 1136.21, 1003.89, 970.26, 822.04, null, 755.18, 871.41, 814.55, 830.32, 786.8, 856.57, 1077.99, 1013.28, 1849.52, 1102.29, 1443.71, 1746.01, 1322.61, 1374.32, 1021.27, 905.82, 756.36, 870.31, 923.39, 924.81, 839.47, 766.82, 797.84, 876.58, 654.77, 705.6, 660.93, 763.82, 822.31, null, 754.53, 742.82, 712.12, 682.67, null, 732.86, 715.45, 638.14, 618.91, 667.72, 584.73, null, 514.34, null, 597.93, null, 693.69, 777.06, 783.09, 787.78, 823.74, 827.45, 815.1, 897.67, 1284.3, 1006.81, 818.55, 699.06, 928.02, 803.49, 767.1, 827.27, 1057.26, 913.2, 1000.52, 983.1, 930.02, 1340.38, 1164.32, 1017.56, 960.3, 813.74, null, 778.52, 810.24, 811.0, 825.36, 831.19, 834.64, 1031.46, 960.03, 1615.31, 898.33, 1422.8, 1567.91, 1283.24, 1374.82, 1031.54, 971.51, 748.9, 930.09, 927.06, 945.81, 827.04, 727.05, 796.35, 840.52, 653.21, 721.23, 666.91, 750.95, 876.65, null, 745.35, 782.95, 723.34, 692.05, null, 708.41, 774.38, 595.81, 649.22, 698.08, 575.38, null, 514.52, null, 564.56, 673.69, 696.06, 782.15, 798.32, 804.74, 840.01, 851.58, 835.55, 938.59, 1292.23, 970.64, 1307.79, 711.67, 999.63, 823.46, 756.1], \"yaxis\": \"y\"}],\n",
       "                        {\"legend\": {\"itemsizing\": \"constant\", \"title\": {\"text\": \"Sexe\"}, \"tracegroupgap\": 0}, \"margin\": {\"t\": 60}, \"template\": {\"data\": {\"bar\": [{\"error_x\": {\"color\": \"#2a3f5f\"}, \"error_y\": {\"color\": \"#2a3f5f\"}, \"marker\": {\"line\": {\"color\": \"#E5ECF6\", \"width\": 0.5}}, \"type\": \"bar\"}], \"barpolar\": [{\"marker\": {\"line\": {\"color\": \"#E5ECF6\", \"width\": 0.5}}, \"type\": \"barpolar\"}], \"carpet\": [{\"aaxis\": {\"endlinecolor\": \"#2a3f5f\", \"gridcolor\": \"white\", \"linecolor\": \"white\", \"minorgridcolor\": \"white\", \"startlinecolor\": \"#2a3f5f\"}, \"baxis\": {\"endlinecolor\": \"#2a3f5f\", \"gridcolor\": \"white\", \"linecolor\": \"white\", \"minorgridcolor\": \"white\", \"startlinecolor\": \"#2a3f5f\"}, \"type\": \"carpet\"}], \"choropleth\": [{\"colorbar\": {\"outlinewidth\": 0, \"ticks\": \"\"}, \"type\": \"choropleth\"}], \"contour\": [{\"colorbar\": {\"outlinewidth\": 0, \"ticks\": \"\"}, \"colorscale\": [[0.0, \"#0d0887\"], [0.1111111111111111, \"#46039f\"], [0.2222222222222222, \"#7201a8\"], [0.3333333333333333, \"#9c179e\"], [0.4444444444444444, \"#bd3786\"], [0.5555555555555556, \"#d8576b\"], [0.6666666666666666, \"#ed7953\"], [0.7777777777777778, \"#fb9f3a\"], [0.8888888888888888, \"#fdca26\"], [1.0, \"#f0f921\"]], \"type\": \"contour\"}], \"contourcarpet\": [{\"colorbar\": {\"outlinewidth\": 0, \"ticks\": \"\"}, \"type\": \"contourcarpet\"}], \"heatmap\": [{\"colorbar\": {\"outlinewidth\": 0, \"ticks\": \"\"}, \"colorscale\": [[0.0, \"#0d0887\"], [0.1111111111111111, \"#46039f\"], [0.2222222222222222, \"#7201a8\"], [0.3333333333333333, \"#9c179e\"], [0.4444444444444444, \"#bd3786\"], [0.5555555555555556, \"#d8576b\"], [0.6666666666666666, \"#ed7953\"], [0.7777777777777778, \"#fb9f3a\"], [0.8888888888888888, \"#fdca26\"], [1.0, \"#f0f921\"]], \"type\": \"heatmap\"}], \"heatmapgl\": [{\"colorbar\": {\"outlinewidth\": 0, \"ticks\": \"\"}, \"colorscale\": [[0.0, \"#0d0887\"], [0.1111111111111111, \"#46039f\"], [0.2222222222222222, \"#7201a8\"], [0.3333333333333333, \"#9c179e\"], [0.4444444444444444, \"#bd3786\"], [0.5555555555555556, \"#d8576b\"], [0.6666666666666666, \"#ed7953\"], [0.7777777777777778, \"#fb9f3a\"], [0.8888888888888888, \"#fdca26\"], [1.0, \"#f0f921\"]], \"type\": \"heatmapgl\"}], \"histogram\": [{\"marker\": {\"colorbar\": {\"outlinewidth\": 0, \"ticks\": \"\"}}, \"type\": \"histogram\"}], \"histogram2d\": [{\"colorbar\": {\"outlinewidth\": 0, \"ticks\": \"\"}, \"colorscale\": [[0.0, \"#0d0887\"], [0.1111111111111111, \"#46039f\"], [0.2222222222222222, \"#7201a8\"], [0.3333333333333333, \"#9c179e\"], [0.4444444444444444, \"#bd3786\"], [0.5555555555555556, \"#d8576b\"], [0.6666666666666666, \"#ed7953\"], [0.7777777777777778, \"#fb9f3a\"], [0.8888888888888888, \"#fdca26\"], [1.0, \"#f0f921\"]], \"type\": \"histogram2d\"}], \"histogram2dcontour\": [{\"colorbar\": {\"outlinewidth\": 0, \"ticks\": \"\"}, \"colorscale\": [[0.0, \"#0d0887\"], [0.1111111111111111, \"#46039f\"], [0.2222222222222222, \"#7201a8\"], [0.3333333333333333, \"#9c179e\"], [0.4444444444444444, \"#bd3786\"], [0.5555555555555556, \"#d8576b\"], [0.6666666666666666, \"#ed7953\"], [0.7777777777777778, \"#fb9f3a\"], [0.8888888888888888, \"#fdca26\"], [1.0, \"#f0f921\"]], \"type\": \"histogram2dcontour\"}], \"mesh3d\": [{\"colorbar\": {\"outlinewidth\": 0, \"ticks\": \"\"}, \"type\": \"mesh3d\"}], \"parcoords\": [{\"line\": {\"colorbar\": {\"outlinewidth\": 0, \"ticks\": \"\"}}, \"type\": \"parcoords\"}], \"pie\": [{\"automargin\": true, \"type\": \"pie\"}], \"scatter\": [{\"marker\": {\"colorbar\": {\"outlinewidth\": 0, \"ticks\": \"\"}}, \"type\": \"scatter\"}], \"scatter3d\": [{\"line\": {\"colorbar\": {\"outlinewidth\": 0, \"ticks\": \"\"}}, \"marker\": {\"colorbar\": {\"outlinewidth\": 0, \"ticks\": \"\"}}, \"type\": \"scatter3d\"}], \"scattercarpet\": [{\"marker\": {\"colorbar\": {\"outlinewidth\": 0, \"ticks\": \"\"}}, \"type\": \"scattercarpet\"}], \"scattergeo\": [{\"marker\": {\"colorbar\": {\"outlinewidth\": 0, \"ticks\": \"\"}}, \"type\": \"scattergeo\"}], \"scattergl\": [{\"marker\": {\"colorbar\": {\"outlinewidth\": 0, \"ticks\": \"\"}}, \"type\": \"scattergl\"}], \"scattermapbox\": [{\"marker\": {\"colorbar\": {\"outlinewidth\": 0, \"ticks\": \"\"}}, \"type\": \"scattermapbox\"}], \"scatterpolar\": [{\"marker\": {\"colorbar\": {\"outlinewidth\": 0, \"ticks\": \"\"}}, \"type\": \"scatterpolar\"}], \"scatterpolargl\": [{\"marker\": {\"colorbar\": {\"outlinewidth\": 0, \"ticks\": \"\"}}, \"type\": \"scatterpolargl\"}], \"scatterternary\": [{\"marker\": {\"colorbar\": {\"outlinewidth\": 0, \"ticks\": \"\"}}, \"type\": \"scatterternary\"}], \"surface\": [{\"colorbar\": {\"outlinewidth\": 0, \"ticks\": \"\"}, \"colorscale\": [[0.0, \"#0d0887\"], [0.1111111111111111, \"#46039f\"], [0.2222222222222222, \"#7201a8\"], [0.3333333333333333, \"#9c179e\"], [0.4444444444444444, \"#bd3786\"], [0.5555555555555556, \"#d8576b\"], [0.6666666666666666, \"#ed7953\"], [0.7777777777777778, \"#fb9f3a\"], [0.8888888888888888, \"#fdca26\"], [1.0, \"#f0f921\"]], \"type\": \"surface\"}], \"table\": [{\"cells\": {\"fill\": {\"color\": \"#EBF0F8\"}, \"line\": {\"color\": \"white\"}}, \"header\": {\"fill\": {\"color\": \"#C8D4E3\"}, \"line\": {\"color\": \"white\"}}, \"type\": \"table\"}]}, \"layout\": {\"annotationdefaults\": {\"arrowcolor\": \"#2a3f5f\", \"arrowhead\": 0, \"arrowwidth\": 1}, \"coloraxis\": {\"colorbar\": {\"outlinewidth\": 0, \"ticks\": \"\"}}, \"colorscale\": {\"diverging\": [[0, \"#8e0152\"], [0.1, \"#c51b7d\"], [0.2, \"#de77ae\"], [0.3, \"#f1b6da\"], [0.4, \"#fde0ef\"], [0.5, \"#f7f7f7\"], [0.6, \"#e6f5d0\"], [0.7, \"#b8e186\"], [0.8, \"#7fbc41\"], [0.9, \"#4d9221\"], [1, \"#276419\"]], \"sequential\": [[0.0, \"#0d0887\"], [0.1111111111111111, \"#46039f\"], [0.2222222222222222, \"#7201a8\"], [0.3333333333333333, \"#9c179e\"], [0.4444444444444444, \"#bd3786\"], [0.5555555555555556, \"#d8576b\"], [0.6666666666666666, \"#ed7953\"], [0.7777777777777778, \"#fb9f3a\"], [0.8888888888888888, \"#fdca26\"], [1.0, \"#f0f921\"]], \"sequentialminus\": [[0.0, \"#0d0887\"], [0.1111111111111111, \"#46039f\"], [0.2222222222222222, \"#7201a8\"], [0.3333333333333333, \"#9c179e\"], [0.4444444444444444, \"#bd3786\"], [0.5555555555555556, \"#d8576b\"], [0.6666666666666666, \"#ed7953\"], [0.7777777777777778, \"#fb9f3a\"], [0.8888888888888888, \"#fdca26\"], [1.0, \"#f0f921\"]]}, \"colorway\": [\"#636efa\", \"#EF553B\", \"#00cc96\", \"#ab63fa\", \"#FFA15A\", \"#19d3f3\", \"#FF6692\", \"#B6E880\", \"#FF97FF\", \"#FECB52\"], \"font\": {\"color\": \"#2a3f5f\"}, \"geo\": {\"bgcolor\": \"white\", \"lakecolor\": \"white\", \"landcolor\": \"#E5ECF6\", \"showlakes\": true, \"showland\": true, \"subunitcolor\": \"white\"}, \"hoverlabel\": {\"align\": \"left\"}, \"hovermode\": \"closest\", \"mapbox\": {\"style\": \"light\"}, \"paper_bgcolor\": \"white\", \"plot_bgcolor\": \"#E5ECF6\", \"polar\": {\"angularaxis\": {\"gridcolor\": \"white\", \"linecolor\": \"white\", \"ticks\": \"\"}, \"bgcolor\": \"#E5ECF6\", \"radialaxis\": {\"gridcolor\": \"white\", \"linecolor\": \"white\", \"ticks\": \"\"}}, \"scene\": {\"xaxis\": {\"backgroundcolor\": \"#E5ECF6\", \"gridcolor\": \"white\", \"gridwidth\": 2, \"linecolor\": \"white\", \"showbackground\": true, \"ticks\": \"\", \"zerolinecolor\": \"white\"}, \"yaxis\": {\"backgroundcolor\": \"#E5ECF6\", \"gridcolor\": \"white\", \"gridwidth\": 2, \"linecolor\": \"white\", \"showbackground\": true, \"ticks\": \"\", \"zerolinecolor\": \"white\"}, \"zaxis\": {\"backgroundcolor\": \"#E5ECF6\", \"gridcolor\": \"white\", \"gridwidth\": 2, \"linecolor\": \"white\", \"showbackground\": true, \"ticks\": \"\", \"zerolinecolor\": \"white\"}}, \"shapedefaults\": {\"line\": {\"color\": \"#2a3f5f\"}}, \"ternary\": {\"aaxis\": {\"gridcolor\": \"white\", \"linecolor\": \"white\", \"ticks\": \"\"}, \"baxis\": {\"gridcolor\": \"white\", \"linecolor\": \"white\", \"ticks\": \"\"}, \"bgcolor\": \"#E5ECF6\", \"caxis\": {\"gridcolor\": \"white\", \"linecolor\": \"white\", \"ticks\": \"\"}}, \"title\": {\"x\": 0.05}, \"xaxis\": {\"automargin\": true, \"gridcolor\": \"white\", \"linecolor\": \"white\", \"ticks\": \"\", \"title\": {\"standoff\": 15}, \"zerolinecolor\": \"white\", \"zerolinewidth\": 2}, \"yaxis\": {\"automargin\": true, \"gridcolor\": \"white\", \"linecolor\": \"white\", \"ticks\": \"\", \"title\": {\"standoff\": 15}, \"zerolinecolor\": \"white\", \"zerolinewidth\": 2}}}, \"xaxis\": {\"anchor\": \"y\", \"domain\": [0.0, 1.0], \"title\": {\"text\": \"Edad_mitjana\"}}, \"yaxis\": {\"anchor\": \"x\", \"domain\": [0.0, 1.0], \"title\": {\"text\": \"Preu\"}, \"type\": \"log\"}},\n",
       "                        {\"responsive\": true}\n",
       "                    ).then(function(){\n",
       "                            \n",
       "var gd = document.getElementById('1d25b666-9db7-4f99-a691-30ddcde69502');\n",
       "var x = new MutationObserver(function (mutations, observer) {{\n",
       "        var display = window.getComputedStyle(gd).display;\n",
       "        if (!display || display === 'none') {{\n",
       "            console.log([gd, 'removed!']);\n",
       "            Plotly.purge(gd);\n",
       "            observer.disconnect();\n",
       "        }}\n",
       "}});\n",
       "\n",
       "// Listen for the removal of the full notebook cells\n",
       "var notebookContainer = gd.closest('#notebook-container');\n",
       "if (notebookContainer) {{\n",
       "    x.observe(notebookContainer, {childList: true});\n",
       "}}\n",
       "\n",
       "// Listen for the clearing of the current output cell\n",
       "var outputEl = gd.closest('.output');\n",
       "if (outputEl) {{\n",
       "    x.observe(outputEl, {childList: true});\n",
       "}}\n",
       "\n",
       "                        })\n",
       "                };\n",
       "                });\n",
       "            </script>\n",
       "        </div>"
      ]
     },
     "metadata": {},
     "output_type": "display_data"
    }
   ],
   "source": [
    "c = px.scatter(data_frame=df, x = 'Edad_mitjana', y ='Preu', size = 'Nombre', color ='Sexe', log_y=True)\n",
    "c.show()"
   ]
  },
  {
   "cell_type": "code",
   "execution_count": null,
   "metadata": {},
   "outputs": [],
   "source": []
  },
  {
   "cell_type": "code",
   "execution_count": 87,
   "metadata": {},
   "outputs": [],
   "source": [
    "import statsmodels.formula.api as smf\n",
    "import statsmodels.api as sm"
   ]
  },
  {
   "cell_type": "code",
   "execution_count": 88,
   "metadata": {},
   "outputs": [
    {
     "data": {
      "text/html": [
       "<div>\n",
       "<style scoped>\n",
       "    .dataframe tbody tr th:only-of-type {\n",
       "        vertical-align: middle;\n",
       "    }\n",
       "\n",
       "    .dataframe tbody tr th {\n",
       "        vertical-align: top;\n",
       "    }\n",
       "\n",
       "    .dataframe thead th {\n",
       "        text-align: right;\n",
       "    }\n",
       "</style>\n",
       "<table border=\"1\" class=\"dataframe\">\n",
       "  <thead>\n",
       "    <tr style=\"text-align: right;\">\n",
       "      <th></th>\n",
       "      <th>Any</th>\n",
       "      <th>Nom_Districte</th>\n",
       "      <th>Nombre</th>\n",
       "      <th>Edad_mitjana</th>\n",
       "      <th>Sexe</th>\n",
       "      <th>Preu</th>\n",
       "      <th>LLoguer_mitja</th>\n",
       "    </tr>\n",
       "  </thead>\n",
       "  <tbody>\n",
       "    <tr>\n",
       "      <th>0</th>\n",
       "      <td>2018</td>\n",
       "      <td>Ciutat Vella</td>\n",
       "      <td>1223</td>\n",
       "      <td>32.5</td>\n",
       "      <td>Home</td>\n",
       "      <td>792.74</td>\n",
       "      <td>Lloguer mitjà mensual (Euros/mes)</td>\n",
       "    </tr>\n",
       "    <tr>\n",
       "      <th>1</th>\n",
       "      <td>2018</td>\n",
       "      <td>Ciutat Vella</td>\n",
       "      <td>407</td>\n",
       "      <td>33.7</td>\n",
       "      <td>Home</td>\n",
       "      <td>998.40</td>\n",
       "      <td>Lloguer mitjà mensual (Euros/mes)</td>\n",
       "    </tr>\n",
       "    <tr>\n",
       "      <th>2</th>\n",
       "      <td>2018</td>\n",
       "      <td>Ciutat Vella</td>\n",
       "      <td>440</td>\n",
       "      <td>34.1</td>\n",
       "      <td>Home</td>\n",
       "      <td>870.84</td>\n",
       "      <td>Lloguer mitjà mensual (Euros/mes)</td>\n",
       "    </tr>\n",
       "    <tr>\n",
       "      <th>3</th>\n",
       "      <td>2018</td>\n",
       "      <td>Ciutat Vella</td>\n",
       "      <td>568</td>\n",
       "      <td>32.9</td>\n",
       "      <td>Home</td>\n",
       "      <td>923.44</td>\n",
       "      <td>Lloguer mitjà mensual (Euros/mes)</td>\n",
       "    </tr>\n",
       "    <tr>\n",
       "      <th>4</th>\n",
       "      <td>2018</td>\n",
       "      <td>Eixample</td>\n",
       "      <td>850</td>\n",
       "      <td>33.3</td>\n",
       "      <td>Home</td>\n",
       "      <td>910.53</td>\n",
       "      <td>Lloguer mitjà mensual (Euros/mes)</td>\n",
       "    </tr>\n",
       "  </tbody>\n",
       "</table>\n",
       "</div>"
      ],
      "text/plain": [
       "    Any Nom_Districte  Nombre  Edad_mitjana  Sexe    Preu  \\\n",
       "0  2018  Ciutat Vella    1223          32.5  Home  792.74   \n",
       "1  2018  Ciutat Vella     407          33.7  Home  998.40   \n",
       "2  2018  Ciutat Vella     440          34.1  Home  870.84   \n",
       "3  2018  Ciutat Vella     568          32.9  Home  923.44   \n",
       "4  2018      Eixample     850          33.3  Home  910.53   \n",
       "\n",
       "                       LLoguer_mitja  \n",
       "0  Lloguer mitjà mensual (Euros/mes)  \n",
       "1  Lloguer mitjà mensual (Euros/mes)  \n",
       "2  Lloguer mitjà mensual (Euros/mes)  \n",
       "3  Lloguer mitjà mensual (Euros/mes)  \n",
       "4  Lloguer mitjà mensual (Euros/mes)  "
      ]
     },
     "execution_count": 88,
     "metadata": {},
     "output_type": "execute_result"
    }
   ],
   "source": [
    "col = ['Nom_Barri', 'Codi_Districte', 'Codi_Barri']\n",
    "bcn = df.drop(col, axis=1)\n",
    "bcn.head()"
   ]
  },
  {
   "cell_type": "code",
   "execution_count": 89,
   "metadata": {},
   "outputs": [
    {
     "data": {
      "text/html": [
       "<div>\n",
       "<style scoped>\n",
       "    .dataframe tbody tr th:only-of-type {\n",
       "        vertical-align: middle;\n",
       "    }\n",
       "\n",
       "    .dataframe tbody tr th {\n",
       "        vertical-align: top;\n",
       "    }\n",
       "\n",
       "    .dataframe thead th {\n",
       "        text-align: right;\n",
       "    }\n",
       "</style>\n",
       "<table border=\"1\" class=\"dataframe\">\n",
       "  <thead>\n",
       "    <tr style=\"text-align: right;\">\n",
       "      <th></th>\n",
       "      <th>Any</th>\n",
       "      <th>Nombre</th>\n",
       "      <th>Edad_mitjana</th>\n",
       "      <th>Preu</th>\n",
       "      <th>Nom_Districte_Eixample</th>\n",
       "      <th>Nom_Districte_Gràcia</th>\n",
       "      <th>Nom_Districte_Horta-Guinardó</th>\n",
       "      <th>Nom_Districte_Les Corts</th>\n",
       "      <th>Nom_Districte_Nou Barris</th>\n",
       "      <th>Nom_Districte_Sant Andreu</th>\n",
       "      <th>Nom_Districte_Sant Martí</th>\n",
       "      <th>Nom_Districte_Sants-Montjuïc</th>\n",
       "      <th>Nom_Districte_Sarrià-Sant Gervasi</th>\n",
       "      <th>Sexe_Home</th>\n",
       "    </tr>\n",
       "  </thead>\n",
       "  <tbody>\n",
       "    <tr>\n",
       "      <th>0</th>\n",
       "      <td>2018</td>\n",
       "      <td>1223</td>\n",
       "      <td>32.5</td>\n",
       "      <td>792.74</td>\n",
       "      <td>0</td>\n",
       "      <td>0</td>\n",
       "      <td>0</td>\n",
       "      <td>0</td>\n",
       "      <td>0</td>\n",
       "      <td>0</td>\n",
       "      <td>0</td>\n",
       "      <td>0</td>\n",
       "      <td>0</td>\n",
       "      <td>1</td>\n",
       "    </tr>\n",
       "    <tr>\n",
       "      <th>1</th>\n",
       "      <td>2018</td>\n",
       "      <td>407</td>\n",
       "      <td>33.7</td>\n",
       "      <td>998.40</td>\n",
       "      <td>0</td>\n",
       "      <td>0</td>\n",
       "      <td>0</td>\n",
       "      <td>0</td>\n",
       "      <td>0</td>\n",
       "      <td>0</td>\n",
       "      <td>0</td>\n",
       "      <td>0</td>\n",
       "      <td>0</td>\n",
       "      <td>1</td>\n",
       "    </tr>\n",
       "    <tr>\n",
       "      <th>2</th>\n",
       "      <td>2018</td>\n",
       "      <td>440</td>\n",
       "      <td>34.1</td>\n",
       "      <td>870.84</td>\n",
       "      <td>0</td>\n",
       "      <td>0</td>\n",
       "      <td>0</td>\n",
       "      <td>0</td>\n",
       "      <td>0</td>\n",
       "      <td>0</td>\n",
       "      <td>0</td>\n",
       "      <td>0</td>\n",
       "      <td>0</td>\n",
       "      <td>1</td>\n",
       "    </tr>\n",
       "    <tr>\n",
       "      <th>3</th>\n",
       "      <td>2018</td>\n",
       "      <td>568</td>\n",
       "      <td>32.9</td>\n",
       "      <td>923.44</td>\n",
       "      <td>0</td>\n",
       "      <td>0</td>\n",
       "      <td>0</td>\n",
       "      <td>0</td>\n",
       "      <td>0</td>\n",
       "      <td>0</td>\n",
       "      <td>0</td>\n",
       "      <td>0</td>\n",
       "      <td>0</td>\n",
       "      <td>1</td>\n",
       "    </tr>\n",
       "    <tr>\n",
       "      <th>4</th>\n",
       "      <td>2018</td>\n",
       "      <td>850</td>\n",
       "      <td>33.3</td>\n",
       "      <td>910.53</td>\n",
       "      <td>1</td>\n",
       "      <td>0</td>\n",
       "      <td>0</td>\n",
       "      <td>0</td>\n",
       "      <td>0</td>\n",
       "      <td>0</td>\n",
       "      <td>0</td>\n",
       "      <td>0</td>\n",
       "      <td>0</td>\n",
       "      <td>1</td>\n",
       "    </tr>\n",
       "  </tbody>\n",
       "</table>\n",
       "</div>"
      ],
      "text/plain": [
       "    Any  Nombre  Edad_mitjana    Preu  Nom_Districte_Eixample  \\\n",
       "0  2018    1223          32.5  792.74                       0   \n",
       "1  2018     407          33.7  998.40                       0   \n",
       "2  2018     440          34.1  870.84                       0   \n",
       "3  2018     568          32.9  923.44                       0   \n",
       "4  2018     850          33.3  910.53                       1   \n",
       "\n",
       "   Nom_Districte_Gràcia  Nom_Districte_Horta-Guinardó  \\\n",
       "0                     0                             0   \n",
       "1                     0                             0   \n",
       "2                     0                             0   \n",
       "3                     0                             0   \n",
       "4                     0                             0   \n",
       "\n",
       "   Nom_Districte_Les Corts  Nom_Districte_Nou Barris  \\\n",
       "0                        0                         0   \n",
       "1                        0                         0   \n",
       "2                        0                         0   \n",
       "3                        0                         0   \n",
       "4                        0                         0   \n",
       "\n",
       "   Nom_Districte_Sant Andreu  Nom_Districte_Sant Martí  \\\n",
       "0                          0                         0   \n",
       "1                          0                         0   \n",
       "2                          0                         0   \n",
       "3                          0                         0   \n",
       "4                          0                         0   \n",
       "\n",
       "   Nom_Districte_Sants-Montjuïc  Nom_Districte_Sarrià-Sant Gervasi  Sexe_Home  \n",
       "0                             0                                  0          1  \n",
       "1                             0                                  0          1  \n",
       "2                             0                                  0          1  \n",
       "3                             0                                  0          1  \n",
       "4                             0                                  0          1  "
      ]
     },
     "execution_count": 89,
     "metadata": {},
     "output_type": "execute_result"
    }
   ],
   "source": [
    "barcelona = pd.get_dummies(bcn, drop_first=True)\n",
    "barcelona.head()"
   ]
  },
  {
   "cell_type": "code",
   "execution_count": 103,
   "metadata": {},
   "outputs": [
    {
     "ename": "KeyError",
     "evalue": "\"['Any' 'Preu'] not found in axis\"",
     "output_type": "error",
     "traceback": [
      "\u001b[1;31m---------------------------------------------------------------------------\u001b[0m",
      "\u001b[1;31mKeyError\u001b[0m                                  Traceback (most recent call last)",
      "\u001b[1;32m<ipython-input-103-dd9f8f2adcd9>\u001b[0m in \u001b[0;36m<module>\u001b[1;34m\u001b[0m\n\u001b[1;32m----> 1\u001b[1;33m \u001b[0mbarcelona\u001b[0m \u001b[1;33m=\u001b[0m \u001b[0mbarcelona\u001b[0m\u001b[1;33m.\u001b[0m\u001b[0mdrop\u001b[0m\u001b[1;33m(\u001b[0m\u001b[1;33m[\u001b[0m\u001b[1;34m'Any'\u001b[0m\u001b[1;33m,\u001b[0m \u001b[1;34m'Preu'\u001b[0m\u001b[1;33m]\u001b[0m\u001b[1;33m,\u001b[0m \u001b[0maxis\u001b[0m\u001b[1;33m=\u001b[0m\u001b[1;36m1\u001b[0m\u001b[1;33m)\u001b[0m\u001b[1;33m\u001b[0m\u001b[1;33m\u001b[0m\u001b[0m\n\u001b[0m",
      "\u001b[1;32mc:\\users\\josè valencia\\appdata\\local\\programs\\python\\python38\\lib\\site-packages\\pandas\\core\\frame.py\u001b[0m in \u001b[0;36mdrop\u001b[1;34m(self, labels, axis, index, columns, level, inplace, errors)\u001b[0m\n\u001b[0;32m   4108\u001b[0m                 \u001b[0mweight\u001b[0m  \u001b[1;36m1.0\u001b[0m     \u001b[1;36m0.8\u001b[0m\u001b[1;33m\u001b[0m\u001b[1;33m\u001b[0m\u001b[0m\n\u001b[0;32m   4109\u001b[0m         \"\"\"\n\u001b[1;32m-> 4110\u001b[1;33m         return super().drop(\n\u001b[0m\u001b[0;32m   4111\u001b[0m             \u001b[0mlabels\u001b[0m\u001b[1;33m=\u001b[0m\u001b[0mlabels\u001b[0m\u001b[1;33m,\u001b[0m\u001b[1;33m\u001b[0m\u001b[1;33m\u001b[0m\u001b[0m\n\u001b[0;32m   4112\u001b[0m             \u001b[0maxis\u001b[0m\u001b[1;33m=\u001b[0m\u001b[0maxis\u001b[0m\u001b[1;33m,\u001b[0m\u001b[1;33m\u001b[0m\u001b[1;33m\u001b[0m\u001b[0m\n",
      "\u001b[1;32mc:\\users\\josè valencia\\appdata\\local\\programs\\python\\python38\\lib\\site-packages\\pandas\\core\\generic.py\u001b[0m in \u001b[0;36mdrop\u001b[1;34m(self, labels, axis, index, columns, level, inplace, errors)\u001b[0m\n\u001b[0;32m   3912\u001b[0m         \u001b[1;32mfor\u001b[0m \u001b[0maxis\u001b[0m\u001b[1;33m,\u001b[0m \u001b[0mlabels\u001b[0m \u001b[1;32min\u001b[0m \u001b[0maxes\u001b[0m\u001b[1;33m.\u001b[0m\u001b[0mitems\u001b[0m\u001b[1;33m(\u001b[0m\u001b[1;33m)\u001b[0m\u001b[1;33m:\u001b[0m\u001b[1;33m\u001b[0m\u001b[1;33m\u001b[0m\u001b[0m\n\u001b[0;32m   3913\u001b[0m             \u001b[1;32mif\u001b[0m \u001b[0mlabels\u001b[0m \u001b[1;32mis\u001b[0m \u001b[1;32mnot\u001b[0m \u001b[1;32mNone\u001b[0m\u001b[1;33m:\u001b[0m\u001b[1;33m\u001b[0m\u001b[1;33m\u001b[0m\u001b[0m\n\u001b[1;32m-> 3914\u001b[1;33m                 \u001b[0mobj\u001b[0m \u001b[1;33m=\u001b[0m \u001b[0mobj\u001b[0m\u001b[1;33m.\u001b[0m\u001b[0m_drop_axis\u001b[0m\u001b[1;33m(\u001b[0m\u001b[0mlabels\u001b[0m\u001b[1;33m,\u001b[0m \u001b[0maxis\u001b[0m\u001b[1;33m,\u001b[0m \u001b[0mlevel\u001b[0m\u001b[1;33m=\u001b[0m\u001b[0mlevel\u001b[0m\u001b[1;33m,\u001b[0m \u001b[0merrors\u001b[0m\u001b[1;33m=\u001b[0m\u001b[0merrors\u001b[0m\u001b[1;33m)\u001b[0m\u001b[1;33m\u001b[0m\u001b[1;33m\u001b[0m\u001b[0m\n\u001b[0m\u001b[0;32m   3915\u001b[0m \u001b[1;33m\u001b[0m\u001b[0m\n\u001b[0;32m   3916\u001b[0m         \u001b[1;32mif\u001b[0m \u001b[0minplace\u001b[0m\u001b[1;33m:\u001b[0m\u001b[1;33m\u001b[0m\u001b[1;33m\u001b[0m\u001b[0m\n",
      "\u001b[1;32mc:\\users\\josè valencia\\appdata\\local\\programs\\python\\python38\\lib\\site-packages\\pandas\\core\\generic.py\u001b[0m in \u001b[0;36m_drop_axis\u001b[1;34m(self, labels, axis, level, errors)\u001b[0m\n\u001b[0;32m   3944\u001b[0m                 \u001b[0mnew_axis\u001b[0m \u001b[1;33m=\u001b[0m \u001b[0maxis\u001b[0m\u001b[1;33m.\u001b[0m\u001b[0mdrop\u001b[0m\u001b[1;33m(\u001b[0m\u001b[0mlabels\u001b[0m\u001b[1;33m,\u001b[0m \u001b[0mlevel\u001b[0m\u001b[1;33m=\u001b[0m\u001b[0mlevel\u001b[0m\u001b[1;33m,\u001b[0m \u001b[0merrors\u001b[0m\u001b[1;33m=\u001b[0m\u001b[0merrors\u001b[0m\u001b[1;33m)\u001b[0m\u001b[1;33m\u001b[0m\u001b[1;33m\u001b[0m\u001b[0m\n\u001b[0;32m   3945\u001b[0m             \u001b[1;32melse\u001b[0m\u001b[1;33m:\u001b[0m\u001b[1;33m\u001b[0m\u001b[1;33m\u001b[0m\u001b[0m\n\u001b[1;32m-> 3946\u001b[1;33m                 \u001b[0mnew_axis\u001b[0m \u001b[1;33m=\u001b[0m \u001b[0maxis\u001b[0m\u001b[1;33m.\u001b[0m\u001b[0mdrop\u001b[0m\u001b[1;33m(\u001b[0m\u001b[0mlabels\u001b[0m\u001b[1;33m,\u001b[0m \u001b[0merrors\u001b[0m\u001b[1;33m=\u001b[0m\u001b[0merrors\u001b[0m\u001b[1;33m)\u001b[0m\u001b[1;33m\u001b[0m\u001b[1;33m\u001b[0m\u001b[0m\n\u001b[0m\u001b[0;32m   3947\u001b[0m             \u001b[0mresult\u001b[0m \u001b[1;33m=\u001b[0m \u001b[0mself\u001b[0m\u001b[1;33m.\u001b[0m\u001b[0mreindex\u001b[0m\u001b[1;33m(\u001b[0m\u001b[1;33m**\u001b[0m\u001b[1;33m{\u001b[0m\u001b[0maxis_name\u001b[0m\u001b[1;33m:\u001b[0m \u001b[0mnew_axis\u001b[0m\u001b[1;33m}\u001b[0m\u001b[1;33m)\u001b[0m\u001b[1;33m\u001b[0m\u001b[1;33m\u001b[0m\u001b[0m\n\u001b[0;32m   3948\u001b[0m \u001b[1;33m\u001b[0m\u001b[0m\n",
      "\u001b[1;32mc:\\users\\josè valencia\\appdata\\local\\programs\\python\\python38\\lib\\site-packages\\pandas\\core\\indexes\\base.py\u001b[0m in \u001b[0;36mdrop\u001b[1;34m(self, labels, errors)\u001b[0m\n\u001b[0;32m   5338\u001b[0m         \u001b[1;32mif\u001b[0m \u001b[0mmask\u001b[0m\u001b[1;33m.\u001b[0m\u001b[0many\u001b[0m\u001b[1;33m(\u001b[0m\u001b[1;33m)\u001b[0m\u001b[1;33m:\u001b[0m\u001b[1;33m\u001b[0m\u001b[1;33m\u001b[0m\u001b[0m\n\u001b[0;32m   5339\u001b[0m             \u001b[1;32mif\u001b[0m \u001b[0merrors\u001b[0m \u001b[1;33m!=\u001b[0m \u001b[1;34m\"ignore\"\u001b[0m\u001b[1;33m:\u001b[0m\u001b[1;33m\u001b[0m\u001b[1;33m\u001b[0m\u001b[0m\n\u001b[1;32m-> 5340\u001b[1;33m                 \u001b[1;32mraise\u001b[0m \u001b[0mKeyError\u001b[0m\u001b[1;33m(\u001b[0m\u001b[1;34m\"{} not found in axis\"\u001b[0m\u001b[1;33m.\u001b[0m\u001b[0mformat\u001b[0m\u001b[1;33m(\u001b[0m\u001b[0mlabels\u001b[0m\u001b[1;33m[\u001b[0m\u001b[0mmask\u001b[0m\u001b[1;33m]\u001b[0m\u001b[1;33m)\u001b[0m\u001b[1;33m)\u001b[0m\u001b[1;33m\u001b[0m\u001b[1;33m\u001b[0m\u001b[0m\n\u001b[0m\u001b[0;32m   5341\u001b[0m             \u001b[0mindexer\u001b[0m \u001b[1;33m=\u001b[0m \u001b[0mindexer\u001b[0m\u001b[1;33m[\u001b[0m\u001b[1;33m~\u001b[0m\u001b[0mmask\u001b[0m\u001b[1;33m]\u001b[0m\u001b[1;33m\u001b[0m\u001b[1;33m\u001b[0m\u001b[0m\n\u001b[0;32m   5342\u001b[0m         \u001b[1;32mreturn\u001b[0m \u001b[0mself\u001b[0m\u001b[1;33m.\u001b[0m\u001b[0mdelete\u001b[0m\u001b[1;33m(\u001b[0m\u001b[0mindexer\u001b[0m\u001b[1;33m)\u001b[0m\u001b[1;33m\u001b[0m\u001b[1;33m\u001b[0m\u001b[0m\n",
      "\u001b[1;31mKeyError\u001b[0m: \"['Any' 'Preu'] not found in axis\""
     ]
    }
   ],
   "source": [
    "barcelona = barcelona.drop(['Any', 'Preu'], axis=1)"
   ]
  },
  {
   "cell_type": "code",
   "execution_count": 92,
   "metadata": {},
   "outputs": [],
   "source": [
    "Preu = df.Preu"
   ]
  },
  {
   "cell_type": "code",
   "execution_count": 104,
   "metadata": {},
   "outputs": [
    {
     "data": {
      "text/html": [
       "<div>\n",
       "<style scoped>\n",
       "    .dataframe tbody tr th:only-of-type {\n",
       "        vertical-align: middle;\n",
       "    }\n",
       "\n",
       "    .dataframe tbody tr th {\n",
       "        vertical-align: top;\n",
       "    }\n",
       "\n",
       "    .dataframe thead th {\n",
       "        text-align: right;\n",
       "    }\n",
       "</style>\n",
       "<table border=\"1\" class=\"dataframe\">\n",
       "  <thead>\n",
       "    <tr style=\"text-align: right;\">\n",
       "      <th></th>\n",
       "      <th>const</th>\n",
       "      <th>Nombre</th>\n",
       "      <th>Edad_mitjana</th>\n",
       "      <th>Nom_Districte_Eixample</th>\n",
       "      <th>Nom_Districte_Gràcia</th>\n",
       "      <th>Nom_Districte_Horta-Guinardó</th>\n",
       "      <th>Nom_Districte_Les Corts</th>\n",
       "      <th>Nom_Districte_Nou Barris</th>\n",
       "      <th>Nom_Districte_Sant Andreu</th>\n",
       "      <th>Nom_Districte_Sant Martí</th>\n",
       "      <th>Nom_Districte_Sants-Montjuïc</th>\n",
       "      <th>Nom_Districte_Sarrià-Sant Gervasi</th>\n",
       "      <th>Sexe_Home</th>\n",
       "    </tr>\n",
       "  </thead>\n",
       "  <tbody>\n",
       "    <tr>\n",
       "      <th>0</th>\n",
       "      <td>1.0</td>\n",
       "      <td>1223</td>\n",
       "      <td>32.5</td>\n",
       "      <td>0</td>\n",
       "      <td>0</td>\n",
       "      <td>0</td>\n",
       "      <td>0</td>\n",
       "      <td>0</td>\n",
       "      <td>0</td>\n",
       "      <td>0</td>\n",
       "      <td>0</td>\n",
       "      <td>0</td>\n",
       "      <td>1</td>\n",
       "    </tr>\n",
       "    <tr>\n",
       "      <th>1</th>\n",
       "      <td>1.0</td>\n",
       "      <td>407</td>\n",
       "      <td>33.7</td>\n",
       "      <td>0</td>\n",
       "      <td>0</td>\n",
       "      <td>0</td>\n",
       "      <td>0</td>\n",
       "      <td>0</td>\n",
       "      <td>0</td>\n",
       "      <td>0</td>\n",
       "      <td>0</td>\n",
       "      <td>0</td>\n",
       "      <td>1</td>\n",
       "    </tr>\n",
       "    <tr>\n",
       "      <th>2</th>\n",
       "      <td>1.0</td>\n",
       "      <td>440</td>\n",
       "      <td>34.1</td>\n",
       "      <td>0</td>\n",
       "      <td>0</td>\n",
       "      <td>0</td>\n",
       "      <td>0</td>\n",
       "      <td>0</td>\n",
       "      <td>0</td>\n",
       "      <td>0</td>\n",
       "      <td>0</td>\n",
       "      <td>0</td>\n",
       "      <td>1</td>\n",
       "    </tr>\n",
       "    <tr>\n",
       "      <th>3</th>\n",
       "      <td>1.0</td>\n",
       "      <td>568</td>\n",
       "      <td>32.9</td>\n",
       "      <td>0</td>\n",
       "      <td>0</td>\n",
       "      <td>0</td>\n",
       "      <td>0</td>\n",
       "      <td>0</td>\n",
       "      <td>0</td>\n",
       "      <td>0</td>\n",
       "      <td>0</td>\n",
       "      <td>0</td>\n",
       "      <td>1</td>\n",
       "    </tr>\n",
       "    <tr>\n",
       "      <th>4</th>\n",
       "      <td>1.0</td>\n",
       "      <td>850</td>\n",
       "      <td>33.3</td>\n",
       "      <td>1</td>\n",
       "      <td>0</td>\n",
       "      <td>0</td>\n",
       "      <td>0</td>\n",
       "      <td>0</td>\n",
       "      <td>0</td>\n",
       "      <td>0</td>\n",
       "      <td>0</td>\n",
       "      <td>0</td>\n",
       "      <td>1</td>\n",
       "    </tr>\n",
       "  </tbody>\n",
       "</table>\n",
       "</div>"
      ],
      "text/plain": [
       "   const  Nombre  Edad_mitjana  Nom_Districte_Eixample  Nom_Districte_Gràcia  \\\n",
       "0    1.0    1223          32.5                       0                     0   \n",
       "1    1.0     407          33.7                       0                     0   \n",
       "2    1.0     440          34.1                       0                     0   \n",
       "3    1.0     568          32.9                       0                     0   \n",
       "4    1.0     850          33.3                       1                     0   \n",
       "\n",
       "   Nom_Districte_Horta-Guinardó  Nom_Districte_Les Corts  \\\n",
       "0                             0                        0   \n",
       "1                             0                        0   \n",
       "2                             0                        0   \n",
       "3                             0                        0   \n",
       "4                             0                        0   \n",
       "\n",
       "   Nom_Districte_Nou Barris  Nom_Districte_Sant Andreu  \\\n",
       "0                         0                          0   \n",
       "1                         0                          0   \n",
       "2                         0                          0   \n",
       "3                         0                          0   \n",
       "4                         0                          0   \n",
       "\n",
       "   Nom_Districte_Sant Martí  Nom_Districte_Sants-Montjuïc  \\\n",
       "0                         0                             0   \n",
       "1                         0                             0   \n",
       "2                         0                             0   \n",
       "3                         0                             0   \n",
       "4                         0                             0   \n",
       "\n",
       "   Nom_Districte_Sarrià-Sant Gervasi  Sexe_Home  \n",
       "0                                  0          1  \n",
       "1                                  0          1  \n",
       "2                                  0          1  \n",
       "3                                  0          1  \n",
       "4                                  0          1  "
      ]
     },
     "execution_count": 104,
     "metadata": {},
     "output_type": "execute_result"
    }
   ],
   "source": [
    "barcelona.head()"
   ]
  },
  {
   "cell_type": "code",
   "execution_count": 105,
   "metadata": {},
   "outputs": [
    {
     "name": "stderr",
     "output_type": "stream",
     "text": [
      "c:\\users\\josè valencia\\appdata\\local\\programs\\python\\python38\\lib\\site-packages\\numpy\\core\\fromnumeric.py:2495: FutureWarning:\n",
      "\n",
      "Method .ptp is deprecated and will be removed in a future version. Use numpy.ptp instead.\n",
      "\n"
     ]
    }
   ],
   "source": [
    "barcelona = sm.add_constant(barcelona, prepend=True)\n"
   ]
  },
  {
   "cell_type": "code",
   "execution_count": 106,
   "metadata": {},
   "outputs": [],
   "source": [
    "Preu = np.log(Preu)"
   ]
  },
  {
   "cell_type": "code",
   "execution_count": 108,
   "metadata": {},
   "outputs": [
    {
     "name": "stdout",
     "output_type": "stream",
     "text": [
      "                            OLS Regression Results                            \n",
      "==============================================================================\n",
      "Dep. Variable:                   Preu   R-squared:                         nan\n",
      "Model:                            OLS   Adj. R-squared:                    nan\n",
      "Method:                 Least Squares   F-statistic:                       nan\n",
      "Date:                Tue, 23 Jun 2020   Prob (F-statistic):                nan\n",
      "Time:                        12:17:54   Log-Likelihood:                    nan\n",
      "No. Observations:                 292   AIC:                               nan\n",
      "Df Residuals:                     279   BIC:                               nan\n",
      "Df Model:                          12                                         \n",
      "Covariance Type:            nonrobust                                         \n",
      "=====================================================================================================\n",
      "                                        coef    std err          t      P>|t|      [0.025      0.975]\n",
      "-----------------------------------------------------------------------------------------------------\n",
      "const                                    nan        nan        nan        nan         nan         nan\n",
      "Nombre                                   nan        nan        nan        nan         nan         nan\n",
      "Edad_mitjana                             nan        nan        nan        nan         nan         nan\n",
      "Nom_Districte_Eixample                   nan        nan        nan        nan         nan         nan\n",
      "Nom_Districte_Gràcia                     nan        nan        nan        nan         nan         nan\n",
      "Nom_Districte_Horta-Guinardó             nan        nan        nan        nan         nan         nan\n",
      "Nom_Districte_Les Corts                  nan        nan        nan        nan         nan         nan\n",
      "Nom_Districte_Nou Barris                 nan        nan        nan        nan         nan         nan\n",
      "Nom_Districte_Sant Andreu                nan        nan        nan        nan         nan         nan\n",
      "Nom_Districte_Sant Martí                 nan        nan        nan        nan         nan         nan\n",
      "Nom_Districte_Sants-Montjuïc             nan        nan        nan        nan         nan         nan\n",
      "Nom_Districte_Sarrià-Sant Gervasi        nan        nan        nan        nan         nan         nan\n",
      "Sexe_Home                                nan        nan        nan        nan         nan         nan\n",
      "==============================================================================\n",
      "Omnibus:                          nan   Durbin-Watson:                     nan\n",
      "Prob(Omnibus):                    nan   Jarque-Bera (JB):                  nan\n",
      "Skew:                             nan   Prob(JB):                          nan\n",
      "Kurtosis:                         nan   Cond. No.                     1.51e+04\n",
      "==============================================================================\n",
      "\n",
      "Warnings:\n",
      "[1] Standard Errors assume that the covariance matrix of the errors is correctly specified.\n",
      "[2] The condition number is large, 1.51e+04. This might indicate that there are\n",
      "strong multicollinearity or other numerical problems.\n"
     ]
    }
   ],
   "source": [
    "models = sm.OLS(Preu, barcelona)\n",
    "model=models.fit()\n",
    "print(model.summary())"
   ]
  },
  {
   "cell_type": "code",
   "execution_count": null,
   "metadata": {},
   "outputs": [],
   "source": []
  },
  {
   "cell_type": "code",
   "execution_count": 141,
   "metadata": {},
   "outputs": [],
   "source": [
    "y, x = [Preu], barcelona.Edad_mitjana"
   ]
  },
  {
   "cell_type": "code",
   "execution_count": 142,
   "metadata": {},
   "outputs": [
    {
     "name": "stderr",
     "output_type": "stream",
     "text": [
      "c:\\users\\josè valencia\\appdata\\local\\programs\\python\\python38\\lib\\site-packages\\numpy\\core\\fromnumeric.py:2495: FutureWarning:\n",
      "\n",
      "Method .ptp is deprecated and will be removed in a future version. Use numpy.ptp instead.\n",
      "\n"
     ]
    }
   ],
   "source": [
    "x = sm.add_constant(x, prepend=True)"
   ]
  },
  {
   "cell_type": "code",
   "execution_count": 135,
   "metadata": {},
   "outputs": [
    {
     "data": {
      "text/plain": [
       "22"
      ]
     },
     "execution_count": 135,
     "metadata": {},
     "output_type": "execute_result"
    }
   ],
   "source": []
  },
  {
   "cell_type": "code",
   "execution_count": 143,
   "metadata": {},
   "outputs": [],
   "source": [
    "from sklearn.impute import SimpleImputer"
   ]
  },
  {
   "cell_type": "code",
   "execution_count": 144,
   "metadata": {},
   "outputs": [],
   "source": [
    "X = SimpleImputer(missing_values=np.NaN, strategy='mean')"
   ]
  },
  {
   "cell_type": "code",
   "execution_count": 189,
   "metadata": {},
   "outputs": [
    {
     "ename": "ValueError",
     "evalue": "Expected 2D array, got 1D array instead:\narray=[1.8984434  1.9324129  1.91242106 1.9210473  1.91898326 1.91459258\n 1.95768478 1.94227908 1.92487183 1.91727145 1.89668555 1.89043833\n 1.90749003 1.89107564 1.89712342 1.89297706 1.90030086 1.93298303\n 1.92500259 2.01430177 1.91657042 1.96435087 1.99960056 1.96417899\n 1.97103514 1.92467622 1.91501221 1.88832809 1.90269669 1.91721754\n 1.91472594 1.90577086 1.88422879 1.88742057 1.90424199 1.86458097\n 1.87761063 1.86780111 1.88345146 1.91298977 1.88974137 1.8841108\n 1.8740813  1.87185268 1.87632912 1.88279308 1.85722036 1.86210726\n 1.86447107 1.85391061 1.82918796 1.85292671 1.87028748 1.88905897\n 1.8869366  1.89092761 1.89796254 1.8971406  1.89491534 1.91991148\n 1.96690956 1.91942734 1.95449307 1.87571739 1.92626476 1.89040417\n 1.8829399  1.90365512 1.93611302 1.92104889 1.93139213 1.92410614\n 1.91619705 1.96589602 1.94347624 1.92905183 1.91848102 1.89758836\n 1.88377943 1.90613648 1.90006406 1.89156056 1.89116757 1.90198514\n 1.93813055 1.92660531 1.99532062 1.91059137 1.9733425  1.9866438\n 1.96871699 1.9729046  1.92865804 1.92349617 1.88312693 1.91455421\n 1.91943537 1.91486749 1.90301817 1.88753975 1.89182918 1.89145295\n 1.86517047 1.87574434 1.86749808 1.88311206 1.91137871 1.88858915\n 1.88536747 1.88263543 1.8724985  1.88481508 1.87104562 1.84933695\n 1.86312048 1.87000646 1.84890994 1.8040572  1.82425142 1.85537187\n 1.87688685 1.89064108 1.89950671 1.89033985 1.89939608 1.90110501\n 1.90273326 1.95855152 1.96872674 1.9268677  1.97732545 1.86805588\n 1.91948675 1.8993473  1.88382591 1.90871787 1.93444004 1.91550501\n 1.92837088 1.92805306 1.92285043 1.96064358 1.95096214 1.93320662\n 1.92826453 1.90386554 1.89114559 1.91251772 1.90250085 1.90535764\n 1.89731608 1.90997738 1.94345764 1.93455274 2.01792265 1.9466449\n 1.98443989 2.01023728 1.97232425 1.9776461  1.93568696 1.91822186\n 1.89138117 1.91233113 1.92103937 1.9212644  1.90698676 1.89345108\n 1.89940359 1.91339109 1.86938141 1.88084555 1.87082446 1.89286075\n 1.90391447 1.89101565 1.8886523  1.88224689 1.87579597 1.88660813\n 1.88295692 1.86540603 1.8606572  1.87239722 1.85178002 1.83144234\n 1.85527773 1.87824678 1.89544622 1.896607   1.89750274 1.90417329\n 1.90484239 1.90260155 1.91689357 1.9682263  1.93362676 1.90323144\n 1.87942483 1.92177161 1.90045911 1.89350604 1.90481001 1.94067302\n 1.91941288 1.93271999 1.93017425 1.92208662 1.97417941 1.95442983\n 1.93516157 1.92676311 1.90235241 1.89572822 1.90170901 1.90184899\n 1.90446589 1.90551342 1.90612935 1.93711884 1.92672216 1.9997599\n 1.91700165 1.98243245 1.99572004 1.96811094 1.97769644 1.93713002\n 1.92845171 1.88988469 1.92209763 1.92162013 1.92454667 1.90476862\n 1.88540087 1.89912379 1.9071724  1.86901347 1.88418034 1.87221057\n 1.89029763 1.91340287 1.88916653 1.89658016 1.88462414 1.8778849\n 1.88145132 1.89492699 1.85472203 1.86806777 1.87921062 1.84924673\n 1.83149839 1.84625502 1.87376487 1.87876799 1.89642673 1.89949359\n 1.90069149 1.90708227 1.90911181 1.90629133 1.92342769 1.96908589\n 1.92832146 1.97075522 1.88215065 1.93259116 1.90412266 1.8913293 ].\nReshape your data either using array.reshape(-1, 1) if your data has a single feature or array.reshape(1, -1) if it contains a single sample.",
     "output_type": "error",
     "traceback": [
      "\u001b[1;31m---------------------------------------------------------------------------\u001b[0m",
      "\u001b[1;31mValueError\u001b[0m                                Traceback (most recent call last)",
      "\u001b[1;32m<ipython-input-189-e96fa8610a72>\u001b[0m in \u001b[0;36m<module>\u001b[1;34m\u001b[0m\n\u001b[1;32m----> 1\u001b[1;33m \u001b[0my\u001b[0m \u001b[1;33m=\u001b[0m \u001b[0mX\u001b[0m\u001b[1;33m.\u001b[0m\u001b[0mfit_transform\u001b[0m\u001b[1;33m(\u001b[0m\u001b[0my\u001b[0m\u001b[1;33m)\u001b[0m\u001b[1;33m\u001b[0m\u001b[1;33m\u001b[0m\u001b[0m\n\u001b[0m",
      "\u001b[1;32mc:\\users\\josè valencia\\appdata\\local\\programs\\python\\python38\\lib\\site-packages\\sklearn\\base.py\u001b[0m in \u001b[0;36mfit_transform\u001b[1;34m(self, X, y, **fit_params)\u001b[0m\n\u001b[0;32m    569\u001b[0m         \u001b[1;32mif\u001b[0m \u001b[0my\u001b[0m \u001b[1;32mis\u001b[0m \u001b[1;32mNone\u001b[0m\u001b[1;33m:\u001b[0m\u001b[1;33m\u001b[0m\u001b[1;33m\u001b[0m\u001b[0m\n\u001b[0;32m    570\u001b[0m             \u001b[1;31m# fit method of arity 1 (unsupervised transformation)\u001b[0m\u001b[1;33m\u001b[0m\u001b[1;33m\u001b[0m\u001b[1;33m\u001b[0m\u001b[0m\n\u001b[1;32m--> 571\u001b[1;33m             \u001b[1;32mreturn\u001b[0m \u001b[0mself\u001b[0m\u001b[1;33m.\u001b[0m\u001b[0mfit\u001b[0m\u001b[1;33m(\u001b[0m\u001b[0mX\u001b[0m\u001b[1;33m,\u001b[0m \u001b[1;33m**\u001b[0m\u001b[0mfit_params\u001b[0m\u001b[1;33m)\u001b[0m\u001b[1;33m.\u001b[0m\u001b[0mtransform\u001b[0m\u001b[1;33m(\u001b[0m\u001b[0mX\u001b[0m\u001b[1;33m)\u001b[0m\u001b[1;33m\u001b[0m\u001b[1;33m\u001b[0m\u001b[0m\n\u001b[0m\u001b[0;32m    572\u001b[0m         \u001b[1;32melse\u001b[0m\u001b[1;33m:\u001b[0m\u001b[1;33m\u001b[0m\u001b[1;33m\u001b[0m\u001b[0m\n\u001b[0;32m    573\u001b[0m             \u001b[1;31m# fit method of arity 2 (supervised transformation)\u001b[0m\u001b[1;33m\u001b[0m\u001b[1;33m\u001b[0m\u001b[1;33m\u001b[0m\u001b[0m\n",
      "\u001b[1;32mc:\\users\\josè valencia\\appdata\\local\\programs\\python\\python38\\lib\\site-packages\\sklearn\\impute\\_base.py\u001b[0m in \u001b[0;36mfit\u001b[1;34m(self, X, y)\u001b[0m\n\u001b[0;32m    266\u001b[0m         \u001b[0mself\u001b[0m \u001b[1;33m:\u001b[0m \u001b[0mSimpleImputer\u001b[0m\u001b[1;33m\u001b[0m\u001b[1;33m\u001b[0m\u001b[0m\n\u001b[0;32m    267\u001b[0m         \"\"\"\n\u001b[1;32m--> 268\u001b[1;33m         \u001b[0mX\u001b[0m \u001b[1;33m=\u001b[0m \u001b[0mself\u001b[0m\u001b[1;33m.\u001b[0m\u001b[0m_validate_input\u001b[0m\u001b[1;33m(\u001b[0m\u001b[0mX\u001b[0m\u001b[1;33m)\u001b[0m\u001b[1;33m\u001b[0m\u001b[1;33m\u001b[0m\u001b[0m\n\u001b[0m\u001b[0;32m    269\u001b[0m         \u001b[0msuper\u001b[0m\u001b[1;33m(\u001b[0m\u001b[1;33m)\u001b[0m\u001b[1;33m.\u001b[0m\u001b[0m_fit_indicator\u001b[0m\u001b[1;33m(\u001b[0m\u001b[0mX\u001b[0m\u001b[1;33m)\u001b[0m\u001b[1;33m\u001b[0m\u001b[1;33m\u001b[0m\u001b[0m\n\u001b[0;32m    270\u001b[0m \u001b[1;33m\u001b[0m\u001b[0m\n",
      "\u001b[1;32mc:\\users\\josè valencia\\appdata\\local\\programs\\python\\python38\\lib\\site-packages\\sklearn\\impute\\_base.py\u001b[0m in \u001b[0;36m_validate_input\u001b[1;34m(self, X)\u001b[0m\n\u001b[0;32m    240\u001b[0m                 \u001b[1;32mraise\u001b[0m \u001b[0mnew_ve\u001b[0m \u001b[1;32mfrom\u001b[0m \u001b[1;32mNone\u001b[0m\u001b[1;33m\u001b[0m\u001b[1;33m\u001b[0m\u001b[0m\n\u001b[0;32m    241\u001b[0m             \u001b[1;32melse\u001b[0m\u001b[1;33m:\u001b[0m\u001b[1;33m\u001b[0m\u001b[1;33m\u001b[0m\u001b[0m\n\u001b[1;32m--> 242\u001b[1;33m                 \u001b[1;32mraise\u001b[0m \u001b[0mve\u001b[0m\u001b[1;33m\u001b[0m\u001b[1;33m\u001b[0m\u001b[0m\n\u001b[0m\u001b[0;32m    243\u001b[0m \u001b[1;33m\u001b[0m\u001b[0m\n\u001b[0;32m    244\u001b[0m         \u001b[0m_check_inputs_dtype\u001b[0m\u001b[1;33m(\u001b[0m\u001b[0mX\u001b[0m\u001b[1;33m,\u001b[0m \u001b[0mself\u001b[0m\u001b[1;33m.\u001b[0m\u001b[0mmissing_values\u001b[0m\u001b[1;33m)\u001b[0m\u001b[1;33m\u001b[0m\u001b[1;33m\u001b[0m\u001b[0m\n",
      "\u001b[1;32mc:\\users\\josè valencia\\appdata\\local\\programs\\python\\python38\\lib\\site-packages\\sklearn\\impute\\_base.py\u001b[0m in \u001b[0;36m_validate_input\u001b[1;34m(self, X)\u001b[0m\n\u001b[0;32m    232\u001b[0m \u001b[1;33m\u001b[0m\u001b[0m\n\u001b[0;32m    233\u001b[0m         \u001b[1;32mtry\u001b[0m\u001b[1;33m:\u001b[0m\u001b[1;33m\u001b[0m\u001b[1;33m\u001b[0m\u001b[0m\n\u001b[1;32m--> 234\u001b[1;33m             X = check_array(X, accept_sparse='csc', dtype=dtype,\n\u001b[0m\u001b[0;32m    235\u001b[0m                             force_all_finite=force_all_finite, copy=self.copy)\n\u001b[0;32m    236\u001b[0m         \u001b[1;32mexcept\u001b[0m \u001b[0mValueError\u001b[0m \u001b[1;32mas\u001b[0m \u001b[0mve\u001b[0m\u001b[1;33m:\u001b[0m\u001b[1;33m\u001b[0m\u001b[1;33m\u001b[0m\u001b[0m\n",
      "\u001b[1;32mc:\\users\\josè valencia\\appdata\\local\\programs\\python\\python38\\lib\\site-packages\\sklearn\\utils\\validation.py\u001b[0m in \u001b[0;36mcheck_array\u001b[1;34m(array, accept_sparse, accept_large_sparse, dtype, order, copy, force_all_finite, ensure_2d, allow_nd, ensure_min_samples, ensure_min_features, warn_on_dtype, estimator)\u001b[0m\n\u001b[0;32m    534\u001b[0m             \u001b[1;31m# If input is 1D raise error\u001b[0m\u001b[1;33m\u001b[0m\u001b[1;33m\u001b[0m\u001b[1;33m\u001b[0m\u001b[0m\n\u001b[0;32m    535\u001b[0m             \u001b[1;32mif\u001b[0m \u001b[0marray\u001b[0m\u001b[1;33m.\u001b[0m\u001b[0mndim\u001b[0m \u001b[1;33m==\u001b[0m \u001b[1;36m1\u001b[0m\u001b[1;33m:\u001b[0m\u001b[1;33m\u001b[0m\u001b[1;33m\u001b[0m\u001b[0m\n\u001b[1;32m--> 536\u001b[1;33m                 raise ValueError(\n\u001b[0m\u001b[0;32m    537\u001b[0m                     \u001b[1;34m\"Expected 2D array, got 1D array instead:\\narray={}.\\n\"\u001b[0m\u001b[1;33m\u001b[0m\u001b[1;33m\u001b[0m\u001b[0m\n\u001b[0;32m    538\u001b[0m                     \u001b[1;34m\"Reshape your data either using array.reshape(-1, 1) if \"\u001b[0m\u001b[1;33m\u001b[0m\u001b[1;33m\u001b[0m\u001b[0m\n",
      "\u001b[1;31mValueError\u001b[0m: Expected 2D array, got 1D array instead:\narray=[1.8984434  1.9324129  1.91242106 1.9210473  1.91898326 1.91459258\n 1.95768478 1.94227908 1.92487183 1.91727145 1.89668555 1.89043833\n 1.90749003 1.89107564 1.89712342 1.89297706 1.90030086 1.93298303\n 1.92500259 2.01430177 1.91657042 1.96435087 1.99960056 1.96417899\n 1.97103514 1.92467622 1.91501221 1.88832809 1.90269669 1.91721754\n 1.91472594 1.90577086 1.88422879 1.88742057 1.90424199 1.86458097\n 1.87761063 1.86780111 1.88345146 1.91298977 1.88974137 1.8841108\n 1.8740813  1.87185268 1.87632912 1.88279308 1.85722036 1.86210726\n 1.86447107 1.85391061 1.82918796 1.85292671 1.87028748 1.88905897\n 1.8869366  1.89092761 1.89796254 1.8971406  1.89491534 1.91991148\n 1.96690956 1.91942734 1.95449307 1.87571739 1.92626476 1.89040417\n 1.8829399  1.90365512 1.93611302 1.92104889 1.93139213 1.92410614\n 1.91619705 1.96589602 1.94347624 1.92905183 1.91848102 1.89758836\n 1.88377943 1.90613648 1.90006406 1.89156056 1.89116757 1.90198514\n 1.93813055 1.92660531 1.99532062 1.91059137 1.9733425  1.9866438\n 1.96871699 1.9729046  1.92865804 1.92349617 1.88312693 1.91455421\n 1.91943537 1.91486749 1.90301817 1.88753975 1.89182918 1.89145295\n 1.86517047 1.87574434 1.86749808 1.88311206 1.91137871 1.88858915\n 1.88536747 1.88263543 1.8724985  1.88481508 1.87104562 1.84933695\n 1.86312048 1.87000646 1.84890994 1.8040572  1.82425142 1.85537187\n 1.87688685 1.89064108 1.89950671 1.89033985 1.89939608 1.90110501\n 1.90273326 1.95855152 1.96872674 1.9268677  1.97732545 1.86805588\n 1.91948675 1.8993473  1.88382591 1.90871787 1.93444004 1.91550501\n 1.92837088 1.92805306 1.92285043 1.96064358 1.95096214 1.93320662\n 1.92826453 1.90386554 1.89114559 1.91251772 1.90250085 1.90535764\n 1.89731608 1.90997738 1.94345764 1.93455274 2.01792265 1.9466449\n 1.98443989 2.01023728 1.97232425 1.9776461  1.93568696 1.91822186\n 1.89138117 1.91233113 1.92103937 1.9212644  1.90698676 1.89345108\n 1.89940359 1.91339109 1.86938141 1.88084555 1.87082446 1.89286075\n 1.90391447 1.89101565 1.8886523  1.88224689 1.87579597 1.88660813\n 1.88295692 1.86540603 1.8606572  1.87239722 1.85178002 1.83144234\n 1.85527773 1.87824678 1.89544622 1.896607   1.89750274 1.90417329\n 1.90484239 1.90260155 1.91689357 1.9682263  1.93362676 1.90323144\n 1.87942483 1.92177161 1.90045911 1.89350604 1.90481001 1.94067302\n 1.91941288 1.93271999 1.93017425 1.92208662 1.97417941 1.95442983\n 1.93516157 1.92676311 1.90235241 1.89572822 1.90170901 1.90184899\n 1.90446589 1.90551342 1.90612935 1.93711884 1.92672216 1.9997599\n 1.91700165 1.98243245 1.99572004 1.96811094 1.97769644 1.93713002\n 1.92845171 1.88988469 1.92209763 1.92162013 1.92454667 1.90476862\n 1.88540087 1.89912379 1.9071724  1.86901347 1.88418034 1.87221057\n 1.89029763 1.91340287 1.88916653 1.89658016 1.88462414 1.8778849\n 1.88145132 1.89492699 1.85472203 1.86806777 1.87921062 1.84924673\n 1.83149839 1.84625502 1.87376487 1.87876799 1.89642673 1.89949359\n 1.90069149 1.90708227 1.90911181 1.90629133 1.92342769 1.96908589\n 1.92832146 1.97075522 1.88215065 1.93259116 1.90412266 1.8913293 ].\nReshape your data either using array.reshape(-1, 1) if your data has a single feature or array.reshape(1, -1) if it contains a single sample."
     ]
    }
   ],
   "source": [
    "y = X.fit_transform(y)"
   ]
  },
  {
   "cell_type": "code",
   "execution_count": 190,
   "metadata": {},
   "outputs": [
    {
     "data": {
      "text/plain": [
       "22"
      ]
     },
     "execution_count": 190,
     "metadata": {},
     "output_type": "execute_result"
    }
   ],
   "source": [
    "df.Preu.isnull().sum()"
   ]
  },
  {
   "cell_type": "code",
   "execution_count": 205,
   "metadata": {},
   "outputs": [
    {
     "data": {
      "text/plain": [
       "SimpleImputer(add_indicator=False, copy=True, fill_value=None,\n",
       "              missing_values=nan, strategy='mean', verbose=0)"
      ]
     },
     "execution_count": 205,
     "metadata": {},
     "output_type": "execute_result"
    }
   ],
   "source": [
    "q = [Preu]\n",
    "a = SimpleImputer(missing_values= np.NaN, strategy='mean')\n",
    "a.fit(q)"
   ]
  },
  {
   "cell_type": "code",
   "execution_count": 206,
   "metadata": {},
   "outputs": [],
   "source": [
    "y = a.transform(q)"
   ]
  },
  {
   "cell_type": "code",
   "execution_count": 212,
   "metadata": {},
   "outputs": [],
   "source": [
    "y = np.squeeze(y)"
   ]
  },
  {
   "cell_type": "code",
   "execution_count": 222,
   "metadata": {},
   "outputs": [
    {
     "data": {
      "text/plain": [
       "Any                0\n",
       "Codi_Districte     0\n",
       "Nom_Districte      0\n",
       "Codi_Barri         0\n",
       "Nom_Barri          0\n",
       "Nombre             0\n",
       "Edad_mitjana       0\n",
       "Sexe               0\n",
       "Preu              22\n",
       "LLoguer_mitja      0\n",
       "dtype: int64"
      ]
     },
     "execution_count": 222,
     "metadata": {},
     "output_type": "execute_result"
    }
   ],
   "source": [
    "df.isnull().sum()"
   ]
  },
  {
   "cell_type": "code",
   "execution_count": 223,
   "metadata": {},
   "outputs": [],
   "source": [
    "df1 = df.dropna(axis=0)"
   ]
  },
  {
   "cell_type": "code",
   "execution_count": 224,
   "metadata": {},
   "outputs": [
    {
     "data": {
      "text/plain": [
       "Any               0\n",
       "Codi_Districte    0\n",
       "Nom_Districte     0\n",
       "Codi_Barri        0\n",
       "Nom_Barri         0\n",
       "Nombre            0\n",
       "Edad_mitjana      0\n",
       "Sexe              0\n",
       "Preu              0\n",
       "LLoguer_mitja     0\n",
       "dtype: int64"
      ]
     },
     "execution_count": 224,
     "metadata": {},
     "output_type": "execute_result"
    }
   ],
   "source": [
    "df1.isnull().sum()"
   ]
  },
  {
   "cell_type": "code",
   "execution_count": 225,
   "metadata": {},
   "outputs": [
    {
     "data": {
      "text/html": [
       "<div>\n",
       "<style scoped>\n",
       "    .dataframe tbody tr th:only-of-type {\n",
       "        vertical-align: middle;\n",
       "    }\n",
       "\n",
       "    .dataframe tbody tr th {\n",
       "        vertical-align: top;\n",
       "    }\n",
       "\n",
       "    .dataframe thead th {\n",
       "        text-align: right;\n",
       "    }\n",
       "</style>\n",
       "<table border=\"1\" class=\"dataframe\">\n",
       "  <thead>\n",
       "    <tr style=\"text-align: right;\">\n",
       "      <th></th>\n",
       "      <th>Any</th>\n",
       "      <th>Codi_Districte</th>\n",
       "      <th>Nom_Districte</th>\n",
       "      <th>Codi_Barri</th>\n",
       "      <th>Nom_Barri</th>\n",
       "      <th>Nombre</th>\n",
       "      <th>Edad_mitjana</th>\n",
       "      <th>Sexe</th>\n",
       "      <th>Preu</th>\n",
       "      <th>LLoguer_mitja</th>\n",
       "    </tr>\n",
       "  </thead>\n",
       "  <tbody>\n",
       "    <tr>\n",
       "      <th>0</th>\n",
       "      <td>2018</td>\n",
       "      <td>1</td>\n",
       "      <td>Ciutat Vella</td>\n",
       "      <td>1</td>\n",
       "      <td>el Raval</td>\n",
       "      <td>1223</td>\n",
       "      <td>32.5</td>\n",
       "      <td>Home</td>\n",
       "      <td>792.74</td>\n",
       "      <td>Lloguer mitjà mensual (Euros/mes)</td>\n",
       "    </tr>\n",
       "    <tr>\n",
       "      <th>1</th>\n",
       "      <td>2018</td>\n",
       "      <td>1</td>\n",
       "      <td>Ciutat Vella</td>\n",
       "      <td>2</td>\n",
       "      <td>el Barri Gòtic</td>\n",
       "      <td>407</td>\n",
       "      <td>33.7</td>\n",
       "      <td>Home</td>\n",
       "      <td>998.40</td>\n",
       "      <td>Lloguer mitjà mensual (Euros/mes)</td>\n",
       "    </tr>\n",
       "    <tr>\n",
       "      <th>2</th>\n",
       "      <td>2018</td>\n",
       "      <td>1</td>\n",
       "      <td>Ciutat Vella</td>\n",
       "      <td>3</td>\n",
       "      <td>la Barceloneta</td>\n",
       "      <td>440</td>\n",
       "      <td>34.1</td>\n",
       "      <td>Home</td>\n",
       "      <td>870.84</td>\n",
       "      <td>Lloguer mitjà mensual (Euros/mes)</td>\n",
       "    </tr>\n",
       "    <tr>\n",
       "      <th>3</th>\n",
       "      <td>2018</td>\n",
       "      <td>1</td>\n",
       "      <td>Ciutat Vella</td>\n",
       "      <td>4</td>\n",
       "      <td>Sant Pere, Santa Caterina i la Ribera</td>\n",
       "      <td>568</td>\n",
       "      <td>32.9</td>\n",
       "      <td>Home</td>\n",
       "      <td>923.44</td>\n",
       "      <td>Lloguer mitjà mensual (Euros/mes)</td>\n",
       "    </tr>\n",
       "    <tr>\n",
       "      <th>4</th>\n",
       "      <td>2018</td>\n",
       "      <td>2</td>\n",
       "      <td>Eixample</td>\n",
       "      <td>5</td>\n",
       "      <td>el Fort Pienc</td>\n",
       "      <td>850</td>\n",
       "      <td>33.3</td>\n",
       "      <td>Home</td>\n",
       "      <td>910.53</td>\n",
       "      <td>Lloguer mitjà mensual (Euros/mes)</td>\n",
       "    </tr>\n",
       "  </tbody>\n",
       "</table>\n",
       "</div>"
      ],
      "text/plain": [
       "    Any  Codi_Districte Nom_Districte  Codi_Barri  \\\n",
       "0  2018               1  Ciutat Vella           1   \n",
       "1  2018               1  Ciutat Vella           2   \n",
       "2  2018               1  Ciutat Vella           3   \n",
       "3  2018               1  Ciutat Vella           4   \n",
       "4  2018               2      Eixample           5   \n",
       "\n",
       "                               Nom_Barri  Nombre  Edad_mitjana  Sexe    Preu  \\\n",
       "0                               el Raval    1223          32.5  Home  792.74   \n",
       "1                         el Barri Gòtic     407          33.7  Home  998.40   \n",
       "2                         la Barceloneta     440          34.1  Home  870.84   \n",
       "3  Sant Pere, Santa Caterina i la Ribera     568          32.9  Home  923.44   \n",
       "4                          el Fort Pienc     850          33.3  Home  910.53   \n",
       "\n",
       "                       LLoguer_mitja  \n",
       "0  Lloguer mitjà mensual (Euros/mes)  \n",
       "1  Lloguer mitjà mensual (Euros/mes)  \n",
       "2  Lloguer mitjà mensual (Euros/mes)  \n",
       "3  Lloguer mitjà mensual (Euros/mes)  \n",
       "4  Lloguer mitjà mensual (Euros/mes)  "
      ]
     },
     "execution_count": 225,
     "metadata": {},
     "output_type": "execute_result"
    }
   ],
   "source": [
    "df1.head()"
   ]
  },
  {
   "cell_type": "code",
   "execution_count": 226,
   "metadata": {},
   "outputs": [],
   "source": [
    "y = df1.Preu"
   ]
  },
  {
   "cell_type": "code",
   "execution_count": 232,
   "metadata": {},
   "outputs": [
    {
     "data": {
      "text/html": [
       "<div>\n",
       "<style scoped>\n",
       "    .dataframe tbody tr th:only-of-type {\n",
       "        vertical-align: middle;\n",
       "    }\n",
       "\n",
       "    .dataframe tbody tr th {\n",
       "        vertical-align: top;\n",
       "    }\n",
       "\n",
       "    .dataframe thead th {\n",
       "        text-align: right;\n",
       "    }\n",
       "</style>\n",
       "<table border=\"1\" class=\"dataframe\">\n",
       "  <thead>\n",
       "    <tr style=\"text-align: right;\">\n",
       "      <th></th>\n",
       "      <th>Nombre</th>\n",
       "      <th>Edad_mitjana</th>\n",
       "      <th>Nom_Districte_Eixample</th>\n",
       "      <th>Nom_Districte_Gràcia</th>\n",
       "      <th>Nom_Districte_Horta-Guinardó</th>\n",
       "      <th>Nom_Districte_Les Corts</th>\n",
       "      <th>Nom_Districte_Nou Barris</th>\n",
       "      <th>Nom_Districte_Sant Andreu</th>\n",
       "      <th>Nom_Districte_Sant Martí</th>\n",
       "      <th>Nom_Districte_Sants-Montjuïc</th>\n",
       "      <th>Nom_Districte_Sarrià-Sant Gervasi</th>\n",
       "      <th>Sexe_Home</th>\n",
       "    </tr>\n",
       "  </thead>\n",
       "  <tbody>\n",
       "    <tr>\n",
       "      <th>0</th>\n",
       "      <td>1223</td>\n",
       "      <td>32.5</td>\n",
       "      <td>0</td>\n",
       "      <td>0</td>\n",
       "      <td>0</td>\n",
       "      <td>0</td>\n",
       "      <td>0</td>\n",
       "      <td>0</td>\n",
       "      <td>0</td>\n",
       "      <td>0</td>\n",
       "      <td>0</td>\n",
       "      <td>1</td>\n",
       "    </tr>\n",
       "    <tr>\n",
       "      <th>1</th>\n",
       "      <td>407</td>\n",
       "      <td>33.7</td>\n",
       "      <td>0</td>\n",
       "      <td>0</td>\n",
       "      <td>0</td>\n",
       "      <td>0</td>\n",
       "      <td>0</td>\n",
       "      <td>0</td>\n",
       "      <td>0</td>\n",
       "      <td>0</td>\n",
       "      <td>0</td>\n",
       "      <td>1</td>\n",
       "    </tr>\n",
       "    <tr>\n",
       "      <th>2</th>\n",
       "      <td>440</td>\n",
       "      <td>34.1</td>\n",
       "      <td>0</td>\n",
       "      <td>0</td>\n",
       "      <td>0</td>\n",
       "      <td>0</td>\n",
       "      <td>0</td>\n",
       "      <td>0</td>\n",
       "      <td>0</td>\n",
       "      <td>0</td>\n",
       "      <td>0</td>\n",
       "      <td>1</td>\n",
       "    </tr>\n",
       "    <tr>\n",
       "      <th>3</th>\n",
       "      <td>568</td>\n",
       "      <td>32.9</td>\n",
       "      <td>0</td>\n",
       "      <td>0</td>\n",
       "      <td>0</td>\n",
       "      <td>0</td>\n",
       "      <td>0</td>\n",
       "      <td>0</td>\n",
       "      <td>0</td>\n",
       "      <td>0</td>\n",
       "      <td>0</td>\n",
       "      <td>1</td>\n",
       "    </tr>\n",
       "    <tr>\n",
       "      <th>4</th>\n",
       "      <td>850</td>\n",
       "      <td>33.3</td>\n",
       "      <td>1</td>\n",
       "      <td>0</td>\n",
       "      <td>0</td>\n",
       "      <td>0</td>\n",
       "      <td>0</td>\n",
       "      <td>0</td>\n",
       "      <td>0</td>\n",
       "      <td>0</td>\n",
       "      <td>0</td>\n",
       "      <td>1</td>\n",
       "    </tr>\n",
       "  </tbody>\n",
       "</table>\n",
       "</div>"
      ],
      "text/plain": [
       "   Nombre  Edad_mitjana  Nom_Districte_Eixample  Nom_Districte_Gràcia  \\\n",
       "0    1223          32.5                       0                     0   \n",
       "1     407          33.7                       0                     0   \n",
       "2     440          34.1                       0                     0   \n",
       "3     568          32.9                       0                     0   \n",
       "4     850          33.3                       1                     0   \n",
       "\n",
       "   Nom_Districte_Horta-Guinardó  Nom_Districte_Les Corts  \\\n",
       "0                             0                        0   \n",
       "1                             0                        0   \n",
       "2                             0                        0   \n",
       "3                             0                        0   \n",
       "4                             0                        0   \n",
       "\n",
       "   Nom_Districte_Nou Barris  Nom_Districte_Sant Andreu  \\\n",
       "0                         0                          0   \n",
       "1                         0                          0   \n",
       "2                         0                          0   \n",
       "3                         0                          0   \n",
       "4                         0                          0   \n",
       "\n",
       "   Nom_Districte_Sant Martí  Nom_Districte_Sants-Montjuïc  \\\n",
       "0                         0                             0   \n",
       "1                         0                             0   \n",
       "2                         0                             0   \n",
       "3                         0                             0   \n",
       "4                         0                             0   \n",
       "\n",
       "   Nom_Districte_Sarrià-Sant Gervasi  Sexe_Home  \n",
       "0                                  0          1  \n",
       "1                                  0          1  \n",
       "2                                  0          1  \n",
       "3                                  0          1  \n",
       "4                                  0          1  "
      ]
     },
     "execution_count": 232,
     "metadata": {},
     "output_type": "execute_result"
    }
   ],
   "source": [
    "l = ['Codi_Barri', 'Codi_Districte', 'Preu', 'Any', 'Nom_Barri']\n",
    "x = df1.drop(l, axis=1)\n",
    "X = pd.get_dummies(x, drop_first=True)\n",
    "X.head()"
   ]
  },
  {
   "cell_type": "code",
   "execution_count": 233,
   "metadata": {},
   "outputs": [],
   "source": [
    "X = sm.add_constant(X)"
   ]
  },
  {
   "cell_type": "code",
   "execution_count": 234,
   "metadata": {},
   "outputs": [
    {
     "name": "stdout",
     "output_type": "stream",
     "text": [
      "                            OLS Regression Results                            \n",
      "==============================================================================\n",
      "Dep. Variable:                   Preu   R-squared:                       0.635\n",
      "Model:                            OLS   Adj. R-squared:                  0.618\n",
      "Method:                 Least Squares   F-statistic:                     37.20\n",
      "Date:                Tue, 23 Jun 2020   Prob (F-statistic):           2.25e-49\n",
      "Time:                        16:34:39   Log-Likelihood:                -1718.7\n",
      "No. Observations:                 270   AIC:                             3463.\n",
      "Df Residuals:                     257   BIC:                             3510.\n",
      "Df Model:                          12                                         \n",
      "Covariance Type:            nonrobust                                         \n",
      "=====================================================================================================\n",
      "                                        coef    std err          t      P>|t|      [0.025      0.975]\n",
      "-----------------------------------------------------------------------------------------------------\n",
      "const                               649.0861    173.787      3.735      0.000     306.859     991.313\n",
      "Nombre                               -0.0248      0.020     -1.269      0.206      -0.063       0.014\n",
      "Edad_mitjana                          9.6308      4.844      1.988      0.048       0.091      19.170\n",
      "Nom_Districte_Eixample               83.0387     46.897      1.771      0.078      -9.313     175.391\n",
      "Nom_Districte_Gràcia                -77.0946     49.866     -1.546      0.123    -175.292      21.103\n",
      "Nom_Districte_Horta-Guinardó       -212.3802     45.908     -4.626      0.000    -302.784    -121.976\n",
      "Nom_Districte_Les Corts             284.7104     56.676      5.023      0.000     173.102     396.319\n",
      "Nom_Districte_Nou Barris           -300.1748     45.413     -6.610      0.000    -389.603    -210.747\n",
      "Nom_Districte_Sant Andreu          -219.1028     48.173     -4.548      0.000    -313.968    -124.238\n",
      "Nom_Districte_Sant Martí            -33.3735     44.768     -0.745      0.457    -121.532      54.785\n",
      "Nom_Districte_Sants-Montjuïc       -151.1600     46.518     -3.250      0.001    -242.765     -59.555\n",
      "Nom_Districte_Sarrià-Sant Gervasi   298.0370     48.331      6.167      0.000     202.862     393.212\n",
      "Sexe_Home                           -14.8640     19.429     -0.765      0.445     -53.123      23.395\n",
      "==============================================================================\n",
      "Omnibus:                       55.642   Durbin-Watson:                   2.294\n",
      "Prob(Omnibus):                  0.000   Jarque-Bera (JB):              155.236\n",
      "Skew:                           0.911   Prob(JB):                     1.95e-34\n",
      "Kurtosis:                       6.237   Cond. No.                     1.73e+04\n",
      "==============================================================================\n",
      "\n",
      "Warnings:\n",
      "[1] Standard Errors assume that the covariance matrix of the errors is correctly specified.\n",
      "[2] The condition number is large, 1.73e+04. This might indicate that there are\n",
      "strong multicollinearity or other numerical problems.\n"
     ]
    }
   ],
   "source": [
    "mo = sm.OLS(y, X)\n",
    "m1 = mo.fit()\n",
    "print(m1.summary())"
   ]
  },
  {
   "cell_type": "code",
   "execution_count": null,
   "metadata": {},
   "outputs": [],
   "source": []
  },
  {
   "cell_type": "code",
   "execution_count": 236,
   "metadata": {},
   "outputs": [
    {
     "data": {
      "text/plain": [
       "Index(['Any', 'Codi_Districte', 'Nom_Districte', 'Codi_Barri', 'Nom_Barri',\n",
       "       'Nombre', 'Edad_mitjana', 'Sexe', 'Preu', 'LLoguer_mitja'],\n",
       "      dtype='object')"
      ]
     },
     "execution_count": 236,
     "metadata": {},
     "output_type": "execute_result"
    }
   ],
   "source": [
    "df1.columns"
   ]
  },
  {
   "cell_type": "code",
   "execution_count": 251,
   "metadata": {},
   "outputs": [
    {
     "data": {
      "text/html": [
       "<div>\n",
       "<style scoped>\n",
       "    .dataframe tbody tr th:only-of-type {\n",
       "        vertical-align: middle;\n",
       "    }\n",
       "\n",
       "    .dataframe tbody tr th {\n",
       "        vertical-align: top;\n",
       "    }\n",
       "\n",
       "    .dataframe thead th {\n",
       "        text-align: right;\n",
       "    }\n",
       "</style>\n",
       "<table border=\"1\" class=\"dataframe\">\n",
       "  <thead>\n",
       "    <tr style=\"text-align: right;\">\n",
       "      <th></th>\n",
       "      <th>Any</th>\n",
       "      <th>Codi_Districte</th>\n",
       "      <th>Nom_Districte</th>\n",
       "      <th>Codi_Barri</th>\n",
       "      <th>Nom_Barri</th>\n",
       "      <th>Moviment</th>\n",
       "      <th>Nacionalitat</th>\n",
       "      <th>Nombre</th>\n",
       "    </tr>\n",
       "  </thead>\n",
       "  <tbody>\n",
       "    <tr>\n",
       "      <th>0</th>\n",
       "      <td>2017</td>\n",
       "      <td>1</td>\n",
       "      <td>Ciutat Vella</td>\n",
       "      <td>1</td>\n",
       "      <td>el Raval</td>\n",
       "      <td>alta</td>\n",
       "      <td>Espanyols</td>\n",
       "      <td>1320</td>\n",
       "    </tr>\n",
       "    <tr>\n",
       "      <th>1</th>\n",
       "      <td>2017</td>\n",
       "      <td>1</td>\n",
       "      <td>Ciutat Vella</td>\n",
       "      <td>2</td>\n",
       "      <td>el Barri Gòtic</td>\n",
       "      <td>alta</td>\n",
       "      <td>Espanyols</td>\n",
       "      <td>376</td>\n",
       "    </tr>\n",
       "    <tr>\n",
       "      <th>2</th>\n",
       "      <td>2017</td>\n",
       "      <td>1</td>\n",
       "      <td>Ciutat Vella</td>\n",
       "      <td>3</td>\n",
       "      <td>la Barceloneta</td>\n",
       "      <td>alta</td>\n",
       "      <td>Espanyols</td>\n",
       "      <td>461</td>\n",
       "    </tr>\n",
       "    <tr>\n",
       "      <th>3</th>\n",
       "      <td>2017</td>\n",
       "      <td>1</td>\n",
       "      <td>Ciutat Vella</td>\n",
       "      <td>4</td>\n",
       "      <td>Sant Pere, Santa Caterina i la Ribera</td>\n",
       "      <td>alta</td>\n",
       "      <td>Espanyols</td>\n",
       "      <td>608</td>\n",
       "    </tr>\n",
       "    <tr>\n",
       "      <th>4</th>\n",
       "      <td>2017</td>\n",
       "      <td>2</td>\n",
       "      <td>Eixample</td>\n",
       "      <td>5</td>\n",
       "      <td>el Fort Pienc</td>\n",
       "      <td>alta</td>\n",
       "      <td>Espanyols</td>\n",
       "      <td>883</td>\n",
       "    </tr>\n",
       "  </tbody>\n",
       "</table>\n",
       "</div>"
      ],
      "text/plain": [
       "    Any  Codi_Districte Nom_Districte  Codi_Barri  \\\n",
       "0  2017               1  Ciutat Vella           1   \n",
       "1  2017               1  Ciutat Vella           2   \n",
       "2  2017               1  Ciutat Vella           3   \n",
       "3  2017               1  Ciutat Vella           4   \n",
       "4  2017               2      Eixample           5   \n",
       "\n",
       "                               Nom_Barri Moviment Nacionalitat  Nombre  \n",
       "0                               el Raval     alta    Espanyols    1320  \n",
       "1                         el Barri Gòtic     alta    Espanyols     376  \n",
       "2                         la Barceloneta     alta    Espanyols     461  \n",
       "3  Sant Pere, Santa Caterina i la Ribera     alta    Espanyols     608  \n",
       "4                          el Fort Pienc     alta    Espanyols     883  "
      ]
     },
     "execution_count": 251,
     "metadata": {},
     "output_type": "execute_result"
    }
   ],
   "source": [
    "d3.head()"
   ]
  },
  {
   "cell_type": "code",
   "execution_count": null,
   "metadata": {},
   "outputs": [],
   "source": []
  },
  {
   "cell_type": "code",
   "execution_count": null,
   "metadata": {},
   "outputs": [],
   "source": []
  }
 ],
 "metadata": {
  "kernelspec": {
   "display_name": "Python 3",
   "language": "python",
   "name": "python3"
  },
  "language_info": {
   "codemirror_mode": {
    "name": "ipython",
    "version": 3
   },
   "file_extension": ".py",
   "mimetype": "text/x-python",
   "name": "python",
   "nbconvert_exporter": "python",
   "pygments_lexer": "ipython3",
   "version": "3.8.1"
  }
 },
 "nbformat": 4,
 "nbformat_minor": 2
}
