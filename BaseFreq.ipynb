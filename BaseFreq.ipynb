{
 "cells": [
  {
   "cell_type": "code",
   "execution_count": 1,
   "metadata": {},
   "outputs": [],
   "source": [
    "import numpy as np\n",
    "import pandas as pd\n",
    "import scipy.stats as sps\n",
    "import statsmodels.formula.api as smf\n",
    "import statsmodels.api as sm\n",
    "import matplotlib.pyplot as plt\n",
    "#from patsy import dmatrices\n",
    "import seaborn as sns\n",
    "sns.set_style('darkgrid')"
   ]
  },
  {
   "cell_type": "code",
   "execution_count": 2,
   "metadata": {},
   "outputs": [],
   "source": [
    "f = r'C:\\Users\\Josè Valencia\\Desktop\\Python\\RStudio\\baseFREQ.csv'"
   ]
  },
  {
   "cell_type": "markdown",
   "metadata": {},
   "source": [
    "# Exercises of python"
   ]
  },
  {
   "cell_type": "code",
   "execution_count": 3,
   "metadata": {},
   "outputs": [],
   "source": [
    "df = pd.read_csv(f, sep=';', encoding='unicode_escape', index_col=0)"
   ]
  },
  {
   "cell_type": "code",
   "execution_count": 18,
   "metadata": {},
   "outputs": [
    {
     "name": "stdout",
     "output_type": "stream",
     "text": [
      "<class 'pandas.core.frame.DataFrame'>\n",
      "Int64Index: 39075 entries, 1 to 39075\n",
      "Data columns (total 14 columns):\n",
      "freq_paiement      39075 non-null int32\n",
      "langue             39075 non-null int32\n",
      "type_prof          39075 non-null object\n",
      "alimentation       39075 non-null object\n",
      "type_territoire    39075 non-null object\n",
      "utilisation        39075 non-null object\n",
      "presence_alarme    39075 non-null int32\n",
      "marque_voiture     39075 non-null object\n",
      "sexe               39075 non-null int32\n",
      "nbsin              39075 non-null int64\n",
      "exposition         39075 non-null object\n",
      "cout               39075 non-null float64\n",
      "age                39075 non-null int64\n",
      "duree_permis       39075 non-null int64\n",
      "dtypes: float64(1), int32(4), int64(3), object(6)\n",
      "memory usage: 3.9+ MB\n"
     ]
    }
   ],
   "source": [
    "df.sexe = np.where(df.sexe=='M',1,0)\n",
    "df.presence_alarme = np.where(df.presence_alarme=='oui',1,0)\n",
    "df.freq_paiement = np.where(df.freq_paiement=='annuel',1,0)\n",
    "df.langue = np.where(df.langue=='A',1,0)\n",
    "df.info()"
   ]
  },
  {
   "cell_type": "code",
   "execution_count": null,
   "metadata": {},
   "outputs": [],
   "source": []
  },
  {
   "cell_type": "code",
   "execution_count": 19,
   "metadata": {},
   "outputs": [
    {
     "data": {
      "text/html": [
       "<div>\n",
       "<style scoped>\n",
       "    .dataframe tbody tr th:only-of-type {\n",
       "        vertical-align: middle;\n",
       "    }\n",
       "\n",
       "    .dataframe tbody tr th {\n",
       "        vertical-align: top;\n",
       "    }\n",
       "\n",
       "    .dataframe thead th {\n",
       "        text-align: right;\n",
       "    }\n",
       "</style>\n",
       "<table border=\"1\" class=\"dataframe\">\n",
       "  <thead>\n",
       "    <tr style=\"text-align: right;\">\n",
       "      <th></th>\n",
       "      <th>freq_paiement</th>\n",
       "      <th>langue</th>\n",
       "      <th>type_prof</th>\n",
       "      <th>alimentation</th>\n",
       "      <th>type_territoire</th>\n",
       "      <th>utilisation</th>\n",
       "      <th>presence_alarme</th>\n",
       "      <th>marque_voiture</th>\n",
       "      <th>sexe</th>\n",
       "      <th>nbsin</th>\n",
       "      <th>exposition</th>\n",
       "      <th>cout</th>\n",
       "      <th>age</th>\n",
       "      <th>duree_permis</th>\n",
       "    </tr>\n",
       "    <tr>\n",
       "      <th>numeropol</th>\n",
       "      <th></th>\n",
       "      <th></th>\n",
       "      <th></th>\n",
       "      <th></th>\n",
       "      <th></th>\n",
       "      <th></th>\n",
       "      <th></th>\n",
       "      <th></th>\n",
       "      <th></th>\n",
       "      <th></th>\n",
       "      <th></th>\n",
       "      <th></th>\n",
       "      <th></th>\n",
       "      <th></th>\n",
       "    </tr>\n",
       "  </thead>\n",
       "  <tbody>\n",
       "    <tr>\n",
       "      <th>1</th>\n",
       "      <td>0</td>\n",
       "      <td>0</td>\n",
       "      <td>Technicien</td>\n",
       "      <td>Végétarien</td>\n",
       "      <td>Urbain</td>\n",
       "      <td>Travail-quotidien</td>\n",
       "      <td>0</td>\n",
       "      <td>VOLKSWAGEN</td>\n",
       "      <td>0</td>\n",
       "      <td>0</td>\n",
       "      <td>0.610958904</td>\n",
       "      <td>0.00</td>\n",
       "      <td>29</td>\n",
       "      <td>10</td>\n",
       "    </tr>\n",
       "    <tr>\n",
       "      <th>2</th>\n",
       "      <td>0</td>\n",
       "      <td>0</td>\n",
       "      <td>Technicien</td>\n",
       "      <td>Végétarien</td>\n",
       "      <td>Urbain</td>\n",
       "      <td>Travail-quotidien</td>\n",
       "      <td>0</td>\n",
       "      <td>VOLKSWAGEN</td>\n",
       "      <td>0</td>\n",
       "      <td>0</td>\n",
       "      <td>0.663013699</td>\n",
       "      <td>0.00</td>\n",
       "      <td>30</td>\n",
       "      <td>11</td>\n",
       "    </tr>\n",
       "    <tr>\n",
       "      <th>3</th>\n",
       "      <td>1</td>\n",
       "      <td>1</td>\n",
       "      <td>Technicien</td>\n",
       "      <td>Carnivore</td>\n",
       "      <td>Urbain</td>\n",
       "      <td>Travail-occasionnel</td>\n",
       "      <td>1</td>\n",
       "      <td>NISSAN</td>\n",
       "      <td>1</td>\n",
       "      <td>1</td>\n",
       "      <td>0.994520548</td>\n",
       "      <td>279.58</td>\n",
       "      <td>42</td>\n",
       "      <td>21</td>\n",
       "    </tr>\n",
       "    <tr>\n",
       "      <th>4</th>\n",
       "      <td>1</td>\n",
       "      <td>1</td>\n",
       "      <td>Technicien</td>\n",
       "      <td>Carnivore</td>\n",
       "      <td>Urbain</td>\n",
       "      <td>Travail-occasionnel</td>\n",
       "      <td>1</td>\n",
       "      <td>NISSAN</td>\n",
       "      <td>1</td>\n",
       "      <td>0</td>\n",
       "      <td>0.873972603</td>\n",
       "      <td>0.00</td>\n",
       "      <td>43</td>\n",
       "      <td>22</td>\n",
       "    </tr>\n",
       "    <tr>\n",
       "      <th>5</th>\n",
       "      <td>1</td>\n",
       "      <td>1</td>\n",
       "      <td>Technicien</td>\n",
       "      <td>Carnivore</td>\n",
       "      <td>Urbain</td>\n",
       "      <td>Travail-occasionnel</td>\n",
       "      <td>1</td>\n",
       "      <td>NISSAN</td>\n",
       "      <td>1</td>\n",
       "      <td>0</td>\n",
       "      <td>0.043835616</td>\n",
       "      <td>0.00</td>\n",
       "      <td>44</td>\n",
       "      <td>23</td>\n",
       "    </tr>\n",
       "  </tbody>\n",
       "</table>\n",
       "</div>"
      ],
      "text/plain": [
       "           freq_paiement  langue   type_prof alimentation type_territoire  \\\n",
       "numeropol                                                                   \n",
       "1                      0       0  Technicien   Végétarien          Urbain   \n",
       "2                      0       0  Technicien   Végétarien          Urbain   \n",
       "3                      1       1  Technicien    Carnivore          Urbain   \n",
       "4                      1       1  Technicien    Carnivore          Urbain   \n",
       "5                      1       1  Technicien    Carnivore          Urbain   \n",
       "\n",
       "                   utilisation  presence_alarme marque_voiture  sexe  nbsin  \\\n",
       "numeropol                                                                     \n",
       "1            Travail-quotidien                0     VOLKSWAGEN     0      0   \n",
       "2            Travail-quotidien                0     VOLKSWAGEN     0      0   \n",
       "3          Travail-occasionnel                1         NISSAN     1      1   \n",
       "4          Travail-occasionnel                1         NISSAN     1      0   \n",
       "5          Travail-occasionnel                1         NISSAN     1      0   \n",
       "\n",
       "            exposition    cout  age  duree_permis  \n",
       "numeropol                                          \n",
       "1          0.610958904    0.00   29            10  \n",
       "2          0.663013699    0.00   30            11  \n",
       "3          0.994520548  279.58   42            21  \n",
       "4          0.873972603    0.00   43            22  \n",
       "5          0.043835616    0.00   44            23  "
      ]
     },
     "execution_count": 19,
     "metadata": {},
     "output_type": "execute_result"
    }
   ],
   "source": [
    "df.head()"
   ]
  },
  {
   "cell_type": "code",
   "execution_count": null,
   "metadata": {},
   "outputs": [],
   "source": []
  },
  {
   "cell_type": "code",
   "execution_count": 7,
   "metadata": {},
   "outputs": [
    {
     "data": {
      "text/plain": [
       "count    39075.000000\n",
       "mean        45.590633\n",
       "std         12.057312\n",
       "min         18.000000\n",
       "25%         36.000000\n",
       "50%         44.000000\n",
       "75%         54.000000\n",
       "max         87.000000\n",
       "Name: age, dtype: float64"
      ]
     },
     "execution_count": 7,
     "metadata": {},
     "output_type": "execute_result"
    }
   ],
   "source": [
    "df.age.describe()"
   ]
  },
  {
   "cell_type": "code",
   "execution_count": 21,
   "metadata": {},
   "outputs": [
    {
     "data": {
      "text/plain": [
       "<matplotlib.axes._subplots.AxesSubplot at 0x232f88704c0>"
      ]
     },
     "execution_count": 21,
     "metadata": {},
     "output_type": "execute_result"
    },
    {
     "data": {
      "image/png": "[encoded data removed]",
      "text/plain": [
       "<Figure size 432x288 with 1 Axes>"
      ]
     },
     "metadata": {},
     "output_type": "display_data"
    }
   ],
   "source": [
    "df.nbsin.plot(kind='hist')"
   ]
  },
  {
   "cell_type": "code",
   "execution_count": 19,
   "metadata": {},
   "outputs": [
    {
     "data": {
      "text/plain": [
       "0    33386\n",
       "1     4957\n",
       "2      646\n",
       "3       78\n",
       "4        7\n",
       "5        1\n",
       "Name: nbsin, dtype: int64"
      ]
     },
     "execution_count": 19,
     "metadata": {},
     "output_type": "execute_result"
    }
   ],
   "source": [
    "df.nbsin.value_counts()"
   ]
  },
  {
   "cell_type": "code",
   "execution_count": 20,
   "metadata": {},
   "outputs": [
    {
     "data": {
      "text/plain": [
       "DescribeResult(nobs=39075, minmax=(0, 5), mean=0.16675623800383876, variance=0.1866565069654242, skewness=2.8480374597268714, kurtosis=9.33716281451126)"
      ]
     },
     "execution_count": 20,
     "metadata": {},
     "output_type": "execute_result"
    }
   ],
   "source": [
    "sps.describe(df.nbsin)"
   ]
  },
  {
   "cell_type": "code",
   "execution_count": null,
   "metadata": {},
   "outputs": [],
   "source": []
  },
  {
   "cell_type": "code",
   "execution_count": null,
   "metadata": {},
   "outputs": [],
   "source": []
  },
  {
   "cell_type": "code",
   "execution_count": null,
   "metadata": {},
   "outputs": [],
   "source": []
  },
  {
   "cell_type": "code",
   "execution_count": null,
   "metadata": {},
   "outputs": [],
   "source": []
  },
  {
   "cell_type": "code",
   "execution_count": null,
   "metadata": {},
   "outputs": [],
   "source": []
  },
  {
   "cell_type": "code",
   "execution_count": null,
   "metadata": {},
   "outputs": [],
   "source": []
  },
  {
   "cell_type": "code",
   "execution_count": null,
   "metadata": {},
   "outputs": [],
   "source": []
  },
  {
   "cell_type": "code",
   "execution_count": null,
   "metadata": {},
   "outputs": [],
   "source": []
  },
  {
   "cell_type": "code",
   "execution_count": null,
   "metadata": {},
   "outputs": [],
   "source": []
  },
  {
   "cell_type": "code",
   "execution_count": null,
   "metadata": {},
   "outputs": [],
   "source": []
  },
  {
   "cell_type": "code",
   "execution_count": null,
   "metadata": {},
   "outputs": [],
   "source": []
  },
  {
   "cell_type": "code",
   "execution_count": null,
   "metadata": {},
   "outputs": [],
   "source": []
  },
  {
   "cell_type": "code",
   "execution_count": null,
   "metadata": {},
   "outputs": [],
   "source": []
  },
  {
   "cell_type": "code",
   "execution_count": 6,
   "metadata": {},
   "outputs": [
    {
     "data": {
      "text/plain": [
       "count     39075.000000\n",
       "mean       1326.171073\n",
       "std       12934.046195\n",
       "min           0.000000\n",
       "25%           0.000000\n",
       "50%           0.000000\n",
       "75%           0.000000\n",
       "max      665751.990000\n",
       "Name: cout, dtype: float64"
      ]
     },
     "execution_count": 6,
     "metadata": {},
     "output_type": "execute_result"
    }
   ],
   "source": [
    "df.cout.describe()"
   ]
  },
  {
   "cell_type": "code",
   "execution_count": 122,
   "metadata": {},
   "outputs": [],
   "source": [
    "pdf1 = sps.lognorm.pdf(x, f1[0], f1[1], f1[2])"
   ]
  },
  {
   "cell_type": "code",
   "execution_count": 35,
   "metadata": {},
   "outputs": [],
   "source": [
    "def standarise(column,pct,pct_lower):\n",
    "    sc = StandardScaler()\n",
    "    y = df[column][df[column].notnull()].to_list()\n",
    "    y.sort()\n",
    "    len_y = len(y)\n",
    "    y = y[int(pct_lower * len_y):int(len_y * pct)]\n",
    "    len_y = len(y)\n",
    "    yy=([[x] for x in y])\n",
    "    sc.fit(yy)\n",
    "    y_std =sc.transform(yy)\n",
    "    y_std = y_std.flatten()\n",
    "    return y_std,len_y,y"
   ]
  },
  {
   "cell_type": "code",
   "execution_count": 36,
   "metadata": {},
   "outputs": [],
   "source": [
    "def fit_distribution(column, pct, pct_lower):\n",
    "    # Set up list of candidate distributions to use\n",
    "    # See https://docs.scipy.org/doc/scipy/reference/stats.html for more\n",
    "    y_std, size, y_org = standarise(column, pct, pct_lower)\n",
    "    dist_names = ['weibull_min', 'norm', 'weibull_max', 'beta',\n",
    "                  'invgauss', 'uniform', 'gamma', 'expon', 'lognorm', 'pearson3', 'triang']\n",
    "\n",
    "    chi_square_statistics = []\n",
    "    # 11 bins\n",
    "    percentile_bins = np.linspace(0, 100, 11)\n",
    "    percentile_cutoffs = np.percentile(y_std, percentile_bins)\n",
    "    observed_frequency, bins = (np.histogram(y_std, bins=percentile_cutoffs))\n",
    "    cum_observed_frequency = np.cumsum(observed_frequency)\n",
    "\n",
    "    # Loop through candidate distributions\n",
    "\n",
    "    for distribution in dist_names:\n",
    "        # Set up distribution and get fitted distribution parameters\n",
    "        dist = getattr(scipy.stats, distribution)\n",
    "        param = dist.fit(y_std)\n",
    "        print(\"{}\\n{}\\n\".format(dist, param))\n",
    "\n",
    "        # Get expected counts in percentile bins\n",
    "        # cdf of fitted sistrinution across bins\n",
    "        cdf_fitted = dist.cdf(percentile_cutoffs, *param)\n",
    "        expected_frequency = []\n",
    "        for bin in range(len(percentile_bins) - 1):\n",
    "            expected_cdf_area = cdf_fitted[bin + 1] - cdf_fitted[bin]\n",
    "            expected_frequency.append(expected_cdf_area)\n",
    "\n",
    "        # Chi-square Statistics\n",
    "        expected_frequency = np.array(expected_frequency) * size\n",
    "        cum_expected_frequency = np.cumsum(expected_frequency)\n",
    "        ss = round(sum(((cum_expected_frequency - cum_observed_frequency) ** 2) / cum_observed_frequency), 0)\n",
    "        chi_square_statistics.append(ss)\n",
    "\n",
    "    # Sort by minimum ch-square statistics\n",
    "    results = pd.DataFrame()\n",
    "    results['Distribution'] = dist_names\n",
    "    results['chi_square'] = chi_square_statistics\n",
    "    results.sort_values(['chi_square'], inplace=True)\n",
    "\n",
    "    print('\\nDistributions listed by Betterment of fit:')\n",
    "    print('............................................')\n",
    "    print(results)"
   ]
  },
  {
   "cell_type": "code",
   "execution_count": 39,
   "metadata": {},
   "outputs": [
    {
     "name": "stdout",
     "output_type": "stream",
     "text": [
      "<scipy.stats._continuous_distns.weibull_min_gen object at 0x0000016567B740A0>\n",
      "(3.6483742552437706, -3.185395240596659, 3.5418580774481914)\n",
      "\n",
      "<scipy.stats._continuous_distns.norm_gen object at 0x0000016567B2E160>\n",
      "(-1.4250191180439675e-16, 1.0)\n",
      "\n",
      "<scipy.stats._continuous_distns.weibull_max_gen object at 0x0000016567B74370>\n",
      "(2.729572490823182, 2.4955450404036466, 2.809904017516832)\n",
      "\n",
      "<scipy.stats._continuous_distns.beta_gen object at 0x0000016567B2ED00>\n",
      "(2.111096626853681, 2.253019244771612, -2.2492253592357696, 4.615281268887337)\n",
      "\n",
      "<scipy.stats._continuous_distns.invgauss_gen object at 0x0000016567BA0A90>\n",
      "(0.023185294014503158, -6.878121112273135, 296.0143502928919)\n",
      "\n",
      "<scipy.stats._continuous_distns.uniform_gen object at 0x0000016567BF2730>\n",
      "(-2.101158898170456, 4.414906044707897)\n",
      "\n",
      "<scipy.stats._continuous_distns.gamma_gen object at 0x0000016567B887F0>\n",
      "(515.7002237701972, -22.81547724885162, 0.0442420808291398)\n",
      "\n",
      "<scipy.stats._continuous_distns.expon_gen object at 0x0000016567B66D90>\n",
      "(-2.101158898170456, 2.101158898170456)\n",
      "\n",
      "<scipy.stats._continuous_distns.lognorm_gen object at 0x0000016567BB9A30>\n",
      "(0.009338933962167888, -107.1446875040312, 107.14595133001671)\n",
      "\n",
      "<scipy.stats._continuous_distns.pearson3_gen object at 0x0000016567BD1F40>\n",
      "(-0.4313326970982095, -2.584994653947001e-16, 1.0098529799678935)\n",
      "\n",
      "<scipy.stats._continuous_distns.triang_gen object at 0x0000016567BE7DC0>\n",
      "(0.5518664480277564, -2.3959903911067304, 4.7447462584924995)\n",
      "\n",
      "\n",
      "Distributions listed by Betterment of fit:\n",
      "............................................\n",
      "   Distribution  chi_square\n",
      "10       triang       754.0\n",
      "3          beta       768.0\n",
      "2   weibull_max      1030.0\n",
      "0   weibull_min      1113.0\n",
      "6         gamma      1262.0\n",
      "1          norm      1270.0\n",
      "8       lognorm      1286.0\n",
      "4      invgauss      1689.0\n",
      "5       uniform      4439.0\n",
      "7         expon     40672.0\n",
      "9      pearson3    796179.0\n"
     ]
    }
   ],
   "source": [
    "fit_distribution('duree_permis', 0.99, 0.01)"
   ]
  },
  {
   "cell_type": "code",
   "execution_count": 140,
   "metadata": {},
   "outputs": [],
   "source": [
    "y_std,len_y,y = standarise('age',0.99,0.01)"
   ]
  },
  {
   "cell_type": "code",
   "execution_count": 156,
   "metadata": {},
   "outputs": [
    {
     "data": {
      "image/png": "[encoded data removed]",
      "text/plain": [
       "<Figure size 1080x360 with 3 Axes>"
      ]
     },
     "metadata": {},
     "output_type": "display_data"
    }
   ],
   "source": [
    "plt.rcParams['figure.figsize'] = [15,5]\n",
    "plt.subplot(1,3,1)\n",
    "plt.hist(df.age, alpha=0.8)\n",
    "plt.subplot(1,3,2)\n",
    "plt.plot(y, triang.pdf(y_std, 0.99, 0.01))\n",
    "plt.subplot(1,3,3)\n",
    "plt.plot(y, weibull_min.pdf(y_std, 0.99, 0.01))\n",
    "plt.show()"
   ]
  },
  {
   "cell_type": "code",
   "execution_count": 143,
   "metadata": {},
   "outputs": [
    {
     "data": {
      "image/png": "[encoded data removed]",
      "text/plain": [
       "<Figure size 1080x360 with 1 Axes>"
      ]
     },
     "metadata": {},
     "output_type": "display_data"
    }
   ],
   "source": [
    "plt.rcParams['figure.figsize'] = [15, 5]\n",
    "plt.hist(df.age, density=True, alpha=0.5)\n",
    "plt.plot(y, triang.pdf(y_std, 0.99, 0.01), label='Triang', color='navy')\n",
    "plt.plot(y, weibull_max.pdf(y_std, 0.99, 0.01), label='Weibull', color='green')\n",
    "plt.show()"
   ]
  },
  {
   "cell_type": "code",
   "execution_count": 13,
   "metadata": {},
   "outputs": [
    {
     "data": {
      "text/plain": [
       "numeropol\n",
       "1    0.000000\n",
       "2    0.000000\n",
       "3    5.636859\n",
       "4    0.000000\n",
       "5    0.000000\n",
       "Name: cout, dtype: float64"
      ]
     },
     "execution_count": 13,
     "metadata": {},
     "output_type": "execute_result"
    }
   ],
   "source": [
    "df.cout = np.log(df.cout+1)\n",
    "df.cout.head()"
   ]
  },
  {
   "cell_type": "code",
   "execution_count": 14,
   "metadata": {},
   "outputs": [
    {
     "data": {
      "image/png": "[encoded data removed]",
      "text/plain": [
       "<Figure size 432x288 with 1 Axes>"
      ]
     },
     "metadata": {},
     "output_type": "display_data"
    }
   ],
   "source": [
    "plt.hist(df.cout, density=True)\n",
    "plt.show()"
   ]
  },
  {
   "cell_type": "code",
   "execution_count": null,
   "metadata": {},
   "outputs": [],
   "source": []
  },
  {
   "cell_type": "code",
   "execution_count": null,
   "metadata": {},
   "outputs": [],
   "source": []
  },
  {
   "cell_type": "code",
   "execution_count": 150,
   "metadata": {},
   "outputs": [],
   "source": [
    "x = np.linspace(0, np.max(df.cout), 1000)"
   ]
  },
  {
   "cell_type": "code",
   "execution_count": null,
   "metadata": {},
   "outputs": [],
   "source": []
  },
  {
   "cell_type": "code",
   "execution_count": 33,
   "metadata": {},
   "outputs": [
    {
     "data": {
      "image/png": "[encoded data removed]",
      "text/plain": [
       "<Figure size 1080x720 with 1 Axes>"
      ]
     },
     "metadata": {
      "needs_background": "light"
     },
     "output_type": "display_data"
    }
   ],
   "source": [
    "plt.rcParams['figure.figsize'] = [15,10]\n",
    "datos.plot(kind='barh', stacked = True)\n",
    "plt.show()"
   ]
  },
  {
   "cell_type": "code",
   "execution_count": 23,
   "metadata": {},
   "outputs": [],
   "source": [
    "marca = auto.marque_voiture.value_counts()"
   ]
  },
  {
   "cell_type": "code",
   "execution_count": 66,
   "metadata": {},
   "outputs": [],
   "source": [
    "jobs = auto.type_prof.value_counts()"
   ]
  },
  {
   "cell_type": "code",
   "execution_count": 67,
   "metadata": {},
   "outputs": [],
   "source": [
    "france = auto[auto.langue == 'F']"
   ]
  },
  {
   "cell_type": "code",
   "execution_count": 68,
   "metadata": {},
   "outputs": [],
   "source": [
    "aleman = auto[auto.langue == 'A']"
   ]
  },
  {
   "cell_type": "code",
   "execution_count": 85,
   "metadata": {},
   "outputs": [],
   "source": [
    "f = france.groupby('type_prof').nbsin.sum()"
   ]
  },
  {
   "cell_type": "code",
   "execution_count": 86,
   "metadata": {},
   "outputs": [],
   "source": [
    "a = aleman.groupby('type_prof').nbsin.sum()"
   ]
  },
  {
   "cell_type": "code",
   "execution_count": 80,
   "metadata": {},
   "outputs": [],
   "source": [
    "accidente = auto.groupby('type_prof').nbsin.sum()"
   ]
  },
  {
   "cell_type": "code",
   "execution_count": 83,
   "metadata": {},
   "outputs": [],
   "source": [
    "a = pd.DataFrame([accidente]).T"
   ]
  },
  {
   "cell_type": "code",
   "execution_count": 87,
   "metadata": {},
   "outputs": [],
   "source": [
    "totale = pd.DataFrame({'aleman':a, 'frances':f})"
   ]
  },
  {
   "cell_type": "code",
   "execution_count": 111,
   "metadata": {},
   "outputs": [],
   "source": [
    "urb1 = auto[auto.type_territoire=='Urbain']"
   ]
  },
  {
   "cell_type": "code",
   "execution_count": 114,
   "metadata": {},
   "outputs": [],
   "source": [
    "u1 = urb1.groupby('type_prof').nbsin.sum()"
   ]
  },
  {
   "cell_type": "code",
   "execution_count": 115,
   "metadata": {},
   "outputs": [],
   "source": [
    "urb2 = auto[auto.type_territoire=='Semi-urbain']\n",
    "urb3 = auto[auto.type_territoire =='Rural']"
   ]
  },
  {
   "cell_type": "code",
   "execution_count": 120,
   "metadata": {},
   "outputs": [],
   "source": [
    "u2 = urb2.groupby('type_prof').nbsin.sum()\n",
    "u3 = urb3.groupby('type_prof').nbsin.sum()"
   ]
  },
  {
   "cell_type": "code",
   "execution_count": 121,
   "metadata": {},
   "outputs": [],
   "source": [
    "accidente2 = pd.DataFrame({'Urbain':u1,'Semi-urbain':u2,'Rural':u3})"
   ]
  },
  {
   "cell_type": "code",
   "execution_count": 123,
   "metadata": {},
   "outputs": [
    {
     "data": {
      "image/png": "[encoded data removed]",
      "text/plain": [
       "<Figure size 1080x360 with 1 Axes>"
      ]
     },
     "metadata": {
      "needs_background": "light"
     },
     "output_type": "display_data"
    }
   ],
   "source": [
    "plt.rcParams['figure.figsize'] = [15,5]\n",
    "accidente2.plot(kind='barh', stacked=True)\n",
    "plt.show()"
   ]
  },
  {
   "cell_type": "code",
   "execution_count": 125,
   "metadata": {},
   "outputs": [
    {
     "data": {
      "text/html": [
       "<div>\n",
       "<style scoped>\n",
       "    .dataframe tbody tr th:only-of-type {\n",
       "        vertical-align: middle;\n",
       "    }\n",
       "\n",
       "    .dataframe tbody tr th {\n",
       "        vertical-align: top;\n",
       "    }\n",
       "\n",
       "    .dataframe thead th {\n",
       "        text-align: right;\n",
       "    }\n",
       "</style>\n",
       "<table border=\"1\" class=\"dataframe\">\n",
       "  <thead>\n",
       "    <tr style=\"text-align: right;\">\n",
       "      <th></th>\n",
       "      <th>Urbain</th>\n",
       "      <th>Semi-urbain</th>\n",
       "      <th>Rural</th>\n",
       "    </tr>\n",
       "    <tr>\n",
       "      <th>type_prof</th>\n",
       "      <th></th>\n",
       "      <th></th>\n",
       "      <th></th>\n",
       "    </tr>\n",
       "  </thead>\n",
       "  <tbody>\n",
       "    <tr>\n",
       "      <th>Actuaire</th>\n",
       "      <td>96</td>\n",
       "      <td>159</td>\n",
       "      <td>24</td>\n",
       "    </tr>\n",
       "    <tr>\n",
       "      <th>Autre</th>\n",
       "      <td>68</td>\n",
       "      <td>119</td>\n",
       "      <td>14</td>\n",
       "    </tr>\n",
       "    <tr>\n",
       "      <th>Avocat</th>\n",
       "      <td>228</td>\n",
       "      <td>401</td>\n",
       "      <td>25</td>\n",
       "    </tr>\n",
       "    <tr>\n",
       "      <th>Hockeyeur</th>\n",
       "      <td>101</td>\n",
       "      <td>294</td>\n",
       "      <td>4</td>\n",
       "    </tr>\n",
       "    <tr>\n",
       "      <th>Infirmière</th>\n",
       "      <td>189</td>\n",
       "      <td>454</td>\n",
       "      <td>29</td>\n",
       "    </tr>\n",
       "    <tr>\n",
       "      <th>Informaticien</th>\n",
       "      <td>126</td>\n",
       "      <td>270</td>\n",
       "      <td>16</td>\n",
       "    </tr>\n",
       "    <tr>\n",
       "      <th>Ingénieur</th>\n",
       "      <td>166</td>\n",
       "      <td>384</td>\n",
       "      <td>11</td>\n",
       "    </tr>\n",
       "    <tr>\n",
       "      <th>Médecin</th>\n",
       "      <td>49</td>\n",
       "      <td>176</td>\n",
       "      <td>3</td>\n",
       "    </tr>\n",
       "    <tr>\n",
       "      <th>Professeur</th>\n",
       "      <td>114</td>\n",
       "      <td>120</td>\n",
       "      <td>1</td>\n",
       "    </tr>\n",
       "    <tr>\n",
       "      <th>Technicien</th>\n",
       "      <td>997</td>\n",
       "      <td>1782</td>\n",
       "      <td>96</td>\n",
       "    </tr>\n",
       "  </tbody>\n",
       "</table>\n",
       "</div>"
      ],
      "text/plain": [
       "               Urbain  Semi-urbain  Rural\n",
       "type_prof                                \n",
       "Actuaire           96          159     24\n",
       "Autre              68          119     14\n",
       "Avocat            228          401     25\n",
       "Hockeyeur         101          294      4\n",
       "Infirmière        189          454     29\n",
       "Informaticien     126          270     16\n",
       "Ingénieur         166          384     11\n",
       "Médecin            49          176      3\n",
       "Professeur        114          120      1\n",
       "Technicien        997         1782     96"
      ]
     },
     "execution_count": 125,
     "metadata": {},
     "output_type": "execute_result"
    }
   ],
   "source": [
    "accidente2"
   ]
  },
  {
   "cell_type": "code",
   "execution_count": 94,
   "metadata": {},
   "outputs": [
    {
     "data": {
      "text/plain": [
       "Semi-urbain    23366\n",
       "Urbain         14616\n",
       "Rural           1093\n",
       "Name: type_territoire, dtype: int64"
      ]
     },
     "execution_count": 94,
     "metadata": {},
     "output_type": "execute_result"
    }
   ],
   "source": [
    "auto.type_territoire.value_counts()"
   ]
  },
  {
   "cell_type": "code",
   "execution_count": 92,
   "metadata": {},
   "outputs": [
    {
     "data": {
      "text/html": [
       "<div>\n",
       "<style scoped>\n",
       "    .dataframe tbody tr th:only-of-type {\n",
       "        vertical-align: middle;\n",
       "    }\n",
       "\n",
       "    .dataframe tbody tr th {\n",
       "        vertical-align: top;\n",
       "    }\n",
       "\n",
       "    .dataframe thead th {\n",
       "        text-align: right;\n",
       "    }\n",
       "</style>\n",
       "<table border=\"1\" class=\"dataframe\">\n",
       "  <thead>\n",
       "    <tr style=\"text-align: right;\">\n",
       "      <th></th>\n",
       "      <th>aleman</th>\n",
       "      <th>frances</th>\n",
       "    </tr>\n",
       "    <tr>\n",
       "      <th>type_prof</th>\n",
       "      <th></th>\n",
       "      <th></th>\n",
       "    </tr>\n",
       "  </thead>\n",
       "  <tbody>\n",
       "    <tr>\n",
       "      <th>Actuaire</th>\n",
       "      <td>90</td>\n",
       "      <td>189</td>\n",
       "    </tr>\n",
       "    <tr>\n",
       "      <th>Autre</th>\n",
       "      <td>63</td>\n",
       "      <td>138</td>\n",
       "    </tr>\n",
       "    <tr>\n",
       "      <th>Avocat</th>\n",
       "      <td>205</td>\n",
       "      <td>449</td>\n",
       "    </tr>\n",
       "    <tr>\n",
       "      <th>Hockeyeur</th>\n",
       "      <td>100</td>\n",
       "      <td>299</td>\n",
       "    </tr>\n",
       "    <tr>\n",
       "      <th>Infirmière</th>\n",
       "      <td>156</td>\n",
       "      <td>516</td>\n",
       "    </tr>\n",
       "    <tr>\n",
       "      <th>Informaticien</th>\n",
       "      <td>112</td>\n",
       "      <td>300</td>\n",
       "    </tr>\n",
       "    <tr>\n",
       "      <th>Ingénieur</th>\n",
       "      <td>144</td>\n",
       "      <td>417</td>\n",
       "    </tr>\n",
       "    <tr>\n",
       "      <th>Médecin</th>\n",
       "      <td>40</td>\n",
       "      <td>188</td>\n",
       "    </tr>\n",
       "    <tr>\n",
       "      <th>Professeur</th>\n",
       "      <td>101</td>\n",
       "      <td>134</td>\n",
       "    </tr>\n",
       "    <tr>\n",
       "      <th>Technicien</th>\n",
       "      <td>872</td>\n",
       "      <td>2003</td>\n",
       "    </tr>\n",
       "  </tbody>\n",
       "</table>\n",
       "</div>"
      ],
      "text/plain": [
       "               aleman  frances\n",
       "type_prof                     \n",
       "Actuaire           90      189\n",
       "Autre              63      138\n",
       "Avocat            205      449\n",
       "Hockeyeur         100      299\n",
       "Infirmière        156      516\n",
       "Informaticien     112      300\n",
       "Ingénieur         144      417\n",
       "Médecin            40      188\n",
       "Professeur        101      134\n",
       "Technicien        872     2003"
      ]
     },
     "execution_count": 92,
     "metadata": {},
     "output_type": "execute_result"
    }
   ],
   "source": [
    "totale"
   ]
  },
  {
   "cell_type": "code",
   "execution_count": 91,
   "metadata": {},
   "outputs": [
    {
     "data": {
      "image/png": "[encoded data removed]",
      "text/plain": [
       "<Figure size 1080x360 with 1 Axes>"
      ]
     },
     "metadata": {
      "needs_background": "light"
     },
     "output_type": "display_data"
    }
   ],
   "source": [
    "plt.rcParams['figure.figsize'] = [15,5]\n",
    "totale.plot(kind='barh', stacked = True)\n",
    "plt.title('Numeros de accidente por profesiòn', fontweight='bold')\n",
    "plt.show()"
   ]
  },
  {
   "cell_type": "code",
   "execution_count": 84,
   "metadata": {},
   "outputs": [
    {
     "data": {
      "text/html": [
       "<div>\n",
       "<style scoped>\n",
       "    .dataframe tbody tr th:only-of-type {\n",
       "        vertical-align: middle;\n",
       "    }\n",
       "\n",
       "    .dataframe tbody tr th {\n",
       "        vertical-align: top;\n",
       "    }\n",
       "\n",
       "    .dataframe thead th {\n",
       "        text-align: right;\n",
       "    }\n",
       "</style>\n",
       "<table border=\"1\" class=\"dataframe\">\n",
       "  <thead>\n",
       "    <tr style=\"text-align: right;\">\n",
       "      <th></th>\n",
       "      <th>nbsin</th>\n",
       "    </tr>\n",
       "    <tr>\n",
       "      <th>type_prof</th>\n",
       "      <th></th>\n",
       "    </tr>\n",
       "  </thead>\n",
       "  <tbody>\n",
       "    <tr>\n",
       "      <th>Actuaire</th>\n",
       "      <td>279</td>\n",
       "    </tr>\n",
       "    <tr>\n",
       "      <th>Autre</th>\n",
       "      <td>201</td>\n",
       "    </tr>\n",
       "    <tr>\n",
       "      <th>Avocat</th>\n",
       "      <td>654</td>\n",
       "    </tr>\n",
       "    <tr>\n",
       "      <th>Hockeyeur</th>\n",
       "      <td>399</td>\n",
       "    </tr>\n",
       "    <tr>\n",
       "      <th>Infirmière</th>\n",
       "      <td>672</td>\n",
       "    </tr>\n",
       "    <tr>\n",
       "      <th>Informaticien</th>\n",
       "      <td>412</td>\n",
       "    </tr>\n",
       "    <tr>\n",
       "      <th>Ingénieur</th>\n",
       "      <td>561</td>\n",
       "    </tr>\n",
       "    <tr>\n",
       "      <th>Médecin</th>\n",
       "      <td>228</td>\n",
       "    </tr>\n",
       "    <tr>\n",
       "      <th>Professeur</th>\n",
       "      <td>235</td>\n",
       "    </tr>\n",
       "    <tr>\n",
       "      <th>Technicien</th>\n",
       "      <td>2875</td>\n",
       "    </tr>\n",
       "  </tbody>\n",
       "</table>\n",
       "</div>"
      ],
      "text/plain": [
       "               nbsin\n",
       "type_prof           \n",
       "Actuaire         279\n",
       "Autre            201\n",
       "Avocat           654\n",
       "Hockeyeur        399\n",
       "Infirmière       672\n",
       "Informaticien    412\n",
       "Ingénieur        561\n",
       "Médecin          228\n",
       "Professeur       235\n",
       "Technicien      2875"
      ]
     },
     "execution_count": 84,
     "metadata": {},
     "output_type": "execute_result"
    }
   ],
   "source": [
    "a"
   ]
  },
  {
   "cell_type": "code",
   "execution_count": 79,
   "metadata": {},
   "outputs": [
    {
     "data": {
      "text/plain": [
       "marque_voiture\n",
       "ALFA ROMEO       131\n",
       "AUDI             222\n",
       "Autres            48\n",
       "BMW              231\n",
       "CHRYSLER          41\n",
       "DAEWOO            27\n",
       "DAIHATSU          10\n",
       "FIAT             241\n",
       "FORD             552\n",
       "GM               576\n",
       "HONDA            569\n",
       "HYUNDAI           42\n",
       "KIA               23\n",
       "LADA               5\n",
       "LANCIA            54\n",
       "MAZDA            189\n",
       "MERCEDES-BENZ    200\n",
       "MITSUBISHI       170\n",
       "NISSAN           342\n",
       "PEUGEOT          435\n",
       "PORSCHE            0\n",
       "RENAULT          611\n",
       "ROVER             86\n",
       "SAAB              37\n",
       "SEAT             129\n",
       "SKODA             48\n",
       "SUBARU            23\n",
       "SUZUKI            56\n",
       "TOYOTA           368\n",
       "VOLKSWAGEN       982\n",
       "VOLVO             68\n",
       "Name: nbsin, dtype: int64"
      ]
     },
     "execution_count": 79,
     "metadata": {},
     "output_type": "execute_result"
    }
   ],
   "source": [
    "auto.groupby('marque_voiture').nbsin.sum()"
   ]
  },
  {
   "cell_type": "code",
   "execution_count": null,
   "metadata": {},
   "outputs": [],
   "source": []
  },
  {
   "cell_type": "code",
   "execution_count": 6,
   "metadata": {},
   "outputs": [],
   "source": [
    "df1 = auto.drop(['exposition', 'nbsin'], axis =1)"
   ]
  },
  {
   "cell_type": "code",
   "execution_count": null,
   "metadata": {},
   "outputs": [],
   "source": []
  },
  {
   "cell_type": "code",
   "execution_count": 7,
   "metadata": {},
   "outputs": [],
   "source": [
    "df2 = pd.get_dummies(df1, drop_first=True)"
   ]
  },
  {
   "cell_type": "code",
   "execution_count": 8,
   "metadata": {},
   "outputs": [
    {
     "data": {
      "text/html": [
       "<div>\n",
       "<style scoped>\n",
       "    .dataframe tbody tr th:only-of-type {\n",
       "        vertical-align: middle;\n",
       "    }\n",
       "\n",
       "    .dataframe tbody tr th {\n",
       "        vertical-align: top;\n",
       "    }\n",
       "\n",
       "    .dataframe thead th {\n",
       "        text-align: right;\n",
       "    }\n",
       "</style>\n",
       "<table border=\"1\" class=\"dataframe\">\n",
       "  <thead>\n",
       "    <tr style=\"text-align: right;\">\n",
       "      <th></th>\n",
       "      <th>cout</th>\n",
       "      <th>age</th>\n",
       "      <th>duree_permis</th>\n",
       "      <th>freq_paiement_mensuel</th>\n",
       "      <th>langue_F</th>\n",
       "      <th>type_prof_Autre</th>\n",
       "      <th>type_prof_Avocat</th>\n",
       "      <th>type_prof_Hockeyeur</th>\n",
       "      <th>type_prof_Infirmière</th>\n",
       "      <th>type_prof_Informaticien</th>\n",
       "      <th>...</th>\n",
       "      <th>marque_voiture_ROVER</th>\n",
       "      <th>marque_voiture_SAAB</th>\n",
       "      <th>marque_voiture_SEAT</th>\n",
       "      <th>marque_voiture_SKODA</th>\n",
       "      <th>marque_voiture_SUBARU</th>\n",
       "      <th>marque_voiture_SUZUKI</th>\n",
       "      <th>marque_voiture_TOYOTA</th>\n",
       "      <th>marque_voiture_VOLKSWAGEN</th>\n",
       "      <th>marque_voiture_VOLVO</th>\n",
       "      <th>sexe_M</th>\n",
       "    </tr>\n",
       "    <tr>\n",
       "      <th>numeropol</th>\n",
       "      <th></th>\n",
       "      <th></th>\n",
       "      <th></th>\n",
       "      <th></th>\n",
       "      <th></th>\n",
       "      <th></th>\n",
       "      <th></th>\n",
       "      <th></th>\n",
       "      <th></th>\n",
       "      <th></th>\n",
       "      <th></th>\n",
       "      <th></th>\n",
       "      <th></th>\n",
       "      <th></th>\n",
       "      <th></th>\n",
       "      <th></th>\n",
       "      <th></th>\n",
       "      <th></th>\n",
       "      <th></th>\n",
       "      <th></th>\n",
       "      <th></th>\n",
       "    </tr>\n",
       "  </thead>\n",
       "  <tbody>\n",
       "    <tr>\n",
       "      <th>1</th>\n",
       "      <td>0.00</td>\n",
       "      <td>29</td>\n",
       "      <td>10</td>\n",
       "      <td>1</td>\n",
       "      <td>1</td>\n",
       "      <td>0</td>\n",
       "      <td>0</td>\n",
       "      <td>0</td>\n",
       "      <td>0</td>\n",
       "      <td>0</td>\n",
       "      <td>...</td>\n",
       "      <td>0</td>\n",
       "      <td>0</td>\n",
       "      <td>0</td>\n",
       "      <td>0</td>\n",
       "      <td>0</td>\n",
       "      <td>0</td>\n",
       "      <td>0</td>\n",
       "      <td>1</td>\n",
       "      <td>0</td>\n",
       "      <td>0</td>\n",
       "    </tr>\n",
       "    <tr>\n",
       "      <th>2</th>\n",
       "      <td>0.00</td>\n",
       "      <td>30</td>\n",
       "      <td>11</td>\n",
       "      <td>1</td>\n",
       "      <td>1</td>\n",
       "      <td>0</td>\n",
       "      <td>0</td>\n",
       "      <td>0</td>\n",
       "      <td>0</td>\n",
       "      <td>0</td>\n",
       "      <td>...</td>\n",
       "      <td>0</td>\n",
       "      <td>0</td>\n",
       "      <td>0</td>\n",
       "      <td>0</td>\n",
       "      <td>0</td>\n",
       "      <td>0</td>\n",
       "      <td>0</td>\n",
       "      <td>1</td>\n",
       "      <td>0</td>\n",
       "      <td>0</td>\n",
       "    </tr>\n",
       "    <tr>\n",
       "      <th>3</th>\n",
       "      <td>279.58</td>\n",
       "      <td>42</td>\n",
       "      <td>21</td>\n",
       "      <td>0</td>\n",
       "      <td>0</td>\n",
       "      <td>0</td>\n",
       "      <td>0</td>\n",
       "      <td>0</td>\n",
       "      <td>0</td>\n",
       "      <td>0</td>\n",
       "      <td>...</td>\n",
       "      <td>0</td>\n",
       "      <td>0</td>\n",
       "      <td>0</td>\n",
       "      <td>0</td>\n",
       "      <td>0</td>\n",
       "      <td>0</td>\n",
       "      <td>0</td>\n",
       "      <td>0</td>\n",
       "      <td>0</td>\n",
       "      <td>1</td>\n",
       "    </tr>\n",
       "    <tr>\n",
       "      <th>4</th>\n",
       "      <td>0.00</td>\n",
       "      <td>43</td>\n",
       "      <td>22</td>\n",
       "      <td>0</td>\n",
       "      <td>0</td>\n",
       "      <td>0</td>\n",
       "      <td>0</td>\n",
       "      <td>0</td>\n",
       "      <td>0</td>\n",
       "      <td>0</td>\n",
       "      <td>...</td>\n",
       "      <td>0</td>\n",
       "      <td>0</td>\n",
       "      <td>0</td>\n",
       "      <td>0</td>\n",
       "      <td>0</td>\n",
       "      <td>0</td>\n",
       "      <td>0</td>\n",
       "      <td>0</td>\n",
       "      <td>0</td>\n",
       "      <td>1</td>\n",
       "    </tr>\n",
       "    <tr>\n",
       "      <th>5</th>\n",
       "      <td>0.00</td>\n",
       "      <td>44</td>\n",
       "      <td>23</td>\n",
       "      <td>0</td>\n",
       "      <td>0</td>\n",
       "      <td>0</td>\n",
       "      <td>0</td>\n",
       "      <td>0</td>\n",
       "      <td>0</td>\n",
       "      <td>0</td>\n",
       "      <td>...</td>\n",
       "      <td>0</td>\n",
       "      <td>0</td>\n",
       "      <td>0</td>\n",
       "      <td>0</td>\n",
       "      <td>0</td>\n",
       "      <td>0</td>\n",
       "      <td>0</td>\n",
       "      <td>0</td>\n",
       "      <td>0</td>\n",
       "      <td>1</td>\n",
       "    </tr>\n",
       "  </tbody>\n",
       "</table>\n",
       "<p>5 rows × 52 columns</p>\n",
       "</div>"
      ],
      "text/plain": [
       "             cout  age  duree_permis  freq_paiement_mensuel  langue_F  \\\n",
       "numeropol                                                               \n",
       "1            0.00   29            10                      1         1   \n",
       "2            0.00   30            11                      1         1   \n",
       "3          279.58   42            21                      0         0   \n",
       "4            0.00   43            22                      0         0   \n",
       "5            0.00   44            23                      0         0   \n",
       "\n",
       "           type_prof_Autre  type_prof_Avocat  type_prof_Hockeyeur  \\\n",
       "numeropol                                                           \n",
       "1                        0                 0                    0   \n",
       "2                        0                 0                    0   \n",
       "3                        0                 0                    0   \n",
       "4                        0                 0                    0   \n",
       "5                        0                 0                    0   \n",
       "\n",
       "           type_prof_Infirmière  type_prof_Informaticien  ...  \\\n",
       "numeropol                                                 ...   \n",
       "1                             0                        0  ...   \n",
       "2                             0                        0  ...   \n",
       "3                             0                        0  ...   \n",
       "4                             0                        0  ...   \n",
       "5                             0                        0  ...   \n",
       "\n",
       "           marque_voiture_ROVER  marque_voiture_SAAB  marque_voiture_SEAT  \\\n",
       "numeropol                                                                   \n",
       "1                             0                    0                    0   \n",
       "2                             0                    0                    0   \n",
       "3                             0                    0                    0   \n",
       "4                             0                    0                    0   \n",
       "5                             0                    0                    0   \n",
       "\n",
       "           marque_voiture_SKODA  marque_voiture_SUBARU  marque_voiture_SUZUKI  \\\n",
       "numeropol                                                                       \n",
       "1                             0                      0                      0   \n",
       "2                             0                      0                      0   \n",
       "3                             0                      0                      0   \n",
       "4                             0                      0                      0   \n",
       "5                             0                      0                      0   \n",
       "\n",
       "           marque_voiture_TOYOTA  marque_voiture_VOLKSWAGEN  \\\n",
       "numeropol                                                     \n",
       "1                              0                          1   \n",
       "2                              0                          1   \n",
       "3                              0                          0   \n",
       "4                              0                          0   \n",
       "5                              0                          0   \n",
       "\n",
       "           marque_voiture_VOLVO  sexe_M  \n",
       "numeropol                                \n",
       "1                             0       0  \n",
       "2                             0       0  \n",
       "3                             0       1  \n",
       "4                             0       1  \n",
       "5                             0       1  \n",
       "\n",
       "[5 rows x 52 columns]"
      ]
     },
     "execution_count": 8,
     "metadata": {},
     "output_type": "execute_result"
    }
   ],
   "source": [
    "df2.head()"
   ]
  },
  {
   "cell_type": "code",
   "execution_count": 20,
   "metadata": {},
   "outputs": [],
   "source": [
    "formula = 'nbsin~cout+age+freq_paiement+sexe+presence_alarme'"
   ]
  },
  {
   "cell_type": "code",
   "execution_count": 21,
   "metadata": {},
   "outputs": [],
   "source": [
    "model = smf.glm(formula, family=sm.families.Poisson(), data=df)"
   ]
  },
  {
   "cell_type": "code",
   "execution_count": 22,
   "metadata": {},
   "outputs": [
    {
     "name": "stdout",
     "output_type": "stream",
     "text": [
      "                Results: Generalized linear model\n",
      "=================================================================\n",
      "Model:              GLM              AIC:            36530.2929  \n",
      "Link Function:      log              BIC:            -388429.7072\n",
      "Dependent Variable: nbsin            Log-Likelihood: -18259.     \n",
      "Date:               2020-08-24 23:33 LL-Null:        -18802.     \n",
      "No. Observations:   39075            Deviance:       24656.      \n",
      "Df Model:           5                Pearson chi2:   4.10e+04    \n",
      "Df Residuals:       39069            Scale:          1.0000      \n",
      "Method:             IRLS                                         \n",
      "-----------------------------------------------------------------\n",
      "                  Coef.  Std.Err.    z     P>|z|   [0.025  0.975]\n",
      "-----------------------------------------------------------------\n",
      "Intercept        -1.2879   0.0515 -25.0125 0.0000 -1.3888 -1.1869\n",
      "cout              0.0000   0.0000  41.0812 0.0000  0.0000  0.0000\n",
      "age              -0.0080   0.0011  -7.4844 0.0000 -0.0101 -0.0059\n",
      "freq_paiement    -0.2360   0.0291  -8.1069 0.0000 -0.2931 -0.1790\n",
      "sexe              0.0927   0.0260   3.5703 0.0004  0.0418  0.1435\n",
      "presence_alarme  -0.3933   0.0262 -15.0305 0.0000 -0.4446 -0.3420\n",
      "=================================================================\n",
      "\n"
     ]
    }
   ],
   "source": [
    "resultado = model.fit()\n",
    "print(resultado.summary2())"
   ]
  },
  {
   "cell_type": "code",
   "execution_count": 49,
   "metadata": {},
   "outputs": [
    {
     "name": "stdout",
     "output_type": "stream",
     "text": [
      "                 Generalized Linear Model Regression Results                  \n",
      "==============================================================================\n",
      "Dep. Variable:                      y   No. Observations:                39075\n",
      "Model:                            GLM   Df Residuals:                    39023\n",
      "Model Family:        NegativeBinomial   Df Model:                           51\n",
      "Link Function:                    log   Scale:                          1.0000\n",
      "Method:                          IRLS   Log-Likelihood:                -17975.\n",
      "Date:                Fri, 28 Feb 2020   Deviance:                       19347.\n",
      "Time:                        19:19:32   Pearson chi2:                 3.44e+04\n",
      "No. Iterations:                    48                                         \n",
      "Covariance Type:            nonrobust                                         \n",
      "===================================================================================================\n",
      "                                      coef    std err          z      P>|z|      [0.025      0.975]\n",
      "---------------------------------------------------------------------------------------------------\n",
      "cout                             2.428e-05   4.33e-07     56.007      0.000    2.34e-05    2.51e-05\n",
      "age                                -0.0127      0.003     -4.897      0.000      -0.018      -0.008\n",
      "duree_permis                        0.0052      0.003      1.641      0.101      -0.001       0.011\n",
      "freq_paiement_mensuel               0.1569      0.032      4.908      0.000       0.094       0.220\n",
      "langue_F                           -0.0005      0.055     -0.010      0.992      -0.109       0.108\n",
      "type_prof_Autre                    -0.2201      0.099     -2.213      0.027      -0.415      -0.025\n",
      "type_prof_Avocat                   -0.0721      0.074     -0.976      0.329      -0.217       0.073\n",
      "type_prof_Hockeyeur                -0.1769      0.088     -2.009      0.044      -0.349      -0.004\n",
      "type_prof_Infirmière               -0.2242      0.073     -3.052      0.002      -0.368      -0.080\n",
      "type_prof_Informaticien            -0.1583      0.080     -1.984      0.047      -0.315      -0.002\n",
      "type_prof_Ingénieur                -0.1445      0.091     -1.591      0.112      -0.323       0.034\n",
      "type_prof_Médecin                  -0.2215      0.096     -2.300      0.021      -0.410      -0.033\n",
      "type_prof_Professeur               -0.0584      0.095     -0.612      0.541      -0.246       0.129\n",
      "type_prof_Technicien               -0.2140      0.063     -3.421      0.001      -0.337      -0.091\n",
      "alimentation_Végétalien             0.2184      0.057      3.821      0.000       0.106       0.330\n",
      "alimentation_Végétarien             0.0399      0.032      1.240      0.215      -0.023       0.103\n",
      "type_territoire_Semi-urbain        -0.2755      0.067     -4.104      0.000      -0.407      -0.144\n",
      "type_territoire_Urbain             -0.4263      0.076     -5.634      0.000      -0.575      -0.278\n",
      "utilisation_Travail-occasionnel    -0.2312      0.056     -4.145      0.000      -0.341      -0.122\n",
      "utilisation_Travail-quotidien      -0.2781      0.066     -4.210      0.000      -0.408      -0.149\n",
      "presence_alarme_oui                -0.3796      0.030    -12.711      0.000      -0.438      -0.321\n",
      "marque_voiture_AUDI                -0.7012      0.105     -6.705      0.000      -0.906      -0.496\n",
      "marque_voiture_Autres              -0.7640      0.173     -4.419      0.000      -1.103      -0.425\n",
      "marque_voiture_BMW                 -0.6578      0.103     -6.363      0.000      -0.860      -0.455\n",
      "marque_voiture_CHRYSLER            -0.8009      0.189     -4.247      0.000      -1.170      -0.431\n",
      "marque_voiture_DAEWOO              -0.9499      0.221     -4.298      0.000      -1.383      -0.517\n",
      "marque_voiture_DAIHATSU            -1.2317      0.339     -3.631      0.000      -1.897      -0.567\n",
      "marque_voiture_FIAT                -0.5947      0.102     -5.813      0.000      -0.795      -0.394\n",
      "marque_voiture_FORD                -0.6453      0.087     -7.436      0.000      -0.815      -0.475\n",
      "marque_voiture_GM                  -0.8450      0.087     -9.750      0.000      -1.015      -0.675\n",
      "marque_voiture_HONDA               -0.7298      0.087     -8.345      0.000      -0.901      -0.558\n",
      "marque_voiture_HYUNDAI             -0.6192      0.189     -3.282      0.001      -0.989      -0.249\n",
      "marque_voiture_KIA                 -0.4095      0.252     -1.627      0.104      -0.903       0.084\n",
      "marque_voiture_LADA                -1.2648      0.469     -2.696      0.007      -2.184      -0.345\n",
      "marque_voiture_LANCIA              -0.5626      0.170     -3.312      0.001      -0.895      -0.230\n",
      "marque_voiture_MAZDA               -0.6321      0.109     -5.789      0.000      -0.846      -0.418\n",
      "marque_voiture_MERCEDES-BENZ       -0.7320      0.108     -6.754      0.000      -0.944      -0.520\n",
      "marque_voiture_MITSUBISHI          -0.6246      0.113     -5.538      0.000      -0.846      -0.404\n",
      "marque_voiture_NISSAN              -0.6669      0.096     -6.965      0.000      -0.855      -0.479\n",
      "marque_voiture_PEUGEOT             -0.7608      0.090     -8.428      0.000      -0.938      -0.584\n",
      "marque_voiture_PORSCHE            -37.4880   2.74e+07  -1.37e-06      1.000   -5.37e+07    5.37e+07\n",
      "marque_voiture_RENAULT             -0.8254      0.086     -9.649      0.000      -0.993      -0.658\n",
      "marque_voiture_ROVER               -0.6771      0.144     -4.716      0.000      -0.958      -0.396\n",
      "marque_voiture_SAAB                -0.6805      0.196     -3.473      0.001      -1.065      -0.296\n",
      "marque_voiture_SEAT                -0.6127      0.123     -5.001      0.000      -0.853      -0.373\n",
      "marque_voiture_SKODA               -0.5462      0.178     -3.070      0.002      -0.895      -0.197\n",
      "marque_voiture_SUBARU              -0.8456      0.236     -3.578      0.000      -1.309      -0.382\n",
      "marque_voiture_SUZUKI              -0.9436      0.166     -5.681      0.000      -1.269      -0.618\n",
      "marque_voiture_TOYOTA              -0.7022      0.094     -7.488      0.000      -0.886      -0.518\n",
      "marque_voiture_VOLKSWAGEN          -0.6536      0.080     -8.150      0.000      -0.811      -0.496\n",
      "marque_voiture_VOLVO               -1.0030      0.150     -6.706      0.000      -1.296      -0.710\n",
      "sexe_M                              0.0535      0.031      1.713      0.087      -0.008       0.115\n",
      "===================================================================================================\n"
     ]
    }
   ],
   "source": [
    "print(resultado.summary())"
   ]
  },
  {
   "cell_type": "code",
   "execution_count": 53,
   "metadata": {},
   "outputs": [],
   "source": [
    "expo = auto.exposition.values"
   ]
  },
  {
   "cell_type": "code",
   "execution_count": 60,
   "metadata": {},
   "outputs": [],
   "source": [
    "e = np.asarray(expo)"
   ]
  },
  {
   "cell_type": "code",
   "execution_count": 61,
   "metadata": {},
   "outputs": [
    {
     "data": {
      "text/plain": [
       "39075"
      ]
     },
     "execution_count": 61,
     "metadata": {},
     "output_type": "execute_result"
    }
   ],
   "source": [
    "len(e)"
   ]
  }
 ],
 "metadata": {
  "kernelspec": {
   "display_name": "Python 3",
   "language": "python",
   "name": "python3"
  },
  "language_info": {
   "codemirror_mode": {
    "name": "ipython",
    "version": 3
   },
   "file_extension": ".py",
   "mimetype": "text/x-python",
   "name": "python",
   "nbconvert_exporter": "python",
   "pygments_lexer": "ipython3",
   "version": "3.8.1"
  }
 },
 "nbformat": 4,
 "nbformat_minor": 2
}
