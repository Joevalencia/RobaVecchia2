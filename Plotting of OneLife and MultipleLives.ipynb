{
 "cells": [
  {
   "cell_type": "markdown",
   "metadata": {},
   "source": [
    "## Welcome to Victoria's Library"
   ]
  },
  {
   "cell_type": "code",
   "execution_count": 1,
   "metadata": {},
   "outputs": [],
   "source": [
    "import pandas as pd\n",
    "import numpy as np\n",
    "import matplotlib.pyplot as plt"
   ]
  },
  {
   "cell_type": "markdown",
   "metadata": {},
   "source": [
    "## La libreria consta de 5 modules (classes) por ahora:\n",
    "* BiometricModel\n",
    "* OneLife\n",
    "* MultipleLives\n",
    "* Annuities ( FinancialApps )\n",
    "* SurvivalModels"
   ]
  },
  {
   "cell_type": "markdown",
   "metadata": {},
   "source": [
    "# Ejemplo con una dataset de coortes G20."
   ]
  },
  {
   "cell_type": "code",
   "execution_count": 2,
   "metadata": {},
   "outputs": [
    {
     "data": {
      "text/html": [
       "<div>\n",
       "<style scoped>\n",
       "    .dataframe tbody tr th:only-of-type {\n",
       "        vertical-align: middle;\n",
       "    }\n",
       "\n",
       "    .dataframe tbody tr th {\n",
       "        vertical-align: top;\n",
       "    }\n",
       "\n",
       "    .dataframe thead th {\n",
       "        text-align: right;\n",
       "    }\n",
       "</style>\n",
       "<table border=\"1\" class=\"dataframe\">\n",
       "  <thead>\n",
       "    <tr style=\"text-align: right;\">\n",
       "      <th></th>\n",
       "      <th>Australia_Male</th>\n",
       "      <th>Austria_Male</th>\n",
       "      <th>Belgium_Male</th>\n",
       "      <th>Bulgaria_Male</th>\n",
       "      <th>Canada_Male</th>\n",
       "      <th>Czech Republic_Male</th>\n",
       "      <th>Denmark_Male</th>\n",
       "      <th>Estonia_Male</th>\n",
       "      <th>Finland_Male</th>\n",
       "      <th>France_Male</th>\n",
       "      <th>...</th>\n",
       "      <th>Netherlands_Female</th>\n",
       "      <th>Poland_Female</th>\n",
       "      <th>Portugal_Female</th>\n",
       "      <th>Russia_Female</th>\n",
       "      <th>Slovakia_Female</th>\n",
       "      <th>Slovenia_Female</th>\n",
       "      <th>Spain_Female</th>\n",
       "      <th>Sweden_Female</th>\n",
       "      <th>United Kingdom_Female</th>\n",
       "      <th>United States_Female</th>\n",
       "    </tr>\n",
       "    <tr>\n",
       "      <th>age</th>\n",
       "      <th></th>\n",
       "      <th></th>\n",
       "      <th></th>\n",
       "      <th></th>\n",
       "      <th></th>\n",
       "      <th></th>\n",
       "      <th></th>\n",
       "      <th></th>\n",
       "      <th></th>\n",
       "      <th></th>\n",
       "      <th></th>\n",
       "      <th></th>\n",
       "      <th></th>\n",
       "      <th></th>\n",
       "      <th></th>\n",
       "      <th></th>\n",
       "      <th></th>\n",
       "      <th></th>\n",
       "      <th></th>\n",
       "      <th></th>\n",
       "      <th></th>\n",
       "    </tr>\n",
       "  </thead>\n",
       "  <tbody>\n",
       "    <tr>\n",
       "      <th>0</th>\n",
       "      <td>100000</td>\n",
       "      <td>100000</td>\n",
       "      <td>100000</td>\n",
       "      <td>100000</td>\n",
       "      <td>100000</td>\n",
       "      <td>100000</td>\n",
       "      <td>100000</td>\n",
       "      <td>100000</td>\n",
       "      <td>100000</td>\n",
       "      <td>100000</td>\n",
       "      <td>...</td>\n",
       "      <td>100000</td>\n",
       "      <td>100000</td>\n",
       "      <td>100000</td>\n",
       "      <td>100000</td>\n",
       "      <td>100000</td>\n",
       "      <td>100000</td>\n",
       "      <td>100000</td>\n",
       "      <td>100000</td>\n",
       "      <td>100000</td>\n",
       "      <td>100000</td>\n",
       "    </tr>\n",
       "    <tr>\n",
       "      <th>1</th>\n",
       "      <td>99528</td>\n",
       "      <td>99600</td>\n",
       "      <td>99620</td>\n",
       "      <td>98938</td>\n",
       "      <td>99488</td>\n",
       "      <td>99698</td>\n",
       "      <td>99689</td>\n",
       "      <td>99582</td>\n",
       "      <td>99740</td>\n",
       "      <td>99586</td>\n",
       "      <td>...</td>\n",
       "      <td>99649</td>\n",
       "      <td>99493</td>\n",
       "      <td>99693</td>\n",
       "      <td>99279</td>\n",
       "      <td>99526</td>\n",
       "      <td>99747</td>\n",
       "      <td>99713</td>\n",
       "      <td>99759</td>\n",
       "      <td>99583</td>\n",
       "      <td>99415</td>\n",
       "    </tr>\n",
       "    <tr>\n",
       "      <th>2</th>\n",
       "      <td>99495</td>\n",
       "      <td>99572</td>\n",
       "      <td>99570</td>\n",
       "      <td>98887</td>\n",
       "      <td>99453</td>\n",
       "      <td>99674</td>\n",
       "      <td>99663</td>\n",
       "      <td>99521</td>\n",
       "      <td>99723</td>\n",
       "      <td>99554</td>\n",
       "      <td>...</td>\n",
       "      <td>99624</td>\n",
       "      <td>99461</td>\n",
       "      <td>99657</td>\n",
       "      <td>99205</td>\n",
       "      <td>99486</td>\n",
       "      <td>99727</td>\n",
       "      <td>99682</td>\n",
       "      <td>99735</td>\n",
       "      <td>99558</td>\n",
       "      <td>99376</td>\n",
       "    </tr>\n",
       "    <tr>\n",
       "      <th>3</th>\n",
       "      <td>99471</td>\n",
       "      <td>99545</td>\n",
       "      <td>99549</td>\n",
       "      <td>98854</td>\n",
       "      <td>99433</td>\n",
       "      <td>99646</td>\n",
       "      <td>99657</td>\n",
       "      <td>99521</td>\n",
       "      <td>99717</td>\n",
       "      <td>99531</td>\n",
       "      <td>...</td>\n",
       "      <td>99609</td>\n",
       "      <td>99443</td>\n",
       "      <td>99639</td>\n",
       "      <td>99160</td>\n",
       "      <td>99444</td>\n",
       "      <td>99717</td>\n",
       "      <td>99669</td>\n",
       "      <td>99718</td>\n",
       "      <td>99538</td>\n",
       "      <td>99351</td>\n",
       "    </tr>\n",
       "    <tr>\n",
       "      <th>4</th>\n",
       "      <td>99458</td>\n",
       "      <td>99528</td>\n",
       "      <td>99528</td>\n",
       "      <td>98795</td>\n",
       "      <td>99421</td>\n",
       "      <td>99637</td>\n",
       "      <td>99654</td>\n",
       "      <td>99521</td>\n",
       "      <td>99707</td>\n",
       "      <td>99513</td>\n",
       "      <td>...</td>\n",
       "      <td>99595</td>\n",
       "      <td>99424</td>\n",
       "      <td>99626</td>\n",
       "      <td>99130</td>\n",
       "      <td>99414</td>\n",
       "      <td>99706</td>\n",
       "      <td>99657</td>\n",
       "      <td>99700</td>\n",
       "      <td>99522</td>\n",
       "      <td>99332</td>\n",
       "    </tr>\n",
       "  </tbody>\n",
       "</table>\n",
       "<p>5 rows × 56 columns</p>\n",
       "</div>"
      ],
      "text/plain": [
       "     Australia_Male  Austria_Male  Belgium_Male  Bulgaria_Male  Canada_Male  \\\n",
       "age                                                                           \n",
       "0            100000        100000        100000         100000       100000   \n",
       "1             99528         99600         99620          98938        99488   \n",
       "2             99495         99572         99570          98887        99453   \n",
       "3             99471         99545         99549          98854        99433   \n",
       "4             99458         99528         99528          98795        99421   \n",
       "\n",
       "     Czech Republic_Male  Denmark_Male  Estonia_Male  Finland_Male  \\\n",
       "age                                                                  \n",
       "0                 100000        100000        100000        100000   \n",
       "1                  99698         99689         99582         99740   \n",
       "2                  99674         99663         99521         99723   \n",
       "3                  99646         99657         99521         99717   \n",
       "4                  99637         99654         99521         99707   \n",
       "\n",
       "     France_Male  ...  Netherlands_Female  Poland_Female  Portugal_Female  \\\n",
       "age               ...                                                       \n",
       "0         100000  ...              100000         100000           100000   \n",
       "1          99586  ...               99649          99493            99693   \n",
       "2          99554  ...               99624          99461            99657   \n",
       "3          99531  ...               99609          99443            99639   \n",
       "4          99513  ...               99595          99424            99626   \n",
       "\n",
       "     Russia_Female  Slovakia_Female  Slovenia_Female  Spain_Female  \\\n",
       "age                                                                  \n",
       "0           100000           100000           100000        100000   \n",
       "1            99279            99526            99747         99713   \n",
       "2            99205            99486            99727         99682   \n",
       "3            99160            99444            99717         99669   \n",
       "4            99130            99414            99706         99657   \n",
       "\n",
       "     Sweden_Female  United Kingdom_Female  United States_Female  \n",
       "age                                                              \n",
       "0           100000                 100000                100000  \n",
       "1            99759                  99583                 99415  \n",
       "2            99735                  99558                 99376  \n",
       "3            99718                  99538                 99351  \n",
       "4            99700                  99522                 99332  \n",
       "\n",
       "[5 rows x 56 columns]"
      ]
     },
     "execution_count": 2,
     "metadata": {},
     "output_type": "execute_result"
    }
   ],
   "source": [
    "file = r'C:\\Users\\Josè Valencia\\Desktop\\Actuarial2\\lifeTable.csv'\n",
    "dataset = pd.read_csv(file, index_col=0) \n",
    "dataset.head()"
   ]
  },
  {
   "cell_type": "markdown",
   "metadata": {},
   "source": [
    "Base de datos referente a los paises del G20 y que fue descargada desde **kaggle**. <br>\n",
    "El siguiente enlace redirige al mismo [Dataset lifeTables](https://www.kaggle.com/cthierfelder/life-table-g20)"
   ]
  },
  {
   "cell_type": "markdown",
   "metadata": {},
   "source": [
    "#### Ejemplo con las coortes femeninas y masculinas de los Estados Unidos"
   ]
  },
  {
   "cell_type": "code",
   "execution_count": 3,
   "metadata": {},
   "outputs": [],
   "source": [
    "usa_male = dataset['United States_Male']\n",
    "usa_female = dataset['United States_Female']"
   ]
  },
  {
   "cell_type": "code",
   "execution_count": 4,
   "metadata": {},
   "outputs": [],
   "source": [
    "from victoria import OneLife, MultipleLives"
   ]
  },
  {
   "cell_type": "markdown",
   "metadata": {},
   "source": [
    "# $Plotting$"
   ]
  },
  {
   "cell_type": "markdown",
   "metadata": {},
   "source": [
    "Se podra graficar ya sea a partir de una funcion coorte o varias. Para **una** se usarà **OneLife**para **mas de una** **MultipleLives.**. <br>Ejemplo con una coorte: **la Masculina de los Estados Unidos de Norteamerica**.<br>\n",
    "hay que llamar **Onelife()** y el metodo **lifeplot**. Consterà de 4 parametros (N.B **Al menos uno, o sea la coorte debe pasarsele**). <br> **Por defecto**, grafiquerà, de manera **no interactiva** y con el grafico de muertes **NO Logaritmico**. Pero si le pasamos el dx_log=True muestra la muerte en log. Se muestran los ejemplo a continuacion. Respectivamente:\n",
    "## Ejemplos:\n"
   ]
  },
  {
   "cell_type": "code",
   "execution_count": 5,
   "metadata": {},
   "outputs": [
    {
     "data": {
      "image/png": "[encoded data removed]",
      "text/plain": [
       "<Figure size 1080x360 with 2 Axes>"
      ]
     },
     "metadata": {},
     "output_type": "display_data"
    }
   ],
   "source": [
    "OneLife().lifeplot(usa_male)"
   ]
  },
  {
   "cell_type": "code",
   "execution_count": 6,
   "metadata": {},
   "outputs": [
    {
     "data": {
      "image/png": "[encoded data removed]",
      "text/plain": [
       "<Figure size 1080x360 with 2 Axes>"
      ]
     },
     "metadata": {},
     "output_type": "display_data"
    }
   ],
   "source": [
    "OneLife().lifeplot(usa_male, qx_log=False)"
   ]
  },
  {
   "cell_type": "markdown",
   "metadata": {},
   "source": [
    "##### Lo quiero para mas coortes? Sigue los mismo pasos de OneLife().lifeplot pero con:\n",
    "* MultipleLives -> metodo lifeplots\n",
    "* Por defecto al menos dos parametro. Un tercero puede pasarsele, si tal vez se quiere confrontar con un modelo. Ejemplo:"
   ]
  },
  {
   "cell_type": "code",
   "execution_count": 7,
   "metadata": {},
   "outputs": [
    {
     "data": {
      "image/png": "[encoded data removed]",
      "text/plain": [
       "<Figure size 1080x360 with 2 Axes>"
      ]
     },
     "metadata": {},
     "output_type": "display_data"
    }
   ],
   "source": [
    "MultipleLives().lifeplots(usa_male, usa_female)"
   ]
  },
  {
   "cell_type": "markdown",
   "metadata": {},
   "source": [
    "$$F(X) = 1- e^{-0.0001x^{e^{x/115}}}$$\n",
    "\n",
    "\n",
    "$$S(X) = 1-F(X)= e^{-0.0001x^{e^{x/115}}}$$\n",
    "\n",
    "$Claramente:$\n",
    "\n",
    "  \\begin{equation}\n",
    "   1- S(X) = F(X)=\n",
    "    \\begin{cases}\n",
    "      0, & \\text{if}\\ x < 0 \\\\\n",
    "      1 - e^{-0.0001x^{e^{x/115}}}, & \\text{if}\\ 0 \\le X < 115\\\\\n",
    "      1, & \\text{if}\\ x \\geq\\ 115\n",
    "    \\end{cases}\n",
    "  \\end{equation}\n",
    "$F(115) = 1$ si y solo si $1 - e^{-0.0001(115)^{e^{115/115}}}.$ Y por consiguiente $S(115) = 0$."
   ]
  },
  {
   "cell_type": "code",
   "execution_count": 5,
   "metadata": {},
   "outputs": [
    {
     "data": {
      "text/plain": [
       "0      100000.0\n",
       "1       99990.0\n",
       "2       99980.0\n",
       "3       99969.0\n",
       "4       99958.0\n",
       "         ...   \n",
       "102        54.0\n",
       "103        20.0\n",
       "104         7.0\n",
       "105         2.0\n",
       "106         0.0\n",
       "Length: 107, dtype: float64"
      ]
     },
     "execution_count": 5,
     "metadata": {},
     "output_type": "execute_result"
    }
   ],
   "source": [
    "def vettore(): #FORMULACION DE LA FUNCION DE SUPERVIVENCIA/DISTRIBUCION\n",
    "    x = np.arange(0,115)\n",
    "    numera = np.exp(-.0001*x**(np.exp(x/115)))\n",
    "    l = pd.Series(numera*10**5)\n",
    "    vettore = l[0:-8].round()\n",
    "    return vettore\n",
    "modelo = vettore()\n",
    "modelo"
   ]
  },
  {
   "cell_type": "code",
   "execution_count": 16,
   "metadata": {},
   "outputs": [
    {
     "data": {
      "image/png": "[encoded data removed]",
      "text/plain": [
       "<Figure size 1080x360 with 2 Axes>"
      ]
     },
     "metadata": {},
     "output_type": "display_data"
    }
   ],
   "source": [
    "MultipleLives().lifeplots(usa_male, usa_female, modelo, dx_log=True) # Note que son las muertes en log"
   ]
  },
  {
   "cell_type": "markdown",
   "metadata": {},
   "source": [
    "##### Deseo verlo en modo interactivo, para mas coortes, y que me digan la esperanza de vida? Ejemplo, con las francesas: \n",
    "Pasando el raton se observa:\n",
    "* $Variable:$ se refiere a la coorte observada deseada\n",
    "* $Age:$ Referida a la edad de la variable observada en cuestion\n",
    "* $value:$ Referido a living, o sea a los sobrevivientes de la coorte visualizada en cuestion\n",
    "* *ex1*, *ex2*, *ex3*: Son las esperanzas de vida (abreviada o \"curtate\"), respectivamente de las variables coortes. Redondeada a 2 cifras decimales.<br> Se sigue el orden de los parametros pasados, o sea, ex3 es la esperanza de las francesas, ex2 mujeres EE.UU. etc.."
   ]
  },
  {
   "cell_type": "code",
   "execution_count": 5,
   "metadata": {},
   "outputs": [],
   "source": [
    "france = dataset.France_Female # vector lx de las mujeres francesas"
   ]
  },
  {
   "cell_type": "code",
   "execution_count": 15,
   "metadata": {},
   "outputs": [
    {
     "data": {
      "image/png": "[encoded data removed]",
      "text/plain": [
       "<Figure size 1080x360 with 2 Axes>"
      ]
     },
     "metadata": {},
     "output_type": "display_data"
    }
   ],
   "source": [
    "MultipleLives().nuevo(usa_male, usa_female, france, interactive=False)"
   ]
  },
  {
   "cell_type": "code",
   "execution_count": 19,
   "metadata": {},
   "outputs": [
    {
     "data": {
      "application/vnd.plotly.v1+json": {
       "config": {
        "plotlyServerURL": "https://plot.ly"
       },
       "data": [
        {
         "customdata": [
          [
           0.00716,
           0.00585,
           0.00336
          ],
          [
           0.0004734,
           0.0003923,
           0.0002609
          ],
          [
           0.0003124,
           0.0002516,
           0.0001907
          ],
          [
           0.0002419,
           0.0001912,
           0.0001205
          ],
          [
           0.0001815,
           0.000151,
           0.0001104
          ],
          [
           0.0001513,
           0.0001309,
           9.04e-05
          ],
          [
           0.0001311,
           0.0001309,
           8.03e-05
          ],
          [
           0.0001311,
           9.06e-05,
           7.03e-05
          ],
          [
           0.0001211,
           0.0001007,
           9.04e-05
          ],
          [
           0.0001413,
           0.0001209,
           8.04e-05
          ],
          [
           0.0001211,
           0.0001007,
           7.03e-05
          ],
          [
           0.0001615,
           0.0001209,
           7.03e-05
          ],
          [
           0.0001514,
           0.0001209,
           6.03e-05
          ],
          [
           0.0001918,
           0.000131,
           0.0001005
          ],
          [
           0.0002423,
           0.0001512,
           0.0001407
          ],
          [
           0.0003434,
           0.0002016,
           0.0001407
          ],
          [
           0.0005153,
           0.0002622,
           0.000191
          ],
          [
           0.0006874,
           0.0003227,
           0.0002212
          ],
          [
           0.000961,
           0.0003733,
           0.0001609
          ],
          [
           0.0010632,
           0.0003835,
           0.0002313
          ],
          [
           0.0011859,
           0.0003938,
           0.0002515
          ],
          [
           0.0013294,
           0.0004444,
           0.0002717
          ],
          [
           0.0012702,
           0.0004446,
           0.0002315
          ],
          [
           0.001343,
           0.0004853,
           0.0002517
          ],
          [
           0.0013347,
           0.0005158,
           0.0002618
          ],
          [
           0.001316,
           0.0004959,
           0.0002719
          ],
          [
           0.0013791,
           0.000567,
           0.0003224
          ],
          [
           0.0013298,
           0.0005572,
           0.0003225
          ],
          [
           0.0013828,
           0.0006183,
           0.0003024
          ],
          [
           0.0014668,
           0.0006491,
           0.0003126
          ],
          [
           0.0014073,
           0.0006698,
           0.000353
          ],
          [
           0.0014813,
           0.0006601,
           0.0003532
          ],
          [
           0.0014732,
           0.0007317,
           0.0003836
          ],
          [
           0.0014754,
           0.0008034,
           0.0004645
          ],
          [
           0.0015809,
           0.0008346,
           0.0005859
          ],
          [
           0.0016558,
           0.0008557,
           0.0005661
          ],
          [
           0.0017207,
           0.0009481,
           0.0005462
          ],
          [
           0.0018172,
           0.0010511,
           0.0006375
          ],
          [
           0.0019349,
           0.0011339,
           0.000719
          ],
          [
           0.0020429,
           0.0012068,
           0.0008107
          ],
          [
           0.0021933,
           0.0013516,
           0.0009026
          ],
          [
           0.0024388,
           0.0014765,
           0.0009745
          ],
          [
           0.0026442,
           0.0016019,
           0.0011685
          ],
          [
           0.0027879,
           0.0017587,
           0.0012309
          ],
          [
           0.0031544,
           0.0019885,
           0.0014361
          ],
          [
           0.0034396,
           0.002168,
           0.001581
          ],
          [
           0.0037594,
           0.0023899,
           0.0015733
          ],
          [
           0.0041041,
           0.0026135,
           0.0018622
          ],
          [
           0.0044421,
           0.0028283,
           0.001958
          ],
          [
           0.0047952,
           0.0029718,
           0.0021878
          ],
          [
           0.0053261,
           0.0032735,
           0.0023573
          ],
          [
           0.0058434,
           0.0034732,
           0.0027446
          ],
          [
           0.0064458,
           0.0038854,
           0.0028039
          ],
          [
           0.0068285,
           0.0041014,
           0.0029467
          ],
          [
           0.0072741,
           0.0042987,
           0.0030178
          ],
          [
           0.0079519,
           0.0046158,
           0.0033923
          ],
          [
           0.0085103,
           0.0049156,
           0.0034038
          ],
          [
           0.0092637,
           0.005252,
           0.0038778
          ],
          [
           0.0096021,
           0.0055827,
           0.0040828
          ],
          [
           0.0102498,
           0.0060492,
           0.0042055
          ],
          [
           0.01122,
           0.0067866,
           0.0041488
          ],
          [
           0.0115834,
           0.0071746,
           0.0045613
          ],
          [
           0.0133558,
           0.0082699,
           0.0050759
          ],
          [
           0.0130644,
           0.0083053,
           0.0054146
          ],
          [
           0.0148076,
           0.0094471,
           0.0058778
          ],
          [
           0.0161758,
           0.0103462,
           0.0063489
          ],
          [
           0.0180619,
           0.0115021,
           0.0067957
          ],
          [
           0.0184199,
           0.0122066,
           0.0073838
          ],
          [
           0.020197,
           0.0132065,
           0.0075167
          ],
          [
           0.0215649,
           0.0143511,
           0.0087181
          ],
          [
           0.0237661,
           0.0160391,
           0.0092475
          ],
          [
           0.0257058,
           0.0175449,
           0.0099393
          ],
          [
           0.0279394,
           0.0189242,
           0.0113315
          ],
          [
           0.0305203,
           0.020951,
           0.0126519
          ],
          [
           0.0336359,
           0.0237104,
           0.0139134
          ],
          [
           0.0365462,
           0.0256503,
           0.0160517
          ],
          [
           0.0399678,
           0.0281785,
           0.0177512
          ],
          [
           0.0442989,
           0.0311282,
           0.0199697
          ],
          [
           0.0493399,
           0.034242,
           0.0228067
          ],
          [
           0.0526722,
           0.0378108,
           0.0260588
          ],
          [
           0.0586202,
           0.0417281,
           0.0298678
          ],
          [
           0.0647394,
           0.04641,
           0.0351327
          ],
          [
           0.072402,
           0.0524455,
           0.0405035
          ],
          [
           0.0780288,
           0.0574679,
           0.0460185
          ],
          [
           0.0869015,
           0.0644702,
           0.0534534
          ],
          [
           0.0961833,
           0.0725087,
           0.0630473
          ],
          [
           0.1072182,
           0.0815223,
           0.0729424
          ],
          [
           0.1192352,
           0.0921589,
           0.0845525
          ],
          [
           0.1315554,
           0.1024708,
           0.0960944
          ],
          [
           0.1478794,
           0.1144955,
           0.1126295
          ],
          [
           0.1595341,
           0.1257229,
           0.1136077
          ],
          [
           0.1792274,
           0.1418903,
           0.1347816
          ],
          [
           0.1969419,
           0.1571537,
           0.150481
          ],
          [
           0.2156882,
           0.1751427,
           0.1579197
          ],
          [
           0.2366924,
           0.1927193,
           0.2014995
          ],
          [
           0.2489647,
           0.2083201,
           0.2107394
          ],
          [
           0.2684164,
           0.2273365,
           0.2329541
          ],
          [
           0.2885137,
           0.2472421,
           0.256107
          ],
          [
           0.3088983,
           0.2677586,
           0.2801668
          ],
          [
           0.3292459,
           0.2886744,
           0.3046705
          ],
          [
           0.3500914,
           0.3101622,
           0.3296017
          ],
          [
           0.371308,
           0.3320537,
           0.3545631
          ],
          [
           0.3892617,
           0.3534483,
           0.3790614
          ],
          [
           0.4102564,
           0.3744444,
           0.4031008
          ],
          [
           0.4285714,
           0.3960924,
           0.4269481
          ],
          [
           0.4456522,
           0.4176471,
           0.4504249
          ],
          [
           0.4705882,
           0.4343434,
           0.4690722
          ],
          [
           0.4814815,
           0.4553571,
           0.4951456
          ],
          [
           0.5,
           0.4754098,
           0.5
          ],
          [
           0.5714286,
           0.5,
           0.5384615
          ],
          [
           1,
           1,
           1
          ]
         ],
         "hovertemplate": "variable=Death United States_Male<br>Age=%{x}<br>value=%{y}<br>qx_United States_Male=%{customdata[0]}<br>qx_United States_Female=%{customdata[1]}<br>qx_France_Female=%{customdata[2]}<extra></extra>",
         "legendgroup": "Death United States_Male",
         "line": {
          "color": "#636efa",
          "dash": "solid"
         },
         "mode": "lines",
         "name": "Death United States_Male",
         "orientation": "v",
         "showlegend": true,
         "type": "scatter",
         "x": [
          0,
          1,
          2,
          3,
          4,
          5,
          6,
          7,
          8,
          9,
          10,
          11,
          12,
          13,
          14,
          15,
          16,
          17,
          18,
          19,
          20,
          21,
          22,
          23,
          24,
          25,
          26,
          27,
          28,
          29,
          30,
          31,
          32,
          33,
          34,
          35,
          36,
          37,
          38,
          39,
          40,
          41,
          42,
          43,
          44,
          45,
          46,
          47,
          48,
          49,
          50,
          51,
          52,
          53,
          54,
          55,
          56,
          57,
          58,
          59,
          60,
          61,
          62,
          63,
          64,
          65,
          66,
          67,
          68,
          69,
          70,
          71,
          72,
          73,
          74,
          75,
          76,
          77,
          78,
          79,
          80,
          81,
          82,
          83,
          84,
          85,
          86,
          87,
          88,
          89,
          90,
          91,
          92,
          93,
          94,
          95,
          96,
          97,
          98,
          99,
          100,
          101,
          102,
          103,
          104,
          105,
          106,
          107,
          108,
          109,
          110
         ],
         "xaxis": "x",
         "y": [
          716,
          47,
          31,
          24,
          18,
          15,
          13,
          13,
          12,
          14,
          12,
          16,
          15,
          19,
          24,
          34,
          51,
          68,
          95,
          105,
          117,
          131,
          125,
          132,
          131,
          129,
          135,
          130,
          135,
          143,
          137,
          144,
          143,
          143,
          153,
          160,
          166,
          175,
          186,
          196,
          210,
          233,
          252,
          265,
          299,
          325,
          354,
          385,
          415,
          446,
          493,
          538,
          590,
          621,
          657,
          713,
          757,
          817,
          839,
          887,
          961,
          981,
          1118,
          1079,
          1207,
          1299,
          1427,
          1429,
          1538,
          1609,
          1735,
          1832,
          1940,
          2060,
          2201,
          2311,
          2435,
          2591,
          2758,
          2799,
          2951,
          3068,
          3209,
          3208,
          3294,
          3329,
          3354,
          3330,
          3236,
          3159,
          2904,
          2742,
          2473,
          2175,
          1872,
          1503,
          1217,
          957,
          729,
          537,
          383,
          264,
          174,
          112,
          69,
          41,
          24,
          13,
          7,
          4,
          3
         ],
         "yaxis": "y"
        },
        {
         "customdata": [
          [
           0.00716,
           0.00585,
           0.00336
          ],
          [
           0.0004734,
           0.0003923,
           0.0002609
          ],
          [
           0.0003124,
           0.0002516,
           0.0001907
          ],
          [
           0.0002419,
           0.0001912,
           0.0001205
          ],
          [
           0.0001815,
           0.000151,
           0.0001104
          ],
          [
           0.0001513,
           0.0001309,
           9.04e-05
          ],
          [
           0.0001311,
           0.0001309,
           8.03e-05
          ],
          [
           0.0001311,
           9.06e-05,
           7.03e-05
          ],
          [
           0.0001211,
           0.0001007,
           9.04e-05
          ],
          [
           0.0001413,
           0.0001209,
           8.04e-05
          ],
          [
           0.0001211,
           0.0001007,
           7.03e-05
          ],
          [
           0.0001615,
           0.0001209,
           7.03e-05
          ],
          [
           0.0001514,
           0.0001209,
           6.03e-05
          ],
          [
           0.0001918,
           0.000131,
           0.0001005
          ],
          [
           0.0002423,
           0.0001512,
           0.0001407
          ],
          [
           0.0003434,
           0.0002016,
           0.0001407
          ],
          [
           0.0005153,
           0.0002622,
           0.000191
          ],
          [
           0.0006874,
           0.0003227,
           0.0002212
          ],
          [
           0.000961,
           0.0003733,
           0.0001609
          ],
          [
           0.0010632,
           0.0003835,
           0.0002313
          ],
          [
           0.0011859,
           0.0003938,
           0.0002515
          ],
          [
           0.0013294,
           0.0004444,
           0.0002717
          ],
          [
           0.0012702,
           0.0004446,
           0.0002315
          ],
          [
           0.001343,
           0.0004853,
           0.0002517
          ],
          [
           0.0013347,
           0.0005158,
           0.0002618
          ],
          [
           0.001316,
           0.0004959,
           0.0002719
          ],
          [
           0.0013791,
           0.000567,
           0.0003224
          ],
          [
           0.0013298,
           0.0005572,
           0.0003225
          ],
          [
           0.0013828,
           0.0006183,
           0.0003024
          ],
          [
           0.0014668,
           0.0006491,
           0.0003126
          ],
          [
           0.0014073,
           0.0006698,
           0.000353
          ],
          [
           0.0014813,
           0.0006601,
           0.0003532
          ],
          [
           0.0014732,
           0.0007317,
           0.0003836
          ],
          [
           0.0014754,
           0.0008034,
           0.0004645
          ],
          [
           0.0015809,
           0.0008346,
           0.0005859
          ],
          [
           0.0016558,
           0.0008557,
           0.0005661
          ],
          [
           0.0017207,
           0.0009481,
           0.0005462
          ],
          [
           0.0018172,
           0.0010511,
           0.0006375
          ],
          [
           0.0019349,
           0.0011339,
           0.000719
          ],
          [
           0.0020429,
           0.0012068,
           0.0008107
          ],
          [
           0.0021933,
           0.0013516,
           0.0009026
          ],
          [
           0.0024388,
           0.0014765,
           0.0009745
          ],
          [
           0.0026442,
           0.0016019,
           0.0011685
          ],
          [
           0.0027879,
           0.0017587,
           0.0012309
          ],
          [
           0.0031544,
           0.0019885,
           0.0014361
          ],
          [
           0.0034396,
           0.002168,
           0.001581
          ],
          [
           0.0037594,
           0.0023899,
           0.0015733
          ],
          [
           0.0041041,
           0.0026135,
           0.0018622
          ],
          [
           0.0044421,
           0.0028283,
           0.001958
          ],
          [
           0.0047952,
           0.0029718,
           0.0021878
          ],
          [
           0.0053261,
           0.0032735,
           0.0023573
          ],
          [
           0.0058434,
           0.0034732,
           0.0027446
          ],
          [
           0.0064458,
           0.0038854,
           0.0028039
          ],
          [
           0.0068285,
           0.0041014,
           0.0029467
          ],
          [
           0.0072741,
           0.0042987,
           0.0030178
          ],
          [
           0.0079519,
           0.0046158,
           0.0033923
          ],
          [
           0.0085103,
           0.0049156,
           0.0034038
          ],
          [
           0.0092637,
           0.005252,
           0.0038778
          ],
          [
           0.0096021,
           0.0055827,
           0.0040828
          ],
          [
           0.0102498,
           0.0060492,
           0.0042055
          ],
          [
           0.01122,
           0.0067866,
           0.0041488
          ],
          [
           0.0115834,
           0.0071746,
           0.0045613
          ],
          [
           0.0133558,
           0.0082699,
           0.0050759
          ],
          [
           0.0130644,
           0.0083053,
           0.0054146
          ],
          [
           0.0148076,
           0.0094471,
           0.0058778
          ],
          [
           0.0161758,
           0.0103462,
           0.0063489
          ],
          [
           0.0180619,
           0.0115021,
           0.0067957
          ],
          [
           0.0184199,
           0.0122066,
           0.0073838
          ],
          [
           0.020197,
           0.0132065,
           0.0075167
          ],
          [
           0.0215649,
           0.0143511,
           0.0087181
          ],
          [
           0.0237661,
           0.0160391,
           0.0092475
          ],
          [
           0.0257058,
           0.0175449,
           0.0099393
          ],
          [
           0.0279394,
           0.0189242,
           0.0113315
          ],
          [
           0.0305203,
           0.020951,
           0.0126519
          ],
          [
           0.0336359,
           0.0237104,
           0.0139134
          ],
          [
           0.0365462,
           0.0256503,
           0.0160517
          ],
          [
           0.0399678,
           0.0281785,
           0.0177512
          ],
          [
           0.0442989,
           0.0311282,
           0.0199697
          ],
          [
           0.0493399,
           0.034242,
           0.0228067
          ],
          [
           0.0526722,
           0.0378108,
           0.0260588
          ],
          [
           0.0586202,
           0.0417281,
           0.0298678
          ],
          [
           0.0647394,
           0.04641,
           0.0351327
          ],
          [
           0.072402,
           0.0524455,
           0.0405035
          ],
          [
           0.0780288,
           0.0574679,
           0.0460185
          ],
          [
           0.0869015,
           0.0644702,
           0.0534534
          ],
          [
           0.0961833,
           0.0725087,
           0.0630473
          ],
          [
           0.1072182,
           0.0815223,
           0.0729424
          ],
          [
           0.1192352,
           0.0921589,
           0.0845525
          ],
          [
           0.1315554,
           0.1024708,
           0.0960944
          ],
          [
           0.1478794,
           0.1144955,
           0.1126295
          ],
          [
           0.1595341,
           0.1257229,
           0.1136077
          ],
          [
           0.1792274,
           0.1418903,
           0.1347816
          ],
          [
           0.1969419,
           0.1571537,
           0.150481
          ],
          [
           0.2156882,
           0.1751427,
           0.1579197
          ],
          [
           0.2366924,
           0.1927193,
           0.2014995
          ],
          [
           0.2489647,
           0.2083201,
           0.2107394
          ],
          [
           0.2684164,
           0.2273365,
           0.2329541
          ],
          [
           0.2885137,
           0.2472421,
           0.256107
          ],
          [
           0.3088983,
           0.2677586,
           0.2801668
          ],
          [
           0.3292459,
           0.2886744,
           0.3046705
          ],
          [
           0.3500914,
           0.3101622,
           0.3296017
          ],
          [
           0.371308,
           0.3320537,
           0.3545631
          ],
          [
           0.3892617,
           0.3534483,
           0.3790614
          ],
          [
           0.4102564,
           0.3744444,
           0.4031008
          ],
          [
           0.4285714,
           0.3960924,
           0.4269481
          ],
          [
           0.4456522,
           0.4176471,
           0.4504249
          ],
          [
           0.4705882,
           0.4343434,
           0.4690722
          ],
          [
           0.4814815,
           0.4553571,
           0.4951456
          ],
          [
           0.5,
           0.4754098,
           0.5
          ],
          [
           0.5714286,
           0.5,
           0.5384615
          ],
          [
           1,
           1,
           1
          ]
         ],
         "hovertemplate": "variable=Death United States_Female<br>Age=%{x}<br>value=%{y}<br>qx_United States_Male=%{customdata[0]}<br>qx_United States_Female=%{customdata[1]}<br>qx_France_Female=%{customdata[2]}<extra></extra>",
         "legendgroup": "Death United States_Female",
         "line": {
          "color": "#EF553B",
          "dash": "solid"
         },
         "mode": "lines",
         "name": "Death United States_Female",
         "orientation": "v",
         "showlegend": true,
         "type": "scatter",
         "x": [
          0,
          1,
          2,
          3,
          4,
          5,
          6,
          7,
          8,
          9,
          10,
          11,
          12,
          13,
          14,
          15,
          16,
          17,
          18,
          19,
          20,
          21,
          22,
          23,
          24,
          25,
          26,
          27,
          28,
          29,
          30,
          31,
          32,
          33,
          34,
          35,
          36,
          37,
          38,
          39,
          40,
          41,
          42,
          43,
          44,
          45,
          46,
          47,
          48,
          49,
          50,
          51,
          52,
          53,
          54,
          55,
          56,
          57,
          58,
          59,
          60,
          61,
          62,
          63,
          64,
          65,
          66,
          67,
          68,
          69,
          70,
          71,
          72,
          73,
          74,
          75,
          76,
          77,
          78,
          79,
          80,
          81,
          82,
          83,
          84,
          85,
          86,
          87,
          88,
          89,
          90,
          91,
          92,
          93,
          94,
          95,
          96,
          97,
          98,
          99,
          100,
          101,
          102,
          103,
          104,
          105,
          106,
          107,
          108,
          109,
          110
         ],
         "xaxis": "x",
         "y": [
          585,
          39,
          25,
          19,
          15,
          13,
          13,
          9,
          10,
          12,
          10,
          12,
          12,
          13,
          15,
          20,
          26,
          32,
          37,
          38,
          39,
          44,
          44,
          48,
          51,
          49,
          56,
          55,
          61,
          64,
          66,
          65,
          72,
          79,
          82,
          84,
          93,
          103,
          111,
          118,
          132,
          144,
          156,
          171,
          193,
          210,
          231,
          252,
          272,
          285,
          313,
          331,
          369,
          388,
          405,
          433,
          459,
          488,
          516,
          556,
          620,
          651,
          745,
          742,
          837,
          908,
          999,
          1048,
          1120,
          1201,
          1323,
          1424,
          1509,
          1639,
          1816,
          1918,
          2053,
          2204,
          2349,
          2505,
          2660,
          2835,
          3055,
          3172,
          3354,
          3529,
          3680,
          3821,
          3857,
          3868,
          3761,
          3711,
          3527,
          3313,
          3007,
          2624,
          2267,
          1905,
          1553,
          1226,
          937,
          692,
          492,
          337,
          223,
          142,
          86,
          51,
          29,
          16,
          16
         ],
         "yaxis": "y"
        },
        {
         "customdata": [
          [
           0.00716,
           0.00585,
           0.00336
          ],
          [
           0.0004734,
           0.0003923,
           0.0002609
          ],
          [
           0.0003124,
           0.0002516,
           0.0001907
          ],
          [
           0.0002419,
           0.0001912,
           0.0001205
          ],
          [
           0.0001815,
           0.000151,
           0.0001104
          ],
          [
           0.0001513,
           0.0001309,
           9.04e-05
          ],
          [
           0.0001311,
           0.0001309,
           8.03e-05
          ],
          [
           0.0001311,
           9.06e-05,
           7.03e-05
          ],
          [
           0.0001211,
           0.0001007,
           9.04e-05
          ],
          [
           0.0001413,
           0.0001209,
           8.04e-05
          ],
          [
           0.0001211,
           0.0001007,
           7.03e-05
          ],
          [
           0.0001615,
           0.0001209,
           7.03e-05
          ],
          [
           0.0001514,
           0.0001209,
           6.03e-05
          ],
          [
           0.0001918,
           0.000131,
           0.0001005
          ],
          [
           0.0002423,
           0.0001512,
           0.0001407
          ],
          [
           0.0003434,
           0.0002016,
           0.0001407
          ],
          [
           0.0005153,
           0.0002622,
           0.000191
          ],
          [
           0.0006874,
           0.0003227,
           0.0002212
          ],
          [
           0.000961,
           0.0003733,
           0.0001609
          ],
          [
           0.0010632,
           0.0003835,
           0.0002313
          ],
          [
           0.0011859,
           0.0003938,
           0.0002515
          ],
          [
           0.0013294,
           0.0004444,
           0.0002717
          ],
          [
           0.0012702,
           0.0004446,
           0.0002315
          ],
          [
           0.001343,
           0.0004853,
           0.0002517
          ],
          [
           0.0013347,
           0.0005158,
           0.0002618
          ],
          [
           0.001316,
           0.0004959,
           0.0002719
          ],
          [
           0.0013791,
           0.000567,
           0.0003224
          ],
          [
           0.0013298,
           0.0005572,
           0.0003225
          ],
          [
           0.0013828,
           0.0006183,
           0.0003024
          ],
          [
           0.0014668,
           0.0006491,
           0.0003126
          ],
          [
           0.0014073,
           0.0006698,
           0.000353
          ],
          [
           0.0014813,
           0.0006601,
           0.0003532
          ],
          [
           0.0014732,
           0.0007317,
           0.0003836
          ],
          [
           0.0014754,
           0.0008034,
           0.0004645
          ],
          [
           0.0015809,
           0.0008346,
           0.0005859
          ],
          [
           0.0016558,
           0.0008557,
           0.0005661
          ],
          [
           0.0017207,
           0.0009481,
           0.0005462
          ],
          [
           0.0018172,
           0.0010511,
           0.0006375
          ],
          [
           0.0019349,
           0.0011339,
           0.000719
          ],
          [
           0.0020429,
           0.0012068,
           0.0008107
          ],
          [
           0.0021933,
           0.0013516,
           0.0009026
          ],
          [
           0.0024388,
           0.0014765,
           0.0009745
          ],
          [
           0.0026442,
           0.0016019,
           0.0011685
          ],
          [
           0.0027879,
           0.0017587,
           0.0012309
          ],
          [
           0.0031544,
           0.0019885,
           0.0014361
          ],
          [
           0.0034396,
           0.002168,
           0.001581
          ],
          [
           0.0037594,
           0.0023899,
           0.0015733
          ],
          [
           0.0041041,
           0.0026135,
           0.0018622
          ],
          [
           0.0044421,
           0.0028283,
           0.001958
          ],
          [
           0.0047952,
           0.0029718,
           0.0021878
          ],
          [
           0.0053261,
           0.0032735,
           0.0023573
          ],
          [
           0.0058434,
           0.0034732,
           0.0027446
          ],
          [
           0.0064458,
           0.0038854,
           0.0028039
          ],
          [
           0.0068285,
           0.0041014,
           0.0029467
          ],
          [
           0.0072741,
           0.0042987,
           0.0030178
          ],
          [
           0.0079519,
           0.0046158,
           0.0033923
          ],
          [
           0.0085103,
           0.0049156,
           0.0034038
          ],
          [
           0.0092637,
           0.005252,
           0.0038778
          ],
          [
           0.0096021,
           0.0055827,
           0.0040828
          ],
          [
           0.0102498,
           0.0060492,
           0.0042055
          ],
          [
           0.01122,
           0.0067866,
           0.0041488
          ],
          [
           0.0115834,
           0.0071746,
           0.0045613
          ],
          [
           0.0133558,
           0.0082699,
           0.0050759
          ],
          [
           0.0130644,
           0.0083053,
           0.0054146
          ],
          [
           0.0148076,
           0.0094471,
           0.0058778
          ],
          [
           0.0161758,
           0.0103462,
           0.0063489
          ],
          [
           0.0180619,
           0.0115021,
           0.0067957
          ],
          [
           0.0184199,
           0.0122066,
           0.0073838
          ],
          [
           0.020197,
           0.0132065,
           0.0075167
          ],
          [
           0.0215649,
           0.0143511,
           0.0087181
          ],
          [
           0.0237661,
           0.0160391,
           0.0092475
          ],
          [
           0.0257058,
           0.0175449,
           0.0099393
          ],
          [
           0.0279394,
           0.0189242,
           0.0113315
          ],
          [
           0.0305203,
           0.020951,
           0.0126519
          ],
          [
           0.0336359,
           0.0237104,
           0.0139134
          ],
          [
           0.0365462,
           0.0256503,
           0.0160517
          ],
          [
           0.0399678,
           0.0281785,
           0.0177512
          ],
          [
           0.0442989,
           0.0311282,
           0.0199697
          ],
          [
           0.0493399,
           0.034242,
           0.0228067
          ],
          [
           0.0526722,
           0.0378108,
           0.0260588
          ],
          [
           0.0586202,
           0.0417281,
           0.0298678
          ],
          [
           0.0647394,
           0.04641,
           0.0351327
          ],
          [
           0.072402,
           0.0524455,
           0.0405035
          ],
          [
           0.0780288,
           0.0574679,
           0.0460185
          ],
          [
           0.0869015,
           0.0644702,
           0.0534534
          ],
          [
           0.0961833,
           0.0725087,
           0.0630473
          ],
          [
           0.1072182,
           0.0815223,
           0.0729424
          ],
          [
           0.1192352,
           0.0921589,
           0.0845525
          ],
          [
           0.1315554,
           0.1024708,
           0.0960944
          ],
          [
           0.1478794,
           0.1144955,
           0.1126295
          ],
          [
           0.1595341,
           0.1257229,
           0.1136077
          ],
          [
           0.1792274,
           0.1418903,
           0.1347816
          ],
          [
           0.1969419,
           0.1571537,
           0.150481
          ],
          [
           0.2156882,
           0.1751427,
           0.1579197
          ],
          [
           0.2366924,
           0.1927193,
           0.2014995
          ],
          [
           0.2489647,
           0.2083201,
           0.2107394
          ],
          [
           0.2684164,
           0.2273365,
           0.2329541
          ],
          [
           0.2885137,
           0.2472421,
           0.256107
          ],
          [
           0.3088983,
           0.2677586,
           0.2801668
          ],
          [
           0.3292459,
           0.2886744,
           0.3046705
          ],
          [
           0.3500914,
           0.3101622,
           0.3296017
          ],
          [
           0.371308,
           0.3320537,
           0.3545631
          ],
          [
           0.3892617,
           0.3534483,
           0.3790614
          ],
          [
           0.4102564,
           0.3744444,
           0.4031008
          ],
          [
           0.4285714,
           0.3960924,
           0.4269481
          ],
          [
           0.4456522,
           0.4176471,
           0.4504249
          ],
          [
           0.4705882,
           0.4343434,
           0.4690722
          ],
          [
           0.4814815,
           0.4553571,
           0.4951456
          ],
          [
           0.5,
           0.4754098,
           0.5
          ],
          [
           0.5714286,
           0.5,
           0.5384615
          ],
          [
           1,
           1,
           1
          ]
         ],
         "hovertemplate": "variable=Death France_Female<br>Age=%{x}<br>value=%{y}<br>qx_United States_Male=%{customdata[0]}<br>qx_United States_Female=%{customdata[1]}<br>qx_France_Female=%{customdata[2]}<extra></extra>",
         "legendgroup": "Death France_Female",
         "line": {
          "color": "#00cc96",
          "dash": "solid"
         },
         "mode": "lines",
         "name": "Death France_Female",
         "orientation": "v",
         "showlegend": true,
         "type": "scatter",
         "x": [
          0,
          1,
          2,
          3,
          4,
          5,
          6,
          7,
          8,
          9,
          10,
          11,
          12,
          13,
          14,
          15,
          16,
          17,
          18,
          19,
          20,
          21,
          22,
          23,
          24,
          25,
          26,
          27,
          28,
          29,
          30,
          31,
          32,
          33,
          34,
          35,
          36,
          37,
          38,
          39,
          40,
          41,
          42,
          43,
          44,
          45,
          46,
          47,
          48,
          49,
          50,
          51,
          52,
          53,
          54,
          55,
          56,
          57,
          58,
          59,
          60,
          61,
          62,
          63,
          64,
          65,
          66,
          67,
          68,
          69,
          70,
          71,
          72,
          73,
          74,
          75,
          76,
          77,
          78,
          79,
          80,
          81,
          82,
          83,
          84,
          85,
          86,
          87,
          88,
          89,
          90,
          91,
          92,
          93,
          94,
          95,
          96,
          97,
          98,
          99,
          100,
          101,
          102,
          103,
          104,
          105,
          106,
          107,
          108,
          109,
          110
         ],
         "xaxis": "x",
         "y": [
          336,
          26,
          19,
          12,
          11,
          9,
          8,
          7,
          9,
          8,
          7,
          7,
          6,
          10,
          14,
          14,
          19,
          22,
          16,
          23,
          25,
          27,
          23,
          25,
          26,
          27,
          32,
          32,
          30,
          31,
          35,
          35,
          38,
          46,
          58,
          56,
          54,
          63,
          71,
          80,
          89,
          96,
          115,
          121,
          141,
          155,
          154,
          182,
          191,
          213,
          229,
          266,
          271,
          284,
          290,
          325,
          325,
          369,
          387,
          397,
          390,
          427,
          473,
          502,
          542,
          582,
          619,
          668,
          675,
          777,
          817,
          870,
          982,
          1084,
          1177,
          1339,
          1457,
          1610,
          1802,
          2012,
          2246,
          2563,
          2851,
          3108,
          3444,
          3845,
          4168,
          4479,
          4660,
          4937,
          4419,
          4647,
          4489,
          4002,
          4300,
          3591,
          3133,
          2642,
          2150,
          1683,
          1266,
          913,
          630,
          416,
          263,
          159,
          91,
          51,
          26,
          14,
          12
         ],
         "yaxis": "y"
        }
       ],
       "layout": {
        "legend": {
         "title": {
          "text": "variable"
         },
         "tracegroupgap": 0
        },
        "template": {
         "data": {
          "bar": [
           {
            "error_x": {
             "color": "#2a3f5f"
            },
            "error_y": {
             "color": "#2a3f5f"
            },
            "marker": {
             "line": {
              "color": "#E5ECF6",
              "width": 0.5
             }
            },
            "type": "bar"
           }
          ],
          "barpolar": [
           {
            "marker": {
             "line": {
              "color": "#E5ECF6",
              "width": 0.5
             }
            },
            "type": "barpolar"
           }
          ],
          "carpet": [
           {
            "aaxis": {
             "endlinecolor": "#2a3f5f",
             "gridcolor": "white",
             "linecolor": "white",
             "minorgridcolor": "white",
             "startlinecolor": "#2a3f5f"
            },
            "baxis": {
             "endlinecolor": "#2a3f5f",
             "gridcolor": "white",
             "linecolor": "white",
             "minorgridcolor": "white",
             "startlinecolor": "#2a3f5f"
            },
            "type": "carpet"
           }
          ],
          "choropleth": [
           {
            "colorbar": {
             "outlinewidth": 0,
             "ticks": ""
            },
            "type": "choropleth"
           }
          ],
          "contour": [
           {
            "colorbar": {
             "outlinewidth": 0,
             "ticks": ""
            },
            "colorscale": [
             [
              0,
              "#0d0887"
             ],
             [
              0.1111111111111111,
              "#46039f"
             ],
             [
              0.2222222222222222,
              "#7201a8"
             ],
             [
              0.3333333333333333,
              "#9c179e"
             ],
             [
              0.4444444444444444,
              "#bd3786"
             ],
             [
              0.5555555555555556,
              "#d8576b"
             ],
             [
              0.6666666666666666,
              "#ed7953"
             ],
             [
              0.7777777777777778,
              "#fb9f3a"
             ],
             [
              0.8888888888888888,
              "#fdca26"
             ],
             [
              1,
              "#f0f921"
             ]
            ],
            "type": "contour"
           }
          ],
          "contourcarpet": [
           {
            "colorbar": {
             "outlinewidth": 0,
             "ticks": ""
            },
            "type": "contourcarpet"
           }
          ],
          "heatmap": [
           {
            "colorbar": {
             "outlinewidth": 0,
             "ticks": ""
            },
            "colorscale": [
             [
              0,
              "#0d0887"
             ],
             [
              0.1111111111111111,
              "#46039f"
             ],
             [
              0.2222222222222222,
              "#7201a8"
             ],
             [
              0.3333333333333333,
              "#9c179e"
             ],
             [
              0.4444444444444444,
              "#bd3786"
             ],
             [
              0.5555555555555556,
              "#d8576b"
             ],
             [
              0.6666666666666666,
              "#ed7953"
             ],
             [
              0.7777777777777778,
              "#fb9f3a"
             ],
             [
              0.8888888888888888,
              "#fdca26"
             ],
             [
              1,
              "#f0f921"
             ]
            ],
            "type": "heatmap"
           }
          ],
          "heatmapgl": [
           {
            "colorbar": {
             "outlinewidth": 0,
             "ticks": ""
            },
            "colorscale": [
             [
              0,
              "#0d0887"
             ],
             [
              0.1111111111111111,
              "#46039f"
             ],
             [
              0.2222222222222222,
              "#7201a8"
             ],
             [
              0.3333333333333333,
              "#9c179e"
             ],
             [
              0.4444444444444444,
              "#bd3786"
             ],
             [
              0.5555555555555556,
              "#d8576b"
             ],
             [
              0.6666666666666666,
              "#ed7953"
             ],
             [
              0.7777777777777778,
              "#fb9f3a"
             ],
             [
              0.8888888888888888,
              "#fdca26"
             ],
             [
              1,
              "#f0f921"
             ]
            ],
            "type": "heatmapgl"
           }
          ],
          "histogram": [
           {
            "marker": {
             "colorbar": {
              "outlinewidth": 0,
              "ticks": ""
             }
            },
            "type": "histogram"
           }
          ],
          "histogram2d": [
           {
            "colorbar": {
             "outlinewidth": 0,
             "ticks": ""
            },
            "colorscale": [
             [
              0,
              "#0d0887"
             ],
             [
              0.1111111111111111,
              "#46039f"
             ],
             [
              0.2222222222222222,
              "#7201a8"
             ],
             [
              0.3333333333333333,
              "#9c179e"
             ],
             [
              0.4444444444444444,
              "#bd3786"
             ],
             [
              0.5555555555555556,
              "#d8576b"
             ],
             [
              0.6666666666666666,
              "#ed7953"
             ],
             [
              0.7777777777777778,
              "#fb9f3a"
             ],
             [
              0.8888888888888888,
              "#fdca26"
             ],
             [
              1,
              "#f0f921"
             ]
            ],
            "type": "histogram2d"
           }
          ],
          "histogram2dcontour": [
           {
            "colorbar": {
             "outlinewidth": 0,
             "ticks": ""
            },
            "colorscale": [
             [
              0,
              "#0d0887"
             ],
             [
              0.1111111111111111,
              "#46039f"
             ],
             [
              0.2222222222222222,
              "#7201a8"
             ],
             [
              0.3333333333333333,
              "#9c179e"
             ],
             [
              0.4444444444444444,
              "#bd3786"
             ],
             [
              0.5555555555555556,
              "#d8576b"
             ],
             [
              0.6666666666666666,
              "#ed7953"
             ],
             [
              0.7777777777777778,
              "#fb9f3a"
             ],
             [
              0.8888888888888888,
              "#fdca26"
             ],
             [
              1,
              "#f0f921"
             ]
            ],
            "type": "histogram2dcontour"
           }
          ],
          "mesh3d": [
           {
            "colorbar": {
             "outlinewidth": 0,
             "ticks": ""
            },
            "type": "mesh3d"
           }
          ],
          "parcoords": [
           {
            "line": {
             "colorbar": {
              "outlinewidth": 0,
              "ticks": ""
             }
            },
            "type": "parcoords"
           }
          ],
          "pie": [
           {
            "automargin": true,
            "type": "pie"
           }
          ],
          "scatter": [
           {
            "marker": {
             "colorbar": {
              "outlinewidth": 0,
              "ticks": ""
             }
            },
            "type": "scatter"
           }
          ],
          "scatter3d": [
           {
            "line": {
             "colorbar": {
              "outlinewidth": 0,
              "ticks": ""
             }
            },
            "marker": {
             "colorbar": {
              "outlinewidth": 0,
              "ticks": ""
             }
            },
            "type": "scatter3d"
           }
          ],
          "scattercarpet": [
           {
            "marker": {
             "colorbar": {
              "outlinewidth": 0,
              "ticks": ""
             }
            },
            "type": "scattercarpet"
           }
          ],
          "scattergeo": [
           {
            "marker": {
             "colorbar": {
              "outlinewidth": 0,
              "ticks": ""
             }
            },
            "type": "scattergeo"
           }
          ],
          "scattergl": [
           {
            "marker": {
             "colorbar": {
              "outlinewidth": 0,
              "ticks": ""
             }
            },
            "type": "scattergl"
           }
          ],
          "scattermapbox": [
           {
            "marker": {
             "colorbar": {
              "outlinewidth": 0,
              "ticks": ""
             }
            },
            "type": "scattermapbox"
           }
          ],
          "scatterpolar": [
           {
            "marker": {
             "colorbar": {
              "outlinewidth": 0,
              "ticks": ""
             }
            },
            "type": "scatterpolar"
           }
          ],
          "scatterpolargl": [
           {
            "marker": {
             "colorbar": {
              "outlinewidth": 0,
              "ticks": ""
             }
            },
            "type": "scatterpolargl"
           }
          ],
          "scatterternary": [
           {
            "marker": {
             "colorbar": {
              "outlinewidth": 0,
              "ticks": ""
             }
            },
            "type": "scatterternary"
           }
          ],
          "surface": [
           {
            "colorbar": {
             "outlinewidth": 0,
             "ticks": ""
            },
            "colorscale": [
             [
              0,
              "#0d0887"
             ],
             [
              0.1111111111111111,
              "#46039f"
             ],
             [
              0.2222222222222222,
              "#7201a8"
             ],
             [
              0.3333333333333333,
              "#9c179e"
             ],
             [
              0.4444444444444444,
              "#bd3786"
             ],
             [
              0.5555555555555556,
              "#d8576b"
             ],
             [
              0.6666666666666666,
              "#ed7953"
             ],
             [
              0.7777777777777778,
              "#fb9f3a"
             ],
             [
              0.8888888888888888,
              "#fdca26"
             ],
             [
              1,
              "#f0f921"
             ]
            ],
            "type": "surface"
           }
          ],
          "table": [
           {
            "cells": {
             "fill": {
              "color": "#EBF0F8"
             },
             "line": {
              "color": "white"
             }
            },
            "header": {
             "fill": {
              "color": "#C8D4E3"
             },
             "line": {
              "color": "white"
             }
            },
            "type": "table"
           }
          ]
         },
         "layout": {
          "annotationdefaults": {
           "arrowcolor": "#2a3f5f",
           "arrowhead": 0,
           "arrowwidth": 1
          },
          "coloraxis": {
           "colorbar": {
            "outlinewidth": 0,
            "ticks": ""
           }
          },
          "colorscale": {
           "diverging": [
            [
             0,
             "#8e0152"
            ],
            [
             0.1,
             "#c51b7d"
            ],
            [
             0.2,
             "#de77ae"
            ],
            [
             0.3,
             "#f1b6da"
            ],
            [
             0.4,
             "#fde0ef"
            ],
            [
             0.5,
             "#f7f7f7"
            ],
            [
             0.6,
             "#e6f5d0"
            ],
            [
             0.7,
             "#b8e186"
            ],
            [
             0.8,
             "#7fbc41"
            ],
            [
             0.9,
             "#4d9221"
            ],
            [
             1,
             "#276419"
            ]
           ],
           "sequential": [
            [
             0,
             "#0d0887"
            ],
            [
             0.1111111111111111,
             "#46039f"
            ],
            [
             0.2222222222222222,
             "#7201a8"
            ],
            [
             0.3333333333333333,
             "#9c179e"
            ],
            [
             0.4444444444444444,
             "#bd3786"
            ],
            [
             0.5555555555555556,
             "#d8576b"
            ],
            [
             0.6666666666666666,
             "#ed7953"
            ],
            [
             0.7777777777777778,
             "#fb9f3a"
            ],
            [
             0.8888888888888888,
             "#fdca26"
            ],
            [
             1,
             "#f0f921"
            ]
           ],
           "sequentialminus": [
            [
             0,
             "#0d0887"
            ],
            [
             0.1111111111111111,
             "#46039f"
            ],
            [
             0.2222222222222222,
             "#7201a8"
            ],
            [
             0.3333333333333333,
             "#9c179e"
            ],
            [
             0.4444444444444444,
             "#bd3786"
            ],
            [
             0.5555555555555556,
             "#d8576b"
            ],
            [
             0.6666666666666666,
             "#ed7953"
            ],
            [
             0.7777777777777778,
             "#fb9f3a"
            ],
            [
             0.8888888888888888,
             "#fdca26"
            ],
            [
             1,
             "#f0f921"
            ]
           ]
          },
          "colorway": [
           "#636efa",
           "#EF553B",
           "#00cc96",
           "#ab63fa",
           "#FFA15A",
           "#19d3f3",
           "#FF6692",
           "#B6E880",
           "#FF97FF",
           "#FECB52"
          ],
          "font": {
           "color": "#2a3f5f"
          },
          "geo": {
           "bgcolor": "white",
           "lakecolor": "white",
           "landcolor": "#E5ECF6",
           "showlakes": true,
           "showland": true,
           "subunitcolor": "white"
          },
          "hoverlabel": {
           "align": "left"
          },
          "hovermode": "closest",
          "mapbox": {
           "style": "light"
          },
          "paper_bgcolor": "white",
          "plot_bgcolor": "#E5ECF6",
          "polar": {
           "angularaxis": {
            "gridcolor": "white",
            "linecolor": "white",
            "ticks": ""
           },
           "bgcolor": "#E5ECF6",
           "radialaxis": {
            "gridcolor": "white",
            "linecolor": "white",
            "ticks": ""
           }
          },
          "scene": {
           "xaxis": {
            "backgroundcolor": "#E5ECF6",
            "gridcolor": "white",
            "gridwidth": 2,
            "linecolor": "white",
            "showbackground": true,
            "ticks": "",
            "zerolinecolor": "white"
           },
           "yaxis": {
            "backgroundcolor": "#E5ECF6",
            "gridcolor": "white",
            "gridwidth": 2,
            "linecolor": "white",
            "showbackground": true,
            "ticks": "",
            "zerolinecolor": "white"
           },
           "zaxis": {
            "backgroundcolor": "#E5ECF6",
            "gridcolor": "white",
            "gridwidth": 2,
            "linecolor": "white",
            "showbackground": true,
            "ticks": "",
            "zerolinecolor": "white"
           }
          },
          "shapedefaults": {
           "line": {
            "color": "#2a3f5f"
           }
          },
          "ternary": {
           "aaxis": {
            "gridcolor": "white",
            "linecolor": "white",
            "ticks": ""
           },
           "baxis": {
            "gridcolor": "white",
            "linecolor": "white",
            "ticks": ""
           },
           "bgcolor": "#E5ECF6",
           "caxis": {
            "gridcolor": "white",
            "linecolor": "white",
            "ticks": ""
           }
          },
          "title": {
           "x": 0.05
          },
          "xaxis": {
           "automargin": true,
           "gridcolor": "white",
           "linecolor": "white",
           "ticks": "",
           "title": {
            "standoff": 15
           },
           "zerolinecolor": "white",
           "zerolinewidth": 2
          },
          "yaxis": {
           "automargin": true,
           "gridcolor": "white",
           "linecolor": "white",
           "ticks": "",
           "title": {
            "standoff": 15
           },
           "zerolinecolor": "white",
           "zerolinewidth": 2
          }
         }
        },
        "title": {
         "text": "Death plot of United States_Male, United States_Female and France_Female"
        },
        "xaxis": {
         "anchor": "y",
         "domain": [
          0,
          1
         ],
         "title": {
          "text": "Age"
         }
        },
        "yaxis": {
         "anchor": "x",
         "domain": [
          0,
          1
         ],
         "title": {
          "text": "value"
         }
        }
       }
      },
      "text/html": [
       "<div>\n",
       "        \n",
       "        \n",
       "            <div id=\"01cc48ad-af87-4a4f-a23a-d18c6fedfd30\" class=\"plotly-graph-div\" style=\"height:525px; width:100%;\"></div>\n",
       "            <script type=\"text/javascript\">\n",
       "                require([\"plotly\"], function(Plotly) {\n",
       "                    window.PLOTLYENV=window.PLOTLYENV || {};\n",
       "                    \n",
       "                if (document.getElementById(\"01cc48ad-af87-4a4f-a23a-d18c6fedfd30\")) {\n",
       "                    Plotly.newPlot(\n",
       "                        '01cc48ad-af87-4a4f-a23a-d18c6fedfd30',\n",
       "                        [{\"customdata\": [[0.00716, 0.00585, 0.00336], [0.0004734, 0.0003923, 0.0002609], [0.0003124, 0.0002516, 0.0001907], [0.0002419, 0.0001912, 0.0001205], [0.0001815, 0.000151, 0.0001104], [0.0001513, 0.0001309, 9.04e-05], [0.0001311, 0.0001309, 8.03e-05], [0.0001311, 9.06e-05, 7.03e-05], [0.0001211, 0.0001007, 9.04e-05], [0.0001413, 0.0001209, 8.04e-05], [0.0001211, 0.0001007, 7.03e-05], [0.0001615, 0.0001209, 7.03e-05], [0.0001514, 0.0001209, 6.03e-05], [0.0001918, 0.000131, 0.0001005], [0.0002423, 0.0001512, 0.0001407], [0.0003434, 0.0002016, 0.0001407], [0.0005153, 0.0002622, 0.000191], [0.0006874, 0.0003227, 0.0002212], [0.000961, 0.0003733, 0.0001609], [0.0010632, 0.0003835, 0.0002313], [0.0011859, 0.0003938, 0.0002515], [0.0013294, 0.0004444, 0.0002717], [0.0012702, 0.0004446, 0.0002315], [0.001343, 0.0004853, 0.0002517], [0.0013347, 0.0005158, 0.0002618], [0.001316, 0.0004959, 0.0002719], [0.0013791, 0.000567, 0.0003224], [0.0013298, 0.0005572, 0.0003225], [0.0013828, 0.0006183, 0.0003024], [0.0014668, 0.0006491, 0.0003126], [0.0014073, 0.0006698, 0.000353], [0.0014813, 0.0006601, 0.0003532], [0.0014732, 0.0007317, 0.0003836], [0.0014754, 0.0008034, 0.0004645], [0.0015809, 0.0008346, 0.0005859], [0.0016558, 0.0008557, 0.0005661], [0.0017207, 0.0009481, 0.0005462], [0.0018172, 0.0010511, 0.0006375], [0.0019349, 0.0011339, 0.000719], [0.0020429, 0.0012068, 0.0008107], [0.0021933, 0.0013516, 0.0009026], [0.0024388, 0.0014765, 0.0009745], [0.0026442, 0.0016019, 0.0011685], [0.0027879, 0.0017587, 0.0012309], [0.0031544, 0.0019885, 0.0014361], [0.0034396, 0.002168, 0.001581], [0.0037594, 0.0023899, 0.0015733], [0.0041041, 0.0026135, 0.0018622], [0.0044421, 0.0028283, 0.001958], [0.0047952, 0.0029718, 0.0021878], [0.0053261, 0.0032735, 0.0023573], [0.0058434, 0.0034732, 0.0027446], [0.0064458, 0.0038854, 0.0028039], [0.0068285, 0.0041014, 0.0029467], [0.0072741, 0.0042987, 0.0030178], [0.0079519, 0.0046158, 0.0033923], [0.0085103, 0.0049156, 0.0034038], [0.0092637, 0.005252, 0.0038778], [0.0096021, 0.0055827, 0.0040828], [0.0102498, 0.0060492, 0.0042055], [0.01122, 0.0067866, 0.0041488], [0.0115834, 0.0071746, 0.0045613], [0.0133558, 0.0082699, 0.0050759], [0.0130644, 0.0083053, 0.0054146], [0.0148076, 0.0094471, 0.0058778], [0.0161758, 0.0103462, 0.0063489], [0.0180619, 0.0115021, 0.0067957], [0.0184199, 0.0122066, 0.0073838], [0.020197, 0.0132065, 0.0075167], [0.0215649, 0.0143511, 0.0087181], [0.0237661, 0.0160391, 0.0092475], [0.0257058, 0.0175449, 0.0099393], [0.0279394, 0.0189242, 0.0113315], [0.0305203, 0.020951, 0.0126519], [0.0336359, 0.0237104, 0.0139134], [0.0365462, 0.0256503, 0.0160517], [0.0399678, 0.0281785, 0.0177512], [0.0442989, 0.0311282, 0.0199697], [0.0493399, 0.034242, 0.0228067], [0.0526722, 0.0378108, 0.0260588], [0.0586202, 0.0417281, 0.0298678], [0.0647394, 0.04641, 0.0351327], [0.072402, 0.0524455, 0.0405035], [0.0780288, 0.0574679, 0.0460185], [0.0869015, 0.0644702, 0.0534534], [0.0961833, 0.0725087, 0.0630473], [0.1072182, 0.0815223, 0.0729424], [0.1192352, 0.0921589, 0.0845525], [0.1315554, 0.1024708, 0.0960944], [0.1478794, 0.1144955, 0.1126295], [0.1595341, 0.1257229, 0.1136077], [0.1792274, 0.1418903, 0.1347816], [0.1969419, 0.1571537, 0.150481], [0.2156882, 0.1751427, 0.1579197], [0.2366924, 0.1927193, 0.2014995], [0.2489647, 0.2083201, 0.2107394], [0.2684164, 0.2273365, 0.2329541], [0.2885137, 0.2472421, 0.256107], [0.3088983, 0.2677586, 0.2801668], [0.3292459, 0.2886744, 0.3046705], [0.3500914, 0.3101622, 0.3296017], [0.371308, 0.3320537, 0.3545631], [0.3892617, 0.3534483, 0.3790614], [0.4102564, 0.3744444, 0.4031008], [0.4285714, 0.3960924, 0.4269481], [0.4456522, 0.4176471, 0.4504249], [0.4705882, 0.4343434, 0.4690722], [0.4814815, 0.4553571, 0.4951456], [0.5, 0.4754098, 0.5], [0.5714286, 0.5, 0.5384615], [1.0, 1.0, 1.0]], \"hovertemplate\": \"variable=Death United States_Male<br>Age=%{x}<br>value=%{y}<br>qx_United States_Male=%{customdata[0]}<br>qx_United States_Female=%{customdata[1]}<br>qx_France_Female=%{customdata[2]}<extra></extra>\", \"legendgroup\": \"Death United States_Male\", \"line\": {\"color\": \"#636efa\", \"dash\": \"solid\"}, \"mode\": \"lines\", \"name\": \"Death United States_Male\", \"orientation\": \"v\", \"showlegend\": true, \"type\": \"scatter\", \"x\": [0, 1, 2, 3, 4, 5, 6, 7, 8, 9, 10, 11, 12, 13, 14, 15, 16, 17, 18, 19, 20, 21, 22, 23, 24, 25, 26, 27, 28, 29, 30, 31, 32, 33, 34, 35, 36, 37, 38, 39, 40, 41, 42, 43, 44, 45, 46, 47, 48, 49, 50, 51, 52, 53, 54, 55, 56, 57, 58, 59, 60, 61, 62, 63, 64, 65, 66, 67, 68, 69, 70, 71, 72, 73, 74, 75, 76, 77, 78, 79, 80, 81, 82, 83, 84, 85, 86, 87, 88, 89, 90, 91, 92, 93, 94, 95, 96, 97, 98, 99, 100, 101, 102, 103, 104, 105, 106, 107, 108, 109, 110], \"xaxis\": \"x\", \"y\": [716.0, 47.0, 31.0, 24.0, 18.0, 15.0, 13.0, 13.0, 12.0, 14.0, 12.0, 16.0, 15.0, 19.0, 24.0, 34.0, 51.0, 68.0, 95.0, 105.0, 117.0, 131.0, 125.0, 132.0, 131.0, 129.0, 135.0, 130.0, 135.0, 143.0, 137.0, 144.0, 143.0, 143.0, 153.0, 160.0, 166.0, 175.0, 186.0, 196.0, 210.0, 233.0, 252.0, 265.0, 299.0, 325.0, 354.0, 385.0, 415.0, 446.0, 493.0, 538.0, 590.0, 621.0, 657.0, 713.0, 757.0, 817.0, 839.0, 887.0, 961.0, 981.0, 1118.0, 1079.0, 1207.0, 1299.0, 1427.0, 1429.0, 1538.0, 1609.0, 1735.0, 1832.0, 1940.0, 2060.0, 2201.0, 2311.0, 2435.0, 2591.0, 2758.0, 2799.0, 2951.0, 3068.0, 3209.0, 3208.0, 3294.0, 3329.0, 3354.0, 3330.0, 3236.0, 3159.0, 2904.0, 2742.0, 2473.0, 2175.0, 1872.0, 1503.0, 1217.0, 957.0, 729.0, 537.0, 383.0, 264.0, 174.0, 112.0, 69.0, 41.0, 24.0, 13.0, 7.0, 4.0, 3.0], \"yaxis\": \"y\"}, {\"customdata\": [[0.00716, 0.00585, 0.00336], [0.0004734, 0.0003923, 0.0002609], [0.0003124, 0.0002516, 0.0001907], [0.0002419, 0.0001912, 0.0001205], [0.0001815, 0.000151, 0.0001104], [0.0001513, 0.0001309, 9.04e-05], [0.0001311, 0.0001309, 8.03e-05], [0.0001311, 9.06e-05, 7.03e-05], [0.0001211, 0.0001007, 9.04e-05], [0.0001413, 0.0001209, 8.04e-05], [0.0001211, 0.0001007, 7.03e-05], [0.0001615, 0.0001209, 7.03e-05], [0.0001514, 0.0001209, 6.03e-05], [0.0001918, 0.000131, 0.0001005], [0.0002423, 0.0001512, 0.0001407], [0.0003434, 0.0002016, 0.0001407], [0.0005153, 0.0002622, 0.000191], [0.0006874, 0.0003227, 0.0002212], [0.000961, 0.0003733, 0.0001609], [0.0010632, 0.0003835, 0.0002313], [0.0011859, 0.0003938, 0.0002515], [0.0013294, 0.0004444, 0.0002717], [0.0012702, 0.0004446, 0.0002315], [0.001343, 0.0004853, 0.0002517], [0.0013347, 0.0005158, 0.0002618], [0.001316, 0.0004959, 0.0002719], [0.0013791, 0.000567, 0.0003224], [0.0013298, 0.0005572, 0.0003225], [0.0013828, 0.0006183, 0.0003024], [0.0014668, 0.0006491, 0.0003126], [0.0014073, 0.0006698, 0.000353], [0.0014813, 0.0006601, 0.0003532], [0.0014732, 0.0007317, 0.0003836], [0.0014754, 0.0008034, 0.0004645], [0.0015809, 0.0008346, 0.0005859], [0.0016558, 0.0008557, 0.0005661], [0.0017207, 0.0009481, 0.0005462], [0.0018172, 0.0010511, 0.0006375], [0.0019349, 0.0011339, 0.000719], [0.0020429, 0.0012068, 0.0008107], [0.0021933, 0.0013516, 0.0009026], [0.0024388, 0.0014765, 0.0009745], [0.0026442, 0.0016019, 0.0011685], [0.0027879, 0.0017587, 0.0012309], [0.0031544, 0.0019885, 0.0014361], [0.0034396, 0.002168, 0.001581], [0.0037594, 0.0023899, 0.0015733], [0.0041041, 0.0026135, 0.0018622], [0.0044421, 0.0028283, 0.001958], [0.0047952, 0.0029718, 0.0021878], [0.0053261, 0.0032735, 0.0023573], [0.0058434, 0.0034732, 0.0027446], [0.0064458, 0.0038854, 0.0028039], [0.0068285, 0.0041014, 0.0029467], [0.0072741, 0.0042987, 0.0030178], [0.0079519, 0.0046158, 0.0033923], [0.0085103, 0.0049156, 0.0034038], [0.0092637, 0.005252, 0.0038778], [0.0096021, 0.0055827, 0.0040828], [0.0102498, 0.0060492, 0.0042055], [0.01122, 0.0067866, 0.0041488], [0.0115834, 0.0071746, 0.0045613], [0.0133558, 0.0082699, 0.0050759], [0.0130644, 0.0083053, 0.0054146], [0.0148076, 0.0094471, 0.0058778], [0.0161758, 0.0103462, 0.0063489], [0.0180619, 0.0115021, 0.0067957], [0.0184199, 0.0122066, 0.0073838], [0.020197, 0.0132065, 0.0075167], [0.0215649, 0.0143511, 0.0087181], [0.0237661, 0.0160391, 0.0092475], [0.0257058, 0.0175449, 0.0099393], [0.0279394, 0.0189242, 0.0113315], [0.0305203, 0.020951, 0.0126519], [0.0336359, 0.0237104, 0.0139134], [0.0365462, 0.0256503, 0.0160517], [0.0399678, 0.0281785, 0.0177512], [0.0442989, 0.0311282, 0.0199697], [0.0493399, 0.034242, 0.0228067], [0.0526722, 0.0378108, 0.0260588], [0.0586202, 0.0417281, 0.0298678], [0.0647394, 0.04641, 0.0351327], [0.072402, 0.0524455, 0.0405035], [0.0780288, 0.0574679, 0.0460185], [0.0869015, 0.0644702, 0.0534534], [0.0961833, 0.0725087, 0.0630473], [0.1072182, 0.0815223, 0.0729424], [0.1192352, 0.0921589, 0.0845525], [0.1315554, 0.1024708, 0.0960944], [0.1478794, 0.1144955, 0.1126295], [0.1595341, 0.1257229, 0.1136077], [0.1792274, 0.1418903, 0.1347816], [0.1969419, 0.1571537, 0.150481], [0.2156882, 0.1751427, 0.1579197], [0.2366924, 0.1927193, 0.2014995], [0.2489647, 0.2083201, 0.2107394], [0.2684164, 0.2273365, 0.2329541], [0.2885137, 0.2472421, 0.256107], [0.3088983, 0.2677586, 0.2801668], [0.3292459, 0.2886744, 0.3046705], [0.3500914, 0.3101622, 0.3296017], [0.371308, 0.3320537, 0.3545631], [0.3892617, 0.3534483, 0.3790614], [0.4102564, 0.3744444, 0.4031008], [0.4285714, 0.3960924, 0.4269481], [0.4456522, 0.4176471, 0.4504249], [0.4705882, 0.4343434, 0.4690722], [0.4814815, 0.4553571, 0.4951456], [0.5, 0.4754098, 0.5], [0.5714286, 0.5, 0.5384615], [1.0, 1.0, 1.0]], \"hovertemplate\": \"variable=Death United States_Female<br>Age=%{x}<br>value=%{y}<br>qx_United States_Male=%{customdata[0]}<br>qx_United States_Female=%{customdata[1]}<br>qx_France_Female=%{customdata[2]}<extra></extra>\", \"legendgroup\": \"Death United States_Female\", \"line\": {\"color\": \"#EF553B\", \"dash\": \"solid\"}, \"mode\": \"lines\", \"name\": \"Death United States_Female\", \"orientation\": \"v\", \"showlegend\": true, \"type\": \"scatter\", \"x\": [0, 1, 2, 3, 4, 5, 6, 7, 8, 9, 10, 11, 12, 13, 14, 15, 16, 17, 18, 19, 20, 21, 22, 23, 24, 25, 26, 27, 28, 29, 30, 31, 32, 33, 34, 35, 36, 37, 38, 39, 40, 41, 42, 43, 44, 45, 46, 47, 48, 49, 50, 51, 52, 53, 54, 55, 56, 57, 58, 59, 60, 61, 62, 63, 64, 65, 66, 67, 68, 69, 70, 71, 72, 73, 74, 75, 76, 77, 78, 79, 80, 81, 82, 83, 84, 85, 86, 87, 88, 89, 90, 91, 92, 93, 94, 95, 96, 97, 98, 99, 100, 101, 102, 103, 104, 105, 106, 107, 108, 109, 110], \"xaxis\": \"x\", \"y\": [585.0, 39.0, 25.0, 19.0, 15.0, 13.0, 13.0, 9.0, 10.0, 12.0, 10.0, 12.0, 12.0, 13.0, 15.0, 20.0, 26.0, 32.0, 37.0, 38.0, 39.0, 44.0, 44.0, 48.0, 51.0, 49.0, 56.0, 55.0, 61.0, 64.0, 66.0, 65.0, 72.0, 79.0, 82.0, 84.0, 93.0, 103.0, 111.0, 118.0, 132.0, 144.0, 156.0, 171.0, 193.0, 210.0, 231.0, 252.0, 272.0, 285.0, 313.0, 331.0, 369.0, 388.0, 405.0, 433.0, 459.0, 488.0, 516.0, 556.0, 620.0, 651.0, 745.0, 742.0, 837.0, 908.0, 999.0, 1048.0, 1120.0, 1201.0, 1323.0, 1424.0, 1509.0, 1639.0, 1816.0, 1918.0, 2053.0, 2204.0, 2349.0, 2505.0, 2660.0, 2835.0, 3055.0, 3172.0, 3354.0, 3529.0, 3680.0, 3821.0, 3857.0, 3868.0, 3761.0, 3711.0, 3527.0, 3313.0, 3007.0, 2624.0, 2267.0, 1905.0, 1553.0, 1226.0, 937.0, 692.0, 492.0, 337.0, 223.0, 142.0, 86.0, 51.0, 29.0, 16.0, 16.0], \"yaxis\": \"y\"}, {\"customdata\": [[0.00716, 0.00585, 0.00336], [0.0004734, 0.0003923, 0.0002609], [0.0003124, 0.0002516, 0.0001907], [0.0002419, 0.0001912, 0.0001205], [0.0001815, 0.000151, 0.0001104], [0.0001513, 0.0001309, 9.04e-05], [0.0001311, 0.0001309, 8.03e-05], [0.0001311, 9.06e-05, 7.03e-05], [0.0001211, 0.0001007, 9.04e-05], [0.0001413, 0.0001209, 8.04e-05], [0.0001211, 0.0001007, 7.03e-05], [0.0001615, 0.0001209, 7.03e-05], [0.0001514, 0.0001209, 6.03e-05], [0.0001918, 0.000131, 0.0001005], [0.0002423, 0.0001512, 0.0001407], [0.0003434, 0.0002016, 0.0001407], [0.0005153, 0.0002622, 0.000191], [0.0006874, 0.0003227, 0.0002212], [0.000961, 0.0003733, 0.0001609], [0.0010632, 0.0003835, 0.0002313], [0.0011859, 0.0003938, 0.0002515], [0.0013294, 0.0004444, 0.0002717], [0.0012702, 0.0004446, 0.0002315], [0.001343, 0.0004853, 0.0002517], [0.0013347, 0.0005158, 0.0002618], [0.001316, 0.0004959, 0.0002719], [0.0013791, 0.000567, 0.0003224], [0.0013298, 0.0005572, 0.0003225], [0.0013828, 0.0006183, 0.0003024], [0.0014668, 0.0006491, 0.0003126], [0.0014073, 0.0006698, 0.000353], [0.0014813, 0.0006601, 0.0003532], [0.0014732, 0.0007317, 0.0003836], [0.0014754, 0.0008034, 0.0004645], [0.0015809, 0.0008346, 0.0005859], [0.0016558, 0.0008557, 0.0005661], [0.0017207, 0.0009481, 0.0005462], [0.0018172, 0.0010511, 0.0006375], [0.0019349, 0.0011339, 0.000719], [0.0020429, 0.0012068, 0.0008107], [0.0021933, 0.0013516, 0.0009026], [0.0024388, 0.0014765, 0.0009745], [0.0026442, 0.0016019, 0.0011685], [0.0027879, 0.0017587, 0.0012309], [0.0031544, 0.0019885, 0.0014361], [0.0034396, 0.002168, 0.001581], [0.0037594, 0.0023899, 0.0015733], [0.0041041, 0.0026135, 0.0018622], [0.0044421, 0.0028283, 0.001958], [0.0047952, 0.0029718, 0.0021878], [0.0053261, 0.0032735, 0.0023573], [0.0058434, 0.0034732, 0.0027446], [0.0064458, 0.0038854, 0.0028039], [0.0068285, 0.0041014, 0.0029467], [0.0072741, 0.0042987, 0.0030178], [0.0079519, 0.0046158, 0.0033923], [0.0085103, 0.0049156, 0.0034038], [0.0092637, 0.005252, 0.0038778], [0.0096021, 0.0055827, 0.0040828], [0.0102498, 0.0060492, 0.0042055], [0.01122, 0.0067866, 0.0041488], [0.0115834, 0.0071746, 0.0045613], [0.0133558, 0.0082699, 0.0050759], [0.0130644, 0.0083053, 0.0054146], [0.0148076, 0.0094471, 0.0058778], [0.0161758, 0.0103462, 0.0063489], [0.0180619, 0.0115021, 0.0067957], [0.0184199, 0.0122066, 0.0073838], [0.020197, 0.0132065, 0.0075167], [0.0215649, 0.0143511, 0.0087181], [0.0237661, 0.0160391, 0.0092475], [0.0257058, 0.0175449, 0.0099393], [0.0279394, 0.0189242, 0.0113315], [0.0305203, 0.020951, 0.0126519], [0.0336359, 0.0237104, 0.0139134], [0.0365462, 0.0256503, 0.0160517], [0.0399678, 0.0281785, 0.0177512], [0.0442989, 0.0311282, 0.0199697], [0.0493399, 0.034242, 0.0228067], [0.0526722, 0.0378108, 0.0260588], [0.0586202, 0.0417281, 0.0298678], [0.0647394, 0.04641, 0.0351327], [0.072402, 0.0524455, 0.0405035], [0.0780288, 0.0574679, 0.0460185], [0.0869015, 0.0644702, 0.0534534], [0.0961833, 0.0725087, 0.0630473], [0.1072182, 0.0815223, 0.0729424], [0.1192352, 0.0921589, 0.0845525], [0.1315554, 0.1024708, 0.0960944], [0.1478794, 0.1144955, 0.1126295], [0.1595341, 0.1257229, 0.1136077], [0.1792274, 0.1418903, 0.1347816], [0.1969419, 0.1571537, 0.150481], [0.2156882, 0.1751427, 0.1579197], [0.2366924, 0.1927193, 0.2014995], [0.2489647, 0.2083201, 0.2107394], [0.2684164, 0.2273365, 0.2329541], [0.2885137, 0.2472421, 0.256107], [0.3088983, 0.2677586, 0.2801668], [0.3292459, 0.2886744, 0.3046705], [0.3500914, 0.3101622, 0.3296017], [0.371308, 0.3320537, 0.3545631], [0.3892617, 0.3534483, 0.3790614], [0.4102564, 0.3744444, 0.4031008], [0.4285714, 0.3960924, 0.4269481], [0.4456522, 0.4176471, 0.4504249], [0.4705882, 0.4343434, 0.4690722], [0.4814815, 0.4553571, 0.4951456], [0.5, 0.4754098, 0.5], [0.5714286, 0.5, 0.5384615], [1.0, 1.0, 1.0]], \"hovertemplate\": \"variable=Death France_Female<br>Age=%{x}<br>value=%{y}<br>qx_United States_Male=%{customdata[0]}<br>qx_United States_Female=%{customdata[1]}<br>qx_France_Female=%{customdata[2]}<extra></extra>\", \"legendgroup\": \"Death France_Female\", \"line\": {\"color\": \"#00cc96\", \"dash\": \"solid\"}, \"mode\": \"lines\", \"name\": \"Death France_Female\", \"orientation\": \"v\", \"showlegend\": true, \"type\": \"scatter\", \"x\": [0, 1, 2, 3, 4, 5, 6, 7, 8, 9, 10, 11, 12, 13, 14, 15, 16, 17, 18, 19, 20, 21, 22, 23, 24, 25, 26, 27, 28, 29, 30, 31, 32, 33, 34, 35, 36, 37, 38, 39, 40, 41, 42, 43, 44, 45, 46, 47, 48, 49, 50, 51, 52, 53, 54, 55, 56, 57, 58, 59, 60, 61, 62, 63, 64, 65, 66, 67, 68, 69, 70, 71, 72, 73, 74, 75, 76, 77, 78, 79, 80, 81, 82, 83, 84, 85, 86, 87, 88, 89, 90, 91, 92, 93, 94, 95, 96, 97, 98, 99, 100, 101, 102, 103, 104, 105, 106, 107, 108, 109, 110], \"xaxis\": \"x\", \"y\": [336.0, 26.0, 19.0, 12.0, 11.0, 9.0, 8.0, 7.0, 9.0, 8.0, 7.0, 7.0, 6.0, 10.0, 14.0, 14.0, 19.0, 22.0, 16.0, 23.0, 25.0, 27.0, 23.0, 25.0, 26.0, 27.0, 32.0, 32.0, 30.0, 31.0, 35.0, 35.0, 38.0, 46.0, 58.0, 56.0, 54.0, 63.0, 71.0, 80.0, 89.0, 96.0, 115.0, 121.0, 141.0, 155.0, 154.0, 182.0, 191.0, 213.0, 229.0, 266.0, 271.0, 284.0, 290.0, 325.0, 325.0, 369.0, 387.0, 397.0, 390.0, 427.0, 473.0, 502.0, 542.0, 582.0, 619.0, 668.0, 675.0, 777.0, 817.0, 870.0, 982.0, 1084.0, 1177.0, 1339.0, 1457.0, 1610.0, 1802.0, 2012.0, 2246.0, 2563.0, 2851.0, 3108.0, 3444.0, 3845.0, 4168.0, 4479.0, 4660.0, 4937.0, 4419.0, 4647.0, 4489.0, 4002.0, 4300.0, 3591.0, 3133.0, 2642.0, 2150.0, 1683.0, 1266.0, 913.0, 630.0, 416.0, 263.0, 159.0, 91.0, 51.0, 26.0, 14.0, 12.0], \"yaxis\": \"y\"}],\n",
       "                        {\"legend\": {\"title\": {\"text\": \"variable\"}, \"tracegroupgap\": 0}, \"template\": {\"data\": {\"bar\": [{\"error_x\": {\"color\": \"#2a3f5f\"}, \"error_y\": {\"color\": \"#2a3f5f\"}, \"marker\": {\"line\": {\"color\": \"#E5ECF6\", \"width\": 0.5}}, \"type\": \"bar\"}], \"barpolar\": [{\"marker\": {\"line\": {\"color\": \"#E5ECF6\", \"width\": 0.5}}, \"type\": \"barpolar\"}], \"carpet\": [{\"aaxis\": {\"endlinecolor\": \"#2a3f5f\", \"gridcolor\": \"white\", \"linecolor\": \"white\", \"minorgridcolor\": \"white\", \"startlinecolor\": \"#2a3f5f\"}, \"baxis\": {\"endlinecolor\": \"#2a3f5f\", \"gridcolor\": \"white\", \"linecolor\": \"white\", \"minorgridcolor\": \"white\", \"startlinecolor\": \"#2a3f5f\"}, \"type\": \"carpet\"}], \"choropleth\": [{\"colorbar\": {\"outlinewidth\": 0, \"ticks\": \"\"}, \"type\": \"choropleth\"}], \"contour\": [{\"colorbar\": {\"outlinewidth\": 0, \"ticks\": \"\"}, \"colorscale\": [[0.0, \"#0d0887\"], [0.1111111111111111, \"#46039f\"], [0.2222222222222222, \"#7201a8\"], [0.3333333333333333, \"#9c179e\"], [0.4444444444444444, \"#bd3786\"], [0.5555555555555556, \"#d8576b\"], [0.6666666666666666, \"#ed7953\"], [0.7777777777777778, \"#fb9f3a\"], [0.8888888888888888, \"#fdca26\"], [1.0, \"#f0f921\"]], \"type\": \"contour\"}], \"contourcarpet\": [{\"colorbar\": {\"outlinewidth\": 0, \"ticks\": \"\"}, \"type\": \"contourcarpet\"}], \"heatmap\": [{\"colorbar\": {\"outlinewidth\": 0, \"ticks\": \"\"}, \"colorscale\": [[0.0, \"#0d0887\"], [0.1111111111111111, \"#46039f\"], [0.2222222222222222, \"#7201a8\"], [0.3333333333333333, \"#9c179e\"], [0.4444444444444444, \"#bd3786\"], [0.5555555555555556, \"#d8576b\"], [0.6666666666666666, \"#ed7953\"], [0.7777777777777778, \"#fb9f3a\"], [0.8888888888888888, \"#fdca26\"], [1.0, \"#f0f921\"]], \"type\": \"heatmap\"}], \"heatmapgl\": [{\"colorbar\": {\"outlinewidth\": 0, \"ticks\": \"\"}, \"colorscale\": [[0.0, \"#0d0887\"], [0.1111111111111111, \"#46039f\"], [0.2222222222222222, \"#7201a8\"], [0.3333333333333333, \"#9c179e\"], [0.4444444444444444, \"#bd3786\"], [0.5555555555555556, \"#d8576b\"], [0.6666666666666666, \"#ed7953\"], [0.7777777777777778, \"#fb9f3a\"], [0.8888888888888888, \"#fdca26\"], [1.0, \"#f0f921\"]], \"type\": \"heatmapgl\"}], \"histogram\": [{\"marker\": {\"colorbar\": {\"outlinewidth\": 0, \"ticks\": \"\"}}, \"type\": \"histogram\"}], \"histogram2d\": [{\"colorbar\": {\"outlinewidth\": 0, \"ticks\": \"\"}, \"colorscale\": [[0.0, \"#0d0887\"], [0.1111111111111111, \"#46039f\"], [0.2222222222222222, \"#7201a8\"], [0.3333333333333333, \"#9c179e\"], [0.4444444444444444, \"#bd3786\"], [0.5555555555555556, \"#d8576b\"], [0.6666666666666666, \"#ed7953\"], [0.7777777777777778, \"#fb9f3a\"], [0.8888888888888888, \"#fdca26\"], [1.0, \"#f0f921\"]], \"type\": \"histogram2d\"}], \"histogram2dcontour\": [{\"colorbar\": {\"outlinewidth\": 0, \"ticks\": \"\"}, \"colorscale\": [[0.0, \"#0d0887\"], [0.1111111111111111, \"#46039f\"], [0.2222222222222222, \"#7201a8\"], [0.3333333333333333, \"#9c179e\"], [0.4444444444444444, \"#bd3786\"], [0.5555555555555556, \"#d8576b\"], [0.6666666666666666, \"#ed7953\"], [0.7777777777777778, \"#fb9f3a\"], [0.8888888888888888, \"#fdca26\"], [1.0, \"#f0f921\"]], \"type\": \"histogram2dcontour\"}], \"mesh3d\": [{\"colorbar\": {\"outlinewidth\": 0, \"ticks\": \"\"}, \"type\": \"mesh3d\"}], \"parcoords\": [{\"line\": {\"colorbar\": {\"outlinewidth\": 0, \"ticks\": \"\"}}, \"type\": \"parcoords\"}], \"pie\": [{\"automargin\": true, \"type\": \"pie\"}], \"scatter\": [{\"marker\": {\"colorbar\": {\"outlinewidth\": 0, \"ticks\": \"\"}}, \"type\": \"scatter\"}], \"scatter3d\": [{\"line\": {\"colorbar\": {\"outlinewidth\": 0, \"ticks\": \"\"}}, \"marker\": {\"colorbar\": {\"outlinewidth\": 0, \"ticks\": \"\"}}, \"type\": \"scatter3d\"}], \"scattercarpet\": [{\"marker\": {\"colorbar\": {\"outlinewidth\": 0, \"ticks\": \"\"}}, \"type\": \"scattercarpet\"}], \"scattergeo\": [{\"marker\": {\"colorbar\": {\"outlinewidth\": 0, \"ticks\": \"\"}}, \"type\": \"scattergeo\"}], \"scattergl\": [{\"marker\": {\"colorbar\": {\"outlinewidth\": 0, \"ticks\": \"\"}}, \"type\": \"scattergl\"}], \"scattermapbox\": [{\"marker\": {\"colorbar\": {\"outlinewidth\": 0, \"ticks\": \"\"}}, \"type\": \"scattermapbox\"}], \"scatterpolar\": [{\"marker\": {\"colorbar\": {\"outlinewidth\": 0, \"ticks\": \"\"}}, \"type\": \"scatterpolar\"}], \"scatterpolargl\": [{\"marker\": {\"colorbar\": {\"outlinewidth\": 0, \"ticks\": \"\"}}, \"type\": \"scatterpolargl\"}], \"scatterternary\": [{\"marker\": {\"colorbar\": {\"outlinewidth\": 0, \"ticks\": \"\"}}, \"type\": \"scatterternary\"}], \"surface\": [{\"colorbar\": {\"outlinewidth\": 0, \"ticks\": \"\"}, \"colorscale\": [[0.0, \"#0d0887\"], [0.1111111111111111, \"#46039f\"], [0.2222222222222222, \"#7201a8\"], [0.3333333333333333, \"#9c179e\"], [0.4444444444444444, \"#bd3786\"], [0.5555555555555556, \"#d8576b\"], [0.6666666666666666, \"#ed7953\"], [0.7777777777777778, \"#fb9f3a\"], [0.8888888888888888, \"#fdca26\"], [1.0, \"#f0f921\"]], \"type\": \"surface\"}], \"table\": [{\"cells\": {\"fill\": {\"color\": \"#EBF0F8\"}, \"line\": {\"color\": \"white\"}}, \"header\": {\"fill\": {\"color\": \"#C8D4E3\"}, \"line\": {\"color\": \"white\"}}, \"type\": \"table\"}]}, \"layout\": {\"annotationdefaults\": {\"arrowcolor\": \"#2a3f5f\", \"arrowhead\": 0, \"arrowwidth\": 1}, \"coloraxis\": {\"colorbar\": {\"outlinewidth\": 0, \"ticks\": \"\"}}, \"colorscale\": {\"diverging\": [[0, \"#8e0152\"], [0.1, \"#c51b7d\"], [0.2, \"#de77ae\"], [0.3, \"#f1b6da\"], [0.4, \"#fde0ef\"], [0.5, \"#f7f7f7\"], [0.6, \"#e6f5d0\"], [0.7, \"#b8e186\"], [0.8, \"#7fbc41\"], [0.9, \"#4d9221\"], [1, \"#276419\"]], \"sequential\": [[0.0, \"#0d0887\"], [0.1111111111111111, \"#46039f\"], [0.2222222222222222, \"#7201a8\"], [0.3333333333333333, \"#9c179e\"], [0.4444444444444444, \"#bd3786\"], [0.5555555555555556, \"#d8576b\"], [0.6666666666666666, \"#ed7953\"], [0.7777777777777778, \"#fb9f3a\"], [0.8888888888888888, \"#fdca26\"], [1.0, \"#f0f921\"]], \"sequentialminus\": [[0.0, \"#0d0887\"], [0.1111111111111111, \"#46039f\"], [0.2222222222222222, \"#7201a8\"], [0.3333333333333333, \"#9c179e\"], [0.4444444444444444, \"#bd3786\"], [0.5555555555555556, \"#d8576b\"], [0.6666666666666666, \"#ed7953\"], [0.7777777777777778, \"#fb9f3a\"], [0.8888888888888888, \"#fdca26\"], [1.0, \"#f0f921\"]]}, \"colorway\": [\"#636efa\", \"#EF553B\", \"#00cc96\", \"#ab63fa\", \"#FFA15A\", \"#19d3f3\", \"#FF6692\", \"#B6E880\", \"#FF97FF\", \"#FECB52\"], \"font\": {\"color\": \"#2a3f5f\"}, \"geo\": {\"bgcolor\": \"white\", \"lakecolor\": \"white\", \"landcolor\": \"#E5ECF6\", \"showlakes\": true, \"showland\": true, \"subunitcolor\": \"white\"}, \"hoverlabel\": {\"align\": \"left\"}, \"hovermode\": \"closest\", \"mapbox\": {\"style\": \"light\"}, \"paper_bgcolor\": \"white\", \"plot_bgcolor\": \"#E5ECF6\", \"polar\": {\"angularaxis\": {\"gridcolor\": \"white\", \"linecolor\": \"white\", \"ticks\": \"\"}, \"bgcolor\": \"#E5ECF6\", \"radialaxis\": {\"gridcolor\": \"white\", \"linecolor\": \"white\", \"ticks\": \"\"}}, \"scene\": {\"xaxis\": {\"backgroundcolor\": \"#E5ECF6\", \"gridcolor\": \"white\", \"gridwidth\": 2, \"linecolor\": \"white\", \"showbackground\": true, \"ticks\": \"\", \"zerolinecolor\": \"white\"}, \"yaxis\": {\"backgroundcolor\": \"#E5ECF6\", \"gridcolor\": \"white\", \"gridwidth\": 2, \"linecolor\": \"white\", \"showbackground\": true, \"ticks\": \"\", \"zerolinecolor\": \"white\"}, \"zaxis\": {\"backgroundcolor\": \"#E5ECF6\", \"gridcolor\": \"white\", \"gridwidth\": 2, \"linecolor\": \"white\", \"showbackground\": true, \"ticks\": \"\", \"zerolinecolor\": \"white\"}}, \"shapedefaults\": {\"line\": {\"color\": \"#2a3f5f\"}}, \"ternary\": {\"aaxis\": {\"gridcolor\": \"white\", \"linecolor\": \"white\", \"ticks\": \"\"}, \"baxis\": {\"gridcolor\": \"white\", \"linecolor\": \"white\", \"ticks\": \"\"}, \"bgcolor\": \"#E5ECF6\", \"caxis\": {\"gridcolor\": \"white\", \"linecolor\": \"white\", \"ticks\": \"\"}}, \"title\": {\"x\": 0.05}, \"xaxis\": {\"automargin\": true, \"gridcolor\": \"white\", \"linecolor\": \"white\", \"ticks\": \"\", \"title\": {\"standoff\": 15}, \"zerolinecolor\": \"white\", \"zerolinewidth\": 2}, \"yaxis\": {\"automargin\": true, \"gridcolor\": \"white\", \"linecolor\": \"white\", \"ticks\": \"\", \"title\": {\"standoff\": 15}, \"zerolinecolor\": \"white\", \"zerolinewidth\": 2}}}, \"title\": {\"text\": \"Death plot of United States_Male, United States_Female and France_Female\"}, \"xaxis\": {\"anchor\": \"y\", \"domain\": [0.0, 1.0], \"title\": {\"text\": \"Age\"}}, \"yaxis\": {\"anchor\": \"x\", \"domain\": [0.0, 1.0], \"title\": {\"text\": \"value\"}}},\n",
       "                        {\"responsive\": true}\n",
       "                    ).then(function(){\n",
       "                            \n",
       "var gd = document.getElementById('01cc48ad-af87-4a4f-a23a-d18c6fedfd30');\n",
       "var x = new MutationObserver(function (mutations, observer) {{\n",
       "        var display = window.getComputedStyle(gd).display;\n",
       "        if (!display || display === 'none') {{\n",
       "            console.log([gd, 'removed!']);\n",
       "            Plotly.purge(gd);\n",
       "            observer.disconnect();\n",
       "        }}\n",
       "}});\n",
       "\n",
       "// Listen for the removal of the full notebook cells\n",
       "var notebookContainer = gd.closest('#notebook-container');\n",
       "if (notebookContainer) {{\n",
       "    x.observe(notebookContainer, {childList: true});\n",
       "}}\n",
       "\n",
       "// Listen for the clearing of the current output cell\n",
       "var outputEl = gd.closest('.output');\n",
       "if (outputEl) {{\n",
       "    x.observe(outputEl, {childList: true});\n",
       "}}\n",
       "\n",
       "                        })\n",
       "                };\n",
       "                });\n",
       "            </script>\n",
       "        </div>"
      ]
     },
     "metadata": {},
     "output_type": "display_data"
    }
   ],
   "source": [
    "MultipleLives().lifeplot_2(usa_male, usa_female, france,\n",
    "                      interactive=True, death=True, qx_log=False) #dx_false=False para dx normal"
   ]
  },
  {
   "cell_type": "code",
   "execution_count": null,
   "metadata": {},
   "outputs": [],
   "source": []
  },
  {
   "cell_type": "code",
   "execution_count": 9,
   "metadata": {},
   "outputs": [
    {
     "data": {
      "application/vnd.plotly.v1+json": {
       "config": {
        "plotlyServerURL": "https://plot.ly"
       },
       "data": [
        {
         "customdata": [
          [
           75.63,
           80.54,
           77.39
          ],
          [
           75.18,
           80.01,
           76.4
          ],
          [
           74.21,
           79.04,
           75.41
          ],
          [
           73.24,
           78.06,
           74.42
          ],
          [
           72.26,
           77.08,
           73.43
          ],
          [
           71.27,
           76.09,
           72.43
          ],
          [
           70.28,
           75.1,
           71.44
          ],
          [
           69.29,
           74.11,
           70.45
          ],
          [
           68.3,
           73.12,
           69.46
          ],
          [
           67.31,
           72.12,
           68.47
          ],
          [
           66.32,
           71.13,
           67.48
          ],
          [
           65.32,
           70.14,
           66.49
          ],
          [
           64.33,
           69.15,
           65.51
          ],
          [
           63.34,
           68.16,
           64.52
          ],
          [
           62.36,
           67.17,
           63.53
          ],
          [
           61.37,
           66.18,
           62.55
          ],
          [
           60.39,
           65.19,
           61.56
          ],
          [
           59.42,
           64.21,
           60.58
          ],
          [
           58.46,
           63.23,
           59.59
          ],
          [
           57.52,
           62.25,
           58.61
          ],
          [
           56.58,
           61.27,
           57.63
          ],
          [
           55.65,
           60.3,
           56.65
          ],
          [
           54.72,
           59.32,
           55.67
          ],
          [
           53.79,
           58.35,
           54.69
          ],
          [
           52.87,
           57.38,
           53.71
          ],
          [
           51.94,
           56.41,
           52.73
          ],
          [
           51,
           55.44,
           51.76
          ],
          [
           50.07,
           54.47,
           50.79
          ],
          [
           49.14,
           53.5,
           49.81
          ],
          [
           48.21,
           52.53,
           48.84
          ],
          [
           47.28,
           51.57,
           47.88
          ],
          [
           46.35,
           50.6,
           46.91
          ],
          [
           45.42,
           49.63,
           45.94
          ],
          [
           44.48,
           48.67,
           44.98
          ],
          [
           43.55,
           47.71,
           44.02
          ],
          [
           42.62,
           46.75,
           43.06
          ],
          [
           41.69,
           45.79,
           42.11
          ],
          [
           40.76,
           44.83,
           41.16
          ],
          [
           39.83,
           43.88,
           40.21
          ],
          [
           38.91,
           42.93,
           39.26
          ],
          [
           37.99,
           41.98,
           38.32
          ],
          [
           37.07,
           41.04,
           37.38
          ],
          [
           36.17,
           40.1,
           36.44
          ],
          [
           35.26,
           39.16,
           35.51
          ],
          [
           34.36,
           38.23,
           34.58
          ],
          [
           33.47,
           37.31,
           33.66
          ],
          [
           32.58,
           36.39,
           32.74
          ],
          [
           31.71,
           35.48,
           31.82
          ],
          [
           30.84,
           34.57,
           30.91
          ],
          [
           29.97,
           33.67,
           30.01
          ],
          [
           29.12,
           32.77,
           29.11
          ],
          [
           28.28,
           31.88,
           28.21
          ],
          [
           27.44,
           30.99,
           27.33
          ],
          [
           26.62,
           30.11,
           26.45
          ],
          [
           25.8,
           29.23,
           25.57
          ],
          [
           24.99,
           28.36,
           24.71
          ],
          [
           24.19,
           27.49,
           23.85
          ],
          [
           23.4,
           26.63,
           23
          ],
          [
           22.62,
           25.77,
           22.16
          ],
          [
           21.84,
           24.91,
           21.33
          ],
          [
           21.06,
           24.06,
           20.51
          ],
          [
           20.3,
           23.23,
           19.7
          ],
          [
           19.54,
           22.39,
           18.9
          ],
          [
           18.81,
           21.58,
           18.11
          ],
          [
           18.05,
           20.76,
           17.33
          ],
          [
           17.33,
           19.96,
           16.56
          ],
          [
           16.61,
           19.17,
           15.81
          ],
          [
           15.92,
           18.39,
           15.07
          ],
          [
           15.21,
           17.62,
           14.35
          ],
          [
           14.53,
           16.86,
           13.64
          ],
          [
           13.85,
           16.1,
           12.94
          ],
          [
           13.19,
           15.36,
           12.26
          ],
          [
           12.53,
           14.64,
           11.6
          ],
          [
           11.89,
           13.92,
           10.95
          ],
          [
           11.27,
           13.22,
           10.32
          ],
          [
           10.66,
           12.54,
           9.71
          ],
          [
           10.06,
           11.87,
           9.11
          ],
          [
           9.48,
           11.21,
           8.54
          ],
          [
           8.92,
           10.57,
           7.98
          ],
          [
           8.39,
           9.95,
           7.44
          ],
          [
           7.85,
           9.34,
           6.93
          ],
          [
           7.34,
           8.75,
           6.43
          ],
          [
           6.85,
           8.17,
           5.95
          ],
          [
           6.38,
           7.62,
           5.5
          ],
          [
           5.93,
           7.09,
           5.06
          ],
          [
           5.49,
           6.58,
           4.65
          ],
          [
           5.07,
           6.09,
           4.26
          ],
          [
           4.68,
           5.63,
           3.88
          ],
          [
           4.32,
           5.2,
           3.53
          ],
          [
           3.97,
           4.8,
           3.2
          ],
          [
           3.66,
           4.42,
           2.89
          ],
          [
           3.35,
           4.05,
           2.6
          ],
          [
           3.09,
           3.72,
           2.32
          ],
          [
           2.84,
           3.42,
           2.07
          ],
          [
           2.62,
           3.14,
           1.84
          ],
          [
           2.44,
           2.89,
           1.62
          ],
          [
           2.25,
           2.65,
           1.42
          ],
          [
           2.07,
           2.43,
           1.24
          ],
          [
           1.91,
           2.23,
           1.07
          ],
          [
           1.76,
           2.05,
           0.92
          ],
          [
           1.63,
           1.88,
           0.77
          ],
          [
           1.51,
           1.73,
           0.65
          ],
          [
           1.4,
           1.58,
           0.54
          ],
          [
           1.29,
           1.45,
           0.45
          ],
          [
           1.19,
           1.32,
           0.29
          ],
          [
           1.08,
           1.19,
           0
          ],
          [
           0.94,
           1.04,
           null
          ],
          [
           0.78,
           0.83,
           null
          ],
          [
           0.5,
           0.52,
           null
          ],
          [
           0,
           0,
           null
          ],
          [
           null,
           null,
           null
          ]
         ],
         "hovertemplate": "variable=Death United States_Male<br>Age=%{x}<br>value=%{y}<br>eₓ1=%{customdata[0]}<br>eₓ2=%{customdata[1]}<br>eₓ3=%{customdata[2]}<extra></extra>",
         "legendgroup": "Death United States_Male",
         "line": {
          "color": "#636efa",
          "dash": "solid"
         },
         "mode": "lines",
         "name": "Death United States_Male",
         "orientation": "v",
         "showlegend": true,
         "type": "scatter",
         "x": [
          0,
          1,
          2,
          3,
          4,
          5,
          6,
          7,
          8,
          9,
          10,
          11,
          12,
          13,
          14,
          15,
          16,
          17,
          18,
          19,
          20,
          21,
          22,
          23,
          24,
          25,
          26,
          27,
          28,
          29,
          30,
          31,
          32,
          33,
          34,
          35,
          36,
          37,
          38,
          39,
          40,
          41,
          42,
          43,
          44,
          45,
          46,
          47,
          48,
          49,
          50,
          51,
          52,
          53,
          54,
          55,
          56,
          57,
          58,
          59,
          60,
          61,
          62,
          63,
          64,
          65,
          66,
          67,
          68,
          69,
          70,
          71,
          72,
          73,
          74,
          75,
          76,
          77,
          78,
          79,
          80,
          81,
          82,
          83,
          84,
          85,
          86,
          87,
          88,
          89,
          90,
          91,
          92,
          93,
          94,
          95,
          96,
          97,
          98,
          99,
          100,
          101,
          102,
          103,
          104,
          105,
          106,
          107,
          108,
          109,
          110
         ],
         "xaxis": "x",
         "y": [
          716.0000000000056,
          46.9999999999957,
          30.999999999999186,
          23.999999999998614,
          17.999999999999524,
          15.000000000004508,
          13.000000000000751,
          13.000000000005087,
          12.000000000000519,
          14.000000000004356,
          11.999999999999487,
          16.000000000001283,
          15.000000000004569,
          19.000000000002895,
          24.000000000003944,
          33.99999999999491,
          50.99999999999677,
          67.99999999999552,
          94.99999999999966,
          105,
          117.00000000000047,
          130.99999999999636,
          124.99999999999471,
          131.99999999999747,
          131.0000000000023,
          128.99999999999957,
          135.00000000000367,
          129.99999999999505,
          134.9999999999946,
          142.99999999999696,
          137.00000000000307,
          144.00000000000463,
          143.0000000000046,
          143.0000000000001,
          152.99999999999568,
          159.9999999999998,
          166.00000000000142,
          175.0000000000016,
          185.99999999999713,
          196.00000000000242,
          210.00000000000077,
          233.00000000000296,
          252.00000000000048,
          265.0000000000047,
          298.9999999999959,
          324.9999999999965,
          354.0000000000035,
          384.9999999999969,
          414.9999999999975,
          445.9999999999972,
          493.0000000000018,
          537.9999999999991,
          590.0000000000039,
          620.9999999999993,
          657.0000000000008,
          713.0000000000015,
          756.9999999999982,
          817.0000000000039,
          838.9999999999995,
          887.000000000001,
          961.0000000000048,
          980.9999999999987,
          1118.0000000000018,
          1079.0000000000018,
          1206.9999999999989,
          1298.999999999998,
          1426.9999999999964,
          1429.0000000000007,
          1538.0000000000011,
          1608.9999999999998,
          1734.9999999999973,
          1832.000000000002,
          1940.0000000000014,
          2059.999999999997,
          2200.999999999997,
          2311.0000000000014,
          2435.0000000000005,
          2590.999999999997,
          2758.000000000001,
          2798.9999999999995,
          2951.0000000000027,
          3068.0000000000014,
          3208.9999999999986,
          3208.000000000001,
          3294.000000000002,
          3328.999999999999,
          3354.000000000002,
          3329.9999999999995,
          3236,
          3159,
          2904.000000000001,
          2742.000000000001,
          2473,
          2175,
          1871.9999999999995,
          1502.9999999999998,
          1217,
          956.9999999999998,
          729.0000000000001,
          537.0000000000001,
          383,
          264,
          174,
          112,
          69,
          41,
          24,
          13,
          7,
          4,
          3
         ],
         "yaxis": "y"
        },
        {
         "customdata": [
          [
           75.63,
           80.54,
           77.39
          ],
          [
           75.18,
           80.01,
           76.4
          ],
          [
           74.21,
           79.04,
           75.41
          ],
          [
           73.24,
           78.06,
           74.42
          ],
          [
           72.26,
           77.08,
           73.43
          ],
          [
           71.27,
           76.09,
           72.43
          ],
          [
           70.28,
           75.1,
           71.44
          ],
          [
           69.29,
           74.11,
           70.45
          ],
          [
           68.3,
           73.12,
           69.46
          ],
          [
           67.31,
           72.12,
           68.47
          ],
          [
           66.32,
           71.13,
           67.48
          ],
          [
           65.32,
           70.14,
           66.49
          ],
          [
           64.33,
           69.15,
           65.51
          ],
          [
           63.34,
           68.16,
           64.52
          ],
          [
           62.36,
           67.17,
           63.53
          ],
          [
           61.37,
           66.18,
           62.55
          ],
          [
           60.39,
           65.19,
           61.56
          ],
          [
           59.42,
           64.21,
           60.58
          ],
          [
           58.46,
           63.23,
           59.59
          ],
          [
           57.52,
           62.25,
           58.61
          ],
          [
           56.58,
           61.27,
           57.63
          ],
          [
           55.65,
           60.3,
           56.65
          ],
          [
           54.72,
           59.32,
           55.67
          ],
          [
           53.79,
           58.35,
           54.69
          ],
          [
           52.87,
           57.38,
           53.71
          ],
          [
           51.94,
           56.41,
           52.73
          ],
          [
           51,
           55.44,
           51.76
          ],
          [
           50.07,
           54.47,
           50.79
          ],
          [
           49.14,
           53.5,
           49.81
          ],
          [
           48.21,
           52.53,
           48.84
          ],
          [
           47.28,
           51.57,
           47.88
          ],
          [
           46.35,
           50.6,
           46.91
          ],
          [
           45.42,
           49.63,
           45.94
          ],
          [
           44.48,
           48.67,
           44.98
          ],
          [
           43.55,
           47.71,
           44.02
          ],
          [
           42.62,
           46.75,
           43.06
          ],
          [
           41.69,
           45.79,
           42.11
          ],
          [
           40.76,
           44.83,
           41.16
          ],
          [
           39.83,
           43.88,
           40.21
          ],
          [
           38.91,
           42.93,
           39.26
          ],
          [
           37.99,
           41.98,
           38.32
          ],
          [
           37.07,
           41.04,
           37.38
          ],
          [
           36.17,
           40.1,
           36.44
          ],
          [
           35.26,
           39.16,
           35.51
          ],
          [
           34.36,
           38.23,
           34.58
          ],
          [
           33.47,
           37.31,
           33.66
          ],
          [
           32.58,
           36.39,
           32.74
          ],
          [
           31.71,
           35.48,
           31.82
          ],
          [
           30.84,
           34.57,
           30.91
          ],
          [
           29.97,
           33.67,
           30.01
          ],
          [
           29.12,
           32.77,
           29.11
          ],
          [
           28.28,
           31.88,
           28.21
          ],
          [
           27.44,
           30.99,
           27.33
          ],
          [
           26.62,
           30.11,
           26.45
          ],
          [
           25.8,
           29.23,
           25.57
          ],
          [
           24.99,
           28.36,
           24.71
          ],
          [
           24.19,
           27.49,
           23.85
          ],
          [
           23.4,
           26.63,
           23
          ],
          [
           22.62,
           25.77,
           22.16
          ],
          [
           21.84,
           24.91,
           21.33
          ],
          [
           21.06,
           24.06,
           20.51
          ],
          [
           20.3,
           23.23,
           19.7
          ],
          [
           19.54,
           22.39,
           18.9
          ],
          [
           18.81,
           21.58,
           18.11
          ],
          [
           18.05,
           20.76,
           17.33
          ],
          [
           17.33,
           19.96,
           16.56
          ],
          [
           16.61,
           19.17,
           15.81
          ],
          [
           15.92,
           18.39,
           15.07
          ],
          [
           15.21,
           17.62,
           14.35
          ],
          [
           14.53,
           16.86,
           13.64
          ],
          [
           13.85,
           16.1,
           12.94
          ],
          [
           13.19,
           15.36,
           12.26
          ],
          [
           12.53,
           14.64,
           11.6
          ],
          [
           11.89,
           13.92,
           10.95
          ],
          [
           11.27,
           13.22,
           10.32
          ],
          [
           10.66,
           12.54,
           9.71
          ],
          [
           10.06,
           11.87,
           9.11
          ],
          [
           9.48,
           11.21,
           8.54
          ],
          [
           8.92,
           10.57,
           7.98
          ],
          [
           8.39,
           9.95,
           7.44
          ],
          [
           7.85,
           9.34,
           6.93
          ],
          [
           7.34,
           8.75,
           6.43
          ],
          [
           6.85,
           8.17,
           5.95
          ],
          [
           6.38,
           7.62,
           5.5
          ],
          [
           5.93,
           7.09,
           5.06
          ],
          [
           5.49,
           6.58,
           4.65
          ],
          [
           5.07,
           6.09,
           4.26
          ],
          [
           4.68,
           5.63,
           3.88
          ],
          [
           4.32,
           5.2,
           3.53
          ],
          [
           3.97,
           4.8,
           3.2
          ],
          [
           3.66,
           4.42,
           2.89
          ],
          [
           3.35,
           4.05,
           2.6
          ],
          [
           3.09,
           3.72,
           2.32
          ],
          [
           2.84,
           3.42,
           2.07
          ],
          [
           2.62,
           3.14,
           1.84
          ],
          [
           2.44,
           2.89,
           1.62
          ],
          [
           2.25,
           2.65,
           1.42
          ],
          [
           2.07,
           2.43,
           1.24
          ],
          [
           1.91,
           2.23,
           1.07
          ],
          [
           1.76,
           2.05,
           0.92
          ],
          [
           1.63,
           1.88,
           0.77
          ],
          [
           1.51,
           1.73,
           0.65
          ],
          [
           1.4,
           1.58,
           0.54
          ],
          [
           1.29,
           1.45,
           0.45
          ],
          [
           1.19,
           1.32,
           0.29
          ],
          [
           1.08,
           1.19,
           0
          ],
          [
           0.94,
           1.04,
           null
          ],
          [
           0.78,
           0.83,
           null
          ],
          [
           0.5,
           0.52,
           null
          ],
          [
           0,
           0,
           null
          ],
          [
           null,
           null,
           null
          ]
         ],
         "hovertemplate": "variable=Death United States_Female<br>Age=%{x}<br>value=%{y}<br>eₓ1=%{customdata[0]}<br>eₓ2=%{customdata[1]}<br>eₓ3=%{customdata[2]}<extra></extra>",
         "legendgroup": "Death United States_Female",
         "line": {
          "color": "#EF553B",
          "dash": "solid"
         },
         "mode": "lines",
         "name": "Death United States_Female",
         "orientation": "v",
         "showlegend": true,
         "type": "scatter",
         "x": [
          0,
          1,
          2,
          3,
          4,
          5,
          6,
          7,
          8,
          9,
          10,
          11,
          12,
          13,
          14,
          15,
          16,
          17,
          18,
          19,
          20,
          21,
          22,
          23,
          24,
          25,
          26,
          27,
          28,
          29,
          30,
          31,
          32,
          33,
          34,
          35,
          36,
          37,
          38,
          39,
          40,
          41,
          42,
          43,
          44,
          45,
          46,
          47,
          48,
          49,
          50,
          51,
          52,
          53,
          54,
          55,
          56,
          57,
          58,
          59,
          60,
          61,
          62,
          63,
          64,
          65,
          66,
          67,
          68,
          69,
          70,
          71,
          72,
          73,
          74,
          75,
          76,
          77,
          78,
          79,
          80,
          81,
          82,
          83,
          84,
          85,
          86,
          87,
          88,
          89,
          90,
          91,
          92,
          93,
          94,
          95,
          96,
          97,
          98,
          99,
          100,
          101,
          102,
          103,
          104,
          105,
          106,
          107,
          108,
          109,
          110
         ],
         "xaxis": "x",
         "y": [
          585.0000000000022,
          39.000000000003745,
          25.00000000000277,
          19.00000000000339,
          15.000000000004384,
          12.999999999996701,
          13.000000000002139,
          8.999999999998561,
          9.999999999999055,
          12.000000000001021,
          9.99999999999841,
          11.999999999995792,
          11.99999999999985,
          13.000000000005032,
          14.99999999999586,
          20.000000000003865,
          26.000000000005162,
          32.00000000000273,
          37.00000000000341,
          37.999999999998394,
          38.999999999998295,
          43.99999999999703,
          43.99999999999642,
          48.000000000000504,
          51.00000000000268,
          48.99999999999909,
          56.00000000000495,
          54.99999999999878,
          60.9999999999976,
          64.00000000000283,
          66.00000000000072,
          64.99999999999783,
          72.00000000000446,
          78.99999999999565,
          82.0000000000022,
          83.9999999999969,
          92.99999999999665,
          102.9999999999952,
          111.00000000000091,
          117.99999999999802,
          132.00000000000196,
          144.0000000000026,
          156.00000000000355,
          171.00000000000304,
          193.00000000000443,
          210.00000000000244,
          231.0000000000014,
          252.00000000000463,
          272.00000000000375,
          284.99999999999807,
          313.0000000000033,
          330.99999999999545,
          368.9999999999982,
          387.9999999999982,
          404.9999999999963,
          432.9999999999992,
          459.0000000000021,
          488.00000000000364,
          516.000000000001,
          556.000000000003,
          620.0000000000006,
          651.0000000000015,
          745.0000000000045,
          741.9999999999961,
          836.9999999999998,
          907.9999999999966,
          999.0000000000019,
          1047.9999999999957,
          1120,
          1200.9999999999984,
          1322.9999999999995,
          1424.0000000000007,
          1509.0000000000036,
          1638.9999999999961,
          1816.0000000000034,
          1917.9999999999989,
          2052.999999999996,
          2204.000000000003,
          2348.999999999998,
          2504.9999999999973,
          2660.0000000000023,
          2834.9999999999973,
          3055.000000000001,
          3171.9999999999995,
          3353.9999999999977,
          3529.0000000000023,
          3680.0000000000023,
          3820.999999999999,
          3856.999999999999,
          3867.9999999999995,
          3761.0000000000005,
          3711.0000000000005,
          3527,
          3312.999999999999,
          3007.0000000000005,
          2623.9999999999995,
          2267,
          1905.0000000000005,
          1553,
          1225.9999999999998,
          936.9999999999999,
          692,
          492,
          337,
          222.99999999999997,
          142,
          86,
          51.00000000000001,
          29,
          16,
          16
         ],
         "yaxis": "y"
        },
        {
         "customdata": [
          [
           75.63,
           80.54,
           77.39
          ],
          [
           75.18,
           80.01,
           76.4
          ],
          [
           74.21,
           79.04,
           75.41
          ],
          [
           73.24,
           78.06,
           74.42
          ],
          [
           72.26,
           77.08,
           73.43
          ],
          [
           71.27,
           76.09,
           72.43
          ],
          [
           70.28,
           75.1,
           71.44
          ],
          [
           69.29,
           74.11,
           70.45
          ],
          [
           68.3,
           73.12,
           69.46
          ],
          [
           67.31,
           72.12,
           68.47
          ],
          [
           66.32,
           71.13,
           67.48
          ],
          [
           65.32,
           70.14,
           66.49
          ],
          [
           64.33,
           69.15,
           65.51
          ],
          [
           63.34,
           68.16,
           64.52
          ],
          [
           62.36,
           67.17,
           63.53
          ],
          [
           61.37,
           66.18,
           62.55
          ],
          [
           60.39,
           65.19,
           61.56
          ],
          [
           59.42,
           64.21,
           60.58
          ],
          [
           58.46,
           63.23,
           59.59
          ],
          [
           57.52,
           62.25,
           58.61
          ],
          [
           56.58,
           61.27,
           57.63
          ],
          [
           55.65,
           60.3,
           56.65
          ],
          [
           54.72,
           59.32,
           55.67
          ],
          [
           53.79,
           58.35,
           54.69
          ],
          [
           52.87,
           57.38,
           53.71
          ],
          [
           51.94,
           56.41,
           52.73
          ],
          [
           51,
           55.44,
           51.76
          ],
          [
           50.07,
           54.47,
           50.79
          ],
          [
           49.14,
           53.5,
           49.81
          ],
          [
           48.21,
           52.53,
           48.84
          ],
          [
           47.28,
           51.57,
           47.88
          ],
          [
           46.35,
           50.6,
           46.91
          ],
          [
           45.42,
           49.63,
           45.94
          ],
          [
           44.48,
           48.67,
           44.98
          ],
          [
           43.55,
           47.71,
           44.02
          ],
          [
           42.62,
           46.75,
           43.06
          ],
          [
           41.69,
           45.79,
           42.11
          ],
          [
           40.76,
           44.83,
           41.16
          ],
          [
           39.83,
           43.88,
           40.21
          ],
          [
           38.91,
           42.93,
           39.26
          ],
          [
           37.99,
           41.98,
           38.32
          ],
          [
           37.07,
           41.04,
           37.38
          ],
          [
           36.17,
           40.1,
           36.44
          ],
          [
           35.26,
           39.16,
           35.51
          ],
          [
           34.36,
           38.23,
           34.58
          ],
          [
           33.47,
           37.31,
           33.66
          ],
          [
           32.58,
           36.39,
           32.74
          ],
          [
           31.71,
           35.48,
           31.82
          ],
          [
           30.84,
           34.57,
           30.91
          ],
          [
           29.97,
           33.67,
           30.01
          ],
          [
           29.12,
           32.77,
           29.11
          ],
          [
           28.28,
           31.88,
           28.21
          ],
          [
           27.44,
           30.99,
           27.33
          ],
          [
           26.62,
           30.11,
           26.45
          ],
          [
           25.8,
           29.23,
           25.57
          ],
          [
           24.99,
           28.36,
           24.71
          ],
          [
           24.19,
           27.49,
           23.85
          ],
          [
           23.4,
           26.63,
           23
          ],
          [
           22.62,
           25.77,
           22.16
          ],
          [
           21.84,
           24.91,
           21.33
          ],
          [
           21.06,
           24.06,
           20.51
          ],
          [
           20.3,
           23.23,
           19.7
          ],
          [
           19.54,
           22.39,
           18.9
          ],
          [
           18.81,
           21.58,
           18.11
          ],
          [
           18.05,
           20.76,
           17.33
          ],
          [
           17.33,
           19.96,
           16.56
          ],
          [
           16.61,
           19.17,
           15.81
          ],
          [
           15.92,
           18.39,
           15.07
          ],
          [
           15.21,
           17.62,
           14.35
          ],
          [
           14.53,
           16.86,
           13.64
          ],
          [
           13.85,
           16.1,
           12.94
          ],
          [
           13.19,
           15.36,
           12.26
          ],
          [
           12.53,
           14.64,
           11.6
          ],
          [
           11.89,
           13.92,
           10.95
          ],
          [
           11.27,
           13.22,
           10.32
          ],
          [
           10.66,
           12.54,
           9.71
          ],
          [
           10.06,
           11.87,
           9.11
          ],
          [
           9.48,
           11.21,
           8.54
          ],
          [
           8.92,
           10.57,
           7.98
          ],
          [
           8.39,
           9.95,
           7.44
          ],
          [
           7.85,
           9.34,
           6.93
          ],
          [
           7.34,
           8.75,
           6.43
          ],
          [
           6.85,
           8.17,
           5.95
          ],
          [
           6.38,
           7.62,
           5.5
          ],
          [
           5.93,
           7.09,
           5.06
          ],
          [
           5.49,
           6.58,
           4.65
          ],
          [
           5.07,
           6.09,
           4.26
          ],
          [
           4.68,
           5.63,
           3.88
          ],
          [
           4.32,
           5.2,
           3.53
          ],
          [
           3.97,
           4.8,
           3.2
          ],
          [
           3.66,
           4.42,
           2.89
          ],
          [
           3.35,
           4.05,
           2.6
          ],
          [
           3.09,
           3.72,
           2.32
          ],
          [
           2.84,
           3.42,
           2.07
          ],
          [
           2.62,
           3.14,
           1.84
          ],
          [
           2.44,
           2.89,
           1.62
          ],
          [
           2.25,
           2.65,
           1.42
          ],
          [
           2.07,
           2.43,
           1.24
          ],
          [
           1.91,
           2.23,
           1.07
          ],
          [
           1.76,
           2.05,
           0.92
          ],
          [
           1.63,
           1.88,
           0.77
          ],
          [
           1.51,
           1.73,
           0.65
          ],
          [
           1.4,
           1.58,
           0.54
          ],
          [
           1.29,
           1.45,
           0.45
          ],
          [
           1.19,
           1.32,
           0.29
          ],
          [
           1.08,
           1.19,
           0
          ],
          [
           0.94,
           1.04,
           null
          ],
          [
           0.78,
           0.83,
           null
          ],
          [
           0.5,
           0.52,
           null
          ],
          [
           0,
           0,
           null
          ],
          [
           null,
           null,
           null
          ]
         ],
         "hovertemplate": "variable=Death None<br>Age=%{x}<br>value=%{y}<br>eₓ1=%{customdata[0]}<br>eₓ2=%{customdata[1]}<br>eₓ3=%{customdata[2]}<extra></extra>",
         "legendgroup": "Death None",
         "line": {
          "color": "#00cc96",
          "dash": "solid"
         },
         "mode": "lines",
         "name": "Death None",
         "orientation": "v",
         "showlegend": true,
         "type": "scatter",
         "x": [
          0,
          1,
          2,
          3,
          4,
          5,
          6,
          7,
          8,
          9,
          10,
          11,
          12,
          13,
          14,
          15,
          16,
          17,
          18,
          19,
          20,
          21,
          22,
          23,
          24,
          25,
          26,
          27,
          28,
          29,
          30,
          31,
          32,
          33,
          34,
          35,
          36,
          37,
          38,
          39,
          40,
          41,
          42,
          43,
          44,
          45,
          46,
          47,
          48,
          49,
          50,
          51,
          52,
          53,
          54,
          55,
          56,
          57,
          58,
          59,
          60,
          61,
          62,
          63,
          64,
          65,
          66,
          67,
          68,
          69,
          70,
          71,
          72,
          73,
          74,
          75,
          76,
          77,
          78,
          79,
          80,
          81,
          82,
          83,
          84,
          85,
          86,
          87,
          88,
          89,
          90,
          91,
          92,
          93,
          94,
          95,
          96,
          97,
          98,
          99,
          100,
          101,
          102,
          103,
          104,
          105,
          106,
          107,
          108,
          109,
          110
         ],
         "xaxis": "x",
         "y": [
          9.999999999998899,
          10.000000000002812,
          11.00000000000313,
          11.000000000003054,
          12.000000000001503,
          12.000000000001867,
          13.000000000000812,
          14.000000000004897,
          15.000000000000636,
          15.000000000002107,
          17.000000000003926,
          18.000000000005063,
          19.000000000004054,
          19.999999999995545,
          22.000000000004608,
          23.00000000000143,
          25.000000000002,
          25.999999999998632,
          29.000000000000487,
          31.000000000000547,
          32.999999999995566,
          34.9999999999964,
          37.999999999994714,
          42.00000000000124,
          44.00000000000238,
          47.00000000000236,
          52.00000000000482,
          55.000000000004206,
          60.00000000000039,
          64.00000000000476,
          69.99999999999956,
          75.00000000000132,
          80.9999999999947,
          88.00000000000013,
          94.99999999999622,
          103.0000000000024,
          111.0000000000047,
          120.99999999999889,
          130.0000000000017,
          142.0000000000043,
          153.0000000000012,
          166.00000000000404,
          181.0000000000002,
          196.00000000000492,
          212.00000000000276,
          231.00000000000304,
          251.9999999999999,
          272.99999999999636,
          297.0000000000031,
          323.0000000000012,
          350.9999999999958,
          382.0000000000004,
          416.9999999999958,
          453.00000000000034,
          494.00000000000415,
          537.999999999999,
          585.9999999999959,
          638.0000000000007,
          696.0000000000038,
          756.9999999999977,
          825.9999999999964,
          898.0000000000031,
          979.0000000000013,
          1064.9999999999957,
          1157.9999999999982,
          1259.0000000000043,
          1368.9999999999957,
          1484.0000000000011,
          1609.9999999999973,
          1743.000000000002,
          1884.9999999999998,
          2034.0000000000002,
          2190.9999999999995,
          2354.9999999999964,
          2523.9999999999973,
          2696.0000000000023,
          2871.9999999999964,
          3044.0000000000023,
          3213.999999999998,
          3374.000000000002,
          3522.000000000002,
          3651.000000000002,
          3754,
          3826.9999999999986,
          3862.000000000001,
          3852.9999999999986,
          3793.0000000000014,
          3679.000000000001,
          3509.000000000001,
          3282.9999999999995,
          3003.999999999999,
          2681.0000000000005,
          2325.9999999999995,
          1952.9999999999998,
          1581.0000000000002,
          1226,
          906.0000000000001,
          634,
          415.99999999999994,
          254,
          144,
          73,
          34,
          13,
          5,
          2,
          0,
          null,
          null,
          null,
          null
         ],
         "yaxis": "y"
        }
       ],
       "layout": {
        "legend": {
         "title": {
          "text": "variable"
         },
         "tracegroupgap": 0
        },
        "template": {
         "data": {
          "bar": [
           {
            "error_x": {
             "color": "#2a3f5f"
            },
            "error_y": {
             "color": "#2a3f5f"
            },
            "marker": {
             "line": {
              "color": "#E5ECF6",
              "width": 0.5
             }
            },
            "type": "bar"
           }
          ],
          "barpolar": [
           {
            "marker": {
             "line": {
              "color": "#E5ECF6",
              "width": 0.5
             }
            },
            "type": "barpolar"
           }
          ],
          "carpet": [
           {
            "aaxis": {
             "endlinecolor": "#2a3f5f",
             "gridcolor": "white",
             "linecolor": "white",
             "minorgridcolor": "white",
             "startlinecolor": "#2a3f5f"
            },
            "baxis": {
             "endlinecolor": "#2a3f5f",
             "gridcolor": "white",
             "linecolor": "white",
             "minorgridcolor": "white",
             "startlinecolor": "#2a3f5f"
            },
            "type": "carpet"
           }
          ],
          "choropleth": [
           {
            "colorbar": {
             "outlinewidth": 0,
             "ticks": ""
            },
            "type": "choropleth"
           }
          ],
          "contour": [
           {
            "colorbar": {
             "outlinewidth": 0,
             "ticks": ""
            },
            "colorscale": [
             [
              0,
              "#0d0887"
             ],
             [
              0.1111111111111111,
              "#46039f"
             ],
             [
              0.2222222222222222,
              "#7201a8"
             ],
             [
              0.3333333333333333,
              "#9c179e"
             ],
             [
              0.4444444444444444,
              "#bd3786"
             ],
             [
              0.5555555555555556,
              "#d8576b"
             ],
             [
              0.6666666666666666,
              "#ed7953"
             ],
             [
              0.7777777777777778,
              "#fb9f3a"
             ],
             [
              0.8888888888888888,
              "#fdca26"
             ],
             [
              1,
              "#f0f921"
             ]
            ],
            "type": "contour"
           }
          ],
          "contourcarpet": [
           {
            "colorbar": {
             "outlinewidth": 0,
             "ticks": ""
            },
            "type": "contourcarpet"
           }
          ],
          "heatmap": [
           {
            "colorbar": {
             "outlinewidth": 0,
             "ticks": ""
            },
            "colorscale": [
             [
              0,
              "#0d0887"
             ],
             [
              0.1111111111111111,
              "#46039f"
             ],
             [
              0.2222222222222222,
              "#7201a8"
             ],
             [
              0.3333333333333333,
              "#9c179e"
             ],
             [
              0.4444444444444444,
              "#bd3786"
             ],
             [
              0.5555555555555556,
              "#d8576b"
             ],
             [
              0.6666666666666666,
              "#ed7953"
             ],
             [
              0.7777777777777778,
              "#fb9f3a"
             ],
             [
              0.8888888888888888,
              "#fdca26"
             ],
             [
              1,
              "#f0f921"
             ]
            ],
            "type": "heatmap"
           }
          ],
          "heatmapgl": [
           {
            "colorbar": {
             "outlinewidth": 0,
             "ticks": ""
            },
            "colorscale": [
             [
              0,
              "#0d0887"
             ],
             [
              0.1111111111111111,
              "#46039f"
             ],
             [
              0.2222222222222222,
              "#7201a8"
             ],
             [
              0.3333333333333333,
              "#9c179e"
             ],
             [
              0.4444444444444444,
              "#bd3786"
             ],
             [
              0.5555555555555556,
              "#d8576b"
             ],
             [
              0.6666666666666666,
              "#ed7953"
             ],
             [
              0.7777777777777778,
              "#fb9f3a"
             ],
             [
              0.8888888888888888,
              "#fdca26"
             ],
             [
              1,
              "#f0f921"
             ]
            ],
            "type": "heatmapgl"
           }
          ],
          "histogram": [
           {
            "marker": {
             "colorbar": {
              "outlinewidth": 0,
              "ticks": ""
             }
            },
            "type": "histogram"
           }
          ],
          "histogram2d": [
           {
            "colorbar": {
             "outlinewidth": 0,
             "ticks": ""
            },
            "colorscale": [
             [
              0,
              "#0d0887"
             ],
             [
              0.1111111111111111,
              "#46039f"
             ],
             [
              0.2222222222222222,
              "#7201a8"
             ],
             [
              0.3333333333333333,
              "#9c179e"
             ],
             [
              0.4444444444444444,
              "#bd3786"
             ],
             [
              0.5555555555555556,
              "#d8576b"
             ],
             [
              0.6666666666666666,
              "#ed7953"
             ],
             [
              0.7777777777777778,
              "#fb9f3a"
             ],
             [
              0.8888888888888888,
              "#fdca26"
             ],
             [
              1,
              "#f0f921"
             ]
            ],
            "type": "histogram2d"
           }
          ],
          "histogram2dcontour": [
           {
            "colorbar": {
             "outlinewidth": 0,
             "ticks": ""
            },
            "colorscale": [
             [
              0,
              "#0d0887"
             ],
             [
              0.1111111111111111,
              "#46039f"
             ],
             [
              0.2222222222222222,
              "#7201a8"
             ],
             [
              0.3333333333333333,
              "#9c179e"
             ],
             [
              0.4444444444444444,
              "#bd3786"
             ],
             [
              0.5555555555555556,
              "#d8576b"
             ],
             [
              0.6666666666666666,
              "#ed7953"
             ],
             [
              0.7777777777777778,
              "#fb9f3a"
             ],
             [
              0.8888888888888888,
              "#fdca26"
             ],
             [
              1,
              "#f0f921"
             ]
            ],
            "type": "histogram2dcontour"
           }
          ],
          "mesh3d": [
           {
            "colorbar": {
             "outlinewidth": 0,
             "ticks": ""
            },
            "type": "mesh3d"
           }
          ],
          "parcoords": [
           {
            "line": {
             "colorbar": {
              "outlinewidth": 0,
              "ticks": ""
             }
            },
            "type": "parcoords"
           }
          ],
          "pie": [
           {
            "automargin": true,
            "type": "pie"
           }
          ],
          "scatter": [
           {
            "marker": {
             "colorbar": {
              "outlinewidth": 0,
              "ticks": ""
             }
            },
            "type": "scatter"
           }
          ],
          "scatter3d": [
           {
            "line": {
             "colorbar": {
              "outlinewidth": 0,
              "ticks": ""
             }
            },
            "marker": {
             "colorbar": {
              "outlinewidth": 0,
              "ticks": ""
             }
            },
            "type": "scatter3d"
           }
          ],
          "scattercarpet": [
           {
            "marker": {
             "colorbar": {
              "outlinewidth": 0,
              "ticks": ""
             }
            },
            "type": "scattercarpet"
           }
          ],
          "scattergeo": [
           {
            "marker": {
             "colorbar": {
              "outlinewidth": 0,
              "ticks": ""
             }
            },
            "type": "scattergeo"
           }
          ],
          "scattergl": [
           {
            "marker": {
             "colorbar": {
              "outlinewidth": 0,
              "ticks": ""
             }
            },
            "type": "scattergl"
           }
          ],
          "scattermapbox": [
           {
            "marker": {
             "colorbar": {
              "outlinewidth": 0,
              "ticks": ""
             }
            },
            "type": "scattermapbox"
           }
          ],
          "scatterpolar": [
           {
            "marker": {
             "colorbar": {
              "outlinewidth": 0,
              "ticks": ""
             }
            },
            "type": "scatterpolar"
           }
          ],
          "scatterpolargl": [
           {
            "marker": {
             "colorbar": {
              "outlinewidth": 0,
              "ticks": ""
             }
            },
            "type": "scatterpolargl"
           }
          ],
          "scatterternary": [
           {
            "marker": {
             "colorbar": {
              "outlinewidth": 0,
              "ticks": ""
             }
            },
            "type": "scatterternary"
           }
          ],
          "surface": [
           {
            "colorbar": {
             "outlinewidth": 0,
             "ticks": ""
            },
            "colorscale": [
             [
              0,
              "#0d0887"
             ],
             [
              0.1111111111111111,
              "#46039f"
             ],
             [
              0.2222222222222222,
              "#7201a8"
             ],
             [
              0.3333333333333333,
              "#9c179e"
             ],
             [
              0.4444444444444444,
              "#bd3786"
             ],
             [
              0.5555555555555556,
              "#d8576b"
             ],
             [
              0.6666666666666666,
              "#ed7953"
             ],
             [
              0.7777777777777778,
              "#fb9f3a"
             ],
             [
              0.8888888888888888,
              "#fdca26"
             ],
             [
              1,
              "#f0f921"
             ]
            ],
            "type": "surface"
           }
          ],
          "table": [
           {
            "cells": {
             "fill": {
              "color": "#EBF0F8"
             },
             "line": {
              "color": "white"
             }
            },
            "header": {
             "fill": {
              "color": "#C8D4E3"
             },
             "line": {
              "color": "white"
             }
            },
            "type": "table"
           }
          ]
         },
         "layout": {
          "annotationdefaults": {
           "arrowcolor": "#2a3f5f",
           "arrowhead": 0,
           "arrowwidth": 1
          },
          "coloraxis": {
           "colorbar": {
            "outlinewidth": 0,
            "ticks": ""
           }
          },
          "colorscale": {
           "diverging": [
            [
             0,
             "#8e0152"
            ],
            [
             0.1,
             "#c51b7d"
            ],
            [
             0.2,
             "#de77ae"
            ],
            [
             0.3,
             "#f1b6da"
            ],
            [
             0.4,
             "#fde0ef"
            ],
            [
             0.5,
             "#f7f7f7"
            ],
            [
             0.6,
             "#e6f5d0"
            ],
            [
             0.7,
             "#b8e186"
            ],
            [
             0.8,
             "#7fbc41"
            ],
            [
             0.9,
             "#4d9221"
            ],
            [
             1,
             "#276419"
            ]
           ],
           "sequential": [
            [
             0,
             "#0d0887"
            ],
            [
             0.1111111111111111,
             "#46039f"
            ],
            [
             0.2222222222222222,
             "#7201a8"
            ],
            [
             0.3333333333333333,
             "#9c179e"
            ],
            [
             0.4444444444444444,
             "#bd3786"
            ],
            [
             0.5555555555555556,
             "#d8576b"
            ],
            [
             0.6666666666666666,
             "#ed7953"
            ],
            [
             0.7777777777777778,
             "#fb9f3a"
            ],
            [
             0.8888888888888888,
             "#fdca26"
            ],
            [
             1,
             "#f0f921"
            ]
           ],
           "sequentialminus": [
            [
             0,
             "#0d0887"
            ],
            [
             0.1111111111111111,
             "#46039f"
            ],
            [
             0.2222222222222222,
             "#7201a8"
            ],
            [
             0.3333333333333333,
             "#9c179e"
            ],
            [
             0.4444444444444444,
             "#bd3786"
            ],
            [
             0.5555555555555556,
             "#d8576b"
            ],
            [
             0.6666666666666666,
             "#ed7953"
            ],
            [
             0.7777777777777778,
             "#fb9f3a"
            ],
            [
             0.8888888888888888,
             "#fdca26"
            ],
            [
             1,
             "#f0f921"
            ]
           ]
          },
          "colorway": [
           "#636efa",
           "#EF553B",
           "#00cc96",
           "#ab63fa",
           "#FFA15A",
           "#19d3f3",
           "#FF6692",
           "#B6E880",
           "#FF97FF",
           "#FECB52"
          ],
          "font": {
           "color": "#2a3f5f"
          },
          "geo": {
           "bgcolor": "white",
           "lakecolor": "white",
           "landcolor": "#E5ECF6",
           "showlakes": true,
           "showland": true,
           "subunitcolor": "white"
          },
          "hoverlabel": {
           "align": "left"
          },
          "hovermode": "closest",
          "mapbox": {
           "style": "light"
          },
          "paper_bgcolor": "white",
          "plot_bgcolor": "#E5ECF6",
          "polar": {
           "angularaxis": {
            "gridcolor": "white",
            "linecolor": "white",
            "ticks": ""
           },
           "bgcolor": "#E5ECF6",
           "radialaxis": {
            "gridcolor": "white",
            "linecolor": "white",
            "ticks": ""
           }
          },
          "scene": {
           "xaxis": {
            "backgroundcolor": "#E5ECF6",
            "gridcolor": "white",
            "gridwidth": 2,
            "linecolor": "white",
            "showbackground": true,
            "ticks": "",
            "zerolinecolor": "white"
           },
           "yaxis": {
            "backgroundcolor": "#E5ECF6",
            "gridcolor": "white",
            "gridwidth": 2,
            "linecolor": "white",
            "showbackground": true,
            "ticks": "",
            "zerolinecolor": "white"
           },
           "zaxis": {
            "backgroundcolor": "#E5ECF6",
            "gridcolor": "white",
            "gridwidth": 2,
            "linecolor": "white",
            "showbackground": true,
            "ticks": "",
            "zerolinecolor": "white"
           }
          },
          "shapedefaults": {
           "line": {
            "color": "#2a3f5f"
           }
          },
          "ternary": {
           "aaxis": {
            "gridcolor": "white",
            "linecolor": "white",
            "ticks": ""
           },
           "baxis": {
            "gridcolor": "white",
            "linecolor": "white",
            "ticks": ""
           },
           "bgcolor": "#E5ECF6",
           "caxis": {
            "gridcolor": "white",
            "linecolor": "white",
            "ticks": ""
           }
          },
          "title": {
           "x": 0.05
          },
          "xaxis": {
           "automargin": true,
           "gridcolor": "white",
           "linecolor": "white",
           "ticks": "",
           "title": {
            "standoff": 15
           },
           "zerolinecolor": "white",
           "zerolinewidth": 2
          },
          "yaxis": {
           "automargin": true,
           "gridcolor": "white",
           "linecolor": "white",
           "ticks": "",
           "title": {
            "standoff": 15
           },
           "zerolinecolor": "white",
           "zerolinewidth": 2
          }
         }
        },
        "title": {
         "text": "LogDeath plot of United States_Male, United States_Female and None"
        },
        "xaxis": {
         "anchor": "y",
         "domain": [
          0,
          1
         ],
         "title": {
          "text": "Age"
         }
        },
        "yaxis": {
         "anchor": "x",
         "domain": [
          0,
          1
         ],
         "title": {
          "text": "value"
         }
        }
       }
      },
      "text/html": [
       "<div>\n",
       "        \n",
       "        \n",
       "            <div id=\"21e67670-ff0e-45cf-8dc4-753cbb82c37f\" class=\"plotly-graph-div\" style=\"height:525px; width:100%;\"></div>\n",
       "            <script type=\"text/javascript\">\n",
       "                require([\"plotly\"], function(Plotly) {\n",
       "                    window.PLOTLYENV=window.PLOTLYENV || {};\n",
       "                    \n",
       "                if (document.getElementById(\"21e67670-ff0e-45cf-8dc4-753cbb82c37f\")) {\n",
       "                    Plotly.newPlot(\n",
       "                        '21e67670-ff0e-45cf-8dc4-753cbb82c37f',\n",
       "                        [{\"customdata\": [[75.63, 80.54, 77.39], [75.18, 80.01, 76.4], [74.21, 79.04, 75.41], [73.24, 78.06, 74.42], [72.26, 77.08, 73.43], [71.27, 76.09, 72.43], [70.28, 75.1, 71.44], [69.29, 74.11, 70.45], [68.3, 73.12, 69.46], [67.31, 72.12, 68.47], [66.32, 71.13, 67.48], [65.32, 70.14, 66.49], [64.33, 69.15, 65.51], [63.34, 68.16, 64.52], [62.36, 67.17, 63.53], [61.37, 66.18, 62.55], [60.39, 65.19, 61.56], [59.42, 64.21, 60.58], [58.46, 63.23, 59.59], [57.52, 62.25, 58.61], [56.58, 61.27, 57.63], [55.65, 60.3, 56.65], [54.72, 59.32, 55.67], [53.79, 58.35, 54.69], [52.87, 57.38, 53.71], [51.94, 56.41, 52.73], [51.0, 55.44, 51.76], [50.07, 54.47, 50.79], [49.14, 53.5, 49.81], [48.21, 52.53, 48.84], [47.28, 51.57, 47.88], [46.35, 50.6, 46.91], [45.42, 49.63, 45.94], [44.48, 48.67, 44.98], [43.55, 47.71, 44.02], [42.62, 46.75, 43.06], [41.69, 45.79, 42.11], [40.76, 44.83, 41.16], [39.83, 43.88, 40.21], [38.91, 42.93, 39.26], [37.99, 41.98, 38.32], [37.07, 41.04, 37.38], [36.17, 40.1, 36.44], [35.26, 39.16, 35.51], [34.36, 38.23, 34.58], [33.47, 37.31, 33.66], [32.58, 36.39, 32.74], [31.71, 35.48, 31.82], [30.84, 34.57, 30.91], [29.97, 33.67, 30.01], [29.12, 32.77, 29.11], [28.28, 31.88, 28.21], [27.44, 30.99, 27.33], [26.62, 30.11, 26.45], [25.8, 29.23, 25.57], [24.99, 28.36, 24.71], [24.19, 27.49, 23.85], [23.4, 26.63, 23.0], [22.62, 25.77, 22.16], [21.84, 24.91, 21.33], [21.06, 24.06, 20.51], [20.3, 23.23, 19.7], [19.54, 22.39, 18.9], [18.81, 21.58, 18.11], [18.05, 20.76, 17.33], [17.33, 19.96, 16.56], [16.61, 19.17, 15.81], [15.92, 18.39, 15.07], [15.21, 17.62, 14.35], [14.53, 16.86, 13.64], [13.85, 16.1, 12.94], [13.19, 15.36, 12.26], [12.53, 14.64, 11.6], [11.89, 13.92, 10.95], [11.27, 13.22, 10.32], [10.66, 12.54, 9.71], [10.06, 11.87, 9.11], [9.48, 11.21, 8.54], [8.92, 10.57, 7.98], [8.39, 9.95, 7.44], [7.85, 9.34, 6.93], [7.34, 8.75, 6.43], [6.85, 8.17, 5.95], [6.38, 7.62, 5.5], [5.93, 7.09, 5.06], [5.49, 6.58, 4.65], [5.07, 6.09, 4.26], [4.68, 5.63, 3.88], [4.32, 5.2, 3.53], [3.97, 4.8, 3.2], [3.66, 4.42, 2.89], [3.35, 4.05, 2.6], [3.09, 3.72, 2.32], [2.84, 3.42, 2.07], [2.62, 3.14, 1.84], [2.44, 2.89, 1.62], [2.25, 2.65, 1.42], [2.07, 2.43, 1.24], [1.91, 2.23, 1.07], [1.76, 2.05, 0.92], [1.63, 1.88, 0.77], [1.51, 1.73, 0.65], [1.4, 1.58, 0.54], [1.29, 1.45, 0.45], [1.19, 1.32, 0.29], [1.08, 1.19, 0.0], [0.94, 1.04, null], [0.78, 0.83, null], [0.5, 0.52, null], [0.0, 0.0, null], [null, null, null]], \"hovertemplate\": \"variable=Death United States_Male<br>Age=%{x}<br>value=%{y}<br>e\\u20931=%{customdata[0]}<br>e\\u20932=%{customdata[1]}<br>e\\u20933=%{customdata[2]}<extra></extra>\", \"legendgroup\": \"Death United States_Male\", \"line\": {\"color\": \"#636efa\", \"dash\": \"solid\"}, \"mode\": \"lines\", \"name\": \"Death United States_Male\", \"orientation\": \"v\", \"showlegend\": true, \"type\": \"scatter\", \"x\": [0, 1, 2, 3, 4, 5, 6, 7, 8, 9, 10, 11, 12, 13, 14, 15, 16, 17, 18, 19, 20, 21, 22, 23, 24, 25, 26, 27, 28, 29, 30, 31, 32, 33, 34, 35, 36, 37, 38, 39, 40, 41, 42, 43, 44, 45, 46, 47, 48, 49, 50, 51, 52, 53, 54, 55, 56, 57, 58, 59, 60, 61, 62, 63, 64, 65, 66, 67, 68, 69, 70, 71, 72, 73, 74, 75, 76, 77, 78, 79, 80, 81, 82, 83, 84, 85, 86, 87, 88, 89, 90, 91, 92, 93, 94, 95, 96, 97, 98, 99, 100, 101, 102, 103, 104, 105, 106, 107, 108, 109, 110], \"xaxis\": \"x\", \"y\": [716.0000000000056, 46.9999999999957, 30.999999999999186, 23.999999999998614, 17.999999999999524, 15.000000000004508, 13.000000000000751, 13.000000000005087, 12.000000000000519, 14.000000000004356, 11.999999999999487, 16.000000000001283, 15.000000000004569, 19.000000000002895, 24.000000000003944, 33.99999999999491, 50.99999999999677, 67.99999999999552, 94.99999999999966, 105.0, 117.00000000000047, 130.99999999999636, 124.99999999999471, 131.99999999999747, 131.0000000000023, 128.99999999999957, 135.00000000000367, 129.99999999999505, 134.9999999999946, 142.99999999999696, 137.00000000000307, 144.00000000000463, 143.0000000000046, 143.0000000000001, 152.99999999999568, 159.9999999999998, 166.00000000000142, 175.0000000000016, 185.99999999999713, 196.00000000000242, 210.00000000000077, 233.00000000000296, 252.00000000000048, 265.0000000000047, 298.9999999999959, 324.9999999999965, 354.0000000000035, 384.9999999999969, 414.9999999999975, 445.9999999999972, 493.0000000000018, 537.9999999999991, 590.0000000000039, 620.9999999999993, 657.0000000000008, 713.0000000000015, 756.9999999999982, 817.0000000000039, 838.9999999999995, 887.000000000001, 961.0000000000048, 980.9999999999987, 1118.0000000000018, 1079.0000000000018, 1206.9999999999989, 1298.999999999998, 1426.9999999999964, 1429.0000000000007, 1538.0000000000011, 1608.9999999999998, 1734.9999999999973, 1832.000000000002, 1940.0000000000014, 2059.999999999997, 2200.999999999997, 2311.0000000000014, 2435.0000000000005, 2590.999999999997, 2758.000000000001, 2798.9999999999995, 2951.0000000000027, 3068.0000000000014, 3208.9999999999986, 3208.000000000001, 3294.000000000002, 3328.999999999999, 3354.000000000002, 3329.9999999999995, 3236.0, 3159.0, 2904.000000000001, 2742.000000000001, 2473.0, 2175.0, 1871.9999999999995, 1502.9999999999998, 1217.0, 956.9999999999998, 729.0000000000001, 537.0000000000001, 383.0, 264.0, 174.0, 112.0, 69.0, 41.0, 24.0, 13.0, 7.0, 4.0, 3.0], \"yaxis\": \"y\"}, {\"customdata\": [[75.63, 80.54, 77.39], [75.18, 80.01, 76.4], [74.21, 79.04, 75.41], [73.24, 78.06, 74.42], [72.26, 77.08, 73.43], [71.27, 76.09, 72.43], [70.28, 75.1, 71.44], [69.29, 74.11, 70.45], [68.3, 73.12, 69.46], [67.31, 72.12, 68.47], [66.32, 71.13, 67.48], [65.32, 70.14, 66.49], [64.33, 69.15, 65.51], [63.34, 68.16, 64.52], [62.36, 67.17, 63.53], [61.37, 66.18, 62.55], [60.39, 65.19, 61.56], [59.42, 64.21, 60.58], [58.46, 63.23, 59.59], [57.52, 62.25, 58.61], [56.58, 61.27, 57.63], [55.65, 60.3, 56.65], [54.72, 59.32, 55.67], [53.79, 58.35, 54.69], [52.87, 57.38, 53.71], [51.94, 56.41, 52.73], [51.0, 55.44, 51.76], [50.07, 54.47, 50.79], [49.14, 53.5, 49.81], [48.21, 52.53, 48.84], [47.28, 51.57, 47.88], [46.35, 50.6, 46.91], [45.42, 49.63, 45.94], [44.48, 48.67, 44.98], [43.55, 47.71, 44.02], [42.62, 46.75, 43.06], [41.69, 45.79, 42.11], [40.76, 44.83, 41.16], [39.83, 43.88, 40.21], [38.91, 42.93, 39.26], [37.99, 41.98, 38.32], [37.07, 41.04, 37.38], [36.17, 40.1, 36.44], [35.26, 39.16, 35.51], [34.36, 38.23, 34.58], [33.47, 37.31, 33.66], [32.58, 36.39, 32.74], [31.71, 35.48, 31.82], [30.84, 34.57, 30.91], [29.97, 33.67, 30.01], [29.12, 32.77, 29.11], [28.28, 31.88, 28.21], [27.44, 30.99, 27.33], [26.62, 30.11, 26.45], [25.8, 29.23, 25.57], [24.99, 28.36, 24.71], [24.19, 27.49, 23.85], [23.4, 26.63, 23.0], [22.62, 25.77, 22.16], [21.84, 24.91, 21.33], [21.06, 24.06, 20.51], [20.3, 23.23, 19.7], [19.54, 22.39, 18.9], [18.81, 21.58, 18.11], [18.05, 20.76, 17.33], [17.33, 19.96, 16.56], [16.61, 19.17, 15.81], [15.92, 18.39, 15.07], [15.21, 17.62, 14.35], [14.53, 16.86, 13.64], [13.85, 16.1, 12.94], [13.19, 15.36, 12.26], [12.53, 14.64, 11.6], [11.89, 13.92, 10.95], [11.27, 13.22, 10.32], [10.66, 12.54, 9.71], [10.06, 11.87, 9.11], [9.48, 11.21, 8.54], [8.92, 10.57, 7.98], [8.39, 9.95, 7.44], [7.85, 9.34, 6.93], [7.34, 8.75, 6.43], [6.85, 8.17, 5.95], [6.38, 7.62, 5.5], [5.93, 7.09, 5.06], [5.49, 6.58, 4.65], [5.07, 6.09, 4.26], [4.68, 5.63, 3.88], [4.32, 5.2, 3.53], [3.97, 4.8, 3.2], [3.66, 4.42, 2.89], [3.35, 4.05, 2.6], [3.09, 3.72, 2.32], [2.84, 3.42, 2.07], [2.62, 3.14, 1.84], [2.44, 2.89, 1.62], [2.25, 2.65, 1.42], [2.07, 2.43, 1.24], [1.91, 2.23, 1.07], [1.76, 2.05, 0.92], [1.63, 1.88, 0.77], [1.51, 1.73, 0.65], [1.4, 1.58, 0.54], [1.29, 1.45, 0.45], [1.19, 1.32, 0.29], [1.08, 1.19, 0.0], [0.94, 1.04, null], [0.78, 0.83, null], [0.5, 0.52, null], [0.0, 0.0, null], [null, null, null]], \"hovertemplate\": \"variable=Death United States_Female<br>Age=%{x}<br>value=%{y}<br>e\\u20931=%{customdata[0]}<br>e\\u20932=%{customdata[1]}<br>e\\u20933=%{customdata[2]}<extra></extra>\", \"legendgroup\": \"Death United States_Female\", \"line\": {\"color\": \"#EF553B\", \"dash\": \"solid\"}, \"mode\": \"lines\", \"name\": \"Death United States_Female\", \"orientation\": \"v\", \"showlegend\": true, \"type\": \"scatter\", \"x\": [0, 1, 2, 3, 4, 5, 6, 7, 8, 9, 10, 11, 12, 13, 14, 15, 16, 17, 18, 19, 20, 21, 22, 23, 24, 25, 26, 27, 28, 29, 30, 31, 32, 33, 34, 35, 36, 37, 38, 39, 40, 41, 42, 43, 44, 45, 46, 47, 48, 49, 50, 51, 52, 53, 54, 55, 56, 57, 58, 59, 60, 61, 62, 63, 64, 65, 66, 67, 68, 69, 70, 71, 72, 73, 74, 75, 76, 77, 78, 79, 80, 81, 82, 83, 84, 85, 86, 87, 88, 89, 90, 91, 92, 93, 94, 95, 96, 97, 98, 99, 100, 101, 102, 103, 104, 105, 106, 107, 108, 109, 110], \"xaxis\": \"x\", \"y\": [585.0000000000022, 39.000000000003745, 25.00000000000277, 19.00000000000339, 15.000000000004384, 12.999999999996701, 13.000000000002139, 8.999999999998561, 9.999999999999055, 12.000000000001021, 9.99999999999841, 11.999999999995792, 11.99999999999985, 13.000000000005032, 14.99999999999586, 20.000000000003865, 26.000000000005162, 32.00000000000273, 37.00000000000341, 37.999999999998394, 38.999999999998295, 43.99999999999703, 43.99999999999642, 48.000000000000504, 51.00000000000268, 48.99999999999909, 56.00000000000495, 54.99999999999878, 60.9999999999976, 64.00000000000283, 66.00000000000072, 64.99999999999783, 72.00000000000446, 78.99999999999565, 82.0000000000022, 83.9999999999969, 92.99999999999665, 102.9999999999952, 111.00000000000091, 117.99999999999802, 132.00000000000196, 144.0000000000026, 156.00000000000355, 171.00000000000304, 193.00000000000443, 210.00000000000244, 231.0000000000014, 252.00000000000463, 272.00000000000375, 284.99999999999807, 313.0000000000033, 330.99999999999545, 368.9999999999982, 387.9999999999982, 404.9999999999963, 432.9999999999992, 459.0000000000021, 488.00000000000364, 516.000000000001, 556.000000000003, 620.0000000000006, 651.0000000000015, 745.0000000000045, 741.9999999999961, 836.9999999999998, 907.9999999999966, 999.0000000000019, 1047.9999999999957, 1120.0, 1200.9999999999984, 1322.9999999999995, 1424.0000000000007, 1509.0000000000036, 1638.9999999999961, 1816.0000000000034, 1917.9999999999989, 2052.999999999996, 2204.000000000003, 2348.999999999998, 2504.9999999999973, 2660.0000000000023, 2834.9999999999973, 3055.000000000001, 3171.9999999999995, 3353.9999999999977, 3529.0000000000023, 3680.0000000000023, 3820.999999999999, 3856.999999999999, 3867.9999999999995, 3761.0000000000005, 3711.0000000000005, 3527.0, 3312.999999999999, 3007.0000000000005, 2623.9999999999995, 2267.0, 1905.0000000000005, 1553.0, 1225.9999999999998, 936.9999999999999, 692.0, 492.0, 337.0, 222.99999999999997, 142.0, 86.0, 51.00000000000001, 29.0, 16.0, 16.0], \"yaxis\": \"y\"}, {\"customdata\": [[75.63, 80.54, 77.39], [75.18, 80.01, 76.4], [74.21, 79.04, 75.41], [73.24, 78.06, 74.42], [72.26, 77.08, 73.43], [71.27, 76.09, 72.43], [70.28, 75.1, 71.44], [69.29, 74.11, 70.45], [68.3, 73.12, 69.46], [67.31, 72.12, 68.47], [66.32, 71.13, 67.48], [65.32, 70.14, 66.49], [64.33, 69.15, 65.51], [63.34, 68.16, 64.52], [62.36, 67.17, 63.53], [61.37, 66.18, 62.55], [60.39, 65.19, 61.56], [59.42, 64.21, 60.58], [58.46, 63.23, 59.59], [57.52, 62.25, 58.61], [56.58, 61.27, 57.63], [55.65, 60.3, 56.65], [54.72, 59.32, 55.67], [53.79, 58.35, 54.69], [52.87, 57.38, 53.71], [51.94, 56.41, 52.73], [51.0, 55.44, 51.76], [50.07, 54.47, 50.79], [49.14, 53.5, 49.81], [48.21, 52.53, 48.84], [47.28, 51.57, 47.88], [46.35, 50.6, 46.91], [45.42, 49.63, 45.94], [44.48, 48.67, 44.98], [43.55, 47.71, 44.02], [42.62, 46.75, 43.06], [41.69, 45.79, 42.11], [40.76, 44.83, 41.16], [39.83, 43.88, 40.21], [38.91, 42.93, 39.26], [37.99, 41.98, 38.32], [37.07, 41.04, 37.38], [36.17, 40.1, 36.44], [35.26, 39.16, 35.51], [34.36, 38.23, 34.58], [33.47, 37.31, 33.66], [32.58, 36.39, 32.74], [31.71, 35.48, 31.82], [30.84, 34.57, 30.91], [29.97, 33.67, 30.01], [29.12, 32.77, 29.11], [28.28, 31.88, 28.21], [27.44, 30.99, 27.33], [26.62, 30.11, 26.45], [25.8, 29.23, 25.57], [24.99, 28.36, 24.71], [24.19, 27.49, 23.85], [23.4, 26.63, 23.0], [22.62, 25.77, 22.16], [21.84, 24.91, 21.33], [21.06, 24.06, 20.51], [20.3, 23.23, 19.7], [19.54, 22.39, 18.9], [18.81, 21.58, 18.11], [18.05, 20.76, 17.33], [17.33, 19.96, 16.56], [16.61, 19.17, 15.81], [15.92, 18.39, 15.07], [15.21, 17.62, 14.35], [14.53, 16.86, 13.64], [13.85, 16.1, 12.94], [13.19, 15.36, 12.26], [12.53, 14.64, 11.6], [11.89, 13.92, 10.95], [11.27, 13.22, 10.32], [10.66, 12.54, 9.71], [10.06, 11.87, 9.11], [9.48, 11.21, 8.54], [8.92, 10.57, 7.98], [8.39, 9.95, 7.44], [7.85, 9.34, 6.93], [7.34, 8.75, 6.43], [6.85, 8.17, 5.95], [6.38, 7.62, 5.5], [5.93, 7.09, 5.06], [5.49, 6.58, 4.65], [5.07, 6.09, 4.26], [4.68, 5.63, 3.88], [4.32, 5.2, 3.53], [3.97, 4.8, 3.2], [3.66, 4.42, 2.89], [3.35, 4.05, 2.6], [3.09, 3.72, 2.32], [2.84, 3.42, 2.07], [2.62, 3.14, 1.84], [2.44, 2.89, 1.62], [2.25, 2.65, 1.42], [2.07, 2.43, 1.24], [1.91, 2.23, 1.07], [1.76, 2.05, 0.92], [1.63, 1.88, 0.77], [1.51, 1.73, 0.65], [1.4, 1.58, 0.54], [1.29, 1.45, 0.45], [1.19, 1.32, 0.29], [1.08, 1.19, 0.0], [0.94, 1.04, null], [0.78, 0.83, null], [0.5, 0.52, null], [0.0, 0.0, null], [null, null, null]], \"hovertemplate\": \"variable=Death None<br>Age=%{x}<br>value=%{y}<br>e\\u20931=%{customdata[0]}<br>e\\u20932=%{customdata[1]}<br>e\\u20933=%{customdata[2]}<extra></extra>\", \"legendgroup\": \"Death None\", \"line\": {\"color\": \"#00cc96\", \"dash\": \"solid\"}, \"mode\": \"lines\", \"name\": \"Death None\", \"orientation\": \"v\", \"showlegend\": true, \"type\": \"scatter\", \"x\": [0, 1, 2, 3, 4, 5, 6, 7, 8, 9, 10, 11, 12, 13, 14, 15, 16, 17, 18, 19, 20, 21, 22, 23, 24, 25, 26, 27, 28, 29, 30, 31, 32, 33, 34, 35, 36, 37, 38, 39, 40, 41, 42, 43, 44, 45, 46, 47, 48, 49, 50, 51, 52, 53, 54, 55, 56, 57, 58, 59, 60, 61, 62, 63, 64, 65, 66, 67, 68, 69, 70, 71, 72, 73, 74, 75, 76, 77, 78, 79, 80, 81, 82, 83, 84, 85, 86, 87, 88, 89, 90, 91, 92, 93, 94, 95, 96, 97, 98, 99, 100, 101, 102, 103, 104, 105, 106, 107, 108, 109, 110], \"xaxis\": \"x\", \"y\": [9.999999999998899, 10.000000000002812, 11.00000000000313, 11.000000000003054, 12.000000000001503, 12.000000000001867, 13.000000000000812, 14.000000000004897, 15.000000000000636, 15.000000000002107, 17.000000000003926, 18.000000000005063, 19.000000000004054, 19.999999999995545, 22.000000000004608, 23.00000000000143, 25.000000000002, 25.999999999998632, 29.000000000000487, 31.000000000000547, 32.999999999995566, 34.9999999999964, 37.999999999994714, 42.00000000000124, 44.00000000000238, 47.00000000000236, 52.00000000000482, 55.000000000004206, 60.00000000000039, 64.00000000000476, 69.99999999999956, 75.00000000000132, 80.9999999999947, 88.00000000000013, 94.99999999999622, 103.0000000000024, 111.0000000000047, 120.99999999999889, 130.0000000000017, 142.0000000000043, 153.0000000000012, 166.00000000000404, 181.0000000000002, 196.00000000000492, 212.00000000000276, 231.00000000000304, 251.9999999999999, 272.99999999999636, 297.0000000000031, 323.0000000000012, 350.9999999999958, 382.0000000000004, 416.9999999999958, 453.00000000000034, 494.00000000000415, 537.999999999999, 585.9999999999959, 638.0000000000007, 696.0000000000038, 756.9999999999977, 825.9999999999964, 898.0000000000031, 979.0000000000013, 1064.9999999999957, 1157.9999999999982, 1259.0000000000043, 1368.9999999999957, 1484.0000000000011, 1609.9999999999973, 1743.000000000002, 1884.9999999999998, 2034.0000000000002, 2190.9999999999995, 2354.9999999999964, 2523.9999999999973, 2696.0000000000023, 2871.9999999999964, 3044.0000000000023, 3213.999999999998, 3374.000000000002, 3522.000000000002, 3651.000000000002, 3754.0, 3826.9999999999986, 3862.000000000001, 3852.9999999999986, 3793.0000000000014, 3679.000000000001, 3509.000000000001, 3282.9999999999995, 3003.999999999999, 2681.0000000000005, 2325.9999999999995, 1952.9999999999998, 1581.0000000000002, 1226.0, 906.0000000000001, 634.0, 415.99999999999994, 254.0, 144.0, 73.0, 34.0, 13.0, 5.0, 2.0, 0.0, null, null, null, null], \"yaxis\": \"y\"}],\n",
       "                        {\"legend\": {\"title\": {\"text\": \"variable\"}, \"tracegroupgap\": 0}, \"template\": {\"data\": {\"bar\": [{\"error_x\": {\"color\": \"#2a3f5f\"}, \"error_y\": {\"color\": \"#2a3f5f\"}, \"marker\": {\"line\": {\"color\": \"#E5ECF6\", \"width\": 0.5}}, \"type\": \"bar\"}], \"barpolar\": [{\"marker\": {\"line\": {\"color\": \"#E5ECF6\", \"width\": 0.5}}, \"type\": \"barpolar\"}], \"carpet\": [{\"aaxis\": {\"endlinecolor\": \"#2a3f5f\", \"gridcolor\": \"white\", \"linecolor\": \"white\", \"minorgridcolor\": \"white\", \"startlinecolor\": \"#2a3f5f\"}, \"baxis\": {\"endlinecolor\": \"#2a3f5f\", \"gridcolor\": \"white\", \"linecolor\": \"white\", \"minorgridcolor\": \"white\", \"startlinecolor\": \"#2a3f5f\"}, \"type\": \"carpet\"}], \"choropleth\": [{\"colorbar\": {\"outlinewidth\": 0, \"ticks\": \"\"}, \"type\": \"choropleth\"}], \"contour\": [{\"colorbar\": {\"outlinewidth\": 0, \"ticks\": \"\"}, \"colorscale\": [[0.0, \"#0d0887\"], [0.1111111111111111, \"#46039f\"], [0.2222222222222222, \"#7201a8\"], [0.3333333333333333, \"#9c179e\"], [0.4444444444444444, \"#bd3786\"], [0.5555555555555556, \"#d8576b\"], [0.6666666666666666, \"#ed7953\"], [0.7777777777777778, \"#fb9f3a\"], [0.8888888888888888, \"#fdca26\"], [1.0, \"#f0f921\"]], \"type\": \"contour\"}], \"contourcarpet\": [{\"colorbar\": {\"outlinewidth\": 0, \"ticks\": \"\"}, \"type\": \"contourcarpet\"}], \"heatmap\": [{\"colorbar\": {\"outlinewidth\": 0, \"ticks\": \"\"}, \"colorscale\": [[0.0, \"#0d0887\"], [0.1111111111111111, \"#46039f\"], [0.2222222222222222, \"#7201a8\"], [0.3333333333333333, \"#9c179e\"], [0.4444444444444444, \"#bd3786\"], [0.5555555555555556, \"#d8576b\"], [0.6666666666666666, \"#ed7953\"], [0.7777777777777778, \"#fb9f3a\"], [0.8888888888888888, \"#fdca26\"], [1.0, \"#f0f921\"]], \"type\": \"heatmap\"}], \"heatmapgl\": [{\"colorbar\": {\"outlinewidth\": 0, \"ticks\": \"\"}, \"colorscale\": [[0.0, \"#0d0887\"], [0.1111111111111111, \"#46039f\"], [0.2222222222222222, \"#7201a8\"], [0.3333333333333333, \"#9c179e\"], [0.4444444444444444, \"#bd3786\"], [0.5555555555555556, \"#d8576b\"], [0.6666666666666666, \"#ed7953\"], [0.7777777777777778, \"#fb9f3a\"], [0.8888888888888888, \"#fdca26\"], [1.0, \"#f0f921\"]], \"type\": \"heatmapgl\"}], \"histogram\": [{\"marker\": {\"colorbar\": {\"outlinewidth\": 0, \"ticks\": \"\"}}, \"type\": \"histogram\"}], \"histogram2d\": [{\"colorbar\": {\"outlinewidth\": 0, \"ticks\": \"\"}, \"colorscale\": [[0.0, \"#0d0887\"], [0.1111111111111111, \"#46039f\"], [0.2222222222222222, \"#7201a8\"], [0.3333333333333333, \"#9c179e\"], [0.4444444444444444, \"#bd3786\"], [0.5555555555555556, \"#d8576b\"], [0.6666666666666666, \"#ed7953\"], [0.7777777777777778, \"#fb9f3a\"], [0.8888888888888888, \"#fdca26\"], [1.0, \"#f0f921\"]], \"type\": \"histogram2d\"}], \"histogram2dcontour\": [{\"colorbar\": {\"outlinewidth\": 0, \"ticks\": \"\"}, \"colorscale\": [[0.0, \"#0d0887\"], [0.1111111111111111, \"#46039f\"], [0.2222222222222222, \"#7201a8\"], [0.3333333333333333, \"#9c179e\"], [0.4444444444444444, \"#bd3786\"], [0.5555555555555556, \"#d8576b\"], [0.6666666666666666, \"#ed7953\"], [0.7777777777777778, \"#fb9f3a\"], [0.8888888888888888, \"#fdca26\"], [1.0, \"#f0f921\"]], \"type\": \"histogram2dcontour\"}], \"mesh3d\": [{\"colorbar\": {\"outlinewidth\": 0, \"ticks\": \"\"}, \"type\": \"mesh3d\"}], \"parcoords\": [{\"line\": {\"colorbar\": {\"outlinewidth\": 0, \"ticks\": \"\"}}, \"type\": \"parcoords\"}], \"pie\": [{\"automargin\": true, \"type\": \"pie\"}], \"scatter\": [{\"marker\": {\"colorbar\": {\"outlinewidth\": 0, \"ticks\": \"\"}}, \"type\": \"scatter\"}], \"scatter3d\": [{\"line\": {\"colorbar\": {\"outlinewidth\": 0, \"ticks\": \"\"}}, \"marker\": {\"colorbar\": {\"outlinewidth\": 0, \"ticks\": \"\"}}, \"type\": \"scatter3d\"}], \"scattercarpet\": [{\"marker\": {\"colorbar\": {\"outlinewidth\": 0, \"ticks\": \"\"}}, \"type\": \"scattercarpet\"}], \"scattergeo\": [{\"marker\": {\"colorbar\": {\"outlinewidth\": 0, \"ticks\": \"\"}}, \"type\": \"scattergeo\"}], \"scattergl\": [{\"marker\": {\"colorbar\": {\"outlinewidth\": 0, \"ticks\": \"\"}}, \"type\": \"scattergl\"}], \"scattermapbox\": [{\"marker\": {\"colorbar\": {\"outlinewidth\": 0, \"ticks\": \"\"}}, \"type\": \"scattermapbox\"}], \"scatterpolar\": [{\"marker\": {\"colorbar\": {\"outlinewidth\": 0, \"ticks\": \"\"}}, \"type\": \"scatterpolar\"}], \"scatterpolargl\": [{\"marker\": {\"colorbar\": {\"outlinewidth\": 0, \"ticks\": \"\"}}, \"type\": \"scatterpolargl\"}], \"scatterternary\": [{\"marker\": {\"colorbar\": {\"outlinewidth\": 0, \"ticks\": \"\"}}, \"type\": \"scatterternary\"}], \"surface\": [{\"colorbar\": {\"outlinewidth\": 0, \"ticks\": \"\"}, \"colorscale\": [[0.0, \"#0d0887\"], [0.1111111111111111, \"#46039f\"], [0.2222222222222222, \"#7201a8\"], [0.3333333333333333, \"#9c179e\"], [0.4444444444444444, \"#bd3786\"], [0.5555555555555556, \"#d8576b\"], [0.6666666666666666, \"#ed7953\"], [0.7777777777777778, \"#fb9f3a\"], [0.8888888888888888, \"#fdca26\"], [1.0, \"#f0f921\"]], \"type\": \"surface\"}], \"table\": [{\"cells\": {\"fill\": {\"color\": \"#EBF0F8\"}, \"line\": {\"color\": \"white\"}}, \"header\": {\"fill\": {\"color\": \"#C8D4E3\"}, \"line\": {\"color\": \"white\"}}, \"type\": \"table\"}]}, \"layout\": {\"annotationdefaults\": {\"arrowcolor\": \"#2a3f5f\", \"arrowhead\": 0, \"arrowwidth\": 1}, \"coloraxis\": {\"colorbar\": {\"outlinewidth\": 0, \"ticks\": \"\"}}, \"colorscale\": {\"diverging\": [[0, \"#8e0152\"], [0.1, \"#c51b7d\"], [0.2, \"#de77ae\"], [0.3, \"#f1b6da\"], [0.4, \"#fde0ef\"], [0.5, \"#f7f7f7\"], [0.6, \"#e6f5d0\"], [0.7, \"#b8e186\"], [0.8, \"#7fbc41\"], [0.9, \"#4d9221\"], [1, \"#276419\"]], \"sequential\": [[0.0, \"#0d0887\"], [0.1111111111111111, \"#46039f\"], [0.2222222222222222, \"#7201a8\"], [0.3333333333333333, \"#9c179e\"], [0.4444444444444444, \"#bd3786\"], [0.5555555555555556, \"#d8576b\"], [0.6666666666666666, \"#ed7953\"], [0.7777777777777778, \"#fb9f3a\"], [0.8888888888888888, \"#fdca26\"], [1.0, \"#f0f921\"]], \"sequentialminus\": [[0.0, \"#0d0887\"], [0.1111111111111111, \"#46039f\"], [0.2222222222222222, \"#7201a8\"], [0.3333333333333333, \"#9c179e\"], [0.4444444444444444, \"#bd3786\"], [0.5555555555555556, \"#d8576b\"], [0.6666666666666666, \"#ed7953\"], [0.7777777777777778, \"#fb9f3a\"], [0.8888888888888888, \"#fdca26\"], [1.0, \"#f0f921\"]]}, \"colorway\": [\"#636efa\", \"#EF553B\", \"#00cc96\", \"#ab63fa\", \"#FFA15A\", \"#19d3f3\", \"#FF6692\", \"#B6E880\", \"#FF97FF\", \"#FECB52\"], \"font\": {\"color\": \"#2a3f5f\"}, \"geo\": {\"bgcolor\": \"white\", \"lakecolor\": \"white\", \"landcolor\": \"#E5ECF6\", \"showlakes\": true, \"showland\": true, \"subunitcolor\": \"white\"}, \"hoverlabel\": {\"align\": \"left\"}, \"hovermode\": \"closest\", \"mapbox\": {\"style\": \"light\"}, \"paper_bgcolor\": \"white\", \"plot_bgcolor\": \"#E5ECF6\", \"polar\": {\"angularaxis\": {\"gridcolor\": \"white\", \"linecolor\": \"white\", \"ticks\": \"\"}, \"bgcolor\": \"#E5ECF6\", \"radialaxis\": {\"gridcolor\": \"white\", \"linecolor\": \"white\", \"ticks\": \"\"}}, \"scene\": {\"xaxis\": {\"backgroundcolor\": \"#E5ECF6\", \"gridcolor\": \"white\", \"gridwidth\": 2, \"linecolor\": \"white\", \"showbackground\": true, \"ticks\": \"\", \"zerolinecolor\": \"white\"}, \"yaxis\": {\"backgroundcolor\": \"#E5ECF6\", \"gridcolor\": \"white\", \"gridwidth\": 2, \"linecolor\": \"white\", \"showbackground\": true, \"ticks\": \"\", \"zerolinecolor\": \"white\"}, \"zaxis\": {\"backgroundcolor\": \"#E5ECF6\", \"gridcolor\": \"white\", \"gridwidth\": 2, \"linecolor\": \"white\", \"showbackground\": true, \"ticks\": \"\", \"zerolinecolor\": \"white\"}}, \"shapedefaults\": {\"line\": {\"color\": \"#2a3f5f\"}}, \"ternary\": {\"aaxis\": {\"gridcolor\": \"white\", \"linecolor\": \"white\", \"ticks\": \"\"}, \"baxis\": {\"gridcolor\": \"white\", \"linecolor\": \"white\", \"ticks\": \"\"}, \"bgcolor\": \"#E5ECF6\", \"caxis\": {\"gridcolor\": \"white\", \"linecolor\": \"white\", \"ticks\": \"\"}}, \"title\": {\"x\": 0.05}, \"xaxis\": {\"automargin\": true, \"gridcolor\": \"white\", \"linecolor\": \"white\", \"ticks\": \"\", \"title\": {\"standoff\": 15}, \"zerolinecolor\": \"white\", \"zerolinewidth\": 2}, \"yaxis\": {\"automargin\": true, \"gridcolor\": \"white\", \"linecolor\": \"white\", \"ticks\": \"\", \"title\": {\"standoff\": 15}, \"zerolinecolor\": \"white\", \"zerolinewidth\": 2}}}, \"title\": {\"text\": \"LogDeath plot of United States_Male, United States_Female and None\"}, \"xaxis\": {\"anchor\": \"y\", \"domain\": [0.0, 1.0], \"title\": {\"text\": \"Age\"}}, \"yaxis\": {\"anchor\": \"x\", \"domain\": [0.0, 1.0], \"title\": {\"text\": \"value\"}}},\n",
       "                        {\"responsive\": true}\n",
       "                    ).then(function(){\n",
       "                            \n",
       "var gd = document.getElementById('21e67670-ff0e-45cf-8dc4-753cbb82c37f');\n",
       "var x = new MutationObserver(function (mutations, observer) {{\n",
       "        var display = window.getComputedStyle(gd).display;\n",
       "        if (!display || display === 'none') {{\n",
       "            console.log([gd, 'removed!']);\n",
       "            Plotly.purge(gd);\n",
       "            observer.disconnect();\n",
       "        }}\n",
       "}});\n",
       "\n",
       "// Listen for the removal of the full notebook cells\n",
       "var notebookContainer = gd.closest('#notebook-container');\n",
       "if (notebookContainer) {{\n",
       "    x.observe(notebookContainer, {childList: true});\n",
       "}}\n",
       "\n",
       "// Listen for the clearing of the current output cell\n",
       "var outputEl = gd.closest('.output');\n",
       "if (outputEl) {{\n",
       "    x.observe(outputEl, {childList: true});\n",
       "}}\n",
       "\n",
       "                        })\n",
       "                };\n",
       "                });\n",
       "            </script>\n",
       "        </div>"
      ]
     },
     "metadata": {},
     "output_type": "display_data"
    }
   ],
   "source": [
    "MultipleLives().nuevo(usa_male, usa_female, modelo, interactive=True, death= True)"
   ]
  },
  {
   "cell_type": "markdown",
   "metadata": {},
   "source": [
    "**$Nota$ $1$  se usò el metodo 'nuevo' esto es porque aun como se dijo, no es definitiva la lib, por ende tampoco como nombrar las funciones**<br>\n",
    "**$Nota$ 2 aunque ejecutò el logaritmo de las muertes, en *value* aparecen los valores de las muertes no en logaritmo.**"
   ]
  },
  {
   "cell_type": "markdown",
   "metadata": {},
   "source": [
    "#### $Dudas$\n",
    "* 1.1 Como nombrar los metodos? Lifeplot, lifeplots o de otra manera.\n",
    "* 1.2 En la versiòn interactiva aparecen, variable, age, value, ex1, ex2, ex3. Esta bien o es demasiado redundante?\n",
    "* 1.3 Por defecto siempre en la version interactiva, ya sea que se vean living, death o death en log. <br>Siempre apareceran ex1, ex2, ex3. (solo ex1, ex2 si las coortes son 2).Esta bien, o solo para living, interesarìa ver las espereanza de vida.\n",
    "* 1.4 Las esperanzas de vida son curtate, o sea abrevida. Esta bien o es mejor completa? Aunque no cambiarìa tanto, sino sumarle .5.\n",
    "* 1.5 Los colores estan bien, o sea son de agrado?\n",
    "* 1.6 Las info que muestra en la version interactiva, en mi opinion son exaustivas, sino es demasiado abrumador. <br>O en vez a demas de estas, otras son de mas interes?\n",
    "* 1.7 Por defecto estan codificadas para maximo 3 lx. Es suficiente? (en mi opinion màs harìan un poco relajosa la grafica, pero no se)\n",
    "* 1.8 Alguna otra sugerencias?"
   ]
  },
  {
   "cell_type": "markdown",
   "metadata": {},
   "source": []
  }
 ],
 "metadata": {
  "colab": {
   "authorship_tag": "ABX9TyNVUpTB2kA6h+05t+kNYCNC",
   "collapsed_sections": [],
   "name": "VaR2.ipynb",
   "provenance": []
  },
  "kernelspec": {
   "display_name": "Python 3",
   "language": "python",
   "name": "python3"
  },
  "language_info": {
   "codemirror_mode": {
    "name": "ipython",
    "version": 3
   },
   "file_extension": ".py",
   "mimetype": "text/x-python",
   "name": "python",
   "nbconvert_exporter": "python",
   "pygments_lexer": "ipython3",
   "version": "3.8.1"
  }
 },
 "nbformat": 4,
 "nbformat_minor": 1
}
