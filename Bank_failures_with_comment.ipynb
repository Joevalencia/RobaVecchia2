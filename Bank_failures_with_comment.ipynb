{
 "cells": [
  {
   "cell_type": "markdown",
   "metadata": {},
   "source": [
    "# Problem 2\n",
    "\n",
    "## Commercial Bank Failures, 1934-Present\n",
    "## Every bank failure in the United States since the Great Depression\n",
    "\n",
    "Source: https://www.kaggle.com/fdic/bank-failures\n",
    "\n",
    "*Content*\n",
    "\n",
    "This report lists each failure of a commercial bank, savings association, and savings bank since the establishment of the FDIC in 1933. Each record includes the institution name and FIN number, institution and charter types, location of headquarters (city and state), effective date, insurance fund and certificate number, failure transaction type, total deposits and total assets last reported prior to failure (in thousands of dollars), and the estimated cost of resolution. Data on estimated losses are not available for FDIC insured failures prior to 1986 or for FSLIC insured failures from 1934-88."
   ]
  },
  {
   "cell_type": "code",
   "execution_count": 1,
   "metadata": {},
   "outputs": [],
   "source": [
    "import pandas as pd"
   ]
  },
  {
   "cell_type": "code",
   "execution_count": 2,
   "metadata": {},
   "outputs": [],
   "source": [
    "# Uncomment below and run the cell\n",
    "#from google.colab import drive\n",
    "#drive.mount('/content/drive/')"
   ]
  },
  {
   "cell_type": "code",
   "execution_count": 3,
   "metadata": {},
   "outputs": [],
   "source": [
    "# Uncomment below and run the cell - leave % as the first character, as %cd drive/My\\ Drive\n",
    "# %cd drive/My\\ Drive"
   ]
  },
  {
   "cell_type": "code",
   "execution_count": 4,
   "metadata": {},
   "outputs": [],
   "source": [
    "data = pd.read_csv(\"banks.csv\")\n",
    "data.rename(columns={data.columns[-1]:'Losses'}, inplace=True)"
   ]
  },
  {
   "cell_type": "code",
   "execution_count": 5,
   "metadata": {},
   "outputs": [
    {
     "data": {
      "text/html": [
       "<div>\n",
       "<style scoped>\n",
       "    .dataframe tbody tr th:only-of-type {\n",
       "        vertical-align: middle;\n",
       "    }\n",
       "\n",
       "    .dataframe tbody tr th {\n",
       "        vertical-align: top;\n",
       "    }\n",
       "\n",
       "    .dataframe thead th {\n",
       "        text-align: right;\n",
       "    }\n",
       "</style>\n",
       "<table border=\"1\" class=\"dataframe\">\n",
       "  <thead>\n",
       "    <tr style=\"text-align: right;\">\n",
       "      <th></th>\n",
       "      <th>Institution Name</th>\n",
       "      <th>Institution Type</th>\n",
       "      <th>Charter Type</th>\n",
       "      <th>Headquarters</th>\n",
       "      <th>Failure Date</th>\n",
       "      <th>Insurance Fund</th>\n",
       "      <th>Transaction Type</th>\n",
       "      <th>Total Deposits</th>\n",
       "      <th>Total Assets</th>\n",
       "      <th>Losses</th>\n",
       "    </tr>\n",
       "  </thead>\n",
       "  <tbody>\n",
       "    <tr>\n",
       "      <th>0</th>\n",
       "      <td>INDYMAC BANK F.S.B</td>\n",
       "      <td>SAVINGS BANK</td>\n",
       "      <td>STATE</td>\n",
       "      <td>PASADENA, CA</td>\n",
       "      <td>7/11/2008</td>\n",
       "      <td>DIF</td>\n",
       "      <td>ACQUISITION</td>\n",
       "      <td>18941727</td>\n",
       "      <td>30698512.0</td>\n",
       "      <td>12438005.0</td>\n",
       "    </tr>\n",
       "    <tr>\n",
       "      <th>1</th>\n",
       "      <td>BANKUNITED, FSB</td>\n",
       "      <td>SAVINGS BANK</td>\n",
       "      <td>STATE</td>\n",
       "      <td>CORAL GABLES, FL</td>\n",
       "      <td>5/21/2009</td>\n",
       "      <td>DIF</td>\n",
       "      <td>ACQUISITION</td>\n",
       "      <td>8775985</td>\n",
       "      <td>13111463.0</td>\n",
       "      <td>5274515.0</td>\n",
       "    </tr>\n",
       "    <tr>\n",
       "      <th>2</th>\n",
       "      <td>COLONIAL BANK</td>\n",
       "      <td>COMMERCIAL BANK</td>\n",
       "      <td>STATE</td>\n",
       "      <td>MONTGOMERY, AL</td>\n",
       "      <td>8/14/2009</td>\n",
       "      <td>DIF</td>\n",
       "      <td>ACQUISITION</td>\n",
       "      <td>20072099</td>\n",
       "      <td>25455112.0</td>\n",
       "      <td>3330263.0</td>\n",
       "    </tr>\n",
       "    <tr>\n",
       "      <th>3</th>\n",
       "      <td>LINCOLN SAVINGS &amp; LOAN</td>\n",
       "      <td>SAVINGS ASSOCIATION</td>\n",
       "      <td>FEDERAL/STATE</td>\n",
       "      <td>IRVINE, CA</td>\n",
       "      <td>4/14/1989</td>\n",
       "      <td>RTC</td>\n",
       "      <td>ACQUISITION</td>\n",
       "      <td>4193981</td>\n",
       "      <td>4857204.0</td>\n",
       "      <td>3142552.0</td>\n",
       "    </tr>\n",
       "    <tr>\n",
       "      <th>4</th>\n",
       "      <td>OAKTREE FEDERAL SAVINGS</td>\n",
       "      <td>SAVINGS ASSOCIATION</td>\n",
       "      <td>FEDERAL/STATE</td>\n",
       "      <td>NEW ORLEANS, LA</td>\n",
       "      <td>10/13/1991</td>\n",
       "      <td>RTC</td>\n",
       "      <td>ACQUISITION</td>\n",
       "      <td>2256189</td>\n",
       "      <td>2214549.0</td>\n",
       "      <td>2345947.0</td>\n",
       "    </tr>\n",
       "  </tbody>\n",
       "</table>\n",
       "</div>"
      ],
      "text/plain": [
       "          Institution Name     Institution Type   Charter Type  \\\n",
       "0       INDYMAC BANK F.S.B         SAVINGS BANK          STATE   \n",
       "1          BANKUNITED, FSB         SAVINGS BANK          STATE   \n",
       "2            COLONIAL BANK      COMMERCIAL BANK          STATE   \n",
       "3   LINCOLN SAVINGS & LOAN  SAVINGS ASSOCIATION  FEDERAL/STATE   \n",
       "4  OAKTREE FEDERAL SAVINGS  SAVINGS ASSOCIATION  FEDERAL/STATE   \n",
       "\n",
       "       Headquarters Failure Date Insurance Fund Transaction Type  \\\n",
       "0      PASADENA, CA   7/11/2008             DIF      ACQUISITION   \n",
       "1  CORAL GABLES, FL   5/21/2009             DIF      ACQUISITION   \n",
       "2    MONTGOMERY, AL   8/14/2009             DIF      ACQUISITION   \n",
       "3        IRVINE, CA   4/14/1989             RTC      ACQUISITION   \n",
       "4   NEW ORLEANS, LA  10/13/1991             RTC      ACQUISITION   \n",
       "\n",
       "   Total Deposits  Total Assets      Losses  \n",
       "0        18941727    30698512.0  12438005.0  \n",
       "1         8775985    13111463.0   5274515.0  \n",
       "2        20072099    25455112.0   3330263.0  \n",
       "3         4193981     4857204.0   3142552.0  \n",
       "4         2256189     2214549.0   2345947.0  "
      ]
     },
     "execution_count": 5,
     "metadata": {},
     "output_type": "execute_result"
    }
   ],
   "source": [
    "data.head()"
   ]
  },
  {
   "cell_type": "markdown",
   "metadata": {},
   "source": [
    "## Q2.1 Can you confirm the claim below regarding Washington Mutual, as the biggest failure in assets of U.S. history? Show the full record of the bank from the database.\n",
    "\n",
    "During the 2007-2008 financial crisis, **the biggest bank failure in U.S. history occurred when Washington Mutual, with 307 billion in assets, closed its doors**. Another large bank failure had occurred just a few months earlier when IndyMac was seized. The second all-time largest closure was the $40 billion failure of Continental Illinois in 1984. The FDIC maintains an up-to-date list of failed banks on its website. (Source: https://www.investopedia.com/terms/b/bank-failure.asp)\n",
    "\n",
    "**Mark**: 1 line (max 2 lines), 2 pnts   "
   ]
  },
  {
   "cell_type": "code",
   "execution_count": 6,
   "metadata": {},
   "outputs": [
    {
     "data": {
      "text/plain": [
       "Institution Name    WASHINGTON MUTUAL BANK\n",
       "Institution Type              SAVINGS BANK\n",
       "Charter Type                         STATE\n",
       "Headquarters                 HENDERSON, NV\n",
       "Failure Date                    9/25/2008 \n",
       "Insurance Fund                         DIF\n",
       "Transaction Type               ACQUISITION\n",
       "Total Deposits                   188260793\n",
       "Total Assets                   3.07022e+08\n",
       "Losses                                   0\n",
       "Name: 2495, dtype: object"
      ]
     },
     "execution_count": 6,
     "metadata": {},
     "output_type": "execute_result"
    }
   ],
   "source": [
    "data.loc[data['Total Assets'].idxmax()] # Just that! "
   ]
  },
  {
   "cell_type": "markdown",
   "metadata": {},
   "source": [
    "## Q2.2 Create a column \"State\", showing the State Abbreviation (PA, IL, etc) where the bank headquater is located.\n",
    "\n",
    "**Mark**: 1 line, 2 pnts   \n",
    "**Hints**: be carefull about spaces  "
   ]
  },
  {
   "cell_type": "code",
   "execution_count": 7,
   "metadata": {},
   "outputs": [],
   "source": [
    "# This is my original solution. I discover later that a line (Hawai) has two commas\n",
    "data['State'] = [s.split(\", \")[1] for s in data.Headquarters]"
   ]
  },
  {
   "cell_type": "code",
   "execution_count": 8,
   "metadata": {},
   "outputs": [],
   "source": [
    "data['State'] = data.Headquarters.str[-2:] # safer; with many variants, off course"
   ]
  },
  {
   "cell_type": "code",
   "execution_count": 9,
   "metadata": {},
   "outputs": [
    {
     "data": {
      "text/html": [
       "<div>\n",
       "<style scoped>\n",
       "    .dataframe tbody tr th:only-of-type {\n",
       "        vertical-align: middle;\n",
       "    }\n",
       "\n",
       "    .dataframe tbody tr th {\n",
       "        vertical-align: top;\n",
       "    }\n",
       "\n",
       "    .dataframe thead th {\n",
       "        text-align: right;\n",
       "    }\n",
       "</style>\n",
       "<table border=\"1\" class=\"dataframe\">\n",
       "  <thead>\n",
       "    <tr style=\"text-align: right;\">\n",
       "      <th></th>\n",
       "      <th>Institution Name</th>\n",
       "      <th>Institution Type</th>\n",
       "      <th>Charter Type</th>\n",
       "      <th>Headquarters</th>\n",
       "      <th>Failure Date</th>\n",
       "      <th>Insurance Fund</th>\n",
       "      <th>Transaction Type</th>\n",
       "      <th>Total Deposits</th>\n",
       "      <th>Total Assets</th>\n",
       "      <th>Losses</th>\n",
       "      <th>State</th>\n",
       "    </tr>\n",
       "  </thead>\n",
       "  <tbody>\n",
       "    <tr>\n",
       "      <th>3479</th>\n",
       "      <td>FIRST CORNERSTONE BANK</td>\n",
       "      <td>COMMERCIAL BANK</td>\n",
       "      <td>STATE</td>\n",
       "      <td>KING OF PRUSSIA, PA</td>\n",
       "      <td>5/6/2016</td>\n",
       "      <td>DIF</td>\n",
       "      <td>ACQUISITION</td>\n",
       "      <td>101040</td>\n",
       "      <td>103307.0</td>\n",
       "      <td>NaN</td>\n",
       "      <td>PA</td>\n",
       "    </tr>\n",
       "    <tr>\n",
       "      <th>3480</th>\n",
       "      <td>THE WOODBURY BANKING COMPANY</td>\n",
       "      <td>COMMERCIAL BANK</td>\n",
       "      <td>STATE</td>\n",
       "      <td>WOODBURY, GA</td>\n",
       "      <td>8/19/2016</td>\n",
       "      <td>DIF</td>\n",
       "      <td>ACQUISITION</td>\n",
       "      <td>21122</td>\n",
       "      <td>21426.0</td>\n",
       "      <td>NaN</td>\n",
       "      <td>GA</td>\n",
       "    </tr>\n",
       "    <tr>\n",
       "      <th>3481</th>\n",
       "      <td>ALLIED BANK</td>\n",
       "      <td>COMMERCIAL BANK</td>\n",
       "      <td>STATE</td>\n",
       "      <td>MULBERRY, AR</td>\n",
       "      <td>9/23/2016</td>\n",
       "      <td>DIF</td>\n",
       "      <td>ACQUISITION</td>\n",
       "      <td>64713</td>\n",
       "      <td>66336.0</td>\n",
       "      <td>NaN</td>\n",
       "      <td>AR</td>\n",
       "    </tr>\n",
       "    <tr>\n",
       "      <th>3482</th>\n",
       "      <td>HARVEST COMMUNITY BANK</td>\n",
       "      <td>COMMERCIAL BANK</td>\n",
       "      <td>STATE</td>\n",
       "      <td>PENNSVILLE, NJ</td>\n",
       "      <td>1/13/2017</td>\n",
       "      <td>DIF</td>\n",
       "      <td>ACQUISITION</td>\n",
       "      <td>123817</td>\n",
       "      <td>126430.0</td>\n",
       "      <td>NaN</td>\n",
       "      <td>NJ</td>\n",
       "    </tr>\n",
       "    <tr>\n",
       "      <th>3483</th>\n",
       "      <td>SEAWAY BANK AND TRUST COMPANY</td>\n",
       "      <td>COMMERCIAL BANK</td>\n",
       "      <td>STATE</td>\n",
       "      <td>CHICAGO, IL</td>\n",
       "      <td>1/27/2017</td>\n",
       "      <td>DIF</td>\n",
       "      <td>ACQUISITION</td>\n",
       "      <td>307118</td>\n",
       "      <td>361197.0</td>\n",
       "      <td>NaN</td>\n",
       "      <td>IL</td>\n",
       "    </tr>\n",
       "  </tbody>\n",
       "</table>\n",
       "</div>"
      ],
      "text/plain": [
       "                   Institution Name Institution Type Charter Type  \\\n",
       "3479         FIRST CORNERSTONE BANK  COMMERCIAL BANK        STATE   \n",
       "3480   THE WOODBURY BANKING COMPANY  COMMERCIAL BANK        STATE   \n",
       "3481                    ALLIED BANK  COMMERCIAL BANK        STATE   \n",
       "3482         HARVEST COMMUNITY BANK  COMMERCIAL BANK        STATE   \n",
       "3483  SEAWAY BANK AND TRUST COMPANY  COMMERCIAL BANK        STATE   \n",
       "\n",
       "             Headquarters Failure Date Insurance Fund Transaction Type  \\\n",
       "3479  KING OF PRUSSIA, PA    5/6/2016             DIF      ACQUISITION   \n",
       "3480         WOODBURY, GA   8/19/2016             DIF      ACQUISITION   \n",
       "3481         MULBERRY, AR   9/23/2016             DIF      ACQUISITION   \n",
       "3482       PENNSVILLE, NJ   1/13/2017             DIF      ACQUISITION   \n",
       "3483          CHICAGO, IL   1/27/2017             DIF      ACQUISITION   \n",
       "\n",
       "      Total Deposits  Total Assets  Losses State  \n",
       "3479          101040      103307.0     NaN    PA  \n",
       "3480           21122       21426.0     NaN    GA  \n",
       "3481           64713       66336.0     NaN    AR  \n",
       "3482          123817      126430.0     NaN    NJ  \n",
       "3483          307118      361197.0     NaN    IL  "
      ]
     },
     "execution_count": 9,
     "metadata": {},
     "output_type": "execute_result"
    }
   ],
   "source": [
    "data.tail()"
   ]
  },
  {
   "cell_type": "markdown",
   "metadata": {},
   "source": [
    "## Q2.3 Show a table with the number of banks for each combination of Institutional and Charter type (i.e. rows as Institutional and cols as Charter types)\n",
    "\n",
    "**Mark**: 1 line, 2 pnts   "
   ]
  },
  {
   "cell_type": "code",
   "execution_count": 10,
   "metadata": {},
   "outputs": [
    {
     "data": {
      "text/html": [
       "<div>\n",
       "<style scoped>\n",
       "    .dataframe tbody tr th:only-of-type {\n",
       "        vertical-align: middle;\n",
       "    }\n",
       "\n",
       "    .dataframe tbody tr th {\n",
       "        vertical-align: top;\n",
       "    }\n",
       "\n",
       "    .dataframe thead th {\n",
       "        text-align: right;\n",
       "    }\n",
       "</style>\n",
       "<table border=\"1\" class=\"dataframe\">\n",
       "  <thead>\n",
       "    <tr style=\"text-align: right;\">\n",
       "      <th>Charter Type</th>\n",
       "      <th>FEDERAL</th>\n",
       "      <th>FEDERAL/STATE</th>\n",
       "      <th>STATE</th>\n",
       "    </tr>\n",
       "    <tr>\n",
       "      <th>Institution Type</th>\n",
       "      <th></th>\n",
       "      <th></th>\n",
       "      <th></th>\n",
       "    </tr>\n",
       "  </thead>\n",
       "  <tbody>\n",
       "    <tr>\n",
       "      <th>COMMERCIAL BANK</th>\n",
       "      <td>760.0</td>\n",
       "      <td>NaN</td>\n",
       "      <td>1705.0</td>\n",
       "    </tr>\n",
       "    <tr>\n",
       "      <th>SAVINGS ASSOCIATION</th>\n",
       "      <td>NaN</td>\n",
       "      <td>691.0</td>\n",
       "      <td>NaN</td>\n",
       "    </tr>\n",
       "    <tr>\n",
       "      <th>SAVINGS BANK</th>\n",
       "      <td>NaN</td>\n",
       "      <td>NaN</td>\n",
       "      <td>328.0</td>\n",
       "    </tr>\n",
       "  </tbody>\n",
       "</table>\n",
       "</div>"
      ],
      "text/plain": [
       "Charter Type         FEDERAL  FEDERAL/STATE   STATE\n",
       "Institution Type                                   \n",
       "COMMERCIAL BANK        760.0            NaN  1705.0\n",
       "SAVINGS ASSOCIATION      NaN          691.0     NaN\n",
       "SAVINGS BANK             NaN            NaN   328.0"
      ]
     },
     "execution_count": 10,
     "metadata": {},
     "output_type": "execute_result"
    }
   ],
   "source": [
    "data.groupby(['Institution Type', 'Charter Type']).size().unstack()"
   ]
  },
  {
   "cell_type": "markdown",
   "metadata": {},
   "source": [
    "## Warning! .count() and size() have different meanings!\n",
    "\n",
    "Count tells the number of rows, and for all the columns!  \n",
    "Size really counts how many elements match them both.   \n",
    "By the way, here it does not make too much difference, but in other cases it does"
   ]
  },
  {
   "cell_type": "code",
   "execution_count": 13,
   "metadata": {},
   "outputs": [
    {
     "data": {
      "text/html": [
       "<div>\n",
       "<style scoped>\n",
       "    .dataframe tbody tr th:only-of-type {\n",
       "        vertical-align: middle;\n",
       "    }\n",
       "\n",
       "    .dataframe tbody tr th {\n",
       "        vertical-align: top;\n",
       "    }\n",
       "\n",
       "    .dataframe thead tr th {\n",
       "        text-align: left;\n",
       "    }\n",
       "\n",
       "    .dataframe thead tr:last-of-type th {\n",
       "        text-align: right;\n",
       "    }\n",
       "</style>\n",
       "<table border=\"1\" class=\"dataframe\">\n",
       "  <thead>\n",
       "    <tr>\n",
       "      <th></th>\n",
       "      <th colspan=\"3\" halign=\"left\">Institution Name</th>\n",
       "      <th colspan=\"3\" halign=\"left\">Headquarters</th>\n",
       "      <th colspan=\"3\" halign=\"left\">Failure Date</th>\n",
       "      <th>Insurance Fund</th>\n",
       "      <th>...</th>\n",
       "      <th>Total Deposits</th>\n",
       "      <th colspan=\"3\" halign=\"left\">Total Assets</th>\n",
       "      <th colspan=\"3\" halign=\"left\">Losses</th>\n",
       "      <th colspan=\"3\" halign=\"left\">State</th>\n",
       "    </tr>\n",
       "    <tr>\n",
       "      <th>Charter Type</th>\n",
       "      <th>FEDERAL</th>\n",
       "      <th>FEDERAL/STATE</th>\n",
       "      <th>STATE</th>\n",
       "      <th>FEDERAL</th>\n",
       "      <th>FEDERAL/STATE</th>\n",
       "      <th>STATE</th>\n",
       "      <th>FEDERAL</th>\n",
       "      <th>FEDERAL/STATE</th>\n",
       "      <th>STATE</th>\n",
       "      <th>FEDERAL</th>\n",
       "      <th>...</th>\n",
       "      <th>STATE</th>\n",
       "      <th>FEDERAL</th>\n",
       "      <th>FEDERAL/STATE</th>\n",
       "      <th>STATE</th>\n",
       "      <th>FEDERAL</th>\n",
       "      <th>FEDERAL/STATE</th>\n",
       "      <th>STATE</th>\n",
       "      <th>FEDERAL</th>\n",
       "      <th>FEDERAL/STATE</th>\n",
       "      <th>STATE</th>\n",
       "    </tr>\n",
       "    <tr>\n",
       "      <th>Institution Type</th>\n",
       "      <th></th>\n",
       "      <th></th>\n",
       "      <th></th>\n",
       "      <th></th>\n",
       "      <th></th>\n",
       "      <th></th>\n",
       "      <th></th>\n",
       "      <th></th>\n",
       "      <th></th>\n",
       "      <th></th>\n",
       "      <th></th>\n",
       "      <th></th>\n",
       "      <th></th>\n",
       "      <th></th>\n",
       "      <th></th>\n",
       "      <th></th>\n",
       "      <th></th>\n",
       "      <th></th>\n",
       "      <th></th>\n",
       "      <th></th>\n",
       "      <th></th>\n",
       "    </tr>\n",
       "  </thead>\n",
       "  <tbody>\n",
       "    <tr>\n",
       "      <th>COMMERCIAL BANK</th>\n",
       "      <td>760.0</td>\n",
       "      <td>NaN</td>\n",
       "      <td>1705.0</td>\n",
       "      <td>760.0</td>\n",
       "      <td>NaN</td>\n",
       "      <td>1705.0</td>\n",
       "      <td>760.0</td>\n",
       "      <td>NaN</td>\n",
       "      <td>1705.0</td>\n",
       "      <td>760.0</td>\n",
       "      <td>...</td>\n",
       "      <td>1705.0</td>\n",
       "      <td>717.0</td>\n",
       "      <td>NaN</td>\n",
       "      <td>1598.0</td>\n",
       "      <td>590.0</td>\n",
       "      <td>NaN</td>\n",
       "      <td>1029.0</td>\n",
       "      <td>760.0</td>\n",
       "      <td>NaN</td>\n",
       "      <td>1705.0</td>\n",
       "    </tr>\n",
       "    <tr>\n",
       "      <th>SAVINGS ASSOCIATION</th>\n",
       "      <td>NaN</td>\n",
       "      <td>691.0</td>\n",
       "      <td>NaN</td>\n",
       "      <td>NaN</td>\n",
       "      <td>691.0</td>\n",
       "      <td>NaN</td>\n",
       "      <td>NaN</td>\n",
       "      <td>691.0</td>\n",
       "      <td>NaN</td>\n",
       "      <td>NaN</td>\n",
       "      <td>...</td>\n",
       "      <td>NaN</td>\n",
       "      <td>NaN</td>\n",
       "      <td>691.0</td>\n",
       "      <td>NaN</td>\n",
       "      <td>NaN</td>\n",
       "      <td>572.0</td>\n",
       "      <td>NaN</td>\n",
       "      <td>NaN</td>\n",
       "      <td>691.0</td>\n",
       "      <td>NaN</td>\n",
       "    </tr>\n",
       "    <tr>\n",
       "      <th>SAVINGS BANK</th>\n",
       "      <td>NaN</td>\n",
       "      <td>NaN</td>\n",
       "      <td>328.0</td>\n",
       "      <td>NaN</td>\n",
       "      <td>NaN</td>\n",
       "      <td>328.0</td>\n",
       "      <td>NaN</td>\n",
       "      <td>NaN</td>\n",
       "      <td>328.0</td>\n",
       "      <td>NaN</td>\n",
       "      <td>...</td>\n",
       "      <td>328.0</td>\n",
       "      <td>NaN</td>\n",
       "      <td>NaN</td>\n",
       "      <td>327.0</td>\n",
       "      <td>NaN</td>\n",
       "      <td>NaN</td>\n",
       "      <td>318.0</td>\n",
       "      <td>NaN</td>\n",
       "      <td>NaN</td>\n",
       "      <td>328.0</td>\n",
       "    </tr>\n",
       "  </tbody>\n",
       "</table>\n",
       "<p>3 rows × 27 columns</p>\n",
       "</div>"
      ],
      "text/plain": [
       "                    Institution Name                       Headquarters  \\\n",
       "Charter Type                 FEDERAL FEDERAL/STATE   STATE      FEDERAL   \n",
       "Institution Type                                                          \n",
       "COMMERCIAL BANK                760.0           NaN  1705.0        760.0   \n",
       "SAVINGS ASSOCIATION              NaN         691.0     NaN          NaN   \n",
       "SAVINGS BANK                     NaN           NaN   328.0          NaN   \n",
       "\n",
       "                                          Failure Date                        \\\n",
       "Charter Type        FEDERAL/STATE   STATE      FEDERAL FEDERAL/STATE   STATE   \n",
       "Institution Type                                                               \n",
       "COMMERCIAL BANK               NaN  1705.0        760.0           NaN  1705.0   \n",
       "SAVINGS ASSOCIATION         691.0     NaN          NaN         691.0     NaN   \n",
       "SAVINGS BANK                  NaN   328.0          NaN           NaN   328.0   \n",
       "\n",
       "                    Insurance Fund  ... Total Deposits Total Assets  \\\n",
       "Charter Type               FEDERAL  ...          STATE      FEDERAL   \n",
       "Institution Type                    ...                               \n",
       "COMMERCIAL BANK              760.0  ...         1705.0        717.0   \n",
       "SAVINGS ASSOCIATION            NaN  ...            NaN          NaN   \n",
       "SAVINGS BANK                   NaN  ...          328.0          NaN   \n",
       "\n",
       "                                           Losses                        \\\n",
       "Charter Type        FEDERAL/STATE   STATE FEDERAL FEDERAL/STATE   STATE   \n",
       "Institution Type                                                          \n",
       "COMMERCIAL BANK               NaN  1598.0   590.0           NaN  1029.0   \n",
       "SAVINGS ASSOCIATION         691.0     NaN     NaN         572.0     NaN   \n",
       "SAVINGS BANK                  NaN   327.0     NaN           NaN   318.0   \n",
       "\n",
       "                      State                        \n",
       "Charter Type        FEDERAL FEDERAL/STATE   STATE  \n",
       "Institution Type                                   \n",
       "COMMERCIAL BANK       760.0           NaN  1705.0  \n",
       "SAVINGS ASSOCIATION     NaN         691.0     NaN  \n",
       "SAVINGS BANK            NaN           NaN   328.0  \n",
       "\n",
       "[3 rows x 27 columns]"
      ]
     },
     "execution_count": 13,
     "metadata": {},
     "output_type": "execute_result"
    }
   ],
   "source": [
    "data.groupby(['Institution Type', 'Charter Type']).count().unstack()"
   ]
  },
  {
   "cell_type": "markdown",
   "metadata": {},
   "source": [
    "## Q2.4 How strong is the correlation between the assets and the deposits?\n",
    "\n",
    "**Mark**: 1 line, 2 pnts   "
   ]
  },
  {
   "cell_type": "code",
   "execution_count": 14,
   "metadata": {},
   "outputs": [
    {
     "data": {
      "text/plain": [
       "0.9981407608338189"
      ]
     },
     "execution_count": 14,
     "metadata": {},
     "output_type": "execute_result"
    }
   ],
   "source": [
    "data['Total Assets'].corr(data['Total Deposits'])"
   ]
  },
  {
   "cell_type": "markdown",
   "metadata": {},
   "source": [
    "## Q2.5 Plot the number of failured banks for each State, as vertical bars\n",
    "\n",
    "**Mark**: 1 line, 2 pnts   "
   ]
  },
  {
   "cell_type": "code",
   "execution_count": 15,
   "metadata": {},
   "outputs": [
    {
     "data": {
      "image/png": "[encoded data removed]",
      "text/plain": [
       "<Figure size 864x432 with 1 Axes>"
      ]
     },
     "metadata": {
      "needs_background": "light"
     },
     "output_type": "display_data"
    }
   ],
   "source": [
    "data.groupby(\"State\").size().plot(kind='bar', figsize=(12,6));"
   ]
  },
  {
   "cell_type": "code",
   "execution_count": 18,
   "metadata": {},
   "outputs": [
    {
     "data": {
      "image/png": "[encoded data removed]",
      "text/plain": [
       "<Figure size 864x432 with 1 Axes>"
      ]
     },
     "metadata": {
      "needs_background": "light"
     },
     "output_type": "display_data"
    }
   ],
   "source": [
    "data.groupby(\"State\").count().plot(kind='bar', figsize=(12,6)); # This is wrong (note: count())"
   ]
  },
  {
   "cell_type": "markdown",
   "metadata": {},
   "source": [
    "## Q2.6 Consider the number of failures occured each year and also the total losses for the same years. Plot them both as vertical bars on different figures.\n",
    "\n",
    "## Did their maximum values occure at the same time?\n",
    "\n",
    "**Mark**: free numnber of lines/cells, ***5 pnts***  \n",
    "**Hint**: set the figure size to something wide like (20,6)  "
   ]
  },
  {
   "cell_type": "code",
   "execution_count": 22,
   "metadata": {},
   "outputs": [
    {
     "data": {
      "image/png": "[encoded data removed]",
      "text/plain": [
       "<Figure size 1440x432 with 1 Axes>"
      ]
     },
     "metadata": {
      "needs_background": "light"
     },
     "output_type": "display_data"
    }
   ],
   "source": [
    "failures_per_year = data.groupby(pd.to_datetime(data['Failure Date']).dt.year).size() \n",
    "failures_per_year.plot(kind='bar', figsize=(20,6));"
   ]
  },
  {
   "cell_type": "code",
   "execution_count": 23,
   "metadata": {},
   "outputs": [
    {
     "data": {
      "image/png": "[encoded data removed]",
      "text/plain": [
       "<Figure size 1440x432 with 1 Axes>"
      ]
     },
     "metadata": {
      "needs_background": "light"
     },
     "output_type": "display_data"
    }
   ],
   "source": [
    "losses_per_year = data.groupby(pd.to_datetime(data['Failure Date']).dt.year).Losses.sum()\n",
    "losses_per_year.plot(kind='bar', figsize=(20,6));"
   ]
  },
  {
   "cell_type": "code",
   "execution_count": 24,
   "metadata": {},
   "outputs": [
    {
     "data": {
      "text/plain": [
       "True"
      ]
     },
     "execution_count": 24,
     "metadata": {},
     "output_type": "execute_result"
    }
   ],
   "source": [
    "losses_per_year.idxmax() == failures_per_year.idxmax() # The max is at the same year"
   ]
  },
  {
   "cell_type": "code",
   "execution_count": null,
   "metadata": {},
   "outputs": [],
   "source": []
  },
  {
   "cell_type": "code",
   "execution_count": null,
   "metadata": {},
   "outputs": [],
   "source": []
  }
 ],
 "metadata": {
  "kernelspec": {
   "display_name": "Python 3",
   "language": "python",
   "name": "python3"
  },
  "language_info": {
   "codemirror_mode": {
    "name": "ipython",
    "version": 3
   },
   "file_extension": ".py",
   "mimetype": "text/x-python",
   "name": "python",
   "nbconvert_exporter": "python",
   "pygments_lexer": "ipython3",
   "version": "3.7.6"
  }
 },
 "nbformat": 4,
 "nbformat_minor": 4
}
