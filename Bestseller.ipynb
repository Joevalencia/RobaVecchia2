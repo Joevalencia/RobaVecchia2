{
 "cells": [
  {
   "cell_type": "code",
   "execution_count": null,
   "metadata": {},
   "outputs": [],
   "source": []
  },
  {
   "cell_type": "code",
   "execution_count": 1,
   "metadata": {},
   "outputs": [],
   "source": [
    "import pandas as pd\n",
    "import numpy as np\n",
    "import matplotlib.pyplot as plt"
   ]
  },
  {
   "cell_type": "code",
   "execution_count": 4,
   "metadata": {},
   "outputs": [
    {
     "data": {
      "text/html": [
       "<div>\n",
       "<style scoped>\n",
       "    .dataframe tbody tr th:only-of-type {\n",
       "        vertical-align: middle;\n",
       "    }\n",
       "\n",
       "    .dataframe tbody tr th {\n",
       "        vertical-align: top;\n",
       "    }\n",
       "\n",
       "    .dataframe thead th {\n",
       "        text-align: right;\n",
       "    }\n",
       "</style>\n",
       "<table border=\"1\" class=\"dataframe\">\n",
       "  <thead>\n",
       "    <tr style=\"text-align: right;\">\n",
       "      <th></th>\n",
       "      <th>ISBN</th>\n",
       "      <th>author</th>\n",
       "      <th>author_followers</th>\n",
       "      <th>genre</th>\n",
       "      <th>pages</th>\n",
       "      <th>publish_date</th>\n",
       "      <th>publisher</th>\n",
       "      <th>rating</th>\n",
       "      <th>series</th>\n",
       "      <th>title</th>\n",
       "      <th>NYT_Bestseller</th>\n",
       "      <th>celeb_bookclub</th>\n",
       "    </tr>\n",
       "  </thead>\n",
       "  <tbody>\n",
       "    <tr>\n",
       "      <th>0</th>\n",
       "      <td>1250170974</td>\n",
       "      <td>Tomi Adeyemi</td>\n",
       "      <td>9.333796</td>\n",
       "      <td>Fantasy</td>\n",
       "      <td>544.0</td>\n",
       "      <td>2018-03-06</td>\n",
       "      <td>Algonquin Books</td>\n",
       "      <td>4.16</td>\n",
       "      <td>1</td>\n",
       "      <td>Children of Blood and Bone</td>\n",
       "      <td>1</td>\n",
       "      <td>0</td>\n",
       "    </tr>\n",
       "    <tr>\n",
       "      <th>3</th>\n",
       "      <td>0062678418</td>\n",
       "      <td>A.J. Finn</td>\n",
       "      <td>8.288786</td>\n",
       "      <td>Mystery</td>\n",
       "      <td>429.0</td>\n",
       "      <td>2018-01-02</td>\n",
       "      <td>Algonquin Books</td>\n",
       "      <td>3.93</td>\n",
       "      <td>0</td>\n",
       "      <td>The Woman in the Window</td>\n",
       "      <td>1</td>\n",
       "      <td>0</td>\n",
       "    </tr>\n",
       "    <tr>\n",
       "      <th>5</th>\n",
       "      <td>0451490800</td>\n",
       "      <td>Helen Hoang</td>\n",
       "      <td>9.076123</td>\n",
       "      <td>Romance</td>\n",
       "      <td>336.0</td>\n",
       "      <td>2018-06-05</td>\n",
       "      <td>Algonquin Books</td>\n",
       "      <td>3.90</td>\n",
       "      <td>1</td>\n",
       "      <td>The Kiss Quotient</td>\n",
       "      <td>0</td>\n",
       "      <td>0</td>\n",
       "    </tr>\n",
       "    <tr>\n",
       "      <th>6</th>\n",
       "      <td>1250112680</td>\n",
       "      <td>Alexandra Christo</td>\n",
       "      <td>7.752335</td>\n",
       "      <td>Fantasy</td>\n",
       "      <td>344.0</td>\n",
       "      <td>2018-03-06</td>\n",
       "      <td>Algonquin Books</td>\n",
       "      <td>3.96</td>\n",
       "      <td>0</td>\n",
       "      <td>To Kill a Kingdom</td>\n",
       "      <td>0</td>\n",
       "      <td>0</td>\n",
       "    </tr>\n",
       "    <tr>\n",
       "      <th>7</th>\n",
       "      <td>0525520376</td>\n",
       "      <td>Tommy Orange</td>\n",
       "      <td>7.215975</td>\n",
       "      <td>Fiction</td>\n",
       "      <td>294.0</td>\n",
       "      <td>2018-06-05</td>\n",
       "      <td>Algonquin Books</td>\n",
       "      <td>3.98</td>\n",
       "      <td>0</td>\n",
       "      <td>There There</td>\n",
       "      <td>1</td>\n",
       "      <td>0</td>\n",
       "    </tr>\n",
       "  </tbody>\n",
       "</table>\n",
       "</div>"
      ],
      "text/plain": [
       "         ISBN             author  author_followers    genre  pages  \\\n",
       "0  1250170974       Tomi Adeyemi          9.333796  Fantasy  544.0   \n",
       "3  0062678418          A.J. Finn          8.288786  Mystery  429.0   \n",
       "5  0451490800        Helen Hoang          9.076123  Romance  336.0   \n",
       "6  1250112680  Alexandra Christo          7.752335  Fantasy  344.0   \n",
       "7  0525520376       Tommy Orange          7.215975  Fiction  294.0   \n",
       "\n",
       "  publish_date        publisher  rating  series                       title  \\\n",
       "0   2018-03-06  Algonquin Books    4.16       1  Children of Blood and Bone   \n",
       "3   2018-01-02  Algonquin Books    3.93       0     The Woman in the Window   \n",
       "5   2018-06-05  Algonquin Books    3.90       1           The Kiss Quotient   \n",
       "6   2018-03-06  Algonquin Books    3.96       0           To Kill a Kingdom   \n",
       "7   2018-06-05  Algonquin Books    3.98       0                 There There   \n",
       "\n",
       "   NYT_Bestseller  celeb_bookclub  \n",
       "0               1               0  \n",
       "3               1               0  \n",
       "5               0               0  \n",
       "6               0               0  \n",
       "7               1               0  "
      ]
     },
     "execution_count": 4,
     "metadata": {},
     "output_type": "execute_result"
    }
   ],
   "source": [
    "f = r'C:\\Users\\Josè Valencia\\Desktop\\varie\\bestsellernyc.csv'\n",
    "claims = pd.read_csv(f, index_col=0)\n",
    "claims.head()"
   ]
  },
  {
   "cell_type": "code",
   "execution_count": 5,
   "metadata": {},
   "outputs": [
    {
     "name": "stdout",
     "output_type": "stream",
     "text": [
      "<class 'pandas.core.frame.DataFrame'>\n",
      "Int64Index: 1279 entries, 0 to 309\n",
      "Data columns (total 12 columns):\n",
      "ISBN                1279 non-null object\n",
      "author              1279 non-null object\n",
      "author_followers    1279 non-null float64\n",
      "genre               1279 non-null object\n",
      "pages               1279 non-null float64\n",
      "publish_date        1279 non-null object\n",
      "publisher           1279 non-null object\n",
      "rating              1279 non-null float64\n",
      "series              1279 non-null int64\n",
      "title               1279 non-null object\n",
      "NYT_Bestseller      1279 non-null int64\n",
      "celeb_bookclub      1279 non-null int64\n",
      "dtypes: float64(3), int64(3), object(6)\n",
      "memory usage: 129.9+ KB\n"
     ]
    }
   ],
   "source": [
    "claims.info()"
   ]
  },
  {
   "cell_type": "markdown",
   "metadata": {},
   "source": [
    "# Top Genre of bestseller "
   ]
  },
  {
   "cell_type": "code",
   "execution_count": 9,
   "metadata": {},
   "outputs": [
    {
     "data": {
      "image/png": "[encoded data removed]",
      "text/plain": [
       "<Figure size 936x504 with 1 Axes>"
      ]
     },
     "metadata": {
      "needs_background": "light"
     },
     "output_type": "display_data"
    }
   ],
   "source": [
    "genre = claims.genre.value_counts()\n",
    "plt.title('Top Genre', fontweight='bold')\n",
    "genre.plot(kind='barh',figsize=(13,7))\n",
    "plt.show()"
   ]
  },
  {
   "cell_type": "code",
   "execution_count": null,
   "metadata": {},
   "outputs": [],
   "source": []
  }
 ],
 "metadata": {
  "kernelspec": {
   "display_name": "Python 3",
   "language": "python",
   "name": "python3"
  },
  "language_info": {
   "codemirror_mode": {
    "name": "ipython",
    "version": 3
   },
   "file_extension": ".py",
   "mimetype": "text/x-python",
   "name": "python",
   "nbconvert_exporter": "python",
   "pygments_lexer": "ipython3",
   "version": "3.8.1"
  }
 },
 "nbformat": 4,
 "nbformat_minor": 2
}
