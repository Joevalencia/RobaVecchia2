{
 "cells": [
  {
   "cell_type": "markdown",
   "metadata": {},
   "source": [
    "# Ploblem 1: US Police Violence & Fatal Shootings \n",
    "Data from a variety of sources to support objective analysis\n",
    "\n",
    "https://www.kaggle.com/jpmiller/police-violence-in-the-us/data?select=deaths_and_stats.csv\n",
    "\n",
    "This dataset pulls together data from several different sources related to police-related violence in the United States. The dataset currently includes these types of data:\n",
    "\n",
    "    Police shootings\n",
    "    Citizen fatalities involving police\n",
    "    Police officer deaths suffered in the line of duty\n",
    "    Summary statistics by city on people killed, arrests, population\n",
    "    Social and economic data\n",
    "    Police force policies enacted by departments\n",
    "    Police union contract provisions\n",
    "    Sales of DoD equipment to law enforcement agencies\n",
    "    Political leanings of citizens\n",
    "\n",
    "Here, we consider only the 7 \"Police shooting\" columns, counting the people of different races killed by Police from 2013 to 2019 "
   ]
  },
  {
   "cell_type": "code",
   "execution_count": 2,
   "metadata": {},
   "outputs": [],
   "source": [
    "import pandas as pd\n",
    "import datetime"
   ]
  },
  {
   "cell_type": "code",
   "execution_count": 3,
   "metadata": {},
   "outputs": [],
   "source": [
    "data = pd.read_csv(\"deaths_and_stats.csv\")"
   ]
  },
  {
   "cell_type": "code",
   "execution_count": 4,
   "metadata": {},
   "outputs": [
    {
     "data": {
      "text/html": [
       "<div>\n",
       "<style scoped>\n",
       "    .dataframe tbody tr th:only-of-type {\n",
       "        vertical-align: middle;\n",
       "    }\n",
       "\n",
       "    .dataframe tbody tr th {\n",
       "        vertical-align: top;\n",
       "    }\n",
       "\n",
       "    .dataframe thead th {\n",
       "        text-align: right;\n",
       "    }\n",
       "</style>\n",
       "<table border=\"1\" class=\"dataframe\">\n",
       "  <thead>\n",
       "    <tr style=\"text-align: right;\">\n",
       "      <th></th>\n",
       "      <th>State</th>\n",
       "      <th>City</th>\n",
       "      <th>PD</th>\n",
       "      <th>Black People Killed by Police (1/1/2013-12/31/2019)</th>\n",
       "      <th>Hispanic People Killed by Police (1/1/2013-12/31/2019)</th>\n",
       "      <th>Native American People Killed by Police (1/1/2013-12/31/2019)</th>\n",
       "      <th>Asian People Killed by Police (1/1/2013-12/31/2019)</th>\n",
       "      <th>Pacific Islanders Killed by Police (1/1/2013-12/31/2019)</th>\n",
       "      <th>White People Killed by Police (1/1/2013-12/31/2019)</th>\n",
       "      <th>Unknown Race People Killed by Police (1/1/2013-12/31/2019)</th>\n",
       "      <th>...</th>\n",
       "      <th>Violent crimes 2015 (if reported by agency)</th>\n",
       "      <th>Violent crimes 2016 (if reported by agency)</th>\n",
       "      <th>Violent crimes 2017 (if reported by agency)</th>\n",
       "      <th>Violent crimes 2018 (if reported by agency)</th>\n",
       "      <th>2013 Total Arrests (UCR Data)</th>\n",
       "      <th>2014 Total Arrests</th>\n",
       "      <th>2015 Total Arrests</th>\n",
       "      <th>2016 Total Arrests</th>\n",
       "      <th>2017 Total Arrests</th>\n",
       "      <th>2018 Total Arrests</th>\n",
       "    </tr>\n",
       "  </thead>\n",
       "  <tbody>\n",
       "    <tr>\n",
       "      <th>0</th>\n",
       "      <td>Alabama</td>\n",
       "      <td>Birmingham</td>\n",
       "      <td>Birmingham Police Department</td>\n",
       "      <td>4.0</td>\n",
       "      <td>NaN</td>\n",
       "      <td>NaN</td>\n",
       "      <td>NaN</td>\n",
       "      <td>NaN</td>\n",
       "      <td>3.0</td>\n",
       "      <td>NaN</td>\n",
       "      <td>...</td>\n",
       "      <td>3707.0</td>\n",
       "      <td>NaN</td>\n",
       "      <td>NaN</td>\n",
       "      <td>4025.0</td>\n",
       "      <td>NaN</td>\n",
       "      <td>NaN</td>\n",
       "      <td>NaN</td>\n",
       "      <td>NaN</td>\n",
       "      <td>NaN</td>\n",
       "      <td>NaN</td>\n",
       "    </tr>\n",
       "    <tr>\n",
       "      <th>1</th>\n",
       "      <td>Alaska</td>\n",
       "      <td>Anchorage</td>\n",
       "      <td>Anchorage Police Department</td>\n",
       "      <td>1.0</td>\n",
       "      <td>1.0</td>\n",
       "      <td>2.0</td>\n",
       "      <td>NaN</td>\n",
       "      <td>NaN</td>\n",
       "      <td>5.0</td>\n",
       "      <td>4.0</td>\n",
       "      <td>...</td>\n",
       "      <td>3226.0</td>\n",
       "      <td>3422.0</td>\n",
       "      <td>3564.0</td>\n",
       "      <td>3824.0</td>\n",
       "      <td>17601.0</td>\n",
       "      <td>14748.0</td>\n",
       "      <td>14387.0</td>\n",
       "      <td>13294.0</td>\n",
       "      <td>13871.0</td>\n",
       "      <td>13973.0</td>\n",
       "    </tr>\n",
       "    <tr>\n",
       "      <th>2</th>\n",
       "      <td>Arizona</td>\n",
       "      <td>Chandler</td>\n",
       "      <td>Chandler Police Department</td>\n",
       "      <td>NaN</td>\n",
       "      <td>3.0</td>\n",
       "      <td>NaN</td>\n",
       "      <td>NaN</td>\n",
       "      <td>NaN</td>\n",
       "      <td>2.0</td>\n",
       "      <td>NaN</td>\n",
       "      <td>...</td>\n",
       "      <td>490.0</td>\n",
       "      <td>558.0</td>\n",
       "      <td>647.0</td>\n",
       "      <td>606.0</td>\n",
       "      <td>6257.0</td>\n",
       "      <td>6105.0</td>\n",
       "      <td>6256.0</td>\n",
       "      <td>6151.0</td>\n",
       "      <td>6660.0</td>\n",
       "      <td>6538.0</td>\n",
       "    </tr>\n",
       "    <tr>\n",
       "      <th>3</th>\n",
       "      <td>Arizona</td>\n",
       "      <td>Glendale</td>\n",
       "      <td>Glendale Police Department</td>\n",
       "      <td>2.0</td>\n",
       "      <td>3.0</td>\n",
       "      <td>NaN</td>\n",
       "      <td>NaN</td>\n",
       "      <td>NaN</td>\n",
       "      <td>5.0</td>\n",
       "      <td>NaN</td>\n",
       "      <td>...</td>\n",
       "      <td>943.0</td>\n",
       "      <td>1204.0</td>\n",
       "      <td>1217.0</td>\n",
       "      <td>1167.0</td>\n",
       "      <td>4530.0</td>\n",
       "      <td>3477.0</td>\n",
       "      <td>3692.0</td>\n",
       "      <td>NaN</td>\n",
       "      <td>2949.0</td>\n",
       "      <td>5405.0</td>\n",
       "    </tr>\n",
       "    <tr>\n",
       "      <th>4</th>\n",
       "      <td>Arizona</td>\n",
       "      <td>Mesa</td>\n",
       "      <td>Mesa Police Department</td>\n",
       "      <td>NaN</td>\n",
       "      <td>7.0</td>\n",
       "      <td>2.0</td>\n",
       "      <td>NaN</td>\n",
       "      <td>NaN</td>\n",
       "      <td>14.0</td>\n",
       "      <td>2.0</td>\n",
       "      <td>...</td>\n",
       "      <td>1972.0</td>\n",
       "      <td>2051.0</td>\n",
       "      <td>2047.0</td>\n",
       "      <td>1837.0</td>\n",
       "      <td>24509.0</td>\n",
       "      <td>24120.0</td>\n",
       "      <td>25723.0</td>\n",
       "      <td>22995.0</td>\n",
       "      <td>24344.0</td>\n",
       "      <td>20800.0</td>\n",
       "    </tr>\n",
       "  </tbody>\n",
       "</table>\n",
       "<p>5 rows × 33 columns</p>\n",
       "</div>"
      ],
      "text/plain": [
       "     State        City                            PD  \\\n",
       "0  Alabama  Birmingham  Birmingham Police Department   \n",
       "1   Alaska   Anchorage   Anchorage Police Department   \n",
       "2  Arizona    Chandler    Chandler Police Department   \n",
       "3  Arizona    Glendale    Glendale Police Department   \n",
       "4  Arizona        Mesa        Mesa Police Department   \n",
       "\n",
       "   Black People Killed by Police (1/1/2013-12/31/2019)  \\\n",
       "0                                                4.0     \n",
       "1                                                1.0     \n",
       "2                                                NaN     \n",
       "3                                                2.0     \n",
       "4                                                NaN     \n",
       "\n",
       "   Hispanic People Killed by Police (1/1/2013-12/31/2019)  \\\n",
       "0                                                NaN        \n",
       "1                                                1.0        \n",
       "2                                                3.0        \n",
       "3                                                3.0        \n",
       "4                                                7.0        \n",
       "\n",
       "   Native American People Killed by Police (1/1/2013-12/31/2019)  \\\n",
       "0                                                NaN               \n",
       "1                                                2.0               \n",
       "2                                                NaN               \n",
       "3                                                NaN               \n",
       "4                                                2.0               \n",
       "\n",
       "   Asian People Killed by Police (1/1/2013-12/31/2019)  \\\n",
       "0                                                NaN     \n",
       "1                                                NaN     \n",
       "2                                                NaN     \n",
       "3                                                NaN     \n",
       "4                                                NaN     \n",
       "\n",
       "   Pacific Islanders Killed by Police (1/1/2013-12/31/2019)  \\\n",
       "0                                                NaN          \n",
       "1                                                NaN          \n",
       "2                                                NaN          \n",
       "3                                                NaN          \n",
       "4                                                NaN          \n",
       "\n",
       "   White People Killed by Police (1/1/2013-12/31/2019)  \\\n",
       "0                                                3.0     \n",
       "1                                                5.0     \n",
       "2                                                2.0     \n",
       "3                                                5.0     \n",
       "4                                               14.0     \n",
       "\n",
       "   Unknown Race People Killed by Police (1/1/2013-12/31/2019)  ...  \\\n",
       "0                                                NaN           ...   \n",
       "1                                                4.0           ...   \n",
       "2                                                NaN           ...   \n",
       "3                                                NaN           ...   \n",
       "4                                                2.0           ...   \n",
       "\n",
       "   Violent crimes 2015 (if reported by agency)  \\\n",
       "0                                       3707.0   \n",
       "1                                       3226.0   \n",
       "2                                        490.0   \n",
       "3                                        943.0   \n",
       "4                                       1972.0   \n",
       "\n",
       "   Violent crimes 2016 (if reported by agency)  \\\n",
       "0                                          NaN   \n",
       "1                                       3422.0   \n",
       "2                                        558.0   \n",
       "3                                       1204.0   \n",
       "4                                       2051.0   \n",
       "\n",
       "   Violent crimes 2017 (if reported by agency)  \\\n",
       "0                                          NaN   \n",
       "1                                       3564.0   \n",
       "2                                        647.0   \n",
       "3                                       1217.0   \n",
       "4                                       2047.0   \n",
       "\n",
       "   Violent crimes 2018 (if reported by agency)  2013 Total Arrests (UCR Data)  \\\n",
       "0                                       4025.0                            NaN   \n",
       "1                                       3824.0                        17601.0   \n",
       "2                                        606.0                         6257.0   \n",
       "3                                       1167.0                         4530.0   \n",
       "4                                       1837.0                        24509.0   \n",
       "\n",
       "   2014 Total Arrests  2015 Total Arrests  2016 Total Arrests  \\\n",
       "0                 NaN                 NaN                 NaN   \n",
       "1             14748.0             14387.0             13294.0   \n",
       "2              6105.0              6256.0              6151.0   \n",
       "3              3477.0              3692.0                 NaN   \n",
       "4             24120.0             25723.0             22995.0   \n",
       "\n",
       "   2017 Total Arrests  2018 Total Arrests  \n",
       "0                 NaN                 NaN  \n",
       "1             13871.0             13973.0  \n",
       "2              6660.0              6538.0  \n",
       "3              2949.0              5405.0  \n",
       "4             24344.0             20800.0  \n",
       "\n",
       "[5 rows x 33 columns]"
      ]
     },
     "execution_count": 4,
     "metadata": {},
     "output_type": "execute_result"
    }
   ],
   "source": [
    "data.head()"
   ]
  },
  {
   "cell_type": "markdown",
   "metadata": {},
   "source": [
    "## Q1.1 Make a new dataframe by selecting the first 3 columns and the ones on \"People Killed by Police\", only. \n",
    "\n",
    "**Mark**: 1 line, 2 pnts   "
   ]
  },
  {
   "cell_type": "code",
   "execution_count": 5,
   "metadata": {},
   "outputs": [],
   "source": [
    "people = data.iloc[:, :10]\n",
    "# or\n",
    "people = data[data.columns[:10]]"
   ]
  },
  {
   "cell_type": "code",
   "execution_count": 6,
   "metadata": {},
   "outputs": [
    {
     "data": {
      "text/html": [
       "<div>\n",
       "<style scoped>\n",
       "    .dataframe tbody tr th:only-of-type {\n",
       "        vertical-align: middle;\n",
       "    }\n",
       "\n",
       "    .dataframe tbody tr th {\n",
       "        vertical-align: top;\n",
       "    }\n",
       "\n",
       "    .dataframe thead th {\n",
       "        text-align: right;\n",
       "    }\n",
       "</style>\n",
       "<table border=\"1\" class=\"dataframe\">\n",
       "  <thead>\n",
       "    <tr style=\"text-align: right;\">\n",
       "      <th></th>\n",
       "      <th>State</th>\n",
       "      <th>City</th>\n",
       "      <th>PD</th>\n",
       "      <th>Black People Killed by Police (1/1/2013-12/31/2019)</th>\n",
       "      <th>Hispanic People Killed by Police (1/1/2013-12/31/2019)</th>\n",
       "      <th>Native American People Killed by Police (1/1/2013-12/31/2019)</th>\n",
       "      <th>Asian People Killed by Police (1/1/2013-12/31/2019)</th>\n",
       "      <th>Pacific Islanders Killed by Police (1/1/2013-12/31/2019)</th>\n",
       "      <th>White People Killed by Police (1/1/2013-12/31/2019)</th>\n",
       "      <th>Unknown Race People Killed by Police (1/1/2013-12/31/2019)</th>\n",
       "    </tr>\n",
       "  </thead>\n",
       "  <tbody>\n",
       "    <tr>\n",
       "      <th>0</th>\n",
       "      <td>Alabama</td>\n",
       "      <td>Birmingham</td>\n",
       "      <td>Birmingham Police Department</td>\n",
       "      <td>4.0</td>\n",
       "      <td>NaN</td>\n",
       "      <td>NaN</td>\n",
       "      <td>NaN</td>\n",
       "      <td>NaN</td>\n",
       "      <td>3.0</td>\n",
       "      <td>NaN</td>\n",
       "    </tr>\n",
       "    <tr>\n",
       "      <th>1</th>\n",
       "      <td>Alaska</td>\n",
       "      <td>Anchorage</td>\n",
       "      <td>Anchorage Police Department</td>\n",
       "      <td>1.0</td>\n",
       "      <td>1.0</td>\n",
       "      <td>2.0</td>\n",
       "      <td>NaN</td>\n",
       "      <td>NaN</td>\n",
       "      <td>5.0</td>\n",
       "      <td>4.0</td>\n",
       "    </tr>\n",
       "  </tbody>\n",
       "</table>\n",
       "</div>"
      ],
      "text/plain": [
       "     State        City                            PD  \\\n",
       "0  Alabama  Birmingham  Birmingham Police Department   \n",
       "1   Alaska   Anchorage   Anchorage Police Department   \n",
       "\n",
       "   Black People Killed by Police (1/1/2013-12/31/2019)  \\\n",
       "0                                                4.0     \n",
       "1                                                1.0     \n",
       "\n",
       "   Hispanic People Killed by Police (1/1/2013-12/31/2019)  \\\n",
       "0                                                NaN        \n",
       "1                                                1.0        \n",
       "\n",
       "   Native American People Killed by Police (1/1/2013-12/31/2019)  \\\n",
       "0                                                NaN               \n",
       "1                                                2.0               \n",
       "\n",
       "   Asian People Killed by Police (1/1/2013-12/31/2019)  \\\n",
       "0                                                NaN     \n",
       "1                                                NaN     \n",
       "\n",
       "   Pacific Islanders Killed by Police (1/1/2013-12/31/2019)  \\\n",
       "0                                                NaN          \n",
       "1                                                NaN          \n",
       "\n",
       "   White People Killed by Police (1/1/2013-12/31/2019)  \\\n",
       "0                                                3.0     \n",
       "1                                                5.0     \n",
       "\n",
       "   Unknown Race People Killed by Police (1/1/2013-12/31/2019)  \n",
       "0                                                NaN           \n",
       "1                                                4.0           "
      ]
     },
     "execution_count": 6,
     "metadata": {},
     "output_type": "execute_result"
    }
   ],
   "source": [
    "people.head(2)"
   ]
  },
  {
   "cell_type": "markdown",
   "metadata": {},
   "source": [
    "## Q1.2 How many Police Departments are located in California?\n",
    "\n",
    "**Mark**: 1 line, 2 pnts   "
   ]
  },
  {
   "cell_type": "code",
   "execution_count": 7,
   "metadata": {},
   "outputs": [
    {
     "data": {
      "text/plain": [
       "17"
      ]
     },
     "execution_count": 7,
     "metadata": {},
     "output_type": "execute_result"
    }
   ],
   "source": [
    "len(people[people.State == \"California\"])"
   ]
  },
  {
   "cell_type": "code",
   "execution_count": 8,
   "metadata": {},
   "outputs": [
    {
     "data": {
      "text/plain": [
       "17"
      ]
     },
     "execution_count": 8,
     "metadata": {},
     "output_type": "execute_result"
    }
   ],
   "source": [
    "sum(people.State.str.contains(\"California\"))"
   ]
  },
  {
   "cell_type": "code",
   "execution_count": 10,
   "metadata": {},
   "outputs": [
    {
     "data": {
      "text/plain": [
       "17"
      ]
     },
     "execution_count": 10,
     "metadata": {},
     "output_type": "execute_result"
    }
   ],
   "source": [
    "sum(people.State == \"California\") # and variants"
   ]
  },
  {
   "cell_type": "markdown",
   "metadata": {},
   "source": [
    "## Q1.3 Make a dataframe with the 7 columns  \"People Killed by Police\" reporting the total number of people killed in each State. Give a name of your choice to the new dataframe\n",
    "\n",
    "**Mark**: 1 line, 2 pnts   \n",
    "**Hint**: The State should become the index of the dataframe"
   ]
  },
  {
   "cell_type": "markdown",
   "metadata": {},
   "source": [
    "### It clearly states: \"reporting the total number of people killed in each State\"\n",
    "\n",
    "### Simply setting the State as an index is not enough!"
   ]
  },
  {
   "cell_type": "code",
   "execution_count": 15,
   "metadata": {},
   "outputs": [],
   "source": [
    "killed_per_state = people.groupby(\"State\").sum()"
   ]
  },
  {
   "cell_type": "code",
   "execution_count": 16,
   "metadata": {},
   "outputs": [
    {
     "data": {
      "text/html": [
       "<div>\n",
       "<style scoped>\n",
       "    .dataframe tbody tr th:only-of-type {\n",
       "        vertical-align: middle;\n",
       "    }\n",
       "\n",
       "    .dataframe tbody tr th {\n",
       "        vertical-align: top;\n",
       "    }\n",
       "\n",
       "    .dataframe thead th {\n",
       "        text-align: right;\n",
       "    }\n",
       "</style>\n",
       "<table border=\"1\" class=\"dataframe\">\n",
       "  <thead>\n",
       "    <tr style=\"text-align: right;\">\n",
       "      <th></th>\n",
       "      <th>Black People Killed by Police (1/1/2013-12/31/2019)</th>\n",
       "      <th>Hispanic People Killed by Police (1/1/2013-12/31/2019)</th>\n",
       "      <th>Native American People Killed by Police (1/1/2013-12/31/2019)</th>\n",
       "      <th>Asian People Killed by Police (1/1/2013-12/31/2019)</th>\n",
       "      <th>Pacific Islanders Killed by Police (1/1/2013-12/31/2019)</th>\n",
       "      <th>White People Killed by Police (1/1/2013-12/31/2019)</th>\n",
       "      <th>Unknown Race People Killed by Police (1/1/2013-12/31/2019)</th>\n",
       "    </tr>\n",
       "    <tr>\n",
       "      <th>State</th>\n",
       "      <th></th>\n",
       "      <th></th>\n",
       "      <th></th>\n",
       "      <th></th>\n",
       "      <th></th>\n",
       "      <th></th>\n",
       "      <th></th>\n",
       "    </tr>\n",
       "  </thead>\n",
       "  <tbody>\n",
       "    <tr>\n",
       "      <th>Alabama</th>\n",
       "      <td>4.0</td>\n",
       "      <td>0.0</td>\n",
       "      <td>0.0</td>\n",
       "      <td>0.0</td>\n",
       "      <td>0.0</td>\n",
       "      <td>3.0</td>\n",
       "      <td>0.0</td>\n",
       "    </tr>\n",
       "    <tr>\n",
       "      <th>Alaska</th>\n",
       "      <td>1.0</td>\n",
       "      <td>1.0</td>\n",
       "      <td>2.0</td>\n",
       "      <td>0.0</td>\n",
       "      <td>0.0</td>\n",
       "      <td>5.0</td>\n",
       "      <td>4.0</td>\n",
       "    </tr>\n",
       "    <tr>\n",
       "      <th>Arizona</th>\n",
       "      <td>20.0</td>\n",
       "      <td>63.0</td>\n",
       "      <td>6.0</td>\n",
       "      <td>0.0</td>\n",
       "      <td>0.0</td>\n",
       "      <td>75.0</td>\n",
       "      <td>23.0</td>\n",
       "    </tr>\n",
       "    <tr>\n",
       "      <th>California</th>\n",
       "      <td>70.0</td>\n",
       "      <td>172.0</td>\n",
       "      <td>0.0</td>\n",
       "      <td>21.0</td>\n",
       "      <td>3.0</td>\n",
       "      <td>75.0</td>\n",
       "      <td>20.0</td>\n",
       "    </tr>\n",
       "    <tr>\n",
       "      <th>Colorado</th>\n",
       "      <td>11.0</td>\n",
       "      <td>17.0</td>\n",
       "      <td>1.0</td>\n",
       "      <td>3.0</td>\n",
       "      <td>0.0</td>\n",
       "      <td>25.0</td>\n",
       "      <td>10.0</td>\n",
       "    </tr>\n",
       "  </tbody>\n",
       "</table>\n",
       "</div>"
      ],
      "text/plain": [
       "            Black People Killed by Police (1/1/2013-12/31/2019)  \\\n",
       "State                                                             \n",
       "Alabama                                                   4.0     \n",
       "Alaska                                                    1.0     \n",
       "Arizona                                                  20.0     \n",
       "California                                               70.0     \n",
       "Colorado                                                 11.0     \n",
       "\n",
       "            Hispanic People Killed by Police (1/1/2013-12/31/2019)  \\\n",
       "State                                                                \n",
       "Alabama                                                   0.0        \n",
       "Alaska                                                    1.0        \n",
       "Arizona                                                  63.0        \n",
       "California                                              172.0        \n",
       "Colorado                                                 17.0        \n",
       "\n",
       "            Native American People Killed by Police (1/1/2013-12/31/2019)  \\\n",
       "State                                                                       \n",
       "Alabama                                                   0.0               \n",
       "Alaska                                                    2.0               \n",
       "Arizona                                                   6.0               \n",
       "California                                                0.0               \n",
       "Colorado                                                  1.0               \n",
       "\n",
       "            Asian People Killed by Police (1/1/2013-12/31/2019)  \\\n",
       "State                                                             \n",
       "Alabama                                                   0.0     \n",
       "Alaska                                                    0.0     \n",
       "Arizona                                                   0.0     \n",
       "California                                               21.0     \n",
       "Colorado                                                  3.0     \n",
       "\n",
       "            Pacific Islanders Killed by Police (1/1/2013-12/31/2019)  \\\n",
       "State                                                                  \n",
       "Alabama                                                   0.0          \n",
       "Alaska                                                    0.0          \n",
       "Arizona                                                   0.0          \n",
       "California                                                3.0          \n",
       "Colorado                                                  0.0          \n",
       "\n",
       "            White People Killed by Police (1/1/2013-12/31/2019)  \\\n",
       "State                                                             \n",
       "Alabama                                                   3.0     \n",
       "Alaska                                                    5.0     \n",
       "Arizona                                                  75.0     \n",
       "California                                               75.0     \n",
       "Colorado                                                 25.0     \n",
       "\n",
       "            Unknown Race People Killed by Police (1/1/2013-12/31/2019)  \n",
       "State                                                                   \n",
       "Alabama                                                   0.0           \n",
       "Alaska                                                    4.0           \n",
       "Arizona                                                  23.0           \n",
       "California                                               20.0           \n",
       "Colorado                                                 10.0           "
      ]
     },
     "execution_count": 16,
     "metadata": {},
     "output_type": "execute_result"
    }
   ],
   "source": [
    "killed_per_state.head()"
   ]
  },
  {
   "cell_type": "markdown",
   "metadata": {},
   "source": [
    "## Q1.4 Rename the columns with just the race of the people, so that \"Black People Killed...\" or \"Unknown Race People...\" becomes only \"Black\", \"Unknown Race\"\n",
    "\n",
    "**Mark**: max 2 lines, 2 pnts   \n",
    "**Hint**: do not rename the column by writing the new names, but extract them by the original name"
   ]
  },
  {
   "cell_type": "markdown",
   "metadata": {},
   "source": [
    "### Please, I wrote: do not rename the column by writing the new names, but extract them by the original name!"
   ]
  },
  {
   "cell_type": "code",
   "execution_count": 19,
   "metadata": {},
   "outputs": [],
   "source": [
    "killed_per_state.columns = [col.split(\"People\")[0] for col in killed_per_state.columns]"
   ]
  },
  {
   "cell_type": "code",
   "execution_count": 20,
   "metadata": {},
   "outputs": [
    {
     "data": {
      "text/html": [
       "<div>\n",
       "<style scoped>\n",
       "    .dataframe tbody tr th:only-of-type {\n",
       "        vertical-align: middle;\n",
       "    }\n",
       "\n",
       "    .dataframe tbody tr th {\n",
       "        vertical-align: top;\n",
       "    }\n",
       "\n",
       "    .dataframe thead th {\n",
       "        text-align: right;\n",
       "    }\n",
       "</style>\n",
       "<table border=\"1\" class=\"dataframe\">\n",
       "  <thead>\n",
       "    <tr style=\"text-align: right;\">\n",
       "      <th></th>\n",
       "      <th>Black</th>\n",
       "      <th>Hispanic</th>\n",
       "      <th>Native American</th>\n",
       "      <th>Asian</th>\n",
       "      <th>Pacific Islanders</th>\n",
       "      <th>White</th>\n",
       "      <th>Unknown Race</th>\n",
       "    </tr>\n",
       "    <tr>\n",
       "      <th>State</th>\n",
       "      <th></th>\n",
       "      <th></th>\n",
       "      <th></th>\n",
       "      <th></th>\n",
       "      <th></th>\n",
       "      <th></th>\n",
       "      <th></th>\n",
       "    </tr>\n",
       "  </thead>\n",
       "  <tbody>\n",
       "    <tr>\n",
       "      <th>Alabama</th>\n",
       "      <td>4.0</td>\n",
       "      <td>0.0</td>\n",
       "      <td>0.0</td>\n",
       "      <td>0.0</td>\n",
       "      <td>0.0</td>\n",
       "      <td>3.0</td>\n",
       "      <td>0.0</td>\n",
       "    </tr>\n",
       "    <tr>\n",
       "      <th>Alaska</th>\n",
       "      <td>1.0</td>\n",
       "      <td>1.0</td>\n",
       "      <td>2.0</td>\n",
       "      <td>0.0</td>\n",
       "      <td>0.0</td>\n",
       "      <td>5.0</td>\n",
       "      <td>4.0</td>\n",
       "    </tr>\n",
       "    <tr>\n",
       "      <th>Arizona</th>\n",
       "      <td>20.0</td>\n",
       "      <td>63.0</td>\n",
       "      <td>6.0</td>\n",
       "      <td>0.0</td>\n",
       "      <td>0.0</td>\n",
       "      <td>75.0</td>\n",
       "      <td>23.0</td>\n",
       "    </tr>\n",
       "    <tr>\n",
       "      <th>California</th>\n",
       "      <td>70.0</td>\n",
       "      <td>172.0</td>\n",
       "      <td>0.0</td>\n",
       "      <td>21.0</td>\n",
       "      <td>3.0</td>\n",
       "      <td>75.0</td>\n",
       "      <td>20.0</td>\n",
       "    </tr>\n",
       "    <tr>\n",
       "      <th>Colorado</th>\n",
       "      <td>11.0</td>\n",
       "      <td>17.0</td>\n",
       "      <td>1.0</td>\n",
       "      <td>3.0</td>\n",
       "      <td>0.0</td>\n",
       "      <td>25.0</td>\n",
       "      <td>10.0</td>\n",
       "    </tr>\n",
       "  </tbody>\n",
       "</table>\n",
       "</div>"
      ],
      "text/plain": [
       "            Black   Hispanic   Native American   Asian   Pacific Islanders   \\\n",
       "State                                                                         \n",
       "Alabama        4.0        0.0               0.0     0.0                 0.0   \n",
       "Alaska         1.0        1.0               2.0     0.0                 0.0   \n",
       "Arizona       20.0       63.0               6.0     0.0                 0.0   \n",
       "California    70.0      172.0               0.0    21.0                 3.0   \n",
       "Colorado      11.0       17.0               1.0     3.0                 0.0   \n",
       "\n",
       "            White   Unknown Race   \n",
       "State                              \n",
       "Alabama        3.0            0.0  \n",
       "Alaska         5.0            4.0  \n",
       "Arizona       75.0           23.0  \n",
       "California    75.0           20.0  \n",
       "Colorado      25.0           10.0  "
      ]
     },
     "execution_count": 20,
     "metadata": {},
     "output_type": "execute_result"
    }
   ],
   "source": [
    "killed_per_state.head()"
   ]
  },
  {
   "cell_type": "markdown",
   "metadata": {},
   "source": [
    "## Q1.5 Calculate the percentages of the total number of people killed in USA for each race.\n",
    "\n",
    "**Mark**: max 2 lines, 2 pnts   "
   ]
  },
  {
   "cell_type": "code",
   "execution_count": 21,
   "metadata": {},
   "outputs": [
    {
     "data": {
      "text/plain": [
       "Black                 38.286004\n",
       "Hispanic              23.478702\n",
       "Native American        0.963489\n",
       "Asian                  2.231237\n",
       "Pacific Islanders      0.811359\n",
       "White                 26.673428\n",
       "Unknown Race           7.555781\n",
       "dtype: float64"
      ]
     },
     "execution_count": 21,
     "metadata": {},
     "output_type": "execute_result"
    }
   ],
   "source": [
    "killed_per_state.sum() / killed_per_state.sum().sum() * 100"
   ]
  },
  {
   "cell_type": "markdown",
   "metadata": {},
   "source": [
    "## Q1.6 On average, how often (in days) a person from each race is killed by Police? Show the days sorted from the smallest to the largest. \n",
    "\n",
    "## Plot this result using horizonal bars, where the x axis gives the average number of days (exclude Native and Islander for a better representation)\n",
    "\n",
    "**Mark**: free number of lines/cells, ***5 pnts***   \n",
    "**Hint**: Extract the dates from the original columns' name, do not write them by hand"
   ]
  },
  {
   "cell_type": "code",
   "execution_count": 23,
   "metadata": {},
   "outputs": [],
   "source": [
    "# The hint has been totally ignored.\n",
    "lc = people.columns[-1].split(\"(\")[1][:-1]\n",
    "start, end = lc.split(\"-\")\n",
    "diff = datetime.datetime.strptime(end, '%m/%d/%Y') - datetime.datetime.strptime(start, '%m/%d/%Y')\n",
    "killed_in_USA = killed_per_state.sum()\n",
    "freq = diff.days / killed_in_USA\n",
    "freq = freq.sort_values()"
   ]
  },
  {
   "cell_type": "code",
   "execution_count": 24,
   "metadata": {},
   "outputs": [
    {
     "data": {
      "image/png": "[encoded data removed]",
      "text/plain": [
       "<Figure size 432x288 with 1 Axes>"
      ]
     },
     "metadata": {
      "needs_background": "light"
     },
     "output_type": "display_data"
    }
   ],
   "source": [
    "ax = freq[:-2].plot(kind='barh')\n",
    "ax.set_xlabel(\"Days\");"
   ]
  },
  {
   "cell_type": "markdown",
   "metadata": {},
   "source": [
    "# Quite terrific!"
   ]
  },
  {
   "cell_type": "code",
   "execution_count": 25,
   "metadata": {},
   "outputs": [
    {
     "data": {
      "text/plain": [
       "Black                   3.384106\n",
       "White                   4.857414\n",
       "Hispanic                5.518359\n",
       "Unknown Race           17.147651\n",
       "Asian                  58.068182\n",
       "Native American       134.473684\n",
       "Pacific Islanders     159.687500\n",
       "dtype: float64"
      ]
     },
     "execution_count": 25,
     "metadata": {},
     "output_type": "execute_result"
    }
   ],
   "source": [
    "freq"
   ]
  },
  {
   "cell_type": "code",
   "execution_count": null,
   "metadata": {},
   "outputs": [],
   "source": []
  }
 ],
 "metadata": {
  "kernelspec": {
   "display_name": "Python 3",
   "language": "python",
   "name": "python3"
  },
  "language_info": {
   "codemirror_mode": {
    "name": "ipython",
    "version": 3
   },
   "file_extension": ".py",
   "mimetype": "text/x-python",
   "name": "python",
   "nbconvert_exporter": "python",
   "pygments_lexer": "ipython3",
   "version": "3.8.1"
  }
 },
 "nbformat": 4,
 "nbformat_minor": 4
}
