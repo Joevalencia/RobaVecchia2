{
 "cells": [
  {
   "cell_type": "code",
   "execution_count": null,
   "metadata": {},
   "outputs": [],
   "source": []
  },
  {
   "cell_type": "code",
   "execution_count": 1,
   "metadata": {},
   "outputs": [],
   "source": [
    "import numpy as np\n",
    "import pandas as pd\n",
    "from bs4 import BeautifulSoup\n",
    "import requests"
   ]
  },
  {
   "cell_type": "markdown",
   "metadata": {},
   "source": [
    "## Dataset & Some Infos"
   ]
  },
  {
   "cell_type": "code",
   "execution_count": 2,
   "metadata": {},
   "outputs": [],
   "source": [
    "url = 'https://www.mondadoristore.it/Classifica-libri-Best-Seller/gr-308/?viewmode=medium&opnedBoxes=amtp%2Catpp%2Cagen%2Capzf%2Cascf%2Caaut%2Caedt'\n",
    "referencia = requests.get(url)\n"
   ]
  },
  {
   "cell_type": "code",
   "execution_count": 146,
   "metadata": {},
   "outputs": [
    {
     "data": {
      "text/plain": [
       "200"
      ]
     },
     "execution_count": 146,
     "metadata": {},
     "output_type": "execute_result"
    }
   ],
   "source": [
    "referencia.status_code"
   ]
  },
  {
   "cell_type": "code",
   "execution_count": 3,
   "metadata": {},
   "outputs": [
    {
     "data": {
      "text/plain": [
       "24"
      ]
     },
     "execution_count": 3,
     "metadata": {},
     "output_type": "execute_result"
    }
   ],
   "source": [
    "text_refe = referencia.text\n",
    "soup = BeautifulSoup(text_refe, 'html.parser')\n",
    "title = soup.find_all('h3', class_='title')\n",
    "lib1 = [i.get_text(strip=True) for i in title]\n",
    "len(lib1)"
   ]
  },
  {
   "cell_type": "code",
   "execution_count": 10,
   "metadata": {},
   "outputs": [
    {
     "name": "stdout",
     "output_type": "stream",
     "text": [
      "0     La casa leggera. Ordinata, pulita, sostenibile...\n",
      "1                                            Riccardino\n",
      "2             Echi in tempesta. L'Attraversaspecchi. 4.\n",
      "3                             L'enigma della camera 622\n",
      "4     Hair therapy. Prima, durante e dopo lo shampoo...\n",
      "5                                       Come un respiro\n",
      "6                                  La magia del ritorno\n",
      "7                                            Il colibrì\n",
      "8                                     L'ombra del vento\n",
      "9                                   La misura del tempo\n",
      "10        Una Stormoavventura! La scomparsa di Dolcetta\n",
      "11                                      Persone normali\n",
      "12      Fidanzati dell'inverno. L'Attraversaspecchi. 1.\n",
      "13    I reami di Runeterra. League of Legends. Guida...\n",
      "14                                      L'ultima storia\n",
      "15                           Anna dai capelli rossi. 1.\n",
      "16                                   Clean. Tabula rasa\n",
      "17                            Cambiare l'acqua ai fiori\n",
      "18    Storia di chi fugge e di chi resta. L'amica ge...\n",
      "19    Concorso 2133 funzionari amministrativi RIPAM....\n",
      "20                               Ho cercato il tuo nome\n",
      "21                  Per caso (tanto il caso non esiste)\n",
      "22    Ballata dell'usignolo e del serpente. Hunger G...\n",
      "23                             La selva degli impiccati\n",
      "dtype: object\n"
     ]
    }
   ],
   "source": [
    "print(pd.Series(lib1))"
   ]
  },
  {
   "cell_type": "code",
   "execution_count": 189,
   "metadata": {},
   "outputs": [],
   "source": [
    "lib2 = [t.get_text(strip=True) for t in tit2]"
   ]
  },
  {
   "cell_type": "code",
   "execution_count": 190,
   "metadata": {},
   "outputs": [
    {
     "data": {
      "text/plain": [
       "['15,10€',\n",
       " '14,25€',\n",
       " '15,67€',\n",
       " '20,90€',\n",
       " '15,20€',\n",
       " '16,15€',\n",
       " '18,90€',\n",
       " '19,00€',\n",
       " '13,30€',\n",
       " '17,10€',\n",
       " '15,10€',\n",
       " '10,45€',\n",
       " '15,20€',\n",
       " '23,75€',\n",
       " '20,90€',\n",
       " '13,20€',\n",
       " '19,00€',\n",
       " '17,10€',\n",
       " '18,52€',\n",
       " '37,05€',\n",
       " '9,90€',\n",
       " '17,10€',\n",
       " '20,90€',\n",
       " '16,15€']"
      ]
     },
     "execution_count": 190,
     "metadata": {},
     "output_type": "execute_result"
    }
   ],
   "source": [
    "lib2"
   ]
  },
  {
   "cell_type": "code",
   "execution_count": null,
   "metadata": {},
   "outputs": [],
   "source": []
  },
  {
   "cell_type": "code",
   "execution_count": 4,
   "metadata": {},
   "outputs": [],
   "source": [
    "p ='https://www.corrieredellosport.it/live/classifica-serie-a.html'\n",
    "re2 = requests.get(p)"
   ]
  },
  {
   "cell_type": "code",
   "execution_count": 8,
   "metadata": {},
   "outputs": [
    {
     "data": {
      "text/plain": [
       "20"
      ]
     },
     "execution_count": 8,
     "metadata": {},
     "output_type": "execute_result"
    }
   ],
   "source": [
    "obje = re2.text\n",
    "soup2 = BeautifulSoup(obje, 'html.parser')\n",
    "book = soup2.find_all('td', class_='team-name')\n",
    "teams = [o.get_text(strip=True) for o in book]\n",
    "len(teams)"
   ]
  },
  {
   "cell_type": "code",
   "execution_count": null,
   "metadata": {},
   "outputs": [],
   "source": []
  }
 ],
 "metadata": {
  "hide_input": false,
  "kernelspec": {
   "display_name": "Python 3",
   "language": "python",
   "name": "python3"
  },
  "language_info": {
   "codemirror_mode": {
    "name": "ipython",
    "version": 3
   },
   "file_extension": ".py",
   "mimetype": "text/x-python",
   "name": "python",
   "nbconvert_exporter": "python",
   "pygments_lexer": "ipython3",
   "version": "3.8.1"
  }
 },
 "nbformat": 4,
 "nbformat_minor": 4
}
