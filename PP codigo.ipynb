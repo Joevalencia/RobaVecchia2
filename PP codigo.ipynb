{
 "cells": [
  {
   "cell_type": "code",
   "execution_count": 1,
   "metadata": {},
   "outputs": [],
   "source": [
    "import pandas as pd\n",
    "import numpy as np"
   ]
  },
  {
   "cell_type": "code",
   "execution_count": 21,
   "metadata": {},
   "outputs": [],
   "source": [
    "from datetime import datetime"
   ]
  },
  {
   "cell_type": "code",
   "execution_count": 19,
   "metadata": {},
   "outputs": [
    {
     "data": {
      "text/plain": [
       "0    41513.41\n",
       "1    61051.31\n",
       "2    59574.12\n",
       "3    68962.86\n",
       "4    90885.18\n",
       "5    76325.31\n",
       "dtype: float64"
      ]
     },
     "execution_count": 19,
     "metadata": {},
     "output_type": "execute_result"
    }
   ],
   "source": [
    "sal = pd.Series(np.array([29066, 36483,58406,35173,46354,34567]))\n",
    "in1 = 1.02\n",
    "eda = np.array([46, 38, 63, 30, 30, 24])\n",
    "proyec = round(sal*(in1)**(65-1-eda), 2)\n",
    "pj = round(.25*proyec/12, 2)\n",
    "proyec"
   ]
  },
  {
   "cell_type": "code",
   "execution_count": 6,
   "metadata": {},
   "outputs": [],
   "source": [
    "def prestacion_definida(tabla = 'perm1',  rvs = .02, rvp = .01,  h=1,\n",
    "                        tipo_int= .02, beta=.25, edad_jubilacion = 65):\n",
    "    def lx_participes():\n",
    "\n",
    "        raw1 = 'https://raw.githubusercontent.com/Joevalencia/Planes_pensione_ALM/main/Participes_aportacion.csv'\n",
    "        data1 = pd.read_csv(raw1)\n",
    "        raw2 = 'https://raw.githubusercontent.com/Joevalencia/Planes_pensione_ALM/main/approximation_planex.csv'\n",
    "        data2 = pd.read_csv(raw2)\n",
    "        del data1['Unnamed: 0']\n",
    "        del data2['Unnamed: 0']\n",
    "        return data1, data2\n",
    "\n",
    "\n",
    "    l1, l2 = [], []\n",
    "    l3, l4 = [], []\n",
    "    l5 = []\n",
    "    participe = int(input('Ingresar el nùmero de participes del plan: '))\n",
    "    for i in range(0, participe):\n",
    "        \n",
    "        p1 = str(input(f'Poner el nombre del participe del Plan numero {i+1}: '))\n",
    "        p2 = str(input(f'Ingresar la fecha de nacimiento {p1}: '))\n",
    "        p3 = str(input(f'Ingresar la fecha de alta en la empresa de {p1}: '))\n",
    "        p4 = float(input(f'Ingresar el salario pensionable 2021 de {p1}: '))\n",
    "        p5 = str(input(f'Ingresar el Sexo de {p1}: '))\n",
    "        print('='*55)\n",
    "        l1.append(p1)\n",
    "        l2.append(p2)\n",
    "        l3.append(p3)\n",
    "        l4.append(p4)\n",
    "        l5.append(p5)\n",
    "\n",
    "    array1 = []\n",
    "    for i in range(0, participe):\n",
    "        array1.append(int(l2[i].split('/')[2]))\n",
    "\n",
    "    array2 = []\n",
    "    for i in range(0, participe):\n",
    "        array2.append(int(l3[i].split('/')[2]))\n",
    "    an1 = [46, 38, 63, 30, 30, 24] ## edad actuarial  # AAA poner manualmente poner esto\n",
    "    an2 = [25, 37, 29, 26, 20, 23] ## edad entradad actuarial  # AAA poner manualmente esto\n",
    "    edad = [x-y for(x, y) in zip(array2, array1)] ## edad actuarial 2\n",
    "    r1 = 1+rvs  ## Revalorizaciòn salarios\n",
    "    r2 = 1+rvp  ## Revalorizaciòn pensiones \n",
    "    interes = (1+tipo_int)  ##interés\n",
    "    t1 = np.arange(0, 660)  ## mensilidad\n",
    "    interes2 = interes**(1/12)  ## fraccionamiento 1/h\n",
    "    interes3 = interes2**-t1  ## intereses mensuales\n",
    "    df = pd.DataFrame({'Participe':pd.Series(l1), 'Sexo': pd.Series(l5),'Nacimiento':pd.Series(l2), \n",
    "                       'Alta':pd.Series(l3), 'Salario 2021':pd.Series(l4), \n",
    "                      'Edad actuarial':pd.Series(an1), 'Edad entrada':pd.Series(an2)})\n",
    "    proyec = round(df['Salario 2021']*(interes)**(edad_jubilacion-1-df['Edad actuarial']), 2)\n",
    "    pj = round(.25*proyec/12, 2)\n",
    "    df['Proyectado'] = proyec\n",
    "    df['PJ corriente'] = pj\n",
    "    print('='*55)\n",
    "    print('Hipotesis')\n",
    "    print(f'Interés técnico valoración: {tipo_int*100}%')\n",
    "    print(f'Revalorizaciòn Salario: {rvs*100}%')\n",
    "    print(f'Revalorización Pensión: {rvp*100}%')\n",
    "    print(f'Beta Pension: {beta}')\n",
    "    return df\n"
   ]
  },
  {
   "cell_type": "code",
   "execution_count": 7,
   "metadata": {},
   "outputs": [
    {
     "name": "stdout",
     "output_type": "stream",
     "text": [
      "Ingresar el nùmero de participes del plan: 2\n",
      "Poner el nombre del participe del Plan numero 1: Joan\n",
      "Ingresar la fecha de nacimiento Joan: 06/07/1973\n",
      "Ingresar la fecha de alta en la empresa de Joan: 15/02/1998\n",
      "Ingresar el salario pensionable 2021 de Joan: 29944\n",
      "Ingresar el Sexo de Joan: Hombre\n",
      "=======================================================\n",
      "Poner el nombre del participe del Plan numero 2: Pere\n",
      "Ingresar la fecha de nacimiento Pere: 03/12/1981\n",
      "Ingresar la fecha de alta en la empresa de Pere: 08/03/2019\n",
      "Ingresar el salario pensionable 2021 de Pere: 37586\n",
      "Ingresar el Sexo de Pere: Hombre\n",
      "=======================================================\n",
      "=======================================================\n",
      "Hipotesis\n",
      "Interés técnico valoración: 2.0%\n",
      "Revalorizaciòn Salario: 2.0%\n",
      "Revalorización Pensión: 1.0%\n",
      "Beta Pension: 0.25\n"
     ]
    }
   ],
   "source": [
    "b1 = prestacion_definida()"
   ]
  },
  {
   "cell_type": "code",
   "execution_count": 8,
   "metadata": {},
   "outputs": [
    {
     "data": {
      "text/html": [
       "<div>\n",
       "<style scoped>\n",
       "    .dataframe tbody tr th:only-of-type {\n",
       "        vertical-align: middle;\n",
       "    }\n",
       "\n",
       "    .dataframe tbody tr th {\n",
       "        vertical-align: top;\n",
       "    }\n",
       "\n",
       "    .dataframe thead th {\n",
       "        text-align: right;\n",
       "    }\n",
       "</style>\n",
       "<table border=\"1\" class=\"dataframe\">\n",
       "  <thead>\n",
       "    <tr style=\"text-align: right;\">\n",
       "      <th></th>\n",
       "      <th>Participe</th>\n",
       "      <th>Sexo</th>\n",
       "      <th>Nacimiento</th>\n",
       "      <th>Alta</th>\n",
       "      <th>Salario 2021</th>\n",
       "      <th>Edad actuarial</th>\n",
       "      <th>Edad entrada</th>\n",
       "      <th>Proyectado</th>\n",
       "      <th>PJ corriente</th>\n",
       "    </tr>\n",
       "  </thead>\n",
       "  <tbody>\n",
       "    <tr>\n",
       "      <th>0</th>\n",
       "      <td>Joan</td>\n",
       "      <td>Hombre</td>\n",
       "      <td>06/07/1973</td>\n",
       "      <td>15/02/1998</td>\n",
       "      <td>29944.0</td>\n",
       "      <td>46</td>\n",
       "      <td>25</td>\n",
       "      <td>42767.41</td>\n",
       "      <td>890.99</td>\n",
       "    </tr>\n",
       "    <tr>\n",
       "      <th>1</th>\n",
       "      <td>Pere</td>\n",
       "      <td>Hombre</td>\n",
       "      <td>03/12/1981</td>\n",
       "      <td>08/03/2019</td>\n",
       "      <td>37586.0</td>\n",
       "      <td>38</td>\n",
       "      <td>37</td>\n",
       "      <td>62897.09</td>\n",
       "      <td>1310.36</td>\n",
       "    </tr>\n",
       "    <tr>\n",
       "      <th>2</th>\n",
       "      <td>NaN</td>\n",
       "      <td>NaN</td>\n",
       "      <td>NaN</td>\n",
       "      <td>NaN</td>\n",
       "      <td>NaN</td>\n",
       "      <td>63</td>\n",
       "      <td>29</td>\n",
       "      <td>NaN</td>\n",
       "      <td>NaN</td>\n",
       "    </tr>\n",
       "    <tr>\n",
       "      <th>3</th>\n",
       "      <td>NaN</td>\n",
       "      <td>NaN</td>\n",
       "      <td>NaN</td>\n",
       "      <td>NaN</td>\n",
       "      <td>NaN</td>\n",
       "      <td>30</td>\n",
       "      <td>26</td>\n",
       "      <td>NaN</td>\n",
       "      <td>NaN</td>\n",
       "    </tr>\n",
       "    <tr>\n",
       "      <th>4</th>\n",
       "      <td>NaN</td>\n",
       "      <td>NaN</td>\n",
       "      <td>NaN</td>\n",
       "      <td>NaN</td>\n",
       "      <td>NaN</td>\n",
       "      <td>30</td>\n",
       "      <td>20</td>\n",
       "      <td>NaN</td>\n",
       "      <td>NaN</td>\n",
       "    </tr>\n",
       "    <tr>\n",
       "      <th>5</th>\n",
       "      <td>NaN</td>\n",
       "      <td>NaN</td>\n",
       "      <td>NaN</td>\n",
       "      <td>NaN</td>\n",
       "      <td>NaN</td>\n",
       "      <td>24</td>\n",
       "      <td>23</td>\n",
       "      <td>NaN</td>\n",
       "      <td>NaN</td>\n",
       "    </tr>\n",
       "  </tbody>\n",
       "</table>\n",
       "</div>"
      ],
      "text/plain": [
       "  Participe    Sexo  Nacimiento        Alta  Salario 2021  Edad actuarial  \\\n",
       "0      Joan  Hombre  06/07/1973  15/02/1998       29944.0              46   \n",
       "1      Pere  Hombre  03/12/1981  08/03/2019       37586.0              38   \n",
       "2       NaN     NaN         NaN         NaN           NaN              63   \n",
       "3       NaN     NaN         NaN         NaN           NaN              30   \n",
       "4       NaN     NaN         NaN         NaN           NaN              30   \n",
       "5       NaN     NaN         NaN         NaN           NaN              24   \n",
       "\n",
       "   Edad entrada  Proyectado  PJ corriente  \n",
       "0            25    42767.41        890.99  \n",
       "1            37    62897.09       1310.36  \n",
       "2            29         NaN           NaN  \n",
       "3            26         NaN           NaN  \n",
       "4            20         NaN           NaN  \n",
       "5            23         NaN           NaN  "
      ]
     },
     "execution_count": 8,
     "metadata": {},
     "output_type": "execute_result"
    }
   ],
   "source": [
    "b1"
   ]
  },
  {
   "cell_type": "code",
   "execution_count": 52,
   "metadata": {},
   "outputs": [
    {
     "data": {
      "text/plain": [
       "0    Hombre\n",
       "1     Mujer\n",
       "2    Hombre\n",
       "3     Mujer\n",
       "Name: Sexo, dtype: object"
      ]
     },
     "execution_count": 52,
     "metadata": {},
     "output_type": "execute_result"
    }
   ],
   "source": [
    "b1 = pd.Series(['Hombre', 'Mujer', 'Hombre', 'Mujer'], name='Sexo')\n",
    "b1"
   ]
  },
  {
   "cell_type": "code",
   "execution_count": null,
   "metadata": {},
   "outputs": [],
   "source": []
  },
  {
   "cell_type": "code",
   "execution_count": 4,
   "metadata": {},
   "outputs": [
    {
     "data": {
      "text/html": [
       "<div>\n",
       "<style scoped>\n",
       "    .dataframe tbody tr th:only-of-type {\n",
       "        vertical-align: middle;\n",
       "    }\n",
       "\n",
       "    .dataframe tbody tr th {\n",
       "        vertical-align: top;\n",
       "    }\n",
       "\n",
       "    .dataframe thead th {\n",
       "        text-align: right;\n",
       "    }\n",
       "</style>\n",
       "<table border=\"1\" class=\"dataframe\">\n",
       "  <thead>\n",
       "    <tr style=\"text-align: right;\">\n",
       "      <th></th>\n",
       "      <th>Participe</th>\n",
       "      <th>Nacimiento</th>\n",
       "      <th>Alta</th>\n",
       "      <th>Salario 2021</th>\n",
       "      <th>Edad actuarial</th>\n",
       "      <th>Edad entrada</th>\n",
       "    </tr>\n",
       "  </thead>\n",
       "  <tbody>\n",
       "    <tr>\n",
       "      <th>0</th>\n",
       "      <td>Antoni</td>\n",
       "      <td>06/07/1973</td>\n",
       "      <td>04/03/1992</td>\n",
       "      <td>29066.0</td>\n",
       "      <td>46</td>\n",
       "      <td>25</td>\n",
       "    </tr>\n",
       "  </tbody>\n",
       "</table>\n",
       "</div>"
      ],
      "text/plain": [
       "  Participe  Nacimiento        Alta  Salario 2021  Edad actuarial  \\\n",
       "0    Antoni  06/07/1973  04/03/1992       29066.0              46   \n",
       "\n",
       "   Edad entrada  \n",
       "0            25  "
      ]
     },
     "execution_count": 4,
     "metadata": {},
     "output_type": "execute_result"
    }
   ],
   "source": [
    "d1 = df.dropna()\n",
    "d1"
   ]
  },
  {
   "cell_type": "code",
   "execution_count": 6,
   "metadata": {},
   "outputs": [
    {
     "data": {
      "text/plain": [
       "0    41513.41\n",
       "dtype: float64"
      ]
     },
     "execution_count": 6,
     "metadata": {},
     "output_type": "execute_result"
    }
   ],
   "source": [
    "np.round(d1['Salario 2021']*r1**(65-1-d1['Edad actuarial']), 2)"
   ]
  },
  {
   "cell_type": "code",
   "execution_count": 76,
   "metadata": {},
   "outputs": [],
   "source": [
    "array1 = []\n",
    "for i in range(0, 3):\n",
    "    array1.append(int(l2[i].split('/')[2]))"
   ]
  },
  {
   "cell_type": "code",
   "execution_count": 77,
   "metadata": {},
   "outputs": [
    {
     "data": {
      "text/plain": [
       "[1973, 1989, 1995]"
      ]
     },
     "execution_count": 77,
     "metadata": {},
     "output_type": "execute_result"
    }
   ],
   "source": [
    "array1"
   ]
  },
  {
   "cell_type": "code",
   "execution_count": 78,
   "metadata": {},
   "outputs": [],
   "source": [
    "array2 = []\n",
    "for i in range(0, 3):\n",
    "    array2.append(int(l3[i].split('/')[2]))"
   ]
  },
  {
   "cell_type": "code",
   "execution_count": 81,
   "metadata": {},
   "outputs": [
    {
     "data": {
      "text/plain": [
       "[19, 21, 24]"
      ]
     },
     "execution_count": 81,
     "metadata": {},
     "output_type": "execute_result"
    }
   ],
   "source": [
    "[x-y for(x, y) in zip(array2, array1)]"
   ]
  },
  {
   "cell_type": "code",
   "execution_count": 38,
   "metadata": {},
   "outputs": [
    {
     "data": {
      "text/plain": [
       "0   2000-03-11\n",
       "1   2000-03-12\n",
       "2   2000-03-13\n",
       "dtype: datetime64[ns]"
      ]
     },
     "execution_count": 38,
     "metadata": {},
     "output_type": "execute_result"
    }
   ],
   "source": [
    "pd.to_datetime(s, infer_datetime_format=True) "
   ]
  },
  {
   "cell_type": "code",
   "execution_count": null,
   "metadata": {},
   "outputs": [],
   "source": []
  },
  {
   "cell_type": "code",
   "execution_count": null,
   "metadata": {},
   "outputs": [],
   "source": []
  },
  {
   "cell_type": "markdown",
   "metadata": {},
   "source": [
    "# Planes de pensiones\n",
    "\n",
    "### Aportaciò definida"
   ]
  },
  {
   "cell_type": "code",
   "execution_count": 13,
   "metadata": {},
   "outputs": [],
   "source": [
    "def aportacion_definida( salarioP_inicial: float = 29944,\n",
    "                        tipo_salario: float = .0125, rendimiento_fondo: float = .018,\n",
    "                        aportacion_inicial: float = 368.77 , fondo_c: float = 1364.68,\n",
    "                        crecimiento_sala: float = .015, \n",
    "                        tabla='perm1', jubilacion: int = 65, capital: float = 1, x=48,m=0,\n",
    "                        n: int = 120, h: int = 12, birth_year: int = 1973, sexo = 'Hombre', \n",
    "                        interes: float = .0125, base_tecnica:float = .0175, \n",
    "                        fondo_capitalizacion: float = 3486.75):\n",
    "    import pandas as pd\n",
    "    import numpy as np\n",
    "    if tabla == 'perm1':\n",
    "        f = 'https://raw.githubusercontent.com/Joevalencia/telma/main/telma/PER2020_Col_1er.orden.csv'\n",
    "        data = pd.read_csv(f)\n",
    "    elif tabla == 'perm2':\n",
    "        f = 'https://raw.githubusercontent.com/Joevalencia/telma/main/telma/PER2020_Ind_2ndo.orden.csv'\n",
    "        data = pd.read_csv(f)\n",
    "    else:\n",
    "        print('Solo se permiten tabla perm1 o tabla perm2')\n",
    "    datatable = data\n",
    "    frac_freq = h\n",
    "    if n == 120:\n",
    "        n = 120 - (x + m)\n",
    "    elif n != 120:\n",
    "        n = n\n",
    "    else:\n",
    "        print('Error! Type a new \"n\" ')\n",
    "    L = np.repeat(1.0, 121)\n",
    "    L[0] = 1000000\n",
    "    fem = datatable.iloc[:, 1] * np.exp(-datatable.iloc[:, 2] * (birth_year + np.arange(0, 121) - 2012))\n",
    "    macho = datatable.iloc[:, 3] * np.exp(-datatable.iloc[:, 4] * (birth_year + np.arange(0, 121) - 2012))\n",
    "    tabla = .5 * (fem + macho)\n",
    "    if sexo == 'Hombre':\n",
    "        for i in range(0, 120):\n",
    "            L[i + 1] = L[i] * (1 - (macho[i] / 1000))\n",
    "    elif sexo == 'Mujer':\n",
    "        \n",
    "        for i in range(0, 120):\n",
    "            L[i + 1] = L[i] * (1 - (fem[i] / 1000))\n",
    "    elif sexo == 'unisex':\n",
    "        for i in range(0, 120):\n",
    "            L[i + 1] = L[i] * (1 - (tabla[i] / 1000))\n",
    "    else:\n",
    "        \n",
    "        print('Error. Ingresar \"Hombre\", \"Mujer\" o \"unisex\"')\n",
    "    L = np.round(L, 4)   # Tablas perm1 anuales\n",
    "    \n",
    "    fr = np.arange(frac_freq) / frac_freq\n",
    "    jon = np.outer(L[1:], fr)\n",
    "    jon1 = np.outer(L[:-1], (1 - fr))\n",
    "    jj = (jon + jon1).flatten().round(1)  ## fraccionamiento\n",
    "      \n",
    "    t2 = np.arange(jubilacion, 120)  # Edad\n",
    "    px = jj[np.arange((jubilacion+1)*h, 120*h)]/jj[jubilacion*h] # px desde la jubilacion?\n",
    "    t = np.arange(0, len(px))       # Temporalidad\n",
    "   \n",
    "    return L, px\n"
   ]
  },
  {
   "cell_type": "code",
   "execution_count": 62,
   "metadata": {},
   "outputs": [
    {
     "data": {
      "text/plain": [
       "660"
      ]
     },
     "execution_count": 62,
     "metadata": {},
     "output_type": "execute_result"
    }
   ],
   "source": [
    "t1 = np.arange(0, 660)  ## mensilidad\n",
    "interes = 1.0125  # Interes (1+interes)\n",
    "interes2 = interes**(1/12)  ## fraccionamiento 1/h\n",
    "interes3 = interes2**-t1\n",
    "len(interes3)  # factor financiero"
   ]
  },
  {
   "cell_type": "code",
   "execution_count": 14,
   "metadata": {},
   "outputs": [],
   "source": [
    "b = aportacion_definida()"
   ]
  },
  {
   "cell_type": "code",
   "execution_count": null,
   "metadata": {},
   "outputs": [],
   "source": []
  },
  {
   "cell_type": "code",
   "execution_count": null,
   "metadata": {},
   "outputs": [],
   "source": []
  },
  {
   "cell_type": "code",
   "execution_count": null,
   "metadata": {},
   "outputs": [],
   "source": []
  },
  {
   "cell_type": "code",
   "execution_count": null,
   "metadata": {},
   "outputs": [],
   "source": []
  },
  {
   "cell_type": "code",
   "execution_count": 15,
   "metadata": {},
   "outputs": [
    {
     "data": {
      "text/plain": [
       "array([1.00000000e+06, 9.90581424e+05, 9.90013252e+05, 9.89542248e+05,\n",
       "       9.89154005e+05, 9.88835434e+05, 9.88571178e+05, 9.88347410e+05,\n",
       "       9.88148505e+05, 9.87966683e+05, 9.87792022e+05, 9.87615708e+05,\n",
       "       9.87446338e+05, 9.87267892e+05, 9.87073786e+05, 9.86853426e+05,\n",
       "       9.86602211e+05, 9.86316221e+05, 9.85994311e+05, 9.85633594e+05,\n",
       "       9.85237655e+05, 9.84813664e+05, 9.84369953e+05, 9.83917530e+05,\n",
       "       9.83462837e+05, 9.83013236e+05, 9.82572144e+05, 9.82139587e+05,\n",
       "       9.81714147e+05, 9.81295936e+05, 9.80881083e+05, 9.80467439e+05,\n",
       "       9.80053121e+05, 9.79635322e+05, 9.79212721e+05, 9.78783119e+05,\n",
       "       9.78342554e+05, 9.77887598e+05, 9.77413398e+05, 9.76913944e+05,\n",
       "       9.76381418e+05, 9.75809094e+05, 9.75189620e+05, 9.74515894e+05,\n",
       "       9.73779274e+05, 9.72972840e+05, 9.72087294e+05, 9.71113595e+05,\n",
       "       9.70041187e+05, 9.68858681e+05, 9.67553216e+05, 9.66114101e+05,\n",
       "       9.64530931e+05, 9.62796321e+05, 9.60905798e+05, 9.58858808e+05,\n",
       "       9.56655659e+05, 9.54297956e+05, 9.51788102e+05, 9.49129976e+05,\n",
       "       9.46330833e+05, 9.43397552e+05, 9.40337672e+05, 9.36921547e+05,\n",
       "       9.33185123e+05, 9.29170970e+05, 9.24946888e+05, 9.20591621e+05,\n",
       "       9.16162084e+05, 9.11694917e+05, 9.07188414e+05, 9.02593278e+05,\n",
       "       8.97817946e+05, 8.92752163e+05, 8.87214788e+05, 8.81079985e+05,\n",
       "       8.74231311e+05, 8.66563454e+05, 8.57934013e+05, 8.48222184e+05,\n",
       "       8.37242072e+05, 8.24775815e+05, 8.10671884e+05, 7.94636622e+05,\n",
       "       7.76568696e+05, 7.56160436e+05, 7.33317495e+05, 7.07636331e+05,\n",
       "       6.79111911e+05, 6.47861901e+05, 6.14129882e+05, 5.78284000e+05,\n",
       "       5.40583096e+05, 5.00867865e+05, 4.59124281e+05, 4.15260289e+05,\n",
       "       3.70014764e+05, 3.24176838e+05, 2.79047764e+05, 2.35751951e+05,\n",
       "       1.94917874e+05, 1.57160638e+05, 1.23467321e+05, 9.41204794e+04,\n",
       "       6.92697882e+04, 4.89106910e+04, 3.28717649e+04, 2.08150363e+04,\n",
       "       1.22638721e+04, 6.78984240e+03, 3.49053760e+03, 1.64036600e+03,\n",
       "       6.90097400e+02, 2.52517400e+02, 7.71648000e+01, 1.85731000e+01,\n",
       "       3.24270000e+00, 3.74300000e-01, 2.92000000e-02, 2.00000000e-03,\n",
       "       0.00000000e+00])"
      ]
     },
     "execution_count": 15,
     "metadata": {},
     "output_type": "execute_result"
    }
   ],
   "source": [
    "b[0]"
   ]
  },
  {
   "cell_type": "code",
   "execution_count": null,
   "metadata": {},
   "outputs": [],
   "source": []
  },
  {
   "cell_type": "code",
   "execution_count": null,
   "metadata": {},
   "outputs": [],
   "source": []
  },
  {
   "cell_type": "code",
   "execution_count": null,
   "metadata": {},
   "outputs": [],
   "source": []
  },
  {
   "cell_type": "code",
   "execution_count": 3,
   "metadata": {},
   "outputs": [],
   "source": [
    "raw1 = 'https://raw.githubusercontent.com/Joevalencia/Planes_pensione_ALM/main/Participes_aportacion.csv'\n",
    "data1 = pd.read_csv(raw1)\n",
    "raw2 = 'https://raw.githubusercontent.com/Joevalencia/Planes_pensione_ALM/main/approximation_planex.csv'\n",
    "data2 = pd.read_csv(raw2)\n",
    "del data1['Unnamed: 0']\n",
    "del data2['Unnamed: 0']"
   ]
  },
  {
   "cell_type": "code",
   "execution_count": 13,
   "metadata": {},
   "outputs": [
    {
     "data": {
      "text/html": [
       "<div>\n",
       "<style scoped>\n",
       "    .dataframe tbody tr th:only-of-type {\n",
       "        vertical-align: middle;\n",
       "    }\n",
       "\n",
       "    .dataframe tbody tr th {\n",
       "        vertical-align: top;\n",
       "    }\n",
       "\n",
       "    .dataframe thead th {\n",
       "        text-align: right;\n",
       "    }\n",
       "</style>\n",
       "<table border=\"1\" class=\"dataframe\">\n",
       "  <thead>\n",
       "    <tr style=\"text-align: right;\">\n",
       "      <th></th>\n",
       "      <th>Antoni</th>\n",
       "      <th>Pere</th>\n",
       "      <th>Marta</th>\n",
       "      <th>Claudia</th>\n",
       "      <th>Marc</th>\n",
       "      <th>Maria</th>\n",
       "    </tr>\n",
       "  </thead>\n",
       "  <tbody>\n",
       "    <tr>\n",
       "      <th>0</th>\n",
       "      <td>1000000.0</td>\n",
       "      <td>1000000.0</td>\n",
       "      <td>1000000.0</td>\n",
       "      <td>1000000.0</td>\n",
       "      <td>1000000.0</td>\n",
       "      <td>1000000.0</td>\n",
       "    </tr>\n",
       "    <tr>\n",
       "      <th>1</th>\n",
       "      <td>999215.1</td>\n",
       "      <td>999430.1</td>\n",
       "      <td>998523.0</td>\n",
       "      <td>999589.3</td>\n",
       "      <td>999602.4</td>\n",
       "      <td>999677.0</td>\n",
       "    </tr>\n",
       "    <tr>\n",
       "      <th>2</th>\n",
       "      <td>998430.2</td>\n",
       "      <td>998860.1</td>\n",
       "      <td>997046.1</td>\n",
       "      <td>999178.7</td>\n",
       "      <td>999204.7</td>\n",
       "      <td>999353.9</td>\n",
       "    </tr>\n",
       "    <tr>\n",
       "      <th>3</th>\n",
       "      <td>997645.4</td>\n",
       "      <td>998290.2</td>\n",
       "      <td>995569.1</td>\n",
       "      <td>998768.0</td>\n",
       "      <td>998807.1</td>\n",
       "      <td>999030.9</td>\n",
       "    </tr>\n",
       "    <tr>\n",
       "      <th>4</th>\n",
       "      <td>996860.5</td>\n",
       "      <td>997720.2</td>\n",
       "      <td>994092.1</td>\n",
       "      <td>998357.4</td>\n",
       "      <td>998409.5</td>\n",
       "      <td>998707.9</td>\n",
       "    </tr>\n",
       "  </tbody>\n",
       "</table>\n",
       "</div>"
      ],
      "text/plain": [
       "      Antoni       Pere      Marta    Claudia       Marc      Maria\n",
       "0  1000000.0  1000000.0  1000000.0  1000000.0  1000000.0  1000000.0\n",
       "1   999215.1   999430.1   998523.0   999589.3   999602.4   999677.0\n",
       "2   998430.2   998860.1   997046.1   999178.7   999204.7   999353.9\n",
       "3   997645.4   998290.2   995569.1   998768.0   998807.1   999030.9\n",
       "4   996860.5   997720.2   994092.1   998357.4   998409.5   998707.9"
      ]
     },
     "execution_count": 13,
     "metadata": {},
     "output_type": "execute_result"
    }
   ],
   "source": [
    "data2.head()"
   ]
  },
  {
   "cell_type": "code",
   "execution_count": 50,
   "metadata": {},
   "outputs": [
    {
     "data": {
      "text/plain": [
       "929171.0"
      ]
     },
     "execution_count": 50,
     "metadata": {},
     "output_type": "execute_result"
    }
   ],
   "source": [
    "data1.Antoni[65]"
   ]
  },
  {
   "cell_type": "code",
   "execution_count": 16,
   "metadata": {},
   "outputs": [
    {
     "data": {
      "text/plain": [
       "929171.0"
      ]
     },
     "execution_count": 16,
     "metadata": {},
     "output_type": "execute_result"
    }
   ],
   "source": [
    "data2.Antoni[65*12]"
   ]
  },
  {
   "cell_type": "code",
   "execution_count": 4,
   "metadata": {},
   "outputs": [
    {
     "data": {
      "text/html": [
       "<div>\n",
       "<style scoped>\n",
       "    .dataframe tbody tr th:only-of-type {\n",
       "        vertical-align: middle;\n",
       "    }\n",
       "\n",
       "    .dataframe tbody tr th {\n",
       "        vertical-align: top;\n",
       "    }\n",
       "\n",
       "    .dataframe thead th {\n",
       "        text-align: right;\n",
       "    }\n",
       "</style>\n",
       "<table border=\"1\" class=\"dataframe\">\n",
       "  <thead>\n",
       "    <tr style=\"text-align: right;\">\n",
       "      <th></th>\n",
       "      <th>index</th>\n",
       "      <th>Antoni</th>\n",
       "      <th>Pere</th>\n",
       "      <th>Marta</th>\n",
       "      <th>Claudia</th>\n",
       "      <th>Marc</th>\n",
       "      <th>Maria</th>\n",
       "    </tr>\n",
       "  </thead>\n",
       "  <tbody>\n",
       "    <tr>\n",
       "      <th>0</th>\n",
       "      <td>781</td>\n",
       "      <td>0.999621</td>\n",
       "      <td>0.999683</td>\n",
       "      <td>0.999737</td>\n",
       "      <td>0.999876</td>\n",
       "      <td>0.999740</td>\n",
       "      <td>0.999893</td>\n",
       "    </tr>\n",
       "    <tr>\n",
       "      <th>1</th>\n",
       "      <td>782</td>\n",
       "      <td>0.999242</td>\n",
       "      <td>0.999365</td>\n",
       "      <td>0.999474</td>\n",
       "      <td>0.999753</td>\n",
       "      <td>0.999480</td>\n",
       "      <td>0.999785</td>\n",
       "    </tr>\n",
       "    <tr>\n",
       "      <th>2</th>\n",
       "      <td>783</td>\n",
       "      <td>0.998863</td>\n",
       "      <td>0.999048</td>\n",
       "      <td>0.999212</td>\n",
       "      <td>0.999629</td>\n",
       "      <td>0.999220</td>\n",
       "      <td>0.999678</td>\n",
       "    </tr>\n",
       "    <tr>\n",
       "      <th>3</th>\n",
       "      <td>784</td>\n",
       "      <td>0.998485</td>\n",
       "      <td>0.998731</td>\n",
       "      <td>0.998949</td>\n",
       "      <td>0.999505</td>\n",
       "      <td>0.998961</td>\n",
       "      <td>0.999571</td>\n",
       "    </tr>\n",
       "    <tr>\n",
       "      <th>4</th>\n",
       "      <td>785</td>\n",
       "      <td>0.998106</td>\n",
       "      <td>0.998414</td>\n",
       "      <td>0.998686</td>\n",
       "      <td>0.999382</td>\n",
       "      <td>0.998701</td>\n",
       "      <td>0.999463</td>\n",
       "    </tr>\n",
       "    <tr>\n",
       "      <th>...</th>\n",
       "      <td>...</td>\n",
       "      <td>...</td>\n",
       "      <td>...</td>\n",
       "      <td>...</td>\n",
       "      <td>...</td>\n",
       "      <td>...</td>\n",
       "      <td>...</td>\n",
       "    </tr>\n",
       "    <tr>\n",
       "      <th>655</th>\n",
       "      <td>1436</td>\n",
       "      <td>0.000000</td>\n",
       "      <td>0.000000</td>\n",
       "      <td>0.000000</td>\n",
       "      <td>0.000000</td>\n",
       "      <td>0.000000</td>\n",
       "      <td>0.000000</td>\n",
       "    </tr>\n",
       "    <tr>\n",
       "      <th>656</th>\n",
       "      <td>1437</td>\n",
       "      <td>0.000000</td>\n",
       "      <td>0.000000</td>\n",
       "      <td>0.000000</td>\n",
       "      <td>0.000000</td>\n",
       "      <td>0.000000</td>\n",
       "      <td>0.000000</td>\n",
       "    </tr>\n",
       "    <tr>\n",
       "      <th>657</th>\n",
       "      <td>1438</td>\n",
       "      <td>0.000000</td>\n",
       "      <td>0.000000</td>\n",
       "      <td>0.000000</td>\n",
       "      <td>0.000000</td>\n",
       "      <td>0.000000</td>\n",
       "      <td>0.000000</td>\n",
       "    </tr>\n",
       "    <tr>\n",
       "      <th>658</th>\n",
       "      <td>1439</td>\n",
       "      <td>0.000000</td>\n",
       "      <td>0.000000</td>\n",
       "      <td>0.000000</td>\n",
       "      <td>0.000000</td>\n",
       "      <td>0.000000</td>\n",
       "      <td>0.000000</td>\n",
       "    </tr>\n",
       "    <tr>\n",
       "      <th>659</th>\n",
       "      <td>1440</td>\n",
       "      <td>0.000000</td>\n",
       "      <td>0.000000</td>\n",
       "      <td>0.000000</td>\n",
       "      <td>0.000000</td>\n",
       "      <td>0.000000</td>\n",
       "      <td>0.000000</td>\n",
       "    </tr>\n",
       "  </tbody>\n",
       "</table>\n",
       "<p>660 rows × 7 columns</p>\n",
       "</div>"
      ],
      "text/plain": [
       "     index    Antoni      Pere     Marta   Claudia      Marc     Maria\n",
       "0      781  0.999621  0.999683  0.999737  0.999876  0.999740  0.999893\n",
       "1      782  0.999242  0.999365  0.999474  0.999753  0.999480  0.999785\n",
       "2      783  0.998863  0.999048  0.999212  0.999629  0.999220  0.999678\n",
       "3      784  0.998485  0.998731  0.998949  0.999505  0.998961  0.999571\n",
       "4      785  0.998106  0.998414  0.998686  0.999382  0.998701  0.999463\n",
       "..     ...       ...       ...       ...       ...       ...       ...\n",
       "655   1436  0.000000  0.000000  0.000000  0.000000  0.000000  0.000000\n",
       "656   1437  0.000000  0.000000  0.000000  0.000000  0.000000  0.000000\n",
       "657   1438  0.000000  0.000000  0.000000  0.000000  0.000000  0.000000\n",
       "658   1439  0.000000  0.000000  0.000000  0.000000  0.000000  0.000000\n",
       "659   1440  0.000000  0.000000  0.000000  0.000000  0.000000  0.000000\n",
       "\n",
       "[660 rows x 7 columns]"
      ]
     },
     "execution_count": 4,
     "metadata": {},
     "output_type": "execute_result"
    }
   ],
   "source": [
    "px = (data2.iloc[65*12+1:]/data2.iloc[65*12]).reset_index()  ## Matriz de px mensuales Participes\n",
    "px"
   ]
  },
  {
   "cell_type": "code",
   "execution_count": 42,
   "metadata": {},
   "outputs": [
    {
     "data": {
      "text/plain": [
       "890.99"
      ]
     },
     "execution_count": 42,
     "metadata": {},
     "output_type": "execute_result"
    }
   ],
   "source": []
  },
  {
   "cell_type": "code",
   "execution_count": null,
   "metadata": {},
   "outputs": [],
   "source": [
    "f = ['m', 'n']\n",
    "for i in f:\n",
    "    var = np.roll(np.round(b1['PJ corriente'][i]*1.01**np.floor(np.arange(0,660) / 12 ), 2),-6)\n",
    "    var[-6:] = var[-7]\n",
    "    var[0] = 0\n",
    "    var = pd.Series(var)"
   ]
  },
  {
   "cell_type": "code",
   "execution_count": 63,
   "metadata": {},
   "outputs": [
    {
     "data": {
      "text/plain": [
       "660"
      ]
     },
     "execution_count": 63,
     "metadata": {},
     "output_type": "execute_result"
    }
   ],
   "source": [
    "var = np.roll(np.round(b1['PJ corriente'][0]*1.01**np.floor(np.arange(0,660) / 12 ), 2),-6)\n",
    "var[-6:] = var[-7]\n",
    "var[0] = 0\n",
    "var = pd.Series(var)\n",
    "len(var)"
   ]
  },
  {
   "cell_type": "code",
   "execution_count": 70,
   "metadata": {},
   "outputs": [
    {
     "name": "stdout",
     "output_type": "stream",
     "text": [
      "6\n",
      "7\n",
      "5\n"
     ]
    }
   ],
   "source": [
    "for i in np.array([6, 7, 5]):\n",
    "    print(i)"
   ]
  },
  {
   "cell_type": "code",
   "execution_count": 61,
   "metadata": {},
   "outputs": [
    {
     "data": {
      "text/html": [
       "<div>\n",
       "<style scoped>\n",
       "    .dataframe tbody tr th:only-of-type {\n",
       "        vertical-align: middle;\n",
       "    }\n",
       "\n",
       "    .dataframe tbody tr th {\n",
       "        vertical-align: top;\n",
       "    }\n",
       "\n",
       "    .dataframe thead th {\n",
       "        text-align: right;\n",
       "    }\n",
       "</style>\n",
       "<table border=\"1\" class=\"dataframe\">\n",
       "  <thead>\n",
       "    <tr style=\"text-align: right;\">\n",
       "      <th></th>\n",
       "      <th>index</th>\n",
       "      <th>Antoni</th>\n",
       "      <th>Pere</th>\n",
       "      <th>Marta</th>\n",
       "      <th>Claudia</th>\n",
       "      <th>Marc</th>\n",
       "      <th>Maria</th>\n",
       "    </tr>\n",
       "  </thead>\n",
       "  <tbody>\n",
       "    <tr>\n",
       "      <th>0</th>\n",
       "      <td>781</td>\n",
       "      <td>0.999621</td>\n",
       "      <td>0.999683</td>\n",
       "      <td>0.999737</td>\n",
       "      <td>0.999876</td>\n",
       "      <td>0.999740</td>\n",
       "      <td>0.999893</td>\n",
       "    </tr>\n",
       "    <tr>\n",
       "      <th>1</th>\n",
       "      <td>782</td>\n",
       "      <td>0.999242</td>\n",
       "      <td>0.999365</td>\n",
       "      <td>0.999474</td>\n",
       "      <td>0.999753</td>\n",
       "      <td>0.999480</td>\n",
       "      <td>0.999785</td>\n",
       "    </tr>\n",
       "    <tr>\n",
       "      <th>2</th>\n",
       "      <td>783</td>\n",
       "      <td>0.998863</td>\n",
       "      <td>0.999048</td>\n",
       "      <td>0.999212</td>\n",
       "      <td>0.999629</td>\n",
       "      <td>0.999220</td>\n",
       "      <td>0.999678</td>\n",
       "    </tr>\n",
       "    <tr>\n",
       "      <th>3</th>\n",
       "      <td>784</td>\n",
       "      <td>0.998485</td>\n",
       "      <td>0.998731</td>\n",
       "      <td>0.998949</td>\n",
       "      <td>0.999505</td>\n",
       "      <td>0.998961</td>\n",
       "      <td>0.999571</td>\n",
       "    </tr>\n",
       "    <tr>\n",
       "      <th>4</th>\n",
       "      <td>785</td>\n",
       "      <td>0.998106</td>\n",
       "      <td>0.998414</td>\n",
       "      <td>0.998686</td>\n",
       "      <td>0.999382</td>\n",
       "      <td>0.998701</td>\n",
       "      <td>0.999463</td>\n",
       "    </tr>\n",
       "  </tbody>\n",
       "</table>\n",
       "</div>"
      ],
      "text/plain": [
       "   index    Antoni      Pere     Marta   Claudia      Marc     Maria\n",
       "0    781  0.999621  0.999683  0.999737  0.999876  0.999740  0.999893\n",
       "1    782  0.999242  0.999365  0.999474  0.999753  0.999480  0.999785\n",
       "2    783  0.998863  0.999048  0.999212  0.999629  0.999220  0.999678\n",
       "3    784  0.998485  0.998731  0.998949  0.999505  0.998961  0.999571\n",
       "4    785  0.998106  0.998414  0.998686  0.999382  0.998701  0.999463"
      ]
     },
     "execution_count": 61,
     "metadata": {},
     "output_type": "execute_result"
    }
   ],
   "source": [
    "px.head()"
   ]
  },
  {
   "cell_type": "code",
   "execution_count": 68,
   "metadata": {},
   "outputs": [],
   "source": [
    "minidf = pd.DataFrame({'int Antoni':interes3, 'anual Antoni ':var}).join(pd.Series(px['Antoni']\n",
    "                                                                                         , name='actual Antoni'))#.fillna(0)\n",
    "minidf\n",
    "#minidf.to_csv( 'Antoni.csv')"
   ]
  },
  {
   "cell_type": "code",
   "execution_count": 65,
   "metadata": {},
   "outputs": [
    {
     "data": {
      "text/plain": [
       "1366.76"
      ]
     },
     "execution_count": 65,
     "metadata": {},
     "output_type": "execute_result"
    }
   ],
   "source": [
    "var[520]"
   ]
  },
  {
   "cell_type": "code",
   "execution_count": 66,
   "metadata": {},
   "outputs": [
    {
     "data": {
      "text/plain": [
       "282648.57"
      ]
     },
     "execution_count": 66,
     "metadata": {},
     "output_type": "execute_result"
    }
   ],
   "source": [
    "VAA = round(sum(np.array(minidf['anual Antoni '])*np.array(minidf['actual Antoni'])*np.array(minidf['int Antoni'])),2)  ##Valor actual Actuarial\n",
    "VAA"
   ]
  },
  {
   "cell_type": "code",
   "execution_count": 14,
   "metadata": {},
   "outputs": [
    {
     "data": {
      "text/plain": [
       "265476.78"
      ]
     },
     "execution_count": 14,
     "metadata": {},
     "output_type": "execute_result"
    }
   ],
   "source": [
    "VAA = round(sum(np.array(minidf['var'])*np.array(minidf['act'])*np.array(minidf['int'])),2)  ##Valor actual Actuarial\n",
    "VAA"
   ]
  },
  {
   "cell_type": "code",
   "execution_count": 21,
   "metadata": {},
   "outputs": [
    {
     "data": {
      "text/plain": [
       "205881.08"
      ]
     },
     "execution_count": 21,
     "metadata": {},
     "output_type": "execute_result"
    }
   ],
   "source": [
    "round((VAA*(interes**-(2037-2021+1))*.9578675),2)  ##VAA de las obligaciones del Plan de Pensiones a 31/12/2021. \n"
   ]
  },
  {
   "cell_type": "code",
   "execution_count": 22,
   "metadata": {},
   "outputs": [
    {
     "data": {
      "text/plain": [
       "152672.75"
      ]
     },
     "execution_count": 22,
     "metadata": {},
     "output_type": "execute_result"
    }
   ],
   "source": [
    "round((VAA*(interes**-(2037-1998+1))*0.9452273),2)  #VAA de las obligaciones a 1992"
   ]
  },
  {
   "cell_type": "code",
   "execution_count": 167,
   "metadata": {},
   "outputs": [
    {
     "data": {
      "text/plain": [
       "265476.78"
      ]
     },
     "execution_count": 167,
     "metadata": {},
     "output_type": "execute_result"
    }
   ],
   "source": [
    "round(sum(np.array(minidf['var'])*np.array(minidf['act'])*np.array(minidf['int'])),2)  ##Valor actual Actuarial"
   ]
  },
  {
   "cell_type": "code",
   "execution_count": null,
   "metadata": {},
   "outputs": [],
   "source": []
  },
  {
   "cell_type": "code",
   "execution_count": 134,
   "metadata": {},
   "outputs": [
    {
     "data": {
      "text/plain": [
       "array([1.        , 0.99896533, 0.99793172, 0.99689919, 0.99586772,\n",
       "       0.99483732, 0.99380799, 0.99277972, 0.99175252, 0.99072638,\n",
       "       0.9897013 , 0.98867728, 0.98765432, 0.98663242, 0.98561158,\n",
       "       0.98459179, 0.98357306, 0.98255538, 0.98153876, 0.98052318,\n",
       "       0.97950866, 0.97849519, 0.97748276, 0.97647139, 0.97546106,\n",
       "       0.97445177, 0.97344353, 0.97243634, 0.97143018, 0.97042507,\n",
       "       0.96942099, 0.96841796, 0.96741596, 0.966415  , 0.96541508,\n",
       "       0.96441619, 0.96341833, 0.9624215 , 0.96142571, 0.96043095,\n",
       "       0.95943722, 0.95844451, 0.95745283, 0.95646218, 0.95547255,\n",
       "       0.95448395, 0.95349637, 0.95250981, 0.95152428, 0.95053976,\n",
       "       0.94955626, 0.94857378, 0.94759231, 0.94661186, 0.94563243,\n",
       "       0.94465401, 0.9436766 , 0.9427002 , 0.94172481, 0.94075043,\n",
       "       0.93977706, 0.9388047 , 0.93783334, 0.93686299, 0.93589364,\n",
       "       0.9349253 , 0.93395795, 0.93299161, 0.93202627, 0.93106192,\n",
       "       0.93009858, 0.92913623, 0.92817488, 0.92721452, 0.92625515,\n",
       "       0.92529678, 0.9243394 , 0.92338301, 0.92242761, 0.9214732 ,\n",
       "       0.92051977, 0.91956733, 0.91861588, 0.91766541, 0.91671593,\n",
       "       0.91576742, 0.9148199 , 0.91387336, 0.9129278 , 0.91198322,\n",
       "       0.91103961, 0.91009698, 0.90915533, 0.90821465, 0.90727494,\n",
       "       0.90633621, 0.90539845, 0.90446165, 0.90352583, 0.90259098,\n",
       "       0.90165709, 0.90072417, 0.89979221, 0.89886122, 0.89793119,\n",
       "       0.89700212, 0.89607402, 0.89514687, 0.89422069, 0.89329546,\n",
       "       0.89237119, 0.89144788, 0.89052552, 0.88960411, 0.88868366,\n",
       "       0.88776417, 0.88684562, 0.88592802, 0.88501138, 0.88409568,\n",
       "       0.88318093, 0.88226712, 0.88135426, 0.88044235, 0.87953138,\n",
       "       0.87862135, 0.87771226, 0.87680411, 0.87589691, 0.87499064,\n",
       "       0.87408531, 0.87318092, 0.87227746, 0.87137493, 0.87047335,\n",
       "       0.86957269, 0.86867296, 0.86777417, 0.86687631, 0.86597937,\n",
       "       0.86508337, 0.86418829, 0.86329413, 0.8624009 , 0.8615086 ,\n",
       "       0.86061722, 0.85972676, 0.85883722, 0.85794861, 0.85706091,\n",
       "       0.85617413, 0.85528827, 0.85440332, 0.8535193 , 0.85263618,\n",
       "       0.85175398, 0.85087269, 0.84999232, 0.84911285, 0.8482343 ,\n",
       "       0.84735665, 0.84647991, 0.84560408, 0.84472915, 0.84385514,\n",
       "       0.84298202, 0.84210981, 0.8412385 , 0.84036809, 0.83949858,\n",
       "       0.83862998, 0.83776227, 0.83689546, 0.83602954, 0.83516452,\n",
       "       0.8343004 , 0.83343717, 0.83257483, 0.83171339, 0.83085284,\n",
       "       0.82999318, 0.8291344 , 0.82827652, 0.82741952, 0.82656341,\n",
       "       0.82570819, 0.82485385, 0.82400039, 0.82314782, 0.82229613,\n",
       "       0.82144532, 0.8205954 , 0.81974635, 0.81889818, 0.81805088,\n",
       "       0.81720447, 0.81635893, 0.81551426, 0.81467047, 0.81382755,\n",
       "       0.8129855 , 0.81214433, 0.81130402, 0.81046459, 0.80962602,\n",
       "       0.80878832, 0.80795149, 0.80711552, 0.80628042, 0.80544618,\n",
       "       0.80461281, 0.8037803 , 0.80294865, 0.80211786, 0.80128792,\n",
       "       0.80045885, 0.79963064, 0.79880328, 0.79797678, 0.79715113,\n",
       "       0.79632634, 0.7955024 , 0.79467932, 0.79385708, 0.7930357 ,\n",
       "       0.79221517, 0.79139548, 0.79057664, 0.78975866, 0.78894151,\n",
       "       0.78812521, 0.78730976, 0.78649515, 0.78568139, 0.78486846,\n",
       "       0.78405638, 0.78324514, 0.78243473, 0.78162517, 0.78081644,\n",
       "       0.78000855, 0.77920149, 0.77839527, 0.77758989, 0.77678534,\n",
       "       0.77598162, 0.77517873, 0.77437667, 0.77357544, 0.77277504,\n",
       "       0.77197547, 0.77117673, 0.77037881, 0.76958172, 0.76878546,\n",
       "       0.76799001, 0.76719539, 0.7664016 , 0.76560862, 0.76481646,\n",
       "       0.76402513, 0.76323461, 0.76244491, 0.76165603, 0.76086796,\n",
       "       0.76008071, 0.75929428, 0.75850865, 0.75772385, 0.75693985,\n",
       "       0.75615666, 0.75537429, 0.75459272, 0.75381196, 0.75303201,\n",
       "       0.75225287, 0.75147453, 0.750697  , 0.74992027, 0.74914435,\n",
       "       0.74836923, 0.74759491, 0.74682139, 0.74604868, 0.74527676,\n",
       "       0.74450564, 0.74373532, 0.7429658 , 0.74219707, 0.74142914,\n",
       "       0.740662  , 0.73989565, 0.7391301 , 0.73836534, 0.73760138,\n",
       "       0.7368382 , 0.73607581, 0.73531421, 0.7345534 , 0.73379338,\n",
       "       0.73303414, 0.73227569, 0.73151802, 0.73076114, 0.73000504,\n",
       "       0.72924972, 0.72849519, 0.72774143, 0.72698846, 0.72623626,\n",
       "       0.72548484, 0.7247342 , 0.72398434, 0.72323525, 0.72248694,\n",
       "       0.7217394 , 0.72099263, 0.72024664, 0.71950142, 0.71875697,\n",
       "       0.71801329, 0.71727038, 0.71652824, 0.71578687, 0.71504626,\n",
       "       0.71430642, 0.71356734, 0.71282903, 0.71209149, 0.71135471,\n",
       "       0.71061869, 0.70988343, 0.70914893, 0.70841519, 0.70768221,\n",
       "       0.70694999, 0.70621853, 0.70548782, 0.70475787, 0.70402868,\n",
       "       0.70330024, 0.70257255, 0.70184562, 0.70111943, 0.700394  ,\n",
       "       0.69966932, 0.69894539, 0.69822221, 0.69749978, 0.6967781 ,\n",
       "       0.69605716, 0.69533696, 0.69461752, 0.69389881, 0.69318085,\n",
       "       0.69246364, 0.69174716, 0.69103143, 0.69031644, 0.68960219,\n",
       "       0.68888867, 0.6881759 , 0.68746386, 0.68675256, 0.68604199,\n",
       "       0.68533216, 0.68462307, 0.6839147 , 0.68320708, 0.68250018,\n",
       "       0.68179401, 0.68108858, 0.68038387, 0.6796799 , 0.67897665,\n",
       "       0.67827413, 0.67757234, 0.67687127, 0.67617093, 0.67547131,\n",
       "       0.67477242, 0.67407425, 0.6733768 , 0.67268008, 0.67198407,\n",
       "       0.67128879, 0.67059422, 0.66990038, 0.66920725, 0.66851484,\n",
       "       0.66782314, 0.66713216, 0.6664419 , 0.66575235, 0.66506351,\n",
       "       0.66437539, 0.66368797, 0.66300127, 0.66231528, 0.66163   ,\n",
       "       0.66094543, 0.66026157, 0.65957841, 0.65889596, 0.65821422,\n",
       "       0.65753318, 0.65685285, 0.65617322, 0.65549429, 0.65481607,\n",
       "       0.65413855, 0.65346173, 0.65278561, 0.65211019, 0.65143547,\n",
       "       0.65076144, 0.65008812, 0.64941549, 0.64874355, 0.64807232,\n",
       "       0.64740177, 0.64673192, 0.64606277, 0.6453943 , 0.64472653,\n",
       "       0.64405945, 0.64339305, 0.64272735, 0.64206234, 0.64139801,\n",
       "       0.64073437, 0.64007142, 0.63940916, 0.63874758, 0.63808668,\n",
       "       0.63742647, 0.63676694, 0.63610809, 0.63544993, 0.63479245,\n",
       "       0.63413564, 0.63347952, 0.63282407, 0.63216931, 0.63151522,\n",
       "       0.6308618 , 0.63020907, 0.62955701, 0.62890562, 0.62825491,\n",
       "       0.62760487, 0.6269555 , 0.62630681, 0.62565878, 0.62501143,\n",
       "       0.62436475, 0.62371873, 0.62307339, 0.62242871, 0.6217847 ,\n",
       "       0.62114135, 0.62049867, 0.61985666, 0.61921531, 0.61857462,\n",
       "       0.6179346 , 0.61729524, 0.61665654, 0.6160185 , 0.61538112,\n",
       "       0.6147444 , 0.61410834, 0.61347294, 0.6128382 , 0.61220411,\n",
       "       0.61157068, 0.6109379 , 0.61030578, 0.60967431, 0.6090435 ,\n",
       "       0.60841334, 0.60778383, 0.60715497, 0.60652676, 0.6058992 ,\n",
       "       0.60527229, 0.60464603, 0.60402042, 0.60339546, 0.60277114,\n",
       "       0.60214747, 0.60152444, 0.60090206, 0.60028032, 0.59965923,\n",
       "       0.59903878, 0.59841897, 0.5977998 , 0.59718127, 0.59656338,\n",
       "       0.59594613, 0.59532952, 0.59471355, 0.59409821, 0.59348352,\n",
       "       0.59286945, 0.59225603, 0.59164323, 0.59103108, 0.59041955,\n",
       "       0.58980866, 0.5891984 , 0.58858877, 0.58797977, 0.58737141,\n",
       "       0.58676367, 0.58615656, 0.58555008, 0.58494422, 0.584339  ,\n",
       "       0.5837344 , 0.58313042, 0.58252707, 0.58192435, 0.58132224,\n",
       "       0.58072076, 0.58011991, 0.57951967, 0.57892006, 0.57832106,\n",
       "       0.57772269, 0.57712494, 0.5765278 , 0.57593128, 0.57533538,\n",
       "       0.57474009, 0.57414543, 0.57355137, 0.57295793, 0.57236511,\n",
       "       0.5717729 , 0.5711813 , 0.57059031, 0.56999994, 0.56941017,\n",
       "       0.56882102, 0.56823247, 0.56764454, 0.56705721, 0.56647049,\n",
       "       0.56588438, 0.56529887, 0.56471397, 0.56412968, 0.56354599,\n",
       "       0.5629629 , 0.56238042, 0.56179854, 0.56121726, 0.56063658,\n",
       "       0.5600565 , 0.55947703, 0.55889815, 0.55831987, 0.55774219,\n",
       "       0.55716511, 0.55658863, 0.55601274, 0.55543745, 0.55486275,\n",
       "       0.55428865, 0.55371514, 0.55314223, 0.5525699 , 0.55199817,\n",
       "       0.55142704, 0.55085649, 0.55028653, 0.54971716, 0.54914839,\n",
       "       0.5485802 , 0.54801259, 0.54744558, 0.54687915, 0.54631331,\n",
       "       0.54574805, 0.54518338, 0.54461929, 0.54405579, 0.54349287,\n",
       "       0.54293053, 0.54236878, 0.5418076 , 0.54124701, 0.54068699,\n",
       "       0.54012756, 0.5395687 , 0.53901042, 0.53845272, 0.5378956 ,\n",
       "       0.53733905, 0.53678308, 0.53622769, 0.53567287, 0.53511862,\n",
       "       0.53456494, 0.53401184, 0.53345932, 0.53290736, 0.53235597,\n",
       "       0.53180516, 0.53125491, 0.53070524, 0.53015613, 0.52960759,\n",
       "       0.52905962, 0.52851222, 0.52796538, 0.52741911, 0.5268734 ,\n",
       "       0.52632826, 0.52578368, 0.52523966, 0.52469621, 0.52415332,\n",
       "       0.52361099, 0.52306923, 0.52252802, 0.52198737, 0.52144729,\n",
       "       0.52090776, 0.52036879, 0.51983038, 0.51929252, 0.51875522,\n",
       "       0.51821848, 0.51768229, 0.51714666, 0.51661158, 0.51607706,\n",
       "       0.51554309, 0.51500967, 0.5144768 , 0.51394448, 0.51341272,\n",
       "       0.5128815 , 0.51235084, 0.51182072, 0.51129115, 0.51076213,\n",
       "       0.51023366, 0.50970574, 0.50917836, 0.50865152, 0.50812523,\n",
       "       0.50759949, 0.50707429, 0.50654963, 0.50602552, 0.50550195,\n",
       "       0.50497892, 0.50445643, 0.50393448, 0.50341307, 0.5028922 ,\n",
       "       0.50237187, 0.50185208, 0.50133283, 0.50081411, 0.50029593,\n",
       "       0.49977829, 0.49926118])"
      ]
     },
     "execution_count": 134,
     "metadata": {},
     "output_type": "execute_result"
    }
   ],
   "source": [
    "interes3"
   ]
  },
  {
   "cell_type": "code",
   "execution_count": 137,
   "metadata": {},
   "outputs": [
    {
     "data": {
      "text/plain": [
       "665    1494.91\n",
       "666    1509.86\n",
       "667    1509.86\n",
       "668    1509.86\n",
       "669    1509.86\n",
       "670    1509.86\n",
       "671    1509.86\n",
       "672    1509.86\n",
       "dtype: float64"
      ]
     },
     "execution_count": 137,
     "metadata": {},
     "output_type": "execute_result"
    }
   ],
   "source": [
    "var = np.roll(np.round(864.85*1.01**np.floor(np.arange(0,673) / 12 ), 2),-6)\n",
    "var[-6:] = var[-7]\n",
    "var[0] = 0\n",
    "var = pd.Series(var)\n",
    "var.tail(8)"
   ]
  },
  {
   "cell_type": "code",
   "execution_count": null,
   "metadata": {},
   "outputs": [],
   "source": []
  },
  {
   "cell_type": "code",
   "execution_count": null,
   "metadata": {},
   "outputs": [],
   "source": []
  },
  {
   "cell_type": "code",
   "execution_count": 61,
   "metadata": {},
   "outputs": [
    {
     "data": {
      "text/plain": [
       "7"
      ]
     },
     "execution_count": 61,
     "metadata": {},
     "output_type": "execute_result"
    }
   ],
   "source": [
    "int('06/07'.split('/')[1])  ## split meses"
   ]
  },
  {
   "cell_type": "code",
   "execution_count": 64,
   "metadata": {},
   "outputs": [
    {
     "data": {
      "text/plain": [
       "607"
      ]
     },
     "execution_count": 64,
     "metadata": {},
     "output_type": "execute_result"
    }
   ],
   "source": [
    "len(var)"
   ]
  }
 ],
 "metadata": {
  "kernelspec": {
   "display_name": "Python 3",
   "language": "python",
   "name": "python3"
  },
  "language_info": {
   "codemirror_mode": {
    "name": "ipython",
    "version": 3
   },
   "file_extension": ".py",
   "mimetype": "text/x-python",
   "name": "python",
   "nbconvert_exporter": "python",
   "pygments_lexer": "ipython3",
   "version": "3.8.1"
  }
 },
 "nbformat": 4,
 "nbformat_minor": 2
}
