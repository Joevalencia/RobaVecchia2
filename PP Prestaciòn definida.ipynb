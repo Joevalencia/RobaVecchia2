{
 "cells": [
  {
   "cell_type": "markdown",
   "metadata": {},
   "source": [
    "# Planes de pensiones y ALM"
   ]
  },
  {
   "cell_type": "code",
   "execution_count": 40,
   "metadata": {},
   "outputs": [],
   "source": [
    "import pandas as pd\n",
    "import numpy as np\n",
    "from datetime import datetime\n",
    "from pandas.core.common import SettingWithCopyWarning\n",
    "import warnings\n",
    "warnings.simplefilter(action=\"ignore\", category=SettingWithCopyWarning)"
   ]
  },
  {
   "cell_type": "code",
   "execution_count": 19,
   "metadata": {},
   "outputs": [
    {
     "data": {
      "text/plain": [
       "0    41513.41\n",
       "1    61051.31\n",
       "2    59574.12\n",
       "3    68962.86\n",
       "4    90885.18\n",
       "5    76325.31\n",
       "dtype: float64"
      ]
     },
     "execution_count": 19,
     "metadata": {},
     "output_type": "execute_result"
    }
   ],
   "source": [
    "sal = pd.Series(np.array([29066, 36483,58406,35173,46354,34567]))\n",
    "in1 = 1.02\n",
    "eda = np.array([46, 38, 63, 30, 30, 24])\n",
    "proyec = round(sal*(in1)**(65-1-eda), 2)\n",
    "pj = round(.25*proyec/12, 2)\n",
    "proyec"
   ]
  },
  {
   "cell_type": "code",
   "execution_count": 56,
   "metadata": {},
   "outputs": [],
   "source": [
    "def prestacion_definida(df, fecha_valoracion = '31/12/2021',  rvs = .015, rvp = .01,  h=12, margen_sol = .02,\n",
    "                        tipo_int= .0022, beta=.15, edad_jubilacion = 65):\n",
    "    def lx_participes():\n",
    "\n",
    "        raw1 = 'https://raw.githubusercontent.com/Joevalencia/Planes_pensione_ALM/main/Participes_aportacion.csv'\n",
    "        data1 = pd.read_csv(raw1).rename(columns = {'Antoni': 'Joan'})\n",
    "        raw2 = 'https://raw.githubusercontent.com/Joevalencia/Planes_pensione_ALM/main/approximation_planex.csv'\n",
    "        data2 = pd.read_csv(raw2).rename(columns = {'Antoni': 'Joan'})\n",
    "        del data1['Unnamed: 0']\n",
    "        del data2['Unnamed: 0']\n",
    "        return data1, data2\n",
    "\n",
    "    data1 = lx_participes()[0]\n",
    "    data2 = lx_participes()[1]\n",
    "    year = int(fecha_valoracion.split('/')[2])\n",
    "#     l1, l2 = [], []\n",
    "#     l3, l4 = [], []\n",
    "#     l5 = []\n",
    "#     participe = int(input('Ingresar el nùmero de participes del plan: '))\n",
    "#     for i in range(0, participe):\n",
    "        \n",
    "#         p1 = str(input(f'Poner el nombre del participe del Plan numero {i+1}: '))\n",
    "#         p2 = str(input(f'Ingresar la fecha de nacimiento {p1}: '))\n",
    "#         p3 = str(input(f'Ingresar la fecha de alta en la empresa de {p1}: '))\n",
    "#         p4 = float(input(f'Ingresar el salario pensionable 2021 de {p1}: '))\n",
    "#         p5 = str(input(f'Ingresar el Sexo de {p1}: '))\n",
    "#         print('='*55)\n",
    "#         l1.append(p1)\n",
    "#         l2.append(p2)\n",
    "#         l3.append(p3)\n",
    "#         l4.append(p4)\n",
    "#         l5.append(p5)\n",
    "\n",
    "    array1 = []\n",
    "    for i in range(0, len(df['Participe'])):\n",
    "        array1.append(int(df['Nacimiento'][i].split('/')[2]))\n",
    "\n",
    "    array2 = []\n",
    "    for i in range(0, len(df['Participe'])):\n",
    "        array2.append(int(df['Alta'][i].split('/')[2]))\n",
    "    an1 = [46, 38, 63, 30, 30, 24] ## edad actuarial  # AAA poner manualmente poner esto\n",
    "    an2 = [25, 37, 29, 26, 20, 23] ## edad entradad actuarial  # AAA poner manualmente esto\n",
    "    edad = [x-y for(x, y) in zip(array2, array1)] ## edad actuarial 2\n",
    "    r1 = 1+rvs  ## Revalorizaciòn salarios\n",
    "    r2 = 1+rvp  ## Revalorizaciòn pensiones \n",
    "    interes = (1+tipo_int)  ##interés\n",
    "    t1 = np.arange(0, (120-edad_jubilacion)*h)  ## mensilidad\n",
    "    interes2 = interes**(1/h)  ## fraccionamiento 1/h\n",
    "    interes3 = interes2**-t1  ## intereses mensuales\n",
    "    def variation_capital():\n",
    "        j = 'https://raw.githubusercontent.com/Joevalencia/Planes_pensione_ALM/main/variation6.csv'\n",
    "        ok = pd.read_csv(j)\n",
    "        k = 'https://raw.githubusercontent.com/Joevalencia/Planes_pensione_ALM/main/px_mens_participes.csv'\n",
    "        ok1 = pd.read_csv(k)\n",
    "        return ok, ok1\n",
    "    hello = variation_capital()\n",
    "    ok, ok1 = hello[0], hello[1]\n",
    "#     df = pd.DataFrame({'Participe':pd.Series(l1), 'Sexo': pd.Series(l5),'Nacimiento':pd.Series(l2), \n",
    "#                        'Alta':pd.Series(l3), 'Salario 2021':pd.Series(l4), \n",
    "#                       'Edad actuarial':pd.Series(an1), 'Edad entrada':pd.Series(an2)})\n",
    "\n",
    "    e1 = round(((pd.to_datetime(datos['Alta']) - pd.to_datetime(datos['Nacimiento']))/365.25)/np.timedelta64(1, 'D')) ## Edad E\n",
    "    fec_val= []\n",
    "    for i in range(0,6):\n",
    "        fec_val.append(fecha_valoracion)\n",
    "    fec_val = pd.Series(fec_val)\n",
    "    act_edad = round(((pd.to_datetime(fec_val) - pd.to_datetime(datos['Nacimiento']))/365.25)/np.timedelta64(1, 'D')) ## Edad A\n",
    "    df = df.join(pd.Series(act_edad, name='Edad actuarial'))\n",
    "    df = df.join(pd.Series(e1, name='Edad entrada'))\n",
    "    jubi2 = pd.to_numeric(df['Nacimiento'].str.split('/', expand=True)[2])+edad_jubilacion\n",
    "    df = df.join(pd.Series(jubi2, name='Jubilacion'))\n",
    "    proyec = round(df['Salario 2021']*(r1)**(edad_jubilacion-1-df['Edad actuarial']), 2)\n",
    "    pj = round(beta*proyec/12, 2)\n",
    "    df['Proyectado'] = proyec\n",
    "    df['Proyectado'][2] = datos['Salario 2021'][2]\n",
    "    \n",
    "    jubi3 = pd.to_numeric(df['Alta'].str.split('/', expand=True)[2])\n",
    "    df['PJ corriente'] = pj\n",
    "    df['PJ corriente'][2] = beta*df['Proyectado'][2]/12\n",
    "    joan1 = ok['Joan_var']*ok1['Joan']\n",
    "    pere1 = ok['Pere_var']*ok1['Pere']\n",
    "    marta1 = ok['Marta_var']*ok1['Marta']\n",
    "    claudia1 = ok['Claudia_var']*ok1['Claudia']\n",
    "    marc1 = ok['Marc_var']*ok1['Marc']\n",
    "    maria1 = ok['Maria_var']*ok1['Maria']\n",
    "    new_df = pd.DataFrame({'Joan_VAA':joan1*interes3, 'Pere_VAA':pere1*interes3, 'Marta_VAA':marta1*interes3,\n",
    "                           'Claudia_VAA':claudia1*interes3, 'Marc_VAA':marc1*interes3, 'Maria_VAA':maria1*interes3})\n",
    "    VAAs = pd.Series(new_df.sum().round(2).to_list(), name='VAAj')\n",
    "    \n",
    "    ## A la fecha actual 2021\n",
    "    VAA21_joan = round(VAAs[0]*((1+tipo_int)**-(edad_jubilacion-df['Edad actuarial'][0]))*(data1['Joan'][edad_jubilacion]/data1['Joan'][df['Edad actuarial'][0]]), 2)\n",
    "    VAA21_pere = round(VAAs[1]*((1+tipo_int)**-(edad_jubilacion-df['Edad actuarial'][1]))*(data1['Pere'][65]/data1['Pere'][40]), 2)\n",
    "    VAA21_marta = round(VAAs[2]*((1+tipo_int)**-(edad_jubilacion-df['Edad actuarial'][2]))*(data1['Marta'][65]/data1['Marta'][65]), 2)\n",
    "    VAA21_claudia = round(VAAs[3]*((1+tipo_int)**-(edad_jubilacion-df['Edad actuarial'][3]))*(data1['Claudia'][65]/data1['Claudia'][32]), 2)\n",
    "    VAA21_marc = round(VAAs[4]*((1+tipo_int)**-(edad_jubilacion-df['Edad actuarial'][4]))*(data1['Marc'][65]/data1['Marc'][32]), 2)\n",
    "    VAA21_maria = round(VAAs[5]*((1+tipo_int)**-(edad_jubilacion-df['Edad actuarial'][5]))*(data1['Maria'][65]/data1['Maria'][26]), 2)\n",
    "    vaas21 = pd.Series([VAA21_joan, VAA21_pere, VAA21_marta, VAA21_claudia, VAA21_marc, VAA21_maria])\n",
    "    \n",
    "    ## A la fecha de alta en la empresa\n",
    "    VAAp_joan = round(VAAs[0]*((1+tipo_int)**-(jubi2[0]-jubi3[0]+1))*(data1['Joan'][65]/data1['Joan'][25]), 2)\n",
    "    VAAp_pere = round(VAAs[1]*((1+tipo_int)**-(jubi2[1]-jubi3[1]+1))*(data1['Pere'][65]/data1['Pere'][37]), 2)\n",
    "    VAAp_marta = round(VAAs[2]*((1+tipo_int)**-(jubi2[2]-jubi3[2]+1))*(data1['Marta'][65]/data1['Marta'][29]), 2)\n",
    "    VAAp_claudia = round(VAAs[3]*((1+tipo_int)**-(jubi2[3]-jubi3[3]+1))*(data1['Claudia'][65]/data1['Claudia'][26]), 2)\n",
    "    VAAp_marc = round(VAAs[4]*((1+tipo_int)**-(jubi2[4]-jubi3[4]+1))*(data1['Marc'][65]/data1['Marc'][20]), 2)\n",
    "    VAAp_maria = round(VAAs[5]*((1+tipo_int)**-(jubi2[5]-jubi3[5]+1))*(data1['Maria'][65]/data1['Maria'][23]), 2)\n",
    "    vaas_p = pd.Series([VAAp_joan, VAAp_pere, VAAp_marta, VAAp_claudia, VAAp_marc, VAAp_maria])\n",
    "    \n",
    "    ## Coste normal Credito Unitario\n",
    "    jo1 = VAAs[0]*(1+tipo_int)**-(edad_jubilacion-np.arange(df['Edad entrada'][0], df['Edad actuarial'][0]+1))*(data1['Joan'][65]/data1['Joan'][np.arange(df['Edad entrada'][0], df['Edad actuarial'][0]+1)])\n",
    "    jo2 = VAAs[1]*(1+tipo_int)**-(edad_jubilacion-np.arange(df['Edad entrada'][1], df['Edad actuarial'][1]+1))*(data1['Pere'][65]/data1['Pere'][np.arange(df['Edad entrada'][1], df['Edad actuarial'][1]+1)])\n",
    "    jo3 = VAAs[2]*(1+tipo_int)**-(edad_jubilacion-np.arange(df['Edad entrada'][2], df['Edad actuarial'][2]+1))*(data1['Marta'][65]/data1['Marta'][np.arange(df['Edad entrada'][2], df['Edad actuarial'][2]+1)])\n",
    "    jo4 = VAAs[3]*(1+tipo_int)**-(edad_jubilacion-np.arange(df['Edad entrada'][3], df['Edad actuarial'][3]+1))*(data1['Claudia'][65]/data1['Claudia'][np.arange(df['Edad entrada'][3], df['Edad actuarial'][3]+1)])\n",
    "    jo5 = VAAs[4]*(1+tipo_int)**-(edad_jubilacion-np.arange(df['Edad entrada'][4], df['Edad actuarial'][4]+1))*(data1['Marc'][65]/data1['Marc'][np.arange(df['Edad entrada'][4], df['Edad actuarial'][4]+1)])\n",
    "    jo6 = VAAs[5]*(1+tipo_int)**-(edad_jubilacion-np.arange(df['Edad entrada'][5], df['Edad actuarial'][5]+1))*(data1['Maria'][65]/data1['Maria'][np.arange(df['Edad entrada'][5], df['Edad actuarial'][5]+1)])\n",
    "    CN_credito = pd.Series([jo1.iloc[-1]/(edad_jubilacion-df['Edad entrada'][0]), \n",
    "                            jo2.iloc[-1]/(edad_jubilacion-df['Edad entrada'][1]),\n",
    "                            jo3.iloc[-1]/(edad_jubilacion-df['Edad entrada'][2]),\n",
    "                            jo4.iloc[-1]/(edad_jubilacion-df['Edad entrada'][3]), \n",
    "                            jo5.iloc[-1]/(edad_jubilacion-df['Edad entrada'][4]), \n",
    "                            jo6.iloc[-1]/(edad_jubilacion-df['Edad entrada'][5])]).round(2)\n",
    "    VAASP_CU = pd.Series([  CN_credito[0]*(df['Edad actuarial'][0]-df['Edad entrada'][0]),\n",
    "                            CN_credito[1]*(df['Edad actuarial'][1]-df['Edad entrada'][1]),\n",
    "                            CN_credito[2]*(df['Edad actuarial'][2]-df['Edad entrada'][2]),\n",
    "                            CN_credito[3]*(df['Edad actuarial'][3]-df['Edad entrada'][3]),\n",
    "                            CN_credito[4]*(df['Edad actuarial'][4]-df['Edad entrada'][4]),\n",
    "                            CN_credito[5]*(df['Edad actuarial'][5]-df['Edad entrada'][5])])\n",
    "    ## Margen de solvencia \n",
    "    margen_CU = VAASP_CU*margen_sol\n",
    "    \n",
    "    ## dataframe Credito Unitario\n",
    "    CU = pd.DataFrame({'VAAj':VAAs,'VAA 31/12/2021': vaas21, 'Alta Firm':vaas_p,\n",
    "                       'CN 31/12/2021':CN_credito, 'VAASP 31/12/2021':VAASP_CU, 'Margen':margen_CU})\n",
    "    CU.index = df['Participe'].to_list()\n",
    "    \n",
    "    ## Edad de entrada -Coste Normal\n",
    "    tiempo1 = np.arange(0, (df['Edad actuarial'][0]-df['Edad entrada'][0]))\n",
    "    jo_1 = vaas_p[0]/sum(((1+rvs)**tiempo1*(1+tipo_int)**-(tiempo1))*(data1['Joan'][np.arange(df['Edad entrada'][0],\n",
    "                                                                                  df['Edad actuarial'][0])]/data1['Joan'][df['Edad entrada'][0]]))\n",
    "    tiempo2 = np.arange(0, (df['Edad actuarial'][1]-df['Edad entrada'][1]))\n",
    "    jo_2 = vaas_p[1]/sum(((1+rvs)**tiempo2*(1+tipo_int)**-(tiempo2))*(data1['Pere'][np.arange(df['Edad entrada'][1],\n",
    "                                                                                  df['Edad actuarial'][1])]/data1['Pere'][df['Edad entrada'][1]]))\n",
    "    tiempo3 = np.arange(0, (df['Edad actuarial'][2]-df['Edad entrada'][2]))\n",
    "    jo_3 = vaas_p[2]/sum(((1+rvs)**tiempo3*(1+tipo_int)**-(tiempo3))*(data1['Marta'][np.arange(df['Edad entrada'][2],\n",
    "                                                                                  df['Edad actuarial'][2])]/data1['Claudia'][df['Edad entrada'][2]]))\n",
    "    tiempo4 = np.arange(0, (df['Edad actuarial'][3]-df['Edad entrada'][3]))\n",
    "    jo_4 = vaas_p[3]/sum(((1+rvs)**tiempo4*(1+tipo_int)**-(tiempo4))*(data1['Claudia'][np.arange(df['Edad entrada'][3],\n",
    "                                                                                  df['Edad actuarial'][3])]/data1['Marta'][df['Edad entrada'][3]]))\n",
    "    tiempo5 = np.arange(0, (df['Edad actuarial'][4]-df['Edad entrada'][4]))\n",
    "    jo_5 = vaas_p[4]/sum(((1+rvs)**tiempo5*(1+tipo_int)**-(tiempo5))*(data1['Marc'][np.arange(df['Edad entrada'][4],\n",
    "                                                                                  df['Edad actuarial'][4])]/data1['Marc'][df['Edad entrada'][4]]))\n",
    "    tiempo6 = np.arange(0, (df['Edad actuarial'][5]-df['Edad entrada'][5]))\n",
    "    jo_6 = vaas_p[5]/sum(((1+rvs)**tiempo6*(1+tipo_int)**-(tiempo6))*(data1['Maria'][np.arange(df['Edad entrada'][5],\n",
    "                                                                                  df['Edad actuarial'][5])]/data1['Maria'][df['Edad entrada'][5]]))\n",
    "    CN_EE = pd.Series([jo_1,jo_2,jo_3,jo_4,jo_5,jo_6 ])\n",
    "    print('='*75)\n",
    "    print('Hipotesis')\n",
    "    print(f'Interés técnico valoración: {tipo_int*100}%')\n",
    "    print(f'Revalorizaciòn Salario: {rvs*100}%')\n",
    "    print(f'Revalorización Pensión: {rvp*100}%')\n",
    "    print(f'Beta Pension: {beta}')\n",
    "    print('='*75)\n",
    "    print(df.set_index('Participe').T)\n",
    "    print('='*75)\n",
    "    print('Credito Unitario')\n",
    "    print(round(CU.T, 2))\n",
    "    print('='*75)\n",
    "    print(round(CN_EE, 2))\n",
    "    #abc = ((1+rvs)**tiempo6*(1+tipo_int)**-(tiempo6))*(data1['Maria'][np.arange(df['Edad entrada'][5],\n",
    "     #                                                                             df['Edad actuarial'][5])]/data1['Maria'][df['Edad entrada'][5]])\n",
    "    #return abc\n",
    "    #return VAASP_CU, CN_credito\n",
    "    "
   ]
  },
  {
   "cell_type": "code",
   "execution_count": 32,
   "metadata": {},
   "outputs": [
    {
     "data": {
      "text/html": [
       "<div>\n",
       "<style scoped>\n",
       "    .dataframe tbody tr th:only-of-type {\n",
       "        vertical-align: middle;\n",
       "    }\n",
       "\n",
       "    .dataframe tbody tr th {\n",
       "        vertical-align: top;\n",
       "    }\n",
       "\n",
       "    .dataframe thead th {\n",
       "        text-align: right;\n",
       "    }\n",
       "</style>\n",
       "<table border=\"1\" class=\"dataframe\">\n",
       "  <thead>\n",
       "    <tr style=\"text-align: right;\">\n",
       "      <th></th>\n",
       "      <th>Participe</th>\n",
       "      <th>Nacimiento</th>\n",
       "      <th>Alta</th>\n",
       "      <th>Salario 2021</th>\n",
       "    </tr>\n",
       "  </thead>\n",
       "  <tbody>\n",
       "    <tr>\n",
       "      <th>0</th>\n",
       "      <td>Joan</td>\n",
       "      <td>06/07/1973</td>\n",
       "      <td>15/02/1998</td>\n",
       "      <td>29944</td>\n",
       "    </tr>\n",
       "    <tr>\n",
       "      <th>1</th>\n",
       "      <td>Pere</td>\n",
       "      <td>03/12/1981</td>\n",
       "      <td>08/03/2019</td>\n",
       "      <td>37586</td>\n",
       "    </tr>\n",
       "    <tr>\n",
       "      <th>2</th>\n",
       "      <td>Marta</td>\n",
       "      <td>06/03/1957</td>\n",
       "      <td>01/09/1985</td>\n",
       "      <td>60172</td>\n",
       "    </tr>\n",
       "    <tr>\n",
       "      <th>3</th>\n",
       "      <td>Claudia</td>\n",
       "      <td>09/11/1989</td>\n",
       "      <td>09/10/2015</td>\n",
       "      <td>36236</td>\n",
       "    </tr>\n",
       "    <tr>\n",
       "      <th>4</th>\n",
       "      <td>Marc</td>\n",
       "      <td>10/07/1990</td>\n",
       "      <td>01/10/2010</td>\n",
       "      <td>47755</td>\n",
       "    </tr>\n",
       "    <tr>\n",
       "      <th>5</th>\n",
       "      <td>Maria</td>\n",
       "      <td>11/09/1995</td>\n",
       "      <td>08/08/2018</td>\n",
       "      <td>35612</td>\n",
       "    </tr>\n",
       "  </tbody>\n",
       "</table>\n",
       "</div>"
      ],
      "text/plain": [
       "  Participe  Nacimiento        Alta  Salario 2021\n",
       "0      Joan  06/07/1973  15/02/1998         29944\n",
       "1      Pere  03/12/1981  08/03/2019         37586\n",
       "2     Marta  06/03/1957  01/09/1985         60172\n",
       "3   Claudia  09/11/1989  09/10/2015         36236\n",
       "4      Marc  10/07/1990  01/10/2010         47755\n",
       "5     Maria  11/09/1995  08/08/2018         35612"
      ]
     },
     "execution_count": 32,
     "metadata": {},
     "output_type": "execute_result"
    }
   ],
   "source": [
    "datos = pd.DataFrame({'Participe':['Joan', 'Pere', 'Marta', 'Claudia', 'Marc', 'Maria'], \n",
    "                     'Nacimiento':['06/07/1973', '03/12/1981', '06/03/1957','09/11/1989','10/07/1990',\n",
    "                                  '11/09/1995'],\n",
    "                     'Alta':['15/02/1998','08/03/2019','01/09/1985','09/10/2015','01/10/2010',\n",
    "                            '08/08/2018'],\n",
    "                     'Salario 2021':[29944, 37586, 60172, 36236, 47755, 35612]})\n",
    "datos"
   ]
  },
  {
   "cell_type": "code",
   "execution_count": 6,
   "metadata": {},
   "outputs": [
    {
     "data": {
      "text/plain": [
       "4680.726638398424"
      ]
     },
     "execution_count": 6,
     "metadata": {},
     "output_type": "execute_result"
    }
   ],
   "source": [
    "126016/sum(1.01**np.arange(0, (47-19))*1.0125**-(np.arange(0, (47-19)))*data1['Antoni'][np.arange(19, 47)]/data1['Antoni'][19])"
   ]
  },
  {
   "cell_type": "code",
   "execution_count": null,
   "metadata": {},
   "outputs": [],
   "source": []
  },
  {
   "cell_type": "code",
   "execution_count": 42,
   "metadata": {},
   "outputs": [
    {
     "name": "stdout",
     "output_type": "stream",
     "text": [
      "===========================================================================\n",
      "Hipotesis\n",
      "Interés técnico valoración: 0.22%\n",
      "Revalorizaciòn Salario: 1.5%\n",
      "Revalorización Pensión: 1.0%\n",
      "Beta Pension: 0.15\n",
      "===========================================================================\n",
      "Participe             Joan        Pere       Marta     Claudia        Marc  \\\n",
      "Nacimiento      06/07/1973  03/12/1981  06/03/1957  09/11/1989  10/07/1990   \n",
      "Alta            15/02/1998  08/03/2019  01/09/1985  09/10/2015  01/10/2010   \n",
      "Salario 2021         29944       37586       60172       36236       47755   \n",
      "Edad actuarial        49.0        41.0        65.0        32.0        31.0   \n",
      "Edad entrada          25.0        38.0        28.0        26.0        19.0   \n",
      "Jubilacion            2038        2046        2022        2054        2055   \n",
      "Proyectado        37436.95    52935.26     60172.0    58351.71    78054.55   \n",
      "PJ corriente        467.96      661.69      752.15       729.4      975.68   \n",
      "\n",
      "Participe            Maria  \n",
      "Nacimiento      11/09/1995  \n",
      "Alta            08/08/2018  \n",
      "Salario 2021         35612  \n",
      "Edad actuarial        26.0  \n",
      "Edad entrada          23.0  \n",
      "Jubilacion            2060  \n",
      "Proyectado        62705.55  \n",
      "PJ corriente        783.82  \n",
      "===========================================================================\n",
      "Credito Unitario\n",
      "                         Joan        Pere        Marta      Claudia  \\\n",
      "VAAj              331204.3200  506425.540  504630.8800  662365.1900   \n",
      "VAA 31/12/2021    306662.6100  459247.070  502417.8100  602608.2500   \n",
      "Alta Firm         286089.5200  456721.570  445222.6500  594319.1000   \n",
      "CN 31/12/2021       7666.5700   17091.350   13638.6700   15485.4900   \n",
      "VAASP 31/12/2021  183997.6800   51274.050  504630.7900   92912.9400   \n",
      "Margen              3679.9536    1025.481   10092.6158    1858.2588   \n",
      "\n",
      "                       Marc        Maria  \n",
      "VAAj              777269.07  744037.5600  \n",
      "VAA 31/12/2021    695323.77  669330.1000  \n",
      "Alta Firm         676905.38  664756.8200  \n",
      "CN 31/12/2021      15145.75   15971.4900  \n",
      "VAASP 31/12/2021  181749.00   47914.4700  \n",
      "Margen              3634.98     958.2894  \n",
      "===========================================================================\n",
      "0     10322.299080\n",
      "1    150370.086305\n",
      "2      9832.391764\n",
      "3     94016.064916\n",
      "4     52621.427833\n",
      "5    218799.023007\n",
      "dtype: float64\n"
     ]
    }
   ],
   "source": [
    "prestacion_definida(datos)"
   ]
  },
  {
   "cell_type": "code",
   "execution_count": 49,
   "metadata": {},
   "outputs": [
    {
     "data": {
      "text/plain": [
       "0         0.00\n",
       "1       783.82\n",
       "2       783.82\n",
       "3       783.82\n",
       "4       795.58\n",
       "        ...   \n",
       "655    1751.39\n",
       "656    1751.39\n",
       "657    1751.39\n",
       "658    1751.39\n",
       "659    1751.39\n",
       "Length: 660, dtype: float64"
      ]
     },
     "execution_count": 49,
     "metadata": {},
     "output_type": "execute_result"
    }
   ],
   "source": [
    "var = np.roll(np.round(783.82*1.015**np.floor(np.arange(0,660) / 12 ), 2),-8)\n",
    "var[-8:] = var[-9]\n",
    "var[0] = 0\n",
    "var_m3 = pd.Series(var)\n",
    "var_m3"
   ]
  },
  {
   "cell_type": "code",
   "execution_count": 51,
   "metadata": {},
   "outputs": [],
   "source": [
    "dt1 = pd.DataFrame({'Joan_var':var_jo, 'Pere_var':var_pe, 'Marta_var':var_m1, 'Claudia_var':var_cl, 'Marc_var':var_m2,\n",
    "                   'Maria_var':var_m3})\n",
    "dt1.to_csv('variation6.csv')"
   ]
  },
  {
   "cell_type": "code",
   "execution_count": 28,
   "metadata": {},
   "outputs": [
    {
     "data": {
      "text/plain": [
       "0         0.00\n",
       "1       467.96\n",
       "2       467.96\n",
       "3       467.96\n",
       "4       467.96\n",
       "        ...   \n",
       "655    1363.38\n",
       "656    1363.38\n",
       "657    1363.38\n",
       "658    1363.38\n",
       "659    1363.38\n",
       "Length: 660, dtype: float64"
      ]
     },
     "execution_count": 28,
     "metadata": {},
     "output_type": "execute_result"
    }
   ],
   "source": [
    "var = np.roll(np.round(r2[0]*1.02**np.floor(np.arange(0,660) / 12 ), 2),-(r1[0]-1))\n",
    "var[-(r1[0]-1):] = var[-(r1[0])]\n",
    "var[0] = 0\n",
    "var = pd.Series(var)\n",
    "var"
   ]
  },
  {
   "cell_type": "code",
   "execution_count": 27,
   "metadata": {},
   "outputs": [
    {
     "data": {
      "text/plain": [
       "0        0.00\n",
       "1      467.96\n",
       "2      467.96\n",
       "3      467.96\n",
       "4      467.96\n",
       "        ...  \n",
       "655    800.87\n",
       "656    800.87\n",
       "657    800.87\n",
       "658    800.87\n",
       "659    800.87\n",
       "Length: 660, dtype: float64"
      ]
     },
     "execution_count": 27,
     "metadata": {},
     "output_type": "execute_result"
    }
   ],
   "source": [
    "var = np.roll(np.round(467.96*1.01**np.floor(np.arange(0,660) / 12 ), 2),-6)\n",
    "var[-6:] = var[-7]\n",
    "var[0] = 0\n",
    "var = pd.Series(var)\n",
    "var"
   ]
  },
  {
   "cell_type": "code",
   "execution_count": null,
   "metadata": {},
   "outputs": [],
   "source": []
  },
  {
   "cell_type": "code",
   "execution_count": 55,
   "metadata": {},
   "outputs": [
    {
     "name": "stdout",
     "output_type": "stream",
     "text": [
      "===========================================================================\n",
      "Hipotesis\n",
      "Interés técnico valoración: 0.22%\n",
      "Revalorizaciòn Salario: 1.5%\n",
      "Revalorización Pensión: 1.0%\n",
      "Beta Pension: 0.15\n",
      "===========================================================================\n",
      "Participe             Joan        Pere       Marta     Claudia        Marc  \\\n",
      "Nacimiento      06/07/1973  03/12/1981  06/03/1957  09/11/1989  10/07/1990   \n",
      "Alta            15/02/1998  08/03/2019  01/09/1985  09/10/2015  01/10/2010   \n",
      "Salario 2021         29944       37586       60172       36236       47755   \n",
      "Edad actuarial        49.0        41.0        65.0        32.0        31.0   \n",
      "Edad entrada          25.0        38.0        28.0        26.0        19.0   \n",
      "Jubilacion            2038        2046        2022        2054        2055   \n",
      "Proyectado        37436.95    52935.26     60172.0    58351.71    78054.55   \n",
      "PJ corriente        467.96      661.69      752.15       729.4      975.68   \n",
      "\n",
      "Participe            Maria  \n",
      "Nacimiento      11/09/1995  \n",
      "Alta            08/08/2018  \n",
      "Salario 2021         35612  \n",
      "Edad actuarial        26.0  \n",
      "Edad entrada          23.0  \n",
      "Jubilacion            2060  \n",
      "Proyectado        62705.55  \n",
      "PJ corriente        783.82  \n",
      "===========================================================================\n",
      "Credito Unitario\n",
      "                       Joan       Pere      Marta    Claudia       Marc  \\\n",
      "VAAj              188517.60  278196.98  322348.83  357972.95  422803.25   \n",
      "VAA 31/12/2021    174548.75  252280.22  320935.16  325677.52  378228.29   \n",
      "Alta Firm         162838.79  250892.88  284399.95  321197.68  368209.42   \n",
      "CN 31/12/2021       4363.72    9388.87    8712.13    8369.08    8238.68   \n",
      "VAASP 31/12/2021  104729.28   28166.61  322348.81   50214.48   98864.16   \n",
      "Margen              2094.59     563.33    6446.98    1004.29    1977.28   \n",
      "\n",
      "                      Maria  \n",
      "VAAj              390488.14  \n",
      "VAA 31/12/2021    351279.94  \n",
      "Alta Firm         348879.77  \n",
      "CN 31/12/2021       8382.21  \n",
      "VAASP 31/12/2021   25146.63  \n",
      "Margen               502.93  \n",
      "===========================================================================\n",
      "0      5875.33\n",
      "1     82603.46\n",
      "2      6280.75\n",
      "3     50810.65\n",
      "4     28623.95\n",
      "5    114830.79\n",
      "dtype: float64\n"
     ]
    }
   ],
   "source": [
    "prestacion_definida(datos)"
   ]
  },
  {
   "cell_type": "code",
   "execution_count": 57,
   "metadata": {},
   "outputs": [
    {
     "name": "stdout",
     "output_type": "stream",
     "text": [
      "===========================================================================\n",
      "Hipotesis\n",
      "Interés técnico valoración: 0.22%\n",
      "Revalorizaciòn Salario: 1.5%\n",
      "Revalorización Pensión: 1.0%\n",
      "Beta Pension: 0.15\n",
      "===========================================================================\n",
      "Participe             Joan        Pere       Marta     Claudia        Marc  \\\n",
      "Nacimiento      06/07/1973  03/12/1981  06/03/1957  09/11/1989  10/07/1990   \n",
      "Alta            15/02/1998  08/03/2019  01/09/1985  09/10/2015  01/10/2010   \n",
      "Salario 2021         29944       37586       60172       36236       47755   \n",
      "Edad actuarial        49.0        41.0        65.0        32.0        31.0   \n",
      "Edad entrada          25.0        38.0        28.0        26.0        19.0   \n",
      "Jubilacion            2038        2046        2022        2054        2055   \n",
      "Proyectado        37436.95    52935.26     60172.0    58351.71    78054.55   \n",
      "PJ corriente        467.96      661.69      752.15       729.4      975.68   \n",
      "\n",
      "Participe            Maria  \n",
      "Nacimiento      11/09/1995  \n",
      "Alta            08/08/2018  \n",
      "Salario 2021         35612  \n",
      "Edad actuarial        26.0  \n",
      "Edad entrada          23.0  \n",
      "Jubilacion            2060  \n",
      "Proyectado        62705.55  \n",
      "PJ corriente        783.82  \n",
      "===========================================================================\n",
      "Credito Unitario\n",
      "                       Joan       Pere      Marta    Claudia       Marc  \\\n",
      "VAAj              188517.60  278196.98  322348.83  357972.95  422803.25   \n",
      "VAA 31/12/2021    174548.75  253391.48  322348.83  326394.01  379060.39   \n",
      "Alta Firm         162838.79  250892.88  284399.95  321197.68  368209.42   \n",
      "CN 31/12/2021       4363.72    9388.87    8712.13    8369.08    8238.68   \n",
      "VAASP 31/12/2021  104729.28   28166.61  322348.81   50214.48   98864.16   \n",
      "Margen              2094.59     563.33    6446.98    1004.29    1977.28   \n",
      "\n",
      "                      Maria  \n",
      "VAAj              390488.14  \n",
      "VAA 31/12/2021    352052.75  \n",
      "Alta Firm         348879.77  \n",
      "CN 31/12/2021       8382.21  \n",
      "VAASP 31/12/2021   25146.63  \n",
      "Margen               502.93  \n",
      "===========================================================================\n",
      "0      5875.33\n",
      "1     82603.46\n",
      "2      6280.75\n",
      "3     50810.65\n",
      "4     28623.95\n",
      "5    114830.79\n",
      "dtype: float64\n"
     ]
    }
   ],
   "source": [
    "prestacion_definida(datos)"
   ]
  },
  {
   "cell_type": "code",
   "execution_count": 66,
   "metadata": {},
   "outputs": [
    {
     "data": {
      "text/plain": [
       "25"
      ]
     },
     "execution_count": 66,
     "metadata": {},
     "output_type": "execute_result"
    }
   ],
   "source": [
    "int(round(((pd.to_datetime(datos['Alta']) - pd.to_datetime(datos['Nacimiento']))/365.25)/np.timedelta64(1, 'D'))[0])"
   ]
  },
  {
   "cell_type": "code",
   "execution_count": 44,
   "metadata": {},
   "outputs": [
    {
     "data": {
      "text/plain": [
       "0    49.0\n",
       "1    41.0\n",
       "2    65.0\n",
       "3    32.0\n",
       "4    31.0\n",
       "5    26.0\n",
       "dtype: float64"
      ]
     },
     "execution_count": 44,
     "metadata": {},
     "output_type": "execute_result"
    }
   ],
   "source": [
    "fec_val= []\n",
    "for i in range(0,6):\n",
    "    fec_val.append('31/12/2021')\n",
    "fec_val = pd.Series(fec_val)\n",
    "round(((pd.to_datetime(fec_val) - pd.to_datetime(datos['Nacimiento']))/365.25)/np.timedelta64(1, 'D'))"
   ]
  },
  {
   "cell_type": "code",
   "execution_count": null,
   "metadata": {},
   "outputs": [],
   "source": []
  },
  {
   "cell_type": "code",
   "execution_count": null,
   "metadata": {},
   "outputs": [],
   "source": []
  },
  {
   "cell_type": "code",
   "execution_count": 46,
   "metadata": {},
   "outputs": [
    {
     "data": {
      "text/plain": [
       "213369.12"
      ]
     },
     "execution_count": 46,
     "metadata": {},
     "output_type": "execute_result"
    }
   ],
   "source": [
    "round(p1,2).iloc[-1]"
   ]
  },
  {
   "cell_type": "code",
   "execution_count": 6,
   "metadata": {},
   "outputs": [
    {
     "data": {
      "text/plain": [
       "0    41513.41\n",
       "dtype: float64"
      ]
     },
     "execution_count": 6,
     "metadata": {},
     "output_type": "execute_result"
    }
   ],
   "source": [
    "np.round(d1['Salario 2021']*r1**(65-1-d1['Edad actuarial']), 2)"
   ]
  },
  {
   "cell_type": "code",
   "execution_count": 76,
   "metadata": {},
   "outputs": [],
   "source": [
    "array1 = []\n",
    "for i in range(0, 3):\n",
    "    array1.append(int(l2[i].split('/')[2]))"
   ]
  },
  {
   "cell_type": "code",
   "execution_count": 77,
   "metadata": {},
   "outputs": [
    {
     "data": {
      "text/plain": [
       "[1973, 1989, 1995]"
      ]
     },
     "execution_count": 77,
     "metadata": {},
     "output_type": "execute_result"
    }
   ],
   "source": [
    "array1"
   ]
  },
  {
   "cell_type": "code",
   "execution_count": 78,
   "metadata": {},
   "outputs": [],
   "source": [
    "array2 = []\n",
    "for i in range(0, 3):\n",
    "    array2.append(int(l3[i].split('/')[2]))"
   ]
  },
  {
   "cell_type": "code",
   "execution_count": 81,
   "metadata": {},
   "outputs": [
    {
     "data": {
      "text/plain": [
       "[19, 21, 24]"
      ]
     },
     "execution_count": 81,
     "metadata": {},
     "output_type": "execute_result"
    }
   ],
   "source": [
    "[x-y for(x, y) in zip(array2, array1)]"
   ]
  },
  {
   "cell_type": "code",
   "execution_count": 38,
   "metadata": {},
   "outputs": [
    {
     "data": {
      "text/plain": [
       "0   2000-03-11\n",
       "1   2000-03-12\n",
       "2   2000-03-13\n",
       "dtype: datetime64[ns]"
      ]
     },
     "execution_count": 38,
     "metadata": {},
     "output_type": "execute_result"
    }
   ],
   "source": [
    "pd.to_datetime(s, infer_datetime_format=True) "
   ]
  },
  {
   "cell_type": "code",
   "execution_count": null,
   "metadata": {},
   "outputs": [],
   "source": []
  },
  {
   "cell_type": "code",
   "execution_count": null,
   "metadata": {},
   "outputs": [],
   "source": []
  },
  {
   "cell_type": "markdown",
   "metadata": {},
   "source": [
    "# Planes de pensiones\n",
    "\n",
    "### Aportaciò definida"
   ]
  },
  {
   "cell_type": "code",
   "execution_count": 102,
   "metadata": {},
   "outputs": [
    {
     "data": {
      "text/plain": [
       "660"
      ]
     },
     "execution_count": 102,
     "metadata": {},
     "output_type": "execute_result"
    }
   ],
   "source": [
    "t1 = np.arange(0, 660)  ## mensilidad\n",
    "interes = 1.0125  # Interes (1+interes)\n",
    "interes2 = interes**(1/12)  ## fraccionamiento 1/h\n",
    "interes3 = interes2**-t1\n",
    "len(interes3)  # factor financiero"
   ]
  },
  {
   "cell_type": "code",
   "execution_count": 58,
   "metadata": {},
   "outputs": [
    {
     "data": {
      "text/plain": [
       "660"
      ]
     },
     "execution_count": 58,
     "metadata": {},
     "output_type": "execute_result"
    }
   ],
   "source": [
    "55*12"
   ]
  },
  {
   "cell_type": "code",
   "execution_count": 2,
   "metadata": {},
   "outputs": [],
   "source": [
    "raw1 = 'https://raw.githubusercontent.com/Joevalencia/Planes_pensione_ALM/main/Participes_aportacion.csv'\n",
    "data1 = pd.read_csv(raw1)\n",
    "raw2 = 'https://raw.githubusercontent.com/Joevalencia/Planes_pensione_ALM/main/approximation_planex.csv'\n",
    "data2 = pd.read_csv(raw2)\n",
    "del data1['Unnamed: 0']\n",
    "del data2['Unnamed: 0']"
   ]
  },
  {
   "cell_type": "code",
   "execution_count": 13,
   "metadata": {},
   "outputs": [
    {
     "data": {
      "text/html": [
       "<div>\n",
       "<style scoped>\n",
       "    .dataframe tbody tr th:only-of-type {\n",
       "        vertical-align: middle;\n",
       "    }\n",
       "\n",
       "    .dataframe tbody tr th {\n",
       "        vertical-align: top;\n",
       "    }\n",
       "\n",
       "    .dataframe thead th {\n",
       "        text-align: right;\n",
       "    }\n",
       "</style>\n",
       "<table border=\"1\" class=\"dataframe\">\n",
       "  <thead>\n",
       "    <tr style=\"text-align: right;\">\n",
       "      <th></th>\n",
       "      <th>Antoni</th>\n",
       "      <th>Pere</th>\n",
       "      <th>Marta</th>\n",
       "      <th>Claudia</th>\n",
       "      <th>Marc</th>\n",
       "      <th>Maria</th>\n",
       "    </tr>\n",
       "  </thead>\n",
       "  <tbody>\n",
       "    <tr>\n",
       "      <th>0</th>\n",
       "      <td>1000000.0</td>\n",
       "      <td>1000000.0</td>\n",
       "      <td>1000000.0</td>\n",
       "      <td>1000000.0</td>\n",
       "      <td>1000000.0</td>\n",
       "      <td>1000000.0</td>\n",
       "    </tr>\n",
       "    <tr>\n",
       "      <th>1</th>\n",
       "      <td>999215.1</td>\n",
       "      <td>999430.1</td>\n",
       "      <td>998523.0</td>\n",
       "      <td>999589.3</td>\n",
       "      <td>999602.4</td>\n",
       "      <td>999677.0</td>\n",
       "    </tr>\n",
       "    <tr>\n",
       "      <th>2</th>\n",
       "      <td>998430.2</td>\n",
       "      <td>998860.1</td>\n",
       "      <td>997046.1</td>\n",
       "      <td>999178.7</td>\n",
       "      <td>999204.7</td>\n",
       "      <td>999353.9</td>\n",
       "    </tr>\n",
       "    <tr>\n",
       "      <th>3</th>\n",
       "      <td>997645.4</td>\n",
       "      <td>998290.2</td>\n",
       "      <td>995569.1</td>\n",
       "      <td>998768.0</td>\n",
       "      <td>998807.1</td>\n",
       "      <td>999030.9</td>\n",
       "    </tr>\n",
       "    <tr>\n",
       "      <th>4</th>\n",
       "      <td>996860.5</td>\n",
       "      <td>997720.2</td>\n",
       "      <td>994092.1</td>\n",
       "      <td>998357.4</td>\n",
       "      <td>998409.5</td>\n",
       "      <td>998707.9</td>\n",
       "    </tr>\n",
       "  </tbody>\n",
       "</table>\n",
       "</div>"
      ],
      "text/plain": [
       "      Antoni       Pere      Marta    Claudia       Marc      Maria\n",
       "0  1000000.0  1000000.0  1000000.0  1000000.0  1000000.0  1000000.0\n",
       "1   999215.1   999430.1   998523.0   999589.3   999602.4   999677.0\n",
       "2   998430.2   998860.1   997046.1   999178.7   999204.7   999353.9\n",
       "3   997645.4   998290.2   995569.1   998768.0   998807.1   999030.9\n",
       "4   996860.5   997720.2   994092.1   998357.4   998409.5   998707.9"
      ]
     },
     "execution_count": 13,
     "metadata": {},
     "output_type": "execute_result"
    }
   ],
   "source": [
    "data2.head()"
   ]
  },
  {
   "cell_type": "code",
   "execution_count": 59,
   "metadata": {},
   "outputs": [
    {
     "data": {
      "text/plain": [
       "0.9590366479652812"
      ]
     },
     "execution_count": 59,
     "metadata": {},
     "output_type": "execute_result"
    }
   ],
   "source": [
    "data1.Antoni[65]/data1.Antoni[49]"
   ]
  },
  {
   "cell_type": "code",
   "execution_count": 16,
   "metadata": {},
   "outputs": [
    {
     "data": {
      "text/plain": [
       "929171.0"
      ]
     },
     "execution_count": 16,
     "metadata": {},
     "output_type": "execute_result"
    }
   ],
   "source": [
    "data2.Antoni[65*12]"
   ]
  },
  {
   "cell_type": "code",
   "execution_count": 92,
   "metadata": {},
   "outputs": [],
   "source": [
    "px = (ok1.iloc[65*12+1:]/ok1.iloc[65*12]).reset_index()  ## Matriz de px mensuales Participes\n",
    "px.to_csv('px_mens_participes.csv')"
   ]
  },
  {
   "cell_type": "code",
   "execution_count": 42,
   "metadata": {},
   "outputs": [
    {
     "data": {
      "text/plain": [
       "890.99"
      ]
     },
     "execution_count": 42,
     "metadata": {},
     "output_type": "execute_result"
    }
   ],
   "source": []
  },
  {
   "cell_type": "code",
   "execution_count": null,
   "metadata": {},
   "outputs": [],
   "source": [
    "f = ['m', 'n']\n",
    "for i in f:\n",
    "    var = np.roll(np.round(b1['PJ corriente'][i]*1.01**np.floor(np.arange(0,660) / 12 ), 2),-6)\n",
    "    var[-6:] = var[-7]\n",
    "    var[0] = 0\n",
    "    var = pd.Series(var)"
   ]
  },
  {
   "cell_type": "code",
   "execution_count": null,
   "metadata": {},
   "outputs": [],
   "source": []
  },
  {
   "cell_type": "code",
   "execution_count": 61,
   "metadata": {},
   "outputs": [
    {
     "data": {
      "text/plain": [
       "0         0.00\n",
       "1      1638.18\n",
       "2      1638.18\n",
       "3      1638.18\n",
       "4      1654.56\n",
       "        ...   \n",
       "655    2803.60\n",
       "656    2803.60\n",
       "657    2803.60\n",
       "658    2803.60\n",
       "659    2803.60\n",
       "Length: 660, dtype: float64"
      ]
     },
     "execution_count": 61,
     "metadata": {},
     "output_type": "execute_result"
    }
   ],
   "source": [
    "var = np.roll(np.round(b1['PJ corriente'][5]*1.01**np.floor(np.arange(0,660) / 12 ), 2),-8)\n",
    "var[-8:] = var[-9]\n",
    "var[0] = 0\n",
    "var_Maria = pd.Series(var)\n",
    "var_Maria"
   ]
  },
  {
   "cell_type": "code",
   "execution_count": 65,
   "metadata": {},
   "outputs": [
    {
     "data": {
      "text/html": [
       "<div>\n",
       "<style scoped>\n",
       "    .dataframe tbody tr th:only-of-type {\n",
       "        vertical-align: middle;\n",
       "    }\n",
       "\n",
       "    .dataframe tbody tr th {\n",
       "        vertical-align: top;\n",
       "    }\n",
       "\n",
       "    .dataframe thead th {\n",
       "        text-align: right;\n",
       "    }\n",
       "</style>\n",
       "<table border=\"1\" class=\"dataframe\">\n",
       "  <thead>\n",
       "    <tr style=\"text-align: right;\">\n",
       "      <th></th>\n",
       "      <th>Joan_var</th>\n",
       "      <th>Pere_var</th>\n",
       "      <th>Marta_var</th>\n",
       "      <th>Claudia_var</th>\n",
       "      <th>Marc_var</th>\n",
       "      <th>Maria_var</th>\n",
       "    </tr>\n",
       "  </thead>\n",
       "  <tbody>\n",
       "    <tr>\n",
       "      <th>0</th>\n",
       "      <td>0.00</td>\n",
       "      <td>0.00</td>\n",
       "      <td>0.00</td>\n",
       "      <td>0.00</td>\n",
       "      <td>0.00</td>\n",
       "      <td>0.00</td>\n",
       "    </tr>\n",
       "    <tr>\n",
       "      <th>1</th>\n",
       "      <td>890.99</td>\n",
       "      <td>1323.46</td>\n",
       "      <td>1278.66</td>\n",
       "      <td>1480.15</td>\n",
       "      <td>1950.67</td>\n",
       "      <td>1638.18</td>\n",
       "    </tr>\n",
       "    <tr>\n",
       "      <th>2</th>\n",
       "      <td>890.99</td>\n",
       "      <td>1323.46</td>\n",
       "      <td>1278.66</td>\n",
       "      <td>1494.95</td>\n",
       "      <td>1950.67</td>\n",
       "      <td>1638.18</td>\n",
       "    </tr>\n",
       "    <tr>\n",
       "      <th>3</th>\n",
       "      <td>890.99</td>\n",
       "      <td>1323.46</td>\n",
       "      <td>1278.66</td>\n",
       "      <td>1494.95</td>\n",
       "      <td>1950.67</td>\n",
       "      <td>1638.18</td>\n",
       "    </tr>\n",
       "    <tr>\n",
       "      <th>4</th>\n",
       "      <td>890.99</td>\n",
       "      <td>1323.46</td>\n",
       "      <td>1278.66</td>\n",
       "      <td>1494.95</td>\n",
       "      <td>1950.67</td>\n",
       "      <td>1654.56</td>\n",
       "    </tr>\n",
       "    <tr>\n",
       "      <th>...</th>\n",
       "      <td>...</td>\n",
       "      <td>...</td>\n",
       "      <td>...</td>\n",
       "      <td>...</td>\n",
       "      <td>...</td>\n",
       "      <td>...</td>\n",
       "    </tr>\n",
       "    <tr>\n",
       "      <th>655</th>\n",
       "      <td>1524.85</td>\n",
       "      <td>2242.56</td>\n",
       "      <td>2188.31</td>\n",
       "      <td>2533.14</td>\n",
       "      <td>3338.40</td>\n",
       "      <td>2803.60</td>\n",
       "    </tr>\n",
       "    <tr>\n",
       "      <th>656</th>\n",
       "      <td>1524.85</td>\n",
       "      <td>2242.56</td>\n",
       "      <td>2188.31</td>\n",
       "      <td>2533.14</td>\n",
       "      <td>3338.40</td>\n",
       "      <td>2803.60</td>\n",
       "    </tr>\n",
       "    <tr>\n",
       "      <th>657</th>\n",
       "      <td>1524.85</td>\n",
       "      <td>2242.56</td>\n",
       "      <td>2188.31</td>\n",
       "      <td>2533.14</td>\n",
       "      <td>3338.40</td>\n",
       "      <td>2803.60</td>\n",
       "    </tr>\n",
       "    <tr>\n",
       "      <th>658</th>\n",
       "      <td>1524.85</td>\n",
       "      <td>2242.56</td>\n",
       "      <td>2188.31</td>\n",
       "      <td>2533.14</td>\n",
       "      <td>3338.40</td>\n",
       "      <td>2803.60</td>\n",
       "    </tr>\n",
       "    <tr>\n",
       "      <th>659</th>\n",
       "      <td>1524.85</td>\n",
       "      <td>2242.56</td>\n",
       "      <td>2188.31</td>\n",
       "      <td>2533.14</td>\n",
       "      <td>3338.40</td>\n",
       "      <td>2803.60</td>\n",
       "    </tr>\n",
       "  </tbody>\n",
       "</table>\n",
       "<p>660 rows × 6 columns</p>\n",
       "</div>"
      ],
      "text/plain": [
       "     Joan_var  Pere_var  Marta_var  Claudia_var  Marc_var  Maria_var\n",
       "0        0.00      0.00       0.00         0.00      0.00       0.00\n",
       "1      890.99   1323.46    1278.66      1480.15   1950.67    1638.18\n",
       "2      890.99   1323.46    1278.66      1494.95   1950.67    1638.18\n",
       "3      890.99   1323.46    1278.66      1494.95   1950.67    1638.18\n",
       "4      890.99   1323.46    1278.66      1494.95   1950.67    1654.56\n",
       "..        ...       ...        ...          ...       ...        ...\n",
       "655   1524.85   2242.56    2188.31      2533.14   3338.40    2803.60\n",
       "656   1524.85   2242.56    2188.31      2533.14   3338.40    2803.60\n",
       "657   1524.85   2242.56    2188.31      2533.14   3338.40    2803.60\n",
       "658   1524.85   2242.56    2188.31      2533.14   3338.40    2803.60\n",
       "659   1524.85   2242.56    2188.31      2533.14   3338.40    2803.60\n",
       "\n",
       "[660 rows x 6 columns]"
      ]
     },
     "execution_count": 65,
     "metadata": {},
     "output_type": "execute_result"
    }
   ],
   "source": [
    "variation = pd.DataFrame({'Joan_var': var_Joan, 'Pere_var':var_Pere, 'Marta_var':var_Marta, \n",
    "                          'Claudia_var':var_Claudia, 'Marc_var':var_Marc,'Maria_var':var_Maria} )\n",
    "variation"
   ]
  },
  {
   "cell_type": "code",
   "execution_count": 61,
   "metadata": {},
   "outputs": [
    {
     "data": {
      "text/html": [
       "<div>\n",
       "<style scoped>\n",
       "    .dataframe tbody tr th:only-of-type {\n",
       "        vertical-align: middle;\n",
       "    }\n",
       "\n",
       "    .dataframe tbody tr th {\n",
       "        vertical-align: top;\n",
       "    }\n",
       "\n",
       "    .dataframe thead th {\n",
       "        text-align: right;\n",
       "    }\n",
       "</style>\n",
       "<table border=\"1\" class=\"dataframe\">\n",
       "  <thead>\n",
       "    <tr style=\"text-align: right;\">\n",
       "      <th></th>\n",
       "      <th>index</th>\n",
       "      <th>Antoni</th>\n",
       "      <th>Pere</th>\n",
       "      <th>Marta</th>\n",
       "      <th>Claudia</th>\n",
       "      <th>Marc</th>\n",
       "      <th>Maria</th>\n",
       "    </tr>\n",
       "  </thead>\n",
       "  <tbody>\n",
       "    <tr>\n",
       "      <th>0</th>\n",
       "      <td>781</td>\n",
       "      <td>0.999621</td>\n",
       "      <td>0.999683</td>\n",
       "      <td>0.999737</td>\n",
       "      <td>0.999876</td>\n",
       "      <td>0.999740</td>\n",
       "      <td>0.999893</td>\n",
       "    </tr>\n",
       "    <tr>\n",
       "      <th>1</th>\n",
       "      <td>782</td>\n",
       "      <td>0.999242</td>\n",
       "      <td>0.999365</td>\n",
       "      <td>0.999474</td>\n",
       "      <td>0.999753</td>\n",
       "      <td>0.999480</td>\n",
       "      <td>0.999785</td>\n",
       "    </tr>\n",
       "    <tr>\n",
       "      <th>2</th>\n",
       "      <td>783</td>\n",
       "      <td>0.998863</td>\n",
       "      <td>0.999048</td>\n",
       "      <td>0.999212</td>\n",
       "      <td>0.999629</td>\n",
       "      <td>0.999220</td>\n",
       "      <td>0.999678</td>\n",
       "    </tr>\n",
       "    <tr>\n",
       "      <th>3</th>\n",
       "      <td>784</td>\n",
       "      <td>0.998485</td>\n",
       "      <td>0.998731</td>\n",
       "      <td>0.998949</td>\n",
       "      <td>0.999505</td>\n",
       "      <td>0.998961</td>\n",
       "      <td>0.999571</td>\n",
       "    </tr>\n",
       "    <tr>\n",
       "      <th>4</th>\n",
       "      <td>785</td>\n",
       "      <td>0.998106</td>\n",
       "      <td>0.998414</td>\n",
       "      <td>0.998686</td>\n",
       "      <td>0.999382</td>\n",
       "      <td>0.998701</td>\n",
       "      <td>0.999463</td>\n",
       "    </tr>\n",
       "  </tbody>\n",
       "</table>\n",
       "</div>"
      ],
      "text/plain": [
       "   index    Antoni      Pere     Marta   Claudia      Marc     Maria\n",
       "0    781  0.999621  0.999683  0.999737  0.999876  0.999740  0.999893\n",
       "1    782  0.999242  0.999365  0.999474  0.999753  0.999480  0.999785\n",
       "2    783  0.998863  0.999048  0.999212  0.999629  0.999220  0.999678\n",
       "3    784  0.998485  0.998731  0.998949  0.999505  0.998961  0.999571\n",
       "4    785  0.998106  0.998414  0.998686  0.999382  0.998701  0.999463"
      ]
     },
     "execution_count": 61,
     "metadata": {},
     "output_type": "execute_result"
    }
   ],
   "source": [
    "px.head()"
   ]
  },
  {
   "cell_type": "code",
   "execution_count": 122,
   "metadata": {},
   "outputs": [
    {
     "data": {
      "text/plain": [
       "282648.57"
      ]
     },
     "execution_count": 122,
     "metadata": {},
     "output_type": "execute_result"
    }
   ],
   "source": [
    "joan1 = ok['Joan_var']*ok1['Joan']\n",
    "pere1 = ok['Pere_var']*ok1['Pere']\n",
    "marta1 = ok['Marta_var']*ok1['Marta']\n",
    "claudia1 = ok['Claudia_var']*ok1['Claudia']\n",
    "marc1 = ok['Marc_var']*ok1['Marc']\n",
    "maria1 = ok['Maria_var']*ok1['Maria']\n",
    "new_df = pd.DataFrame({'Joan_VAA':joan1*interes3, 'Pere_VAA':pere1*interes3, 'Marta_VAA':marta1*interes3,\n",
    "                       'Claudia_VAA':claudia1*interes3, 'Marc_VAA':marc1*interes3, 'Maria_VAA':maria1*interes3})\n",
    "round(sum(new_df['Joan_VAA']), 2)"
   ]
  },
  {
   "cell_type": "code",
   "execution_count": 128,
   "metadata": {},
   "outputs": [
    {
     "data": {
      "text/plain": [
       "pandas.core.series.Series"
      ]
     },
     "execution_count": 128,
     "metadata": {},
     "output_type": "execute_result"
    }
   ],
   "source": [
    "VAAs = new_df.sum().round(2)\n",
    "type(VAAs)"
   ]
  },
  {
   "cell_type": "code",
   "execution_count": 140,
   "metadata": {},
   "outputs": [
    {
     "data": {
      "text/plain": [
       "0    282648.57\n",
       "1    430714.89\n",
       "2    427609.83\n",
       "3    554081.56\n",
       "4    658762.27\n",
       "5    621209.96\n",
       "dtype: float64"
      ]
     },
     "execution_count": 140,
     "metadata": {},
     "output_type": "execute_result"
    }
   ],
   "source": [
    "VAAs"
   ]
  },
  {
   "cell_type": "code",
   "execution_count": 165,
   "metadata": {},
   "outputs": [
    {
     "data": {
      "text/plain": [
       "0    2038\n",
       "1    2046\n",
       "2    2022\n",
       "3    2054\n",
       "4    2055\n",
       "5    2060\n",
       "Name: 2, dtype: int64"
      ]
     },
     "execution_count": 165,
     "metadata": {},
     "output_type": "execute_result"
    }
   ],
   "source": [
    "jubi2 = pd.to_numeric(b1['Nacimiento'].str.split('/', expand=True)[2])+65\n",
    "jubi2"
   ]
  },
  {
   "cell_type": "code",
   "execution_count": 174,
   "metadata": {},
   "outputs": [
    {
     "data": {
      "text/plain": [
       "929171.0"
      ]
     },
     "execution_count": 174,
     "metadata": {},
     "output_type": "execute_result"
    }
   ],
   "source": [
    "data1['Antoni'][65]"
   ]
  },
  {
   "cell_type": "code",
   "execution_count": 184,
   "metadata": {},
   "outputs": [
    {
     "data": {
      "text/plain": [
       "0    219198.07\n",
       "1    299408.56\n",
       "2    417116.74\n",
       "3    356065.37\n",
       "4    412023.74\n",
       "5    371243.25\n",
       "dtype: float64"
      ]
     },
     "execution_count": 184,
     "metadata": {},
     "output_type": "execute_result"
    }
   ],
   "source": [
    "VAA21_joan = round(VAAs[0]*(1.0125**-(2037-2021+1))*(data1['Antoni'][65]/data1['Antoni'][48]), 2)\n",
    "VAA21_pere = round(VAAs[1]*(1.0125**-(2046-2021+1))*(data1['Pere'][65]/data1['Pere'][40]), 2)\n",
    "VAA21_marta = round(VAAs[2]*(1.0125**-(2022-2021+1))*(data1['Marta'][65]/data1['Marta'][65]), 2)\n",
    "VAA21_claudia = round(VAAs[3]*(1.0125**-(2054-2021+1))*(data1['Claudia'][65]/data1['Claudia'][32]), 2)\n",
    "VAA21_marc = round(VAAs[4]*(1.0125**-(2055-2021+1))*(data1['Marc'][65]/data1['Marc'][32]), 2)\n",
    "VAA21_maria = round(VAAs[5]*(1.0125**-(2060-2021+1))*(data1['Maria'][65]/data1['Maria'][26]), 2)\n",
    "vaas21 = pd.Series([VAA21_joan, VAA21_pere, VAA21_marta, VAA21_claudia, VAA21_marc, VAA21_maria])\n",
    "vaas21"
   ]
  },
  {
   "cell_type": "code",
   "execution_count": 71,
   "metadata": {},
   "outputs": [
    {
     "data": {
      "text/html": [
       "<div>\n",
       "<style scoped>\n",
       "    .dataframe tbody tr th:only-of-type {\n",
       "        vertical-align: middle;\n",
       "    }\n",
       "\n",
       "    .dataframe tbody tr th {\n",
       "        vertical-align: top;\n",
       "    }\n",
       "\n",
       "    .dataframe thead th {\n",
       "        text-align: right;\n",
       "    }\n",
       "</style>\n",
       "<table border=\"1\" class=\"dataframe\">\n",
       "  <thead>\n",
       "    <tr style=\"text-align: right;\">\n",
       "      <th></th>\n",
       "      <th>int Antoni</th>\n",
       "      <th>anual Antoni</th>\n",
       "      <th>actual Antoni</th>\n",
       "    </tr>\n",
       "  </thead>\n",
       "  <tbody>\n",
       "    <tr>\n",
       "      <th>0</th>\n",
       "      <td>1.000000</td>\n",
       "      <td>0.00</td>\n",
       "      <td>0.999621</td>\n",
       "    </tr>\n",
       "    <tr>\n",
       "      <th>1</th>\n",
       "      <td>0.998965</td>\n",
       "      <td>890.99</td>\n",
       "      <td>0.999242</td>\n",
       "    </tr>\n",
       "    <tr>\n",
       "      <th>2</th>\n",
       "      <td>0.997932</td>\n",
       "      <td>890.99</td>\n",
       "      <td>0.998863</td>\n",
       "    </tr>\n",
       "    <tr>\n",
       "      <th>3</th>\n",
       "      <td>0.996899</td>\n",
       "      <td>890.99</td>\n",
       "      <td>0.998485</td>\n",
       "    </tr>\n",
       "    <tr>\n",
       "      <th>4</th>\n",
       "      <td>0.995868</td>\n",
       "      <td>890.99</td>\n",
       "      <td>0.998106</td>\n",
       "    </tr>\n",
       "    <tr>\n",
       "      <th>...</th>\n",
       "      <td>...</td>\n",
       "      <td>...</td>\n",
       "      <td>...</td>\n",
       "    </tr>\n",
       "    <tr>\n",
       "      <th>655</th>\n",
       "      <td>0.507599</td>\n",
       "      <td>1524.85</td>\n",
       "      <td>0.000000</td>\n",
       "    </tr>\n",
       "    <tr>\n",
       "      <th>656</th>\n",
       "      <td>0.507074</td>\n",
       "      <td>1524.85</td>\n",
       "      <td>0.000000</td>\n",
       "    </tr>\n",
       "    <tr>\n",
       "      <th>657</th>\n",
       "      <td>0.506550</td>\n",
       "      <td>1524.85</td>\n",
       "      <td>0.000000</td>\n",
       "    </tr>\n",
       "    <tr>\n",
       "      <th>658</th>\n",
       "      <td>0.506026</td>\n",
       "      <td>1524.85</td>\n",
       "      <td>0.000000</td>\n",
       "    </tr>\n",
       "    <tr>\n",
       "      <th>659</th>\n",
       "      <td>0.505502</td>\n",
       "      <td>1524.85</td>\n",
       "      <td>0.000000</td>\n",
       "    </tr>\n",
       "  </tbody>\n",
       "</table>\n",
       "<p>660 rows × 3 columns</p>\n",
       "</div>"
      ],
      "text/plain": [
       "     int Antoni  anual Antoni   actual Antoni\n",
       "0      1.000000           0.00       0.999621\n",
       "1      0.998965         890.99       0.999242\n",
       "2      0.997932         890.99       0.998863\n",
       "3      0.996899         890.99       0.998485\n",
       "4      0.995868         890.99       0.998106\n",
       "..          ...            ...            ...\n",
       "655    0.507599        1524.85       0.000000\n",
       "656    0.507074        1524.85       0.000000\n",
       "657    0.506550        1524.85       0.000000\n",
       "658    0.506026        1524.85       0.000000\n",
       "659    0.505502        1524.85       0.000000\n",
       "\n",
       "[660 rows x 3 columns]"
      ]
     },
     "execution_count": 71,
     "metadata": {},
     "output_type": "execute_result"
    }
   ],
   "source": [
    "minidf = pd.DataFrame({'int Antoni':interes3, 'anual Antoni ':var}).join(pd.Series(px['Antoni']\n",
    "                                                                                         , name='actual Antoni'))#.fillna(0)\n",
    "minidf\n",
    "#minidf.to_csv( 'Antoni.csv')"
   ]
  },
  {
   "cell_type": "code",
   "execution_count": 65,
   "metadata": {},
   "outputs": [
    {
     "data": {
      "text/plain": [
       "1366.76"
      ]
     },
     "execution_count": 65,
     "metadata": {},
     "output_type": "execute_result"
    }
   ],
   "source": [
    "var[520]"
   ]
  },
  {
   "cell_type": "code",
   "execution_count": 72,
   "metadata": {},
   "outputs": [
    {
     "data": {
      "text/plain": [
       "282648.57"
      ]
     },
     "execution_count": 72,
     "metadata": {},
     "output_type": "execute_result"
    }
   ],
   "source": [
    "VAA = round(sum(np.array(minidf['anual Antoni '])*np.array(minidf['actual Antoni'])*np.array(minidf['int Antoni'])),2)  ##Valor actual Actuarial\n",
    "VAA"
   ]
  },
  {
   "cell_type": "code",
   "execution_count": 74,
   "metadata": {},
   "outputs": [
    {
     "data": {
      "text/html": [
       "<div>\n",
       "<style scoped>\n",
       "    .dataframe tbody tr th:only-of-type {\n",
       "        vertical-align: middle;\n",
       "    }\n",
       "\n",
       "    .dataframe tbody tr th {\n",
       "        vertical-align: top;\n",
       "    }\n",
       "\n",
       "    .dataframe thead th {\n",
       "        text-align: right;\n",
       "    }\n",
       "</style>\n",
       "<table border=\"1\" class=\"dataframe\">\n",
       "  <thead>\n",
       "    <tr style=\"text-align: right;\">\n",
       "      <th></th>\n",
       "      <th>int Antoni</th>\n",
       "      <th>anual Antoni</th>\n",
       "      <th>actual Antoni</th>\n",
       "      <th>Producto</th>\n",
       "    </tr>\n",
       "  </thead>\n",
       "  <tbody>\n",
       "    <tr>\n",
       "      <th>0</th>\n",
       "      <td>1.000000</td>\n",
       "      <td>0.00</td>\n",
       "      <td>0.999621</td>\n",
       "      <td>0.000000</td>\n",
       "    </tr>\n",
       "    <tr>\n",
       "      <th>1</th>\n",
       "      <td>0.998965</td>\n",
       "      <td>890.99</td>\n",
       "      <td>0.999242</td>\n",
       "      <td>889.393742</td>\n",
       "    </tr>\n",
       "    <tr>\n",
       "      <th>2</th>\n",
       "      <td>0.997932</td>\n",
       "      <td>890.99</td>\n",
       "      <td>0.998863</td>\n",
       "      <td>888.136576</td>\n",
       "    </tr>\n",
       "    <tr>\n",
       "      <th>3</th>\n",
       "      <td>0.996899</td>\n",
       "      <td>890.99</td>\n",
       "      <td>0.998485</td>\n",
       "      <td>886.881155</td>\n",
       "    </tr>\n",
       "    <tr>\n",
       "      <th>4</th>\n",
       "      <td>0.995868</td>\n",
       "      <td>890.99</td>\n",
       "      <td>0.998106</td>\n",
       "      <td>885.627381</td>\n",
       "    </tr>\n",
       "  </tbody>\n",
       "</table>\n",
       "</div>"
      ],
      "text/plain": [
       "   int Antoni  anual Antoni   actual Antoni    Producto\n",
       "0    1.000000           0.00       0.999621    0.000000\n",
       "1    0.998965         890.99       0.999242  889.393742\n",
       "2    0.997932         890.99       0.998863  888.136576\n",
       "3    0.996899         890.99       0.998485  886.881155\n",
       "4    0.995868         890.99       0.998106  885.627381"
      ]
     },
     "execution_count": 74,
     "metadata": {},
     "output_type": "execute_result"
    }
   ],
   "source": [
    "minidf['Producto'] = minidf['int Antoni']*minidf['anual Antoni ']*minidf['actual Antoni']\n",
    "minidf.head()"
   ]
  },
  {
   "cell_type": "code",
   "execution_count": 82,
   "metadata": {},
   "outputs": [
    {
     "data": {
      "text/plain": [
       "219198.06344037587"
      ]
     },
     "execution_count": 82,
     "metadata": {},
     "output_type": "execute_result"
    }
   ],
   "source": [
    "sum(minidf['Producto'])*((1.0125)**-(2037-2021+1))*(data1['Antoni'][65]/data1['Antoni'][48])  ## VAA Antoni 31/12/2021"
   ]
  },
  {
   "cell_type": "code",
   "execution_count": 78,
   "metadata": {},
   "outputs": [
    {
     "data": {
      "text/plain": [
       "970041.2"
      ]
     },
     "execution_count": 78,
     "metadata": {},
     "output_type": "execute_result"
    }
   ],
   "source": [
    "data1['Antoni'][65]/data1['Antoni'][48]"
   ]
  },
  {
   "cell_type": "code",
   "execution_count": 84,
   "metadata": {},
   "outputs": [],
   "source": [
    "vaa_ant98 = sum(minidf['Producto'])*((1.0125)**-(2037-1998+1))*(data1['Antoni'][65]/data1['Antoni'][25]) ## VAA Antoni 31/12/1998"
   ]
  },
  {
   "cell_type": "code",
   "execution_count": 115,
   "metadata": {},
   "outputs": [
    {
     "data": {
      "text/plain": [
       "4638.459110872414"
      ]
     },
     "execution_count": 115,
     "metadata": {},
     "output_type": "execute_result"
    }
   ],
   "source": [
    "(VAA*1.0125**-(65-np.arange(19, 66))*(data1['Antoni'][65]/data1['Antoni'][np.arange(19, 66)]))[46]/46  ## Coste normal CU"
   ]
  },
  {
   "cell_type": "code",
   "execution_count": null,
   "metadata": {},
   "outputs": [],
   "source": [
    "((VAA*1.0125**-(65-np.arange(19, 66))*(data1['Antoni'][65]/data1['Antoni'][np.arange(19, 66)]))[46]/46)"
   ]
  },
  {
   "cell_type": "code",
   "execution_count": 100,
   "metadata": {},
   "outputs": [],
   "source": [
    "#data1['Antoni'][65]/data1['Antoni'][np.arange(19, 47)]"
   ]
  },
  {
   "cell_type": "code",
   "execution_count": 14,
   "metadata": {},
   "outputs": [
    {
     "data": {
      "text/plain": [
       "265476.78"
      ]
     },
     "execution_count": 14,
     "metadata": {},
     "output_type": "execute_result"
    }
   ],
   "source": [
    "VAA = round(sum(np.array(minidf['var'])*np.array(minidf['act'])*np.array(minidf['int'])),2)  ##Valor actual Actuarial\n",
    "VAA"
   ]
  },
  {
   "cell_type": "code",
   "execution_count": 21,
   "metadata": {},
   "outputs": [
    {
     "data": {
      "text/plain": [
       "205881.08"
      ]
     },
     "execution_count": 21,
     "metadata": {},
     "output_type": "execute_result"
    }
   ],
   "source": [
    "round((VAA*(interes**-(2037-2021+1))*.9578675),2)  ##VAA de las obligaciones del Plan de Pensiones a 31/12/2021. \n"
   ]
  },
  {
   "cell_type": "code",
   "execution_count": 22,
   "metadata": {},
   "outputs": [
    {
     "data": {
      "text/plain": [
       "152672.75"
      ]
     },
     "execution_count": 22,
     "metadata": {},
     "output_type": "execute_result"
    }
   ],
   "source": [
    "round((VAA*(interes**-(2037-1998+1))*0.9452273),2)  #VAA de las obligaciones a 1992"
   ]
  },
  {
   "cell_type": "code",
   "execution_count": 167,
   "metadata": {},
   "outputs": [
    {
     "data": {
      "text/plain": [
       "265476.78"
      ]
     },
     "execution_count": 167,
     "metadata": {},
     "output_type": "execute_result"
    }
   ],
   "source": [
    "round(sum(np.array(minidf['var'])*np.array(minidf['act'])*np.array(minidf['int'])),2)  ##Valor actual Actuarial"
   ]
  },
  {
   "cell_type": "code",
   "execution_count": null,
   "metadata": {},
   "outputs": [],
   "source": []
  },
  {
   "cell_type": "code",
   "execution_count": 137,
   "metadata": {},
   "outputs": [
    {
     "data": {
      "text/plain": [
       "665    1494.91\n",
       "666    1509.86\n",
       "667    1509.86\n",
       "668    1509.86\n",
       "669    1509.86\n",
       "670    1509.86\n",
       "671    1509.86\n",
       "672    1509.86\n",
       "dtype: float64"
      ]
     },
     "execution_count": 137,
     "metadata": {},
     "output_type": "execute_result"
    }
   ],
   "source": [
    "var = np.roll(np.round(864.85*1.01**np.floor(np.arange(0,673) / 12 ), 2),-6)\n",
    "var[-6:] = var[-7]\n",
    "var[0] = 0\n",
    "var = pd.Series(var)\n",
    "var.tail(8)"
   ]
  },
  {
   "cell_type": "code",
   "execution_count": null,
   "metadata": {},
   "outputs": [],
   "source": []
  },
  {
   "cell_type": "code",
   "execution_count": null,
   "metadata": {},
   "outputs": [],
   "source": []
  },
  {
   "cell_type": "code",
   "execution_count": 61,
   "metadata": {},
   "outputs": [
    {
     "data": {
      "text/plain": [
       "7"
      ]
     },
     "execution_count": 61,
     "metadata": {},
     "output_type": "execute_result"
    }
   ],
   "source": [
    "int('06/07'.split('/')[1])  ## split meses"
   ]
  },
  {
   "cell_type": "code",
   "execution_count": 64,
   "metadata": {},
   "outputs": [
    {
     "data": {
      "text/plain": [
       "607"
      ]
     },
     "execution_count": 64,
     "metadata": {},
     "output_type": "execute_result"
    }
   ],
   "source": [
    "len(var)"
   ]
  }
 ],
 "metadata": {
  "kernelspec": {
   "display_name": "Python 3",
   "language": "python",
   "name": "python3"
  },
  "language_info": {
   "codemirror_mode": {
    "name": "ipython",
    "version": 3
   },
   "file_extension": ".py",
   "mimetype": "text/x-python",
   "name": "python",
   "nbconvert_exporter": "python",
   "pygments_lexer": "ipython3",
   "version": "3.8.1"
  }
 },
 "nbformat": 4,
 "nbformat_minor": 2
}
