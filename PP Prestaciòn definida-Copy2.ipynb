{
 "cells": [
  {
   "cell_type": "markdown",
   "metadata": {},
   "source": [
    "# Planes de pensiones y ALM"
   ]
  },
  {
   "cell_type": "code",
   "execution_count": 2,
   "metadata": {},
   "outputs": [],
   "source": [
    "import pandas as pd\n",
    "import numpy as np\n",
    "from datetime import datetime\n",
    "from pandas.core.common import SettingWithCopyWarning\n",
    "import warnings\n",
    "warnings.simplefilter(action=\"ignore\", category=SettingWithCopyWarning)"
   ]
  },
  {
   "cell_type": "code",
   "execution_count": 26,
   "metadata": {},
   "outputs": [],
   "source": [
    "def prestacion_definida(df, fecha_valoracion = '31/12/2021',  rvs = .015, rvp = .01,  h=12, margen_sol = .02,\n",
    "                        tipo_int= .0022, beta=.15, edad_jubilacion = 65):\n",
    "    def lx_participes():\n",
    "\n",
    "        raw1 = 'https://raw.githubusercontent.com/Joevalencia/Planes_pensione_ALM/main/Participes_aportacion.csv'\n",
    "        data1 = pd.read_csv(raw1).rename(columns = {'Antoni': 'Joan'})\n",
    "        raw2 = 'https://raw.githubusercontent.com/Joevalencia/Planes_pensione_ALM/main/approximation_planex.csv'\n",
    "        data2 = pd.read_csv(raw2).rename(columns = {'Antoni': 'Joan'})\n",
    "        del data1['Unnamed: 0']\n",
    "        del data2['Unnamed: 0']\n",
    "        return data1, data2\n",
    "\n",
    "    data1 = lx_participes()[0]\n",
    "    data2 = lx_participes()[1]\n",
    "    year = int(fecha_valoracion.split('/')[2])\n",
    "#     l1, l2 = [], []\n",
    "#     l3, l4 = [], []\n",
    "#     l5 = []\n",
    "#     participe = int(input('Ingresar el nùmero de participes del plan: '))\n",
    "#     for i in range(0, participe):\n",
    "        \n",
    "#         p1 = str(input(f'Poner el nombre del participe del Plan numero {i+1}: '))\n",
    "#         p2 = str(input(f'Ingresar la fecha de nacimiento {p1}: '))\n",
    "#         p3 = str(input(f'Ingresar la fecha de alta en la empresa de {p1}: '))\n",
    "#         p4 = float(input(f'Ingresar el salario pensionable 2021 de {p1}: '))\n",
    "#         p5 = str(input(f'Ingresar el Sexo de {p1}: '))\n",
    "#         print('='*55)\n",
    "#         l1.append(p1)\n",
    "#         l2.append(p2)\n",
    "#         l3.append(p3)\n",
    "#         l4.append(p4)\n",
    "#         l5.append(p5)\n",
    "\n",
    "    array1 = []\n",
    "    for i in range(0, len(df['Participe'])):\n",
    "        array1.append(int(df['Nacimiento'][i].split('/')[2]))\n",
    "\n",
    "    array2 = []\n",
    "    for i in range(0, len(df['Participe'])):\n",
    "        array2.append(int(df['Alta'][i].split('/')[2]))\n",
    "    an1 = [46, 38, 63, 30, 30, 24] ## edad actuarial  # AAA poner manualmente poner esto\n",
    "    an2 = [25, 37, 29, 26, 20, 23] ## edad entradad actuarial  # AAA poner manualmente esto\n",
    "    edad = [x-y for(x, y) in zip(array2, array1)] ## edad actuarial 2\n",
    "    r1 = 1+rvs  ## Revalorizaciòn salarios\n",
    "    r2 = 1+rvp  ## Revalorizaciòn pensiones \n",
    "    interes = (1+tipo_int)  ##interés\n",
    "    t1 = np.arange(0, ((120-edad_jubilacion)*h))  ## mensilidad\n",
    "    interes3 = interes**-(t1/h)  ## fraccionamiento 1/h\n",
    "    #interes3 = interes2**-t1  ## intereses mensuales\n",
    "    def variation_capital():\n",
    "        j = 'https://raw.githubusercontent.com/Joevalencia/Planes_pensione_ALM/main/variation6.csv'\n",
    "        ok = pd.read_csv(j)\n",
    "        k = 'https://raw.githubusercontent.com/Joevalencia/Planes_pensione_ALM/main/px_mens_participes.csv'\n",
    "        ok1 = pd.read_csv(k)\n",
    "        return ok, ok1\n",
    "    hello = variation_capital()\n",
    "    ok, ok1 = hello[0], hello[1]\n",
    "#     df = pd.DataFrame({'Participe':pd.Series(l1), 'Sexo': pd.Series(l5),'Nacimiento':pd.Series(l2), \n",
    "#                        'Alta':pd.Series(l3), 'Salario 2021':pd.Series(l4), \n",
    "#                       'Edad actuarial':pd.Series(an1), 'Edad entrada':pd.Series(an2)})\n",
    "\n",
    "    e1 = round(((pd.to_datetime(datos['Alta'],dayfirst=True) - pd.to_datetime(datos['Nacimiento'], dayfirst=True))/365.25)/np.timedelta64(1, 'D')) ## Edad E\n",
    "    fec_val= []\n",
    "    for i in range(0,6):\n",
    "        fec_val.append(fecha_valoracion)\n",
    "    fec_val = pd.Series(fec_val)\n",
    "    act_edad = round(((pd.to_datetime(fec_val,dayfirst=True) - pd.to_datetime(datos['Nacimiento'], dayfirst=True))/365.25)/np.timedelta64(1, 'D')) ## Edad A\n",
    "    e1 = [48, 40, 65, 32, 31, 26]\n",
    "    act_edad = [25, 37, 28, 26, 20, 23]\n",
    "    df = df.join(pd.Series(act_edad, name='Edad actuarial'))\n",
    "    df = df.join(pd.Series(e1, name='Edad entrada'))\n",
    "    jubi2 = pd.to_numeric(df['Nacimiento'].str.split('/', expand=True)[2])+edad_jubilacion\n",
    "    mes = pd.to_numeric(df['Nacimiento'].str.split('/', expand=True)[1])\n",
    "    df = df.join(pd.Series(jubi2, name='Jubilacion'))\n",
    "    proyec = round(df['Salario 2021']*(r1)**(edad_jubilacion-1-df['Edad actuarial']), 2)\n",
    "    pj = round(beta*proyec/h, 2)\n",
    "    df['Proyectado'] = proyec\n",
    "    df['Proyectado'][2] = datos['Salario 2021'][2]\n",
    "    \n",
    "    jubi3 = pd.to_numeric(df['Alta'].str.split('/', expand=True)[2])\n",
    "    df['PJ corriente'] = pj\n",
    "    df['PJ corriente'][2] = beta*df['Proyectado'][2]/h\n",
    "    joan1 = ok['Joan_var']*((data2.Joan[edad_jubilacion*h+mes[0]+1:]/data2.Joan[edad_jubilacion*h+mes[0]]).reset_index(drop=True))\n",
    "    pere1 = ok['Pere_var']*((data2.Pere[edad_jubilacion*h+mes[1]+1:]/data2.Pere[edad_jubilacion*h+mes[1]]).reset_index(drop=True))\n",
    "    marta1 = ok['Marta_var']*((data2.Marta[edad_jubilacion*h+mes[2]+1:]/data2.Marta[edad_jubilacion*h+mes[2]]).reset_index(drop=True))\n",
    "    claudia1 = ok['Claudia_var']*((data2.Claudia[edad_jubilacion*h+mes[3]+1:]/data2.Claudia[edad_jubilacion*h+mes[3]]).reset_index(drop=True))\n",
    "    marc1 = ok['Marc_var']*((data2.Marc[edad_jubilacion*h+mes[4]+1:]/data2.Marc[edad_jubilacion*h+mes[4]]).reset_index(drop=True))\n",
    "    maria1 = ok['Maria_var']*((data2.Maria[edad_jubilacion*h+mes[5]+1:]/data2.Maria[edad_jubilacion*h+mes[5]]).reset_index(drop=True))\n",
    "    new_df = pd.DataFrame({'Joan_VAA':joan1*interes3, 'Pere_VAA':pere1*interes3, 'Marta_VAA':marta1*interes3,\n",
    "                           'Claudia_VAA':claudia1*interes3, 'Marc_VAA':marc1*interes3, 'Maria_VAA':maria1*interes3})\n",
    "    VAAs = pd.Series(new_df.sum().round(2).to_list(), name='VAAj')\n",
    "    \n",
    "    ## A la fecha actual 2021\n",
    "    VAA21_joan = round(VAAs[0]*((1+tipo_int)**-(edad_jubilacion-df['Edad actuarial'][0]))*(data1['Joan'][edad_jubilacion]/data1['Joan'][df['Edad actuarial'][0]]), 2)\n",
    "    VAA21_pere = round(VAAs[1]*((1+tipo_int)**-(edad_jubilacion-df['Edad actuarial'][1]))*(data1['Pere'][edad_jubilacion]/data1['Pere'][df['Edad actuarial'][1]]), 2)\n",
    "    VAA21_marta = round(VAAs[2]*((1+tipo_int)**-(edad_jubilacion-df['Edad actuarial'][2]))*(data1['Marta'][edad_jubilacion]/data1['Marta'][df['Edad actuarial'][2]]), 2)\n",
    "    VAA21_claudia = round(VAAs[3]*((1+tipo_int)**-(edad_jubilacion-df['Edad actuarial'][3]))*(data1['Claudia'][edad_jubilacion]/data1['Claudia'][df['Edad actuarial'][3]]), 2)\n",
    "    VAA21_marc = round(VAAs[4]*((1+tipo_int)**-(edad_jubilacion-df['Edad actuarial'][4]))*(data1['Marc'][edad_jubilacion]/data1['Marc'][df['Edad actuarial'][4]]), 2)\n",
    "    VAA21_maria = round(VAAs[5]*((1+tipo_int)**-(edad_jubilacion-df['Edad actuarial'][5]))*(data1['Maria'][edad_jubilacion]/data1['Maria'][df['Edad actuarial'][5]]), 2)\n",
    "    vaas21 = pd.Series([VAA21_joan, VAA21_pere, VAA21_marta, VAA21_claudia, VAA21_marc, VAA21_maria])\n",
    "    \n",
    "    ## A la fecha de alta en la empresa\n",
    "    VAAp_joan = round(VAAs[0]*((1+tipo_int)**-(jubi2[0]-jubi3[0]+1))*(data1['Joan'][edad_jubilacion]/data1['Joan'][df['Edad entrada'][0]]), 2)\n",
    "    VAAp_pere = round(VAAs[1]*((1+tipo_int)**-(jubi2[1]-jubi3[1]+1))*(data1['Pere'][edad_jubilacion]/data1['Pere'][df['Edad entrada'][1]]), 2)\n",
    "    VAAp_marta = round(VAAs[2]*((1+tipo_int)**-(jubi2[2]-jubi3[2]+1))*(data1['Marta'][edad_jubilacion]/data1['Marta'][df['Edad entrada'][2]]), 2)\n",
    "    VAAp_claudia = round(VAAs[3]*((1+tipo_int)**-(jubi2[3]-jubi3[3]+1))*(data1['Claudia'][edad_jubilacion]/data1['Claudia'][df['Edad entrada'][3]]), 2)\n",
    "    VAAp_marc = round(VAAs[4]*((1+tipo_int)**-(jubi2[4]-jubi3[4]+1))*(data1['Marc'][edad_jubilacion]/data1['Marc'][df['Edad entrada'][4]]), 2)\n",
    "    VAAp_maria = round(VAAs[5]*((1+tipo_int)**-(jubi2[5]-jubi3[5]+1))*(data1['Maria'][edad_jubilacion]/data1['Maria'][df['Edad entrada'][5]]), 2)\n",
    "    vaas_p = pd.Series([VAAp_joan, VAAp_pere, VAAp_marta, VAAp_claudia, VAAp_marc, VAAp_maria])\n",
    "    \n",
    "    ## Coste normal Credito Unitario\n",
    "    jo1 = vaas21[0]/(edad_jubilacion-df['Edad entrada'][0])\n",
    "    jo2 = vaas21[1]/(edad_jubilacion-df['Edad entrada'][1])\n",
    "    jo3 = vaas21[2]/(edad_jubilacion-df['Edad entrada'][2])\n",
    "    jo4 = vaas21[3]/(edad_jubilacion-df['Edad entrada'][3])\n",
    "    jo5 = vaas21[4]/(edad_jubilacion-df['Edad entrada'][4])\n",
    "    jo6 = vaas21[5]/(edad_jubilacion-df['Edad entrada'][5])\n",
    "    CN_credito = pd.Series([jo1, jo2, jo3, jo4, jo5, jo6])\n",
    "    \n",
    "    ## Valor actual actuarial servicios pasados\n",
    "    VAASP_CU = pd.Series([  CN_credito[0]*(df['Edad actuarial'][0]-df['Edad entrada'][0]),\n",
    "                            CN_credito[1]*(df['Edad actuarial'][1]-df['Edad entrada'][1]),\n",
    "                            CN_credito[2]*(df['Edad actuarial'][2]-df['Edad entrada'][2]),\n",
    "                            CN_credito[3]*(df['Edad actuarial'][3]-df['Edad entrada'][3]),\n",
    "                            CN_credito[4]*(df['Edad actuarial'][4]-df['Edad entrada'][4]),\n",
    "                            CN_credito[5]*(df['Edad actuarial'][5]-df['Edad entrada'][5])])\n",
    "    ## Margen de solvencia \n",
    "    margen_CU = VAASP_CU*margen_sol\n",
    "    \n",
    "    ## dataframe Credito Unitario\n",
    "    CU = pd.DataFrame({'VAAj':VAAs,'VAA 31/12/2021': vaas21, \n",
    "                       'CN 31/12/2021':CN_credito, 'VAASP 31/12/2021':VAASP_CU, 'MS 31/12/2021':margen_CU}).round(2)\n",
    "    CU.index = df['Participe'].to_list()\n",
    "    CU['VAASF 31/12/2021'] = CU.iloc[:,1]-CU.iloc[:,3]\n",
    "    \n",
    "    ## Edad de entrada -Coste Normal\n",
    "    tiempo1 = np.arange(0, (edad_jubilacion-df['Edad entrada'][0]))\n",
    "    #jo_1 = \n",
    "    jo_1 = vaas_p[0]/sum(((1+rvs)**tiempo1*(1+tipo_int)**-(tiempo1))*(data1['Joan'][df['Edad entrada'][0]+tiempo1]/data1['Joan'][df['Edad entrada'][0]]))\n",
    "    tiempo2 = np.arange(0, (edad_jubilacion-df['Edad entrada'][1]))\n",
    "    #jo_2 = \n",
    "    jo_2 = vaas_p[1]/sum(((1+rvs)**tiempo2*(1+tipo_int)**-(tiempo2))*(data1['Pere'][df['Edad entrada'][1]+tiempo2]/data1['Pere'][df['Edad entrada'][1]]))\n",
    "    tiempo3 = np.arange(0, (edad_jubilacion-df['Edad entrada'][2]))\n",
    "    #jo_3 = \n",
    "    jo_3= vaas_p[2]/sum(((1+rvs)**tiempo3*(1+tipo_int)**-(tiempo3))*(data1['Marta'][df['Edad entrada'][2]+tiempo3]/data1['Claudia'][df['Edad entrada'][2]]))\n",
    "    tiempo4 = np.arange(0, (edad_jubilacion-df['Edad entrada'][3]))\n",
    "    #jo_4 = \n",
    "    jo_4 = vaas_p[3]/sum(((1+rvs)**tiempo4*(1+tipo_int)**-(tiempo4))*(data1['Claudia'][df['Edad entrada'][3]+tiempo4]/data1['Marta'][df['Edad entrada'][3]]))\n",
    "    tiempo5 = np.arange(0, (edad_jubilacion-df['Edad entrada'][4]))\n",
    "    #jo_5 = \n",
    "    jo_5 = vaas_p[4]/sum(((1+rvs)**tiempo5*(1+tipo_int)**-(tiempo5))*(data1['Marc'][df['Edad entrada'][4]+tiempo5]/data1['Marc'][df['Edad entrada'][4]]))\n",
    "    tiempo6 = np.arange(0, (edad_jubilacion-df['Edad entrada'][5]))\n",
    "    #jo_6 = \n",
    "    jo_6 = vaas_p[5]/sum(((1+rvs)**tiempo6*(1+tipo_int)**-(tiempo6))*(data1['Maria'][df['Edad entrada'][5]+tiempo6]/data1['Maria'][df['Edad entrada'][5]]))\n",
    "    CN_EE = pd.Series([jo_1,jo_2,jo_3,jo_4,jo_5,jo_6 ]).round(2)  ## Coste Normal Edad de entrada en el 0\n",
    "    \n",
    "    # Coste Normal en el 2021 de los participes\n",
    "    p1 = CN_EE[0]*(1+tipo_int)**(df['Edad actuarial'][0]-df['Edad entrada'][0])\n",
    "    p2 = CN_EE[1]*(1+tipo_int)**(df['Edad actuarial'][1]-df['Edad entrada'][1])\n",
    "    p3 = CN_EE[2]*(1+tipo_int)**(df['Edad actuarial'][2]-df['Edad entrada'][2])\n",
    "    p4 = CN_EE[3]*(1+tipo_int)**(df['Edad actuarial'][3]-df['Edad entrada'][3])\n",
    "    p5 = CN_EE[4]*(1+tipo_int)**(df['Edad actuarial'][4]-df['Edad entrada'][4])\n",
    "    p6 = CN_EE[5]*(1+tipo_int)**(df['Edad actuarial'][5]-df['Edad entrada'][5])\n",
    "    \n",
    "    CN_EE21 = pd.Series([p1,p2, p3, p4, p5, p6]).round(2)\n",
    "    \n",
    "    ## Valor actual actuarial servicios pasados edad de entradad al 2021\n",
    "    w1 = np.arange(0, (edad_jubilacion-df['Edad actuarial'][0]))\n",
    "    joa1 = round(sum(CN_EE21[0]*(1+rvs)**w1*(1+tipo_int)**-w1*(data1['Joan'][df['Edad actuarial'][0]+w1]/data1['Joan'][df['Edad actuarial'][0]])), 2)\n",
    "    \n",
    "    w1 = np.arange(0, (edad_jubilacion-df['Edad actuarial'][1]))\n",
    "    joa2 = round(sum(CN_EE21[0]*(1+rvs)**w1*(1+tipo_int)**-w1*(data1['Joan'][df['Edad actuarial'][1]+w1]/data1['Joan'][df['Edad actuarial'][1]])), 2)\n",
    "    \n",
    "    w1 = np.arange(0, (edad_jubilacion-df['Edad actuarial'][2]))\n",
    "    joa3 = round(sum(CN_EE21[0]*(1+rvs)**w1*(1+tipo_int)**-w1*(data1['Joan'][df['Edad actuarial'][2]+w1]/data1['Joan'][df['Edad actuarial'][2]])), 2)\n",
    "    \n",
    "    w1 = np.arange(0, (edad_jubilacion-df['Edad actuarial'][3]))\n",
    "    joa4 = round(sum(CN_EE21[0]*(1+rvs)**w1*(1+tipo_int)**-w1*(data1['Joan'][df['Edad actuarial'][3]+w1]/data1['Joan'][df['Edad actuarial'][3]])), 2)\n",
    "    \n",
    "    w1 = np.arange(0, (edad_jubilacion-df['Edad actuarial'][4]))\n",
    "    joa5 = round(sum(CN_EE21[0]*(1+rvs)**w1*(1+tipo_int)**-w1*(data1['Joan'][df['Edad actuarial'][4]+w1]/data1['Joan'][df['Edad actuarial'][4]])), 2)\n",
    "    \n",
    "    w1 = np.arange(0, (edad_jubilacion-df['Edad actuarial'][5]))\n",
    "    joa6 = round(sum(CN_EE21[0]*(1+rvs)**w1*(1+tipo_int)**-w1*(data1['Joan'][df['Edad actuarial'][5]+w1]/data1['Joan'][df['Edad actuarial'][5]])), 2)\n",
    "    \n",
    "    serie_vaasp = vaas21-pd.Series([joa1, joa2, joa3, joa4, joa5, joa6])\n",
    "    \n",
    "    ## Margen metodo de entrada\n",
    "    mar_EE = serie_vaasp*margen_sol\n",
    "    \n",
    "    df_EE = pd.DataFrame({'VAAj':VAAs,'VAA 31/12/2021': vaas21, 'CN 31/12/2021':CN_EE21, 'VAASP 31/12/2021':serie_vaasp, 'VAA en ALTA':vaas_p,\n",
    "                         'MS 31/12/2021':mar_EE.round(2)})\n",
    "    df_EE['VAASF 31/12/2021'] = df_EE.iloc[:,1]-df_EE.iloc[:,3]\n",
    "    print('='*75)\n",
    "    print('Hipotesis')\n",
    "    print(f'Interés técnico valoración: {tipo_int*100}%')\n",
    "    print(f'Revalorizaciòn Salario: {rvs*100}%')\n",
    "    print(f'Revalorización Pensión: {rvp*100}%')\n",
    "    print(f'Beta Pension: {beta}')\n",
    "    print('='*75)\n",
    "    print(df.set_index('Participe').T)\n",
    "    print('='*75)\n",
    "    print('METODO: Credito Unitario Proyectado')\n",
    "    #print(round(CU.T, 2))\n",
    "    #print(CU)\n",
    "    print('='*75)\n",
    "    print('METODO: Edad de entrada')\n",
    "    print(df_EE)\n",
    "\n",
    "    #return df_EE, df.set_index('Participe').T"
   ]
  },
  {
   "cell_type": "code",
   "execution_count": null,
   "metadata": {},
   "outputs": [],
   "source": []
  },
  {
   "cell_type": "code",
   "execution_count": 45,
   "metadata": {},
   "outputs": [
    {
     "data": {
      "text/html": [
       "<div>\n",
       "<style scoped>\n",
       "    .dataframe tbody tr th:only-of-type {\n",
       "        vertical-align: middle;\n",
       "    }\n",
       "\n",
       "    .dataframe tbody tr th {\n",
       "        vertical-align: top;\n",
       "    }\n",
       "\n",
       "    .dataframe thead th {\n",
       "        text-align: right;\n",
       "    }\n",
       "</style>\n",
       "<table border=\"1\" class=\"dataframe\">\n",
       "  <thead>\n",
       "    <tr style=\"text-align: right;\">\n",
       "      <th></th>\n",
       "      <th>Participe</th>\n",
       "      <th>Nacimiento</th>\n",
       "      <th>Alta</th>\n",
       "      <th>Salario 2021</th>\n",
       "    </tr>\n",
       "  </thead>\n",
       "  <tbody>\n",
       "    <tr>\n",
       "      <th>0</th>\n",
       "      <td>Joan</td>\n",
       "      <td>06/07/1973</td>\n",
       "      <td>15/02/1998</td>\n",
       "      <td>29944</td>\n",
       "    </tr>\n",
       "    <tr>\n",
       "      <th>1</th>\n",
       "      <td>Pere</td>\n",
       "      <td>03/12/1981</td>\n",
       "      <td>08/03/2019</td>\n",
       "      <td>37586</td>\n",
       "    </tr>\n",
       "    <tr>\n",
       "      <th>2</th>\n",
       "      <td>Marta</td>\n",
       "      <td>06/03/1957</td>\n",
       "      <td>01/09/1985</td>\n",
       "      <td>60172</td>\n",
       "    </tr>\n",
       "    <tr>\n",
       "      <th>3</th>\n",
       "      <td>Claudia</td>\n",
       "      <td>09/11/1989</td>\n",
       "      <td>09/10/2015</td>\n",
       "      <td>36236</td>\n",
       "    </tr>\n",
       "    <tr>\n",
       "      <th>4</th>\n",
       "      <td>Marc</td>\n",
       "      <td>10/07/1990</td>\n",
       "      <td>01/10/2010</td>\n",
       "      <td>47755</td>\n",
       "    </tr>\n",
       "    <tr>\n",
       "      <th>5</th>\n",
       "      <td>Maria</td>\n",
       "      <td>11/09/1995</td>\n",
       "      <td>08/08/2018</td>\n",
       "      <td>35612</td>\n",
       "    </tr>\n",
       "  </tbody>\n",
       "</table>\n",
       "</div>"
      ],
      "text/plain": [
       "  Participe  Nacimiento        Alta  Salario 2021\n",
       "0      Joan  06/07/1973  15/02/1998         29944\n",
       "1      Pere  03/12/1981  08/03/2019         37586\n",
       "2     Marta  06/03/1957  01/09/1985         60172\n",
       "3   Claudia  09/11/1989  09/10/2015         36236\n",
       "4      Marc  10/07/1990  01/10/2010         47755\n",
       "5     Maria  11/09/1995  08/08/2018         35612"
      ]
     },
     "execution_count": 45,
     "metadata": {},
     "output_type": "execute_result"
    }
   ],
   "source": [
    "datos = pd.DataFrame({'Participe':['Joan', 'Pere', 'Marta', 'Claudia', 'Marc', 'Maria'], \n",
    "                     'Nacimiento':['06/07/1973', '03/12/1981', '06/03/1957','09/11/1989','10/07/1990',\n",
    "                                  '11/09/1995'],\n",
    "                     'Alta':['15/02/1998','08/03/2019','01/09/1985','09/10/2015','01/10/2010',\n",
    "                            '08/08/2018'],\n",
    "                     'Salario 2021':[29944, 37586, 60172, 36236, 47755, 35612]})\n",
    "datos"
   ]
  },
  {
   "cell_type": "code",
   "execution_count": 26,
   "metadata": {},
   "outputs": [
    {
     "data": {
      "text/plain": [
       "41"
      ]
     },
     "execution_count": 26,
     "metadata": {},
     "output_type": "execute_result"
    }
   ],
   "source": [
    "round(((pd.to_datetime('31/12/2021') - pd.to_datetime('03/12/1981'))/365.25)/np.timedelta64(1, 'D'))"
   ]
  },
  {
   "cell_type": "code",
   "execution_count": null,
   "metadata": {},
   "outputs": [],
   "source": []
  },
  {
   "cell_type": "code",
   "execution_count": 25,
   "metadata": {},
   "outputs": [
    {
     "data": {
      "text/plain": [
       "48.48733744010951"
      ]
     },
     "execution_count": 25,
     "metadata": {},
     "output_type": "execute_result"
    }
   ],
   "source": [
    "(( pd.to_datetime('31/12/2021', dayfirst=True)- pd.to_datetime('06/07/1973', dayfirst=True) )/365.25)/np.timedelta64(1, 'D')"
   ]
  },
  {
   "cell_type": "code",
   "execution_count": null,
   "metadata": {},
   "outputs": [],
   "source": []
  },
  {
   "cell_type": "code",
   "execution_count": null,
   "metadata": {},
   "outputs": [],
   "source": []
  },
  {
   "cell_type": "code",
   "execution_count": null,
   "metadata": {},
   "outputs": [],
   "source": []
  },
  {
   "cell_type": "code",
   "execution_count": 17,
   "metadata": {},
   "outputs": [
    {
     "data": {
      "text/plain": [
       "48.43412969283276"
      ]
     },
     "execution_count": 17,
     "metadata": {},
     "output_type": "execute_result"
    }
   ],
   "source": [
    "(pd.to_datetime('31/12/2021')- pd.to_datetime('06/07/1973')).days/366.25"
   ]
  },
  {
   "cell_type": "code",
   "execution_count": null,
   "metadata": {},
   "outputs": [],
   "source": []
  },
  {
   "cell_type": "code",
   "execution_count": 49,
   "metadata": {},
   "outputs": [
    {
     "name": "stdout",
     "output_type": "stream",
     "text": [
      "===========================================================================\n",
      "Hipotesis\n",
      "Interés técnico valoración: 0.22%\n",
      "Revalorizaciòn Salario: 1.5%\n",
      "Revalorización Pensión: 1.0%\n",
      "Beta Pension: 0.15\n",
      "===========================================================================\n",
      "Participe             Joan        Pere       Marta     Claudia        Marc  \\\n",
      "Nacimiento      06/07/1973  03/12/1981  06/03/1957  09/11/1989  10/07/1990   \n",
      "Alta            15/02/1998  08/03/2019  01/09/1985  09/10/2015  01/10/2010   \n",
      "Salario 2021         29944       37586       60172       36236       47755   \n",
      "Edad actuarial          25          37          28          26          20   \n",
      "Edad entrada            48          40          65          32          31   \n",
      "Jubilacion            2038        2046        2022        2054        2055   \n",
      "Proyectado        53516.22    56183.56     60172.0    63804.29    91944.28   \n",
      "PJ corriente        668.95      702.29      752.15      797.55      1149.3   \n",
      "\n",
      "Participe            Maria  \n",
      "Nacimiento      11/09/1995  \n",
      "Alta            08/08/2018  \n",
      "Salario 2021         35612  \n",
      "Edad actuarial          23  \n",
      "Edad entrada            26  \n",
      "Jubilacion            2060  \n",
      "Proyectado        65569.84  \n",
      "PJ corriente        819.62  \n",
      "===========================================================================\n",
      "METODO: Credito Unitario Proyectado\n",
      "===========================================================================\n",
      "METODO: Edad de entrada\n",
      "        VAAj  VAA 31/12/2021  CN 31/12/2021  VAASP 31/12/2021  VAA en ALTA  \\\n",
      "0  184354.82       159593.37        8273.51        -261491.69    161372.54   \n",
      "1  267778.76       241497.17        8328.87         -30235.98    241767.62   \n",
      "2  319336.99       282262.01            inf         -99407.91    293752.85   \n",
      "3  346284.78       311393.82        7418.60         -96394.81    310917.08   \n",
      "4  413633.53       361016.22        8428.47        -129041.35    361110.44   \n",
      "5  380114.32       340358.48        6766.79        -107803.23    339700.77   \n",
      "\n",
      "   MS 31/12/2021  VAASF 31/12/2021  \n",
      "0       -5229.83         421085.06  \n",
      "1        -604.72         271733.15  \n",
      "2       -1988.16         381669.92  \n",
      "3       -1927.90         407788.63  \n",
      "4       -2580.83         490057.57  \n",
      "5       -2156.06         448161.71  \n"
     ]
    },
    {
     "name": "stderr",
     "output_type": "stream",
     "text": [
      "<ipython-input-48-b9f0795d6361>:114: RuntimeWarning: divide by zero encountered in double_scalars\n",
      "  jo3 = vaas21[2]/(edad_jubilacion-df['Edad entrada'][2])\n",
      "<ipython-input-48-b9f0795d6361>:145: RuntimeWarning: divide by zero encountered in double_scalars\n",
      "  jo_3= vaas_p[2]/sum(((1+rvs)**tiempo3*(1+tipo_int)**-(tiempo3))*(data1['Marta'][df['Edad entrada'][2]+tiempo3]/data1['Claudia'][df['Edad entrada'][2]]))\n"
     ]
    }
   ],
   "source": [
    "prestacion_definida(datos)"
   ]
  },
  {
   "cell_type": "code",
   "execution_count": null,
   "metadata": {},
   "outputs": [],
   "source": []
  },
  {
   "cell_type": "code",
   "execution_count": null,
   "metadata": {},
   "outputs": [],
   "source": []
  },
  {
   "cell_type": "code",
   "execution_count": null,
   "metadata": {},
   "outputs": [],
   "source": []
  },
  {
   "cell_type": "code",
   "execution_count": null,
   "metadata": {},
   "outputs": [],
   "source": []
  },
  {
   "cell_type": "code",
   "execution_count": null,
   "metadata": {},
   "outputs": [],
   "source": []
  },
  {
   "cell_type": "code",
   "execution_count": null,
   "metadata": {},
   "outputs": [],
   "source": []
  },
  {
   "cell_type": "code",
   "execution_count": null,
   "metadata": {},
   "outputs": [],
   "source": []
  },
  {
   "cell_type": "code",
   "execution_count": 30,
   "metadata": {},
   "outputs": [],
   "source": [
    "raw1 = 'https://raw.githubusercontent.com/Joevalencia/Planes_pensione_ALM/main/Participes_aportacion.csv'\n",
    "data1 = pd.read_csv(raw1).rename(columns = {'Antoni': 'Joan'})\n",
    "raw2 = 'https://raw.githubusercontent.com/Joevalencia/Planes_pensione_ALM/main/approximation_planex.csv'\n",
    "data2 = pd.read_csv(raw2).rename(columns = {'Antoni': 'Joan'})\n",
    "del data1['Unnamed: 0']\n",
    "del data2['Unnamed: 0']\n",
    "j = 'https://raw.githubusercontent.com/Joevalencia/Planes_pensione_ALM/main/variation6.csv'\n",
    "ok = pd.read_csv(j)\n",
    "k = 'https://raw.githubusercontent.com/Joevalencia/Planes_pensione_ALM/main/px_mens_participes.csv'\n",
    "ok1 = pd.read_csv(k)\n"
   ]
  },
  {
   "cell_type": "code",
   "execution_count": 10,
   "metadata": {},
   "outputs": [
    {
     "name": "stdout",
     "output_type": "stream",
     "text": [
      "===========================================================================\n",
      "Hipotesis\n",
      "Interés técnico valoración: 0.22%\n",
      "Revalorizaciòn Salario: 1.5%\n",
      "Revalorización Pensión: 1.0%\n",
      "Beta Pension: 0.15\n",
      "===========================================================================\n",
      "Participe             Joan        Pere       Marta     Claudia        Marc  \\\n",
      "Nacimiento      06/07/1973  03/12/1981  06/03/1957  09/11/1989  10/07/1990   \n",
      "Alta            15/02/1998  08/03/2019  01/09/1985  09/10/2015  01/10/2010   \n",
      "Salario 2021         29944       37586       60172       36236       47755   \n",
      "Edad actuarial        49.0        41.0        65.0        32.0        31.0   \n",
      "Edad entrada          25.0        38.0        28.0        26.0        19.0   \n",
      "Jubilacion            2038        2046        2022        2054        2055   \n",
      "Proyectado        37436.95    52935.26     60172.0    58351.71    78054.55   \n",
      "PJ corriente        467.96      661.69      752.15       729.4      975.68   \n",
      "\n",
      "Participe            Maria  \n",
      "Nacimiento      11/09/1995  \n",
      "Alta            08/08/2018  \n",
      "Salario 2021         35612  \n",
      "Edad actuarial        26.0  \n",
      "Edad entrada          23.0  \n",
      "Jubilacion            2060  \n",
      "Proyectado        62705.55  \n",
      "PJ corriente        783.82  \n",
      "===========================================================================\n",
      "METODO: Credito Unitario Proyectado\n",
      "===========================================================================\n",
      "METODO: Edad de entrada\n"
     ]
    }
   ],
   "source": [
    "prestacion_definida(datos)"
   ]
  },
  {
   "cell_type": "code",
   "execution_count": null,
   "metadata": {},
   "outputs": [],
   "source": []
  },
  {
   "cell_type": "code",
   "execution_count": 7,
   "metadata": {},
   "outputs": [],
   "source": [
    "t = np.arange(0, (120-65)*12)\n"
   ]
  },
  {
   "cell_type": "code",
   "execution_count": 28,
   "metadata": {},
   "outputs": [
    {
     "data": {
      "text/plain": [
       "188483.08"
      ]
     },
     "execution_count": 28,
     "metadata": {},
     "output_type": "execute_result"
    }
   ],
   "source": [
    "round(sum(ok['Joan_var']*1.0022**-((t+1)/12)*ok1['Joan']), 2)"
   ]
  },
  {
   "cell_type": "code",
   "execution_count": 16,
   "metadata": {},
   "outputs": [
    {
     "data": {
      "text/plain": [
       "0      0.999621\n",
       "1      0.999242\n",
       "2      0.998863\n",
       "3      0.998485\n",
       "4      0.998106\n",
       "         ...   \n",
       "655    0.000000\n",
       "656    0.000000\n",
       "657    0.000000\n",
       "658    0.000000\n",
       "659    0.000000\n",
       "Name: Joan, Length: 660, dtype: float64"
      ]
     },
     "execution_count": 16,
     "metadata": {},
     "output_type": "execute_result"
    }
   ],
   "source": []
  },
  {
   "cell_type": "code",
   "execution_count": 24,
   "metadata": {},
   "outputs": [
    {
     "data": {
      "text/plain": [
       "0.999621"
      ]
     },
     "execution_count": 24,
     "metadata": {},
     "output_type": "execute_result"
    }
   ],
   "source": [
    "round(data2['Joan'][781]/data2['Joan'][780],6)"
   ]
  },
  {
   "cell_type": "code",
   "execution_count": null,
   "metadata": {},
   "outputs": [],
   "source": []
  },
  {
   "cell_type": "code",
   "execution_count": null,
   "metadata": {},
   "outputs": [],
   "source": []
  },
  {
   "cell_type": "code",
   "execution_count": 94,
   "metadata": {},
   "outputs": [
    {
     "data": {
      "text/plain": [
       "0.9590366479652812"
      ]
     },
     "execution_count": 94,
     "metadata": {},
     "output_type": "execute_result"
    }
   ],
   "source": [
    "data1.Antoni[65]/data1.Antoni[49]"
   ]
  },
  {
   "cell_type": "code",
   "execution_count": 6,
   "metadata": {},
   "outputs": [
    {
     "data": {
      "text/plain": [
       "4680.726638398424"
      ]
     },
     "execution_count": 6,
     "metadata": {},
     "output_type": "execute_result"
    }
   ],
   "source": [
    "126016/sum(1.01**np.arange(0, (47-19))*1.0125**-(np.arange(0, (47-19)))*data1['Antoni'][np.arange(19, 47)]/data1['Antoni'][19])"
   ]
  },
  {
   "cell_type": "code",
   "execution_count": null,
   "metadata": {},
   "outputs": [],
   "source": []
  },
  {
   "cell_type": "code",
   "execution_count": 58,
   "metadata": {},
   "outputs": [],
   "source": [
    "var = np.roll(np.round(783.82*1.015**np.floor(np.arange(0,660) / 12 ), 2),-8)\n",
    "var[-8:] = var[-9]\n",
    "var[0] = 0\n",
    "var_m5 = pd.Series(var)\n"
   ]
  },
  {
   "cell_type": "code",
   "execution_count": 61,
   "metadata": {},
   "outputs": [
    {
     "data": {
      "text/html": [
       "<div>\n",
       "<style scoped>\n",
       "    .dataframe tbody tr th:only-of-type {\n",
       "        vertical-align: middle;\n",
       "    }\n",
       "\n",
       "    .dataframe tbody tr th {\n",
       "        vertical-align: top;\n",
       "    }\n",
       "\n",
       "    .dataframe thead th {\n",
       "        text-align: right;\n",
       "    }\n",
       "</style>\n",
       "<table border=\"1\" class=\"dataframe\">\n",
       "  <thead>\n",
       "    <tr style=\"text-align: right;\">\n",
       "      <th></th>\n",
       "      <th>Joan</th>\n",
       "      <th>Pere</th>\n",
       "      <th>Marta</th>\n",
       "      <th>Claudia</th>\n",
       "      <th>Marc</th>\n",
       "      <th>Maria</th>\n",
       "    </tr>\n",
       "  </thead>\n",
       "  <tbody>\n",
       "    <tr>\n",
       "      <th>0</th>\n",
       "      <td>0.00</td>\n",
       "      <td>0.00</td>\n",
       "      <td>0.00</td>\n",
       "      <td>0.00</td>\n",
       "      <td>0.00</td>\n",
       "      <td>0.00</td>\n",
       "    </tr>\n",
       "    <tr>\n",
       "      <th>1</th>\n",
       "      <td>467.96</td>\n",
       "      <td>671.62</td>\n",
       "      <td>752.15</td>\n",
       "      <td>729.40</td>\n",
       "      <td>975.68</td>\n",
       "      <td>783.82</td>\n",
       "    </tr>\n",
       "    <tr>\n",
       "      <th>2</th>\n",
       "      <td>467.96</td>\n",
       "      <td>671.62</td>\n",
       "      <td>752.15</td>\n",
       "      <td>740.34</td>\n",
       "      <td>975.68</td>\n",
       "      <td>783.82</td>\n",
       "    </tr>\n",
       "    <tr>\n",
       "      <th>3</th>\n",
       "      <td>467.96</td>\n",
       "      <td>671.62</td>\n",
       "      <td>752.15</td>\n",
       "      <td>740.34</td>\n",
       "      <td>975.68</td>\n",
       "      <td>783.82</td>\n",
       "    </tr>\n",
       "    <tr>\n",
       "      <th>4</th>\n",
       "      <td>467.96</td>\n",
       "      <td>671.62</td>\n",
       "      <td>752.15</td>\n",
       "      <td>740.34</td>\n",
       "      <td>975.68</td>\n",
       "      <td>795.58</td>\n",
       "    </tr>\n",
       "    <tr>\n",
       "      <th>...</th>\n",
       "      <td>...</td>\n",
       "      <td>...</td>\n",
       "      <td>...</td>\n",
       "      <td>...</td>\n",
       "      <td>...</td>\n",
       "      <td>...</td>\n",
       "    </tr>\n",
       "    <tr>\n",
       "      <th>655</th>\n",
       "      <td>1045.62</td>\n",
       "      <td>1478.50</td>\n",
       "      <td>1680.62</td>\n",
       "      <td>1629.79</td>\n",
       "      <td>2180.09</td>\n",
       "      <td>1751.39</td>\n",
       "    </tr>\n",
       "    <tr>\n",
       "      <th>656</th>\n",
       "      <td>1045.62</td>\n",
       "      <td>1478.50</td>\n",
       "      <td>1680.62</td>\n",
       "      <td>1629.79</td>\n",
       "      <td>2180.09</td>\n",
       "      <td>1751.39</td>\n",
       "    </tr>\n",
       "    <tr>\n",
       "      <th>657</th>\n",
       "      <td>1045.62</td>\n",
       "      <td>1478.50</td>\n",
       "      <td>1680.62</td>\n",
       "      <td>1629.79</td>\n",
       "      <td>2180.09</td>\n",
       "      <td>1751.39</td>\n",
       "    </tr>\n",
       "    <tr>\n",
       "      <th>658</th>\n",
       "      <td>1045.62</td>\n",
       "      <td>1478.50</td>\n",
       "      <td>1680.62</td>\n",
       "      <td>1629.79</td>\n",
       "      <td>2180.09</td>\n",
       "      <td>1751.39</td>\n",
       "    </tr>\n",
       "    <tr>\n",
       "      <th>659</th>\n",
       "      <td>1045.62</td>\n",
       "      <td>1478.50</td>\n",
       "      <td>1680.62</td>\n",
       "      <td>1629.79</td>\n",
       "      <td>2180.09</td>\n",
       "      <td>1751.39</td>\n",
       "    </tr>\n",
       "  </tbody>\n",
       "</table>\n",
       "<p>660 rows × 6 columns</p>\n",
       "</div>"
      ],
      "text/plain": [
       "        Joan     Pere    Marta  Claudia     Marc    Maria\n",
       "0       0.00     0.00     0.00     0.00     0.00     0.00\n",
       "1     467.96   671.62   752.15   729.40   975.68   783.82\n",
       "2     467.96   671.62   752.15   740.34   975.68   783.82\n",
       "3     467.96   671.62   752.15   740.34   975.68   783.82\n",
       "4     467.96   671.62   752.15   740.34   975.68   795.58\n",
       "..       ...      ...      ...      ...      ...      ...\n",
       "655  1045.62  1478.50  1680.62  1629.79  2180.09  1751.39\n",
       "656  1045.62  1478.50  1680.62  1629.79  2180.09  1751.39\n",
       "657  1045.62  1478.50  1680.62  1629.79  2180.09  1751.39\n",
       "658  1045.62  1478.50  1680.62  1629.79  2180.09  1751.39\n",
       "659  1045.62  1478.50  1680.62  1629.79  2180.09  1751.39\n",
       "\n",
       "[660 rows x 6 columns]"
      ]
     },
     "execution_count": 61,
     "metadata": {},
     "output_type": "execute_result"
    }
   ],
   "source": [
    "varias = pd.DataFrame({'Joan': var_m0, 'Pere':var_m1, 'Marta':var_m2, 'Claudia':var_m3, 'Marc':var_m4, 'Maria':var_m5})\n",
    "varias"
   ]
  },
  {
   "cell_type": "code",
   "execution_count": null,
   "metadata": {},
   "outputs": [],
   "source": []
  },
  {
   "cell_type": "code",
   "execution_count": null,
   "metadata": {},
   "outputs": [],
   "source": []
  },
  {
   "cell_type": "code",
   "execution_count": 51,
   "metadata": {},
   "outputs": [],
   "source": [
    "dt1 = pd.DataFrame({'Joan_var':var_jo, 'Pere_var':var_pe, 'Marta_var':var_m1, 'Claudia_var':var_cl, 'Marc_var':var_m2,\n",
    "                   'Maria_var':var_m3})\n",
    "dt1.to_csv('variation6.csv')"
   ]
  },
  {
   "cell_type": "code",
   "execution_count": 28,
   "metadata": {},
   "outputs": [
    {
     "data": {
      "text/plain": [
       "0         0.00\n",
       "1       467.96\n",
       "2       467.96\n",
       "3       467.96\n",
       "4       467.96\n",
       "        ...   \n",
       "655    1363.38\n",
       "656    1363.38\n",
       "657    1363.38\n",
       "658    1363.38\n",
       "659    1363.38\n",
       "Length: 660, dtype: float64"
      ]
     },
     "execution_count": 28,
     "metadata": {},
     "output_type": "execute_result"
    }
   ],
   "source": [
    "var = np.roll(np.round(r2[0]*1.02**np.floor(np.arange(0,660) / 12 ), 2),-(r1[0]-1))\n",
    "var[-(r1[0]-1):] = var[-(r1[0])]\n",
    "var[0] = 0\n",
    "var = pd.Series(var)\n",
    "var"
   ]
  },
  {
   "cell_type": "code",
   "execution_count": 40,
   "metadata": {},
   "outputs": [
    {
     "data": {
      "text/plain": [
       "0        0.00\n",
       "1      474.98\n",
       "2      474.98\n",
       "3      474.98\n",
       "4      474.98\n",
       "        ...  \n",
       "655    812.89\n",
       "656    812.89\n",
       "657    812.89\n",
       "658    812.89\n",
       "659    812.89\n",
       "Length: 660, dtype: float64"
      ]
     },
     "execution_count": 40,
     "metadata": {},
     "output_type": "execute_result"
    }
   ],
   "source": [
    "var = np.roll(np.round(474.98*1.01**np.floor(np.arange(0,660) / 12 ), 2),-6)\n",
    "var[-6:] = var[-7]\n",
    "var[0] = 0\n",
    "var = pd.Series(var)\n",
    "var"
   ]
  },
  {
   "cell_type": "code",
   "execution_count": 28,
   "metadata": {},
   "outputs": [
    {
     "data": {
      "text/plain": [
       "0         0.00\n",
       "1       671.62\n",
       "2       671.62\n",
       "3       671.62\n",
       "4       671.62\n",
       "        ...   \n",
       "655    1149.42\n",
       "656    1149.42\n",
       "657    1149.42\n",
       "658    1149.42\n",
       "659    1149.42\n",
       "Length: 660, dtype: float64"
      ]
     },
     "execution_count": 28,
     "metadata": {},
     "output_type": "execute_result"
    }
   ],
   "source": [
    "var = np.roll(np.round(671.62*1.01**np.floor(np.arange(0,660) / 12 ), 2),-2)\n",
    "var[-2:] = var[-3]\n",
    "var[0] = 0\n",
    "var1 = pd.Series(var)\n",
    "var1"
   ]
  },
  {
   "cell_type": "code",
   "execution_count": null,
   "metadata": {},
   "outputs": [],
   "source": []
  },
  {
   "cell_type": "code",
   "execution_count": 41,
   "metadata": {},
   "outputs": [],
   "source": [
    "new = pd.read_csv('variation6.csv')\n",
    "new['Joan_var'] = var"
   ]
  },
  {
   "cell_type": "code",
   "execution_count": 45,
   "metadata": {},
   "outputs": [],
   "source": [
    "new.to_csv('variation6.csv')"
   ]
  },
  {
   "cell_type": "code",
   "execution_count": 55,
   "metadata": {},
   "outputs": [
    {
     "name": "stdout",
     "output_type": "stream",
     "text": [
      "===========================================================================\n",
      "Hipotesis\n",
      "Interés técnico valoración: 0.22%\n",
      "Revalorizaciòn Salario: 1.5%\n",
      "Revalorización Pensión: 1.0%\n",
      "Beta Pension: 0.15\n",
      "===========================================================================\n",
      "Participe             Joan        Pere       Marta     Claudia        Marc  \\\n",
      "Nacimiento      06/07/1973  03/12/1981  06/03/1957  09/11/1989  10/07/1990   \n",
      "Alta            15/02/1998  08/03/2019  01/09/1985  09/10/2015  01/10/2010   \n",
      "Salario 2021         29944       37586       60172       36236       47755   \n",
      "Edad actuarial        49.0        41.0        65.0        32.0        31.0   \n",
      "Edad entrada          25.0        38.0        28.0        26.0        19.0   \n",
      "Jubilacion            2038        2046        2022        2054        2055   \n",
      "Proyectado        37436.95    52935.26     60172.0    58351.71    78054.55   \n",
      "PJ corriente        467.96      661.69      752.15       729.4      975.68   \n",
      "\n",
      "Participe            Maria  \n",
      "Nacimiento      11/09/1995  \n",
      "Alta            08/08/2018  \n",
      "Salario 2021         35612  \n",
      "Edad actuarial        26.0  \n",
      "Edad entrada          23.0  \n",
      "Jubilacion            2060  \n",
      "Proyectado        62705.55  \n",
      "PJ corriente        783.82  \n",
      "===========================================================================\n",
      "Credito Unitario\n",
      "                       Joan       Pere      Marta    Claudia       Marc  \\\n",
      "VAAj              188517.60  278196.98  322348.83  357972.95  422803.25   \n",
      "VAA 31/12/2021    174548.75  252280.22  320935.16  325677.52  378228.29   \n",
      "Alta Firm         162838.79  250892.88  284399.95  321197.68  368209.42   \n",
      "CN 31/12/2021       4363.72    9388.87    8712.13    8369.08    8238.68   \n",
      "VAASP 31/12/2021  104729.28   28166.61  322348.81   50214.48   98864.16   \n",
      "Margen              2094.59     563.33    6446.98    1004.29    1977.28   \n",
      "\n",
      "                      Maria  \n",
      "VAAj              390488.14  \n",
      "VAA 31/12/2021    351279.94  \n",
      "Alta Firm         348879.77  \n",
      "CN 31/12/2021       8382.21  \n",
      "VAASP 31/12/2021   25146.63  \n",
      "Margen               502.93  \n",
      "===========================================================================\n",
      "0      5875.33\n",
      "1     82603.46\n",
      "2      6280.75\n",
      "3     50810.65\n",
      "4     28623.95\n",
      "5    114830.79\n",
      "dtype: float64\n"
     ]
    }
   ],
   "source": [
    "prestacion_definida(datos)"
   ]
  },
  {
   "cell_type": "code",
   "execution_count": 42,
   "metadata": {},
   "outputs": [
    {
     "name": "stdout",
     "output_type": "stream",
     "text": [
      "===========================================================================\n",
      "Hipotesis\n",
      "Interés técnico valoración: 0.22%\n",
      "Revalorizaciòn Salario: 1.5%\n",
      "Revalorización Pensión: 1.0%\n",
      "Beta Pension: 0.15\n",
      "===========================================================================\n",
      "===========================================================================\n",
      "Credito Unitario\n"
     ]
    },
    {
     "data": {
      "text/html": [
       "<div>\n",
       "<style scoped>\n",
       "    .dataframe tbody tr th:only-of-type {\n",
       "        vertical-align: middle;\n",
       "    }\n",
       "\n",
       "    .dataframe tbody tr th {\n",
       "        vertical-align: top;\n",
       "    }\n",
       "\n",
       "    .dataframe thead th {\n",
       "        text-align: right;\n",
       "    }\n",
       "</style>\n",
       "<table border=\"1\" class=\"dataframe\">\n",
       "  <thead>\n",
       "    <tr style=\"text-align: right;\">\n",
       "      <th></th>\n",
       "      <th>Unnamed: 0</th>\n",
       "      <th>Joan_var</th>\n",
       "      <th>Pere_var</th>\n",
       "      <th>Marta_var</th>\n",
       "      <th>Claudia_var</th>\n",
       "      <th>Marc_var</th>\n",
       "      <th>Maria_var</th>\n",
       "    </tr>\n",
       "  </thead>\n",
       "  <tbody>\n",
       "    <tr>\n",
       "      <th>0</th>\n",
       "      <td>0</td>\n",
       "      <td>0.00</td>\n",
       "      <td>0.00</td>\n",
       "      <td>0.00</td>\n",
       "      <td>0.00</td>\n",
       "      <td>0.00</td>\n",
       "      <td>0.00</td>\n",
       "    </tr>\n",
       "    <tr>\n",
       "      <th>1</th>\n",
       "      <td>1</td>\n",
       "      <td>467.96</td>\n",
       "      <td>671.62</td>\n",
       "      <td>752.15</td>\n",
       "      <td>729.40</td>\n",
       "      <td>975.68</td>\n",
       "      <td>783.82</td>\n",
       "    </tr>\n",
       "    <tr>\n",
       "      <th>2</th>\n",
       "      <td>2</td>\n",
       "      <td>467.96</td>\n",
       "      <td>671.62</td>\n",
       "      <td>752.15</td>\n",
       "      <td>740.34</td>\n",
       "      <td>975.68</td>\n",
       "      <td>783.82</td>\n",
       "    </tr>\n",
       "    <tr>\n",
       "      <th>3</th>\n",
       "      <td>3</td>\n",
       "      <td>467.96</td>\n",
       "      <td>671.62</td>\n",
       "      <td>752.15</td>\n",
       "      <td>740.34</td>\n",
       "      <td>975.68</td>\n",
       "      <td>783.82</td>\n",
       "    </tr>\n",
       "    <tr>\n",
       "      <th>4</th>\n",
       "      <td>4</td>\n",
       "      <td>467.96</td>\n",
       "      <td>671.62</td>\n",
       "      <td>752.15</td>\n",
       "      <td>740.34</td>\n",
       "      <td>975.68</td>\n",
       "      <td>795.58</td>\n",
       "    </tr>\n",
       "    <tr>\n",
       "      <th>...</th>\n",
       "      <td>...</td>\n",
       "      <td>...</td>\n",
       "      <td>...</td>\n",
       "      <td>...</td>\n",
       "      <td>...</td>\n",
       "      <td>...</td>\n",
       "      <td>...</td>\n",
       "    </tr>\n",
       "    <tr>\n",
       "      <th>655</th>\n",
       "      <td>655</td>\n",
       "      <td>1045.62</td>\n",
       "      <td>1478.50</td>\n",
       "      <td>1680.62</td>\n",
       "      <td>1629.79</td>\n",
       "      <td>2180.09</td>\n",
       "      <td>1751.39</td>\n",
       "    </tr>\n",
       "    <tr>\n",
       "      <th>656</th>\n",
       "      <td>656</td>\n",
       "      <td>1045.62</td>\n",
       "      <td>1478.50</td>\n",
       "      <td>1680.62</td>\n",
       "      <td>1629.79</td>\n",
       "      <td>2180.09</td>\n",
       "      <td>1751.39</td>\n",
       "    </tr>\n",
       "    <tr>\n",
       "      <th>657</th>\n",
       "      <td>657</td>\n",
       "      <td>1045.62</td>\n",
       "      <td>1478.50</td>\n",
       "      <td>1680.62</td>\n",
       "      <td>1629.79</td>\n",
       "      <td>2180.09</td>\n",
       "      <td>1751.39</td>\n",
       "    </tr>\n",
       "    <tr>\n",
       "      <th>658</th>\n",
       "      <td>658</td>\n",
       "      <td>1045.62</td>\n",
       "      <td>1478.50</td>\n",
       "      <td>1680.62</td>\n",
       "      <td>1629.79</td>\n",
       "      <td>2180.09</td>\n",
       "      <td>1751.39</td>\n",
       "    </tr>\n",
       "    <tr>\n",
       "      <th>659</th>\n",
       "      <td>659</td>\n",
       "      <td>1045.62</td>\n",
       "      <td>1478.50</td>\n",
       "      <td>1680.62</td>\n",
       "      <td>1629.79</td>\n",
       "      <td>2180.09</td>\n",
       "      <td>1751.39</td>\n",
       "    </tr>\n",
       "  </tbody>\n",
       "</table>\n",
       "<p>660 rows × 7 columns</p>\n",
       "</div>"
      ],
      "text/plain": [
       "     Unnamed: 0  Joan_var  Pere_var  Marta_var  Claudia_var  Marc_var  \\\n",
       "0             0      0.00      0.00       0.00         0.00      0.00   \n",
       "1             1    467.96    671.62     752.15       729.40    975.68   \n",
       "2             2    467.96    671.62     752.15       740.34    975.68   \n",
       "3             3    467.96    671.62     752.15       740.34    975.68   \n",
       "4             4    467.96    671.62     752.15       740.34    975.68   \n",
       "..          ...       ...       ...        ...          ...       ...   \n",
       "655         655   1045.62   1478.50    1680.62      1629.79   2180.09   \n",
       "656         656   1045.62   1478.50    1680.62      1629.79   2180.09   \n",
       "657         657   1045.62   1478.50    1680.62      1629.79   2180.09   \n",
       "658         658   1045.62   1478.50    1680.62      1629.79   2180.09   \n",
       "659         659   1045.62   1478.50    1680.62      1629.79   2180.09   \n",
       "\n",
       "     Maria_var  \n",
       "0         0.00  \n",
       "1       783.82  \n",
       "2       783.82  \n",
       "3       783.82  \n",
       "4       795.58  \n",
       "..         ...  \n",
       "655    1751.39  \n",
       "656    1751.39  \n",
       "657    1751.39  \n",
       "658    1751.39  \n",
       "659    1751.39  \n",
       "\n",
       "[660 rows x 7 columns]"
      ]
     },
     "execution_count": 42,
     "metadata": {},
     "output_type": "execute_result"
    }
   ],
   "source": [
    "prestacion_definida(datos)[0]"
   ]
  },
  {
   "cell_type": "code",
   "execution_count": null,
   "metadata": {},
   "outputs": [],
   "source": []
  },
  {
   "cell_type": "code",
   "execution_count": 35,
   "metadata": {},
   "outputs": [
    {
     "data": {
      "text/plain": [
       "49.87125853534136"
      ]
     },
     "execution_count": 35,
     "metadata": {},
     "output_type": "execute_result"
    }
   ],
   "source": [
    "ty1 = np.arange(0, (65-26))\n",
    "sum((1.015**ty1)*(1.0022**-ty1)*(data1['Maria'][26+ty1]/data1['Maria'][26]))\n",
    "\n",
    "    #*114830.79"
   ]
  },
  {
   "cell_type": "code",
   "execution_count": 24,
   "metadata": {},
   "outputs": [
    {
     "data": {
      "text/plain": [
       "3.038207441989004"
      ]
     },
     "execution_count": 24,
     "metadata": {},
     "output_type": "execute_result"
    }
   ],
   "source": [
    "ty2 = np.arange(0, 3)\n",
    "sum(data1['Maria'][23+ty2]/data1['Maria'][23]*1.0022**-ty2*1.015**ty2)"
   ]
  },
  {
   "cell_type": "code",
   "execution_count": 25,
   "metadata": {},
   "outputs": [
    {
     "data": {
      "text/plain": [
       "0.981990017907161"
      ]
     },
     "execution_count": 25,
     "metadata": {},
     "output_type": "execute_result"
    }
   ],
   "source": [
    "data1['Maria'][65]/data1['Maria'][23]"
   ]
  },
  {
   "cell_type": "code",
   "execution_count": null,
   "metadata": {},
   "outputs": [],
   "source": []
  },
  {
   "cell_type": "code",
   "execution_count": 23,
   "metadata": {},
   "outputs": [
    {
     "data": {
      "text/plain": [
       "0    48.0\n",
       "1    40.0\n",
       "2    64.0\n",
       "3    31.0\n",
       "4    30.0\n",
       "5    25.0\n",
       "dtype: float64"
      ]
     },
     "execution_count": 23,
     "metadata": {},
     "output_type": "execute_result"
    }
   ],
   "source": [
    "fec_val= []\n",
    "for i in range(0,6):\n",
    "    fec_val.append('31/12/2021')\n",
    "fec_val = pd.Series(fec_val)\n",
    "round(((pd.to_datetime(fec_val) - pd.to_datetime(datos['Nacimiento']))/365.25)/np.timedelta64(1, 'D'))-1"
   ]
  },
  {
   "cell_type": "code",
   "execution_count": null,
   "metadata": {},
   "outputs": [],
   "source": []
  },
  {
   "cell_type": "code",
   "execution_count": 9,
   "metadata": {},
   "outputs": [
    {
     "name": "stdout",
     "output_type": "stream",
     "text": [
      "===========================================================================\n",
      "Hipotesis\n",
      "Interés técnico valoración: 0.22%\n",
      "Revalorizaciòn Salario: 1.5%\n",
      "Revalorización Pensión: 1.0%\n",
      "Beta Pension: 0.15\n",
      "===========================================================================\n",
      "===========================================================================\n",
      "Credito Unitario\n",
      "                       Joan       Pere      Marta    Claudia       Marc  \\\n",
      "VAAj              188517.60  278196.98  322348.83  357972.95  422803.25   \n",
      "VAA 31/12/2021    174548.75  253391.48  322348.83  326394.01  379060.39   \n",
      "Alta Firm         162838.79  250892.88  284399.95  321197.68  368209.42   \n",
      "CN 31/12/2021       4363.72    9388.87    8712.13    8369.08    8238.68   \n",
      "VAASP 31/12/2021  104729.28   28166.61  322348.81   50214.48   98864.16   \n",
      "Margen              2094.59     563.33    6446.98    1004.29    1977.28   \n",
      "\n",
      "                      Maria  \n",
      "VAAj              390488.14  \n",
      "VAA 31/12/2021    352052.75  \n",
      "Alta Firm         348879.77  \n",
      "CN 31/12/2021       8382.21  \n",
      "VAASP 31/12/2021   25146.63  \n",
      "Margen               502.93  \n",
      "===========================================================================\n",
      "0    27.72\n",
      "1     3.04\n",
      "2    45.28\n",
      "3     6.32\n",
      "4    12.86\n",
      "5     3.04\n",
      "dtype: float64\n"
     ]
    }
   ],
   "source": [
    "prestacion_definida(datos)"
   ]
  },
  {
   "cell_type": "code",
   "execution_count": null,
   "metadata": {},
   "outputs": [],
   "source": []
  },
  {
   "cell_type": "code",
   "execution_count": null,
   "metadata": {},
   "outputs": [],
   "source": []
  },
  {
   "cell_type": "markdown",
   "metadata": {},
   "source": [
    "# Planes de pensiones\n",
    "\n",
    "### Aportaciò definida"
   ]
  },
  {
   "cell_type": "code",
   "execution_count": 102,
   "metadata": {},
   "outputs": [
    {
     "data": {
      "text/plain": [
       "660"
      ]
     },
     "execution_count": 102,
     "metadata": {},
     "output_type": "execute_result"
    }
   ],
   "source": [
    "t1 = np.arange(0, 660)  ## mensilidad\n",
    "interes = 1.0125  # Interes (1+interes)\n",
    "interes2 = interes**(1/12)  ## fraccionamiento 1/h\n",
    "interes3 = interes2**-t1\n",
    "len(interes3)  # factor financiero"
   ]
  },
  {
   "cell_type": "code",
   "execution_count": 3,
   "metadata": {},
   "outputs": [],
   "source": [
    "raw1 = 'https://raw.githubusercontent.com/Joevalencia/Planes_pensione_ALM/main/Participes_aportacion.csv'\n",
    "data1 = pd.read_csv(raw1)\n",
    "raw2 = 'https://raw.githubusercontent.com/Joevalencia/Planes_pensione_ALM/main/approximation_planex.csv'\n",
    "raw3 = 'https://raw.githubusercontent.com/Joevalencia/Planes_pensione_ALM/main//px_mens_participes.csv'\n",
    "data2 = pd.read_csv(raw2)\n",
    "data3 = pd.read_csv(raw3)\n",
    "del data1['Unnamed: 0']\n",
    "del data2['Unnamed: 0']"
   ]
  },
  {
   "cell_type": "code",
   "execution_count": null,
   "metadata": {},
   "outputs": [],
   "source": [
    "data3."
   ]
  },
  {
   "cell_type": "code",
   "execution_count": 25,
   "metadata": {},
   "outputs": [
    {
     "data": {
      "text/plain": [
       "0        0.000000\n",
       "1      467.604635\n",
       "2      467.426953\n",
       "3      467.249271\n",
       "4      467.071589\n",
       "          ...    \n",
       "655           NaN\n",
       "656           NaN\n",
       "657           NaN\n",
       "658           NaN\n",
       "659           NaN\n",
       "Length: 660, dtype: float64"
      ]
     },
     "execution_count": 25,
     "metadata": {},
     "output_type": "execute_result"
    }
   ],
   "source": [
    "(data2.Antoni[787:]/data2.Antoni[786]).reset_index(drop=True)*var_m3"
   ]
  },
  {
   "cell_type": "code",
   "execution_count": 18,
   "metadata": {},
   "outputs": [
    {
     "data": {
      "text/plain": [
       "0         0.00\n",
       "1       467.96\n",
       "2       467.96\n",
       "3       467.96\n",
       "4       467.96\n",
       "        ...   \n",
       "655    1045.62\n",
       "656    1045.62\n",
       "657    1045.62\n",
       "658    1045.62\n",
       "659    1045.62\n",
       "Length: 660, dtype: float64"
      ]
     },
     "execution_count": 18,
     "metadata": {},
     "output_type": "execute_result"
    }
   ],
   "source": [
    "var_m3"
   ]
  },
  {
   "cell_type": "code",
   "execution_count": 23,
   "metadata": {},
   "outputs": [
    {
     "data": {
      "text/plain": [
       "0      NaN\n",
       "1      NaN\n",
       "2      NaN\n",
       "3      NaN\n",
       "4      NaN\n",
       "        ..\n",
       "1436   NaN\n",
       "1437   NaN\n",
       "1438   NaN\n",
       "1439   NaN\n",
       "1440   NaN\n",
       "Length: 1315, dtype: float64"
      ]
     },
     "execution_count": 23,
     "metadata": {},
     "output_type": "execute_result"
    }
   ],
   "source": [
    "1.0022**-np.arange(0, 660)*var_m3*data2['Antoni'].iloc[786:]"
   ]
  },
  {
   "cell_type": "code",
   "execution_count": 15,
   "metadata": {},
   "outputs": [
    {
     "data": {
      "text/plain": [
       "0      0.999620\n",
       "1      0.999241\n",
       "2      0.998861\n",
       "3      0.998481\n",
       "4      0.998102\n",
       "         ...   \n",
       "649    0.000000\n",
       "650    0.000000\n",
       "651    0.000000\n",
       "652    0.000000\n",
       "653    0.000000\n",
       "Length: 654, dtype: float64"
      ]
     },
     "execution_count": 15,
     "metadata": {},
     "output_type": "execute_result"
    }
   ],
   "source": [
    "(pd.Series(data2['Antoni'][787:].to_list())/(pd.Series(data2['Antoni'][786:]).to_list())[0])"
   ]
  },
  {
   "cell_type": "code",
   "execution_count": 40,
   "metadata": {},
   "outputs": [
    {
     "data": {
      "text/plain": [
       "array([1.        , 0.99981688, 0.9996338 , 0.99945076, 0.99926774,\n",
       "       0.99908476, 0.99890181, 0.9987189 , 0.99853602, 0.99835317,\n",
       "       0.99817036, 0.99798758, 0.99780483, 0.99762212, 0.99743944,\n",
       "       0.99725679, 0.99707418, 0.9968916 , 0.99670905, 0.99652654,\n",
       "       0.99634406, 0.99616161, 0.9959792 , 0.99579682, 0.99561448,\n",
       "       0.99543217, 0.99524989, 0.99506764, 0.99488543, 0.99470325,\n",
       "       0.99452111, 0.99433899, 0.99415691, 0.99397487, 0.99379286,\n",
       "       0.99361088, 0.99342893, 0.99324702, 0.99306514, 0.9928833 ,\n",
       "       0.99270149, 0.99251971, 0.99233796, 0.99215625, 0.99197457,\n",
       "       0.99179293, 0.99161131, 0.99142973, 0.99124819, 0.99106668,\n",
       "       0.9908852 , 0.99070375, 0.99052234, 0.99034096, 0.99015961,\n",
       "       0.9899783 , 0.98979702, 0.98961577, 0.98943456, 0.98925338,\n",
       "       0.98907223, 0.98889111, 0.98871003, 0.98852899, 0.98834797,\n",
       "       0.98816699, 0.98798604, 0.98780513, 0.98762424, 0.98744339,\n",
       "       0.98726258, 0.9870818 , 0.98690105, 0.98672033, 0.98653965,\n",
       "       0.986359  , 0.98617838, 0.98599779, 0.98581724, 0.98563673,\n",
       "       0.98545624, 0.98527579, 0.98509537, 0.98491498, 0.98473463,\n",
       "       0.98455431, 0.98437402, 0.98419377, 0.98401355, 0.98383336,\n",
       "       0.98365321, 0.98347308, 0.983293  , 0.98311294, 0.98293292,\n",
       "       0.98275293, 0.98257297, 0.98239305, 0.98221315, 0.9820333 ,\n",
       "       0.98185347, 0.98167368, 0.98149392, 0.98131419, 0.9811345 ,\n",
       "       0.98095484, 0.98077521, 0.98059562, 0.98041605, 0.98023653,\n",
       "       0.98005703, 0.97987757, 0.97969814, 0.97951874, 0.97933937,\n",
       "       0.97916004, 0.97898074, 0.97880148, 0.97862224, 0.97844304,\n",
       "       0.97826387, 0.97808474, 0.97790564, 0.97772657, 0.97754753,\n",
       "       0.97736853, 0.97718956, 0.97701062, 0.97683171, 0.97665284,\n",
       "       0.976474  , 0.97629519, 0.97611642, 0.97593768, 0.97575897,\n",
       "       0.97558029, 0.97540165, 0.97522304, 0.97504446, 0.97486591,\n",
       "       0.9746874 , 0.97450892, 0.97433047, 0.97415206, 0.97397368,\n",
       "       0.97379533, 0.97361701, 0.97343873, 0.97326047, 0.97308226,\n",
       "       0.97290407, 0.97272592, 0.97254779, 0.97236971, 0.97219165,\n",
       "       0.97201363, 0.97183564, 0.97165768, 0.97147975, 0.97130186,\n",
       "       0.971124  , 0.97094617, 0.97076838, 0.97059062, 0.97041289,\n",
       "       0.97023519, 0.97005752, 0.96987989, 0.96970229, 0.96952473,\n",
       "       0.96934719, 0.96916969, 0.96899222, 0.96881478, 0.96863738,\n",
       "       0.96846   , 0.96828266, 0.96810536, 0.96792808, 0.96775084,\n",
       "       0.96757363, 0.96739645, 0.96721931, 0.9670422 , 0.96686512,\n",
       "       0.96668807, 0.96651105, 0.96633407, 0.96615712, 0.9659802 ,\n",
       "       0.96580332, 0.96562646, 0.96544964, 0.96527285, 0.9650961 ,\n",
       "       0.96491937, 0.96474268, 0.96456602, 0.9643894 , 0.9642128 ,\n",
       "       0.96403624, 0.96385971, 0.96368321, 0.96350675, 0.96333031,\n",
       "       0.96315391, 0.96297755, 0.96280121, 0.96262491, 0.96244864,\n",
       "       0.9622724 , 0.96209619, 0.96192002, 0.96174387, 0.96156776,\n",
       "       0.96139169, 0.96121564, 0.96103963, 0.96086365, 0.9606877 ,\n",
       "       0.96051178, 0.9603359 , 0.96016004, 0.95998422, 0.95980844,\n",
       "       0.95963268, 0.95945696, 0.95928127, 0.95910561, 0.95892998,\n",
       "       0.95875439, 0.95857882, 0.95840329, 0.9582278 , 0.95805233,\n",
       "       0.9578769 , 0.95770149, 0.95752612, 0.95735079, 0.95717548,\n",
       "       0.95700021, 0.95682497, 0.95664976, 0.95647458, 0.95629943,\n",
       "       0.95612432, 0.95594924, 0.95577419, 0.95559918, 0.95542419,\n",
       "       0.95524924, 0.95507432, 0.95489943, 0.95472457, 0.95454975,\n",
       "       0.95437495, 0.95420019, 0.95402547, 0.95385077, 0.9536761 ,\n",
       "       0.95350147, 0.95332687, 0.9531523 , 0.95297777, 0.95280326,\n",
       "       0.95262879, 0.95245435, 0.95227994, 0.95210556, 0.95193122,\n",
       "       0.9517569 , 0.95158262, 0.95140837, 0.95123416, 0.95105997,\n",
       "       0.95088582, 0.9507117 , 0.95053761, 0.95036355, 0.95018952,\n",
       "       0.95001553, 0.94984157, 0.94966764, 0.94949374, 0.94931987,\n",
       "       0.94914604, 0.94897223, 0.94879846, 0.94862472, 0.94845101,\n",
       "       0.94827734, 0.94810369, 0.94793008, 0.9477565 , 0.94758295,\n",
       "       0.94740944, 0.94723595, 0.9470625 , 0.94688908, 0.94671569,\n",
       "       0.94654233, 0.946369  , 0.94619571, 0.94602244, 0.94584921,\n",
       "       0.94567601, 0.94550285, 0.94532971, 0.94515661, 0.94498353,\n",
       "       0.94481049, 0.94463748, 0.94446451, 0.94429156, 0.94411865,\n",
       "       0.94394576, 0.94377291, 0.94360009, 0.94342731, 0.94325455,\n",
       "       0.94308183, 0.94290913, 0.94273647, 0.94256384, 0.94239125,\n",
       "       0.94221868, 0.94204614, 0.94187364, 0.94170117, 0.94152873,\n",
       "       0.94135632, 0.94118395, 0.9410116 , 0.94083929, 0.94066701,\n",
       "       0.94049475, 0.94032254, 0.94015035, 0.93997819, 0.93980607,\n",
       "       0.93963398, 0.93946191, 0.93928988, 0.93911789, 0.93894592,\n",
       "       0.93877398, 0.93860208, 0.93843021, 0.93825837, 0.93808656,\n",
       "       0.93791478, 0.93774303, 0.93757132, 0.93739964, 0.93722798,\n",
       "       0.93705636, 0.93688477, 0.93671322, 0.93654169, 0.93637019,\n",
       "       0.93619873, 0.9360273 , 0.9358559 , 0.93568453, 0.93551319,\n",
       "       0.93534188, 0.93517061, 0.93499936, 0.93482815, 0.93465697,\n",
       "       0.93448582, 0.9343147 , 0.93414361, 0.93397256, 0.93380153,\n",
       "       0.93363054, 0.93345958, 0.93328865, 0.93311775, 0.93294688,\n",
       "       0.93277604, 0.93260524, 0.93243446, 0.93226372, 0.93209301,\n",
       "       0.93192233, 0.93175168, 0.93158106, 0.93141048, 0.93123992,\n",
       "       0.9310694 , 0.9308989 , 0.93072844, 0.93055801, 0.93038761,\n",
       "       0.93021724, 0.93004691, 0.9298766 , 0.92970633, 0.92953608,\n",
       "       0.92936587, 0.92919569, 0.92902554, 0.92885542, 0.92868533,\n",
       "       0.92851528, 0.92834525, 0.92817526, 0.92800529, 0.92783536,\n",
       "       0.92766546, 0.92749559, 0.92732575, 0.92715595, 0.92698617,\n",
       "       0.92681643, 0.92664671, 0.92647703, 0.92630738, 0.92613775,\n",
       "       0.92596816, 0.92579861, 0.92562908, 0.92545958, 0.92529012,\n",
       "       0.92512068, 0.92495128, 0.9247819 , 0.92461256, 0.92444325,\n",
       "       0.92427397, 0.92410472, 0.92393551, 0.92376632, 0.92359716,\n",
       "       0.92342804, 0.92325895, 0.92308988, 0.92292085, 0.92275185,\n",
       "       0.92258288, 0.92241394, 0.92224503, 0.92207616, 0.92190731,\n",
       "       0.9217385 , 0.92156971, 0.92140096, 0.92123224, 0.92106354,\n",
       "       0.92089488, 0.92072625, 0.92055765, 0.92038909, 0.92022055,\n",
       "       0.92005204, 0.91988357, 0.91971512, 0.91954671, 0.91937833,\n",
       "       0.91920997, 0.91904165, 0.91887336, 0.9187051 , 0.91853687,\n",
       "       0.91836867, 0.91820051, 0.91803237, 0.91786427, 0.91769619,\n",
       "       0.91752815, 0.91736013, 0.91719215, 0.9170242 , 0.91685628,\n",
       "       0.91668839, 0.91652053, 0.9163527 , 0.9161849 , 0.91601713,\n",
       "       0.9158494 , 0.91568169, 0.91551402, 0.91534637, 0.91517876,\n",
       "       0.91501117, 0.91484362, 0.9146761 , 0.91450861, 0.91434115,\n",
       "       0.91417372, 0.91400632, 0.91383895, 0.91367161, 0.91350431,\n",
       "       0.91333703, 0.91316978, 0.91300257, 0.91283538, 0.91266823,\n",
       "       0.91250111, 0.91233401, 0.91216695, 0.91199992, 0.91183292,\n",
       "       0.91166595, 0.91149901, 0.9113321 , 0.91116522, 0.91099837,\n",
       "       0.91083155, 0.91066477, 0.91049801, 0.91033128, 0.91016459,\n",
       "       0.90999792, 0.90983129, 0.90966469, 0.90949811, 0.90933157,\n",
       "       0.90916506, 0.90899858, 0.90883212, 0.9086657 , 0.90849931,\n",
       "       0.90833295, 0.90816662, 0.90800032, 0.90783405, 0.90766782,\n",
       "       0.90750161, 0.90733543, 0.90716928, 0.90700317, 0.90683708,\n",
       "       0.90667103, 0.906505  , 0.90633901, 0.90617304, 0.90600711,\n",
       "       0.9058412 , 0.90567533, 0.90550949, 0.90534368, 0.90517789,\n",
       "       0.90501214, 0.90484642, 0.90468073, 0.90451507, 0.90434944,\n",
       "       0.90418384, 0.90401827, 0.90385273, 0.90368722, 0.90352174,\n",
       "       0.90335629, 0.90319087, 0.90302549, 0.90286013, 0.9026948 ,\n",
       "       0.9025295 , 0.90236424, 0.902199  , 0.90203379, 0.90186862,\n",
       "       0.90170347, 0.90153836, 0.90137327, 0.90120822, 0.90104319,\n",
       "       0.9008782 , 0.90071323, 0.9005483 , 0.90038339, 0.90021852,\n",
       "       0.90005368, 0.89988886, 0.89972408, 0.89955933, 0.8993946 ,\n",
       "       0.89922991, 0.89906525, 0.89890061, 0.89873601, 0.89857144,\n",
       "       0.8984069 , 0.89824239, 0.8980779 , 0.89791345, 0.89774903,\n",
       "       0.89758464, 0.89742028, 0.89725595, 0.89709165, 0.89692737,\n",
       "       0.89676313, 0.89659892, 0.89643474, 0.89627059, 0.89610647,\n",
       "       0.89594238, 0.89577832, 0.89561429, 0.89545029, 0.89528632,\n",
       "       0.89512238, 0.89495847, 0.89479459, 0.89463073, 0.89446691,\n",
       "       0.89430312, 0.89413936, 0.89397563, 0.89381193, 0.89364826,\n",
       "       0.89348462, 0.89332101, 0.89315743, 0.89299388, 0.89283036,\n",
       "       0.89266687, 0.89250341, 0.89233998, 0.89217657, 0.8920132 ,\n",
       "       0.89184986, 0.89168655, 0.89152327, 0.89136002, 0.8911968 ,\n",
       "       0.89103361, 0.89087044, 0.89070731, 0.89054421, 0.89038114,\n",
       "       0.89021809, 0.89005508, 0.8898921 , 0.88972915, 0.88956622,\n",
       "       0.88940333, 0.88924047, 0.88907763, 0.88891483, 0.88875206,\n",
       "       0.88858931, 0.8884266 , 0.88826391, 0.88810126, 0.88793863,\n",
       "       0.88777604, 0.88761347, 0.88745094, 0.88728843, 0.88712596,\n",
       "       0.88696351, 0.88680109, 0.88663871, 0.88647635, 0.88631402])"
      ]
     },
     "execution_count": 40,
     "metadata": {},
     "output_type": "execute_result"
    }
   ],
   "source": [
    "1.0022**-(np.arange(0, 660)/12)"
   ]
  },
  {
   "cell_type": "markdown",
   "metadata": {},
   "source": [
    "## Verdadero VAAj"
   ]
  },
  {
   "cell_type": "code",
   "execution_count": 95,
   "metadata": {},
   "outputs": [
    {
     "data": {
      "text/plain": [
       "184948.21"
      ]
     },
     "execution_count": 95,
     "metadata": {},
     "output_type": "execute_result"
    }
   ],
   "source": [
    "tem = np.arange(0, 660)\n",
    "valor21 = (pd.Series(data2['Antoni'][787:].to_list())/(pd.Series(data2['Antoni'][786:]).to_list())[0]*var_m0*1.0022**-(tem/12)).dropna().sum().round(2)\n",
    "valor21"
   ]
  },
  {
   "cell_type": "code",
   "execution_count": 105,
   "metadata": {},
   "outputs": [
    {
     "name": "stdout",
     "output_type": "stream",
     "text": [
      "===========================================================================\n",
      "Hipotesis\n",
      "Interés técnico valoración: 0.22%\n",
      "Revalorizaciòn Salario: 1.5%\n",
      "Revalorización Pensión: 1.0%\n",
      "Beta Pension: 0.15\n",
      "===========================================================================\n",
      "===========================================================================\n",
      "Credito Unitario\n",
      "0      0.999620\n",
      "1      0.999240\n",
      "2      0.998860\n",
      "3      0.998481\n",
      "4      0.998101\n",
      "         ...   \n",
      "648    0.000000\n",
      "649    0.000000\n",
      "650    0.000000\n",
      "651    0.000000\n",
      "652    0.000000\n",
      "Name: Joan, Length: 653, dtype: float64\n"
     ]
    }
   ],
   "source": [
    "prestacion_definida(datos)"
   ]
  },
  {
   "cell_type": "code",
   "execution_count": 100,
   "metadata": {},
   "outputs": [
    {
     "data": {
      "text/plain": [
       "0      0.999620\n",
       "1      0.999241\n",
       "2      0.998861\n",
       "3      0.998481\n",
       "4      0.998102\n",
       "         ...   \n",
       "649    0.000000\n",
       "650    0.000000\n",
       "651    0.000000\n",
       "652    0.000000\n",
       "653    0.000000\n",
       "Length: 654, dtype: float64"
      ]
     },
     "execution_count": 100,
     "metadata": {},
     "output_type": "execute_result"
    }
   ],
   "source": [
    "pd.Series(data2['Antoni'][787:].to_list())/(pd.Series(data2['Antoni'][786:]).to_list())[0]"
   ]
  },
  {
   "cell_type": "markdown",
   "metadata": {},
   "source": [
    "## Verdadero VAA al 31-12-2021"
   ]
  },
  {
   "cell_type": "code",
   "execution_count": 96,
   "metadata": {},
   "outputs": [
    {
     "data": {
      "text/plain": [
       "171243.84"
      ]
     },
     "execution_count": 96,
     "metadata": {},
     "output_type": "execute_result"
    }
   ],
   "source": [
    "((1.0022**-(65-49)*(data1['Antoni'][65]/data1['Antoni'][49]))*valor21).round(2)"
   ]
  },
  {
   "cell_type": "markdown",
   "metadata": {},
   "source": [
    "## Verdadero CN 31-12-2021"
   ]
  },
  {
   "cell_type": "code",
   "execution_count": 9,
   "metadata": {},
   "outputs": [
    {
     "data": {
      "text/plain": [
       "10702.74"
      ]
     },
     "execution_count": 9,
     "metadata": {},
     "output_type": "execute_result"
    }
   ],
   "source": [
    "round((1/(65-49))*171243.84, 2)"
   ]
  },
  {
   "cell_type": "markdown",
   "metadata": {},
   "source": [
    "## Valor Actual Actuarial Servicios Pasados"
   ]
  },
  {
   "cell_type": "code",
   "execution_count": 16,
   "metadata": {},
   "outputs": [
    {
     "data": {
      "text/plain": [
       "102746.3"
      ]
     },
     "execution_count": 16,
     "metadata": {},
     "output_type": "execute_result"
    }
   ],
   "source": [
    "round(171243.84*((49-25)/(65-25)), 2)"
   ]
  },
  {
   "cell_type": "markdown",
   "metadata": {},
   "source": [
    "# Margen de solvencia"
   ]
  },
  {
   "cell_type": "code",
   "execution_count": 17,
   "metadata": {},
   "outputs": [
    {
     "data": {
      "text/plain": [
       "2054.926"
      ]
     },
     "execution_count": 17,
     "metadata": {},
     "output_type": "execute_result"
    }
   ],
   "source": [
    "102746.3*.02"
   ]
  },
  {
   "cell_type": "markdown",
   "metadata": {},
   "source": [
    "## Edad de entrada"
   ]
  },
  {
   "cell_type": "code",
   "execution_count": null,
   "metadata": {},
   "outputs": [],
   "source": []
  },
  {
   "cell_type": "code",
   "execution_count": 18,
   "metadata": {},
   "outputs": [
    {
     "data": {
      "text/plain": [
       "3633.8759609102735"
      ]
     },
     "execution_count": 18,
     "metadata": {},
     "output_type": "execute_result"
    }
   ],
   "source": [
    "bo = np.arange(0, 40)\n",
    "184948.21/sum(1.015**bo*1.0022**-bo*(data1.Antoni[25+bo]/data1.Antoni[25]))  ## Coste normal al 31-12-\n"
   ]
  },
  {
   "cell_type": "markdown",
   "metadata": {},
   "source": [
    "## Coste normal actual 2021"
   ]
  },
  {
   "cell_type": "code",
   "execution_count": 85,
   "metadata": {},
   "outputs": [
    {
     "data": {
      "text/plain": [
       "5733.59"
      ]
     },
     "execution_count": 85,
     "metadata": {},
     "output_type": "execute_result"
    }
   ],
   "source": [
    "round(4010.9*1.015**24, 2)"
   ]
  },
  {
   "cell_type": "markdown",
   "metadata": {},
   "source": [
    "# Servicios pasados"
   ]
  },
  {
   "cell_type": "code",
   "execution_count": 89,
   "metadata": {},
   "outputs": [
    {
     "data": {
      "text/plain": [
       "99439.19579154288"
      ]
     },
     "execution_count": 89,
     "metadata": {},
     "output_type": "execute_result"
    }
   ],
   "source": [
    "bo2 = np.arange(0, 16)\n",
    "sum(5733.59*1.015**bo2*1.0022**-bo2*(data1.Antoni[49+bo2]/data1.Antoni[49]))"
   ]
  },
  {
   "cell_type": "code",
   "execution_count": 92,
   "metadata": {},
   "outputs": [
    {
     "data": {
      "text/plain": [
       "19061.45"
      ]
     },
     "execution_count": 92,
     "metadata": {},
     "output_type": "execute_result"
    }
   ],
   "source": [
    "round(118502.45-99441, 2)  ## Servicios pasados al 2021"
   ]
  },
  {
   "cell_type": "markdown",
   "metadata": {},
   "source": [
    "# Maria Capital de Cobertura"
   ]
  },
  {
   "cell_type": "code",
   "execution_count": 64,
   "metadata": {},
   "outputs": [
    {
     "data": {
      "text/plain": [
       "380114.32"
      ]
     },
     "execution_count": 64,
     "metadata": {},
     "output_type": "execute_result"
    }
   ],
   "source": [
    "valor21 = (pd.Series(data2['Maria'][790:].to_list())/(pd.Series(data2['Maria'][789:]).to_list())[0]*var_m5*1.0022**-(np.arange(0, 660)/12)).dropna().sum().round(2)\n",
    "valor21"
   ]
  },
  {
   "cell_type": "code",
   "execution_count": 85,
   "metadata": {},
   "outputs": [
    {
     "data": {
      "text/plain": [
       "0      0.999893\n",
       "1      0.999785\n",
       "2      0.999678\n",
       "3      0.999569\n",
       "4      0.999461\n",
       "         ...   \n",
       "646    0.000000\n",
       "647    0.000000\n",
       "648    0.000000\n",
       "649    0.000000\n",
       "650    0.000000\n",
       "Length: 651, dtype: float64"
      ]
     },
     "execution_count": 85,
     "metadata": {},
     "output_type": "execute_result"
    }
   ],
   "source": [
    "pd.Series(data2['Maria'][790:].to_list())/(pd.Series(data2['Maria'][789:]).to_list())[0]"
   ]
  },
  {
   "cell_type": "markdown",
   "metadata": {},
   "source": [
    "# Valor actual actuarial al 2021"
   ]
  },
  {
   "cell_type": "code",
   "execution_count": 65,
   "metadata": {},
   "outputs": [
    {
     "data": {
      "text/plain": [
       "342700.02"
      ]
     },
     "execution_count": 65,
     "metadata": {},
     "output_type": "execute_result"
    }
   ],
   "source": [
    "((1.0022**-(65-26)*(data1['Maria'][65]/data1['Maria'][26]))*valor21).round(2)"
   ]
  },
  {
   "cell_type": "code",
   "execution_count": 66,
   "metadata": {
    "scrolled": true
   },
   "outputs": [
    {
     "data": {
      "text/plain": [
       "8159.52"
      ]
     },
     "execution_count": 66,
     "metadata": {},
     "output_type": "execute_result"
    }
   ],
   "source": [
    "round((1/(65-23))*342700.02, 2)"
   ]
  },
  {
   "cell_type": "markdown",
   "metadata": {},
   "source": [
    "## Servicios Pasados Metodo credito unitario"
   ]
  },
  {
   "cell_type": "code",
   "execution_count": 67,
   "metadata": {},
   "outputs": [
    {
     "data": {
      "text/plain": [
       "24478.57"
      ]
     },
     "execution_count": 67,
     "metadata": {},
     "output_type": "execute_result"
    }
   ],
   "source": [
    "round(((26-23)/(65-23))*342700.02, 2)"
   ]
  },
  {
   "cell_type": "code",
   "execution_count": null,
   "metadata": {},
   "outputs": [],
   "source": []
  },
  {
   "cell_type": "markdown",
   "metadata": {},
   "source": [
    "## Margen credito unitario"
   ]
  },
  {
   "cell_type": "code",
   "execution_count": 68,
   "metadata": {},
   "outputs": [
    {
     "data": {
      "text/plain": [
       "489.5714"
      ]
     },
     "execution_count": 68,
     "metadata": {},
     "output_type": "execute_result"
    }
   ],
   "source": [
    "24478.57*.02"
   ]
  },
  {
   "cell_type": "markdown",
   "metadata": {},
   "source": [
    "# Edad de entrada\n",
    "### Valor actual actuarial al 2018 cuando se dio de alta"
   ]
  },
  {
   "cell_type": "code",
   "execution_count": 69,
   "metadata": {},
   "outputs": [
    {
     "data": {
      "text/plain": [
       "340358.48"
      ]
     },
     "execution_count": 69,
     "metadata": {},
     "output_type": "execute_result"
    }
   ],
   "source": [
    "((1.0022**-(65-23)*(data1['Maria'][65]/data1['Maria'][23]))*valor21).round(2)"
   ]
  },
  {
   "cell_type": "code",
   "execution_count": 70,
   "metadata": {},
   "outputs": [
    {
     "data": {
      "text/plain": [
       "340358.48"
      ]
     },
     "execution_count": 70,
     "metadata": {},
     "output_type": "execute_result"
    }
   ],
   "source": [
    "round((data1.Maria[65]/data1.Maria[23])*valor21*1.0022**-(65-23), 2)"
   ]
  },
  {
   "cell_type": "markdown",
   "metadata": {},
   "source": [
    "### Coste normal cuando entrò"
   ]
  },
  {
   "cell_type": "code",
   "execution_count": 71,
   "metadata": {},
   "outputs": [
    {
     "data": {
      "text/plain": [
       "5932.97535218501"
      ]
     },
     "execution_count": 71,
     "metadata": {},
     "output_type": "execute_result"
    }
   ],
   "source": [
    "bo = np.arange(0, (65-23))\n",
    "340358.48/sum(1.015**bo*1.0022**-(bo/12)*(data1.Maria[23+bo]/data1.Maria[23]))  ## Coste normal al 31-12-2018 cuando se da de alta"
   ]
  },
  {
   "cell_type": "markdown",
   "metadata": {},
   "source": [
    "## Coste normal al 2021"
   ]
  },
  {
   "cell_type": "code",
   "execution_count": 72,
   "metadata": {},
   "outputs": [
    {
     "data": {
      "text/plain": [
       "6203.988885307497"
      ]
     },
     "execution_count": 72,
     "metadata": {},
     "output_type": "execute_result"
    }
   ],
   "source": [
    "5932.98*1.015**3  ## Coste normal al 2021"
   ]
  },
  {
   "cell_type": "markdown",
   "metadata": {},
   "source": [
    "## Servicios Futuros"
   ]
  },
  {
   "cell_type": "code",
   "execution_count": 74,
   "metadata": {
    "scrolled": true
   },
   "outputs": [
    {
     "data": {
      "text/plain": [
       "309400.78924067237"
      ]
     },
     "execution_count": 74,
     "metadata": {},
     "output_type": "execute_result"
    }
   ],
   "source": [
    "bo2 = np.arange(0, 39)\n",
    "sum(6203.99*1.015**bo2*1.0022**-bo2*(data1.Maria[26+bo2]/data1.Maria[26]))"
   ]
  },
  {
   "cell_type": "markdown",
   "metadata": {},
   "source": [
    "### Servicios Pasados"
   ]
  },
  {
   "cell_type": "code",
   "execution_count": 76,
   "metadata": {},
   "outputs": [
    {
     "data": {
      "text/plain": [
       "33299.23"
      ]
     },
     "execution_count": 76,
     "metadata": {},
     "output_type": "execute_result"
    }
   ],
   "source": [
    "round(342700.02-309400.79,2)"
   ]
  },
  {
   "cell_type": "code",
   "execution_count": 87,
   "metadata": {},
   "outputs": [
    {
     "data": {
      "text/plain": [
       "665.98"
      ]
     },
     "execution_count": 87,
     "metadata": {},
     "output_type": "execute_result"
    }
   ],
   "source": [
    "round(33299.23*.02, 2)"
   ]
  },
  {
   "cell_type": "markdown",
   "metadata": {},
   "source": [
    "# Servicios Pasados Maria"
   ]
  },
  {
   "cell_type": "code",
   "execution_count": 19,
   "metadata": {},
   "outputs": [
    {
     "data": {
      "text/plain": [
       "12571.950000000012"
      ]
     },
     "execution_count": 19,
     "metadata": {},
     "output_type": "execute_result"
    }
   ],
   "source": [
    "226878.22-214306.27  ## Servicios Pasados "
   ]
  },
  {
   "cell_type": "code",
   "execution_count": 92,
   "metadata": {},
   "outputs": [],
   "source": [
    "px = (ok1.iloc[65*12+1:]/ok1.iloc[65*12]).reset_index()  ## Matriz de px mensuales Participes\n",
    "px.to_csv('px_mens_participes.csv')"
   ]
  },
  {
   "cell_type": "code",
   "execution_count": null,
   "metadata": {},
   "outputs": [],
   "source": [
    "f = ['m', 'n']\n",
    "for i in f:\n",
    "    var = np.roll(np.round(b1['PJ corriente'][i]*1.01**np.floor(np.arange(0,660) / 12 ), 2),-6)\n",
    "    var[-6:] = var[-7]\n",
    "    var[0] = 0\n",
    "    var = pd.Series(var)"
   ]
  },
  {
   "cell_type": "code",
   "execution_count": 61,
   "metadata": {},
   "outputs": [
    {
     "data": {
      "text/plain": [
       "0         0.00\n",
       "1      1638.18\n",
       "2      1638.18\n",
       "3      1638.18\n",
       "4      1654.56\n",
       "        ...   \n",
       "655    2803.60\n",
       "656    2803.60\n",
       "657    2803.60\n",
       "658    2803.60\n",
       "659    2803.60\n",
       "Length: 660, dtype: float64"
      ]
     },
     "execution_count": 61,
     "metadata": {},
     "output_type": "execute_result"
    }
   ],
   "source": [
    "var = np.roll(np.round(b1['PJ corriente'][5]*1.01**np.floor(np.arange(0,660) / 12 ), 2),-8)\n",
    "var[-8:] = var[-9]\n",
    "var[0] = 0\n",
    "var_Maria = pd.Series(var)\n",
    "var_Maria"
   ]
  },
  {
   "cell_type": "code",
   "execution_count": 65,
   "metadata": {},
   "outputs": [
    {
     "data": {
      "text/html": [
       "<div>\n",
       "<style scoped>\n",
       "    .dataframe tbody tr th:only-of-type {\n",
       "        vertical-align: middle;\n",
       "    }\n",
       "\n",
       "    .dataframe tbody tr th {\n",
       "        vertical-align: top;\n",
       "    }\n",
       "\n",
       "    .dataframe thead th {\n",
       "        text-align: right;\n",
       "    }\n",
       "</style>\n",
       "<table border=\"1\" class=\"dataframe\">\n",
       "  <thead>\n",
       "    <tr style=\"text-align: right;\">\n",
       "      <th></th>\n",
       "      <th>Joan_var</th>\n",
       "      <th>Pere_var</th>\n",
       "      <th>Marta_var</th>\n",
       "      <th>Claudia_var</th>\n",
       "      <th>Marc_var</th>\n",
       "      <th>Maria_var</th>\n",
       "    </tr>\n",
       "  </thead>\n",
       "  <tbody>\n",
       "    <tr>\n",
       "      <th>0</th>\n",
       "      <td>0.00</td>\n",
       "      <td>0.00</td>\n",
       "      <td>0.00</td>\n",
       "      <td>0.00</td>\n",
       "      <td>0.00</td>\n",
       "      <td>0.00</td>\n",
       "    </tr>\n",
       "    <tr>\n",
       "      <th>1</th>\n",
       "      <td>890.99</td>\n",
       "      <td>1323.46</td>\n",
       "      <td>1278.66</td>\n",
       "      <td>1480.15</td>\n",
       "      <td>1950.67</td>\n",
       "      <td>1638.18</td>\n",
       "    </tr>\n",
       "    <tr>\n",
       "      <th>2</th>\n",
       "      <td>890.99</td>\n",
       "      <td>1323.46</td>\n",
       "      <td>1278.66</td>\n",
       "      <td>1494.95</td>\n",
       "      <td>1950.67</td>\n",
       "      <td>1638.18</td>\n",
       "    </tr>\n",
       "    <tr>\n",
       "      <th>3</th>\n",
       "      <td>890.99</td>\n",
       "      <td>1323.46</td>\n",
       "      <td>1278.66</td>\n",
       "      <td>1494.95</td>\n",
       "      <td>1950.67</td>\n",
       "      <td>1638.18</td>\n",
       "    </tr>\n",
       "    <tr>\n",
       "      <th>4</th>\n",
       "      <td>890.99</td>\n",
       "      <td>1323.46</td>\n",
       "      <td>1278.66</td>\n",
       "      <td>1494.95</td>\n",
       "      <td>1950.67</td>\n",
       "      <td>1654.56</td>\n",
       "    </tr>\n",
       "    <tr>\n",
       "      <th>...</th>\n",
       "      <td>...</td>\n",
       "      <td>...</td>\n",
       "      <td>...</td>\n",
       "      <td>...</td>\n",
       "      <td>...</td>\n",
       "      <td>...</td>\n",
       "    </tr>\n",
       "    <tr>\n",
       "      <th>655</th>\n",
       "      <td>1524.85</td>\n",
       "      <td>2242.56</td>\n",
       "      <td>2188.31</td>\n",
       "      <td>2533.14</td>\n",
       "      <td>3338.40</td>\n",
       "      <td>2803.60</td>\n",
       "    </tr>\n",
       "    <tr>\n",
       "      <th>656</th>\n",
       "      <td>1524.85</td>\n",
       "      <td>2242.56</td>\n",
       "      <td>2188.31</td>\n",
       "      <td>2533.14</td>\n",
       "      <td>3338.40</td>\n",
       "      <td>2803.60</td>\n",
       "    </tr>\n",
       "    <tr>\n",
       "      <th>657</th>\n",
       "      <td>1524.85</td>\n",
       "      <td>2242.56</td>\n",
       "      <td>2188.31</td>\n",
       "      <td>2533.14</td>\n",
       "      <td>3338.40</td>\n",
       "      <td>2803.60</td>\n",
       "    </tr>\n",
       "    <tr>\n",
       "      <th>658</th>\n",
       "      <td>1524.85</td>\n",
       "      <td>2242.56</td>\n",
       "      <td>2188.31</td>\n",
       "      <td>2533.14</td>\n",
       "      <td>3338.40</td>\n",
       "      <td>2803.60</td>\n",
       "    </tr>\n",
       "    <tr>\n",
       "      <th>659</th>\n",
       "      <td>1524.85</td>\n",
       "      <td>2242.56</td>\n",
       "      <td>2188.31</td>\n",
       "      <td>2533.14</td>\n",
       "      <td>3338.40</td>\n",
       "      <td>2803.60</td>\n",
       "    </tr>\n",
       "  </tbody>\n",
       "</table>\n",
       "<p>660 rows × 6 columns</p>\n",
       "</div>"
      ],
      "text/plain": [
       "     Joan_var  Pere_var  Marta_var  Claudia_var  Marc_var  Maria_var\n",
       "0        0.00      0.00       0.00         0.00      0.00       0.00\n",
       "1      890.99   1323.46    1278.66      1480.15   1950.67    1638.18\n",
       "2      890.99   1323.46    1278.66      1494.95   1950.67    1638.18\n",
       "3      890.99   1323.46    1278.66      1494.95   1950.67    1638.18\n",
       "4      890.99   1323.46    1278.66      1494.95   1950.67    1654.56\n",
       "..        ...       ...        ...          ...       ...        ...\n",
       "655   1524.85   2242.56    2188.31      2533.14   3338.40    2803.60\n",
       "656   1524.85   2242.56    2188.31      2533.14   3338.40    2803.60\n",
       "657   1524.85   2242.56    2188.31      2533.14   3338.40    2803.60\n",
       "658   1524.85   2242.56    2188.31      2533.14   3338.40    2803.60\n",
       "659   1524.85   2242.56    2188.31      2533.14   3338.40    2803.60\n",
       "\n",
       "[660 rows x 6 columns]"
      ]
     },
     "execution_count": 65,
     "metadata": {},
     "output_type": "execute_result"
    }
   ],
   "source": [
    "variation = pd.DataFrame({'Joan_var': var_Joan, 'Pere_var':var_Pere, 'Marta_var':var_Marta, \n",
    "                          'Claudia_var':var_Claudia, 'Marc_var':var_Marc,'Maria_var':var_Maria} )\n",
    "variation"
   ]
  },
  {
   "cell_type": "code",
   "execution_count": 61,
   "metadata": {},
   "outputs": [
    {
     "data": {
      "text/html": [
       "<div>\n",
       "<style scoped>\n",
       "    .dataframe tbody tr th:only-of-type {\n",
       "        vertical-align: middle;\n",
       "    }\n",
       "\n",
       "    .dataframe tbody tr th {\n",
       "        vertical-align: top;\n",
       "    }\n",
       "\n",
       "    .dataframe thead th {\n",
       "        text-align: right;\n",
       "    }\n",
       "</style>\n",
       "<table border=\"1\" class=\"dataframe\">\n",
       "  <thead>\n",
       "    <tr style=\"text-align: right;\">\n",
       "      <th></th>\n",
       "      <th>index</th>\n",
       "      <th>Antoni</th>\n",
       "      <th>Pere</th>\n",
       "      <th>Marta</th>\n",
       "      <th>Claudia</th>\n",
       "      <th>Marc</th>\n",
       "      <th>Maria</th>\n",
       "    </tr>\n",
       "  </thead>\n",
       "  <tbody>\n",
       "    <tr>\n",
       "      <th>0</th>\n",
       "      <td>781</td>\n",
       "      <td>0.999621</td>\n",
       "      <td>0.999683</td>\n",
       "      <td>0.999737</td>\n",
       "      <td>0.999876</td>\n",
       "      <td>0.999740</td>\n",
       "      <td>0.999893</td>\n",
       "    </tr>\n",
       "    <tr>\n",
       "      <th>1</th>\n",
       "      <td>782</td>\n",
       "      <td>0.999242</td>\n",
       "      <td>0.999365</td>\n",
       "      <td>0.999474</td>\n",
       "      <td>0.999753</td>\n",
       "      <td>0.999480</td>\n",
       "      <td>0.999785</td>\n",
       "    </tr>\n",
       "    <tr>\n",
       "      <th>2</th>\n",
       "      <td>783</td>\n",
       "      <td>0.998863</td>\n",
       "      <td>0.999048</td>\n",
       "      <td>0.999212</td>\n",
       "      <td>0.999629</td>\n",
       "      <td>0.999220</td>\n",
       "      <td>0.999678</td>\n",
       "    </tr>\n",
       "    <tr>\n",
       "      <th>3</th>\n",
       "      <td>784</td>\n",
       "      <td>0.998485</td>\n",
       "      <td>0.998731</td>\n",
       "      <td>0.998949</td>\n",
       "      <td>0.999505</td>\n",
       "      <td>0.998961</td>\n",
       "      <td>0.999571</td>\n",
       "    </tr>\n",
       "    <tr>\n",
       "      <th>4</th>\n",
       "      <td>785</td>\n",
       "      <td>0.998106</td>\n",
       "      <td>0.998414</td>\n",
       "      <td>0.998686</td>\n",
       "      <td>0.999382</td>\n",
       "      <td>0.998701</td>\n",
       "      <td>0.999463</td>\n",
       "    </tr>\n",
       "  </tbody>\n",
       "</table>\n",
       "</div>"
      ],
      "text/plain": [
       "   index    Antoni      Pere     Marta   Claudia      Marc     Maria\n",
       "0    781  0.999621  0.999683  0.999737  0.999876  0.999740  0.999893\n",
       "1    782  0.999242  0.999365  0.999474  0.999753  0.999480  0.999785\n",
       "2    783  0.998863  0.999048  0.999212  0.999629  0.999220  0.999678\n",
       "3    784  0.998485  0.998731  0.998949  0.999505  0.998961  0.999571\n",
       "4    785  0.998106  0.998414  0.998686  0.999382  0.998701  0.999463"
      ]
     },
     "execution_count": 61,
     "metadata": {},
     "output_type": "execute_result"
    }
   ],
   "source": [
    "px.head()"
   ]
  },
  {
   "cell_type": "code",
   "execution_count": 122,
   "metadata": {},
   "outputs": [
    {
     "data": {
      "text/plain": [
       "282648.57"
      ]
     },
     "execution_count": 122,
     "metadata": {},
     "output_type": "execute_result"
    }
   ],
   "source": [
    "joan1 = ok['Joan_var']*ok1['Joan']\n",
    "pere1 = ok['Pere_var']*ok1['Pere']\n",
    "marta1 = ok['Marta_var']*ok1['Marta']\n",
    "claudia1 = ok['Claudia_var']*ok1['Claudia']\n",
    "marc1 = ok['Marc_var']*ok1['Marc']\n",
    "maria1 = ok['Maria_var']*ok1['Maria']\n",
    "new_df = pd.DataFrame({'Joan_VAA':joan1*interes3, 'Pere_VAA':pere1*interes3, 'Marta_VAA':marta1*interes3,\n",
    "                       'Claudia_VAA':claudia1*interes3, 'Marc_VAA':marc1*interes3, 'Maria_VAA':maria1*interes3})\n",
    "round(sum(new_df['Joan_VAA']), 2)"
   ]
  },
  {
   "cell_type": "code",
   "execution_count": 128,
   "metadata": {},
   "outputs": [
    {
     "data": {
      "text/plain": [
       "pandas.core.series.Series"
      ]
     },
     "execution_count": 128,
     "metadata": {},
     "output_type": "execute_result"
    }
   ],
   "source": [
    "VAAs = new_df.sum().round(2)\n",
    "type(VAAs)"
   ]
  },
  {
   "cell_type": "code",
   "execution_count": 140,
   "metadata": {},
   "outputs": [
    {
     "data": {
      "text/plain": [
       "0    282648.57\n",
       "1    430714.89\n",
       "2    427609.83\n",
       "3    554081.56\n",
       "4    658762.27\n",
       "5    621209.96\n",
       "dtype: float64"
      ]
     },
     "execution_count": 140,
     "metadata": {},
     "output_type": "execute_result"
    }
   ],
   "source": [
    "VAAs"
   ]
  },
  {
   "cell_type": "code",
   "execution_count": 137,
   "metadata": {},
   "outputs": [
    {
     "data": {
      "text/plain": [
       "665    1494.91\n",
       "666    1509.86\n",
       "667    1509.86\n",
       "668    1509.86\n",
       "669    1509.86\n",
       "670    1509.86\n",
       "671    1509.86\n",
       "672    1509.86\n",
       "dtype: float64"
      ]
     },
     "execution_count": 137,
     "metadata": {},
     "output_type": "execute_result"
    }
   ],
   "source": [
    "var = np.roll(np.round(864.85*1.01**np.floor(np.arange(0,673) / 12 ), 2),-6)\n",
    "var[-6:] = var[-7]\n",
    "var[0] = 0\n",
    "var = pd.Series(var)\n",
    "var.tail(8)"
   ]
  },
  {
   "cell_type": "code",
   "execution_count": null,
   "metadata": {},
   "outputs": [],
   "source": []
  },
  {
   "cell_type": "code",
   "execution_count": null,
   "metadata": {},
   "outputs": [],
   "source": []
  }
 ],
 "metadata": {
  "kernelspec": {
   "display_name": "Python 3",
   "language": "python",
   "name": "python3"
  },
  "language_info": {
   "codemirror_mode": {
    "name": "ipython",
    "version": 3
   },
   "file_extension": ".py",
   "mimetype": "text/x-python",
   "name": "python",
   "nbconvert_exporter": "python",
   "pygments_lexer": "ipython3",
   "version": "3.8.1"
  }
 },
 "nbformat": 4,
 "nbformat_minor": 2
}
