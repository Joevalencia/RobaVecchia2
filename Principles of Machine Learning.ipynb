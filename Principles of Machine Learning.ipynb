{
 "cells": [
  {
   "cell_type": "markdown",
   "metadata": {},
   "source": [
    "# Basi di Machine learning"
   ]
  },
  {
   "cell_type": "code",
   "execution_count": 60,
   "metadata": {},
   "outputs": [],
   "source": [
    "import pandas as pd  #libreria per la manipolazione del df\n",
    "import matplotlib.pyplot as plt\n",
    "import numpy as np   #libreria di algebra lineare"
   ]
  },
  {
   "cell_type": "code",
   "execution_count": 55,
   "metadata": {},
   "outputs": [],
   "source": [
    "file1 = r'C:\\Users\\Josè Valencia\\Desktop\\Barcelona Master\\Tesi master\\US_male.txt'\n",
    "f = r'C:\\Users\\Josè Valencia\\Desktop\\Barcelona Master\\Tesi master\\BELGIUM.csv'"
   ]
  },
  {
   "cell_type": "code",
   "execution_count": 6,
   "metadata": {},
   "outputs": [],
   "source": [
    "data = pd.read_table(file1, delim_whitespace=True)"
   ]
  },
  {
   "cell_type": "code",
   "execution_count": 7,
   "metadata": {},
   "outputs": [
    {
     "data": {
      "text/html": [
       "<div>\n",
       "<style scoped>\n",
       "    .dataframe tbody tr th:only-of-type {\n",
       "        vertical-align: middle;\n",
       "    }\n",
       "\n",
       "    .dataframe tbody tr th {\n",
       "        vertical-align: top;\n",
       "    }\n",
       "\n",
       "    .dataframe thead th {\n",
       "        text-align: right;\n",
       "    }\n",
       "</style>\n",
       "<table border=\"1\" class=\"dataframe\">\n",
       "  <thead>\n",
       "    <tr style=\"text-align: right;\">\n",
       "      <th></th>\n",
       "      <th>Year</th>\n",
       "      <th>Age</th>\n",
       "      <th>mx</th>\n",
       "      <th>qx</th>\n",
       "      <th>ax</th>\n",
       "      <th>lx</th>\n",
       "      <th>dx</th>\n",
       "      <th>Lx</th>\n",
       "      <th>Tx</th>\n",
       "      <th>ex</th>\n",
       "    </tr>\n",
       "  </thead>\n",
       "  <tbody>\n",
       "    <tr>\n",
       "      <th>0</th>\n",
       "      <td>1933</td>\n",
       "      <td>0</td>\n",
       "      <td>0.06818</td>\n",
       "      <td>0.06486</td>\n",
       "      <td>0.25</td>\n",
       "      <td>100000</td>\n",
       "      <td>6486</td>\n",
       "      <td>95139</td>\n",
       "      <td>5918927</td>\n",
       "      <td>59.19</td>\n",
       "    </tr>\n",
       "    <tr>\n",
       "      <th>1</th>\n",
       "      <td>1933</td>\n",
       "      <td>1</td>\n",
       "      <td>0.01004</td>\n",
       "      <td>0.00999</td>\n",
       "      <td>0.50</td>\n",
       "      <td>93514</td>\n",
       "      <td>934</td>\n",
       "      <td>93047</td>\n",
       "      <td>5823788</td>\n",
       "      <td>62.28</td>\n",
       "    </tr>\n",
       "    <tr>\n",
       "      <th>2</th>\n",
       "      <td>1933</td>\n",
       "      <td>2</td>\n",
       "      <td>0.00467</td>\n",
       "      <td>0.00466</td>\n",
       "      <td>0.50</td>\n",
       "      <td>92580</td>\n",
       "      <td>431</td>\n",
       "      <td>92364</td>\n",
       "      <td>5730741</td>\n",
       "      <td>61.90</td>\n",
       "    </tr>\n",
       "    <tr>\n",
       "      <th>3</th>\n",
       "      <td>1933</td>\n",
       "      <td>3</td>\n",
       "      <td>0.00333</td>\n",
       "      <td>0.00333</td>\n",
       "      <td>0.50</td>\n",
       "      <td>92148</td>\n",
       "      <td>307</td>\n",
       "      <td>91995</td>\n",
       "      <td>5638377</td>\n",
       "      <td>61.19</td>\n",
       "    </tr>\n",
       "    <tr>\n",
       "      <th>4</th>\n",
       "      <td>1933</td>\n",
       "      <td>4</td>\n",
       "      <td>0.00254</td>\n",
       "      <td>0.00253</td>\n",
       "      <td>0.50</td>\n",
       "      <td>91842</td>\n",
       "      <td>233</td>\n",
       "      <td>91725</td>\n",
       "      <td>5546382</td>\n",
       "      <td>60.39</td>\n",
       "    </tr>\n",
       "    <tr>\n",
       "      <th>...</th>\n",
       "      <td>...</td>\n",
       "      <td>...</td>\n",
       "      <td>...</td>\n",
       "      <td>...</td>\n",
       "      <td>...</td>\n",
       "      <td>...</td>\n",
       "      <td>...</td>\n",
       "      <td>...</td>\n",
       "      <td>...</td>\n",
       "      <td>...</td>\n",
       "    </tr>\n",
       "    <tr>\n",
       "      <th>9652</th>\n",
       "      <td>2019</td>\n",
       "      <td>106</td>\n",
       "      <td>0.52163</td>\n",
       "      <td>0.41372</td>\n",
       "      <td>0.50</td>\n",
       "      <td>155</td>\n",
       "      <td>64</td>\n",
       "      <td>123</td>\n",
       "      <td>280</td>\n",
       "      <td>1.81</td>\n",
       "    </tr>\n",
       "    <tr>\n",
       "      <th>9653</th>\n",
       "      <td>2019</td>\n",
       "      <td>107</td>\n",
       "      <td>0.54982</td>\n",
       "      <td>0.43126</td>\n",
       "      <td>0.50</td>\n",
       "      <td>91</td>\n",
       "      <td>39</td>\n",
       "      <td>71</td>\n",
       "      <td>157</td>\n",
       "      <td>1.73</td>\n",
       "    </tr>\n",
       "    <tr>\n",
       "      <th>9654</th>\n",
       "      <td>2019</td>\n",
       "      <td>108</td>\n",
       "      <td>0.57770</td>\n",
       "      <td>0.44823</td>\n",
       "      <td>0.50</td>\n",
       "      <td>52</td>\n",
       "      <td>23</td>\n",
       "      <td>40</td>\n",
       "      <td>86</td>\n",
       "      <td>1.67</td>\n",
       "    </tr>\n",
       "    <tr>\n",
       "      <th>9655</th>\n",
       "      <td>2019</td>\n",
       "      <td>109</td>\n",
       "      <td>0.60510</td>\n",
       "      <td>0.46455</td>\n",
       "      <td>0.50</td>\n",
       "      <td>28</td>\n",
       "      <td>13</td>\n",
       "      <td>22</td>\n",
       "      <td>46</td>\n",
       "      <td>1.62</td>\n",
       "    </tr>\n",
       "    <tr>\n",
       "      <th>9656</th>\n",
       "      <td>2019</td>\n",
       "      <td>110+</td>\n",
       "      <td>0.63184</td>\n",
       "      <td>1.00000</td>\n",
       "      <td>1.58</td>\n",
       "      <td>15</td>\n",
       "      <td>15</td>\n",
       "      <td>24</td>\n",
       "      <td>24</td>\n",
       "      <td>1.58</td>\n",
       "    </tr>\n",
       "  </tbody>\n",
       "</table>\n",
       "<p>9657 rows × 10 columns</p>\n",
       "</div>"
      ],
      "text/plain": [
       "      Year   Age       mx       qx    ax      lx    dx     Lx       Tx     ex\n",
       "0     1933     0  0.06818  0.06486  0.25  100000  6486  95139  5918927  59.19\n",
       "1     1933     1  0.01004  0.00999  0.50   93514   934  93047  5823788  62.28\n",
       "2     1933     2  0.00467  0.00466  0.50   92580   431  92364  5730741  61.90\n",
       "3     1933     3  0.00333  0.00333  0.50   92148   307  91995  5638377  61.19\n",
       "4     1933     4  0.00254  0.00253  0.50   91842   233  91725  5546382  60.39\n",
       "...    ...   ...      ...      ...   ...     ...   ...    ...      ...    ...\n",
       "9652  2019   106  0.52163  0.41372  0.50     155    64    123      280   1.81\n",
       "9653  2019   107  0.54982  0.43126  0.50      91    39     71      157   1.73\n",
       "9654  2019   108  0.57770  0.44823  0.50      52    23     40       86   1.67\n",
       "9655  2019   109  0.60510  0.46455  0.50      28    13     22       46   1.62\n",
       "9656  2019  110+  0.63184  1.00000  1.58      15    15     24       24   1.58\n",
       "\n",
       "[9657 rows x 10 columns]"
      ]
     },
     "execution_count": 7,
     "metadata": {},
     "output_type": "execute_result"
    }
   ],
   "source": [
    "data"
   ]
  },
  {
   "cell_type": "code",
   "execution_count": 9,
   "metadata": {},
   "outputs": [
    {
     "data": {
      "text/html": [
       "<div>\n",
       "<style scoped>\n",
       "    .dataframe tbody tr th:only-of-type {\n",
       "        vertical-align: middle;\n",
       "    }\n",
       "\n",
       "    .dataframe tbody tr th {\n",
       "        vertical-align: top;\n",
       "    }\n",
       "\n",
       "    .dataframe thead th {\n",
       "        text-align: right;\n",
       "    }\n",
       "</style>\n",
       "<table border=\"1\" class=\"dataframe\">\n",
       "  <thead>\n",
       "    <tr style=\"text-align: right;\">\n",
       "      <th></th>\n",
       "      <th>Year</th>\n",
       "      <th>Age</th>\n",
       "      <th>mx</th>\n",
       "    </tr>\n",
       "  </thead>\n",
       "  <tbody>\n",
       "    <tr>\n",
       "      <th>0</th>\n",
       "      <td>1933</td>\n",
       "      <td>0</td>\n",
       "      <td>0.06818</td>\n",
       "    </tr>\n",
       "    <tr>\n",
       "      <th>1</th>\n",
       "      <td>1933</td>\n",
       "      <td>1</td>\n",
       "      <td>0.01004</td>\n",
       "    </tr>\n",
       "    <tr>\n",
       "      <th>2</th>\n",
       "      <td>1933</td>\n",
       "      <td>2</td>\n",
       "      <td>0.00467</td>\n",
       "    </tr>\n",
       "    <tr>\n",
       "      <th>3</th>\n",
       "      <td>1933</td>\n",
       "      <td>3</td>\n",
       "      <td>0.00333</td>\n",
       "    </tr>\n",
       "    <tr>\n",
       "      <th>4</th>\n",
       "      <td>1933</td>\n",
       "      <td>4</td>\n",
       "      <td>0.00254</td>\n",
       "    </tr>\n",
       "  </tbody>\n",
       "</table>\n",
       "</div>"
      ],
      "text/plain": [
       "   Year Age       mx\n",
       "0  1933   0  0.06818\n",
       "1  1933   1  0.01004\n",
       "2  1933   2  0.00467\n",
       "3  1933   3  0.00333\n",
       "4  1933   4  0.00254"
      ]
     },
     "execution_count": 9,
     "metadata": {},
     "output_type": "execute_result"
    }
   ],
   "source": [
    "data2 = data[['Year', 'Age', 'mx']]\n",
    "data2.head()"
   ]
  },
  {
   "cell_type": "code",
   "execution_count": 18,
   "metadata": {},
   "outputs": [
    {
     "data": {
      "text/plain": [
       "0.07648"
      ]
     },
     "execution_count": 18,
     "metadata": {},
     "output_type": "execute_result"
    }
   ],
   "source": [
    "data2.mx[111]"
   ]
  },
  {
   "cell_type": "code",
   "execution_count": 19,
   "metadata": {},
   "outputs": [
    {
     "data": {
      "text/plain": [
       "0.06818"
      ]
     },
     "execution_count": 19,
     "metadata": {},
     "output_type": "execute_result"
    }
   ],
   "source": [
    "data2.mx[0]"
   ]
  },
  {
   "cell_type": "code",
   "execution_count": 21,
   "metadata": {},
   "outputs": [
    {
     "data": {
      "text/plain": [
       "110     0.06818\n",
       "111     0.01004\n",
       "112     0.00467\n",
       "113     0.00333\n",
       "114     0.00254\n",
       "         ...   \n",
       "9652    0.58003\n",
       "9653    0.60847\n",
       "9654    0.63618\n",
       "9655    0.66302\n",
       "9656    0.00607\n",
       "Name: mx, Length: 9547, dtype: float64"
      ]
     },
     "execution_count": 21,
     "metadata": {},
     "output_type": "execute_result"
    }
   ],
   "source": [
    "data2.mx.shift(110).dropna()"
   ]
  },
  {
   "cell_type": "code",
   "execution_count": 23,
   "metadata": {},
   "outputs": [
    {
     "data": {
      "text/plain": [
       "110     0.06818\n",
       "111     0.01004\n",
       "112     0.00467\n",
       "113     0.00333\n",
       "114     0.00254\n",
       "         ...   \n",
       "9652    0.58003\n",
       "9653    0.60847\n",
       "9654    0.63618\n",
       "9655    0.66302\n",
       "9656    0.00607\n",
       "Name: mx, Length: 9547, dtype: float64"
      ]
     },
     "execution_count": 23,
     "metadata": {},
     "output_type": "execute_result"
    }
   ],
   "source": [
    "data2.mx.shift(110).dropna()"
   ]
  },
  {
   "cell_type": "code",
   "execution_count": 28,
   "metadata": {},
   "outputs": [
    {
     "data": {
      "text/plain": [
       "0       0.06818\n",
       "1       0.01004\n",
       "2       0.00467\n",
       "3       0.00333\n",
       "4       0.00254\n",
       "         ...   \n",
       "9652    0.52163\n",
       "9653    0.54982\n",
       "9654    0.57770\n",
       "9655    0.60510\n",
       "9656    0.63184\n",
       "Name: mx, Length: 9657, dtype: float64"
      ]
     },
     "execution_count": 28,
     "metadata": {},
     "output_type": "execute_result"
    }
   ],
   "source": [
    "data2.mx.iloc[:]"
   ]
  },
  {
   "cell_type": "code",
   "execution_count": 51,
   "metadata": {},
   "outputs": [
    {
     "data": {
      "text/html": [
       "<div>\n",
       "<style scoped>\n",
       "    .dataframe tbody tr th:only-of-type {\n",
       "        vertical-align: middle;\n",
       "    }\n",
       "\n",
       "    .dataframe tbody tr th {\n",
       "        vertical-align: top;\n",
       "    }\n",
       "\n",
       "    .dataframe thead th {\n",
       "        text-align: right;\n",
       "    }\n",
       "</style>\n",
       "<table border=\"1\" class=\"dataframe\">\n",
       "  <thead>\n",
       "    <tr style=\"text-align: right;\">\n",
       "      <th></th>\n",
       "      <th>mx</th>\n",
       "    </tr>\n",
       "    <tr>\n",
       "      <th>Year</th>\n",
       "      <th></th>\n",
       "    </tr>\n",
       "  </thead>\n",
       "  <tbody>\n",
       "    <tr>\n",
       "      <th>1933</th>\n",
       "      <td>0.113245</td>\n",
       "    </tr>\n",
       "    <tr>\n",
       "      <th>1934</th>\n",
       "      <td>0.115475</td>\n",
       "    </tr>\n",
       "    <tr>\n",
       "      <th>1935</th>\n",
       "      <td>0.115726</td>\n",
       "    </tr>\n",
       "    <tr>\n",
       "      <th>1936</th>\n",
       "      <td>0.126271</td>\n",
       "    </tr>\n",
       "    <tr>\n",
       "      <th>1937</th>\n",
       "      <td>0.120841</td>\n",
       "    </tr>\n",
       "    <tr>\n",
       "      <th>...</th>\n",
       "      <td>...</td>\n",
       "    </tr>\n",
       "    <tr>\n",
       "      <th>2015</th>\n",
       "      <td>0.096171</td>\n",
       "    </tr>\n",
       "    <tr>\n",
       "      <th>2016</th>\n",
       "      <td>0.092679</td>\n",
       "    </tr>\n",
       "    <tr>\n",
       "      <th>2017</th>\n",
       "      <td>0.091233</td>\n",
       "    </tr>\n",
       "    <tr>\n",
       "      <th>2018</th>\n",
       "      <td>0.087893</td>\n",
       "    </tr>\n",
       "    <tr>\n",
       "      <th>2019</th>\n",
       "      <td>0.083815</td>\n",
       "    </tr>\n",
       "  </tbody>\n",
       "</table>\n",
       "<p>87 rows × 1 columns</p>\n",
       "</div>"
      ],
      "text/plain": [
       "            mx\n",
       "Year          \n",
       "1933  0.113245\n",
       "1934  0.115475\n",
       "1935  0.115726\n",
       "1936  0.126271\n",
       "1937  0.120841\n",
       "...        ...\n",
       "2015  0.096171\n",
       "2016  0.092679\n",
       "2017  0.091233\n",
       "2018  0.087893\n",
       "2019  0.083815\n",
       "\n",
       "[87 rows x 1 columns]"
      ]
     },
     "execution_count": 51,
     "metadata": {},
     "output_type": "execute_result"
    }
   ],
   "source": [
    "data2.groupby(by=['Year']).mean()"
   ]
  },
  {
   "cell_type": "code",
   "execution_count": 54,
   "metadata": {},
   "outputs": [
    {
     "data": {
      "text/plain": [
       "0            NaN\n",
       "1       6.492492\n",
       "2       2.143777\n",
       "3       1.399399\n",
       "4       1.316206\n",
       "          ...   \n",
       "9652    0.956444\n",
       "9653    0.959328\n",
       "9654    0.962140\n",
       "9655    0.964869\n",
       "9656    0.464550\n",
       "Name: qx, Length: 9657, dtype: float64"
      ]
     },
     "execution_count": 54,
     "metadata": {},
     "output_type": "execute_result"
    }
   ],
   "source": [
    "data.qx.shift(1)/data.qx"
   ]
  },
  {
   "cell_type": "code",
   "execution_count": 63,
   "metadata": {},
   "outputs": [
    {
     "data": {
      "text/html": [
       "<div>\n",
       "<style scoped>\n",
       "    .dataframe tbody tr th:only-of-type {\n",
       "        vertical-align: middle;\n",
       "    }\n",
       "\n",
       "    .dataframe tbody tr th {\n",
       "        vertical-align: top;\n",
       "    }\n",
       "\n",
       "    .dataframe thead th {\n",
       "        text-align: right;\n",
       "    }\n",
       "</style>\n",
       "<table border=\"1\" class=\"dataframe\">\n",
       "  <thead>\n",
       "    <tr style=\"text-align: right;\">\n",
       "      <th></th>\n",
       "      <th>Year</th>\n",
       "      <th>Age</th>\n",
       "      <th>rates</th>\n",
       "    </tr>\n",
       "  </thead>\n",
       "  <tbody>\n",
       "    <tr>\n",
       "      <th>0</th>\n",
       "      <td>1970</td>\n",
       "      <td>0</td>\n",
       "      <td>0.024682</td>\n",
       "    </tr>\n",
       "    <tr>\n",
       "      <th>1</th>\n",
       "      <td>1971</td>\n",
       "      <td>0</td>\n",
       "      <td>0.023568</td>\n",
       "    </tr>\n",
       "    <tr>\n",
       "      <th>2</th>\n",
       "      <td>1972</td>\n",
       "      <td>0</td>\n",
       "      <td>0.020955</td>\n",
       "    </tr>\n",
       "    <tr>\n",
       "      <th>3</th>\n",
       "      <td>1973</td>\n",
       "      <td>0</td>\n",
       "      <td>0.019245</td>\n",
       "    </tr>\n",
       "    <tr>\n",
       "      <th>4</th>\n",
       "      <td>1974</td>\n",
       "      <td>0</td>\n",
       "      <td>0.019587</td>\n",
       "    </tr>\n",
       "    <tr>\n",
       "      <th>5</th>\n",
       "      <td>1975</td>\n",
       "      <td>0</td>\n",
       "      <td>0.018104</td>\n",
       "    </tr>\n",
       "    <tr>\n",
       "      <th>6</th>\n",
       "      <td>1976</td>\n",
       "      <td>0</td>\n",
       "      <td>0.017632</td>\n",
       "    </tr>\n",
       "    <tr>\n",
       "      <th>7</th>\n",
       "      <td>1977</td>\n",
       "      <td>0</td>\n",
       "      <td>0.015692</td>\n",
       "    </tr>\n",
       "    <tr>\n",
       "      <th>8</th>\n",
       "      <td>1978</td>\n",
       "      <td>0</td>\n",
       "      <td>0.015522</td>\n",
       "    </tr>\n",
       "  </tbody>\n",
       "</table>\n",
       "</div>"
      ],
      "text/plain": [
       "   Year  Age     rates\n",
       "0  1970    0  0.024682\n",
       "1  1971    0  0.023568\n",
       "2  1972    0  0.020955\n",
       "3  1973    0  0.019245\n",
       "4  1974    0  0.019587\n",
       "5  1975    0  0.018104\n",
       "6  1976    0  0.017632\n",
       "7  1977    0  0.015692\n",
       "8  1978    0  0.015522"
      ]
     },
     "execution_count": 63,
     "metadata": {},
     "output_type": "execute_result"
    }
   ],
   "source": [
    "bel = pd.read_csv(f).iloc[:, 1:]\n",
    "bel.head(9)"
   ]
  },
  {
   "cell_type": "code",
   "execution_count": 70,
   "metadata": {},
   "outputs": [
    {
     "data": {
      "text/plain": [
       "1       0.024682\n",
       "2       0.023568\n",
       "3       0.020955\n",
       "4       0.019245\n",
       "5       0.019587\n",
       "          ...   \n",
       "4585    0.177220\n",
       "4586    0.170339\n",
       "4587    0.167090\n",
       "4588    0.163709\n",
       "4589    0.161147\n",
       "Name: rates, Length: 4589, dtype: float64"
      ]
     },
     "execution_count": 70,
     "metadata": {},
     "output_type": "execute_result"
    }
   ],
   "source": [
    "bel.rates.shift(1).dropna()"
   ]
  },
  {
   "cell_type": "code",
   "execution_count": 76,
   "metadata": {},
   "outputs": [
    {
     "data": {
      "text/plain": [
       "<matplotlib.axes._subplots.AxesSubplot at 0x258f48b2280>"
      ]
     },
     "execution_count": 76,
     "metadata": {},
     "output_type": "execute_result"
    },
    {
     "data": {
      "image/png": "[encoded data removed]",
      "text/plain": [
       "<Figure size 432x288 with 1 Axes>"
      ]
     },
     "metadata": {
      "needs_background": "light"
     },
     "output_type": "display_data"
    }
   ],
   "source": [
    "np.log((bel.rates/bel.rates.shift(1)).dropna()).plot()"
   ]
  },
  {
   "cell_type": "code",
   "execution_count": null,
   "metadata": {},
   "outputs": [],
   "source": []
  },
  {
   "cell_type": "code",
   "execution_count": null,
   "metadata": {},
   "outputs": [],
   "source": []
  },
  {
   "cell_type": "code",
   "execution_count": null,
   "metadata": {},
   "outputs": [],
   "source": []
  }
 ],
 "metadata": {
  "kernelspec": {
   "display_name": "Python 3",
   "language": "python",
   "name": "python3"
  },
  "language_info": {
   "codemirror_mode": {
    "name": "ipython",
    "version": 3
   },
   "file_extension": ".py",
   "mimetype": "text/x-python",
   "name": "python",
   "nbconvert_exporter": "python",
   "pygments_lexer": "ipython3",
   "version": "3.8.1"
  }
 },
 "nbformat": 4,
 "nbformat_minor": 2
}
