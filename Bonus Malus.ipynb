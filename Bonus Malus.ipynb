{
 "cells": [
  {
   "cell_type": "code",
   "execution_count": 1,
   "metadata": {},
   "outputs": [],
   "source": [
    "import numpy as np\n",
    "import scipy.stats as sps\n",
    "import pandas as pd"
   ]
  },
  {
   "cell_type": "code",
   "execution_count": 51,
   "metadata": {},
   "outputs": [],
   "source": [
    "def bonus_malus(premium, starting_level=1, final_level=6, discount=1, penalty=2, distribution = 'poisson'):\n",
    "    premium = pd.Series(premium)\n",
    "    m, n = starting_level, final_level\n",
    "    sinx = np.arange(0, 3)\n",
    "    levels = pd.Series(np.arange(m, n+1), dtype='int64')\n",
    "    claims = pd.Series(np.arange(0,(final_level/penalty)+1), dtype='int64')\n",
    "    claim_free = pd.Series(levels.shift(discount).fillna(starting_level), dtype='int64')\n",
    "    claim_one = pd.Series(levels.shift(-penalty).fillna(final_level), dtype='int64')\n",
    "    claim_two = pd.Series(levels.shift(-penalty*2).fillna(final_level), dtype='int64')\n",
    "    claim_three = pd.Series(levels.shift(-penalty*3).fillna(final_level), dtype='int64')\n",
    "    print(f'Transition Rules for the scale -{discount}/+{penalty}')\n",
    "    print('='*40)\n",
    "    print('   Levels|   Claims Incurred')\n",
    "    df = pd.DataFrame({'Levels':levels, 'Claim-free':claim_free,\n",
    "                       f'{claims[1]}:claim':claim_one, f'{claims[2]}:claim':claim_two,\n",
    "                      f'+{claims[2]}:claim':claim_three})\n",
    "    print(df)\n",
    "    df1 = df.iloc[:,1:-1].values-1   ## posiciones index matrix\n",
    "\n",
    "    mu = float(input('Insert mu parameter for Poisson: \\n'))\n",
    "    p0 = sps.poisson.pmf(sinx, mu)\n",
    "    mat1 = np.matrix(np.zeros((final_level)**2).reshape((final_level),(final_level)))\n",
    "    mat1[0,[df1[0,0]]], mat1[0, [df1[0,1]]] = p0[0], p0[1]\n",
    "    mat1[1,[df1[1,0]]], mat1[1, [df1[1,1]]] = p0[0], p0[1]\n",
    "    mat1[2,[df1[2,0]]], mat1[2, [df1[2,1]]]= p0[0], p0[1]\n",
    "    mat1[3,[df1[3,0]]], mat1[3, [df1[3,1]]] = p0[0], p0[1]\n",
    "    mat1[4,[df1[4,0]]], mat1[4, [df1[4,1]]] = p0[0], p0[1]\n",
    "    mat1[5,[df1[5,0]]], mat1[5, [df1[5,1]]]  = p0[0], p0[1]\n",
    "    mat1[0,5], mat1[1, 5] = 1-p0[0]-p0[1], 1-p0[0]-p0[1]\n",
    "    mat1[2,5], mat1[3,5] = 1-p0[0]-p0[1], 1-p0[0]\n",
    "    mat1[4, 5], mat1[5,5]= 1-p0[0], 1-p0[0]\n",
    "    \n",
    "    def formula_rolski():\n",
    "        et = np.repeat(1, 6)\n",
    "        E = np.ones((6, 6))\n",
    "        mat = np.eye(6)-ma+E\n",
    "        inverse = np.linalg.inv(mat)\n",
    "        stat_dist = np.matmul(et, inverse)\n",
    "        \n",
    "        return  stat_dist\n",
    "    print('='*40)\n",
    "    print('Stationary Distribution (Rolski Formula)')\n",
    "    print(formula_rolski())   "
   ]
  },
  {
   "cell_type": "code",
   "execution_count": 52,
   "metadata": {},
   "outputs": [
    {
     "name": "stdout",
     "output_type": "stream",
     "text": [
      "Transition Rules for the scale -1/+2\n",
      "========================================\n",
      "   Levels|   Claims Incurred\n",
      "   Levels  Claim-free  1:claim  2:claim  +2:claim\n",
      "0       1           1        3        5         6\n",
      "1       2           1        4        6         6\n",
      "2       3           2        5        6         6\n",
      "3       4           3        6        6         6\n",
      "4       5           4        6        6         6\n",
      "5       6           5        6        6         6\n",
      "Insert mu parameter for Poisson: \n",
      ".04\n",
      "========================================\n",
      "Stationary Distribution (Rolski Formula)\n",
      "[0.91526921 0.03747454 0.03912614 0.00423589 0.00303209 0.00097959]\n"
     ]
    }
   ],
   "source": [
    "bonus_malus(3)"
   ]
  },
  {
   "cell_type": "code",
   "execution_count": 9,
   "metadata": {},
   "outputs": [
    {
     "data": {
      "text/plain": [
       "matrix([[1.03921056, 1.        , 0.96156842, 1.        , 0.99923137,\n",
       "         0.99922102],\n",
       "        [0.03921056, 2.        , 1.        , 0.96156842, 1.        ,\n",
       "         0.99922102],\n",
       "        [1.        , 0.03921056, 2.        , 1.        , 0.96156842,\n",
       "         0.99922102],\n",
       "        [1.        , 1.        , 0.03921056, 2.        , 1.        ,\n",
       "         0.96078944],\n",
       "        [1.        , 1.        , 1.        , 0.03921056, 2.        ,\n",
       "         0.96078944],\n",
       "        [1.        , 1.        , 1.        , 1.        , 0.03921056,\n",
       "         1.96078944]])"
      ]
     },
     "execution_count": 9,
     "metadata": {},
     "output_type": "execute_result"
    }
   ],
   "source": [
    "et = np.repeat(1, 6)\n",
    "E = np.ones((6, 6))\n",
    "mat = np.eye(6)-ma+E\n",
    "mat"
   ]
  },
  {
   "cell_type": "code",
   "execution_count": 31,
   "metadata": {},
   "outputs": [
    {
     "data": {
      "text/plain": [
       "matrix([[0.91527262, 0.03747502, 0.03912644, 0.00423435, 0.0030302 ,\n",
       "         0.00097862]])"
      ]
     },
     "execution_count": 31,
     "metadata": {},
     "output_type": "execute_result"
    }
   ],
   "source": [
    "np.matmul(et,np.linalg.inv(mat))"
   ]
  },
  {
   "cell_type": "code",
   "execution_count": 28,
   "metadata": {},
   "outputs": [
    {
     "name": "stdout",
     "output_type": "stream",
     "text": [
      "Transition Rules for the scale -1/+2\n",
      "========================================\n",
      "   Levels|   Claims Incurred\n",
      "   Levels  Claim-free  1:claim  2:claim  +2:claim\n",
      "0       1           1        3        5         6\n",
      "1       2           1        4        6         6\n",
      "2       3           2        5        6         6\n",
      "3       4           3        6        6         6\n",
      "4       5           4        6        6         6\n",
      "5       6           5        6        6         6\n",
      "Insert mu parameter for Poisson: \n",
      ".04\n"
     ]
    }
   ],
   "source": [
    "ma =bonus_malus(2)"
   ]
  },
  {
   "cell_type": "code",
   "execution_count": 76,
   "metadata": {},
   "outputs": [
    {
     "data": {
      "text/plain": [
       "0.9607894391523232"
      ]
     },
     "execution_count": 76,
     "metadata": {},
     "output_type": "execute_result"
    }
   ],
   "source": [
    "ok = sps.poisson.pmf([0, 1, 2], .04)\n",
    "ok[0]"
   ]
  },
  {
   "cell_type": "code",
   "execution_count": 70,
   "metadata": {},
   "outputs": [],
   "source": [
    "mat = np.zeros(36)"
   ]
  },
  {
   "cell_type": "code",
   "execution_count": 71,
   "metadata": {},
   "outputs": [],
   "source": [
    "mat = mat.reshape(6,6)\n",
    "mat[0,2] = 1"
   ]
  },
  {
   "cell_type": "code",
   "execution_count": 74,
   "metadata": {},
   "outputs": [
    {
     "data": {
      "text/plain": [
       "array([0., 0., 1., 0., 0., 0.])"
      ]
     },
     "execution_count": 74,
     "metadata": {},
     "output_type": "execute_result"
    }
   ],
   "source": [
    "mat[0]"
   ]
  },
  {
   "cell_type": "code",
   "execution_count": 83,
   "metadata": {},
   "outputs": [
    {
     "data": {
      "text/plain": [
       "[0, 2, 4]"
      ]
     },
     "execution_count": 83,
     "metadata": {},
     "output_type": "execute_result"
    }
   ],
   "source": [
    "q  = list(bon.iloc[0,1:].values)[:-1]\n",
    "q = [x-1 for x in q]\n",
    "q"
   ]
  },
  {
   "cell_type": "code",
   "execution_count": 61,
   "metadata": {},
   "outputs": [
    {
     "name": "stdout",
     "output_type": "stream",
     "text": [
      "Transition Rules for the scale -1/+2\n",
      "========================================\n",
      "   Levels|   Claims Incurred\n"
     ]
    }
   ],
   "source": [
    "it = bonus_malus(2, starting_level=1, final_level=6, discount=1, penalty=2).iloc[:,1:-1].values-1"
   ]
  },
  {
   "cell_type": "code",
   "execution_count": 62,
   "metadata": {},
   "outputs": [
    {
     "data": {
      "text/plain": [
       "array([[0, 2, 4],\n",
       "       [0, 3, 5],\n",
       "       [1, 4, 5],\n",
       "       [2, 5, 5],\n",
       "       [3, 5, 5],\n",
       "       [4, 5, 5]], dtype=int64)"
      ]
     },
     "execution_count": 62,
     "metadata": {},
     "output_type": "execute_result"
    }
   ],
   "source": [
    "it[0]"
   ]
  },
  {
   "cell_type": "code",
   "execution_count": 20,
   "metadata": {},
   "outputs": [
    {
     "data": {
      "text/plain": [
       "0    0.0\n",
       "1    1.0\n",
       "2    0.0\n",
       "3    0.0\n",
       "4    0.0\n",
       "5    0.0\n",
       "dtype: float64"
      ]
     },
     "execution_count": 20,
     "metadata": {},
     "output_type": "execute_result"
    }
   ],
   "source": [
    "q0 =  pd.Series(np.zeros(6)) \n",
    "q0[1] = 1\n",
    "q0"
   ]
  },
  {
   "cell_type": "code",
   "execution_count": 21,
   "metadata": {},
   "outputs": [
    {
     "data": {
      "text/plain": [
       "0    0.0\n",
       "1    0.0\n",
       "2    0.0\n",
       "3    1.0\n",
       "4    0.0\n",
       "5    0.0\n",
       "dtype: float64"
      ]
     },
     "execution_count": 21,
     "metadata": {},
     "output_type": "execute_result"
    }
   ],
   "source": [
    "q1 =  pd.Series(np.zeros(6)) \n",
    "q1[3] = 1\n",
    "q1"
   ]
  },
  {
   "cell_type": "code",
   "execution_count": null,
   "metadata": {},
   "outputs": [],
   "source": []
  },
  {
   "cell_type": "code",
   "execution_count": 27,
   "metadata": {},
   "outputs": [
    {
     "data": {
      "text/plain": [
       "array([[0., 1., 0., 0., 0., 0.],\n",
       "       [0., 0., 0., 1., 0., 0.]])"
      ]
     },
     "execution_count": 27,
     "metadata": {},
     "output_type": "execute_result"
    }
   ],
   "source": [
    "pd.concat([q0, q1], ignore_index=True).values.reshape(2,6)"
   ]
  },
  {
   "cell_type": "code",
   "execution_count": 46,
   "metadata": {},
   "outputs": [
    {
     "data": {
      "text/plain": [
       "matrix([[1., 0., 1., 0., 0., 0.],\n",
       "        [0., 0., 0., 0., 0., 0.],\n",
       "        [0., 0., 0., 0., 0., 0.],\n",
       "        [0., 0., 0., 0., 0., 0.],\n",
       "        [0., 0., 0., 0., 0., 0.],\n",
       "        [0., 0., 0., 0., 0., 0.]])"
      ]
     },
     "execution_count": 46,
     "metadata": {},
     "output_type": "execute_result"
    }
   ],
   "source": [
    "mat1 = np.matrix(np.zeros(36).reshape(6,6))\n",
    "mat1[0,0], mat1[0, 2] = 1, 1\n",
    "mat1"
   ]
  },
  {
   "cell_type": "code",
   "execution_count": 38,
   "metadata": {},
   "outputs": [
    {
     "data": {
      "text/plain": [
       "0    0.0\n",
       "1    0.0\n",
       "2    0.0\n",
       "3    0.0\n",
       "4    0.0\n",
       "5    0.0\n",
       "dtype: float64"
      ]
     },
     "execution_count": 38,
     "metadata": {},
     "output_type": "execute_result"
    }
   ],
   "source": [
    "q"
   ]
  },
  {
   "cell_type": "code",
   "execution_count": null,
   "metadata": {},
   "outputs": [],
   "source": []
  },
  {
   "cell_type": "code",
   "execution_count": null,
   "metadata": {},
   "outputs": [],
   "source": []
  },
  {
   "cell_type": "code",
   "execution_count": null,
   "metadata": {},
   "outputs": [],
   "source": []
  },
  {
   "cell_type": "code",
   "execution_count": null,
   "metadata": {},
   "outputs": [],
   "source": []
  },
  {
   "cell_type": "code",
   "execution_count": 10,
   "metadata": {},
   "outputs": [],
   "source": [
    "def premiums_poisgamma(lambdas, a, b, delta):\n",
    "    equi = lambdas*a/b\n",
    "    expected = equi*(1+delta)\n",
    "    fact = ((a+a**2)/b**2)*lambdas\n",
    "    varianza = equi+delta*fact\n",
    "    des = equi+np.sqrt(fact)*delta\n",
    "    df = pd.Series({'Equivalencia':equi, 'Valor esperado':expected, \n",
    "                      'Varianza':varianza, 'Desviacion':des})\n",
    "    return df\n",
    "\n",
    "def premiums_nbinexp(a, b, beta, delta):\n",
    "    equi = a*b*1/beta\n",
    "    expected = equi*(1+delta)\n",
    "    fact = (2*a*b+a*b**2)/beta**2\n",
    "    varianza = equi+delta*fact\n",
    "    des = equi+delta*np.sqrt(fact)\n",
    "    df = pd.Series({'Equivalencia':equi, 'Valor esperado':expected, \n",
    "                      'Varianza':varianza, 'Desviacion':des})\n",
    "    return df"
   ]
  },
  {
   "cell_type": "code",
   "execution_count": 14,
   "metadata": {},
   "outputs": [
    {
     "name": "stdout",
     "output_type": "stream",
     "text": [
      "Equivalencia       510.62\n",
      "Valor esperado     520.84\n",
      "Varianza          9229.72\n",
      "Desviacion         523.83\n",
      "dtype: float64\n"
     ]
    }
   ],
   "source": [
    "resultado = premiums_poisgamma(lambdas=.95, a=1.699511, b=.003161881, delta=.02)\n",
    "print(resultado.round(2))"
   ]
  },
  {
   "cell_type": "code",
   "execution_count": 15,
   "metadata": {},
   "outputs": [
    {
     "name": "stdout",
     "output_type": "stream",
     "text": [
      "Equivalencia        215.06\n",
      "Valor esperado      219.36\n",
      "Varianza          15605.15\n",
      "Desviacion          232.60\n",
      "dtype: float64\n"
     ]
    }
   ],
   "source": [
    "resultado2 = premiums_nbinexp(a=.9140635, b=.1407634, beta=.00059829, delta = .02)\n",
    "print(resultado2.round(2))"
   ]
  },
  {
   "cell_type": "code",
   "execution_count": null,
   "metadata": {},
   "outputs": [],
   "source": []
  },
  {
   "cell_type": "code",
   "execution_count": null,
   "metadata": {},
   "outputs": [],
   "source": []
  },
  {
   "cell_type": "code",
   "execution_count": null,
   "metadata": {},
   "outputs": [],
   "source": []
  }
 ],
 "metadata": {
  "kernelspec": {
   "display_name": "Python 3",
   "language": "python",
   "name": "python3"
  },
  "language_info": {
   "codemirror_mode": {
    "name": "ipython",
    "version": 3
   },
   "file_extension": ".py",
   "mimetype": "text/x-python",
   "name": "python",
   "nbconvert_exporter": "python",
   "pygments_lexer": "ipython3",
   "version": "3.8.1"
  }
 },
 "nbformat": 4,
 "nbformat_minor": 2
}
