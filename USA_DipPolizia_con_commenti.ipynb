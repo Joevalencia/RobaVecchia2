{
 "cells": [
  {
   "cell_type": "markdown",
   "metadata": {},
   "source": [
    "# Problema 1\n",
    "\n",
    "### US Police Violence & Fatal Shootings (Violenza delle Polizia Americana e uccisioni)\n",
    "Data from a variety of sources to support objective analysis\n",
    "\n",
    "https://www.kaggle.com/jpmiller/police-violence-in-the-us/data?select=deaths_and_stats.csv"
   ]
  },
  {
   "cell_type": "markdown",
   "metadata": {},
   "source": [
    "## Commento generale\n",
    "\n",
    "Più che un problema di programmazione spesso è un problema di comprensione della domanda.   \n",
    "Leggere bene la richiesta del quesito è già comprendere un po' della risposta  \n",
    "\n",
    "Per es. se vi viene chiesto \"Quanti sono le caravelle di Cristoforo Colombo?\", non potete rispondere:   \n",
    "La nina, la pinta e la S.Maria!"
   ]
  },
  {
   "cell_type": "code",
   "execution_count": 4,
   "metadata": {},
   "outputs": [],
   "source": [
    "import pandas as pd\n",
    "import datetime\n",
    "import numpy as np"
   ]
  },
  {
   "cell_type": "code",
   "execution_count": 5,
   "metadata": {},
   "outputs": [],
   "source": [
    "# Non cambiare\n",
    "data = pd.read_csv(\"deaths_and_stats.csv\")"
   ]
  },
  {
   "cell_type": "code",
   "execution_count": 6,
   "metadata": {},
   "outputs": [
    {
     "data": {
      "text/html": [
       "<div>\n",
       "<style scoped>\n",
       "    .dataframe tbody tr th:only-of-type {\n",
       "        vertical-align: middle;\n",
       "    }\n",
       "\n",
       "    .dataframe tbody tr th {\n",
       "        vertical-align: top;\n",
       "    }\n",
       "\n",
       "    .dataframe thead th {\n",
       "        text-align: right;\n",
       "    }\n",
       "</style>\n",
       "<table border=\"1\" class=\"dataframe\">\n",
       "  <thead>\n",
       "    <tr style=\"text-align: right;\">\n",
       "      <th></th>\n",
       "      <th>State</th>\n",
       "      <th>City</th>\n",
       "      <th>PD</th>\n",
       "      <th>Black People Killed by Police (1/1/2013-12/31/2019)</th>\n",
       "      <th>Hispanic People Killed by Police (1/1/2013-12/31/2019)</th>\n",
       "      <th>Native American People Killed by Police (1/1/2013-12/31/2019)</th>\n",
       "      <th>Asian People Killed by Police (1/1/2013-12/31/2019)</th>\n",
       "      <th>Pacific Islanders Killed by Police (1/1/2013-12/31/2019)</th>\n",
       "      <th>White People Killed by Police (1/1/2013-12/31/2019)</th>\n",
       "      <th>Unknown Race People Killed by Police (1/1/2013-12/31/2019)</th>\n",
       "      <th>...</th>\n",
       "      <th>Violent crimes 2015 (if reported by agency)</th>\n",
       "      <th>Violent crimes 2016 (if reported by agency)</th>\n",
       "      <th>Violent crimes 2017 (if reported by agency)</th>\n",
       "      <th>Violent crimes 2018 (if reported by agency)</th>\n",
       "      <th>2013 Total Arrests (UCR Data)</th>\n",
       "      <th>2014 Total Arrests</th>\n",
       "      <th>2015 Total Arrests</th>\n",
       "      <th>2016 Total Arrests</th>\n",
       "      <th>2017 Total Arrests</th>\n",
       "      <th>2018 Total Arrests</th>\n",
       "    </tr>\n",
       "  </thead>\n",
       "  <tbody>\n",
       "    <tr>\n",
       "      <th>0</th>\n",
       "      <td>Alabama</td>\n",
       "      <td>Birmingham</td>\n",
       "      <td>Birmingham Police Department</td>\n",
       "      <td>4.0</td>\n",
       "      <td>NaN</td>\n",
       "      <td>NaN</td>\n",
       "      <td>NaN</td>\n",
       "      <td>NaN</td>\n",
       "      <td>3.0</td>\n",
       "      <td>NaN</td>\n",
       "      <td>...</td>\n",
       "      <td>3707.0</td>\n",
       "      <td>NaN</td>\n",
       "      <td>NaN</td>\n",
       "      <td>4025.0</td>\n",
       "      <td>NaN</td>\n",
       "      <td>NaN</td>\n",
       "      <td>NaN</td>\n",
       "      <td>NaN</td>\n",
       "      <td>NaN</td>\n",
       "      <td>NaN</td>\n",
       "    </tr>\n",
       "    <tr>\n",
       "      <th>1</th>\n",
       "      <td>Alaska</td>\n",
       "      <td>Anchorage</td>\n",
       "      <td>Anchorage Police Department</td>\n",
       "      <td>1.0</td>\n",
       "      <td>1.0</td>\n",
       "      <td>2.0</td>\n",
       "      <td>NaN</td>\n",
       "      <td>NaN</td>\n",
       "      <td>5.0</td>\n",
       "      <td>4.0</td>\n",
       "      <td>...</td>\n",
       "      <td>3226.0</td>\n",
       "      <td>3422.0</td>\n",
       "      <td>3564.0</td>\n",
       "      <td>3824.0</td>\n",
       "      <td>17601.0</td>\n",
       "      <td>14748.0</td>\n",
       "      <td>14387.0</td>\n",
       "      <td>13294.0</td>\n",
       "      <td>13871.0</td>\n",
       "      <td>13973.0</td>\n",
       "    </tr>\n",
       "    <tr>\n",
       "      <th>2</th>\n",
       "      <td>Arizona</td>\n",
       "      <td>Chandler</td>\n",
       "      <td>Chandler Police Department</td>\n",
       "      <td>NaN</td>\n",
       "      <td>3.0</td>\n",
       "      <td>NaN</td>\n",
       "      <td>NaN</td>\n",
       "      <td>NaN</td>\n",
       "      <td>2.0</td>\n",
       "      <td>NaN</td>\n",
       "      <td>...</td>\n",
       "      <td>490.0</td>\n",
       "      <td>558.0</td>\n",
       "      <td>647.0</td>\n",
       "      <td>606.0</td>\n",
       "      <td>6257.0</td>\n",
       "      <td>6105.0</td>\n",
       "      <td>6256.0</td>\n",
       "      <td>6151.0</td>\n",
       "      <td>6660.0</td>\n",
       "      <td>6538.0</td>\n",
       "    </tr>\n",
       "  </tbody>\n",
       "</table>\n",
       "<p>3 rows × 33 columns</p>\n",
       "</div>"
      ],
      "text/plain": [
       "     State        City                            PD  \\\n",
       "0  Alabama  Birmingham  Birmingham Police Department   \n",
       "1   Alaska   Anchorage   Anchorage Police Department   \n",
       "2  Arizona    Chandler    Chandler Police Department   \n",
       "\n",
       "   Black People Killed by Police (1/1/2013-12/31/2019)  \\\n",
       "0                                                4.0     \n",
       "1                                                1.0     \n",
       "2                                                NaN     \n",
       "\n",
       "   Hispanic People Killed by Police (1/1/2013-12/31/2019)  \\\n",
       "0                                                NaN        \n",
       "1                                                1.0        \n",
       "2                                                3.0        \n",
       "\n",
       "   Native American People Killed by Police (1/1/2013-12/31/2019)  \\\n",
       "0                                                NaN               \n",
       "1                                                2.0               \n",
       "2                                                NaN               \n",
       "\n",
       "   Asian People Killed by Police (1/1/2013-12/31/2019)  \\\n",
       "0                                                NaN     \n",
       "1                                                NaN     \n",
       "2                                                NaN     \n",
       "\n",
       "   Pacific Islanders Killed by Police (1/1/2013-12/31/2019)  \\\n",
       "0                                                NaN          \n",
       "1                                                NaN          \n",
       "2                                                NaN          \n",
       "\n",
       "   White People Killed by Police (1/1/2013-12/31/2019)  \\\n",
       "0                                                3.0     \n",
       "1                                                5.0     \n",
       "2                                                2.0     \n",
       "\n",
       "   Unknown Race People Killed by Police (1/1/2013-12/31/2019)  ...  \\\n",
       "0                                                NaN           ...   \n",
       "1                                                4.0           ...   \n",
       "2                                                NaN           ...   \n",
       "\n",
       "   Violent crimes 2015 (if reported by agency)  \\\n",
       "0                                       3707.0   \n",
       "1                                       3226.0   \n",
       "2                                        490.0   \n",
       "\n",
       "   Violent crimes 2016 (if reported by agency)  \\\n",
       "0                                          NaN   \n",
       "1                                       3422.0   \n",
       "2                                        558.0   \n",
       "\n",
       "   Violent crimes 2017 (if reported by agency)  \\\n",
       "0                                          NaN   \n",
       "1                                       3564.0   \n",
       "2                                        647.0   \n",
       "\n",
       "   Violent crimes 2018 (if reported by agency)  2013 Total Arrests (UCR Data)  \\\n",
       "0                                       4025.0                            NaN   \n",
       "1                                       3824.0                        17601.0   \n",
       "2                                        606.0                         6257.0   \n",
       "\n",
       "   2014 Total Arrests  2015 Total Arrests  2016 Total Arrests  \\\n",
       "0                 NaN                 NaN                 NaN   \n",
       "1             14748.0             14387.0             13294.0   \n",
       "2              6105.0              6256.0              6151.0   \n",
       "\n",
       "   2017 Total Arrests  2018 Total Arrests  \n",
       "0                 NaN                 NaN  \n",
       "1             13871.0             13973.0  \n",
       "2              6660.0              6538.0  \n",
       "\n",
       "[3 rows x 33 columns]"
      ]
     },
     "execution_count": 6,
     "metadata": {},
     "output_type": "execute_result"
    }
   ],
   "source": [
    "data.head(3)"
   ]
  },
  {
   "cell_type": "markdown",
   "metadata": {},
   "source": [
    "## Considera solo il dataframe con gli arresti effettuati dal 2013 al 2018"
   ]
  },
  {
   "cell_type": "code",
   "execution_count": 7,
   "metadata": {},
   "outputs": [],
   "source": [
    "cols = np.concatenate((data.columns[:3], data.columns[-6:]))\n",
    "data = data[cols]"
   ]
  },
  {
   "cell_type": "code",
   "execution_count": 8,
   "metadata": {},
   "outputs": [
    {
     "data": {
      "text/html": [
       "<div>\n",
       "<style scoped>\n",
       "    .dataframe tbody tr th:only-of-type {\n",
       "        vertical-align: middle;\n",
       "    }\n",
       "\n",
       "    .dataframe tbody tr th {\n",
       "        vertical-align: top;\n",
       "    }\n",
       "\n",
       "    .dataframe thead th {\n",
       "        text-align: right;\n",
       "    }\n",
       "</style>\n",
       "<table border=\"1\" class=\"dataframe\">\n",
       "  <thead>\n",
       "    <tr style=\"text-align: right;\">\n",
       "      <th></th>\n",
       "      <th>State</th>\n",
       "      <th>City</th>\n",
       "      <th>PD</th>\n",
       "      <th>2013 Total Arrests (UCR Data)</th>\n",
       "      <th>2014 Total Arrests</th>\n",
       "      <th>2015 Total Arrests</th>\n",
       "      <th>2016 Total Arrests</th>\n",
       "      <th>2017 Total Arrests</th>\n",
       "      <th>2018 Total Arrests</th>\n",
       "    </tr>\n",
       "  </thead>\n",
       "  <tbody>\n",
       "    <tr>\n",
       "      <th>0</th>\n",
       "      <td>Alabama</td>\n",
       "      <td>Birmingham</td>\n",
       "      <td>Birmingham Police Department</td>\n",
       "      <td>NaN</td>\n",
       "      <td>NaN</td>\n",
       "      <td>NaN</td>\n",
       "      <td>NaN</td>\n",
       "      <td>NaN</td>\n",
       "      <td>NaN</td>\n",
       "    </tr>\n",
       "    <tr>\n",
       "      <th>1</th>\n",
       "      <td>Alaska</td>\n",
       "      <td>Anchorage</td>\n",
       "      <td>Anchorage Police Department</td>\n",
       "      <td>17601.0</td>\n",
       "      <td>14748.0</td>\n",
       "      <td>14387.0</td>\n",
       "      <td>13294.0</td>\n",
       "      <td>13871.0</td>\n",
       "      <td>13973.0</td>\n",
       "    </tr>\n",
       "    <tr>\n",
       "      <th>2</th>\n",
       "      <td>Arizona</td>\n",
       "      <td>Chandler</td>\n",
       "      <td>Chandler Police Department</td>\n",
       "      <td>6257.0</td>\n",
       "      <td>6105.0</td>\n",
       "      <td>6256.0</td>\n",
       "      <td>6151.0</td>\n",
       "      <td>6660.0</td>\n",
       "      <td>6538.0</td>\n",
       "    </tr>\n",
       "    <tr>\n",
       "      <th>3</th>\n",
       "      <td>Arizona</td>\n",
       "      <td>Glendale</td>\n",
       "      <td>Glendale Police Department</td>\n",
       "      <td>4530.0</td>\n",
       "      <td>3477.0</td>\n",
       "      <td>3692.0</td>\n",
       "      <td>NaN</td>\n",
       "      <td>2949.0</td>\n",
       "      <td>5405.0</td>\n",
       "    </tr>\n",
       "    <tr>\n",
       "      <th>4</th>\n",
       "      <td>Arizona</td>\n",
       "      <td>Mesa</td>\n",
       "      <td>Mesa Police Department</td>\n",
       "      <td>24509.0</td>\n",
       "      <td>24120.0</td>\n",
       "      <td>25723.0</td>\n",
       "      <td>22995.0</td>\n",
       "      <td>24344.0</td>\n",
       "      <td>20800.0</td>\n",
       "    </tr>\n",
       "  </tbody>\n",
       "</table>\n",
       "</div>"
      ],
      "text/plain": [
       "     State        City                            PD  \\\n",
       "0  Alabama  Birmingham  Birmingham Police Department   \n",
       "1   Alaska   Anchorage   Anchorage Police Department   \n",
       "2  Arizona    Chandler    Chandler Police Department   \n",
       "3  Arizona    Glendale    Glendale Police Department   \n",
       "4  Arizona        Mesa        Mesa Police Department   \n",
       "\n",
       "   2013 Total Arrests (UCR Data)  2014 Total Arrests  2015 Total Arrests  \\\n",
       "0                            NaN                 NaN                 NaN   \n",
       "1                        17601.0             14748.0             14387.0   \n",
       "2                         6257.0              6105.0              6256.0   \n",
       "3                         4530.0              3477.0              3692.0   \n",
       "4                        24509.0             24120.0             25723.0   \n",
       "\n",
       "   2016 Total Arrests  2017 Total Arrests  2018 Total Arrests  \n",
       "0                 NaN                 NaN                 NaN  \n",
       "1             13294.0             13871.0             13973.0  \n",
       "2              6151.0              6660.0              6538.0  \n",
       "3                 NaN              2949.0              5405.0  \n",
       "4             22995.0             24344.0             20800.0  "
      ]
     },
     "execution_count": 8,
     "metadata": {},
     "output_type": "execute_result"
    }
   ],
   "source": [
    "data.head(5)"
   ]
  },
  {
   "cell_type": "markdown",
   "metadata": {},
   "source": [
    "## Q1.1 Quanti Police Departments ci sono negli USA?\n",
    "\n",
    "**Linee/Punti**: 1 linea, 1 pnt  "
   ]
  },
  {
   "cell_type": "code",
   "execution_count": 9,
   "metadata": {},
   "outputs": [
    {
     "data": {
      "text/plain": [
       "100"
      ]
     },
     "execution_count": 9,
     "metadata": {},
     "output_type": "execute_result"
    }
   ],
   "source": [
    "len(data)"
   ]
  },
  {
   "cell_type": "code",
   "execution_count": 10,
   "metadata": {},
   "outputs": [
    {
     "data": {
      "text/plain": [
       "100"
      ]
     },
     "execution_count": 10,
     "metadata": {},
     "output_type": "execute_result"
    }
   ],
   "source": [
    "# Ancora meglio\n",
    "len(set(data.PD))"
   ]
  },
  {
   "cell_type": "markdown",
   "metadata": {},
   "source": [
    "## Q1.2 Quanti Police Departments ci sono nello stato del Texas?\n",
    "\n",
    "**Linee/Punti**: 1 linea, 2 pnts   "
   ]
  },
  {
   "cell_type": "code",
   "execution_count": 11,
   "metadata": {},
   "outputs": [
    {
     "data": {
      "text/plain": [
       "13"
      ]
     },
     "execution_count": 11,
     "metadata": {},
     "output_type": "execute_result"
    }
   ],
   "source": [
    "len(data[data.State == \"Texas\"]) # Perché invece molti hanno mostrato i PD di tutti gli stati?"
   ]
  },
  {
   "cell_type": "markdown",
   "metadata": {},
   "source": [
    "## Q1.3 Crea un nuovo dataframe con gli arresti effettuati nei singoli stati (per ciascuno dei sei anni considerati). Considera questo dataframe per le domande successive\n",
    "\n",
    "**Linee/Punti**: 1 linea (max 3 linee), 2 pnts   \n",
    "**Suggerimento**: Lo Stato diventa l'indice del dataframe"
   ]
  },
  {
   "cell_type": "markdown",
   "metadata": {},
   "source": [
    "### Cosa può voler dire \"con gli arresti effettuati nei singoli stati\"???\n",
    "\n",
    "### Ovviamente ridefinire l'index non è sufficiente! Uno sguardo veloce sarebbe stato sufficiente per vedere che gli stati sono ripetuti per ogni PD...."
   ]
  },
  {
   "cell_type": "code",
   "execution_count": 14,
   "metadata": {},
   "outputs": [],
   "source": [
    "arrested_per_state = data.groupby(\"State\").sum()"
   ]
  },
  {
   "cell_type": "code",
   "execution_count": 13,
   "metadata": {},
   "outputs": [
    {
     "data": {
      "text/html": [
       "<div>\n",
       "<style scoped>\n",
       "    .dataframe tbody tr th:only-of-type {\n",
       "        vertical-align: middle;\n",
       "    }\n",
       "\n",
       "    .dataframe tbody tr th {\n",
       "        vertical-align: top;\n",
       "    }\n",
       "\n",
       "    .dataframe thead th {\n",
       "        text-align: right;\n",
       "    }\n",
       "</style>\n",
       "<table border=\"1\" class=\"dataframe\">\n",
       "  <thead>\n",
       "    <tr style=\"text-align: right;\">\n",
       "      <th></th>\n",
       "      <th>2013 Total Arrests (UCR Data)</th>\n",
       "      <th>2014 Total Arrests</th>\n",
       "      <th>2015 Total Arrests</th>\n",
       "      <th>2016 Total Arrests</th>\n",
       "      <th>2017 Total Arrests</th>\n",
       "      <th>2018 Total Arrests</th>\n",
       "    </tr>\n",
       "    <tr>\n",
       "      <th>State</th>\n",
       "      <th></th>\n",
       "      <th></th>\n",
       "      <th></th>\n",
       "      <th></th>\n",
       "      <th></th>\n",
       "      <th></th>\n",
       "    </tr>\n",
       "  </thead>\n",
       "  <tbody>\n",
       "    <tr>\n",
       "      <th>Alabama</th>\n",
       "      <td>0.0</td>\n",
       "      <td>0.0</td>\n",
       "      <td>0.0</td>\n",
       "      <td>0.0</td>\n",
       "      <td>0.0</td>\n",
       "      <td>0.0</td>\n",
       "    </tr>\n",
       "    <tr>\n",
       "      <th>Alaska</th>\n",
       "      <td>17601.0</td>\n",
       "      <td>14748.0</td>\n",
       "      <td>14387.0</td>\n",
       "      <td>13294.0</td>\n",
       "      <td>13871.0</td>\n",
       "      <td>13973.0</td>\n",
       "    </tr>\n",
       "    <tr>\n",
       "      <th>Arizona</th>\n",
       "      <td>148347.0</td>\n",
       "      <td>135499.0</td>\n",
       "      <td>76875.0</td>\n",
       "      <td>115989.0</td>\n",
       "      <td>124099.0</td>\n",
       "      <td>123346.0</td>\n",
       "    </tr>\n",
       "    <tr>\n",
       "      <th>California</th>\n",
       "      <td>308383.0</td>\n",
       "      <td>310691.0</td>\n",
       "      <td>279583.0</td>\n",
       "      <td>264880.0</td>\n",
       "      <td>249156.0</td>\n",
       "      <td>243218.0</td>\n",
       "    </tr>\n",
       "    <tr>\n",
       "      <th>Colorado</th>\n",
       "      <td>60631.0</td>\n",
       "      <td>70537.0</td>\n",
       "      <td>71293.0</td>\n",
       "      <td>67937.0</td>\n",
       "      <td>66741.0</td>\n",
       "      <td>61852.0</td>\n",
       "    </tr>\n",
       "  </tbody>\n",
       "</table>\n",
       "</div>"
      ],
      "text/plain": [
       "            2013 Total Arrests (UCR Data)  2014 Total Arrests  \\\n",
       "State                                                           \n",
       "Alabama                               0.0                 0.0   \n",
       "Alaska                            17601.0             14748.0   \n",
       "Arizona                          148347.0            135499.0   \n",
       "California                       308383.0            310691.0   \n",
       "Colorado                          60631.0             70537.0   \n",
       "\n",
       "            2015 Total Arrests  2016 Total Arrests  2017 Total Arrests  \\\n",
       "State                                                                    \n",
       "Alabama                    0.0                 0.0                 0.0   \n",
       "Alaska                 14387.0             13294.0             13871.0   \n",
       "Arizona                76875.0            115989.0            124099.0   \n",
       "California            279583.0            264880.0            249156.0   \n",
       "Colorado               71293.0             67937.0             66741.0   \n",
       "\n",
       "            2018 Total Arrests  \n",
       "State                           \n",
       "Alabama                    0.0  \n",
       "Alaska                 13973.0  \n",
       "Arizona               123346.0  \n",
       "California            243218.0  \n",
       "Colorado               61852.0  "
      ]
     },
     "execution_count": 13,
     "metadata": {},
     "output_type": "execute_result"
    }
   ],
   "source": [
    "arrested_per_state.head()"
   ]
  },
  {
   "cell_type": "markdown",
   "metadata": {},
   "source": [
    "## Q1.4 Rinomina le colonne con il solo anno considerato\n",
    "**Linee/Punti**: max 2 linee, 2 pnts   \n",
    "**Suggerimento**: Rinominare usando le informazioni delle colonne, senza riscrivere 2013, 2014, etc"
   ]
  },
  {
   "cell_type": "code",
   "execution_count": 54,
   "metadata": {},
   "outputs": [],
   "source": [
    "arrested_per_state.columns = [col.split(\" \")[0] for col in arrested_per_state.columns]"
   ]
  },
  {
   "cell_type": "code",
   "execution_count": 17,
   "metadata": {},
   "outputs": [],
   "source": [
    "arrested_per_state.columns = arrested_per_state.columns.str[:4] # Questo è persino più brillante"
   ]
  },
  {
   "cell_type": "code",
   "execution_count": 18,
   "metadata": {},
   "outputs": [
    {
     "data": {
      "text/html": [
       "<div>\n",
       "<style scoped>\n",
       "    .dataframe tbody tr th:only-of-type {\n",
       "        vertical-align: middle;\n",
       "    }\n",
       "\n",
       "    .dataframe tbody tr th {\n",
       "        vertical-align: top;\n",
       "    }\n",
       "\n",
       "    .dataframe thead th {\n",
       "        text-align: right;\n",
       "    }\n",
       "</style>\n",
       "<table border=\"1\" class=\"dataframe\">\n",
       "  <thead>\n",
       "    <tr style=\"text-align: right;\">\n",
       "      <th></th>\n",
       "      <th>2013</th>\n",
       "      <th>2014</th>\n",
       "      <th>2015</th>\n",
       "      <th>2016</th>\n",
       "      <th>2017</th>\n",
       "      <th>2018</th>\n",
       "    </tr>\n",
       "    <tr>\n",
       "      <th>State</th>\n",
       "      <th></th>\n",
       "      <th></th>\n",
       "      <th></th>\n",
       "      <th></th>\n",
       "      <th></th>\n",
       "      <th></th>\n",
       "    </tr>\n",
       "  </thead>\n",
       "  <tbody>\n",
       "    <tr>\n",
       "      <th>Alabama</th>\n",
       "      <td>0.0</td>\n",
       "      <td>0.0</td>\n",
       "      <td>0.0</td>\n",
       "      <td>0.0</td>\n",
       "      <td>0.0</td>\n",
       "      <td>0.0</td>\n",
       "    </tr>\n",
       "    <tr>\n",
       "      <th>Alaska</th>\n",
       "      <td>17601.0</td>\n",
       "      <td>14748.0</td>\n",
       "      <td>14387.0</td>\n",
       "      <td>13294.0</td>\n",
       "      <td>13871.0</td>\n",
       "      <td>13973.0</td>\n",
       "    </tr>\n",
       "    <tr>\n",
       "      <th>Arizona</th>\n",
       "      <td>148347.0</td>\n",
       "      <td>135499.0</td>\n",
       "      <td>76875.0</td>\n",
       "      <td>115989.0</td>\n",
       "      <td>124099.0</td>\n",
       "      <td>123346.0</td>\n",
       "    </tr>\n",
       "    <tr>\n",
       "      <th>California</th>\n",
       "      <td>308383.0</td>\n",
       "      <td>310691.0</td>\n",
       "      <td>279583.0</td>\n",
       "      <td>264880.0</td>\n",
       "      <td>249156.0</td>\n",
       "      <td>243218.0</td>\n",
       "    </tr>\n",
       "    <tr>\n",
       "      <th>Colorado</th>\n",
       "      <td>60631.0</td>\n",
       "      <td>70537.0</td>\n",
       "      <td>71293.0</td>\n",
       "      <td>67937.0</td>\n",
       "      <td>66741.0</td>\n",
       "      <td>61852.0</td>\n",
       "    </tr>\n",
       "  </tbody>\n",
       "</table>\n",
       "</div>"
      ],
      "text/plain": [
       "                2013      2014      2015      2016      2017      2018\n",
       "State                                                                 \n",
       "Alabama          0.0       0.0       0.0       0.0       0.0       0.0\n",
       "Alaska       17601.0   14748.0   14387.0   13294.0   13871.0   13973.0\n",
       "Arizona     148347.0  135499.0   76875.0  115989.0  124099.0  123346.0\n",
       "California  308383.0  310691.0  279583.0  264880.0  249156.0  243218.0\n",
       "Colorado     60631.0   70537.0   71293.0   67937.0   66741.0   61852.0"
      ]
     },
     "execution_count": 18,
     "metadata": {},
     "output_type": "execute_result"
    }
   ],
   "source": [
    "arrested_per_state.head()"
   ]
  },
  {
   "cell_type": "markdown",
   "metadata": {},
   "source": [
    "## Q1.5 Eliminare gli stati per cui non si hanno dati in tutti gli anni (come l'Alabama)\n",
    "\n",
    "**Mark**: max 2 lines, 2 pnts   "
   ]
  },
  {
   "cell_type": "markdown",
   "metadata": {},
   "source": [
    "### Attenzione qui a utlizzare dropna(), perché i valori esistono per tutti, anche se sono talvolta zero. Meglio andare sul sicuro"
   ]
  },
  {
   "cell_type": "code",
   "execution_count": 23,
   "metadata": {},
   "outputs": [],
   "source": [
    "arrested_per_state = arrested_per_state[arrested_per_state.sum(axis=1) > 0] # Sommo sulle righe"
   ]
  },
  {
   "cell_type": "code",
   "execution_count": 24,
   "metadata": {},
   "outputs": [
    {
     "data": {
      "text/html": [
       "<div>\n",
       "<style scoped>\n",
       "    .dataframe tbody tr th:only-of-type {\n",
       "        vertical-align: middle;\n",
       "    }\n",
       "\n",
       "    .dataframe tbody tr th {\n",
       "        vertical-align: top;\n",
       "    }\n",
       "\n",
       "    .dataframe thead th {\n",
       "        text-align: right;\n",
       "    }\n",
       "</style>\n",
       "<table border=\"1\" class=\"dataframe\">\n",
       "  <thead>\n",
       "    <tr style=\"text-align: right;\">\n",
       "      <th></th>\n",
       "      <th>2013</th>\n",
       "      <th>2014</th>\n",
       "      <th>2015</th>\n",
       "      <th>2016</th>\n",
       "      <th>2017</th>\n",
       "      <th>2018</th>\n",
       "    </tr>\n",
       "    <tr>\n",
       "      <th>State</th>\n",
       "      <th></th>\n",
       "      <th></th>\n",
       "      <th></th>\n",
       "      <th></th>\n",
       "      <th></th>\n",
       "      <th></th>\n",
       "    </tr>\n",
       "  </thead>\n",
       "  <tbody>\n",
       "    <tr>\n",
       "      <th>Alaska</th>\n",
       "      <td>17601.0</td>\n",
       "      <td>14748.0</td>\n",
       "      <td>14387.0</td>\n",
       "      <td>13294.0</td>\n",
       "      <td>13871.0</td>\n",
       "      <td>13973.0</td>\n",
       "    </tr>\n",
       "    <tr>\n",
       "      <th>Arizona</th>\n",
       "      <td>148347.0</td>\n",
       "      <td>135499.0</td>\n",
       "      <td>76875.0</td>\n",
       "      <td>115989.0</td>\n",
       "      <td>124099.0</td>\n",
       "      <td>123346.0</td>\n",
       "    </tr>\n",
       "    <tr>\n",
       "      <th>California</th>\n",
       "      <td>308383.0</td>\n",
       "      <td>310691.0</td>\n",
       "      <td>279583.0</td>\n",
       "      <td>264880.0</td>\n",
       "      <td>249156.0</td>\n",
       "      <td>243218.0</td>\n",
       "    </tr>\n",
       "    <tr>\n",
       "      <th>Colorado</th>\n",
       "      <td>60631.0</td>\n",
       "      <td>70537.0</td>\n",
       "      <td>71293.0</td>\n",
       "      <td>67937.0</td>\n",
       "      <td>66741.0</td>\n",
       "      <td>61852.0</td>\n",
       "    </tr>\n",
       "    <tr>\n",
       "      <th>District of Columbia</th>\n",
       "      <td>41630.0</td>\n",
       "      <td>41186.0</td>\n",
       "      <td>36219.0</td>\n",
       "      <td>44175.0</td>\n",
       "      <td>53028.0</td>\n",
       "      <td>47147.0</td>\n",
       "    </tr>\n",
       "  </tbody>\n",
       "</table>\n",
       "</div>"
      ],
      "text/plain": [
       "                          2013      2014      2015      2016      2017  \\\n",
       "State                                                                    \n",
       "Alaska                 17601.0   14748.0   14387.0   13294.0   13871.0   \n",
       "Arizona               148347.0  135499.0   76875.0  115989.0  124099.0   \n",
       "California            308383.0  310691.0  279583.0  264880.0  249156.0   \n",
       "Colorado               60631.0   70537.0   71293.0   67937.0   66741.0   \n",
       "District of Columbia   41630.0   41186.0   36219.0   44175.0   53028.0   \n",
       "\n",
       "                          2018  \n",
       "State                           \n",
       "Alaska                 13973.0  \n",
       "Arizona               123346.0  \n",
       "California            243218.0  \n",
       "Colorado               61852.0  \n",
       "District of Columbia   47147.0  "
      ]
     },
     "execution_count": 24,
     "metadata": {},
     "output_type": "execute_result"
    }
   ],
   "source": [
    "arrested_per_state.head()"
   ]
  },
  {
   "cell_type": "markdown",
   "metadata": {},
   "source": [
    "## Q1.6 Invertire le righe con le colonne\n",
    "\n",
    "**Linee/Punti**: 1 linea, 2 pnts   "
   ]
  },
  {
   "cell_type": "code",
   "execution_count": 25,
   "metadata": {},
   "outputs": [],
   "source": [
    "arrested_per_state = arrested_per_state.T # equivalente a arrested_per_state.transpose()"
   ]
  },
  {
   "cell_type": "code",
   "execution_count": 26,
   "metadata": {},
   "outputs": [
    {
     "data": {
      "text/html": [
       "<div>\n",
       "<style scoped>\n",
       "    .dataframe tbody tr th:only-of-type {\n",
       "        vertical-align: middle;\n",
       "    }\n",
       "\n",
       "    .dataframe tbody tr th {\n",
       "        vertical-align: top;\n",
       "    }\n",
       "\n",
       "    .dataframe thead th {\n",
       "        text-align: right;\n",
       "    }\n",
       "</style>\n",
       "<table border=\"1\" class=\"dataframe\">\n",
       "  <thead>\n",
       "    <tr style=\"text-align: right;\">\n",
       "      <th>State</th>\n",
       "      <th>Alaska</th>\n",
       "      <th>Arizona</th>\n",
       "      <th>California</th>\n",
       "      <th>Colorado</th>\n",
       "      <th>District of Columbia</th>\n",
       "      <th>Florida</th>\n",
       "      <th>Georgia</th>\n",
       "      <th>Illinois</th>\n",
       "      <th>Indiana</th>\n",
       "      <th>Kansas</th>\n",
       "      <th>...</th>\n",
       "      <th>North Carolina</th>\n",
       "      <th>Ohio</th>\n",
       "      <th>Oklahoma</th>\n",
       "      <th>Oregon</th>\n",
       "      <th>Pennsylvania</th>\n",
       "      <th>Tennessee</th>\n",
       "      <th>Texas</th>\n",
       "      <th>Virginia</th>\n",
       "      <th>Washington</th>\n",
       "      <th>Wisconsin</th>\n",
       "    </tr>\n",
       "  </thead>\n",
       "  <tbody>\n",
       "    <tr>\n",
       "      <th>2013</th>\n",
       "      <td>17601.0</td>\n",
       "      <td>148347.0</td>\n",
       "      <td>308383.0</td>\n",
       "      <td>60631.0</td>\n",
       "      <td>41630.0</td>\n",
       "      <td>133277.0</td>\n",
       "      <td>30505.0</td>\n",
       "      <td>112862.0</td>\n",
       "      <td>39493.0</td>\n",
       "      <td>10566.0</td>\n",
       "      <td>...</td>\n",
       "      <td>90093.0</td>\n",
       "      <td>21990.0</td>\n",
       "      <td>35690.0</td>\n",
       "      <td>0.0</td>\n",
       "      <td>104121.0</td>\n",
       "      <td>99538.0</td>\n",
       "      <td>359373.0</td>\n",
       "      <td>51147.0</td>\n",
       "      <td>25754.0</td>\n",
       "      <td>51135.0</td>\n",
       "    </tr>\n",
       "    <tr>\n",
       "      <th>2014</th>\n",
       "      <td>14748.0</td>\n",
       "      <td>135499.0</td>\n",
       "      <td>310691.0</td>\n",
       "      <td>70537.0</td>\n",
       "      <td>41186.0</td>\n",
       "      <td>126267.0</td>\n",
       "      <td>26958.0</td>\n",
       "      <td>100346.0</td>\n",
       "      <td>39156.0</td>\n",
       "      <td>9323.0</td>\n",
       "      <td>...</td>\n",
       "      <td>64516.0</td>\n",
       "      <td>17182.0</td>\n",
       "      <td>34254.0</td>\n",
       "      <td>20160.0</td>\n",
       "      <td>98205.0</td>\n",
       "      <td>87033.0</td>\n",
       "      <td>300192.0</td>\n",
       "      <td>47165.0</td>\n",
       "      <td>31717.0</td>\n",
       "      <td>41913.0</td>\n",
       "    </tr>\n",
       "    <tr>\n",
       "      <th>2015</th>\n",
       "      <td>14387.0</td>\n",
       "      <td>76875.0</td>\n",
       "      <td>279583.0</td>\n",
       "      <td>71293.0</td>\n",
       "      <td>36219.0</td>\n",
       "      <td>114661.0</td>\n",
       "      <td>0.0</td>\n",
       "      <td>84215.0</td>\n",
       "      <td>44674.0</td>\n",
       "      <td>9307.0</td>\n",
       "      <td>...</td>\n",
       "      <td>59715.0</td>\n",
       "      <td>16383.0</td>\n",
       "      <td>35429.0</td>\n",
       "      <td>0.0</td>\n",
       "      <td>82235.0</td>\n",
       "      <td>80121.0</td>\n",
       "      <td>283852.0</td>\n",
       "      <td>38878.0</td>\n",
       "      <td>38024.0</td>\n",
       "      <td>36464.0</td>\n",
       "    </tr>\n",
       "    <tr>\n",
       "      <th>2016</th>\n",
       "      <td>13294.0</td>\n",
       "      <td>115989.0</td>\n",
       "      <td>264880.0</td>\n",
       "      <td>67937.0</td>\n",
       "      <td>44175.0</td>\n",
       "      <td>102063.0</td>\n",
       "      <td>22161.0</td>\n",
       "      <td>61507.0</td>\n",
       "      <td>42600.0</td>\n",
       "      <td>9120.0</td>\n",
       "      <td>...</td>\n",
       "      <td>54254.0</td>\n",
       "      <td>13975.0</td>\n",
       "      <td>32885.0</td>\n",
       "      <td>20322.0</td>\n",
       "      <td>65704.0</td>\n",
       "      <td>74564.0</td>\n",
       "      <td>273124.0</td>\n",
       "      <td>34560.0</td>\n",
       "      <td>14569.0</td>\n",
       "      <td>32509.0</td>\n",
       "    </tr>\n",
       "    <tr>\n",
       "      <th>2017</th>\n",
       "      <td>13871.0</td>\n",
       "      <td>124099.0</td>\n",
       "      <td>249156.0</td>\n",
       "      <td>66741.0</td>\n",
       "      <td>53028.0</td>\n",
       "      <td>90420.0</td>\n",
       "      <td>22581.0</td>\n",
       "      <td>57523.0</td>\n",
       "      <td>46362.0</td>\n",
       "      <td>8322.0</td>\n",
       "      <td>...</td>\n",
       "      <td>40651.0</td>\n",
       "      <td>28226.0</td>\n",
       "      <td>29912.0</td>\n",
       "      <td>19107.0</td>\n",
       "      <td>66223.0</td>\n",
       "      <td>70614.0</td>\n",
       "      <td>258067.0</td>\n",
       "      <td>35440.0</td>\n",
       "      <td>19494.0</td>\n",
       "      <td>31949.0</td>\n",
       "    </tr>\n",
       "  </tbody>\n",
       "</table>\n",
       "<p>5 rows × 33 columns</p>\n",
       "</div>"
      ],
      "text/plain": [
       "State   Alaska   Arizona  California  Colorado  District of Columbia  \\\n",
       "2013   17601.0  148347.0    308383.0   60631.0               41630.0   \n",
       "2014   14748.0  135499.0    310691.0   70537.0               41186.0   \n",
       "2015   14387.0   76875.0    279583.0   71293.0               36219.0   \n",
       "2016   13294.0  115989.0    264880.0   67937.0               44175.0   \n",
       "2017   13871.0  124099.0    249156.0   66741.0               53028.0   \n",
       "\n",
       "State   Florida  Georgia  Illinois  Indiana   Kansas  ...  North Carolina  \\\n",
       "2013   133277.0  30505.0  112862.0  39493.0  10566.0  ...         90093.0   \n",
       "2014   126267.0  26958.0  100346.0  39156.0   9323.0  ...         64516.0   \n",
       "2015   114661.0      0.0   84215.0  44674.0   9307.0  ...         59715.0   \n",
       "2016   102063.0  22161.0   61507.0  42600.0   9120.0  ...         54254.0   \n",
       "2017    90420.0  22581.0   57523.0  46362.0   8322.0  ...         40651.0   \n",
       "\n",
       "State     Ohio  Oklahoma   Oregon  Pennsylvania  Tennessee     Texas  \\\n",
       "2013   21990.0   35690.0      0.0      104121.0    99538.0  359373.0   \n",
       "2014   17182.0   34254.0  20160.0       98205.0    87033.0  300192.0   \n",
       "2015   16383.0   35429.0      0.0       82235.0    80121.0  283852.0   \n",
       "2016   13975.0   32885.0  20322.0       65704.0    74564.0  273124.0   \n",
       "2017   28226.0   29912.0  19107.0       66223.0    70614.0  258067.0   \n",
       "\n",
       "State  Virginia  Washington  Wisconsin  \n",
       "2013    51147.0     25754.0    51135.0  \n",
       "2014    47165.0     31717.0    41913.0  \n",
       "2015    38878.0     38024.0    36464.0  \n",
       "2016    34560.0     14569.0    32509.0  \n",
       "2017    35440.0     19494.0    31949.0  \n",
       "\n",
       "[5 rows x 33 columns]"
      ]
     },
     "execution_count": 26,
     "metadata": {},
     "output_type": "execute_result"
    }
   ],
   "source": [
    "arrested_per_state.head()"
   ]
  },
  {
   "cell_type": "markdown",
   "metadata": {},
   "source": [
    "## Q1.7 Mostrare l'andamento degli arresti negli anni in California. Inserire i nomi degli assi per una maggiore comprensione del grafico.\n",
    "\n",
    "**Linee/Punti**: max 3 linee, 2 pnts   "
   ]
  },
  {
   "cell_type": "code",
   "execution_count": 27,
   "metadata": {},
   "outputs": [
    {
     "data": {
      "image/png": "[encoded data removed]",
      "text/plain": [
       "<Figure size 432x288 with 1 Axes>"
      ]
     },
     "metadata": {
      "needs_background": "light"
     },
     "output_type": "display_data"
    }
   ],
   "source": [
    "ax = arrested_per_state['California'].plot()\n",
    "ax.set_xlabel(\"Anno\")\n",
    "ax.set_ylabel(\"# Arresti\");"
   ]
  },
  {
   "cell_type": "code",
   "execution_count": 28,
   "metadata": {},
   "outputs": [
    {
     "data": {
      "image/png": "[encoded data removed]",
      "text/plain": [
       "<Figure size 432x288 with 1 Axes>"
      ]
     },
     "metadata": {
      "needs_background": "light"
     },
     "output_type": "display_data"
    }
   ],
   "source": [
    "ax = arrested_per_state['California'].plot(kind='bar')\n",
    "ax.set_xlabel(\"Anno\")\n",
    "ax.set_ylabel(\"# Arresti\");"
   ]
  },
  {
   "cell_type": "markdown",
   "metadata": {},
   "source": [
    "## Q1.8 Quali sono i 5 stati con le medie annuali di arresti più alte?\n",
    "\n",
    "**Linee/Punti**: max 3 linee, 2 pnts   "
   ]
  },
  {
   "cell_type": "code",
   "execution_count": 29,
   "metadata": {},
   "outputs": [
    {
     "data": {
      "text/plain": [
       "State\n",
       "New York      340099.0\n",
       "Texas         288166.0\n",
       "California    275985.0\n",
       "Arizona       120692.0\n",
       "Florida       109795.0\n",
       "dtype: float64"
      ]
     },
     "execution_count": 29,
     "metadata": {},
     "output_type": "execute_result"
    }
   ],
   "source": [
    "arrested_per_state.mean().sort_values(ascending=False)[:5].round(0)"
   ]
  },
  {
   "cell_type": "markdown",
   "metadata": {},
   "source": [
    "## PS. Secondo questo database, in media un \"black\" viene ucciso ogni 3 giorni. "
   ]
  },
  {
   "cell_type": "code",
   "execution_count": null,
   "metadata": {},
   "outputs": [],
   "source": []
  }
 ],
 "metadata": {
  "kernelspec": {
   "display_name": "Python 3",
   "language": "python",
   "name": "python3"
  },
  "language_info": {
   "codemirror_mode": {
    "name": "ipython",
    "version": 3
   },
   "file_extension": ".py",
   "mimetype": "text/x-python",
   "name": "python",
   "nbconvert_exporter": "python",
   "pygments_lexer": "ipython3",
   "version": "3.8.1"
  }
 },
 "nbformat": 4,
 "nbformat_minor": 4
}
